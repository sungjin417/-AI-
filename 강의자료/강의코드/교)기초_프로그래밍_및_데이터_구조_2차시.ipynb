{
 "cells": [
  {
   "cell_type": "markdown",
   "id": "05997d87",
   "metadata": {},
   "source": [
    "\n",
    "# 🌼 기초 프로그래밍 및 데이터 구조 - 2차시(24.10.24)\n",
    "\n",
    "---\n"
   ]
  },
  {
   "cell_type": "markdown",
   "id": "444e694c",
   "metadata": {},
   "source": [
    "## 1. 파이썬 자료형\n",
    "\n",
    "파이썬에서 자주 사용되는 자료형:\n",
    "\n",
    "- `정수형(Integer)`  \n",
    "정수를 나타내는 자료형 (int)  \n",
    "\n",
    "- `실수형(Float)`  \n",
    "실수를 나타내는 자료형 (float)  \n",
    "\n",
    "- `문자열(String)`  \n",
    "문자를 나타내는 자료형 (str)  \n",
    "\n",
    "- `불형(Boolean)`  \n",
    "참(True)과 거짓(False)을 나타내는 자료형 (bool)\n"
   ]
  },
  {
   "cell_type": "markdown",
   "id": "399d2376",
   "metadata": {},
   "source": [
    "## 2. 정수형과 실수형\n",
    "\n",
    "정수형(`int`)과 실수형(`float`)은 숫자를 표현하는 자료형.\n",
    "- 정수형은 소수점이 없는 숫자를, 실수형은 소수점이 있는 숫자를 나타냄"
   ]
  },
  {
   "cell_type": "code",
   "execution_count": 1,
   "id": "c6c8f24c",
   "metadata": {},
   "outputs": [],
   "source": [
    "a = 10\n",
    "b = 3.141592\n",
    "c = 100.0\n",
    "d = -3\n",
    "e = -8.5"
   ]
  },
  {
   "cell_type": "code",
   "execution_count": 3,
   "id": "6c895ef3",
   "metadata": {},
   "outputs": [
    {
     "name": "stdout",
     "output_type": "stream",
     "text": [
      "a : 10, 자료형 : <class 'int'>\n"
     ]
    }
   ],
   "source": [
    "print(f'a : {a}, 자료형 : {type(a)}')"
   ]
  },
  {
   "cell_type": "code",
   "execution_count": 4,
   "id": "71a532d6",
   "metadata": {},
   "outputs": [
    {
     "name": "stdout",
     "output_type": "stream",
     "text": [
      "b : 3.141592, 자료형 : <class 'float'>\n"
     ]
    }
   ],
   "source": [
    "print(f'b : {b}, 자료형 : {type(b)}')"
   ]
  },
  {
   "cell_type": "code",
   "execution_count": 5,
   "id": "d17bab8a",
   "metadata": {},
   "outputs": [
    {
     "name": "stdout",
     "output_type": "stream",
     "text": [
      "c : 100.0, 자료형 : <class 'float'>\n"
     ]
    }
   ],
   "source": [
    "print(f'c : {c}, 자료형 : {type(c)}')"
   ]
  },
  {
   "cell_type": "code",
   "execution_count": 6,
   "id": "2ce82254",
   "metadata": {},
   "outputs": [
    {
     "name": "stdout",
     "output_type": "stream",
     "text": [
      "d : -3, 자료형 : <class 'int'>\n"
     ]
    }
   ],
   "source": [
    "print(f'd : {d}, 자료형 : {type(d)}')"
   ]
  },
  {
   "cell_type": "code",
   "execution_count": 7,
   "id": "f8cb5143",
   "metadata": {},
   "outputs": [
    {
     "name": "stdout",
     "output_type": "stream",
     "text": [
      "e : -8.5, 자료형 : <class 'float'>\n"
     ]
    }
   ],
   "source": [
    "print(f'e : {e}, 자료형 : {type(e)}')"
   ]
  },
  {
   "cell_type": "markdown",
   "id": "521eeff8",
   "metadata": {},
   "source": [
    "### 정수와 실수 간 형변환"
   ]
  },
  {
   "cell_type": "code",
   "execution_count": 11,
   "id": "5d4c5c50",
   "metadata": {},
   "outputs": [
    {
     "data": {
      "text/plain": [
       "10"
      ]
     },
     "execution_count": 11,
     "metadata": {},
     "output_type": "execute_result"
    }
   ],
   "source": [
    "a"
   ]
  },
  {
   "cell_type": "code",
   "execution_count": 10,
   "id": "9a724f7e",
   "metadata": {},
   "outputs": [],
   "source": [
    "a = 10"
   ]
  },
  {
   "cell_type": "code",
   "execution_count": 13,
   "id": "f81d6ea1",
   "metadata": {},
   "outputs": [
    {
     "name": "stdout",
     "output_type": "stream",
     "text": [
      "10.0\n"
     ]
    }
   ],
   "source": [
    "# 정수형 a를 실수형으로 형 변환\n",
    "f = float(a)\n",
    "print(f)"
   ]
  },
  {
   "cell_type": "code",
   "execution_count": 14,
   "id": "409cabe9",
   "metadata": {},
   "outputs": [
    {
     "name": "stdout",
     "output_type": "stream",
     "text": [
      "변환된 b의 값 : 3, 자료형 : <class 'int'>\n"
     ]
    }
   ],
   "source": [
    "# 실수형 b를 정수형으로 형 변환\n",
    "g = int(b)\n",
    "print(f'변환된 b의 값 : {g}, 자료형 : {type(g)}')"
   ]
  },
  {
   "cell_type": "code",
   "execution_count": 15,
   "id": "d1cfc5b7",
   "metadata": {},
   "outputs": [
    {
     "data": {
      "text/plain": [
       "3.141592"
      ]
     },
     "execution_count": 15,
     "metadata": {},
     "output_type": "execute_result"
    }
   ],
   "source": [
    "b"
   ]
  },
  {
   "cell_type": "markdown",
   "id": "303650c5",
   "metadata": {},
   "source": [
    "### 기본 산술 연산"
   ]
  },
  {
   "cell_type": "code",
   "execution_count": 16,
   "id": "0ca1c985",
   "metadata": {},
   "outputs": [
    {
     "data": {
      "text/plain": [
       "10"
      ]
     },
     "execution_count": 16,
     "metadata": {},
     "output_type": "execute_result"
    }
   ],
   "source": [
    "a"
   ]
  },
  {
   "cell_type": "code",
   "execution_count": 17,
   "id": "531b96b9",
   "metadata": {},
   "outputs": [
    {
     "ename": "NameError",
     "evalue": "name 'A' is not defined",
     "output_type": "error",
     "traceback": [
      "\u001b[1;31m---------------------------------------------------------------------------\u001b[0m",
      "\u001b[1;31mNameError\u001b[0m                                 Traceback (most recent call last)",
      "Cell \u001b[1;32mIn[17], line 1\u001b[0m\n\u001b[1;32m----> 1\u001b[0m \u001b[43mA\u001b[49m\n",
      "\u001b[1;31mNameError\u001b[0m: name 'A' is not defined"
     ]
    }
   ],
   "source": [
    "A"
   ]
  },
  {
   "cell_type": "code",
   "execution_count": 21,
   "id": "d26c9e79",
   "metadata": {},
   "outputs": [],
   "source": [
    "A = 2\n",
    "B = -5\n",
    "C = 9\n",
    "D = 45\n",
    "E = 10\n",
    "# python에서 대문자와 소문자를 구분한다"
   ]
  },
  {
   "cell_type": "markdown",
   "id": "22b1494d",
   "metadata": {},
   "source": [
    "### 덧셈"
   ]
  },
  {
   "cell_type": "code",
   "execution_count": 22,
   "id": "adf2b12b",
   "metadata": {},
   "outputs": [
    {
     "name": "stdout",
     "output_type": "stream",
     "text": [
      "2 더하기 9 는 11 입니다.\n"
     ]
    }
   ],
   "source": [
    "print(f'{A} 더하기 {C} 는 {A+C} 입니다.')\n",
    "# 아무문자나 쓰셔도 됩니다"
   ]
  },
  {
   "cell_type": "markdown",
   "id": "e0e6af90",
   "metadata": {},
   "source": [
    "### 뺄셈"
   ]
  },
  {
   "cell_type": "code",
   "execution_count": 23,
   "id": "b2f6f2c1",
   "metadata": {},
   "outputs": [
    {
     "name": "stdout",
     "output_type": "stream",
     "text": [
      "9 빼기 2는 7입니다.\n"
     ]
    }
   ],
   "source": [
    "# 9 - 2\n",
    "print(f'{C} 빼기 {A}는 {C-A}입니다.')"
   ]
  },
  {
   "cell_type": "markdown",
   "id": "f8ddf49d",
   "metadata": {},
   "source": [
    "### 곱셈"
   ]
  },
  {
   "cell_type": "code",
   "execution_count": 24,
   "id": "bdec146f",
   "metadata": {},
   "outputs": [
    {
     "name": "stdout",
     "output_type": "stream",
     "text": [
      "9 곱하기 10는 90입니다.\n"
     ]
    }
   ],
   "source": [
    "# 9 x 10\n",
    "print(f'{C} 곱하기 {E}는 {C*E}입니다.')"
   ]
  },
  {
   "cell_type": "markdown",
   "id": "b3f2761d",
   "metadata": {},
   "source": [
    "### 나눗셈"
   ]
  },
  {
   "cell_type": "code",
   "execution_count": 25,
   "id": "28ce7fbc",
   "metadata": {},
   "outputs": [
    {
     "name": "stdout",
     "output_type": "stream",
     "text": [
      "45 나누기 9는 5.0 입니다.\n"
     ]
    }
   ],
   "source": [
    "# 45/9\n",
    "print(f'{D} 나누기 {C}는 {D/C} 입니다.')"
   ]
  },
  {
   "cell_type": "markdown",
   "id": "d6ed5047",
   "metadata": {},
   "source": [
    "### 나머지"
   ]
  },
  {
   "cell_type": "code",
   "execution_count": 26,
   "id": "dd450e6d",
   "metadata": {},
   "outputs": [],
   "source": [
    "F = 10\n",
    "G = 3"
   ]
  },
  {
   "cell_type": "code",
   "execution_count": 27,
   "id": "37038d95",
   "metadata": {},
   "outputs": [
    {
     "name": "stdout",
     "output_type": "stream",
     "text": [
      "10와 3 를 나눈 나머지는 1 입니다\n"
     ]
    }
   ],
   "source": [
    "# F와 3을 나눈 나머지\n",
    "print(f'{F}와 {G} 를 나눈 나머지는 {F%G} 입니다')"
   ]
  },
  {
   "cell_type": "markdown",
   "id": "78ff25f9",
   "metadata": {},
   "source": [
    "### 몫"
   ]
  },
  {
   "cell_type": "code",
   "execution_count": 28,
   "id": "71923b18",
   "metadata": {},
   "outputs": [
    {
     "name": "stdout",
     "output_type": "stream",
     "text": [
      "10와 3를 나눈 몫은 3\n"
     ]
    }
   ],
   "source": [
    "# F와 G를 나눈 몫\n",
    "print(f'{F}와 {G}를 나눈 몫은 {F//G}')"
   ]
  },
  {
   "cell_type": "markdown",
   "id": "9b370101",
   "metadata": {},
   "source": [
    "### 거듭제곱"
   ]
  },
  {
   "cell_type": "code",
   "execution_count": 29,
   "id": "3728d491",
   "metadata": {},
   "outputs": [
    {
     "name": "stdout",
     "output_type": "stream",
     "text": [
      "3의 3제곱은 27입니다\n"
     ]
    }
   ],
   "source": [
    "# G의 3제곱\n",
    "print(f'{G}의 3제곱은 {G**3}입니다')"
   ]
  },
  {
   "cell_type": "markdown",
   "id": "8756d0db",
   "metadata": {},
   "source": [
    "\n",
    "## 3. 문자열(String)\n",
    "\n",
    "문자열(`str`)은 문자의 집합  \n",
    "문자열은 작은따옴표(' ') 또는 큰따옴표(\" \")로 묶어 표현할 수 있음"
   ]
  },
  {
   "cell_type": "code",
   "execution_count": 1,
   "id": "94c68fe6",
   "metadata": {},
   "outputs": [],
   "source": [
    "str = 'python'"
   ]
  },
  {
   "cell_type": "code",
   "execution_count": 2,
   "id": "fe10b724",
   "metadata": {},
   "outputs": [
    {
     "name": "stdout",
     "output_type": "stream",
     "text": [
      "python\n"
     ]
    }
   ],
   "source": [
    "print(str)"
   ]
  },
  {
   "cell_type": "code",
   "execution_count": 3,
   "id": "d8a8902b",
   "metadata": {},
   "outputs": [],
   "source": [
    "str2 = 'string'"
   ]
  },
  {
   "cell_type": "code",
   "execution_count": 4,
   "id": "19dfd733",
   "metadata": {},
   "outputs": [
    {
     "name": "stdout",
     "output_type": "stream",
     "text": [
      "string\n"
     ]
    }
   ],
   "source": [
    "print(str2)"
   ]
  },
  {
   "cell_type": "code",
   "execution_count": 5,
   "id": "47b0d4f2",
   "metadata": {},
   "outputs": [],
   "source": [
    "str2 = \"string,\""
   ]
  },
  {
   "cell_type": "code",
   "execution_count": 6,
   "id": "a96a32c9",
   "metadata": {},
   "outputs": [
    {
     "name": "stdout",
     "output_type": "stream",
     "text": [
      "string,\n"
     ]
    }
   ],
   "source": [
    "print(str2)"
   ]
  },
  {
   "cell_type": "code",
   "execution_count": 12,
   "id": "f0807edc",
   "metadata": {},
   "outputs": [],
   "source": [
    "sent = '''그녀는 말했다. \"나는 배가 고파\"'''"
   ]
  },
  {
   "cell_type": "code",
   "execution_count": 13,
   "id": "609fb8a6",
   "metadata": {},
   "outputs": [
    {
     "name": "stdout",
     "output_type": "stream",
     "text": [
      "그녀는 말했다. \"나는 배가 고파\"\n"
     ]
    }
   ],
   "source": [
    "print(sent)"
   ]
  },
  {
   "cell_type": "markdown",
   "id": "1b21d3c8",
   "metadata": {},
   "source": [
    "### 연결"
   ]
  },
  {
   "cell_type": "code",
   "execution_count": 14,
   "id": "05580b90",
   "metadata": {},
   "outputs": [],
   "source": [
    "str1 = 'Hello'\n",
    "str2 = 'World'"
   ]
  },
  {
   "cell_type": "code",
   "execution_count": 15,
   "id": "605aa995",
   "metadata": {},
   "outputs": [
    {
     "data": {
      "text/plain": [
       "'HelloWorld'"
      ]
     },
     "execution_count": 15,
     "metadata": {},
     "output_type": "execute_result"
    }
   ],
   "source": [
    "str1+str2"
   ]
  },
  {
   "cell_type": "code",
   "execution_count": 16,
   "id": "bdaacd5e",
   "metadata": {},
   "outputs": [
    {
     "name": "stdout",
     "output_type": "stream",
     "text": [
      "Hello World\n"
     ]
    }
   ],
   "source": [
    "str3 = str1 + ' ' + str2\n",
    "print(str3)"
   ]
  },
  {
   "cell_type": "markdown",
   "id": "e50466d9",
   "metadata": {},
   "source": [
    "### 반복"
   ]
  },
  {
   "cell_type": "code",
   "execution_count": 18,
   "id": "48e58999",
   "metadata": {},
   "outputs": [
    {
     "name": "stdout",
     "output_type": "stream",
     "text": [
      "Hello Hello Hello \n"
     ]
    }
   ],
   "source": [
    "str4 = (str1 + ' ') *3\n",
    "print(str4)"
   ]
  },
  {
   "cell_type": "markdown",
   "id": "f465dc8a",
   "metadata": {},
   "source": [
    "### 인덱싱"
   ]
  },
  {
   "cell_type": "code",
   "execution_count": 23,
   "id": "4427e76f",
   "metadata": {},
   "outputs": [
    {
     "data": {
      "text/plain": [
       "'Hello World'"
      ]
     },
     "execution_count": 23,
     "metadata": {},
     "output_type": "execute_result"
    }
   ],
   "source": [
    "str3"
   ]
  },
  {
   "cell_type": "code",
   "execution_count": 20,
   "id": "fd1aacd1",
   "metadata": {},
   "outputs": [
    {
     "data": {
      "text/plain": [
       "'H'"
      ]
     },
     "execution_count": 20,
     "metadata": {},
     "output_type": "execute_result"
    }
   ],
   "source": [
    "str3[0]"
   ]
  },
  {
   "cell_type": "code",
   "execution_count": 21,
   "id": "9757ee05",
   "metadata": {},
   "outputs": [
    {
     "data": {
      "text/plain": [
       "'e'"
      ]
     },
     "execution_count": 21,
     "metadata": {},
     "output_type": "execute_result"
    }
   ],
   "source": [
    "str3[1]"
   ]
  },
  {
   "cell_type": "code",
   "execution_count": 22,
   "id": "03d29784",
   "metadata": {},
   "outputs": [
    {
     "data": {
      "text/plain": [
       "'l'"
      ]
     },
     "execution_count": 22,
     "metadata": {},
     "output_type": "execute_result"
    }
   ],
   "source": [
    "str3[2]"
   ]
  },
  {
   "cell_type": "code",
   "execution_count": 24,
   "id": "548e0069",
   "metadata": {},
   "outputs": [
    {
     "data": {
      "text/plain": [
       "' '"
      ]
     },
     "execution_count": 24,
     "metadata": {},
     "output_type": "execute_result"
    }
   ],
   "source": [
    "str3[5]"
   ]
  },
  {
   "cell_type": "code",
   "execution_count": 25,
   "id": "82dd576e",
   "metadata": {},
   "outputs": [
    {
     "data": {
      "text/plain": [
       "'d'"
      ]
     },
     "execution_count": 25,
     "metadata": {},
     "output_type": "execute_result"
    }
   ],
   "source": [
    "str3[10]"
   ]
  },
  {
   "cell_type": "code",
   "execution_count": 26,
   "id": "f47e48cf",
   "metadata": {},
   "outputs": [
    {
     "data": {
      "text/plain": [
       "'d'"
      ]
     },
     "execution_count": 26,
     "metadata": {},
     "output_type": "execute_result"
    }
   ],
   "source": [
    "str3[-1]"
   ]
  },
  {
   "cell_type": "markdown",
   "id": "3842bdbc",
   "metadata": {},
   "source": [
    "### 슬라이싱"
   ]
  },
  {
   "cell_type": "code",
   "execution_count": 27,
   "id": "b98603ec",
   "metadata": {},
   "outputs": [
    {
     "data": {
      "text/plain": [
       "'Hello World'"
      ]
     },
     "execution_count": 27,
     "metadata": {},
     "output_type": "execute_result"
    }
   ],
   "source": [
    "str3"
   ]
  },
  {
   "cell_type": "code",
   "execution_count": 30,
   "id": "6fd1892f",
   "metadata": {},
   "outputs": [
    {
     "data": {
      "text/plain": [
       "'Hello'"
      ]
     },
     "execution_count": 30,
     "metadata": {},
     "output_type": "execute_result"
    }
   ],
   "source": [
    "str3[0:5]\n",
    "# []:원하는 자릿수의 +1까지]"
   ]
  },
  {
   "cell_type": "code",
   "execution_count": 32,
   "id": "eb36b684",
   "metadata": {},
   "outputs": [
    {
     "data": {
      "text/plain": [
       "'World'"
      ]
     },
     "execution_count": 32,
     "metadata": {},
     "output_type": "execute_result"
    }
   ],
   "source": [
    "str3[6:11]"
   ]
  },
  {
   "cell_type": "code",
   "execution_count": 33,
   "id": "8c1cb683",
   "metadata": {},
   "outputs": [
    {
     "data": {
      "text/plain": [
       "'World'"
      ]
     },
     "execution_count": 33,
     "metadata": {},
     "output_type": "execute_result"
    }
   ],
   "source": [
    "str3[6:]"
   ]
  },
  {
   "cell_type": "code",
   "execution_count": 35,
   "id": "db27d204",
   "metadata": {},
   "outputs": [
    {
     "data": {
      "text/plain": [
       "'lo World'"
      ]
     },
     "execution_count": 35,
     "metadata": {},
     "output_type": "execute_result"
    }
   ],
   "source": [
    "str3[3:]"
   ]
  },
  {
   "cell_type": "code",
   "execution_count": 37,
   "id": "2c0fff80",
   "metadata": {},
   "outputs": [
    {
     "data": {
      "text/plain": [
       "'Hello World'"
      ]
     },
     "execution_count": 37,
     "metadata": {},
     "output_type": "execute_result"
    }
   ],
   "source": [
    "str3"
   ]
  },
  {
   "cell_type": "code",
   "execution_count": 36,
   "id": "a7e97258",
   "metadata": {},
   "outputs": [
    {
     "data": {
      "text/plain": [
       "'HloWrd'"
      ]
     },
     "execution_count": 36,
     "metadata": {},
     "output_type": "execute_result"
    }
   ],
   "source": [
    "str3[::2]"
   ]
  },
  {
   "cell_type": "code",
   "execution_count": 38,
   "id": "7f9a52e0",
   "metadata": {},
   "outputs": [
    {
     "data": {
      "text/plain": [
       "'HlWl'"
      ]
     },
     "execution_count": 38,
     "metadata": {},
     "output_type": "execute_result"
    }
   ],
   "source": [
    "str3[::3]"
   ]
  },
  {
   "cell_type": "markdown",
   "id": "6c765fad",
   "metadata": {},
   "source": [
    "### 이스케이프 코드\n",
    "<img src='./이스케이프코드.png'>"
   ]
  },
  {
   "cell_type": "code",
   "execution_count": 39,
   "id": "ab519309",
   "metadata": {},
   "outputs": [
    {
     "ename": "SyntaxError",
     "evalue": "EOL while scanning string literal (4138952293.py, line 1)",
     "output_type": "error",
     "traceback": [
      "\u001b[1;36m  Cell \u001b[1;32mIn[39], line 1\u001b[1;36m\u001b[0m\n\u001b[1;33m    print('\\')\u001b[0m\n\u001b[1;37m              ^\u001b[0m\n\u001b[1;31mSyntaxError\u001b[0m\u001b[1;31m:\u001b[0m EOL while scanning string literal\n"
     ]
    }
   ],
   "source": [
    "print('\\')"
   ]
  },
  {
   "cell_type": "code",
   "execution_count": 40,
   "id": "ed9a4d50",
   "metadata": {},
   "outputs": [
    {
     "name": "stdout",
     "output_type": "stream",
     "text": [
      "\\\n"
     ]
    }
   ],
   "source": [
    "print('\\\\')"
   ]
  },
  {
   "cell_type": "code",
   "execution_count": 41,
   "id": "bf966631",
   "metadata": {},
   "outputs": [
    {
     "name": "stdout",
     "output_type": "stream",
     "text": [
      "hi, \"Hi\"\n"
     ]
    }
   ],
   "source": [
    "st = '''hi, \"Hi\"'''\n",
    "print(st)"
   ]
  },
  {
   "cell_type": "code",
   "execution_count": 43,
   "id": "ac6c2b1f",
   "metadata": {},
   "outputs": [
    {
     "name": "stdout",
     "output_type": "stream",
     "text": [
      "hi, \"Hi\"\n"
     ]
    }
   ],
   "source": [
    "st = 'hi, \\\"Hi\\\"'\n",
    "print(st)"
   ]
  },
  {
   "cell_type": "code",
   "execution_count": 44,
   "id": "86cfe556",
   "metadata": {},
   "outputs": [
    {
     "name": "stdout",
     "output_type": "stream",
     "text": [
      "줄바꿈\n",
      "줄바꿈\n"
     ]
    }
   ],
   "source": [
    "print('줄바꿈\\n줄바꿈')"
   ]
  },
  {
   "cell_type": "code",
   "execution_count": 45,
   "id": "be42f9af",
   "metadata": {},
   "outputs": [
    {
     "name": "stdout",
     "output_type": "stream",
     "text": [
      "띄어쓰기 네칸\t사용합니다.\n"
     ]
    }
   ],
   "source": [
    "print('띄어쓰기 네칸\\t사용합니다.')"
   ]
  },
  {
   "cell_type": "code",
   "execution_count": 46,
   "id": "d0f8e5ca",
   "metadata": {},
   "outputs": [
    {
     "name": "stdout",
     "output_type": "stream",
     "text": [
      "\t\n"
     ]
    }
   ],
   "source": [
    "print('\t')"
   ]
  },
  {
   "cell_type": "code",
   "execution_count": 181,
   "id": "29bb6c1e",
   "metadata": {},
   "outputs": [
    {
     "name": "stdout",
     "output_type": "stream",
     "text": [
      "긴 문장을 나타내는 \"텍스트\"\n",
      "따옴표를 '세번' 사용해서\n",
      "표현할 수 있습니다.\n"
     ]
    }
   ],
   "source": [
    "text = '''긴 문장을 나타내는 \"텍스트\"\n",
    "따옴표를 '세번' 사용해서\n",
    "표현할 수 있습니다.'''\n",
    "print(text)"
   ]
  },
  {
   "cell_type": "code",
   "execution_count": 179,
   "id": "34842157",
   "metadata": {},
   "outputs": [
    {
     "data": {
      "text/plain": [
       "'긴 문장을 나타내는 \"텍스트\"\\n따옴표를 \\'세번\\' 사용해서\\n표현할 수 있습니다.'"
      ]
     },
     "execution_count": 179,
     "metadata": {},
     "output_type": "execute_result"
    }
   ],
   "source": [
    "text"
   ]
  },
  {
   "cell_type": "code",
   "execution_count": null,
   "id": "1725f07b",
   "metadata": {},
   "outputs": [],
   "source": []
  },
  {
   "cell_type": "code",
   "execution_count": null,
   "id": "42f41fe5",
   "metadata": {},
   "outputs": [],
   "source": []
  },
  {
   "cell_type": "code",
   "execution_count": null,
   "id": "2f9ff1af",
   "metadata": {},
   "outputs": [],
   "source": []
  },
  {
   "cell_type": "markdown",
   "id": "cce5e6b7",
   "metadata": {},
   "source": [
    "### 길이 구하기"
   ]
  },
  {
   "cell_type": "code",
   "execution_count": 47,
   "id": "f5d09965",
   "metadata": {},
   "outputs": [],
   "source": [
    "len_str = '객체의길이반환'"
   ]
  },
  {
   "cell_type": "code",
   "execution_count": 48,
   "id": "d7cd2068",
   "metadata": {},
   "outputs": [],
   "source": [
    "length = len(len_str)"
   ]
  },
  {
   "cell_type": "code",
   "execution_count": 49,
   "id": "6b8d7bad",
   "metadata": {},
   "outputs": [
    {
     "data": {
      "text/plain": [
       "7"
      ]
     },
     "execution_count": 49,
     "metadata": {},
     "output_type": "execute_result"
    }
   ],
   "source": [
    "length"
   ]
  },
  {
   "cell_type": "code",
   "execution_count": 50,
   "id": "3ef67f62",
   "metadata": {},
   "outputs": [
    {
     "name": "stdout",
     "output_type": "stream",
     "text": [
      "7\n"
     ]
    }
   ],
   "source": [
    "print(length)"
   ]
  },
  {
   "cell_type": "markdown",
   "id": "89e748f7",
   "metadata": {},
   "source": [
    "- 간장 공장 공장장은 강 공장장이고 된장 공장 공장장은 장 공장장이다"
   ]
  },
  {
   "cell_type": "code",
   "execution_count": 51,
   "id": "bc88e06c",
   "metadata": {},
   "outputs": [],
   "source": [
    "len_str2 = '간장 공장 공장장은 강 공장장이고 된장 공장 공장장은 장 공장장이다'"
   ]
  },
  {
   "cell_type": "code",
   "execution_count": 52,
   "id": "1596b57e",
   "metadata": {},
   "outputs": [
    {
     "data": {
      "text/plain": [
       "37"
      ]
     },
     "execution_count": 52,
     "metadata": {},
     "output_type": "execute_result"
    }
   ],
   "source": [
    "len(len_str2)"
   ]
  },
  {
   "cell_type": "code",
   "execution_count": 53,
   "id": "b960f152",
   "metadata": {},
   "outputs": [
    {
     "name": "stdout",
     "output_type": "stream",
     "text": [
      "len_str2의 길이는 37\n"
     ]
    }
   ],
   "source": [
    "print(f'len_str2의 길이는 {len(len_str2)}')"
   ]
  },
  {
   "cell_type": "markdown",
   "id": "d9feddd1",
   "metadata": {},
   "source": [
    "### 그 외 문자열의 내장함수\n",
    "1. upper(), lower()\n",
    "2. strip()\n",
    "3. replace()\n",
    "4. split()"
   ]
  },
  {
   "cell_type": "code",
   "execution_count": 54,
   "id": "e226e058",
   "metadata": {},
   "outputs": [],
   "source": [
    "a = 'apple'\n",
    "b = 'BANANA'"
   ]
  },
  {
   "cell_type": "code",
   "execution_count": 55,
   "id": "9dc7d2e9",
   "metadata": {},
   "outputs": [
    {
     "ename": "NameError",
     "evalue": "name 'upper' is not defined",
     "output_type": "error",
     "traceback": [
      "\u001b[1;31m---------------------------------------------------------------------------\u001b[0m",
      "\u001b[1;31mNameError\u001b[0m                                 Traceback (most recent call last)",
      "Cell \u001b[1;32mIn[55], line 1\u001b[0m\n\u001b[1;32m----> 1\u001b[0m \u001b[43mupper\u001b[49m(a)\n",
      "\u001b[1;31mNameError\u001b[0m: name 'upper' is not defined"
     ]
    }
   ],
   "source": [
    "upper(a)"
   ]
  },
  {
   "cell_type": "code",
   "execution_count": 56,
   "id": "3bca9f26",
   "metadata": {},
   "outputs": [
    {
     "data": {
      "text/plain": [
       "'APPLE'"
      ]
     },
     "execution_count": 56,
     "metadata": {},
     "output_type": "execute_result"
    }
   ],
   "source": [
    "a.upper()"
   ]
  },
  {
   "cell_type": "code",
   "execution_count": 57,
   "id": "a1f89a0d",
   "metadata": {},
   "outputs": [
    {
     "data": {
      "text/plain": [
       "'banana'"
      ]
     },
     "execution_count": 57,
     "metadata": {},
     "output_type": "execute_result"
    }
   ],
   "source": [
    "b.lower()"
   ]
  },
  {
   "cell_type": "code",
   "execution_count": 60,
   "id": "c58b3230",
   "metadata": {},
   "outputs": [
    {
     "data": {
      "text/plain": [
       "'라고니'"
      ]
     },
     "execution_count": 60,
     "metadata": {},
     "output_type": "execute_result"
    }
   ],
   "source": [
    "c = '고라고니고'\n",
    "c.strip('고')"
   ]
  },
  {
   "cell_type": "code",
   "execution_count": 61,
   "id": "ee81857d",
   "metadata": {},
   "outputs": [],
   "source": [
    "d = '기러기'"
   ]
  },
  {
   "cell_type": "code",
   "execution_count": 62,
   "id": "afa528e6",
   "metadata": {},
   "outputs": [
    {
     "data": {
      "text/plain": [
       "'러'"
      ]
     },
     "execution_count": 62,
     "metadata": {},
     "output_type": "execute_result"
    }
   ],
   "source": [
    "d.strip('기')"
   ]
  },
  {
   "cell_type": "code",
   "execution_count": 63,
   "id": "344e3195",
   "metadata": {},
   "outputs": [
    {
     "data": {
      "text/plain": [
       "'아파'"
      ]
     },
     "execution_count": 63,
     "metadata": {},
     "output_type": "execute_result"
    }
   ],
   "source": [
    "e = '아파트'\n",
    "e.strip('트')"
   ]
  },
  {
   "cell_type": "code",
   "execution_count": 66,
   "id": "10e7ea13",
   "metadata": {},
   "outputs": [
    {
     "name": "stdout",
     "output_type": "stream",
     "text": [
      "text\n"
     ]
    }
   ],
   "source": [
    "f = 'text'\n",
    "print(f)"
   ]
  },
  {
   "cell_type": "code",
   "execution_count": 65,
   "id": "963d1761",
   "metadata": {},
   "outputs": [
    {
     "data": {
      "text/plain": [
       "'test'"
      ]
     },
     "execution_count": 65,
     "metadata": {},
     "output_type": "execute_result"
    }
   ],
   "source": [
    "f.replace('x', 's')"
   ]
  },
  {
   "cell_type": "code",
   "execution_count": 67,
   "id": "689a1129",
   "metadata": {},
   "outputs": [
    {
     "name": "stdout",
     "output_type": "stream",
     "text": [
      "text\n"
     ]
    }
   ],
   "source": [
    "f = 'text'\n",
    "print(f)"
   ]
  },
  {
   "cell_type": "code",
   "execution_count": 68,
   "id": "009af729",
   "metadata": {},
   "outputs": [
    {
     "data": {
      "text/plain": [
       "'tet'"
      ]
     },
     "execution_count": 68,
     "metadata": {},
     "output_type": "execute_result"
    }
   ],
   "source": [
    "f.replace('x', '')"
   ]
  },
  {
   "cell_type": "code",
   "execution_count": 69,
   "id": "977d9c11",
   "metadata": {},
   "outputs": [],
   "source": [
    "n = 'Hello,World'"
   ]
  },
  {
   "cell_type": "code",
   "execution_count": 70,
   "id": "0494f725",
   "metadata": {},
   "outputs": [
    {
     "data": {
      "text/plain": [
       "['Hello', 'World']"
      ]
     },
     "execution_count": 70,
     "metadata": {},
     "output_type": "execute_result"
    }
   ],
   "source": [
    "n.split(',')"
   ]
  },
  {
   "cell_type": "code",
   "execution_count": 71,
   "id": "84e6c59d",
   "metadata": {},
   "outputs": [],
   "source": [
    "m = '띄어쓰기 기준으로 나누기'"
   ]
  },
  {
   "cell_type": "code",
   "execution_count": 72,
   "id": "c1fb2d27",
   "metadata": {},
   "outputs": [
    {
     "data": {
      "text/plain": [
       "['띄어쓰기', '기준으로', '나누기']"
      ]
     },
     "execution_count": 72,
     "metadata": {},
     "output_type": "execute_result"
    }
   ],
   "source": [
    "m.split(' ')"
   ]
  },
  {
   "cell_type": "code",
   "execution_count": null,
   "id": "a37ff188",
   "metadata": {},
   "outputs": [],
   "source": [
    "# Q1. 주어진 문자열을 모두 대문자로 변환해 출력해보세요  \n",
    "# i love python  \n",
    "# this is so easy  "
   ]
  },
  {
   "cell_type": "code",
   "execution_count": 73,
   "id": "ab45a7e2",
   "metadata": {},
   "outputs": [],
   "source": [
    "sent = 'i love python'\n",
    "sent2 = 'this is so easy'"
   ]
  },
  {
   "cell_type": "code",
   "execution_count": 74,
   "id": "46f93a3b",
   "metadata": {},
   "outputs": [],
   "source": [
    "result = sent.upper()"
   ]
  },
  {
   "cell_type": "code",
   "execution_count": 75,
   "id": "9111976a",
   "metadata": {},
   "outputs": [
    {
     "name": "stdout",
     "output_type": "stream",
     "text": [
      "I LOVE PYTHON\n"
     ]
    }
   ],
   "source": [
    "print(result)"
   ]
  },
  {
   "cell_type": "code",
   "execution_count": 76,
   "id": "6ef4db2e",
   "metadata": {},
   "outputs": [
    {
     "name": "stdout",
     "output_type": "stream",
     "text": [
      "THIS IS SO EASY\n"
     ]
    }
   ],
   "source": [
    "result2 = sent2.upper()\n",
    "print(result2)"
   ]
  },
  {
   "cell_type": "code",
   "execution_count": 78,
   "id": "55109cbe",
   "metadata": {},
   "outputs": [
    {
     "name": "stdout",
     "output_type": "stream",
     "text": [
      "I LOVE PYTHON,THIS IS SO EASY\n"
     ]
    }
   ],
   "source": [
    "print(result, result2, sep=',')"
   ]
  },
  {
   "cell_type": "code",
   "execution_count": null,
   "id": "b94cd123",
   "metadata": {},
   "outputs": [],
   "source": [
    "# Q2. 주어진 문자열을 대문자로 변환해 출력해보세요  \n",
    "# pneumonoultramicroscopicsilicovolcanoconiosis"
   ]
  },
  {
   "cell_type": "code",
   "execution_count": 79,
   "id": "c3a45774",
   "metadata": {},
   "outputs": [
    {
     "name": "stdout",
     "output_type": "stream",
     "text": [
      "PNEUMONOULTRAMICROSCOPICSILICOVOLCANOCONIOSIS\n"
     ]
    }
   ],
   "source": [
    "word = 'pneumonoultramicroscopicsilicovolcanoconiosis'\n",
    "WORD = word.upper()\n",
    "print(WORD)"
   ]
  },
  {
   "cell_type": "code",
   "execution_count": null,
   "id": "fac04fb0",
   "metadata": {},
   "outputs": [],
   "source": [
    "# Q3. 양 끝에 공백이 있는 문자열에서 공백을 제거한 뒤 출력해보세요  \n",
    "#         공백 지우기  "
   ]
  },
  {
   "cell_type": "code",
   "execution_count": 80,
   "id": "61521d6e",
   "metadata": {},
   "outputs": [
    {
     "data": {
      "text/plain": [
       "'공백 지우기'"
      ]
     },
     "execution_count": 80,
     "metadata": {},
     "output_type": "execute_result"
    }
   ],
   "source": [
    "sent = '        공백 지우기            '\n",
    "sent.strip(' ')"
   ]
  },
  {
   "cell_type": "code",
   "execution_count": null,
   "id": "cc0d05cd",
   "metadata": {},
   "outputs": [],
   "source": [
    "# Q4. 문자열에서 앞 뒤 쉼표를 제거한 후 문자열의 길이를 출력해보세요  \n",
    "# ,,,,,,the weather is good today,,,,,,"
   ]
  },
  {
   "cell_type": "code",
   "execution_count": 81,
   "id": "64b7e0aa",
   "metadata": {},
   "outputs": [],
   "source": [
    "sent = ',,,,,,the weather is good today,,,,,,'\n",
    "sent2 = sent.strip(',')"
   ]
  },
  {
   "cell_type": "code",
   "execution_count": 83,
   "id": "3898acce",
   "metadata": {},
   "outputs": [
    {
     "data": {
      "text/plain": [
       "25"
      ]
     },
     "execution_count": 83,
     "metadata": {},
     "output_type": "execute_result"
    }
   ],
   "source": [
    "len(sent2)"
   ]
  },
  {
   "cell_type": "code",
   "execution_count": 84,
   "id": "61c875c1",
   "metadata": {},
   "outputs": [],
   "source": [
    "sent = ',,,,,,the weather is good today,,,,,,'"
   ]
  },
  {
   "cell_type": "code",
   "execution_count": 85,
   "id": "040b17a5",
   "metadata": {},
   "outputs": [
    {
     "data": {
      "text/plain": [
       "25"
      ]
     },
     "execution_count": 85,
     "metadata": {},
     "output_type": "execute_result"
    }
   ],
   "source": [
    "len(sent.strip(','))"
   ]
  },
  {
   "cell_type": "code",
   "execution_count": null,
   "id": "c0a55302",
   "metadata": {},
   "outputs": [],
   "source": [
    "# Q5. 문장에서 apple을 peach로 바꿔보세요\n",
    "# I love apple"
   ]
  },
  {
   "cell_type": "code",
   "execution_count": 86,
   "id": "5e99437f",
   "metadata": {},
   "outputs": [],
   "source": [
    "sent = 'I love apple'"
   ]
  },
  {
   "cell_type": "code",
   "execution_count": 87,
   "id": "f901baaa",
   "metadata": {},
   "outputs": [
    {
     "data": {
      "text/plain": [
       "'I love peach'"
      ]
     },
     "execution_count": 87,
     "metadata": {},
     "output_type": "execute_result"
    }
   ],
   "source": [
    "sent.replace('apple', 'peach')"
   ]
  },
  {
   "cell_type": "code",
   "execution_count": null,
   "id": "40931f08",
   "metadata": {},
   "outputs": [],
   "source": [
    "# Q6. 문장에서 공백을 언더바(_)로 바꿔보세요\n",
    "# Fill in the gaps in this sentence"
   ]
  },
  {
   "cell_type": "code",
   "execution_count": 90,
   "id": "cf900aaa",
   "metadata": {},
   "outputs": [
    {
     "data": {
      "text/plain": [
       "'Fill_in_the_gaps_in_this_sentence'"
      ]
     },
     "execution_count": 90,
     "metadata": {},
     "output_type": "execute_result"
    }
   ],
   "source": [
    "sent = 'Fill in the gaps in this sentence'\n",
    "sent.replace(' ', '_')"
   ]
  },
  {
   "cell_type": "code",
   "execution_count": null,
   "id": "9546a83f",
   "metadata": {},
   "outputs": [],
   "source": [
    "# Q7. 문장을 쉼표 기준으로 분할한 후 결과를 출력해보세요\n",
    "# 고양이, 강아지, 햄스터"
   ]
  },
  {
   "cell_type": "code",
   "execution_count": 91,
   "id": "1d3ef100",
   "metadata": {},
   "outputs": [
    {
     "data": {
      "text/plain": [
       "['고양이', ' 강아지', ' 햄스터']"
      ]
     },
     "execution_count": 91,
     "metadata": {},
     "output_type": "execute_result"
    }
   ],
   "source": [
    "sent = '고양이, 강아지, 햄스터'\n",
    "sent.split(',')"
   ]
  },
  {
   "cell_type": "code",
   "execution_count": null,
   "id": "37829b6d",
   "metadata": {},
   "outputs": [],
   "source": [
    "# Q8. 문장에서 is를 was로 바꾸고 문자열을 소문자로 변환해보세요\n",
    "# Python is fun. Python is interesting."
   ]
  },
  {
   "cell_type": "code",
   "execution_count": 93,
   "id": "4be32927",
   "metadata": {},
   "outputs": [
    {
     "data": {
      "text/plain": [
       "'python was fun. python was interesting.'"
      ]
     },
     "execution_count": 93,
     "metadata": {},
     "output_type": "execute_result"
    }
   ],
   "source": [
    "sent = 'Python is fun. Python is interesting.'\n",
    "sent2 = sent.replace('is', 'was')\n",
    "sent2.lower()"
   ]
  },
  {
   "cell_type": "code",
   "execution_count": 94,
   "id": "ecbc74b6",
   "metadata": {},
   "outputs": [
    {
     "data": {
      "text/plain": [
       "'python was fun. python was interesting.'"
      ]
     },
     "execution_count": 94,
     "metadata": {},
     "output_type": "execute_result"
    }
   ],
   "source": [
    "sent = 'Python is fun. Python is interesting.'\n",
    "sent.replace('is', 'was').lower()"
   ]
  },
  {
   "cell_type": "markdown",
   "id": "d1779c11",
   "metadata": {},
   "source": [
    "### 문자열 포매팅\n",
    "- % 연산자 포매팅"
   ]
  },
  {
   "cell_type": "code",
   "execution_count": 98,
   "id": "1877eea2",
   "metadata": {},
   "outputs": [],
   "source": [
    "weather = '맑음'"
   ]
  },
  {
   "cell_type": "code",
   "execution_count": 101,
   "id": "70515fb3",
   "metadata": {},
   "outputs": [],
   "source": [
    "temp = 20"
   ]
  },
  {
   "cell_type": "code",
   "execution_count": 102,
   "id": "84b3c5d6",
   "metadata": {},
   "outputs": [
    {
     "name": "stdout",
     "output_type": "stream",
     "text": [
      "오늘 날씨는 맑음 이고 기온은 20 도 입니다.\n"
     ]
    }
   ],
   "source": [
    "print('오늘 날씨는 %s 이고 기온은 %d 도 입니다.' % (weather, temp))"
   ]
  },
  {
   "cell_type": "code",
   "execution_count": 103,
   "id": "c4392df5",
   "metadata": {},
   "outputs": [
    {
     "name": "stdout",
     "output_type": "stream",
     "text": [
      "오늘 날씨는 맑음 이고 기온은 20 도 입니다.\n"
     ]
    }
   ],
   "source": [
    "# format\n",
    "print('오늘 날씨는 {} 이고 기온은 {} 도 입니다.'.format(weather, temp))"
   ]
  },
  {
   "cell_type": "code",
   "execution_count": 104,
   "id": "dbd6df99",
   "metadata": {},
   "outputs": [
    {
     "name": "stdout",
     "output_type": "stream",
     "text": [
      "오늘 날씨는 맑음 이고 기온은 20도 입니다.\n"
     ]
    }
   ],
   "source": [
    "print(f'오늘 날씨는 {weather} 이고 기온은 {temp}도 입니다.')"
   ]
  },
  {
   "cell_type": "code",
   "execution_count": 107,
   "id": "b6a5e16d",
   "metadata": {},
   "outputs": [],
   "source": [
    "movie_title = '베테랑2'\n",
    "seats = 5\n",
    "price = 16000 * seats"
   ]
  },
  {
   "cell_type": "code",
   "execution_count": 108,
   "id": "d964b710",
   "metadata": {},
   "outputs": [
    {
     "name": "stdout",
     "output_type": "stream",
     "text": [
      "영화 베테랑2 의 5 좌석을 예매하셨습니다. 총 결제 금액은 80000 원입니다.\n"
     ]
    }
   ],
   "source": [
    "print('영화 %s 의 %d 좌석을 예매하셨습니다. 총 결제 금액은 %d 원입니다.' % (movie_title, seats, price))"
   ]
  },
  {
   "cell_type": "code",
   "execution_count": 109,
   "id": "7f33eb90",
   "metadata": {},
   "outputs": [
    {
     "name": "stdout",
     "output_type": "stream",
     "text": [
      "영화 베테랑2의 5좌석을 예매하셨습니다. 총 결제 금액은 80000입니다.\n"
     ]
    }
   ],
   "source": [
    "print('영화 {}의 {}좌석을 예매하셨습니다. 총 결제 금액은 {}입니다.'.format(movie_title, seats, price))"
   ]
  },
  {
   "cell_type": "code",
   "execution_count": 111,
   "id": "2262656a",
   "metadata": {},
   "outputs": [
    {
     "name": "stdout",
     "output_type": "stream",
     "text": [
      "영화 베테랑2의 5좌석을 예매하셨습니다. 총 결제 금액은 80000입니다.\n"
     ]
    }
   ],
   "source": [
    "print(f'영화 {movie_title}의 {seats}좌석을 예매하셨습니다. 총 결제 금액은 {price}입니다.')"
   ]
  },
  {
   "cell_type": "code",
   "execution_count": 113,
   "id": "887602d7",
   "metadata": {},
   "outputs": [
    {
     "name": "stdout",
     "output_type": "stream",
     "text": [
      "'\n"
     ]
    }
   ],
   "source": [
    "print('\\'')"
   ]
  },
  {
   "cell_type": "code",
   "execution_count": null,
   "id": "f58aeaaa",
   "metadata": {},
   "outputs": [],
   "source": [
    "# Q1. 섭씨 온도를 입력받아, 해당 온도를 화씨로 변환한 값을 출력하세요.\n",
    "# 섭씨(C)를 화씨(F)로 변환하는 공식은 F = C * 9/5 + 32입니다.\n",
    "# 세 가지 문자열 포매팅 방식으로 결과를 출력하세요.\n",
    "# C = 20\n",
    "# F = C * 9/5 + 32\n",
    "# 출력 예시 : 섭씨 20도는 화씨 68.00도입니다."
   ]
  },
  {
   "cell_type": "code",
   "execution_count": 114,
   "id": "138f2fe5",
   "metadata": {},
   "outputs": [],
   "source": [
    "C = 20\n",
    "F = C * 9/5 + 32"
   ]
  },
  {
   "cell_type": "code",
   "execution_count": 119,
   "id": "452aa989",
   "metadata": {},
   "outputs": [
    {
     "name": "stdout",
     "output_type": "stream",
     "text": [
      "섭씨 20도는 화씨 68.000000도입니다.\n"
     ]
    }
   ],
   "source": [
    "print('섭씨 %d도는 화씨 %f도입니다.' % (C, F))"
   ]
  },
  {
   "cell_type": "code",
   "execution_count": 116,
   "id": "c195a486",
   "metadata": {},
   "outputs": [
    {
     "name": "stdout",
     "output_type": "stream",
     "text": [
      "섭씨 20도는 화씨 68도입니다.\n"
     ]
    }
   ],
   "source": [
    "print('섭씨 %d도는 화씨 %.f도입니다.' % (C, F))"
   ]
  },
  {
   "cell_type": "code",
   "execution_count": 117,
   "id": "f56e0627",
   "metadata": {},
   "outputs": [
    {
     "name": "stdout",
     "output_type": "stream",
     "text": [
      "섭씨 20도는 화씨 68.00도입니다.\n"
     ]
    }
   ],
   "source": [
    "print('섭씨 %d도는 화씨 %.2f도입니다.' % (C, F))"
   ]
  },
  {
   "cell_type": "code",
   "execution_count": 120,
   "id": "6949d7ea",
   "metadata": {},
   "outputs": [
    {
     "name": "stdout",
     "output_type": "stream",
     "text": [
      "섭씨 20도는 화씨68.0도입니다.\n"
     ]
    }
   ],
   "source": [
    "print('섭씨 {}도는 화씨{}도입니다.'.format(C, F))"
   ]
  },
  {
   "cell_type": "code",
   "execution_count": 121,
   "id": "36562e03",
   "metadata": {},
   "outputs": [
    {
     "name": "stdout",
     "output_type": "stream",
     "text": [
      "섭씨 20도는 화씨68.000000도입니다.\n"
     ]
    }
   ],
   "source": [
    "print('섭씨 {}도는 화씨{:f}도입니다.'.format(C, F))"
   ]
  },
  {
   "cell_type": "code",
   "execution_count": 125,
   "id": "20bcfd9a",
   "metadata": {},
   "outputs": [
    {
     "name": "stdout",
     "output_type": "stream",
     "text": [
      "섭씨 20도는 화씨 68.00도입니다.\n"
     ]
    }
   ],
   "source": [
    "print(\"섭씨 {}도는 화씨 {:.2f}도입니다.\".format(C, F))"
   ]
  },
  {
   "cell_type": "code",
   "execution_count": 126,
   "id": "02f97471",
   "metadata": {},
   "outputs": [
    {
     "name": "stdout",
     "output_type": "stream",
     "text": [
      "섭씨 20도는 화씨 68.0도 입니다.\n"
     ]
    }
   ],
   "source": [
    "print(f'섭씨 {C}도는 화씨 {F}도 입니다.')"
   ]
  },
  {
   "cell_type": "code",
   "execution_count": 127,
   "id": "9b3c2ed9",
   "metadata": {},
   "outputs": [
    {
     "name": "stdout",
     "output_type": "stream",
     "text": [
      "섭씨 20도는 화씨 68.00도 입니다.\n"
     ]
    }
   ],
   "source": [
    "print(f'섭씨 {C}도는 화씨 {F:.2f}도 입니다.')"
   ]
  },
  {
   "cell_type": "code",
   "execution_count": null,
   "id": "b539983f",
   "metadata": {},
   "outputs": [],
   "source": [
    "# Q2. 운전 중인 자동차의 속도와 제한 속도를 입력받아, 과속 여부를 판단하는 문장을 출력하세요.\n",
    "# curren = 85\n",
    "# limit = 60\n",
    "# 출력 예시 : \"현재 속도는 85km/h로, 제한 속도 60km/h를 초과했습니다!\""
   ]
  },
  {
   "cell_type": "code",
   "execution_count": 141,
   "id": "81717f02",
   "metadata": {},
   "outputs": [],
   "source": [
    "curren = input('현재 속도를 입력하세요')\n",
    "limit = 60"
   ]
  },
  {
   "cell_type": "code",
   "execution_count": 142,
   "id": "1b7568e8",
   "metadata": {},
   "outputs": [
    {
     "data": {
      "text/plain": [
       "str"
      ]
     },
     "execution_count": 142,
     "metadata": {},
     "output_type": "execute_result"
    }
   ],
   "source": [
    "type(curren)"
   ]
  },
  {
   "cell_type": "code",
   "execution_count": 143,
   "id": "2563d524",
   "metadata": {},
   "outputs": [],
   "source": [
    "curren = int(curren)"
   ]
  },
  {
   "cell_type": "code",
   "execution_count": 144,
   "id": "bdaf1d72",
   "metadata": {},
   "outputs": [
    {
     "data": {
      "text/plain": [
       "int"
      ]
     },
     "execution_count": 144,
     "metadata": {},
     "output_type": "execute_result"
    }
   ],
   "source": [
    "type(curren)"
   ]
  },
  {
   "cell_type": "code",
   "execution_count": 145,
   "id": "e10d826c",
   "metadata": {},
   "outputs": [
    {
     "name": "stdout",
     "output_type": "stream",
     "text": [
      "현재 속도는 120 km/h로, 제한 속도 60 km/h를 초과했습니다!\n"
     ]
    }
   ],
   "source": [
    "print('현재 속도는 %d km/h로, 제한 속도 %d km/h를 초과했습니다!' % (curren, limit))"
   ]
  },
  {
   "cell_type": "code",
   "execution_count": 130,
   "id": "7aa244e2",
   "metadata": {},
   "outputs": [
    {
     "name": "stdout",
     "output_type": "stream",
     "text": [
      "현재 속도는 85km/h로, 제한 속도 60km/h를 초과했습니다.\n"
     ]
    }
   ],
   "source": [
    "print('현재 속도는 {}km/h로, 제한 속도 {}km/h를 초과했습니다.'.format(curren, limit))"
   ]
  },
  {
   "cell_type": "code",
   "execution_count": 132,
   "id": "984e3e40",
   "metadata": {},
   "outputs": [
    {
     "name": "stdout",
     "output_type": "stream",
     "text": [
      "현재 속도는 85km/h로, 제한 속도 60km/h를 초과했습니다!\n"
     ]
    }
   ],
   "source": [
    "print(f'현재 속도는 {curren}km/h로, 제한 속도 {limit}km/h를 초과했습니다!')"
   ]
  },
  {
   "cell_type": "code",
   "execution_count": null,
   "id": "ffcb0dbd",
   "metadata": {},
   "outputs": [],
   "source": [
    "# Q3. 사용자가 주문한 음료와 가격을 입력받아, 주문 내역을 출력하세요. 음료는 10% 할인됩니다\n",
    "# 10% 할인된 금액을 계산해서 같이 출력하세요.\n",
    "# 출력 예시 : \n",
    "\n",
    "# drink = \"커피\"\n",
    "# price = 4500\n",
    "# discount_price = price * 0.9\n",
    "#  출력 예시 :  \"커피 1잔의 원래 가격은 4,500원이고, 할인된 가격은 4,050원입니다.\""
   ]
  },
  {
   "cell_type": "code",
   "execution_count": 182,
   "id": "2a4227a9",
   "metadata": {},
   "outputs": [],
   "source": [
    "drink = \"커피\"\n",
    "price = 4500\n",
    "discount_price = price * 0.9"
   ]
  },
  {
   "cell_type": "code",
   "execution_count": 184,
   "id": "e0937b07",
   "metadata": {},
   "outputs": [],
   "source": [
    "# 4,500"
   ]
  },
  {
   "cell_type": "code",
   "execution_count": 186,
   "id": "93ef3957",
   "metadata": {},
   "outputs": [
    {
     "name": "stdout",
     "output_type": "stream",
     "text": [
      "커피 한 잔의 원래 가격은 4500 원이고, 할인된 가격은 4050원입니다.\n"
     ]
    }
   ],
   "source": [
    "print('%s 한 잔의 원래 가격은 %d 원이고, 할인된 가격은 %d원입니다.' % (drink, price, discount_price))"
   ]
  },
  {
   "cell_type": "code",
   "execution_count": 187,
   "id": "40d4218f",
   "metadata": {},
   "outputs": [
    {
     "name": "stdout",
     "output_type": "stream",
     "text": [
      "커피 한 잔의 원래 가격은 4,500 이고, 할인된 가격은 4050.0원 입니다.\n"
     ]
    }
   ],
   "source": [
    "print('{} 한 잔의 원래 가격은 {:,} 이고, 할인된 가격은 {}원 입니다.'.format(drink, price, discount_price))"
   ]
  },
  {
   "cell_type": "code",
   "execution_count": 188,
   "id": "24e384f4",
   "metadata": {},
   "outputs": [
    {
     "name": "stdout",
     "output_type": "stream",
     "text": [
      "커피 한 잔의 원래 가격은 4,500이고, 할인된 가격은 4050.0원 입니다.\n"
     ]
    }
   ],
   "source": [
    "print(f'{drink} 한 잔의 원래 가격은 {price:,}이고, 할인된 가격은 {discount_price}원 입니다.')"
   ]
  },
  {
   "cell_type": "markdown",
   "id": "ae4b3356",
   "metadata": {},
   "source": [
    "\n",
    "## 4. 불형(Boolean)\n",
    "\n",
    "불형(`bool`)은 논리값인 참(True)과 거짓(False)  \n",
    "주로 조건문에서 사용됨"
   ]
  },
  {
   "cell_type": "code",
   "execution_count": 152,
   "id": "8c8cd015",
   "metadata": {},
   "outputs": [],
   "source": [
    "# 불형 예시\n",
    "student = True\n",
    "teacher = False"
   ]
  },
  {
   "cell_type": "code",
   "execution_count": 153,
   "id": "f38002fa",
   "metadata": {},
   "outputs": [
    {
     "name": "stdout",
     "output_type": "stream",
     "text": [
      "student 값 : True, 자료형 : <class 'bool'>\n"
     ]
    }
   ],
   "source": [
    "print(f'student 값 : {student}, 자료형 : {type(student)}')"
   ]
  },
  {
   "cell_type": "code",
   "execution_count": 154,
   "id": "3d037130",
   "metadata": {},
   "outputs": [
    {
     "name": "stdout",
     "output_type": "stream",
     "text": [
      "teacher의 값 : False, 자료형 : <class 'bool'>\n"
     ]
    }
   ],
   "source": [
    "print(f'teacher의 값 : {teacher}, 자료형 : {type(teacher)}')"
   ]
  },
  {
   "cell_type": "markdown",
   "id": "69810c57",
   "metadata": {},
   "source": [
    "### 비교연산자"
   ]
  },
  {
   "cell_type": "code",
   "execution_count": 155,
   "id": "141d9d29",
   "metadata": {},
   "outputs": [],
   "source": [
    "A = 3\n",
    "B = 5\n",
    "C = 8"
   ]
  },
  {
   "cell_type": "code",
   "execution_count": 156,
   "id": "3ee85abc",
   "metadata": {},
   "outputs": [
    {
     "data": {
      "text/plain": [
       "False"
      ]
     },
     "execution_count": 156,
     "metadata": {},
     "output_type": "execute_result"
    }
   ],
   "source": [
    "A==B"
   ]
  },
  {
   "cell_type": "code",
   "execution_count": 157,
   "id": "81c92cf6",
   "metadata": {},
   "outputs": [
    {
     "data": {
      "text/plain": [
       "True"
      ]
     },
     "execution_count": 157,
     "metadata": {},
     "output_type": "execute_result"
    }
   ],
   "source": [
    "B!=C"
   ]
  },
  {
   "cell_type": "code",
   "execution_count": 158,
   "id": "b2166706",
   "metadata": {},
   "outputs": [
    {
     "data": {
      "text/plain": [
       "False"
      ]
     },
     "execution_count": 158,
     "metadata": {},
     "output_type": "execute_result"
    }
   ],
   "source": [
    "A>B"
   ]
  },
  {
   "cell_type": "code",
   "execution_count": 159,
   "id": "2b4a4690",
   "metadata": {},
   "outputs": [
    {
     "data": {
      "text/plain": [
       "True"
      ]
     },
     "execution_count": 159,
     "metadata": {},
     "output_type": "execute_result"
    }
   ],
   "source": [
    "B<=C"
   ]
  },
  {
   "cell_type": "code",
   "execution_count": 161,
   "id": "9774c1a7",
   "metadata": {},
   "outputs": [
    {
     "name": "stdout",
     "output_type": "stream",
     "text": [
      "False\n"
     ]
    }
   ],
   "source": [
    "a = 5\n",
    "b = 10\n",
    "result = a==b\n",
    "print(result)"
   ]
  },
  {
   "cell_type": "code",
   "execution_count": 163,
   "id": "5f2ec09f",
   "metadata": {},
   "outputs": [
    {
     "name": "stdout",
     "output_type": "stream",
     "text": [
      "True\n"
     ]
    }
   ],
   "source": [
    "a = input('아무 값이나 입력하세요(단, 숫자로)')\n",
    "b = int(a)\n",
    "c = 50\n",
    "result = b == c\n",
    "print(result)"
   ]
  },
  {
   "cell_type": "code",
   "execution_count": 165,
   "id": "7147bf43",
   "metadata": {},
   "outputs": [
    {
     "name": "stdout",
     "output_type": "stream",
     "text": [
      "True\n"
     ]
    }
   ],
   "source": [
    "age = input('나이를 입력하세요')\n",
    "age = int(age)\n",
    "result = age >= 18\n",
    "print(result)"
   ]
  },
  {
   "cell_type": "code",
   "execution_count": 167,
   "id": "d17f9e4c",
   "metadata": {},
   "outputs": [
    {
     "name": "stdout",
     "output_type": "stream",
     "text": [
      "False\n"
     ]
    }
   ],
   "source": [
    "x = input('숫자를 입력하세요')\n",
    "result = 10 <= int(x) <=20\n",
    "print(result)"
   ]
  },
  {
   "cell_type": "markdown",
   "id": "d32cd75c",
   "metadata": {},
   "source": [
    "### 논리연산자"
   ]
  },
  {
   "cell_type": "code",
   "execution_count": 168,
   "id": "5a639756",
   "metadata": {},
   "outputs": [
    {
     "name": "stdout",
     "output_type": "stream",
     "text": [
      "AND 연산자 : False\n"
     ]
    }
   ],
   "source": [
    "print(f'AND 연산자 : {student and teacher}')"
   ]
  },
  {
   "cell_type": "code",
   "execution_count": 169,
   "id": "f3ff6566",
   "metadata": {},
   "outputs": [
    {
     "name": "stdout",
     "output_type": "stream",
     "text": [
      "OR 연산자 : True\n"
     ]
    }
   ],
   "source": [
    "print(f'OR 연산자 : {student or teacher}')"
   ]
  },
  {
   "cell_type": "code",
   "execution_count": 170,
   "id": "b109dbfa",
   "metadata": {},
   "outputs": [
    {
     "name": "stdout",
     "output_type": "stream",
     "text": [
      "NOT 연산자 : False\n"
     ]
    }
   ],
   "source": [
    "print(f'NOT 연산자 : {not student}')"
   ]
  },
  {
   "cell_type": "code",
   "execution_count": 171,
   "id": "66ab1f4c",
   "metadata": {},
   "outputs": [
    {
     "name": "stdout",
     "output_type": "stream",
     "text": [
      "NOT 연산자 : True\n"
     ]
    }
   ],
   "source": [
    "print(f'NOT 연산자 : {not teacher}')"
   ]
  },
  {
   "cell_type": "code",
   "execution_count": 173,
   "id": "4266dc4a",
   "metadata": {},
   "outputs": [
    {
     "name": "stdout",
     "output_type": "stream",
     "text": [
      "False\n"
     ]
    }
   ],
   "source": [
    "x = 12\n",
    "y = 15\n",
    "result = x >= 10 and y <=10\n",
    "print(result)"
   ]
  },
  {
   "cell_type": "code",
   "execution_count": 174,
   "id": "5d5f511e",
   "metadata": {},
   "outputs": [
    {
     "name": "stdout",
     "output_type": "stream",
     "text": [
      "True\n"
     ]
    }
   ],
   "source": [
    "a = -5\n",
    "b = 10\n",
    "result = a > 0 or b > 0\n",
    "print(result)"
   ]
  },
  {
   "cell_type": "code",
   "execution_count": 175,
   "id": "290722b8",
   "metadata": {},
   "outputs": [
    {
     "name": "stdout",
     "output_type": "stream",
     "text": [
      "True\n"
     ]
    }
   ],
   "source": [
    "x = 5\n",
    "result = not (x==0)\n",
    "print(result)"
   ]
  },
  {
   "cell_type": "code",
   "execution_count": 176,
   "id": "d76db3f1",
   "metadata": {},
   "outputs": [
    {
     "name": "stdout",
     "output_type": "stream",
     "text": [
      "True\n"
     ]
    }
   ],
   "source": [
    "text = 'python'\n",
    "result = len(text) >=5\n",
    "print(result)"
   ]
  },
  {
   "cell_type": "code",
   "execution_count": 177,
   "id": "f4b6f7c6",
   "metadata": {},
   "outputs": [
    {
     "data": {
      "text/plain": [
       "6"
      ]
     },
     "execution_count": 177,
     "metadata": {},
     "output_type": "execute_result"
    }
   ],
   "source": [
    "len(text)"
   ]
  },
  {
   "cell_type": "markdown",
   "id": "21caaffa",
   "metadata": {},
   "source": [
    "# 만약에\n",
    "## 여러줄\n",
    "##### 주석처리\n",
    "그냥 써도 돼요\n",
    "\n",
    "---\n",
    "\n",
    "- 하나\n",
    "- 둘\n",
    "\n",
    "1. 하나\n",
    "2. 둘"
   ]
  },
  {
   "cell_type": "code",
   "execution_count": null,
   "id": "63394841",
   "metadata": {},
   "outputs": [],
   "source": [
    "# 만약에\n",
    "# 여러줄\n",
    "# 주석처리"
   ]
  },
  {
   "cell_type": "code",
   "execution_count": 190,
   "id": "4af7f469",
   "metadata": {},
   "outputs": [
    {
     "name": "stdout",
     "output_type": "stream",
     "text": [
      "True\n"
     ]
    }
   ],
   "source": [
    "# Q1. 사용자에게 입력 받은 숫자 'x'의 값이 짝수인지 확인하여 결과를 출력해주는 연산을 만들어보세요\n",
    "x = int(input('입력하세요'))\n",
    "result = x % 2 == 0\n",
    "print(result)"
   ]
  },
  {
   "cell_type": "code",
   "execution_count": 191,
   "id": "d05445c6",
   "metadata": {},
   "outputs": [
    {
     "name": "stdout",
     "output_type": "stream",
     "text": [
      "True\n"
     ]
    }
   ],
   "source": [
    "# Q2. 사용자에게 입력 받은 숫자 'x'의 값이 음수인지 확인하여 결과를 출력해주는 연산을 만들어보세요\n",
    "x = int(input('입력하세요'))\n",
    "result = x < 0 \n",
    "print(result)"
   ]
  },
  {
   "cell_type": "code",
   "execution_count": 192,
   "id": "73919f7c",
   "metadata": {},
   "outputs": [
    {
     "name": "stdout",
     "output_type": "stream",
     "text": [
      "True\n"
     ]
    }
   ],
   "source": [
    "# Q3. 사용자에게 입력 받은 숫자 'x'의 값이 0 이상 100 이하의 범위에 있는지 결과를 출력해주는 연산을 만들어보세요 \n",
    "x = int(input('입력하세요'))\n",
    "result = 0 <= x <= 100\n",
    "print(result)"
   ]
  },
  {
   "cell_type": "code",
   "execution_count": 194,
   "id": "295d7c21",
   "metadata": {},
   "outputs": [
    {
     "name": "stdout",
     "output_type": "stream",
     "text": [
      "True\n"
     ]
    }
   ],
   "source": [
    "# Q4. 로그인 확인하기, 사용자가 입력한 username과 password가 저장된 username = 'python' password = 123 값과 일치하는지 확인하세요.\n",
    "username = 'python'\n",
    "password = 123\n",
    "input_username = input('username을 입력하세요')\n",
    "input_password = int(input('password를 입력하세요'))\n",
    "\n",
    "result = (username == input_username) and (password == input_password)\n",
    "print(result)"
   ]
  },
  {
   "cell_type": "markdown",
   "id": "2a6da8a5",
   "metadata": {},
   "source": [
    "\n",
    "## 🌼마무리 문제\n",
    "\n",
    "아래 문제들을 풀어보세요!\n",
    "\n",
    "Q1. 사용자로부터 이름과 나이를 `입력받아`, \"안녕하세요, '이름'님. 당신은 '나이'세 이시군요!\"라고 출력하는 코드를 작성해보세요"
   ]
  },
  {
   "cell_type": "code",
   "execution_count": 195,
   "id": "d2a8a17d",
   "metadata": {},
   "outputs": [
    {
     "name": "stdout",
     "output_type": "stream",
     "text": [
      "안녕하세요 수빈님, 당신은 20세 이시군요.\n"
     ]
    }
   ],
   "source": [
    "name = input('이름을 입력해주세요')\n",
    "age = int(input('나이를 입력해주세요'))\n",
    "print(f'안녕하세요 {name}님, 당신은 {age}세 이시군요.')"
   ]
  },
  {
   "cell_type": "markdown",
   "id": "3513db67",
   "metadata": {},
   "source": [
    "Q2. 문자열을 입력받아 그 문자열을 `뒤집어서` 출력하는 코드를 작성해보세요"
   ]
  },
  {
   "cell_type": "code",
   "execution_count": 197,
   "id": "009a1aa8",
   "metadata": {},
   "outputs": [
    {
     "name": "stdout",
     "output_type": "stream",
     "text": [
      "요세하녕안\n"
     ]
    }
   ],
   "source": [
    "user_input = input('문자열을 입력해보세요')\n",
    "reverse = user_input[::-1]\n",
    "print(reverse)"
   ]
  },
  {
   "cell_type": "markdown",
   "id": "84ffc703",
   "metadata": {},
   "source": [
    "Q3. BMI(체질량지수)를 계산하는 프로그램을 작성하세요.  \n",
    "사용자로부터 키(m)와 체중(kg)을 `입력받아` 계산 후 출력하세요.  \n",
    "`*BMI계산법 : 체중(kg) / (키(m) x 키(m))`"
   ]
  },
  {
   "cell_type": "code",
   "execution_count": 198,
   "id": "6ac7f7e3",
   "metadata": {},
   "outputs": [
    {
     "name": "stdout",
     "output_type": "stream",
     "text": [
      "당신의 BMI는 20.06입니다.\n"
     ]
    }
   ],
   "source": [
    "height = float(input('키(m)를 입력하세요.'))\n",
    "weight = float(input('체중(kg)을 입력하세요.'))\n",
    "bmi = weight / (height**2)\n",
    "print(f'당신의 BMI는 {bmi:.2f}입니다.')"
   ]
  },
  {
   "cell_type": "code",
   "execution_count": null,
   "id": "ce3e9cc4",
   "metadata": {},
   "outputs": [],
   "source": []
  }
 ],
 "metadata": {
  "kernelspec": {
   "display_name": "test_env",
   "language": "python",
   "name": "python3"
  },
  "language_info": {
   "codemirror_mode": {
    "name": "ipython",
    "version": 3
   },
   "file_extension": ".py",
   "mimetype": "text/x-python",
   "name": "python",
   "nbconvert_exporter": "python",
   "pygments_lexer": "ipython3",
   "version": "3.9.20"
  }
 },
 "nbformat": 4,
 "nbformat_minor": 5
}
