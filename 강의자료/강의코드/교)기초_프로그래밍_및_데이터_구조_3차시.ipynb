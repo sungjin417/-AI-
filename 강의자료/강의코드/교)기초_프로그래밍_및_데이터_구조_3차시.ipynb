{
 "cells": [
  {
   "cell_type": "markdown",
   "id": "2fb07011",
   "metadata": {},
   "source": [
    "\n",
    "# 🌼 기초 프로그래밍 및 데이터 구조 - 3차시(24.10.25)\n",
    "\n",
    "---\n"
   ]
  },
  {
   "cell_type": "markdown",
   "id": "4a8d1d12",
   "metadata": {},
   "source": [
    "## 1. 리스트"
   ]
  },
  {
   "cell_type": "markdown",
   "id": "28843c18",
   "metadata": {},
   "source": [
    "- 리스트는 여러 요소를 하나의 변수에 담을 수 있는 자료형  \n",
    "- 리스트는 대괄호 `[]`로 정의하며, 요소는 쉼표로 구분"
   ]
  },
  {
   "cell_type": "code",
   "execution_count": 1,
   "id": "89f1c372",
   "metadata": {},
   "outputs": [
    {
     "name": "stdout",
     "output_type": "stream",
     "text": [
      "[1, 2, 3, 4, 5]\n"
     ]
    }
   ],
   "source": [
    "numbers = [1, 2, 3, 4, 5]\n",
    "print(numbers)"
   ]
  },
  {
   "cell_type": "code",
   "execution_count": 2,
   "id": "80869673",
   "metadata": {},
   "outputs": [
    {
     "name": "stdout",
     "output_type": "stream",
     "text": [
      "[]\n"
     ]
    }
   ],
   "source": [
    "list1 = list()\n",
    "print(list1)"
   ]
  },
  {
   "cell_type": "code",
   "execution_count": 3,
   "id": "60994752",
   "metadata": {},
   "outputs": [
    {
     "name": "stdout",
     "output_type": "stream",
     "text": [
      "['apple', 'banana', 'cherry']\n"
     ]
    }
   ],
   "source": [
    "fruits = ['apple', 'banana', 'cherry']\n",
    "print(fruits)"
   ]
  },
  {
   "cell_type": "code",
   "execution_count": 6,
   "id": "0f31afb7",
   "metadata": {},
   "outputs": [
    {
     "name": "stdout",
     "output_type": "stream",
     "text": [
      "[True, False]\n"
     ]
    }
   ],
   "source": [
    "bool_list = [True, False]\n",
    "print(bool_list)"
   ]
  },
  {
   "cell_type": "code",
   "execution_count": 7,
   "id": "e01d19fc",
   "metadata": {},
   "outputs": [
    {
     "name": "stdout",
     "output_type": "stream",
     "text": [
      "['apple', 100, True, 3.141592]\n"
     ]
    }
   ],
   "source": [
    "mixed = ['apple', 100, True, 3.141592]\n",
    "print(mixed)"
   ]
  },
  {
   "cell_type": "code",
   "execution_count": 8,
   "id": "351ac1e7",
   "metadata": {},
   "outputs": [],
   "source": [
    "duplicates = [1, 2, 2, 3, 4, 4, 5, 5, 5]"
   ]
  },
  {
   "cell_type": "code",
   "execution_count": 9,
   "id": "5e98cce2",
   "metadata": {},
   "outputs": [
    {
     "data": {
      "text/plain": [
       "[1, 2, 2, 3, 4, 4, 5, 5, 5]"
      ]
     },
     "execution_count": 9,
     "metadata": {},
     "output_type": "execute_result"
    }
   ],
   "source": [
    "duplicates"
   ]
  },
  {
   "cell_type": "code",
   "execution_count": 10,
   "id": "99b3e2fa",
   "metadata": {},
   "outputs": [
    {
     "name": "stdout",
     "output_type": "stream",
     "text": [
      "[1, 2, 3, [1, 2, 3]]\n"
     ]
    }
   ],
   "source": [
    "double = [1,2,3, [1, 2, 3]]\n",
    "print(double)"
   ]
  },
  {
   "cell_type": "markdown",
   "id": "00d363f3",
   "metadata": {},
   "source": [
    "### 연산"
   ]
  },
  {
   "cell_type": "code",
   "execution_count": 11,
   "id": "9201a3c1",
   "metadata": {},
   "outputs": [],
   "source": [
    "list1 = [1, 2, 3]\n",
    "list2 = [4, 5, 6]"
   ]
  },
  {
   "cell_type": "code",
   "execution_count": 12,
   "id": "8ca79c3f",
   "metadata": {},
   "outputs": [
    {
     "name": "stdout",
     "output_type": "stream",
     "text": [
      "[1, 2, 3, 4, 5, 6]\n"
     ]
    }
   ],
   "source": [
    "list3 = list1 + list2\n",
    "print(list3)"
   ]
  },
  {
   "cell_type": "code",
   "execution_count": 13,
   "id": "1fe98e0b",
   "metadata": {},
   "outputs": [
    {
     "name": "stdout",
     "output_type": "stream",
     "text": [
      "[4, 5, 6, 1, 2, 3]\n"
     ]
    }
   ],
   "source": [
    "list4 = list2 + list1\n",
    "print(list4)"
   ]
  },
  {
   "cell_type": "code",
   "execution_count": 14,
   "id": "c72c4e11",
   "metadata": {},
   "outputs": [
    {
     "name": "stdout",
     "output_type": "stream",
     "text": [
      "[1, 2, 3, 1, 2, 3]\n"
     ]
    }
   ],
   "source": [
    "list5 = list1 * 2\n",
    "print(list5)"
   ]
  },
  {
   "cell_type": "code",
   "execution_count": 15,
   "id": "34d21242",
   "metadata": {},
   "outputs": [
    {
     "name": "stdout",
     "output_type": "stream",
     "text": [
      "['a', 'b', 'c', 'a', 'b', 'c', 'a', 'b', 'c']\n"
     ]
    }
   ],
   "source": [
    "list6 = ['a', 'b', 'c']\n",
    "print(list6*3)"
   ]
  },
  {
   "cell_type": "code",
   "execution_count": 16,
   "id": "60125366",
   "metadata": {},
   "outputs": [
    {
     "name": "stdout",
     "output_type": "stream",
     "text": [
      "6\n"
     ]
    }
   ],
   "source": [
    "length = len(list5)\n",
    "print(length)"
   ]
  },
  {
   "cell_type": "code",
   "execution_count": 17,
   "id": "0d2b3eb8",
   "metadata": {},
   "outputs": [],
   "source": [
    "fruits = ['apple', 'banana', 'orange', 'pair', 'cherry']"
   ]
  },
  {
   "cell_type": "code",
   "execution_count": 18,
   "id": "39e19f46",
   "metadata": {},
   "outputs": [
    {
     "name": "stdout",
     "output_type": "stream",
     "text": [
      "True\n"
     ]
    }
   ],
   "source": [
    "print('banana' in fruits)"
   ]
  },
  {
   "cell_type": "code",
   "execution_count": 19,
   "id": "527034ee",
   "metadata": {},
   "outputs": [
    {
     "name": "stdout",
     "output_type": "stream",
     "text": [
      "False\n"
     ]
    }
   ],
   "source": [
    "print('grape' in fruits)"
   ]
  },
  {
   "cell_type": "code",
   "execution_count": 20,
   "id": "131e0ccb",
   "metadata": {},
   "outputs": [
    {
     "name": "stdout",
     "output_type": "stream",
     "text": [
      "True\n"
     ]
    }
   ],
   "source": [
    "print('grape' not in fruits)"
   ]
  },
  {
   "cell_type": "code",
   "execution_count": null,
   "id": "d953ddca",
   "metadata": {},
   "outputs": [],
   "source": [
    "# Q. 아래 문제를 풀어 리스트 연산을 연습해보세요.\n",
    "\n",
    "# person = [\"수지\", \"지민\", \"민정\", \"지헌\"]\n",
    "# age = [10, 20, 30, 40]\n",
    "\n",
    "# 1. age리스트를 2번 반복하여 two_age라는 리스트를 만들고 출력해보세요.\n",
    "# 2. person과 age를 결합하여 person_age 리스트를 만들고 출력해보세요.\n",
    "# 3. 만든 person_age의 길이를 출력해보세요.\n",
    "# 4. 만든 person_age에 '해린'이 포함되어있는지 확인하고 출력해보세요."
   ]
  },
  {
   "cell_type": "code",
   "execution_count": 21,
   "id": "3c13470f",
   "metadata": {},
   "outputs": [],
   "source": [
    "person = [\"수지\", \"지민\", \"민정\", \"지헌\"]\n",
    "age = [10, 20, 30, 40]"
   ]
  },
  {
   "cell_type": "code",
   "execution_count": 22,
   "id": "359b5f5f",
   "metadata": {},
   "outputs": [
    {
     "name": "stdout",
     "output_type": "stream",
     "text": [
      "[10, 20, 30, 40, 10, 20, 30, 40]\n"
     ]
    }
   ],
   "source": [
    "# 1. age리스트를 2번 반복하여 two_age라는 리스트를 만들고 출력해보세요.\n",
    "two_age = age * 2\n",
    "print(two_age)"
   ]
  },
  {
   "cell_type": "code",
   "execution_count": 23,
   "id": "acebe751",
   "metadata": {},
   "outputs": [
    {
     "name": "stdout",
     "output_type": "stream",
     "text": [
      "['수지', '지민', '민정', '지헌', 10, 20, 30, 40]\n"
     ]
    }
   ],
   "source": [
    "# 2. person과 age를 결합하여 person_age 리스트를 만들고 출력해보세요.\n",
    "person_age = person + age\n",
    "print(person_age)"
   ]
  },
  {
   "cell_type": "code",
   "execution_count": 24,
   "id": "c7d62ea2",
   "metadata": {},
   "outputs": [
    {
     "name": "stdout",
     "output_type": "stream",
     "text": [
      "8\n"
     ]
    }
   ],
   "source": [
    "# 3. 만든 person_age의 길이를 출력해보세요.\n",
    "length = len(person_age)\n",
    "print(length)"
   ]
  },
  {
   "cell_type": "code",
   "execution_count": 25,
   "id": "77a59824",
   "metadata": {},
   "outputs": [
    {
     "name": "stdout",
     "output_type": "stream",
     "text": [
      "False\n"
     ]
    }
   ],
   "source": [
    "# 4. 만든 person_age에 '해린'이 포함되어있는지 확인하고 출력해보세요.\n",
    "print('해린' in person_age)"
   ]
  },
  {
   "cell_type": "code",
   "execution_count": null,
   "id": "dcea39b8",
   "metadata": {},
   "outputs": [],
   "source": [
    "# Q2.꼭 사야할 목록 리스트인 must와 할인중인 목록인 sale 리스트가 각각 있습니다.\n",
    "# 할인 중인 물건들은 2개씩 구매하려고 합니다\n",
    "# 총 구매해야하는 목록을 중복 허용하여 shopping 이라는 하나의 리스트로 만들어보세요\n",
    "# must = [\"우유\", \"빵\", \"계란\", \"콜라\"]\n",
    "# sale = [\"초콜릿\", \"커피\"]"
   ]
  },
  {
   "cell_type": "code",
   "execution_count": 26,
   "id": "47b5ec44",
   "metadata": {},
   "outputs": [],
   "source": [
    "must = [\"우유\", \"빵\", \"계란\", \"콜라\"]\n",
    "sale = [\"초콜릿\", \"커피\"]"
   ]
  },
  {
   "cell_type": "code",
   "execution_count": 27,
   "id": "6dcde744",
   "metadata": {},
   "outputs": [
    {
     "name": "stdout",
     "output_type": "stream",
     "text": [
      "['우유', '빵', '계란', '콜라', '초콜릿', '커피', '초콜릿', '커피']\n"
     ]
    }
   ],
   "source": [
    "shopping = must + (sale * 2)\n",
    "print(shopping)"
   ]
  },
  {
   "cell_type": "markdown",
   "id": "e91a931d",
   "metadata": {},
   "source": [
    "### 인덱싱"
   ]
  },
  {
   "cell_type": "code",
   "execution_count": 1,
   "id": "c436f727",
   "metadata": {},
   "outputs": [
    {
     "name": "stdout",
     "output_type": "stream",
     "text": [
      "bear\n"
     ]
    }
   ],
   "source": [
    "animals = ['bear', 'cat', 'dog', 'hamster', 'fox']\n",
    "print(animals[0])"
   ]
  },
  {
   "cell_type": "code",
   "execution_count": 2,
   "id": "c4dbeb12",
   "metadata": {},
   "outputs": [
    {
     "name": "stdout",
     "output_type": "stream",
     "text": [
      "dog\n"
     ]
    }
   ],
   "source": [
    "print(animals[2])"
   ]
  },
  {
   "cell_type": "code",
   "execution_count": 3,
   "id": "a6a964a6",
   "metadata": {},
   "outputs": [
    {
     "name": "stdout",
     "output_type": "stream",
     "text": [
      "fox\n"
     ]
    }
   ],
   "source": [
    "print(animals[-1])"
   ]
  },
  {
   "cell_type": "markdown",
   "id": "1ec7ef68",
   "metadata": {},
   "source": [
    "### 슬라이싱"
   ]
  },
  {
   "cell_type": "code",
   "execution_count": 4,
   "id": "5b899965",
   "metadata": {},
   "outputs": [
    {
     "name": "stdout",
     "output_type": "stream",
     "text": [
      "['cat', 'dog']\n"
     ]
    }
   ],
   "source": [
    "print(animals[1:3])"
   ]
  },
  {
   "cell_type": "code",
   "execution_count": 5,
   "id": "6940badc",
   "metadata": {},
   "outputs": [
    {
     "name": "stdout",
     "output_type": "stream",
     "text": [
      "['bear', 'cat', 'dog']\n"
     ]
    }
   ],
   "source": [
    "print(animals[:3])"
   ]
  },
  {
   "cell_type": "code",
   "execution_count": 6,
   "id": "b790677b",
   "metadata": {},
   "outputs": [
    {
     "name": "stdout",
     "output_type": "stream",
     "text": [
      "['bear', 'cat', 'dog', 'hamster', 'fox']\n"
     ]
    }
   ],
   "source": [
    "print(animals[:])"
   ]
  },
  {
   "cell_type": "code",
   "execution_count": 7,
   "id": "61ae1725",
   "metadata": {},
   "outputs": [
    {
     "name": "stdout",
     "output_type": "stream",
     "text": [
      "['bear', 'dog', 'fox']\n"
     ]
    }
   ],
   "source": [
    "print(animals[::2])"
   ]
  },
  {
   "cell_type": "code",
   "execution_count": 8,
   "id": "8a84d3a0",
   "metadata": {},
   "outputs": [
    {
     "name": "stdout",
     "output_type": "stream",
     "text": [
      "['fox', 'hamster', 'dog', 'cat', 'bear']\n"
     ]
    }
   ],
   "source": [
    "print(animals[::-1])"
   ]
  },
  {
   "cell_type": "code",
   "execution_count": 9,
   "id": "b3607036",
   "metadata": {},
   "outputs": [],
   "source": [
    "temp = [23, 22, 26, 27, 21, 25, 24]"
   ]
  },
  {
   "cell_type": "code",
   "execution_count": 10,
   "id": "fc08c1f6",
   "metadata": {},
   "outputs": [
    {
     "name": "stdout",
     "output_type": "stream",
     "text": [
      "[25, 24]\n"
     ]
    }
   ],
   "source": [
    "weekend = temp[5:]\n",
    "print(weekend)"
   ]
  },
  {
   "cell_type": "markdown",
   "id": "ea608627",
   "metadata": {},
   "source": [
    "### 수정"
   ]
  },
  {
   "cell_type": "code",
   "execution_count": 12,
   "id": "37095403",
   "metadata": {},
   "outputs": [
    {
     "data": {
      "text/plain": [
       "['bear', 'cat', 'dog', 'hamster', 'fox']"
      ]
     },
     "execution_count": 12,
     "metadata": {},
     "output_type": "execute_result"
    }
   ],
   "source": [
    "animals"
   ]
  },
  {
   "cell_type": "code",
   "execution_count": 14,
   "id": "e2f258fe",
   "metadata": {},
   "outputs": [],
   "source": [
    "animals[0] = 'rabbit'"
   ]
  },
  {
   "cell_type": "code",
   "execution_count": 15,
   "id": "9d525979",
   "metadata": {},
   "outputs": [
    {
     "name": "stdout",
     "output_type": "stream",
     "text": [
      "['rabbit', 'cat', 'dog', 'hamster', 'fox']\n"
     ]
    }
   ],
   "source": [
    "print(animals)"
   ]
  },
  {
   "cell_type": "code",
   "execution_count": 17,
   "id": "0c105d97",
   "metadata": {},
   "outputs": [
    {
     "name": "stdout",
     "output_type": "stream",
     "text": [
      "['yellow', 'blue']\n"
     ]
    }
   ],
   "source": [
    "# Q. 다음 리스트에서 \"yellow\"와 \"blue\"를 슬라이싱과 스텝을 사용하여 추출하세요.\n",
    "rainbow = [\"red\", \"orange\", \"yellow\", \"green\", \"blue\", \"indigo\" , \"purple\"]\n",
    "result = rainbow[2:5:2]\n",
    "print(result)"
   ]
  },
  {
   "cell_type": "code",
   "execution_count": 19,
   "id": "34b25417",
   "metadata": {},
   "outputs": [
    {
     "name": "stdout",
     "output_type": "stream",
     "text": [
      "['empty', 'empty', 'empty', 'reserved', 'empty', 'empty', 'reserved', 'empty', 'empty', 'empty']\n"
     ]
    }
   ],
   "source": [
    "# Q2. 좌석은 0부터 9까지의 영화관 좌석 리스트에서, 비어있는 좌석은 \"empty\", 예약된 좌석은 \"reserved\"로 표시됩니다.\n",
    "# 비어있는 10개의 좌석에서 4번째, 7번째 좌석을 예약해보세요.\n",
    "seats = ['empty'] *10\n",
    "\n",
    "seats[3] = 'reserved'\n",
    "seats[6] = 'reserved'\n",
    "\n",
    "print(seats)"
   ]
  },
  {
   "cell_type": "code",
   "execution_count": 20,
   "id": "e698b422",
   "metadata": {},
   "outputs": [
    {
     "name": "stdout",
     "output_type": "stream",
     "text": [
      "['pepperoni', 'mushrooms', 'sausage', 'bacon']\n"
     ]
    }
   ],
   "source": [
    "# Q3. 피자 토핑 리스트에서 인덱싱과, 슬라이싱을 사용하여 고객이 원하지 않는 'onions' 토핑을 제거한뒤 출력해보세요\n",
    "toppings = ['pepperoni', 'mushrooms', 'onions', 'sausage', 'bacon']\n",
    "toppings = toppings[:2] + toppings[3:]\n",
    "print(toppings)"
   ]
  },
  {
   "cell_type": "code",
   "execution_count": 23,
   "id": "75137a63",
   "metadata": {},
   "outputs": [
    {
     "name": "stdout",
     "output_type": "stream",
     "text": [
      "['bananas', 'coffee', 'milk', 'bread', 'eggs', 'apples']\n"
     ]
    }
   ],
   "source": [
    "# 쇼핑 리스트에서 중요한 물건이 뒤쪽에 있어 앞쪽으로 옮기려고 합니다.\n",
    "# 마지막 두 항목을 리스트의 가장 앞으로 옮겨 새로운 리스트로 만들어 보세요\n",
    "shopping = [\"milk\", \"bread\", \"eggs\", \"apples\", \"bananas\", \"coffee\"]\n",
    "\n",
    "new1 = shopping[:4]\n",
    "new2 = shopping[4:]\n",
    "new_shopping = new2 + new1\n",
    "print(new_shopping)"
   ]
  },
  {
   "cell_type": "markdown",
   "id": "6e1a8416",
   "metadata": {},
   "source": [
    "### 추가\n",
    "1. append()  \n",
    "   - 리스트의 끝에 새로운 요소 추가\n",
    "2. insert()\n",
    "   - 리스트의 특정 위치에 요소 추가\n",
    "   - 첫 번째 인자로 인덱스, 두 번째 인자로 추가할 값을 전달\n",
    "3. extend()\n",
    "   - 다른 리스트의 요소들을 한꺼번에 추가\n",
    "   - 원래 리스트의 끝에 추가됨"
   ]
  },
  {
   "cell_type": "code",
   "execution_count": 24,
   "id": "f0c6b2b2",
   "metadata": {},
   "outputs": [],
   "source": [
    "fruits = ['apple', 'banana', 'cherry']"
   ]
  },
  {
   "cell_type": "code",
   "execution_count": 25,
   "id": "1307333f",
   "metadata": {},
   "outputs": [
    {
     "name": "stdout",
     "output_type": "stream",
     "text": [
      "['apple', 'banana', 'cherry']\n"
     ]
    }
   ],
   "source": [
    "print(fruits)"
   ]
  },
  {
   "cell_type": "code",
   "execution_count": 26,
   "id": "2d5fb6ce",
   "metadata": {},
   "outputs": [
    {
     "name": "stdout",
     "output_type": "stream",
     "text": [
      "['apple', 'banana', 'cherry', 'mango']\n"
     ]
    }
   ],
   "source": [
    "fruits.append('mango')\n",
    "print(fruits)"
   ]
  },
  {
   "cell_type": "code",
   "execution_count": 27,
   "id": "489834b1",
   "metadata": {},
   "outputs": [
    {
     "name": "stdout",
     "output_type": "stream",
     "text": [
      "['blueberry', 'apple', 'banana', 'cherry', 'mango']\n"
     ]
    }
   ],
   "source": [
    "fruits.insert(0,'blueberry')\n",
    "print(fruits)"
   ]
  },
  {
   "cell_type": "code",
   "execution_count": 28,
   "id": "c31e2a64",
   "metadata": {},
   "outputs": [
    {
     "name": "stdout",
     "output_type": "stream",
     "text": [
      "['blueberry', 'apple', 'banana', 'peach', 'cherry', 'mango']\n"
     ]
    }
   ],
   "source": [
    "fruits.insert(3, 'peach')\n",
    "print(fruits)"
   ]
  },
  {
   "cell_type": "code",
   "execution_count": 29,
   "id": "011c1d21",
   "metadata": {},
   "outputs": [],
   "source": [
    "add_fruits = ['grape', 'orange']"
   ]
  },
  {
   "cell_type": "code",
   "execution_count": 30,
   "id": "9cf65405",
   "metadata": {},
   "outputs": [
    {
     "name": "stdout",
     "output_type": "stream",
     "text": [
      "['blueberry', 'apple', 'banana', 'peach', 'cherry', 'mango', 'grape', 'orange']\n"
     ]
    }
   ],
   "source": [
    "fruits.extend(add_fruits)\n",
    "print(fruits)"
   ]
  },
  {
   "cell_type": "code",
   "execution_count": 31,
   "id": "c957992d",
   "metadata": {},
   "outputs": [
    {
     "name": "stdout",
     "output_type": "stream",
     "text": [
      "['Bob', 'Jack', 'Dana', 'Penny', 'Alice']\n"
     ]
    }
   ],
   "source": [
    "# Q1. 기존 guests 명단에 Alice 추가하기\n",
    "# * 어떤 자리에 추가해도 무방합니다\n",
    "guests = ['Bob', 'Jack', 'Dana', 'Penny']\n",
    "guests.append('Alice')\n",
    "print(guests)"
   ]
  },
  {
   "cell_type": "code",
   "execution_count": 32,
   "id": "6f228ba4",
   "metadata": {},
   "outputs": [
    {
     "name": "stdout",
     "output_type": "stream",
     "text": [
      "['Bob', 'Jack', 'Alice', 'Dana', 'Penny']\n"
     ]
    }
   ],
   "source": [
    "guests = ['Bob', 'Jack', 'Dana', 'Penny']\n",
    "guests.insert(2,'Alice')\n",
    "print(guests)"
   ]
  },
  {
   "cell_type": "code",
   "execution_count": 33,
   "id": "b802c68b",
   "metadata": {},
   "outputs": [
    {
     "name": "stdout",
     "output_type": "stream",
     "text": [
      "['apple', 'banana', 'bread', 'orange', 'cheese']\n"
     ]
    }
   ],
   "source": [
    "# Q2. 기존 cart에 orange, cheese 추가 하기\n",
    "# * 어떤 자리에 추가해도 무방합니다\n",
    "cart = ['apple', 'banana', 'bread']\n",
    "add_cart = ['orange', 'cheese']\n",
    "\n",
    "cart.extend(add_cart)\n",
    "print(cart)"
   ]
  },
  {
   "cell_type": "code",
   "execution_count": 34,
   "id": "ca1374fa",
   "metadata": {},
   "outputs": [
    {
     "name": "stdout",
     "output_type": "stream",
     "text": [
      "['코딩연습', '운동하기', '청소하기', '책읽기', '물마시기', '장보기']\n"
     ]
    }
   ],
   "source": [
    "# Q3. 투두리스트에 긴급도가 높은 중요한 일 첫 번째 항목으로 추가하기\n",
    "todo = ['운동하기', '청소하기', '책읽기', '물마시기', '장보기']\n",
    "todo.insert(0, '코딩연습')\n",
    "print(todo)"
   ]
  },
  {
   "cell_type": "code",
   "execution_count": 35,
   "id": "8142b712",
   "metadata": {},
   "outputs": [
    {
     "name": "stdout",
     "output_type": "stream",
     "text": [
      "['Lisa', 'Son', 'Jenny', 'Jack', 'Jason', 'Manny']\n"
     ]
    }
   ],
   "source": [
    "# Q4. 팀프로젝트 팀 합치기, 기존 우리팀 목록인 team에 새로운 팀원 목록인 new를 합쳐 기존 팀 리스트에 추가해보세요\n",
    "team = ['Lisa', 'Son', 'Jenny']\n",
    "new = ['Jack', 'Jason', 'Manny']\n",
    "team.extend(new)\n",
    "print(team)"
   ]
  },
  {
   "cell_type": "code",
   "execution_count": 37,
   "id": "b472ba63",
   "metadata": {},
   "outputs": [
    {
     "name": "stdout",
     "output_type": "stream",
     "text": [
      "['꽃집', '빵집', '편의점', '생선가게']\n"
     ]
    }
   ],
   "source": [
    "# Q5. 쇼핑하는데에 최적의 경로에 따라 들려야 할 곳을 순서대로 나열하려고 합니다.\n",
    "# 비어있는 road 리스트를 만들고 (꽃집, 빵집, 편의점, 생선가게) 순으로 insert 메서드를 사용하여 리스트에 추가해보세요\n",
    "road = []\n",
    "\n",
    "road.insert(0, '꽃집')\n",
    "road.insert(1, '빵집')\n",
    "road.insert(2, '편의점')\n",
    "road.insert(3, '생선가게')\n",
    "\n",
    "print(road)"
   ]
  },
  {
   "cell_type": "markdown",
   "id": "c757da66",
   "metadata": {},
   "source": [
    "### 삭제\n",
    "1. remove()\n",
    "   - 리스트에서 특정 값을 찾아 삭제\n",
    "   - 동일한 값이 여러개 있는 경우, 첫 번째로 발견된 값만 삭제\n",
    "2. pop()\n",
    "   - 특정 위치의 요소를 삭제하며 `그 값을 반환`\n",
    "   - 인덱스를 지정하지 않으면 기본적으로 마지막 요소를 삭제\n",
    "3. del\n",
    "   - 특정 인덱스 또는 리스트 전체를 삭제\n",
    "4. clear()\n",
    "   - 리스트의 모든 요소를 삭제하여 빈 리스트"
   ]
  },
  {
   "cell_type": "code",
   "execution_count": 38,
   "id": "792fa658",
   "metadata": {},
   "outputs": [],
   "source": [
    "animals = ['cat', 'dog', 'bear', 'tiger', 'cat', 'lion', 'hipo', 'hamster']"
   ]
  },
  {
   "cell_type": "code",
   "execution_count": 39,
   "id": "a22ea58a",
   "metadata": {},
   "outputs": [
    {
     "name": "stdout",
     "output_type": "stream",
     "text": [
      "['cat', 'dog', 'bear', 'tiger', 'cat', 'lion', 'hipo', 'hamster']\n"
     ]
    }
   ],
   "source": [
    "print(animals)"
   ]
  },
  {
   "cell_type": "code",
   "execution_count": 41,
   "id": "e60ad0bd",
   "metadata": {},
   "outputs": [
    {
     "name": "stdout",
     "output_type": "stream",
     "text": [
      "['dog', 'bear', 'tiger', 'lion', 'hipo', 'hamster']\n"
     ]
    }
   ],
   "source": [
    "animals.remove('cat')\n",
    "print(animals)"
   ]
  },
  {
   "cell_type": "code",
   "execution_count": 42,
   "id": "44016286",
   "metadata": {},
   "outputs": [
    {
     "name": "stdout",
     "output_type": "stream",
     "text": [
      "hamster\n",
      "['dog', 'bear', 'tiger', 'lion', 'hipo']\n"
     ]
    }
   ],
   "source": [
    "last_animal = animals.pop()\n",
    "print(last_animal)\n",
    "print(animals)"
   ]
  },
  {
   "cell_type": "code",
   "execution_count": 43,
   "id": "33c866f2",
   "metadata": {},
   "outputs": [
    {
     "name": "stdout",
     "output_type": "stream",
     "text": [
      "dog\n",
      "['bear', 'tiger', 'lion', 'hipo']\n"
     ]
    }
   ],
   "source": [
    "first_animal = animals.pop(0)\n",
    "print(first_animal)\n",
    "print(animals)"
   ]
  },
  {
   "cell_type": "code",
   "execution_count": 44,
   "id": "4bc49db8",
   "metadata": {},
   "outputs": [
    {
     "name": "stdout",
     "output_type": "stream",
     "text": [
      "['bear', 'lion', 'hipo']\n"
     ]
    }
   ],
   "source": [
    "del animals[1]\n",
    "print(animals)"
   ]
  },
  {
   "cell_type": "code",
   "execution_count": 45,
   "id": "ef43eea1",
   "metadata": {},
   "outputs": [],
   "source": [
    "del animals"
   ]
  },
  {
   "cell_type": "code",
   "execution_count": 46,
   "id": "31c7861a",
   "metadata": {},
   "outputs": [
    {
     "ename": "NameError",
     "evalue": "name 'animals' is not defined",
     "output_type": "error",
     "traceback": [
      "\u001b[1;31m---------------------------------------------------------------------------\u001b[0m",
      "\u001b[1;31mNameError\u001b[0m                                 Traceback (most recent call last)",
      "Cell \u001b[1;32mIn[46], line 1\u001b[0m\n\u001b[1;32m----> 1\u001b[0m \u001b[38;5;28mprint\u001b[39m(\u001b[43manimals\u001b[49m)\n",
      "\u001b[1;31mNameError\u001b[0m: name 'animals' is not defined"
     ]
    }
   ],
   "source": [
    "print(animals)"
   ]
  },
  {
   "cell_type": "code",
   "execution_count": 48,
   "id": "28dec010",
   "metadata": {},
   "outputs": [],
   "source": [
    "animals = ['cat', 'dog', 'bear', 'tiger', 'cat', 'lion', 'hipo', 'hamster']"
   ]
  },
  {
   "cell_type": "code",
   "execution_count": 49,
   "id": "655a78f6",
   "metadata": {},
   "outputs": [
    {
     "name": "stdout",
     "output_type": "stream",
     "text": [
      "[]\n"
     ]
    }
   ],
   "source": [
    "animals.clear()\n",
    "print(animals)"
   ]
  },
  {
   "cell_type": "code",
   "execution_count": 50,
   "id": "0471a19a",
   "metadata": {},
   "outputs": [
    {
     "name": "stdout",
     "output_type": "stream",
     "text": [
      "['apple', 'banana', 'orange', 'apple', 'coffee', 'milk', 'coffee', 'bread']\n"
     ]
    }
   ],
   "source": [
    "# Q1. 쇼핑 리스트가 너무 많아져 특정 물건을 빼려고 합니다.\n",
    "# 목록에서 mouse, coffee, pen, cup을 제거해보세요. \n",
    "# 만약 지워야 하는 목록에 해당하는 물건이 여러 개 있을 경우 첫 번째 항목만 제거합니다.\n",
    "shopping_cart = ['apple', 'mouse', 'coffee', 'banana', 'orange', 'pen', 'apple', 'coffee', 'milk', 'coffee', 'bread', 'cup']\n",
    "\n",
    "shopping_cart.remove('mouse')\n",
    "shopping_cart.remove('coffee')\n",
    "shopping_cart.remove('pen')\n",
    "shopping_cart.remove('cup')\n",
    "print(shopping_cart)"
   ]
  },
  {
   "cell_type": "code",
   "execution_count": 51,
   "id": "87be8161",
   "metadata": {},
   "outputs": [
    {
     "name": "stdout",
     "output_type": "stream",
     "text": [
      "bread\n"
     ]
    }
   ],
   "source": [
    "# Q2. 카트에 담은 물건 중 가장 마지막에 추가된 물건을 뺴려고 합니다.\n",
    "# 물건을 제거하고 제거된 물건이 무엇이었는지 출력해보세요.\n",
    "\n",
    "shopping_cart = [\"apple\", \"banana\", \"orange\", \"milk\", \"bread\"]\n",
    "last = shopping_cart.pop()\n",
    "print(last)"
   ]
  },
  {
   "cell_type": "code",
   "execution_count": 52,
   "id": "354268ad",
   "metadata": {},
   "outputs": [
    {
     "name": "stdout",
     "output_type": "stream",
     "text": [
      "[]\n"
     ]
    }
   ],
   "source": [
    "# Q3. 오늘 해야할 일이 리스트로 있었지만, 모든 일을 끝냈습니다. 할 일 목록을 완전히 비워보세요.\n",
    "\n",
    "todo = [\"회의 참석\", \"업무 분담\", \"회의록 작성\", \"유지보수\", '성과보고']\n",
    "\n",
    "todo.clear()\n",
    "\n",
    "print(todo)"
   ]
  },
  {
   "cell_type": "code",
   "execution_count": 53,
   "id": "45477b83",
   "metadata": {},
   "outputs": [
    {
     "name": "stdout",
     "output_type": "stream",
     "text": [
      "['Task 1', 'Task 2', 'Task 6']\n"
     ]
    }
   ],
   "source": [
    "# Q4. 리스트 중간에 있는 항목들을 제거하려고 합니다. Task 3~Task 5까지 제거해보세요\n",
    "tasks = [\"Task 1\", \"Task 2\", \"Task 3\", \"Task 4\", \"Task 5\", \"Task 6\"]\n",
    "\n",
    "del tasks[2:5]\n",
    "\n",
    "print(tasks)"
   ]
  },
  {
   "cell_type": "code",
   "execution_count": 54,
   "id": "cd57d323",
   "metadata": {},
   "outputs": [],
   "source": [
    "# Q5. 카트를 완전히 삭제해보세요.\n",
    "cart = [\"apple\", \"banana\", \"orange\", \"milk\", \"bread\"]\n",
    "\n",
    "del cart"
   ]
  },
  {
   "cell_type": "code",
   "execution_count": 55,
   "id": "281366ca",
   "metadata": {},
   "outputs": [
    {
     "ename": "NameError",
     "evalue": "name 'cart' is not defined",
     "output_type": "error",
     "traceback": [
      "\u001b[1;31m---------------------------------------------------------------------------\u001b[0m",
      "\u001b[1;31mNameError\u001b[0m                                 Traceback (most recent call last)",
      "Cell \u001b[1;32mIn[55], line 1\u001b[0m\n\u001b[1;32m----> 1\u001b[0m \u001b[38;5;28mprint\u001b[39m(\u001b[43mcart\u001b[49m)\n",
      "\u001b[1;31mNameError\u001b[0m: name 'cart' is not defined"
     ]
    }
   ],
   "source": [
    "print(cart)"
   ]
  },
  {
   "cell_type": "code",
   "execution_count": 56,
   "id": "a628fb45",
   "metadata": {},
   "outputs": [
    {
     "name": "stdout",
     "output_type": "stream",
     "text": [
      "[]\n"
     ]
    }
   ],
   "source": [
    "# Q6. 모든 프로젝트를 비워 빈 리스트로 반환해보세요\n",
    "project = [\"Step 1\", \"Step 2\", \"Step 3\", \"Step 4\", \"Step 5\"]\n",
    "\n",
    "project.clear()\n",
    "print(project)"
   ]
  },
  {
   "cell_type": "code",
   "execution_count": 62,
   "id": "e459d24a",
   "metadata": {},
   "outputs": [],
   "source": [
    "animals = ['cat', 'dog', 'rabbit', 'cat', 'cat']"
   ]
  },
  {
   "cell_type": "code",
   "execution_count": 63,
   "id": "8a633eb3",
   "metadata": {},
   "outputs": [
    {
     "name": "stdout",
     "output_type": "stream",
     "text": [
      "['cat', 'cat', 'cat']\n"
     ]
    }
   ],
   "source": [
    "a = list(filter(lambda x : x=='cat', animals))\n",
    "print(a)"
   ]
  },
  {
   "cell_type": "markdown",
   "id": "8973dc88",
   "metadata": {},
   "source": [
    "### 내장함수\n",
    "1. 최대값 (max)\n",
    "2. 최소값 (min)\n",
    "3. 합계 (sum)"
   ]
  },
  {
   "cell_type": "code",
   "execution_count": 67,
   "id": "469a8112",
   "metadata": {},
   "outputs": [],
   "source": [
    "ex_list = [3, 7, 5, 2, 8, 4, 0, 26, 53, -3]"
   ]
  },
  {
   "cell_type": "code",
   "execution_count": 68,
   "id": "90b176dc",
   "metadata": {},
   "outputs": [
    {
     "data": {
      "text/plain": [
       "53"
      ]
     },
     "execution_count": 68,
     "metadata": {},
     "output_type": "execute_result"
    }
   ],
   "source": [
    "max(ex_list)"
   ]
  },
  {
   "cell_type": "code",
   "execution_count": 69,
   "id": "81f5f1dc",
   "metadata": {},
   "outputs": [
    {
     "data": {
      "text/plain": [
       "-3"
      ]
     },
     "execution_count": 69,
     "metadata": {},
     "output_type": "execute_result"
    }
   ],
   "source": [
    "min(ex_list)"
   ]
  },
  {
   "cell_type": "code",
   "execution_count": 70,
   "id": "16b35267",
   "metadata": {},
   "outputs": [
    {
     "data": {
      "text/plain": [
       "105"
      ]
     },
     "execution_count": 70,
     "metadata": {},
     "output_type": "execute_result"
    }
   ],
   "source": [
    "sum(ex_list)"
   ]
  },
  {
   "cell_type": "code",
   "execution_count": 71,
   "id": "4f88bf2b",
   "metadata": {},
   "outputs": [],
   "source": [
    "ex_list = [3, 7, 5, 2, 8, 7, 8, 7]"
   ]
  },
  {
   "cell_type": "code",
   "execution_count": 72,
   "id": "172c75a4",
   "metadata": {},
   "outputs": [
    {
     "data": {
      "text/plain": [
       "3"
      ]
     },
     "execution_count": 72,
     "metadata": {},
     "output_type": "execute_result"
    }
   ],
   "source": [
    "ex_list.count(7)"
   ]
  },
  {
   "cell_type": "code",
   "execution_count": 73,
   "id": "1c7c7673",
   "metadata": {},
   "outputs": [],
   "source": [
    "ex_list2 = ['a', 'b', 'c', 'a', 'a']"
   ]
  },
  {
   "cell_type": "code",
   "execution_count": 74,
   "id": "6c5ff99f",
   "metadata": {},
   "outputs": [
    {
     "data": {
      "text/plain": [
       "3"
      ]
     },
     "execution_count": 74,
     "metadata": {},
     "output_type": "execute_result"
    }
   ],
   "source": [
    "ex_list2.count('a')"
   ]
  },
  {
   "cell_type": "code",
   "execution_count": 75,
   "id": "cc5b6e73",
   "metadata": {},
   "outputs": [
    {
     "data": {
      "text/plain": [
       "1"
      ]
     },
     "execution_count": 75,
     "metadata": {},
     "output_type": "execute_result"
    }
   ],
   "source": [
    "ex_list2.index('b')"
   ]
  },
  {
   "cell_type": "code",
   "execution_count": 76,
   "id": "467136a3",
   "metadata": {},
   "outputs": [
    {
     "data": {
      "text/plain": [
       "0"
      ]
     },
     "execution_count": 76,
     "metadata": {},
     "output_type": "execute_result"
    }
   ],
   "source": [
    "ex_list2.index('a')"
   ]
  },
  {
   "cell_type": "code",
   "execution_count": 77,
   "id": "80403e2b",
   "metadata": {},
   "outputs": [
    {
     "name": "stdout",
     "output_type": "stream",
     "text": [
      "15000\n"
     ]
    }
   ],
   "source": [
    "# Q1. 여행 갈 떄 필요한 물건 가격 리스트 입니다. 이 리스트에서 가장 비싼 가격을 출력해보세요.\n",
    "prices = [12000, 8500, 15000, 6000, 7000]\n",
    "most = max(prices)\n",
    "print(most)"
   ]
  },
  {
   "cell_type": "code",
   "execution_count": 78,
   "id": "ef36d28b",
   "metadata": {},
   "outputs": [
    {
     "name": "stdout",
     "output_type": "stream",
     "text": [
      "2.0\n"
     ]
    }
   ],
   "source": [
    "# Q2. 여행지를 이동할 떄 걸린 시간을 담은 리스트 입니다. 가장 짧게 걸린 시간을 출력해보세요\n",
    "times = [3.5, 5.2, 2.0, 4.8, 6.1]\n",
    "shortest = min(times)\n",
    "print(shortest)"
   ]
  },
  {
   "cell_type": "code",
   "execution_count": 79,
   "id": "c66c302a",
   "metadata": {},
   "outputs": [
    {
     "name": "stdout",
     "output_type": "stream",
     "text": [
      "410000\n"
     ]
    }
   ],
   "source": [
    "# Q3. 여행시 지출한 경비 리스트입니다. 총 경비를 계산해보세요.\n",
    "expenses = [100000, 50000, 120000, 80000, 60000]\n",
    "total = sum(expenses)\n",
    "print(total)"
   ]
  },
  {
   "cell_type": "code",
   "execution_count": 80,
   "id": "5664476c",
   "metadata": {},
   "outputs": [
    {
     "name": "stdout",
     "output_type": "stream",
     "text": [
      "3\n"
     ]
    }
   ],
   "source": [
    "# Q4. 'apple'이 몇 번 등장하는지 출력해보세요\n",
    "fruits = ['apple', 'banana', 'cherry', 'apple', 'apple', 'banana']\n",
    "apple_count = fruits.count('apple')\n",
    "print(apple_count)"
   ]
  },
  {
   "cell_type": "code",
   "execution_count": 81,
   "id": "29ecc883",
   "metadata": {},
   "outputs": [
    {
     "name": "stdout",
     "output_type": "stream",
     "text": [
      "1\n"
     ]
    }
   ],
   "source": [
    "# Q5. 'banana'가 처음 등장하는 인덱스를 출력해보세요.\n",
    "fruits = ['apple', 'banana', 'cherry', 'apple', 'apple', 'banana']\n",
    "banana_index = fruits.index('banana')\n",
    "print(banana_index)"
   ]
  },
  {
   "cell_type": "markdown",
   "id": "a836173d",
   "metadata": {},
   "source": [
    "### 중첩 리스트"
   ]
  },
  {
   "cell_type": "code",
   "execution_count": 82,
   "id": "dfb8072e",
   "metadata": {},
   "outputs": [],
   "source": [
    "duet_list =[[1, 2], [3, 4], [5, 6]]"
   ]
  },
  {
   "cell_type": "code",
   "execution_count": 83,
   "id": "e3458607",
   "metadata": {},
   "outputs": [
    {
     "data": {
      "text/plain": [
       "[1, 2]"
      ]
     },
     "execution_count": 83,
     "metadata": {},
     "output_type": "execute_result"
    }
   ],
   "source": [
    "duet_list[0]"
   ]
  },
  {
   "cell_type": "code",
   "execution_count": 84,
   "id": "f0b1e70b",
   "metadata": {},
   "outputs": [
    {
     "data": {
      "text/plain": [
       "1"
      ]
     },
     "execution_count": 84,
     "metadata": {},
     "output_type": "execute_result"
    }
   ],
   "source": [
    "duet_list[0][0]"
   ]
  },
  {
   "cell_type": "code",
   "execution_count": 85,
   "id": "20df14d1",
   "metadata": {},
   "outputs": [
    {
     "data": {
      "text/plain": [
       "[5, 6]"
      ]
     },
     "execution_count": 85,
     "metadata": {},
     "output_type": "execute_result"
    }
   ],
   "source": [
    "duet_list[-1]"
   ]
  },
  {
   "cell_type": "code",
   "execution_count": 86,
   "id": "ecec7858",
   "metadata": {},
   "outputs": [
    {
     "data": {
      "text/plain": [
       "6"
      ]
     },
     "execution_count": 86,
     "metadata": {},
     "output_type": "execute_result"
    }
   ],
   "source": [
    "duet_list[-1][-1]"
   ]
  },
  {
   "cell_type": "code",
   "execution_count": 87,
   "id": "74add536",
   "metadata": {},
   "outputs": [],
   "source": [
    "info = [\n",
    "    [100, '짱구'],\n",
    "    [101, '유리'],\n",
    "    [102, '훈이'],\n",
    "    [103, '철수'],\n",
    "    [104, '맹구']\n",
    "]"
   ]
  },
  {
   "cell_type": "code",
   "execution_count": 88,
   "id": "7e140a06",
   "metadata": {},
   "outputs": [
    {
     "data": {
      "text/plain": [
       "100"
      ]
     },
     "execution_count": 88,
     "metadata": {},
     "output_type": "execute_result"
    }
   ],
   "source": [
    "info[0][0]"
   ]
  },
  {
   "cell_type": "code",
   "execution_count": 89,
   "id": "f6fe5278",
   "metadata": {},
   "outputs": [
    {
     "name": "stdout",
     "output_type": "stream",
     "text": [
      "짱구의 아이디는 100로 접근한다.\n"
     ]
    }
   ],
   "source": [
    "print(f'짱구의 아이디는 {info[0][0]}로 접근한다.')"
   ]
  },
  {
   "cell_type": "code",
   "execution_count": 91,
   "id": "cdc5cfdd",
   "metadata": {},
   "outputs": [
    {
     "name": "stdout",
     "output_type": "stream",
     "text": [
      "103번 아이디의 주인은 철수입니다.\n"
     ]
    }
   ],
   "source": [
    "print(f'103번 아이디의 주인은 {info[3][-1]}입니다.')"
   ]
  },
  {
   "cell_type": "code",
   "execution_count": 92,
   "id": "15eed6a5",
   "metadata": {},
   "outputs": [
    {
     "name": "stdout",
     "output_type": "stream",
     "text": [
      "마지막 아이디는104고, 이 아이디의 주인은 맹구입니다.\n"
     ]
    }
   ],
   "source": [
    "print(f'마지막 아이디는{info[-1][0]}고, 이 아이디의 주인은 {info[-1][-1]}입니다.')"
   ]
  },
  {
   "cell_type": "code",
   "execution_count": 93,
   "id": "d64a1648",
   "metadata": {},
   "outputs": [],
   "source": [
    "ex_list = [[1, '철수', '짱구'], [2, '유리', '수지'], [3, '훈이', '맹구']]"
   ]
  },
  {
   "cell_type": "code",
   "execution_count": 94,
   "id": "75e58520",
   "metadata": {},
   "outputs": [
    {
     "name": "stdout",
     "output_type": "stream",
     "text": [
      "두번째 조 까지 출력하면 [[1, '철수', '짱구'], [2, '유리', '수지']]입니다\n"
     ]
    }
   ],
   "source": [
    "print(f'두번째 조 까지 출력하면 {ex_list[0:2]}입니다')"
   ]
  },
  {
   "cell_type": "code",
   "execution_count": 95,
   "id": "d532a45b",
   "metadata": {},
   "outputs": [
    {
     "name": "stdout",
     "output_type": "stream",
     "text": [
      "두번째조부터 마지막 조까지 출력하면 [[2, '유리', '수지'], [3, '훈이', '맹구']]입니다.\n"
     ]
    }
   ],
   "source": [
    "print(f'두번째조부터 마지막 조까지 출력하면 {ex_list[1:]}입니다.')"
   ]
  },
  {
   "cell_type": "code",
   "execution_count": 96,
   "id": "72c1f856",
   "metadata": {},
   "outputs": [
    {
     "data": {
      "text/plain": [
       "[1, '철수', '짱구']"
      ]
     },
     "execution_count": 96,
     "metadata": {},
     "output_type": "execute_result"
    }
   ],
   "source": [
    "ex_list[0]"
   ]
  },
  {
   "cell_type": "code",
   "execution_count": 97,
   "id": "c27698fd",
   "metadata": {},
   "outputs": [
    {
     "name": "stdout",
     "output_type": "stream",
     "text": [
      "철수의 이름만 불러오려면 인덱싱을 이렇게 해야해요\n"
     ]
    }
   ],
   "source": [
    "print(f'{ex_list[0][1]}의 이름만 불러오려면 인덱싱을 이렇게 해야해요')"
   ]
  },
  {
   "cell_type": "code",
   "execution_count": 99,
   "id": "2c979ac8",
   "metadata": {},
   "outputs": [
    {
     "name": "stdout",
     "output_type": "stream",
     "text": [
      "Alice의 전화번호는 010-1234-5678입니다\n"
     ]
    }
   ],
   "source": [
    "# Q1. 전화번호와 이름 정보가 들어있는 중첩리스트에서 Alice의 전화번호를 출력해보세요\n",
    "contacts = [\n",
    "    ['Denny', '010-3825-7637'],\n",
    "    [\"Alice\", \"010-1234-5678\"],\n",
    "    [\"Bob\", \"010-2345-6789\"],\n",
    "    [\"Charlie\", \"010-3456-7890\"]\n",
    "] \n",
    "alice = contacts[1][-1]\n",
    "print(f'Alice의 전화번호는 {alice}입니다')"
   ]
  },
  {
   "cell_type": "code",
   "execution_count": 101,
   "id": "1afa405e",
   "metadata": {},
   "outputs": [
    {
     "name": "stdout",
     "output_type": "stream",
     "text": [
      "bob의 최고 점수는 88입니다.\n"
     ]
    }
   ],
   "source": [
    "# Q2. 학생들의 성적 중첩리스트에서 Bob의 최고 점수를 출력해보세요\n",
    "students_scores = [\n",
    "    [\"Alice\", [78, 85, 90]],\n",
    "    [\"Bob\", [80, 82, 88]],\n",
    "    [\"Charlie\", [90, 92, 93]]\n",
    "]\n",
    "\n",
    "bob = students_scores[1][1]\n",
    "print(f'bob의 최고 점수는 {max(bob)}입니다.')"
   ]
  },
  {
   "cell_type": "code",
   "execution_count": 103,
   "id": "42824ce6",
   "metadata": {},
   "outputs": [
    {
     "name": "stdout",
     "output_type": "stream",
     "text": [
      "세 번째 책의 저자는 앙투안 드 생텍쥐페리이고, 출판 연도는 1943년입니다\n",
      "모든 책의 총 가격은 40500입니다.\n"
     ]
    }
   ],
   "source": [
    "# Q3. 책 이름, 작가, 출판연도, 가격으로 이루어진 중첩리스트입니다.\n",
    "\n",
    "books = [\n",
    "    [\"데미안\", \"헤르만 헤세\", 1919, 12000],\n",
    "    [\"삼국지\", \"나관중\", 1522, 15000],\n",
    "    [\"어린 왕자\", \"앙투안 드 생텍쥐페리\", 1943, 13500]\n",
    "]\n",
    "\n",
    "# 1. 세 번째 책의 저자와 출판연도를 각각 출력해보세요.\n",
    "# 출력 예시 : 세 번째 책의 저자는 앙투안 드 생텍쥐페리 이고, 출판 연도는 1943년입니다\n",
    "author = books[2][1]\n",
    "year = books[2][2]\n",
    "print(f'세 번째 책의 저자는 {author}이고, 출판 연도는 {year}년입니다')\n",
    "\n",
    "\n",
    "# 2. 모든 책의 총 가격을 계산해보세요\n",
    "cost1 = books[0][3]\n",
    "cost2 = books[1][3]\n",
    "cost3 = books[2][-1]\n",
    "\n",
    "total = cost1 + cost2 + cost3\n",
    "\n",
    "print(f'모든 책의 총 가격은 {total}입니다.')"
   ]
  },
  {
   "cell_type": "markdown",
   "id": "94c01702",
   "metadata": {},
   "source": [
    "## 2. 튜플(Tuple)"
   ]
  },
  {
   "cell_type": "markdown",
   "id": "4f702c09",
   "metadata": {},
   "source": [
    "- 튜플은 리스트와 유사하지만, 튜플의 요소는 변경할 수 없음  \n",
    "- 튜플은 소괄호 `()`로 정의"
   ]
  },
  {
   "cell_type": "code",
   "execution_count": 104,
   "id": "1db2acc9",
   "metadata": {},
   "outputs": [],
   "source": [
    "fruits = ('apple', 'banana', 'cherry')"
   ]
  },
  {
   "cell_type": "code",
   "execution_count": 105,
   "id": "3dfe1d4e",
   "metadata": {},
   "outputs": [
    {
     "name": "stdout",
     "output_type": "stream",
     "text": [
      "('apple', 'banana', 'cherry')\n"
     ]
    }
   ],
   "source": [
    "print(fruits)"
   ]
  },
  {
   "cell_type": "code",
   "execution_count": 106,
   "id": "792d880f",
   "metadata": {},
   "outputs": [
    {
     "name": "stdout",
     "output_type": "stream",
     "text": [
      "[]\n"
     ]
    }
   ],
   "source": [
    "a = list()\n",
    "print(a)"
   ]
  },
  {
   "cell_type": "code",
   "execution_count": 107,
   "id": "028b5976",
   "metadata": {},
   "outputs": [
    {
     "name": "stdout",
     "output_type": "stream",
     "text": [
      "()\n"
     ]
    }
   ],
   "source": [
    "b = tuple()\n",
    "print(b)"
   ]
  },
  {
   "cell_type": "code",
   "execution_count": 108,
   "id": "3cf6db84",
   "metadata": {},
   "outputs": [
    {
     "name": "stdout",
     "output_type": "stream",
     "text": [
      "(1, 2, 3, 4, 5, 6)\n"
     ]
    }
   ],
   "source": [
    "numbers = (1, 2, 3, 4, 5, 6)\n",
    "print(numbers)"
   ]
  },
  {
   "cell_type": "code",
   "execution_count": 110,
   "id": "12fad444",
   "metadata": {},
   "outputs": [
    {
     "name": "stdout",
     "output_type": "stream",
     "text": [
      "(1, 'apple', True, 3.5, [1, 2, 3], (1, 2, 3, 4))\n"
     ]
    }
   ],
   "source": [
    "tuple2 = (1, 'apple', True, 3.5, [1,2,3], (1,2,3,4))\n",
    "print(tuple2)"
   ]
  },
  {
   "cell_type": "markdown",
   "id": "b00013d7",
   "metadata": {},
   "source": [
    "### 연산"
   ]
  },
  {
   "cell_type": "code",
   "execution_count": 111,
   "id": "99bdbee2",
   "metadata": {},
   "outputs": [],
   "source": [
    "tuple1 = (1, 2, 3)\n",
    "tuple2 = (4, 5, 6)"
   ]
  },
  {
   "cell_type": "code",
   "execution_count": 112,
   "id": "1c43b086",
   "metadata": {},
   "outputs": [
    {
     "name": "stdout",
     "output_type": "stream",
     "text": [
      "(1, 2, 3, 4, 5, 6)\n"
     ]
    }
   ],
   "source": [
    "result = tuple1 + tuple2\n",
    "print(result)"
   ]
  },
  {
   "cell_type": "code",
   "execution_count": 113,
   "id": "e143ea92",
   "metadata": {},
   "outputs": [
    {
     "name": "stdout",
     "output_type": "stream",
     "text": [
      "(4, 5, 6, 1, 2, 3)\n"
     ]
    }
   ],
   "source": [
    "result = tuple2 + tuple1\n",
    "print(result)"
   ]
  },
  {
   "cell_type": "markdown",
   "id": "1c9387c3",
   "metadata": {},
   "source": [
    "### 반복"
   ]
  },
  {
   "cell_type": "code",
   "execution_count": 114,
   "id": "87f640b7",
   "metadata": {},
   "outputs": [
    {
     "name": "stdout",
     "output_type": "stream",
     "text": [
      "('apple', 'banana', 'apple', 'banana', 'apple', 'banana')\n"
     ]
    }
   ],
   "source": [
    "tuple1 = ('apple', 'banana')\n",
    "result = tuple1 * 3\n",
    "print(result)"
   ]
  },
  {
   "cell_type": "markdown",
   "id": "1926c2fe",
   "metadata": {},
   "source": [
    "### in과 not in"
   ]
  },
  {
   "cell_type": "code",
   "execution_count": 115,
   "id": "0b98cefc",
   "metadata": {},
   "outputs": [],
   "source": [
    "numbers = (1, 2, 3, 4, 5)"
   ]
  },
  {
   "cell_type": "code",
   "execution_count": 116,
   "id": "4e3eeb75",
   "metadata": {},
   "outputs": [
    {
     "name": "stdout",
     "output_type": "stream",
     "text": [
      "numbers에 3이 있나요? : True\n"
     ]
    }
   ],
   "source": [
    "print(f'numbers에 3이 있나요? : {3 in numbers}')"
   ]
  },
  {
   "cell_type": "code",
   "execution_count": 117,
   "id": "670ed6db",
   "metadata": {},
   "outputs": [
    {
     "name": "stdout",
     "output_type": "stream",
     "text": [
      "numbers에 100이 있나요? : False\n"
     ]
    }
   ],
   "source": [
    "print(f'numbers에 100이 있나요? : {100 in numbers}')"
   ]
  },
  {
   "cell_type": "code",
   "execution_count": 119,
   "id": "78c57ced",
   "metadata": {},
   "outputs": [
    {
     "name": "stdout",
     "output_type": "stream",
     "text": [
      "True\n"
     ]
    }
   ],
   "source": [
    "print('A' not in numbers)"
   ]
  },
  {
   "cell_type": "markdown",
   "id": "bd64a849",
   "metadata": {},
   "source": [
    "### 인덱싱과 슬라이싱"
   ]
  },
  {
   "cell_type": "code",
   "execution_count": 120,
   "id": "03bd519f",
   "metadata": {},
   "outputs": [],
   "source": [
    "tuple1 = ('a', 'b', 'c', 'd', 'e')"
   ]
  },
  {
   "cell_type": "code",
   "execution_count": 121,
   "id": "5ff75526",
   "metadata": {},
   "outputs": [
    {
     "name": "stdout",
     "output_type": "stream",
     "text": [
      "a\n"
     ]
    }
   ],
   "source": [
    "print(tuple1[0])"
   ]
  },
  {
   "cell_type": "code",
   "execution_count": 122,
   "id": "96b598cc",
   "metadata": {},
   "outputs": [
    {
     "name": "stdout",
     "output_type": "stream",
     "text": [
      "e\n"
     ]
    }
   ],
   "source": [
    "print(tuple1[-1])"
   ]
  },
  {
   "cell_type": "code",
   "execution_count": 123,
   "id": "c390ff82",
   "metadata": {},
   "outputs": [
    {
     "name": "stdout",
     "output_type": "stream",
     "text": [
      "('b', 'c', 'd')\n"
     ]
    }
   ],
   "source": [
    "print(tuple1[1:4])"
   ]
  },
  {
   "cell_type": "code",
   "execution_count": 125,
   "id": "2d75f34b",
   "metadata": {},
   "outputs": [
    {
     "name": "stdout",
     "output_type": "stream",
     "text": [
      "('a', 'c', 'e')\n"
     ]
    }
   ],
   "source": [
    "print(tuple1[::2])"
   ]
  },
  {
   "cell_type": "code",
   "execution_count": 126,
   "id": "6c2dbb32",
   "metadata": {},
   "outputs": [
    {
     "ename": "TypeError",
     "evalue": "'tuple' object does not support item assignment",
     "output_type": "error",
     "traceback": [
      "\u001b[1;31m---------------------------------------------------------------------------\u001b[0m",
      "\u001b[1;31mTypeError\u001b[0m                                 Traceback (most recent call last)",
      "Cell \u001b[1;32mIn[126], line 1\u001b[0m\n\u001b[1;32m----> 1\u001b[0m \u001b[43mtuple1\u001b[49m\u001b[43m[\u001b[49m\u001b[38;5;241;43m0\u001b[39;49m\u001b[43m]\u001b[49m \u001b[38;5;241m=\u001b[39m \u001b[38;5;124m'\u001b[39m\u001b[38;5;124mq\u001b[39m\u001b[38;5;124m'\u001b[39m\n",
      "\u001b[1;31mTypeError\u001b[0m: 'tuple' object does not support item assignment"
     ]
    }
   ],
   "source": [
    "tuple1[0] = 'q'"
   ]
  },
  {
   "cell_type": "markdown",
   "id": "763dd2f0",
   "metadata": {},
   "source": [
    "### 중첩 튜플"
   ]
  },
  {
   "cell_type": "code",
   "execution_count": 127,
   "id": "c8dc13a5",
   "metadata": {},
   "outputs": [],
   "source": [
    "numbers = ((1, 2, 3), (4, 5, 6), (7, 8, 9))"
   ]
  },
  {
   "cell_type": "code",
   "execution_count": 129,
   "id": "79273273",
   "metadata": {},
   "outputs": [
    {
     "data": {
      "text/plain": [
       "1"
      ]
     },
     "execution_count": 129,
     "metadata": {},
     "output_type": "execute_result"
    }
   ],
   "source": [
    "numbers[0][0]"
   ]
  },
  {
   "cell_type": "code",
   "execution_count": 130,
   "id": "812203e4",
   "metadata": {},
   "outputs": [
    {
     "data": {
      "text/plain": [
       "9"
      ]
     },
     "execution_count": 130,
     "metadata": {},
     "output_type": "execute_result"
    }
   ],
   "source": [
    "numbers[-1][-1]"
   ]
  },
  {
   "cell_type": "code",
   "execution_count": 132,
   "id": "61c166a7",
   "metadata": {},
   "outputs": [
    {
     "data": {
      "text/plain": [
       "(4, 5, 6)"
      ]
     },
     "execution_count": 132,
     "metadata": {},
     "output_type": "execute_result"
    }
   ],
   "source": [
    "numbers[1]"
   ]
  },
  {
   "cell_type": "code",
   "execution_count": 131,
   "id": "626404a7",
   "metadata": {},
   "outputs": [
    {
     "data": {
      "text/plain": [
       "(4, 5)"
      ]
     },
     "execution_count": 131,
     "metadata": {},
     "output_type": "execute_result"
    }
   ],
   "source": [
    "numbers[1][:2]"
   ]
  },
  {
   "cell_type": "code",
   "execution_count": 134,
   "id": "919226bb",
   "metadata": {},
   "outputs": [
    {
     "name": "stdout",
     "output_type": "stream",
     "text": [
      "p/n\n"
     ]
    }
   ],
   "source": [
    "# Q1. 튜플의 인덱싱과 슬라이싱\n",
    "test_tuple = ('p', 'j', 'y', 'a', 't', 'v', 'h', 'a', 'o', 'n', 'n')\n",
    "\n",
    "# 1. 첫번째 요소와 마지막 요소를 각각 출력해보세요.\n",
    "first = test_tuple[0]\n",
    "last = test_tuple[-1]\n",
    "print(first, last, sep = '/')"
   ]
  },
  {
   "cell_type": "code",
   "execution_count": 135,
   "id": "90d13ede",
   "metadata": {},
   "outputs": [
    {
     "name": "stdout",
     "output_type": "stream",
     "text": [
      "('o', 'n')\n"
     ]
    }
   ],
   "source": [
    "# 2. 'o'와 'n'만 출력해보세요.\n",
    "on = test_tuple[8:10]\n",
    "print(on)"
   ]
  },
  {
   "cell_type": "code",
   "execution_count": 136,
   "id": "925cc890",
   "metadata": {},
   "outputs": [
    {
     "name": "stdout",
     "output_type": "stream",
     "text": [
      "('p', 'y', 't', 'h', 'o', 'n')\n"
     ]
    }
   ],
   "source": [
    "# 3. 두칸씩 건너뛰며 슬라이싱 해보세요.\n",
    "slide = test_tuple[::2]\n",
    "print(slide)"
   ]
  },
  {
   "cell_type": "code",
   "execution_count": 137,
   "id": "59ebaa95",
   "metadata": {},
   "outputs": [
    {
     "name": "stdout",
     "output_type": "stream",
     "text": [
      "두 번째 학생의 첫 번째 과목 점수는 75입니다\n"
     ]
    }
   ],
   "source": [
    "# Q2. 세명의 학생의 두 과목 시험점수인 scores입니다.\n",
    "scores = ((85, 90), (75, 80), (95, 100))\n",
    "\n",
    "# 1. 두 번째 학생의 첫 번째 과목 점수를 출력해보세요.\n",
    "score_21 = scores[1][0]\n",
    "print(f'두 번째 학생의 첫 번째 과목 점수는 {score_21}입니다')"
   ]
  },
  {
   "cell_type": "code",
   "execution_count": 138,
   "id": "526a8f7b",
   "metadata": {},
   "outputs": [
    {
     "name": "stdout",
     "output_type": "stream",
     "text": [
      "첫 번째 학생의 모든 점수는 (85, 90)입니다.\n"
     ]
    }
   ],
   "source": [
    "# 2. 첫 번째 학생의 모든 점수를 출력해보세요.\n",
    "score_1all = scores[0]\n",
    "print(f'첫 번째 학생의 모든 점수는 {score_1all}입니다.')"
   ]
  },
  {
   "cell_type": "markdown",
   "id": "5225a5a2",
   "metadata": {},
   "source": [
    "### 튜플에 값 추가하기"
   ]
  },
  {
   "cell_type": "code",
   "execution_count": 139,
   "id": "89131a97",
   "metadata": {},
   "outputs": [],
   "source": [
    "numbers = (1, 2, 3)"
   ]
  },
  {
   "cell_type": "code",
   "execution_count": 140,
   "id": "4dd4a203",
   "metadata": {},
   "outputs": [],
   "source": [
    "numbers_list = list(numbers)"
   ]
  },
  {
   "cell_type": "code",
   "execution_count": 142,
   "id": "9f499030",
   "metadata": {},
   "outputs": [],
   "source": [
    "numbers_list.append(100)"
   ]
  },
  {
   "cell_type": "code",
   "execution_count": 143,
   "id": "8aee7887",
   "metadata": {},
   "outputs": [
    {
     "name": "stdout",
     "output_type": "stream",
     "text": [
      "[1, 2, 3, 100]\n"
     ]
    }
   ],
   "source": [
    "print(numbers_list)"
   ]
  },
  {
   "cell_type": "code",
   "execution_count": 145,
   "id": "f5ebad38",
   "metadata": {},
   "outputs": [
    {
     "name": "stdout",
     "output_type": "stream",
     "text": [
      "(1, 2, 3, 100)\n"
     ]
    }
   ],
   "source": [
    "new_numbers = tuple(numbers_list)\n",
    "print(new_numbers)"
   ]
  },
  {
   "cell_type": "code",
   "execution_count": 146,
   "id": "f0c6e482",
   "metadata": {},
   "outputs": [
    {
     "name": "stdout",
     "output_type": "stream",
     "text": [
      "정석이는 인덱스1에서 등장합니다.\n"
     ]
    }
   ],
   "source": [
    "# Q1. 입장 순서가 나열되어있는 튜플이 있습니다.'정석'이 등장하는 위치를 출력해보세요 \n",
    "# 학생 이름이 들어 있는 튜플 students \n",
    "students = (\"지수\", \"정석\", \"현호\", \"승희\", \"은주\", \"채린\")\n",
    "\n",
    "정석 = students.index('정석')\n",
    "print(f'정석이는 인덱스{정석}에서 등장합니다.')"
   ]
  },
  {
   "cell_type": "code",
   "execution_count": 147,
   "id": "72e13c7e",
   "metadata": {},
   "outputs": [
    {
     "name": "stdout",
     "output_type": "stream",
     "text": [
      "85는 총 5번 등장합니다\n"
     ]
    }
   ],
   "source": [
    "# Q2. scores 튜플에서 85가 몇 번 등장하는지 출력해보세요\n",
    "scores = (85, 90, 85, 75, 90, 95, 85, 43, 85, 46, 95, 83, 84, 73, 90, 81, 85, 93)\n",
    "\n",
    "count85 = scores.count(85)\n",
    "print(f'85는 총 {count85}번 등장합니다')"
   ]
  },
  {
   "cell_type": "code",
   "execution_count": 148,
   "id": "23979c75",
   "metadata": {},
   "outputs": [
    {
     "name": "stdout",
     "output_type": "stream",
     "text": [
      "[12000, 5000, 23000, 15000, 8000, 5000]\n"
     ]
    }
   ],
   "source": [
    "# Q3. pay튜플에 5000을 추가하고 전체 합계를 계산해보세요\n",
    "pay = (12000, 5000, 23000, 15000, 8000)\n",
    "pay_list = list(pay)\n",
    "pay_list.append(5000)\n",
    "print(pay_list)"
   ]
  },
  {
   "cell_type": "code",
   "execution_count": 149,
   "id": "c7cb4be2",
   "metadata": {},
   "outputs": [
    {
     "name": "stdout",
     "output_type": "stream",
     "text": [
      "총 합계는 68000입니다\n"
     ]
    }
   ],
   "source": [
    "total = sum(pay_list)\n",
    "print(f'총 합계는 {total}입니다')"
   ]
  },
  {
   "cell_type": "code",
   "execution_count": 150,
   "id": "fddea712",
   "metadata": {},
   "outputs": [
    {
     "name": "stdout",
     "output_type": "stream",
     "text": [
      "[10, 25, 25, 50, 100, 50]\n"
     ]
    }
   ],
   "source": [
    "# Q4. numbers에서 중복된 값을 제거하고 최소값을 찾아보세요.\n",
    "\n",
    "numbers = (10, 25, 25, 50, 100, 50)\n",
    "numbers_list = list(numbers)\n",
    "\n",
    "print(numbers_list)"
   ]
  },
  {
   "cell_type": "code",
   "execution_count": 151,
   "id": "6ba9a7f8",
   "metadata": {},
   "outputs": [
    {
     "name": "stdout",
     "output_type": "stream",
     "text": [
      "[10, 25, 50, 100]\n"
     ]
    }
   ],
   "source": [
    "numbers_list.pop(1)\n",
    "numbers_list.pop()\n",
    "print(numbers_list)"
   ]
  },
  {
   "cell_type": "code",
   "execution_count": 152,
   "id": "a9921376",
   "metadata": {},
   "outputs": [
    {
     "name": "stdout",
     "output_type": "stream",
     "text": [
      "중복된 값을 제거하고 찾은 최소값은 10입니다.\n"
     ]
    }
   ],
   "source": [
    "print(f'중복된 값을 제거하고 찾은 최소값은 {min(numbers_list)}입니다.')"
   ]
  },
  {
   "cell_type": "markdown",
   "id": "96ed836d",
   "metadata": {},
   "source": [
    "## 3. 집합(Set)"
   ]
  },
  {
   "cell_type": "markdown",
   "id": "4d28d84e",
   "metadata": {},
   "source": [
    "- 중복되지 않은 요소들을 저장하는 자료형  \n",
    "- 중괄호 `{}`로 정의"
   ]
  },
  {
   "cell_type": "code",
   "execution_count": 1,
   "id": "22e40aaf",
   "metadata": {},
   "outputs": [
    {
     "name": "stdout",
     "output_type": "stream",
     "text": [
      "set()\n"
     ]
    }
   ],
   "source": [
    "set1 = set()\n",
    "print(set1)"
   ]
  },
  {
   "cell_type": "code",
   "execution_count": 24,
   "id": "31a428ca",
   "metadata": {},
   "outputs": [
    {
     "name": "stdout",
     "output_type": "stream",
     "text": [
      "{'green', 'blue', 'red'}\n"
     ]
    }
   ],
   "source": [
    "colors = {'red', 'green', 'blue'}\n",
    "print(colors)"
   ]
  },
  {
   "cell_type": "code",
   "execution_count": 25,
   "id": "9fb04270",
   "metadata": {},
   "outputs": [
    {
     "data": {
      "text/plain": [
       "{'blue', 'green', 'red'}"
      ]
     },
     "execution_count": 25,
     "metadata": {},
     "output_type": "execute_result"
    }
   ],
   "source": [
    "colors"
   ]
  },
  {
   "cell_type": "code",
   "execution_count": 26,
   "id": "4979df4e",
   "metadata": {},
   "outputs": [
    {
     "name": "stdout",
     "output_type": "stream",
     "text": [
      "{'green', 'blue', 'yellow', 'red'}\n"
     ]
    }
   ],
   "source": [
    "colors = {'red', 'green', 'blue', 'yellow'}\n",
    "print(colors)"
   ]
  },
  {
   "cell_type": "markdown",
   "id": "60d1ecdb",
   "metadata": {},
   "source": [
    "### 연산"
   ]
  },
  {
   "cell_type": "code",
   "execution_count": 4,
   "id": "755361f8",
   "metadata": {},
   "outputs": [],
   "source": [
    "set1 = {1, 2, 3, 4, 5}"
   ]
  },
  {
   "cell_type": "code",
   "execution_count": 5,
   "id": "14cf4446",
   "metadata": {},
   "outputs": [
    {
     "name": "stdout",
     "output_type": "stream",
     "text": [
      "True\n"
     ]
    }
   ],
   "source": [
    "print(3 in set1)"
   ]
  },
  {
   "cell_type": "code",
   "execution_count": 6,
   "id": "c7cea4db",
   "metadata": {},
   "outputs": [
    {
     "name": "stdout",
     "output_type": "stream",
     "text": [
      "False\n"
     ]
    }
   ],
   "source": [
    "print('a' in set1)"
   ]
  },
  {
   "cell_type": "code",
   "execution_count": 8,
   "id": "a75e11ff",
   "metadata": {},
   "outputs": [],
   "source": [
    "a = {1, 2, 3}\n",
    "b = {3, 4, 5}"
   ]
  },
  {
   "cell_type": "code",
   "execution_count": 9,
   "id": "fb88c22b",
   "metadata": {},
   "outputs": [
    {
     "ename": "TypeError",
     "evalue": "unsupported operand type(s) for +: 'set' and 'set'",
     "output_type": "error",
     "traceback": [
      "\u001b[1;31m---------------------------------------------------------------------------\u001b[0m",
      "\u001b[1;31mTypeError\u001b[0m                                 Traceback (most recent call last)",
      "Cell \u001b[1;32mIn[9], line 1\u001b[0m\n\u001b[1;32m----> 1\u001b[0m \u001b[43ma\u001b[49m\u001b[38;5;241;43m+\u001b[39;49m\u001b[43mb\u001b[49m\n",
      "\u001b[1;31mTypeError\u001b[0m: unsupported operand type(s) for +: 'set' and 'set'"
     ]
    }
   ],
   "source": [
    "a+b"
   ]
  },
  {
   "cell_type": "code",
   "execution_count": 10,
   "id": "28f26397",
   "metadata": {},
   "outputs": [
    {
     "name": "stdout",
     "output_type": "stream",
     "text": [
      "{1, 2, 3, 4, 5}\n"
     ]
    }
   ],
   "source": [
    "c = a|b\n",
    "print(c)"
   ]
  },
  {
   "cell_type": "code",
   "execution_count": 12,
   "id": "fe849a9b",
   "metadata": {},
   "outputs": [
    {
     "name": "stdout",
     "output_type": "stream",
     "text": [
      "{1, 2, 3, 4, 5}\n"
     ]
    }
   ],
   "source": [
    "d = a.union(b)\n",
    "print(d)"
   ]
  },
  {
   "cell_type": "code",
   "execution_count": 13,
   "id": "b85e975b",
   "metadata": {},
   "outputs": [
    {
     "name": "stdout",
     "output_type": "stream",
     "text": [
      "{3}\n"
     ]
    }
   ],
   "source": [
    "print(a&b)"
   ]
  },
  {
   "cell_type": "code",
   "execution_count": 14,
   "id": "98425200",
   "metadata": {},
   "outputs": [
    {
     "name": "stdout",
     "output_type": "stream",
     "text": [
      "{3}\n"
     ]
    }
   ],
   "source": [
    "print(a.intersection(b))"
   ]
  },
  {
   "cell_type": "code",
   "execution_count": 16,
   "id": "7c3357f7",
   "metadata": {},
   "outputs": [
    {
     "name": "stdout",
     "output_type": "stream",
     "text": [
      "{4, 5}\n"
     ]
    }
   ],
   "source": [
    "c = b - a\n",
    "print(c)"
   ]
  },
  {
   "cell_type": "code",
   "execution_count": 18,
   "id": "a2383999",
   "metadata": {},
   "outputs": [
    {
     "name": "stdout",
     "output_type": "stream",
     "text": [
      "{1, 2}\n"
     ]
    }
   ],
   "source": [
    "d = a.difference(b)\n",
    "print(d)"
   ]
  },
  {
   "cell_type": "code",
   "execution_count": 19,
   "id": "d462fb28",
   "metadata": {},
   "outputs": [],
   "source": [
    "set_a = {1, 2, 3, 4, 5}\n",
    "set_b = {1, 2, 3}"
   ]
  },
  {
   "cell_type": "code",
   "execution_count": 20,
   "id": "1d18324e",
   "metadata": {},
   "outputs": [
    {
     "name": "stdout",
     "output_type": "stream",
     "text": [
      "False\n"
     ]
    }
   ],
   "source": [
    "print(set_a.issubset(set_b))"
   ]
  },
  {
   "cell_type": "code",
   "execution_count": 21,
   "id": "3bbe1ed0",
   "metadata": {},
   "outputs": [
    {
     "name": "stdout",
     "output_type": "stream",
     "text": [
      "True\n"
     ]
    }
   ],
   "source": [
    "print(set_b.issubset(set_a))"
   ]
  },
  {
   "cell_type": "code",
   "execution_count": 22,
   "id": "5e63378e",
   "metadata": {},
   "outputs": [
    {
     "name": "stdout",
     "output_type": "stream",
     "text": [
      "True\n"
     ]
    }
   ],
   "source": [
    "print(set_a.issuperset(set_b))"
   ]
  },
  {
   "cell_type": "code",
   "execution_count": 23,
   "id": "d14008d2",
   "metadata": {},
   "outputs": [
    {
     "name": "stdout",
     "output_type": "stream",
     "text": [
      "False\n"
     ]
    }
   ],
   "source": [
    "print(set_b.issuperset(set_a))"
   ]
  },
  {
   "cell_type": "code",
   "execution_count": 28,
   "id": "5be114e1",
   "metadata": {},
   "outputs": [
    {
     "name": "stdout",
     "output_type": "stream",
     "text": [
      "{'영화감상'}\n"
     ]
    }
   ],
   "source": [
    "# Q1. A와 B의 취미의 교집합을 찾아보세요.\n",
    "a_hobby = {'독서', '요리', '영화감상', '운동'}\n",
    "b_hobby = {'음악감상', '영화감상', '등산', '게임'}\n",
    "\n",
    "# common = a_hobby.intersection(b_hobby)\n",
    "common = a_hobby&b_hobby\n",
    "print(common)"
   ]
  },
  {
   "cell_type": "code",
   "execution_count": 31,
   "id": "5e5a0667",
   "metadata": {},
   "outputs": [
    {
     "name": "stdout",
     "output_type": "stream",
     "text": [
      "{'철수', '훈이', '짱구', '맹구', '유리'}\n"
     ]
    }
   ],
   "source": [
    "# Q2. 두 모임의 명단을 하나의 집합으로 취합해보세요.\n",
    "orga_a = {'짱구', '유리', '철수'}\n",
    "orga_b = {'훈이', '짱구', '맹구'}\n",
    "\n",
    "all = orga_a.union(orga_b)\n",
    "print(all)"
   ]
  },
  {
   "cell_type": "code",
   "execution_count": 32,
   "id": "0c3ba570",
   "metadata": {},
   "outputs": [
    {
     "name": "stdout",
     "output_type": "stream",
     "text": [
      "{'Dana', 'Tomy'}\n"
     ]
    }
   ],
   "source": [
    "# Q3. 두 개의 서비스 A와 B를 사용하는 각각의 사용자 명단에서 A를 사용하지만 B는 사용하지 않는 사용자 목록을 찾아보세요.\n",
    "service_a = {'Dana', 'Alice', 'Jack', 'Tomy'}\n",
    "service_b = {'Hana', 'Jun', 'Alice', 'Jack'}\n",
    "\n",
    "users = service_a-service_b\n",
    "print(users)"
   ]
  },
  {
   "cell_type": "code",
   "execution_count": 33,
   "id": "f6d30d1c",
   "metadata": {},
   "outputs": [
    {
     "name": "stdout",
     "output_type": "stream",
     "text": [
      "select가 part의 상위집합인가?True\n"
     ]
    }
   ],
   "source": [
    "# Q4. 당첨숫자인 select에 내가 고른 숫자인 part가 포함되는지 확인해보세요. \n",
    "select = {8, 32, 27, 13, 26, 6}\n",
    "part = {32, 13, 26}\n",
    "\n",
    "correct = select.issuperset(part)\n",
    "print(f'select가 part의 상위집합인가?{correct}')"
   ]
  },
  {
   "cell_type": "markdown",
   "id": "74af7884",
   "metadata": {},
   "source": [
    "### 추가\n",
    "1. add()\n",
    "   - 단일 요소 추가\n",
    "   - 중복을 허용하지 않기 때문에 중복된 요소를 추가하려고 하면 아무런 변화가 없음\n",
    "2. update()\n",
    "   - 여러 요소를 한 번에 추가\n",
    "   - 추가하려는 요소는 반복 가능한 객체여야 함(리스트, 튜플, 집합 등)"
   ]
  },
  {
   "cell_type": "code",
   "execution_count": 34,
   "id": "8ac5135d",
   "metadata": {},
   "outputs": [],
   "source": [
    "fruits = {'apple', 'banana'}"
   ]
  },
  {
   "cell_type": "code",
   "execution_count": 35,
   "id": "b63bfaa4",
   "metadata": {},
   "outputs": [
    {
     "name": "stdout",
     "output_type": "stream",
     "text": [
      "{'apple', 'banana', 'cherry'}\n"
     ]
    }
   ],
   "source": [
    "fruits.add('cherry')\n",
    "print(fruits)"
   ]
  },
  {
   "cell_type": "code",
   "execution_count": 36,
   "id": "525bb9b1",
   "metadata": {},
   "outputs": [
    {
     "name": "stdout",
     "output_type": "stream",
     "text": [
      "{'apple', 'banana', 'cherry'}\n"
     ]
    }
   ],
   "source": [
    "fruits.add('apple')\n",
    "print(fruits)"
   ]
  },
  {
   "cell_type": "code",
   "execution_count": 37,
   "id": "5674317b",
   "metadata": {},
   "outputs": [
    {
     "name": "stdout",
     "output_type": "stream",
     "text": [
      "{'apple', 'e', 'a', 'p', 'c', 'h', 'banana', 'cherry'}\n"
     ]
    }
   ],
   "source": [
    "fruits.update('peach')\n",
    "print(fruits)"
   ]
  },
  {
   "cell_type": "code",
   "execution_count": 38,
   "id": "02ac7c3c",
   "metadata": {},
   "outputs": [],
   "source": [
    "fruits = {'apple', 'banana'}"
   ]
  },
  {
   "cell_type": "code",
   "execution_count": 39,
   "id": "7d928151",
   "metadata": {},
   "outputs": [],
   "source": [
    "add_set = {'peach', 'mango'}"
   ]
  },
  {
   "cell_type": "code",
   "execution_count": 40,
   "id": "24d958a6",
   "metadata": {},
   "outputs": [
    {
     "name": "stdout",
     "output_type": "stream",
     "text": [
      "{'apple', 'banana', 'peach', 'mango'}\n"
     ]
    }
   ],
   "source": [
    "fruits.update(add_set)\n",
    "print(fruits)"
   ]
  },
  {
   "cell_type": "code",
   "execution_count": 41,
   "id": "761161fb",
   "metadata": {},
   "outputs": [],
   "source": [
    "add_list = ['cherry', 'pair']"
   ]
  },
  {
   "cell_type": "code",
   "execution_count": 42,
   "id": "0ca02986",
   "metadata": {},
   "outputs": [
    {
     "name": "stdout",
     "output_type": "stream",
     "text": [
      "{'apple', 'mango', 'pair', 'banana', 'peach', 'cherry'}\n"
     ]
    }
   ],
   "source": [
    "fruits.update(add_list)\n",
    "print(fruits)"
   ]
  },
  {
   "cell_type": "markdown",
   "id": "ad3db122",
   "metadata": {},
   "source": [
    "### 삭제\n",
    "1. remove()\n",
    "   - 지정한 요소를 집합에서 제거\n",
    "   - 해당 요소가 집합에 없으면 KeyError 발생\n",
    "2. discard()\n",
    "   - 지정한 요소를 제거하지만 요소가 없을 경우에도 오류가 발생하지 않음\n",
    "3. pop()\n",
    "   - 임의의 요소를 제거하고 그 값을 반환\n",
    "   - 집합은 순서가 없기 떄문에 어떤 요소가 제거될지 알 수 없음\n",
    "   - 집합이 비어있는 경우 KeyError 발생\n",
    "4. clear()\n",
    "   - 집합의 모든 요소를 삭제하여 빈 집합으로 만든다"
   ]
  },
  {
   "cell_type": "code",
   "execution_count": 43,
   "id": "fb911bd2",
   "metadata": {},
   "outputs": [],
   "source": [
    "fruits = {'apple', 'banana', 'cherry', 'melon'}"
   ]
  },
  {
   "cell_type": "code",
   "execution_count": 44,
   "id": "166fcac4",
   "metadata": {},
   "outputs": [
    {
     "name": "stdout",
     "output_type": "stream",
     "text": [
      "{'apple', 'melon', 'cherry'}\n"
     ]
    }
   ],
   "source": [
    "fruits.remove('banana')\n",
    "print(fruits)"
   ]
  },
  {
   "cell_type": "code",
   "execution_count": 45,
   "id": "dacadc51",
   "metadata": {},
   "outputs": [
    {
     "ename": "KeyError",
     "evalue": "'grape'",
     "output_type": "error",
     "traceback": [
      "\u001b[1;31m---------------------------------------------------------------------------\u001b[0m",
      "\u001b[1;31mKeyError\u001b[0m                                  Traceback (most recent call last)",
      "Cell \u001b[1;32mIn[45], line 1\u001b[0m\n\u001b[1;32m----> 1\u001b[0m \u001b[43mfruits\u001b[49m\u001b[38;5;241;43m.\u001b[39;49m\u001b[43mremove\u001b[49m\u001b[43m(\u001b[49m\u001b[38;5;124;43m'\u001b[39;49m\u001b[38;5;124;43mgrape\u001b[39;49m\u001b[38;5;124;43m'\u001b[39;49m\u001b[43m)\u001b[49m\n",
      "\u001b[1;31mKeyError\u001b[0m: 'grape'"
     ]
    }
   ],
   "source": [
    "fruits.remove('grape')"
   ]
  },
  {
   "cell_type": "code",
   "execution_count": 46,
   "id": "bd565ea1",
   "metadata": {},
   "outputs": [
    {
     "name": "stdout",
     "output_type": "stream",
     "text": [
      "{'apple', 'melon', 'cherry'}\n"
     ]
    }
   ],
   "source": [
    "fruits.discard('banana')\n",
    "print(fruits)"
   ]
  },
  {
   "cell_type": "code",
   "execution_count": 47,
   "id": "22c0325d",
   "metadata": {},
   "outputs": [
    {
     "name": "stdout",
     "output_type": "stream",
     "text": [
      "{'melon', 'cherry'}\n"
     ]
    }
   ],
   "source": [
    "fruits.discard('apple')\n",
    "print(fruits)"
   ]
  },
  {
   "cell_type": "code",
   "execution_count": 48,
   "id": "8b640310",
   "metadata": {},
   "outputs": [],
   "source": [
    "fruits = {'apple', 'banana', 'cherry', 'melon'}"
   ]
  },
  {
   "cell_type": "code",
   "execution_count": 49,
   "id": "e714e3e8",
   "metadata": {},
   "outputs": [
    {
     "name": "stdout",
     "output_type": "stream",
     "text": [
      "apple\n"
     ]
    }
   ],
   "source": [
    "remove_item = fruits.pop()\n",
    "print(remove_item)"
   ]
  },
  {
   "cell_type": "code",
   "execution_count": 50,
   "id": "c442341a",
   "metadata": {},
   "outputs": [
    {
     "name": "stdout",
     "output_type": "stream",
     "text": [
      "{'melon', 'banana', 'cherry'}\n"
     ]
    }
   ],
   "source": [
    "print(fruits)"
   ]
  },
  {
   "cell_type": "code",
   "execution_count": 51,
   "id": "6f80e4b3",
   "metadata": {},
   "outputs": [
    {
     "ename": "TypeError",
     "evalue": "set.pop() takes no arguments (1 given)",
     "output_type": "error",
     "traceback": [
      "\u001b[1;31m---------------------------------------------------------------------------\u001b[0m",
      "\u001b[1;31mTypeError\u001b[0m                                 Traceback (most recent call last)",
      "Cell \u001b[1;32mIn[51], line 1\u001b[0m\n\u001b[1;32m----> 1\u001b[0m remove_item2 \u001b[38;5;241m=\u001b[39m \u001b[43mfruits\u001b[49m\u001b[38;5;241;43m.\u001b[39;49m\u001b[43mpop\u001b[49m\u001b[43m(\u001b[49m\u001b[38;5;241;43m0\u001b[39;49m\u001b[43m)\u001b[49m\n\u001b[0;32m      2\u001b[0m \u001b[38;5;28mprint\u001b[39m(remove_item2)\n",
      "\u001b[1;31mTypeError\u001b[0m: set.pop() takes no arguments (1 given)"
     ]
    }
   ],
   "source": [
    "remove_item2 = fruits.pop(0)\n",
    "print(remove_item2)"
   ]
  },
  {
   "cell_type": "code",
   "execution_count": 55,
   "id": "7f70a7db",
   "metadata": {},
   "outputs": [
    {
     "ename": "KeyError",
     "evalue": "'pop from an empty set'",
     "output_type": "error",
     "traceback": [
      "\u001b[1;31m---------------------------------------------------------------------------\u001b[0m",
      "\u001b[1;31mKeyError\u001b[0m                                  Traceback (most recent call last)",
      "Cell \u001b[1;32mIn[55], line 1\u001b[0m\n\u001b[1;32m----> 1\u001b[0m remove_item \u001b[38;5;241m=\u001b[39m \u001b[43mfruits\u001b[49m\u001b[38;5;241;43m.\u001b[39;49m\u001b[43mpop\u001b[49m\u001b[43m(\u001b[49m\u001b[43m)\u001b[49m\n\u001b[0;32m      2\u001b[0m \u001b[38;5;28mprint\u001b[39m(remove_item)\n",
      "\u001b[1;31mKeyError\u001b[0m: 'pop from an empty set'"
     ]
    }
   ],
   "source": [
    "remove_item = fruits.pop()\n",
    "print(remove_item)"
   ]
  },
  {
   "cell_type": "code",
   "execution_count": 56,
   "id": "d0a71138",
   "metadata": {},
   "outputs": [],
   "source": [
    "fruits = {'apple', 'banana', 'cherry', 'melon'}"
   ]
  },
  {
   "cell_type": "code",
   "execution_count": 57,
   "id": "1a65ed19",
   "metadata": {},
   "outputs": [
    {
     "name": "stdout",
     "output_type": "stream",
     "text": [
      "set()\n"
     ]
    }
   ],
   "source": [
    "fruits.clear()\n",
    "print(fruits)"
   ]
  },
  {
   "cell_type": "code",
   "execution_count": 58,
   "id": "6df60431",
   "metadata": {},
   "outputs": [
    {
     "name": "stdout",
     "output_type": "stream",
     "text": [
      "[1, 1, 2, 2, 3, 3, 4, 4, 5, 5]\n"
     ]
    }
   ],
   "source": [
    "list1 = [1, 1, 2, 2, 3, 3, 4, 4, 5, 5]\n",
    "print(list1)"
   ]
  },
  {
   "cell_type": "code",
   "execution_count": 59,
   "id": "74c397ac",
   "metadata": {},
   "outputs": [
    {
     "name": "stdout",
     "output_type": "stream",
     "text": [
      "{1, 2, 3, 4, 5}\n"
     ]
    }
   ],
   "source": [
    "unique = set(list1)\n",
    "print(unique)"
   ]
  },
  {
   "cell_type": "code",
   "execution_count": 65,
   "id": "a4cfed5f",
   "metadata": {},
   "outputs": [
    {
     "name": "stdout",
     "output_type": "stream",
     "text": [
      "{'green', 'blue', 'yellow', 'red'}\n"
     ]
    }
   ],
   "source": [
    "# Q1. colors 집합에 red를 추가하여 출력해보세요.\n",
    "colors = {'yellow', 'blue', 'green'}\n",
    "colors.add('red')\n",
    "print(colors)\n"
   ]
  },
  {
   "cell_type": "code",
   "execution_count": 66,
   "id": "77ca1cd4",
   "metadata": {},
   "outputs": [
    {
     "name": "stdout",
     "output_type": "stream",
     "text": [
      "{'apple', 'grape', 'strawberry', 'orange', 'banana'}\n"
     ]
    }
   ],
   "source": [
    "# Q2. 과일 집합인 fruits에 apple과 banana를 리스트로 추가해보세요.\n",
    "fruits = {\"strawberry\", \"grape\", \"orange\"}\n",
    "add_list = ['apple', 'banana']\n",
    "fruits.update(add_list)\n",
    "\n",
    "print(fruits)"
   ]
  },
  {
   "cell_type": "code",
   "execution_count": 67,
   "id": "9ae2467b",
   "metadata": {},
   "outputs": [
    {
     "name": "stdout",
     "output_type": "stream",
     "text": [
      "{'B', 'C', 'D', 'E'}\n"
     ]
    }
   ],
   "source": [
    "# Q3. sample_set에서 A와 F를 에러 출력 없이 삭제해보세요.\n",
    "sample_set = {'A', 'B', 'C', 'D', 'E'}\n",
    "sample_set.remove('A')\n",
    "sample_set.discard('F')\n",
    "print(sample_set)"
   ]
  },
  {
   "cell_type": "code",
   "execution_count": 68,
   "id": "6df749aa",
   "metadata": {},
   "outputs": [
    {
     "name": "stdout",
     "output_type": "stream",
     "text": [
      "{'E', 'C', 'B', 'D'}\n"
     ]
    }
   ],
   "source": [
    "sample_set = {'A', 'B', 'C', 'D', 'E'}\n",
    "remove_set = {'A', 'F'}\n",
    "\n",
    "last_set = sample_set - remove_set\n",
    "print(last_set)"
   ]
  },
  {
   "cell_type": "code",
   "execution_count": 69,
   "id": "c90ddb96",
   "metadata": {},
   "outputs": [
    {
     "name": "stdout",
     "output_type": "stream",
     "text": [
      "삭제된 동물 giraff, 남은 집합 {'cat', 'hipo', 'rabbit', 'elephant', 'dog'}\n"
     ]
    }
   ],
   "source": [
    "# Q4.animals 집합에서 임의의 동물을 삭제하고 삭제한 동물과 남은 집합을 반환해 보세요.\n",
    "animals = {'rabbit', 'cat', 'dog', 'hipo', 'giraff', 'elephant'}\n",
    "\n",
    "removed = animals.pop()\n",
    "\n",
    "print(f'삭제된 동물 {removed}, 남은 집합 {animals}')"
   ]
  },
  {
   "cell_type": "code",
   "execution_count": 71,
   "id": "44a30570",
   "metadata": {},
   "outputs": [
    {
     "name": "stdout",
     "output_type": "stream",
     "text": [
      "{'좋아요', '감사합니다', '최고예요'}\n"
     ]
    }
   ],
   "source": [
    "# Q5. 리뷰데이터 리스트인 reviews에서 중복된 값을 제거한 후 출력해보세요.\n",
    "reviews = [\"좋아요\", \"감사합니다\", \"좋아요\", \"최고예요\", \"감사합니다\", \"좋아요\", \"최고예요\", \"감사합니다\"]\n",
    "\n",
    "set_reviews = set(reviews)\n",
    "print(set_reviews)"
   ]
  },
  {
   "cell_type": "markdown",
   "id": "754c30fa",
   "metadata": {},
   "source": [
    "## 4. 딕셔너리(Dictionary)\n",
    "\n",
    "- 키(key)와 값(value)의 쌍을 저장하는 자료형\n",
    "- 딕셔너리는 중괄호 `{}`로 정의하며, 키와 값은 콜론 `:`으로 구분"
   ]
  },
  {
   "cell_type": "code",
   "execution_count": 72,
   "id": "dc0542e3",
   "metadata": {},
   "outputs": [
    {
     "name": "stdout",
     "output_type": "stream",
     "text": [
      "{}\n"
     ]
    }
   ],
   "source": [
    "sample = dict()\n",
    "print(sample)"
   ]
  },
  {
   "cell_type": "code",
   "execution_count": 73,
   "id": "4079a260",
   "metadata": {},
   "outputs": [
    {
     "name": "stdout",
     "output_type": "stream",
     "text": [
      "{'name': 'python', 'version': 3.9}\n"
     ]
    }
   ],
   "source": [
    "sample2 = dict(name='python', version=3.9)\n",
    "print(sample2)"
   ]
  },
  {
   "cell_type": "code",
   "execution_count": 74,
   "id": "110477b7",
   "metadata": {},
   "outputs": [
    {
     "name": "stdout",
     "output_type": "stream",
     "text": [
      "{'메뉴': '초밥', '가격': 14000, '지역': '성수'}\n"
     ]
    }
   ],
   "source": [
    "food = {\n",
    "    '메뉴' : '초밥',\n",
    "    '가격' : 14000,\n",
    "    '지역' : '성수'\n",
    "}\n",
    "print(food)"
   ]
  },
  {
   "cell_type": "markdown",
   "id": "9eff3462",
   "metadata": {},
   "source": [
    "`{'메뉴': '초밥', '가격': 14000, '지역': '성수'}`\n",
    "\n",
    "- '메뉴' 키에 대응하는 값은 '초밥'입니다.\n",
    "- '가격' 키에 대응하는 값은 '14000'입니다.\n",
    "- '지역' 키에 대응하는 값은 '성수'입니다."
   ]
  },
  {
   "cell_type": "code",
   "execution_count": 75,
   "id": "0e09fdf1",
   "metadata": {},
   "outputs": [
    {
     "name": "stdout",
     "output_type": "stream",
     "text": [
      "{'메뉴': '초밥', '가격': 14000, '지역': '용산'}\n"
     ]
    }
   ],
   "source": [
    "food = {\n",
    "    '메뉴' : '초밥',\n",
    "    '가격' : 14000,\n",
    "    '지역' : '성수',\n",
    "    '지역' : '용산'\n",
    "}\n",
    "print(food)"
   ]
  },
  {
   "cell_type": "markdown",
   "id": "4105cc1e",
   "metadata": {},
   "source": [
    "### 추가, 수정"
   ]
  },
  {
   "cell_type": "code",
   "execution_count": 76,
   "id": "258e4214",
   "metadata": {},
   "outputs": [],
   "source": [
    "food = {\n",
    "    '메뉴' : '초밥',\n",
    "    '가격' : 14000\n",
    "}"
   ]
  },
  {
   "cell_type": "code",
   "execution_count": 77,
   "id": "f1abb72f",
   "metadata": {},
   "outputs": [
    {
     "data": {
      "text/plain": [
       "'초밥'"
      ]
     },
     "execution_count": 77,
     "metadata": {},
     "output_type": "execute_result"
    }
   ],
   "source": [
    "food['메뉴']"
   ]
  },
  {
   "cell_type": "code",
   "execution_count": 78,
   "id": "1158a1d6",
   "metadata": {},
   "outputs": [],
   "source": [
    "food['지역'] = '성수'"
   ]
  },
  {
   "cell_type": "code",
   "execution_count": 79,
   "id": "49347a48",
   "metadata": {},
   "outputs": [
    {
     "name": "stdout",
     "output_type": "stream",
     "text": [
      "{'메뉴': '초밥', '가격': 14000, '지역': '성수'}\n"
     ]
    }
   ],
   "source": [
    "print(food)"
   ]
  },
  {
   "cell_type": "code",
   "execution_count": 80,
   "id": "cb360411",
   "metadata": {},
   "outputs": [],
   "source": [
    "food['가격'] = 18000"
   ]
  },
  {
   "cell_type": "code",
   "execution_count": 81,
   "id": "22f908a1",
   "metadata": {},
   "outputs": [
    {
     "name": "stdout",
     "output_type": "stream",
     "text": [
      "{'메뉴': '초밥', '가격': 18000, '지역': '성수'}\n"
     ]
    }
   ],
   "source": [
    "print(food)"
   ]
  },
  {
   "cell_type": "markdown",
   "id": "9ffc840f",
   "metadata": {},
   "source": [
    "### 삭제\n",
    "1. del\n",
    "2. pop()\n",
    "3. clear()"
   ]
  },
  {
   "cell_type": "code",
   "execution_count": 82,
   "id": "dc8b55e7",
   "metadata": {},
   "outputs": [],
   "source": [
    "food = {\n",
    "    '메뉴' : '초밥',\n",
    "    '가격' : 14000,\n",
    "    '지역' : '성수'\n",
    "}"
   ]
  },
  {
   "cell_type": "code",
   "execution_count": 84,
   "id": "842c9b97",
   "metadata": {},
   "outputs": [],
   "source": [
    "del food['지역']"
   ]
  },
  {
   "cell_type": "code",
   "execution_count": 85,
   "id": "e0baafa7",
   "metadata": {},
   "outputs": [
    {
     "name": "stdout",
     "output_type": "stream",
     "text": [
      "{'메뉴': '초밥', '가격': 14000}\n"
     ]
    }
   ],
   "source": [
    "print(food) "
   ]
  },
  {
   "cell_type": "code",
   "execution_count": 86,
   "id": "21e3b0ed",
   "metadata": {},
   "outputs": [],
   "source": [
    "del food"
   ]
  },
  {
   "cell_type": "code",
   "execution_count": 87,
   "id": "f1239698",
   "metadata": {},
   "outputs": [
    {
     "ename": "NameError",
     "evalue": "name 'food' is not defined",
     "output_type": "error",
     "traceback": [
      "\u001b[1;31m---------------------------------------------------------------------------\u001b[0m",
      "\u001b[1;31mNameError\u001b[0m                                 Traceback (most recent call last)",
      "Cell \u001b[1;32mIn[87], line 1\u001b[0m\n\u001b[1;32m----> 1\u001b[0m \u001b[38;5;28mprint\u001b[39m(\u001b[43mfood\u001b[49m)\n",
      "\u001b[1;31mNameError\u001b[0m: name 'food' is not defined"
     ]
    }
   ],
   "source": [
    "print(food)"
   ]
  },
  {
   "cell_type": "code",
   "execution_count": 88,
   "id": "94874cb7",
   "metadata": {},
   "outputs": [],
   "source": [
    "food = {\n",
    "    '메뉴' : '초밥',\n",
    "    '가격' : 14000,\n",
    "    '지역' : '성수'\n",
    "}"
   ]
  },
  {
   "cell_type": "code",
   "execution_count": 89,
   "id": "b7be1951",
   "metadata": {},
   "outputs": [],
   "source": [
    "가격 = food.pop('가격')"
   ]
  },
  {
   "cell_type": "code",
   "execution_count": 90,
   "id": "6aeb5efe",
   "metadata": {},
   "outputs": [
    {
     "name": "stdout",
     "output_type": "stream",
     "text": [
      "14000\n"
     ]
    }
   ],
   "source": [
    "print(가격)"
   ]
  },
  {
   "cell_type": "code",
   "execution_count": 91,
   "id": "a5cc34e6",
   "metadata": {},
   "outputs": [
    {
     "name": "stdout",
     "output_type": "stream",
     "text": [
      "{'메뉴': '초밥', '지역': '성수'}\n"
     ]
    }
   ],
   "source": [
    "print(food)"
   ]
  },
  {
   "cell_type": "code",
   "execution_count": 92,
   "id": "a0e6a796",
   "metadata": {},
   "outputs": [
    {
     "ename": "TypeError",
     "evalue": "pop expected at least 1 argument, got 0",
     "output_type": "error",
     "traceback": [
      "\u001b[1;31m---------------------------------------------------------------------------\u001b[0m",
      "\u001b[1;31mTypeError\u001b[0m                                 Traceback (most recent call last)",
      "Cell \u001b[1;32mIn[92], line 1\u001b[0m\n\u001b[1;32m----> 1\u001b[0m \u001b[43mfood\u001b[49m\u001b[38;5;241;43m.\u001b[39;49m\u001b[43mpop\u001b[49m\u001b[43m(\u001b[49m\u001b[43m)\u001b[49m\n",
      "\u001b[1;31mTypeError\u001b[0m: pop expected at least 1 argument, got 0"
     ]
    }
   ],
   "source": [
    "food.pop()"
   ]
  },
  {
   "cell_type": "code",
   "execution_count": 93,
   "id": "95ed787c",
   "metadata": {},
   "outputs": [],
   "source": [
    "food = {\n",
    "    '메뉴' : '초밥',\n",
    "    '가격' : 14000,\n",
    "    '지역' : '성수'\n",
    "}"
   ]
  },
  {
   "cell_type": "code",
   "execution_count": 94,
   "id": "b393defb",
   "metadata": {},
   "outputs": [],
   "source": [
    "food.clear()"
   ]
  },
  {
   "cell_type": "code",
   "execution_count": 95,
   "id": "9038ed17",
   "metadata": {},
   "outputs": [
    {
     "name": "stdout",
     "output_type": "stream",
     "text": [
      "{}\n"
     ]
    }
   ],
   "source": [
    "print(food)"
   ]
  },
  {
   "cell_type": "markdown",
   "id": "82f56a8e",
   "metadata": {},
   "source": [
    "### 병합"
   ]
  },
  {
   "cell_type": "code",
   "execution_count": 99,
   "id": "83f5e9bf",
   "metadata": {},
   "outputs": [],
   "source": [
    "food1 = {\n",
    "    '메뉴' : '초밥',\n",
    "    '가격' : 14000 \n",
    "}\n",
    "food2 = {\n",
    "    '지역' : '성수'\n",
    "}"
   ]
  },
  {
   "cell_type": "code",
   "execution_count": 100,
   "id": "259d2ca9",
   "metadata": {},
   "outputs": [
    {
     "data": {
      "text/plain": [
       "{'메뉴': '초밥', '가격': 14000, '지역': '성수'}"
      ]
     },
     "execution_count": 100,
     "metadata": {},
     "output_type": "execute_result"
    }
   ],
   "source": [
    "food1 | food2"
   ]
  },
  {
   "cell_type": "code",
   "execution_count": 101,
   "id": "56fb7d26",
   "metadata": {},
   "outputs": [
    {
     "name": "stdout",
     "output_type": "stream",
     "text": [
      "{'메뉴': '초밥', '가격': 14000}\n"
     ]
    }
   ],
   "source": [
    "print(food1)"
   ]
  },
  {
   "cell_type": "code",
   "execution_count": 97,
   "id": "a093691b",
   "metadata": {},
   "outputs": [
    {
     "name": "stdout",
     "output_type": "stream",
     "text": [
      "{'메뉴': '초밥', '가격': 14000, '지역': '성수'}\n"
     ]
    }
   ],
   "source": [
    "merged_food = food1 | food2\n",
    "print(merged_food)"
   ]
  },
  {
   "cell_type": "code",
   "execution_count": 98,
   "id": "aaca1b4b",
   "metadata": {},
   "outputs": [
    {
     "name": "stdout",
     "output_type": "stream",
     "text": [
      "{'메뉴': '초밥', '가격': 14000, '지역': '성수'}\n"
     ]
    }
   ],
   "source": [
    "food1.update(food2)\n",
    "print(food1)"
   ]
  },
  {
   "cell_type": "code",
   "execution_count": 102,
   "id": "7950cd0d",
   "metadata": {},
   "outputs": [],
   "source": [
    "food1 = {\n",
    "    '메뉴' : '초밥',\n",
    "    '가격' : 14000 \n",
    "}\n",
    "food2 = {\n",
    "    '메뉴' : '초밥',\n",
    "    '가격' : 20000\n",
    "}"
   ]
  },
  {
   "cell_type": "code",
   "execution_count": 103,
   "id": "25d74806",
   "metadata": {},
   "outputs": [
    {
     "name": "stdout",
     "output_type": "stream",
     "text": [
      "{'메뉴': '초밥', '가격': 20000}\n"
     ]
    }
   ],
   "source": [
    "print(food1 | food2)"
   ]
  },
  {
   "cell_type": "code",
   "execution_count": 104,
   "id": "259cc076",
   "metadata": {},
   "outputs": [
    {
     "name": "stdout",
     "output_type": "stream",
     "text": [
      "{'메뉴': '초밥', '가격': 14000}\n"
     ]
    }
   ],
   "source": [
    "print(food2 | food1)"
   ]
  },
  {
   "cell_type": "markdown",
   "id": "d504f8ee",
   "metadata": {},
   "source": [
    "### 값 호출\n",
    "1. get()\n",
    "   - 키를 사용해 값을 가져오며 키가 존재하지 않으면 None을 반환\n",
    "   - 기본값 설정 가능\n",
    "2. keys()\n",
    "   - 모든 키 가져오기\n",
    "3. values()\n",
    "   - 모든 값 가져오기\n",
    "4. items()\n",
    "   - 모든 키-값 쌍 가져오기"
   ]
  },
  {
   "cell_type": "code",
   "execution_count": 108,
   "id": "dd9ab7af",
   "metadata": {},
   "outputs": [],
   "source": [
    "food1 = {\n",
    "    '메뉴' : '초밥',\n",
    "    '가격' : 14000 \n",
    "}"
   ]
  },
  {
   "cell_type": "code",
   "execution_count": 109,
   "id": "6f23d706",
   "metadata": {},
   "outputs": [
    {
     "name": "stdout",
     "output_type": "stream",
     "text": [
      "초밥\n"
     ]
    }
   ],
   "source": [
    "메뉴 = food1.get('메뉴')\n",
    "print(메뉴)"
   ]
  },
  {
   "cell_type": "code",
   "execution_count": 110,
   "id": "48c39d3d",
   "metadata": {},
   "outputs": [
    {
     "name": "stdout",
     "output_type": "stream",
     "text": [
      "None\n"
     ]
    }
   ],
   "source": [
    "지역 = food1.get('지역')\n",
    "print(지역)"
   ]
  },
  {
   "cell_type": "code",
   "execution_count": 113,
   "id": "a7ca5340",
   "metadata": {},
   "outputs": [
    {
     "name": "stdout",
     "output_type": "stream",
     "text": [
      "-\n"
     ]
    }
   ],
   "source": [
    "지역 = food1.get('지역','-')\n",
    "print(지역)"
   ]
  },
  {
   "cell_type": "code",
   "execution_count": 112,
   "id": "534e0da3",
   "metadata": {},
   "outputs": [
    {
     "data": {
      "text/plain": [
       "{'메뉴': '초밥', '가격': 14000}"
      ]
     },
     "execution_count": 112,
     "metadata": {},
     "output_type": "execute_result"
    }
   ],
   "source": [
    "food1"
   ]
  },
  {
   "cell_type": "code",
   "execution_count": 114,
   "id": "4d9801d9",
   "metadata": {},
   "outputs": [],
   "source": [
    "food1 = {\n",
    "    '메뉴' : '초밥',\n",
    "    '가격' : 14000,\n",
    "    '지역' : '성수'\n",
    "}"
   ]
  },
  {
   "cell_type": "code",
   "execution_count": 115,
   "id": "db2cb8e2",
   "metadata": {},
   "outputs": [
    {
     "name": "stdout",
     "output_type": "stream",
     "text": [
      "dict_keys(['메뉴', '가격', '지역'])\n"
     ]
    }
   ],
   "source": [
    "keys = food1.keys()\n",
    "print(keys)"
   ]
  },
  {
   "cell_type": "code",
   "execution_count": 116,
   "id": "bc8bd238",
   "metadata": {},
   "outputs": [
    {
     "name": "stdout",
     "output_type": "stream",
     "text": [
      "dict_values(['초밥', 14000, '성수'])\n"
     ]
    }
   ],
   "source": [
    "values = food1.values()\n",
    "print(values)"
   ]
  },
  {
   "cell_type": "code",
   "execution_count": 117,
   "id": "c17a93a9",
   "metadata": {},
   "outputs": [
    {
     "name": "stdout",
     "output_type": "stream",
     "text": [
      "dict_items([('메뉴', '초밥'), ('가격', 14000), ('지역', '성수')])\n"
     ]
    }
   ],
   "source": [
    "items = food1.items()\n",
    "print(items)"
   ]
  },
  {
   "cell_type": "code",
   "execution_count": 118,
   "id": "94e767a5",
   "metadata": {},
   "outputs": [
    {
     "ename": "TypeError",
     "evalue": "'dict_items' object is not subscriptable",
     "output_type": "error",
     "traceback": [
      "\u001b[1;31m---------------------------------------------------------------------------\u001b[0m",
      "\u001b[1;31mTypeError\u001b[0m                                 Traceback (most recent call last)",
      "Cell \u001b[1;32mIn[118], line 1\u001b[0m\n\u001b[1;32m----> 1\u001b[0m \u001b[43mitems\u001b[49m\u001b[43m[\u001b[49m\u001b[38;5;241;43m0\u001b[39;49m\u001b[43m]\u001b[49m\n",
      "\u001b[1;31mTypeError\u001b[0m: 'dict_items' object is not subscriptable"
     ]
    }
   ],
   "source": [
    "items[0]"
   ]
  },
  {
   "cell_type": "code",
   "execution_count": 119,
   "id": "675cb808",
   "metadata": {},
   "outputs": [
    {
     "data": {
      "text/plain": [
       "dict_items"
      ]
     },
     "execution_count": 119,
     "metadata": {},
     "output_type": "execute_result"
    }
   ],
   "source": [
    "type(items)"
   ]
  },
  {
   "cell_type": "code",
   "execution_count": 120,
   "id": "a76c1fd5",
   "metadata": {},
   "outputs": [
    {
     "name": "stdout",
     "output_type": "stream",
     "text": [
      "[('메뉴', '초밥'), ('가격', 14000), ('지역', '성수')]\n"
     ]
    }
   ],
   "source": [
    "items = list(items)\n",
    "print(items)"
   ]
  },
  {
   "cell_type": "code",
   "execution_count": 121,
   "id": "3462cc45",
   "metadata": {},
   "outputs": [
    {
     "data": {
      "text/plain": [
       "'메뉴'"
      ]
     },
     "execution_count": 121,
     "metadata": {},
     "output_type": "execute_result"
    }
   ],
   "source": [
    "items[0][0]"
   ]
  },
  {
   "cell_type": "code",
   "execution_count": 123,
   "id": "ea49823e",
   "metadata": {},
   "outputs": [
    {
     "name": "stdout",
     "output_type": "stream",
     "text": [
      "{'파스타': 15000, '샐러드': 8000, '수프': 5000, '스테이크': 24000}\n"
     ]
    }
   ],
   "source": [
    "# Q1. menu에 신메뉴인 스테이크를 24000원으로 추가하고 파스타의 가격을 15000원으로 수정해보세요\n",
    "menu = dict(파스타=12000, 샐러드=8000, 수프=5000)\n",
    "\n",
    "menu['스테이크'] = 24000\n",
    "menu['파스타'] = 15000\n",
    "print(menu)"
   ]
  },
  {
   "cell_type": "code",
   "execution_count": 124,
   "id": "7605b712",
   "metadata": {},
   "outputs": [
    {
     "name": "stdout",
     "output_type": "stream",
     "text": [
      "영화 리뷰 점수 {'인터스텔라': 8.5, '기생충': 9.7, '부산행': 9.2, '헝거게임': 9.5}\n",
      "범죄도시3 리뷰 5.0\n"
     ]
    }
   ],
   "source": [
    "# Q2. 영화 리뷰 점수가 담긴 movie 딕셔너리에 9.5점의 리뷰 점수를 기록한 헝거게임을 추가하고 영화 범죄도시3의 리뷰 점수를 출력해보세요.\n",
    "# 영화가 없는 경우 기본 점수는 5.0으로 출력합니다.\n",
    "\n",
    "movie = {\n",
    "    '인터스텔라': 8.5,\n",
    "    '기생충': 9.7,\n",
    "    '부산행' : 9.2\n",
    "}\n",
    "\n",
    "movie['헝거게임'] = 9.5\n",
    "score = movie.get('범죄도시3', 5.0)\n",
    "\n",
    "print('영화 리뷰 점수', movie)\n",
    "print('범죄도시3 리뷰', score)"
   ]
  },
  {
   "cell_type": "code",
   "execution_count": 126,
   "id": "ec3dd5e9",
   "metadata": {},
   "outputs": [
    {
     "name": "stdout",
     "output_type": "stream",
     "text": [
      "남은 동물의 종류 : [dict_keys(['lion', 'rabbit', 'cat', 'dog'])]\n",
      "남은 동물의 마릿수 : [dict_values([4, 2, 1, 101])]\n"
     ]
    }
   ],
   "source": [
    "# Q3. animals 딕셔너리는 동물의 종류와 마릿수를 담고 있습니다.\n",
    "# animals에서 tiger를 제거하고 나머지 동물의 종류와 마릿수를 각각 출력해보세요.\n",
    "\n",
    "animals = {\n",
    "    'lion': 4,\n",
    "    'tiger': 3,\n",
    "    'rabbit': 2,\n",
    "    'cat': 1,\n",
    "    'dog' : 101\n",
    "}\n",
    "\n",
    "animals.pop('tiger')\n",
    "\n",
    "print(f'남은 동물의 종류 : {[animals.keys()]}')\n",
    "print(f'남은 동물의 마릿수 : {[animals.values()]}')"
   ]
  },
  {
   "cell_type": "code",
   "execution_count": 127,
   "id": "e61f60a5",
   "metadata": {},
   "outputs": [
    {
     "name": "stdout",
     "output_type": "stream",
     "text": [
      "병합된 딕셔너리 : {'D': 123, 'B': 3283, 'E': 231, 'A': 300, 'C': 2354}\n"
     ]
    }
   ],
   "source": [
    "# Q4. 알파벳과 숫자의 쌍으로 이루어진 딕셔너리 sequence1과 sequence2가 있습니다.\n",
    "# 두 딕셔너리를 합치고 중복되는 값이 있는 경우 더 큰 값이 있는 쪽으로 합쳐보세요.\n",
    "\n",
    "sequence1 = {'A' :300, 'B' : 3283, 'C' : 2354}\n",
    "sequence2 = {'D' :123, 'B' : 122, 'E' :231}\n",
    "\n",
    "sequence = sequence2 | sequence1\n",
    "\n",
    "print(f'병합된 딕셔너리 : {sequence}')"
   ]
  },
  {
   "cell_type": "code",
   "execution_count": 128,
   "id": "280ea12c",
   "metadata": {},
   "outputs": [
    {
     "name": "stdout",
     "output_type": "stream",
     "text": [
      "{'1학년': ['홍길동', '이영수'], '2학년': ['박지수', '최수진'], '3학년': ['김철수', '박정민'], '4학년': ['김민지']}\n"
     ]
    }
   ],
   "source": [
    "# Q5. students에 3학년 박정민을 추가하고 2학년 최수진을 삭제해보세요\n",
    "\n",
    "students = {\n",
    "    \"1학년\": [\"홍길동\", \"이영수\"],\n",
    "    \"2학년\": [\"박지수\", \"최수진\"],\n",
    "    \"3학년\": [\"김철수\"],\n",
    "    \"4학년\": [\"김민지\"]\n",
    "}\n",
    "\n",
    "# students['3학년']=['김철수','박정민']\n",
    "students['3학년'].append('박정민')\n",
    "print(students)"
   ]
  },
  {
   "cell_type": "code",
   "execution_count": 129,
   "id": "c849c052",
   "metadata": {},
   "outputs": [
    {
     "data": {
      "text/plain": [
       "list"
      ]
     },
     "execution_count": 129,
     "metadata": {},
     "output_type": "execute_result"
    }
   ],
   "source": [
    "type(students['2학년'])"
   ]
  },
  {
   "cell_type": "code",
   "execution_count": 130,
   "id": "e3ac6a98",
   "metadata": {},
   "outputs": [
    {
     "name": "stdout",
     "output_type": "stream",
     "text": [
      "{'1학년': ['홍길동', '이영수'], '2학년': ['박지수'], '3학년': ['김철수', '박정민'], '4학년': ['김민지']}\n"
     ]
    }
   ],
   "source": [
    "del students['2학년'][-1]\n",
    "print(students)"
   ]
  },
  {
   "cell_type": "markdown",
   "id": "41af5c36",
   "metadata": {},
   "source": [
    "## 5. 내장함수\n",
    "\n",
    "- len() : 문자열, 리스트, 딕셔너리 등 길이 혹은 항목 수를 구하는데 사용\n",
    "- sort() : 리스트 요소 정렬\n",
    "- range() : 숫자의 시퀀스를 생성하는 함수"
   ]
  },
  {
   "cell_type": "markdown",
   "id": "9fac3f6c",
   "metadata": {},
   "source": [
    "- 사랑하긴 했었나요 스쳐가는 인연이었나요 짧지않은 우리 함께했던 시간들이 자꾸 내 마음을 가둬두네  \n",
    "- 2, 4, 6, 8, 10, 12, 14, 16, 18, 20  \n",
    "- 'A' : 'a', 'B' : 'b', 'C' : 'c', 'D' : 'd', 'E' : 'e'"
   ]
  },
  {
   "cell_type": "code",
   "execution_count": 137,
   "id": "b34dbd58",
   "metadata": {},
   "outputs": [],
   "source": [
    "title = '사랑하긴 했었나요 스쳐가는 인연이었나요 짧지않은 우리 함께했던 시간들이 자꾸 내 마음을 가둬두네'\n",
    "two = [2, 4, 6, 8, 10, 12, 14, 16, 18, 20, 3]\n",
    "alphabet = {'A' : 'a', 'B' : 'b', 'C' : 'c', 'D' : 'd', 'E' : 'e'}"
   ]
  },
  {
   "cell_type": "code",
   "execution_count": 132,
   "id": "3ed35c59",
   "metadata": {},
   "outputs": [
    {
     "name": "stdout",
     "output_type": "stream",
     "text": [
      "53\n"
     ]
    }
   ],
   "source": [
    "print(len(title))"
   ]
  },
  {
   "cell_type": "code",
   "execution_count": 133,
   "id": "187539f6",
   "metadata": {},
   "outputs": [
    {
     "name": "stdout",
     "output_type": "stream",
     "text": [
      "10\n"
     ]
    }
   ],
   "source": [
    "print(len(two))"
   ]
  },
  {
   "cell_type": "code",
   "execution_count": 134,
   "id": "edde9fbe",
   "metadata": {},
   "outputs": [
    {
     "name": "stdout",
     "output_type": "stream",
     "text": [
      "5\n"
     ]
    }
   ],
   "source": [
    "print(len(alphabet))"
   ]
  },
  {
   "cell_type": "code",
   "execution_count": 138,
   "id": "7d6a09c8",
   "metadata": {},
   "outputs": [
    {
     "name": "stdout",
     "output_type": "stream",
     "text": [
      "[2, 3, 4, 6, 8, 10, 12, 14, 16, 18, 20]\n"
     ]
    }
   ],
   "source": [
    "two.sort()\n",
    "print(two)"
   ]
  },
  {
   "cell_type": "code",
   "execution_count": 139,
   "id": "becfc8fc",
   "metadata": {},
   "outputs": [
    {
     "name": "stdout",
     "output_type": "stream",
     "text": [
      "[20, 18, 16, 14, 12, 10, 8, 6, 4, 3, 2]\n"
     ]
    }
   ],
   "source": [
    "two.sort(reverse = True)\n",
    "print(two)"
   ]
  },
  {
   "cell_type": "code",
   "execution_count": 142,
   "id": "76966c03",
   "metadata": {},
   "outputs": [],
   "source": [
    "tuple1 = (6, 2, 3, 1, 53)\n",
    "tuple2 = sorted(tuple1)"
   ]
  },
  {
   "cell_type": "code",
   "execution_count": 143,
   "id": "c788782d",
   "metadata": {},
   "outputs": [
    {
     "name": "stdout",
     "output_type": "stream",
     "text": [
      "[1, 2, 3, 6, 53]\n"
     ]
    }
   ],
   "source": [
    "print(tuple2)"
   ]
  },
  {
   "cell_type": "code",
   "execution_count": 144,
   "id": "56201fee",
   "metadata": {},
   "outputs": [
    {
     "name": "stdout",
     "output_type": "stream",
     "text": [
      "(6, 2, 3, 1, 53)\n"
     ]
    }
   ],
   "source": [
    "print(tuple1)"
   ]
  },
  {
   "cell_type": "code",
   "execution_count": 145,
   "id": "ec1a2906",
   "metadata": {},
   "outputs": [
    {
     "name": "stdout",
     "output_type": "stream",
     "text": [
      "{'e': 1, 'A': 2, 'E': 3, 'h': 4, 'b': 5}\n"
     ]
    }
   ],
   "source": [
    "alpha = {'e' : 1, 'A' : 2, 'E' : 3, 'h' : 4, 'b' : 5}\n",
    "print(alpha)"
   ]
  },
  {
   "cell_type": "code",
   "execution_count": 146,
   "id": "0693f9aa",
   "metadata": {},
   "outputs": [
    {
     "data": {
      "text/plain": [
       "['A', 'E', 'b', 'e', 'h']"
      ]
     },
     "execution_count": 146,
     "metadata": {},
     "output_type": "execute_result"
    }
   ],
   "source": [
    "sorted(alpha)"
   ]
  },
  {
   "cell_type": "code",
   "execution_count": 147,
   "id": "b6bac482",
   "metadata": {},
   "outputs": [
    {
     "data": {
      "text/plain": [
       "range(1, 5)"
      ]
     },
     "execution_count": 147,
     "metadata": {},
     "output_type": "execute_result"
    }
   ],
   "source": [
    "range(1,5)"
   ]
  },
  {
   "cell_type": "code",
   "execution_count": 148,
   "id": "4e7f46e3",
   "metadata": {},
   "outputs": [
    {
     "name": "stdout",
     "output_type": "stream",
     "text": [
      "1\n",
      "2\n",
      "3\n",
      "4\n"
     ]
    }
   ],
   "source": [
    "for i in range(1,5):\n",
    "    print(i)"
   ]
  },
  {
   "cell_type": "code",
   "execution_count": 152,
   "id": "21483b75",
   "metadata": {},
   "outputs": [
    {
     "name": "stdout",
     "output_type": "stream",
     "text": [
      "0\n",
      "3\n",
      "6\n",
      "9\n"
     ]
    }
   ],
   "source": [
    "for i in range(0, 11, 3):\n",
    "    print(i)"
   ]
  },
  {
   "cell_type": "markdown",
   "id": "a027d768",
   "metadata": {},
   "source": [
    "\n",
    "## 🌼마무리 문제\n",
    "\n",
    "아래 문제들을 풀어보세요!\n",
    "\n",
    "Q1. 좋아하는 과일의 목록을 리스트로 만들어보세요. 리스트로 정렬한 후 마지막에 있는 과일을 꺼내보세요"
   ]
  },
  {
   "cell_type": "code",
   "execution_count": null,
   "id": "b38bdd41",
   "metadata": {},
   "outputs": [],
   "source": []
  },
  {
   "cell_type": "markdown",
   "id": "56985375",
   "metadata": {},
   "source": [
    "Q2. 오늘 할일 목록을 만들고 사용자가 새로운 할 일을 추가할 수 있게 하세요. 그리고 업데이트 된 목록을 출력해보세요."
   ]
  },
  {
   "cell_type": "code",
   "execution_count": null,
   "id": "9484b5a6",
   "metadata": {},
   "outputs": [],
   "source": []
  },
  {
   "cell_type": "markdown",
   "id": "9797ae46",
   "metadata": {},
   "source": [
    "Q3. 숫자 리스트를 생성하고, 리스트의 최대값, 최소값, 평균값을 구하여 출력하세요."
   ]
  },
  {
   "cell_type": "code",
   "execution_count": null,
   "id": "917e41c0",
   "metadata": {},
   "outputs": [],
   "source": []
  },
  {
   "cell_type": "code",
   "execution_count": null,
   "id": "4d4971f4",
   "metadata": {},
   "outputs": [],
   "source": []
  }
 ],
 "metadata": {
  "kernelspec": {
   "display_name": "test_env",
   "language": "python",
   "name": "python3"
  },
  "language_info": {
   "codemirror_mode": {
    "name": "ipython",
    "version": 3
   },
   "file_extension": ".py",
   "mimetype": "text/x-python",
   "name": "python",
   "nbconvert_exporter": "python",
   "pygments_lexer": "ipython3",
   "version": "3.9.20"
  }
 },
 "nbformat": 4,
 "nbformat_minor": 5
}
