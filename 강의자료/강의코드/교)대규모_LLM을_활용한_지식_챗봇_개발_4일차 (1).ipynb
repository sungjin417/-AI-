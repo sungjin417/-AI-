{
 "cells": [
  {
   "cell_type": "markdown",
   "metadata": {},
   "source": [
    "\n",
    "# 🌼 대규모 LLM을 활용한 지식 챗봇 개발 - 4차시(24.11.26)\n",
    "\n",
    "---"
   ]
  },
  {
   "cell_type": "code",
   "execution_count": null,
   "metadata": {},
   "outputs": [],
   "source": [
    "# pip install openai"
   ]
  },
  {
   "cell_type": "code",
   "execution_count": null,
   "metadata": {},
   "outputs": [],
   "source": [
    "# pip install python-dotenv"
   ]
  },
  {
   "cell_type": "code",
   "execution_count": 1,
   "metadata": {},
   "outputs": [
    {
     "data": {
      "text/plain": [
       "True"
      ]
     },
     "execution_count": 1,
     "metadata": {},
     "output_type": "execute_result"
    }
   ],
   "source": [
    "import os\n",
    "from dotenv import load_dotenv\n",
    "from openai import OpenAI\n",
    "\n",
    "# .env 파일 로드\n",
    "load_dotenv()"
   ]
  },
  {
   "cell_type": "code",
   "execution_count": 2,
   "metadata": {},
   "outputs": [
    {
     "name": "stdout",
     "output_type": "stream",
     "text": [
      "API Key loaded successfully!\n"
     ]
    }
   ],
   "source": [
    "# 환경 변수에서 GPT API 키 가져오기\n",
    "api_key = os.getenv(\"GPT_API_KEY\")\n",
    "\n",
    "if api_key:\n",
    "    print(\"API Key loaded successfully!\")\n",
    "else:\n",
    "    print(\"API Key not found!\")"
   ]
  },
  {
   "cell_type": "code",
   "execution_count": 3,
   "metadata": {},
   "outputs": [],
   "source": [
    "os.environ[\"OPENAI_API_KEY\"] = api_key\n",
    "client = OpenAI()"
   ]
  },
  {
   "cell_type": "code",
   "execution_count": 4,
   "metadata": {},
   "outputs": [],
   "source": [
    "completion = client.chat.completions.create(\n",
    "    model = 'gpt-4o',\n",
    "    messages = [\n",
    "        {'role' : 'user', 'content' : '오늘 날씨가 너무 춥다. 저녁 메뉴 뭘 먹으면 좋을까?'}\n",
    "    ]\n",
    ")"
   ]
  },
  {
   "cell_type": "code",
   "execution_count": 5,
   "metadata": {},
   "outputs": [
    {
     "data": {
      "text/plain": [
       "[Choice(finish_reason='stop', index=0, logprobs=None, message=ChatCompletionMessage(content='추운 날씨에는 따뜻하고 든든한 음식이 좋겠네요. 감자나 당근이 들어간 따뜻한 스튜나 국물이 있는 찌개, 혹은 전골 같은 음식을 추천해드리고 싶어요. 김치찌개나 된장찌개, 혹은 부대찌개도 훌륭한 선택이 될 수 있습니다. 또한 따뜻한 떡국이나 계란찜도 속을 든든하게 해줄 거예요. 맛있게 드시고 따뜻한 저녁 보내세요!', refusal=None, role='assistant', audio=None, function_call=None, tool_calls=None))]"
      ]
     },
     "execution_count": 5,
     "metadata": {},
     "output_type": "execute_result"
    }
   ],
   "source": [
    "completion.choices"
   ]
  },
  {
   "cell_type": "code",
   "execution_count": 6,
   "metadata": {},
   "outputs": [
    {
     "name": "stdout",
     "output_type": "stream",
     "text": [
      "GPT의 제안추운 날씨에는 따뜻하고 든든한 음식이 좋겠네요. 감자나 당근이 들어간 따뜻한 스튜나 국물이 있는 찌개, 혹은 전골 같은 음식을 추천해드리고 싶어요. 김치찌개나 된장찌개, 혹은 부대찌개도 훌륭한 선택이 될 수 있습니다. 또한 따뜻한 떡국이나 계란찜도 속을 든든하게 해줄 거예요. 맛있게 드시고 따뜻한 저녁 보내세요!\n"
     ]
    }
   ],
   "source": [
    "print('GPT의 제안' + completion.choices[0].message.content)"
   ]
  },
  {
   "cell_type": "code",
   "execution_count": 7,
   "metadata": {},
   "outputs": [
    {
     "name": "stdout",
     "output_type": "stream",
     "text": [
      "내일 날씨 예측 정보 : 죄송하지만, 실시간 날씨 정보를 제공할 수는 없습니다. 하지만 지역의 기상청 웹사이트나 날씨 앱을 통해 내일 날씨를 확인할 수 있습니다. 어떤 지역의 날씨가 궁금하신가\n"
     ]
    }
   ],
   "source": [
    "response = client.chat.completions.create(\n",
    "    model = 'gpt-4o-mini',\n",
    "    messages=[\n",
    "        {'role' : 'user', 'content' : '내일 날씨 어때?'}\n",
    "    ],\n",
    "    max_tokens = 50,\n",
    "    temperature = 0.7\n",
    ")\n",
    "print('내일 날씨 예측 정보 :', response.choices[0].message.content)"
   ]
  },
  {
   "cell_type": "markdown",
   "metadata": {},
   "source": [
    "1. Zero-shot\n",
    "- 모델이 사전 학습된 데이터에서 특정 작업에 대해 직접적으로 훈련되지 않았음에도 불구하고, 새로운 작업이나 질문에 대한 응답을 생성하는 방법  \n",
    "- 새로운 문제에 대한 일반화 능력을 테스트하는 데 매우 유용  \n",
    "- 모델이 다양한 도메인에서 학습한 일반 지식을 바탕으로 새로운 질문에 대응할 수 있음\n",
    "\n",
    "2. Few-shot\n",
    "- 모델에게 새로운 작업을 수행하기 전에 몇 가지 예시를 제공하여 해당 작업을 더 잘 이해하고 대응할 수 있게 하는 방식  \n",
    "- 모델에게 새로운 작업을 이해하는 데 유용\n",
    "- 모델이 몇 개의 예시를 제공받고 작업을 더 잘 이해한 후 응답함"
   ]
  },
  {
   "cell_type": "code",
   "execution_count": null,
   "metadata": {},
   "outputs": [
    {
     "name": "stdout",
     "output_type": "stream",
     "text": [
      "Hello! How can I assist you today?\n"
     ]
    }
   ],
   "source": [
    "# # 기본 form\n",
    "# prompt = ''\n",
    "# response = client.chat.completions.create(\n",
    "#     model = 'gpt-4o',\n",
    "#     messages=[\n",
    "#         {'role' : 'user', 'content' : prompt}\n",
    "#     ]\n",
    "# )\n",
    "# print(response.choices[0].message.content)"
   ]
  },
  {
   "cell_type": "code",
   "execution_count": 9,
   "metadata": {},
   "outputs": [
    {
     "name": "stdout",
     "output_type": "stream",
     "text": [
      "날씨가 추울 때는 따뜻하고 든든한 음식을 먹는 것이 좋죠. 다음은 추운 날씨에 추천할 만한 음식들입니다:\n",
      "\n",
      "1. **김치찌개**: 매콤하고 뜨거운 김치찌개는 몸을 따뜻하게 해줍니다.\n",
      "2. **된장찌개**: 구수한 맛의 된장찌개는 속을 편안하게 해줍니다.\n",
      "3. **삼계탕**: 영양가가 높고 뜨거운 국물이 몸을 데워줍니다.\n",
      "4. **매운탕**: 고기나 해산물로 끓인 매운탕은 칼칼하고 시원한 맛이 일품입니다.\n",
      "5. **갈비탕**: 부드럽고 진한 국물의 갈비탕은 포만감도 줍니다.\n",
      "6. **죽**: 전복죽이나 닭죽 같은 따뜻한 죽은 소화에도 좋습니다.\n",
      "7. **팥칼국수**: 따뜻한 국물과 쫄깃한 면이 잘 어울립니다.\n",
      "8. **카레**: 따뜻하고 매콤한 맛의 카레는 다양한 재료와 어우러져 든든합니다.\n",
      "\n",
      "이 외에도 따뜻한 차와 함께 즐길 수 있는 다양한 간식들도 좋습니다. 건강한 겨울 보내세요!\n"
     ]
    }
   ],
   "source": [
    "prompt = '날씨가 추울 때 먹을만한 음식 추천해줘'\n",
    "response = client.chat.completions.create(\n",
    "    model = 'gpt-4o',\n",
    "    messages=[\n",
    "        {'role' : 'user', 'content' : prompt}\n",
    "    ]\n",
    ")\n",
    "print(response.choices[0].message.content)"
   ]
  },
  {
   "cell_type": "code",
   "execution_count": 10,
   "metadata": {},
   "outputs": [
    {
     "name": "stdout",
     "output_type": "stream",
     "text": [
      "물론입니다! 오늘 저녁 메뉴로 추천드리는 두 가지 요리는 다음과 같습니다:\n",
      "\n",
      "1. **된장찌개**: 구수한 된장을 기본으로 채소와 두부, 감자 등 다양한 재료를 넣고 끓인 된장찌개는 깊은 맛과 영양을 제공합니다. 따뜻한 밥과 함께 먹으면 좋습니다.\n",
      "\n",
      "2. **삼계탕**: 영계 또는 닭에 찹쌀, 인삼, 대추 등을 넣고 푹 끓여낸 국물 요리로, 몸을 든든하게 해주고 기력을 보충해줍니다. 특히 추운 날씨에 잘 어울리는 보양식입니다.\n",
      "\n",
      "맛있는 저녁 식사 되시길 바랍니다!\n"
     ]
    }
   ],
   "source": [
    "prompt = \"\"\"\n",
    "1. **김치찌개**: 익은 김치와 돼지고기 또는 참치를 넣고 끓인 김치찌개는 속을 따뜻하게 해줍니다.\n",
    "\n",
    "2. **순두부찌개**: 부드러운 순두부와 고추장 또는 고춧가루를 활용하여 매콤하게 끓인 찌개로, 속을 뜨끈하게 해줍니다.\n",
    "\n",
    "3. **곰탕**: 오랜 시간 끓여낸 사골국물에 소고기를 넣고 먹는 곰탕은 영양가가 높고 몸을 데우는 데 좋습니다.\n",
    "\n",
    "이런 형태로 오늘 저녁 메뉴 추천해줘. 2개만.\n",
    "\"\"\"\n",
    "response = client.chat.completions.create(\n",
    "    model = 'gpt-4o',\n",
    "    messages=[\n",
    "        {'role' : 'user', 'content' : prompt}\n",
    "    ]\n",
    ")\n",
    "print(response.choices[0].message.content)"
   ]
  },
  {
   "cell_type": "code",
   "execution_count": 11,
   "metadata": {},
   "outputs": [
    {
     "name": "stdout",
     "output_type": "stream",
     "text": [
      "한국어 : 화창한 날이야.\n"
     ]
    }
   ],
   "source": [
    "response = client.chat.completions.create(\n",
    "    model = 'gpt-4o',\n",
    "    messages=[\n",
    "        {'role' : 'system', 'content' : '너는 번역가야. 영어 문장을 한국어로 번역해줘'},\n",
    "        {'role' : 'user', 'content' : '영어 : How are you? 한국어 : 잘 지내?'},\n",
    "        {'role' : 'user', 'content' : \"영어 : It's a sunny day\"}\n",
    "    ]\n",
    ")\n",
    "print(response.choices[0].message.content)"
   ]
  },
  {
   "cell_type": "code",
   "execution_count": 27,
   "metadata": {},
   "outputs": [],
   "source": [
    "# import webbrowser\n",
    "# response = client.images.generate(\n",
    "#     model = 'dall-e-3',\n",
    "#     prompt = 'A cute cat with a hat on',\n",
    "#     size = '1024x1024',\n",
    "#     quality = 'standard',\n",
    "#     # hd\n",
    "#     n = 1\n",
    "# )\n",
    "# webbrowser.open(response.data[0].url)"
   ]
  },
  {
   "cell_type": "code",
   "execution_count": null,
   "metadata": {},
   "outputs": [],
   "source": [
    "# prompt = ''\n",
    "# response = client.chat.completions.create(\n",
    "#     model = 'gpt-4o',\n",
    "#     messages=[\n",
    "#         {'role' : 'user', 'content' : prompt}\n",
    "#     ]\n",
    "# )\n",
    "# print(response.choices[0].message.content)"
   ]
  },
  {
   "cell_type": "code",
   "execution_count": 20,
   "metadata": {},
   "outputs": [],
   "source": [
    "def get_completion(prompt, model = 'gpt-4o'):\n",
    "    messages = [{'role' : 'user', 'content' : prompt}]\n",
    "    response = client.chat.completions.create(\n",
    "        model = model,\n",
    "        messages = messages,\n",
    "        temperature = 0\n",
    "    )\n",
    "    return response.choices[0].message.content"
   ]
  },
  {
   "cell_type": "code",
   "execution_count": 21,
   "metadata": {},
   "outputs": [],
   "source": [
    "prod_review = \"\"\"\n",
    "딸의 생일 선물로 이 판다 인형을 구입했는데, \\\n",
    "딸아이가 너무 좋아하며 어디로 가든지 함께 가져가요. 인형은 부드럽고 \\\n",
    "매우 귀엽고, 얼굴은 친근한 느낌입니다. 그런데 제가 지불한 가격에 비해 \\\n",
    "조금 작습니다. 같은 가격에 더 큰 다른 옵션이 있을 수도 있다고 생각합니다. \\\n",
    "예상보다 하루 일찍 도착해서, 저도 딸에게 주기 전에 미리 가지고 놀 수 있었어요.\n",
    "\"\"\""
   ]
  },
  {
   "cell_type": "code",
   "execution_count": 22,
   "metadata": {},
   "outputs": [
    {
     "name": "stdout",
     "output_type": "stream",
     "text": [
      "\"딸이 좋아하는 귀엽고 부드러운 판다 인형. 크기는 작지만 예상보다 빨리 도착해 만족. 가격 대비 크기 아쉬움.\"\n"
     ]
    }
   ],
   "source": [
    "prompt = f\"\"\"\n",
    "너는 쇼핑몰에서 제품 리뷰를 간략하게 요약해주는 일을 해.\n",
    "<>안에 있는 리뷰를 따옴표로 구분해서 최대 30단어로만 요약해줘\n",
    "리뷰 : <{prod_review}>\n",
    "\"\"\"\n",
    "response = get_completion(prompt)\n",
    "print(response)"
   ]
  },
  {
   "cell_type": "code",
   "execution_count": 23,
   "metadata": {},
   "outputs": [
    {
     "name": "stdout",
     "output_type": "stream",
     "text": [
      "리뷰 요약: 제품은 예상보다 하루 일찍 도착하여 만족스러웠습니다.\n"
     ]
    }
   ],
   "source": [
    "prompt = f\"\"\"\n",
    "너는 쇼핑몰에서 제품 리뷰를 간략하게 요약해서 배송관련된 측면만 출력해주는 업무를 해야해.\n",
    "<>안에 있는 리뷰를 제품의 배송에 관련된 측면에 중점을 두어 요약해줘.\n",
    "리뷰 : <{prod_review}>\n",
    "\"\"\"\n",
    "response = get_completion(prompt)\n",
    "print(response)"
   ]
  },
  {
   "cell_type": "code",
   "execution_count": 24,
   "metadata": {},
   "outputs": [],
   "source": [
    "review_1 = prod_review \n",
    "\n",
    "review_2 = \"\"\"\n",
    "방에 적합한 램프가 필요했는데, 이 제품은 추가 수납 공간도 제공하고 가격도 적당해서 구매했습니다. \n",
    "배송도 빨라서 이틀 만에 받았어요. 그런데 운송 중 램프 줄이 끊어졌지만, 회사에서 새 제품을 바로 보내줬습니다. \n",
    "며칠 안에 새 제품을 받아볼 수 있었고, 조립도 쉬웠습니다. \n",
    "다만 부품 하나가 빠져 있어서 고객 지원팀에 문의했더니 빠진 부품도 신속히 보내줬어요. \n",
    "이 회사는 고객을 잘 챙기는, 믿을 만한 곳 같습니다.\n",
    "\"\"\"\n",
    "\n",
    "review_3 = \"\"\"\n",
    "치과 위생사가 전기 칫솔을 추천해서 구매하게 됐습니다. \n",
    "배터리 수명이 꽤 인상적이었어요. 처음 충전한 뒤 첫 주 동안은 충전기를 꽂아놨고, \n",
    "배터리 상태를 조절한 후에는 일주일에 두 번 사용하면서 세 주 동안 충전 없이 사용할 수 있었습니다. \n",
    "다만 칫솔 머리가 너무 작아요. 아기용 칫솔보다 조금 더 큰 정도입니다. \n",
    "칫솔 머리가 좀 더 크고, 다양한 길이의 솔이 있어야 치아 사이를 더 효과적으로 닦을 수 있을 것 같습니다. \n",
    "전체적으로 이 제품이 50달러 정도라면 꽤 괜찮은 거래 같아요. 제조사의 칫솔 머리 교체품은 \n",
    "비싸지만, 제네릭 제품을 합리적인 가격에 구할 수 있습니다. \n",
    "이 칫솔을 사용하면 매일 치과에 다녀온 것처럼 제 치아가 반짝반짝하게 깨끗해지는 느낌입니다!\n",
    "\"\"\"\n",
    "\n",
    "review_4 = \"\"\"\n",
    "11월에 17피스 블렌더 세트를 세일 중에 약 35만원에 구매했어요. \n",
    "하지만 12월 둘째 주에는 같은 블렌더 가격이 40만원으로 올라갔습니다. \n",
    "11피스 블렌더 세트도 이전 세일 가격이 29만원이였는데, 4만원이나 상승했더군요. \n",
    "겉보기에는 괜찮아 보였지만, 뚜껑이 닫히는 부분이 몇 년 전 버전보다 약해 보였습니다. \n",
    "그래도 제품을 소중히 사용하려고 했어요. 예를 들어, 단단한 재료는 미리 부숴서 사용하고, 블레이드를 상황에 맞게 사용했습니다. \n",
    "스무디 만들 때의 팁으로는 과일과 채소를 잘게 썰어 얼려두면 얼음을 많이 사용할 필요가 없어서 유용하더라고요. \n",
    "하지만 1년쯤 사용 후 모터에서 이상한 소리가 나기 시작했고, \n",
    "고객 서비스에 문의했더니 보증이 만료돼서 결국 새로 구매해야 했습니다. \n",
    "참고로, 이 종류의 제품은 전반적인 품질이 조금 떨어지는 편인 것 같습니다. \n",
    "브랜드 인지도를 유지하기 위해 꾸준히 판매는 하는 것 같아요. \n",
    "배송은 이틀 만에 도착했습니다.\n",
    "\"\"\""
   ]
  },
  {
   "cell_type": "code",
   "execution_count": 26,
   "metadata": {},
   "outputs": [],
   "source": [
    "reviews = [review_1, review_2, review_3, review_4]"
   ]
  },
  {
   "cell_type": "code",
   "execution_count": 27,
   "metadata": {},
   "outputs": [
    {
     "name": "stdout",
     "output_type": "stream",
     "text": [
      "1번째 리뷰 요약 : 딸이 좋아하는 귀여운 판다 인형, 부드럽지만 가격 대비 작음. 예상보다 빨리 도착. \n",
      "\n",
      "2번째 리뷰 요약 : 적당한 가격의 램프, 빠른 배송, 훌륭한 고객 서비스로 신뢰할 만한 회사입니다. \n",
      "\n",
      "3번째 리뷰 요약 : 전기 칫솔, 배터리 수명 우수. 칫솔 머리 작음. 가격 대비 만족, 제네릭 교체품 추천. 치아 깨끗함. \n",
      "\n",
      "4번째 리뷰 요약 : 17피스 블렌더 세트, 가격 상승. 뚜껑 약함. 1년 후 모터 문제 발생. 품질 아쉬움. 빠른 배송. \n",
      "\n"
     ]
    }
   ],
   "source": [
    "for i in range(len(reviews)):\n",
    "    prompt = f\"\"\"\n",
    "너는 쇼핑몰에서 리뷰를 짧게 요약하는 일을 해야해. 아래 리뷰들을 최대 20단어로 요약해줘\n",
    "리뷰 : <{reviews[i]}>\n",
    "\"\"\"\n",
    "    response = get_completion(prompt)\n",
    "    print(f'{i+1}번째 리뷰 요약 : {response} \\n')"
   ]
  },
  {
   "cell_type": "code",
   "execution_count": 28,
   "metadata": {},
   "outputs": [],
   "source": [
    "monitor_review_pos = \"\"\"\n",
    "최근에 새로 출시된 XYZ 모니터를 구매했는데 정말 만족스럽습니다. \n",
    "화질이 선명하고 색감이 생생해서 작업할 때나 영화 볼 때 몰입감이 뛰어나네요. \n",
    "특히 눈 보호 모드가 탑재되어 있어서 장시간 사용해도 눈이 덜 피로한 것 같아요. \n",
    "베젤도 얇아서 공간 활용도가 높고, 디자인도 세련되어 책상 위에 두면 깔끔한 느낌입니다. \n",
    "설치도 간편했고, 제품 설명서도 자세하게 잘 나와 있어서 어려움 없이 사용할 수 있었습니다. \n",
    "가성비까지 뛰어난 제품이라 정말 추천드립니다!\n",
    "\"\"\"\n",
    "\n",
    "monitor_review_neg = \"\"\"\n",
    "새로 구매한 XYZ 모니터가 생각보다 많이 아쉽네요. \n",
    "화질이 또렷하지 않고 색감이 기대했던 것보다 흐릿한 느낌이 듭니다. \n",
    "특히 밝기 조절이 세세하지 못해서 밤에 사용할 때 너무 눈이 피로해지는 문제가 있더라고요. \n",
    "스탠드도 튼튼하지 못해서 모니터가 조금 흔들리는 게 신경 쓰였습니다. \n",
    "초기 설정 과정에서 문제가 있었는데, 고객 지원도 연결이 잘 안 돼서 해결하는 데 시간이 오래 걸렸습니다. \n",
    "디자인은 괜찮지만 전반적으로 가격 대비 성능이 부족하다고 느껴집니다.\n",
    "\"\"\"\n"
   ]
  },
  {
   "cell_type": "code",
   "execution_count": 31,
   "metadata": {},
   "outputs": [
    {
     "name": "stdout",
     "output_type": "stream",
     "text": [
      "이 리뷰의 감정은 부정적입니다. 리뷰 작성자는 제품의 여러 가지 측면에 대해 불만을 표현하고 있으며, 전반적으로 기대에 미치지 못했다고 느끼고 있습니다.\n"
     ]
    }
   ],
   "source": [
    "prompt = f\"\"\"\n",
    "다음 중 <>로 구분된 제품 리뷰의 감정은 무엇인가요?\n",
    "리뷰 : <{monitor_review_neg}>\n",
    "\"\"\"\n",
    "response = get_completion(prompt)\n",
    "print(response)"
   ]
  },
  {
   "cell_type": "code",
   "execution_count": 32,
   "metadata": {},
   "outputs": [
    {
     "name": "stdout",
     "output_type": "stream",
     "text": [
      "부정\n"
     ]
    }
   ],
   "source": [
    "prompt = f\"\"\"\n",
    "다음 중 <>로 구분된 제품 리뷰의 감정은 무엇인가요?\n",
    "답변을 '긍정' 또는 '부정' 중 하나의 단어로 제공해주세요\n",
    "리뷰 : <{monitor_review_neg}>\n",
    "\"\"\"\n",
    "response = get_completion(prompt)\n",
    "print(response)"
   ]
  },
  {
   "cell_type": "code",
   "execution_count": 33,
   "metadata": {},
   "outputs": [
    {
     "name": "stdout",
     "output_type": "stream",
     "text": [
      "실망, 불만, 피로, 짜증, 아쉬움\n"
     ]
    }
   ],
   "source": [
    "prompt = f\"\"\"\n",
    "다음 중 <>로 구분된 제품 리뷰의 작성자가 표현하고 있는 감정의 목록을 찾아주세요.\n",
    "최대 다섯 가지 항목만 포함해 주시고 답변은 쉼표로 구분해주세요\n",
    "리뷰 : <{monitor_review_neg}>\n",
    "\"\"\"\n",
    "response = get_completion(prompt)\n",
    "print(response)"
   ]
  },
  {
   "cell_type": "code",
   "execution_count": 37,
   "metadata": {},
   "outputs": [
    {
     "name": "stdout",
     "output_type": "stream",
     "text": [
      "```json\n",
      "{\n",
      "  \"sentiment\": \"부정\",\n",
      "  \"anger\": false,\n",
      "  \"item\": \"모니터\",\n",
      "  \"brand\": \"XYZ\"\n",
      "}\n",
      "```\n"
     ]
    }
   ],
   "source": [
    "prompt = f\"\"\"\n",
    "다음 항목을 리뷰에서 식별해주세요:\n",
    "1. 감정(긍정or부정)\n",
    "2. 리뷰어가 분노를 표현했는지(참 또는 거짓)\n",
    "3. 리뷰어가 구매한 항목\n",
    "4. 해당 항목을 제조한 회사\n",
    "\n",
    "리뷰는 <>로 구분됩니다.\n",
    "답변을 'sentiment', 'anger', 'item', 'brand'라는 key를 갖는 json형태로 출력하세요.\n",
    "정보를 찾을 수 없는 경우는 '알 수 없음'으로 표현해주세요.\n",
    "'anger'값은 boolean으로 표현하세요.\n",
    "\n",
    "리뷰 : <{monitor_review_neg}>\n",
    "\"\"\"\n",
    "response = get_completion(prompt)\n",
    "print(response)"
   ]
  },
  {
   "cell_type": "code",
   "execution_count": 38,
   "metadata": {},
   "outputs": [],
   "source": [
    "fake_story = \"\"\"\n",
    "정부가 최근 실시한 설문조사에서, 공공 부문 직원들은 자신이 일하는 부서에 대한 만족도를 평가하도록 요청받았습니다. \n",
    "결과적으로, NASA가 만족도 평가에서 가장 인기 있는 부서로 드러났고, 그 만족도는 95%였습니다.\n",
    "\n",
    "NASA의 한 직원인 John Smith는 이 결과에 대해 다음과 같이 말하였습니다. \n",
    "\"NASA가 가장 위에 오른 것에 놀랄 필요가 없\n",
    "\n",
    "습니다. NASA는 놀라운 사람들과 믿기 힘든 기회를 제공하는 좋은 곳이기 때문입니다.\n",
    "이처럼 혁신적인 조직의 일원이라는 것에 자부심을 느낍니다.\"\n",
    "\n",
    "또한, NASA의 경영진들도 이 결과를 환영하였으며, 담당자인 Tom Johnson은 \"우리 직원들이 NASA에서의 일에 만족한다는 사실을 듣게 되어 기쁩니다. \n",
    "우리는 우리의 목표를 이루기 위해 끊임없이 노력하는 재능있고 헌신적인 팀을 가지고 있으며, 그들의 노력이 결실을 맺는 것을 보게 되어 기쁩니다.\"라고 말했습니다.\n",
    "\n",
    "이 설문조사는 또한 사회보장청이 만족도가 가장 낮은 부서였음을 밝혔고, 그 만족도는 직원들 중 45%만이 자신의 직무에 만족하고 있음을 보여주었습니다. \n",
    "정부는 설문조사에서 직원들이 제기한 문제를 해결하고 모든 부서의 직무 만족도를 향상시키기 위해 노력하겠다고 약속했습니다.\n",
    "\"\"\"\n"
   ]
  },
  {
   "cell_type": "code",
   "execution_count": 39,
   "metadata": {},
   "outputs": [
    {
     "name": "stdout",
     "output_type": "stream",
     "text": [
      "이 텍스트의 주요 주제는 정부가 실시한 설문조사를 통해 공공 부문 직원들의 직무 만족도를 평가한 결과입니다. 특히, NASA가 가장 높은 만족도를 기록한 부서로 나타났으며, 사회보장청이 가장 낮은 만족도를 보인 부서로 드러났다는 점이 강조되고 있습니다. 또한, 정부가 이러한 결과를 바탕으로 직무 만족도를 향상시키기 위한 노력을 약속한 내용도 포함되어 있습니다.\n"
     ]
    }
   ],
   "source": [
    "prompt = f\"\"\"What is the main topic of this text? text : <{fake_story}>\"\"\"\n",
    "response = get_completion(prompt)\n",
    "print(response)"
   ]
  },
  {
   "cell_type": "code",
   "execution_count": 40,
   "metadata": {},
   "outputs": [
    {
     "name": "stdout",
     "output_type": "stream",
     "text": [
      "공공 부문, 직원 만족도, NASA, 사회보장청, 정부 노력\n"
     ]
    }
   ],
   "source": [
    "prompt = f\"\"\"이 텍스트에서 논의되고 있는 주제를 5개 확인해주세요.\n",
    "각 주제를 1~2개의 단어로 요약하고 결과는 쉼표로 구분하도록 출력하세요.\n",
    " <{fake_story}>\"\"\"\n",
    "response = get_completion(prompt)\n",
    "print(response)"
   ]
  },
  {
   "cell_type": "code",
   "execution_count": 41,
   "metadata": {},
   "outputs": [
    {
     "name": "stdout",
     "output_type": "stream",
     "text": [
      "주제 목록의 각 항목이 주어진 텍스트에 있는지 판단한 결과는 다음과 같습니다:\n",
      "\n",
      "1. 항공우주국: 1 (텍스트에 NASA가 언급되어 있습니다.)\n",
      "2. 지방 정부: 0 (지방 정부에 대한 언급은 없습니다.)\n",
      "3. 엔지니어링: 0 (엔지니어링에 대한 직접적인 언급은 없습니다.)\n",
      "4. 직원 만족도: 1 (직원 만족도에 대한 설문조사 결과가 언급되어 있습니다.)\n",
      "5. 프롬프트: 0 (프롬프트에 대한 언급은 없습니다.)\n",
      "\n",
      "결과 리스트: [1, 0, 0, 1, 0]\n"
     ]
    }
   ],
   "source": [
    "prompt = f\"\"\"주제 목록의 각 항목이 주어진 텍스트에 있는 주제인지 판단해보세요\n",
    "각 주제에 대한 답변을 0, 1로 리스트 형태로 제공하세요\n",
    "주제 목록 : 항공우주국, 지방 정부, 엔지니어링, 직원 만족도, 프롬프트\n",
    "주어진 텍스트 :  <{fake_story}>\"\"\"\n",
    "response = get_completion(prompt)\n",
    "print(response)"
   ]
  },
  {
   "cell_type": "code",
   "execution_count": 42,
   "metadata": {},
   "outputs": [
    {
     "name": "stdout",
     "output_type": "stream",
     "text": [
      "안녕하세요, 커피를 주문하고 싶습니다.\n"
     ]
    }
   ],
   "source": [
    "prompt = f\"\"\"\n",
    "다음 중국어를 한국어로 번역해보세요 : 你好，我想点咖啡。\n",
    "\"\"\"\n",
    "response = get_completion(prompt)\n",
    "print(response)"
   ]
  },
  {
   "cell_type": "code",
   "execution_count": 43,
   "metadata": {},
   "outputs": [
    {
     "name": "stdout",
     "output_type": "stream",
     "text": [
      "你好，我想点咖啡。를 스페인어로 번역하면 다음과 같습니다:\n",
      "\n",
      "Hola, me gustaría pedir un café.\n"
     ]
    }
   ],
   "source": [
    "prompt = f\"\"\"\n",
    "다음 중국어를 스페인어로 번역해보세요 : 你好，我想点咖啡。\n",
    "\"\"\"\n",
    "response = get_completion(prompt)\n",
    "print(response)"
   ]
  },
  {
   "cell_type": "code",
   "execution_count": 44,
   "metadata": {},
   "outputs": [
    {
     "name": "stdout",
     "output_type": "stream",
     "text": [
      "이 텍스트는 스웨덴어입니다.\n"
     ]
    }
   ],
   "source": [
    "prompt = f\"\"\"\n",
    "다음 텍스트가 어떤 언어인지 알려주세요 : Hej, jag skulle vilja beställa kaffe.\n",
    "\"\"\"\n",
    "response = get_completion(prompt)\n",
    "print(response)"
   ]
  },
  {
   "cell_type": "code",
   "execution_count": 45,
   "metadata": {},
   "outputs": [
    {
     "name": "stdout",
     "output_type": "stream",
     "text": [
      "한국어: 안녕하세요, 커피를 주문하고 싶습니다.\n",
      "\n",
      "중국어: 你好，我想点一杯咖啡。\n",
      "\n",
      "프랑스어: Bonjour, je voudrais commander un café.\n"
     ]
    }
   ],
   "source": [
    "prompt = f\"\"\"\n",
    "다음 텍스트를 한국어, 중국어, 프랑스어로 각각 번역해주세요 : Hej, jag skulle vilja beställa kaffe.\n",
    "\"\"\"\n",
    "response = get_completion(prompt)\n",
    "print(response)"
   ]
  },
  {
   "cell_type": "code",
   "execution_count": 46,
   "metadata": {},
   "outputs": [
    {
     "name": "stdout",
     "output_type": "stream",
     "text": [
      "안녕하세요,\n",
      "\n",
      "지난번에 저희 회사에서 구매를 고려 중이셨던 모니터의 크기를 다시 한번 확인하고 싶습니다. 정확한 사양을 알려주시면 감사하겠습니다.\n",
      "\n",
      "감사합니다.\n",
      "\n",
      "[당신의 이름] 드림\n"
     ]
    }
   ],
   "source": [
    "prompt = f\"\"\"\n",
    "다음 텍스트를 거래처에 발송할 사업 메일 형식으로 수정해주세요 : \n",
    "<이녀석아, 나다. 지난번에 네가 우리 회사에서 구매하고싶다고 했던 모니터가 크기가 얼마라고 했었는지 다시 말해줘>\n",
    "\"\"\"\n",
    "response = get_completion(prompt)\n",
    "print(response)"
   ]
  },
  {
   "cell_type": "code",
   "execution_count": 47,
   "metadata": {},
   "outputs": [
    {
     "name": "stdout",
     "output_type": "stream",
     "text": [
      "<우울할 때 맛있는 빵이 조금이라도 위로가 되었으면 좋겠어. 어떤 빵을 샀니?>\n"
     ]
    }
   ],
   "source": [
    "prompt = f\"\"\"\n",
    "<>안에 있는 텍스트는 우울해서 빵을 샀다고 하는 친구 말에 공감을 하지 못하고 있는 상황이야.\n",
    "이 텍스트에 공감하고 위로하는 톤을 넣어서 수정해줘 : \n",
    "<무슨 빵을 샀니?>\n",
    "\"\"\"\n",
    "response = get_completion(prompt)\n",
    "print(response)"
   ]
  },
  {
   "cell_type": "code",
   "execution_count": 48,
   "metadata": {},
   "outputs": [],
   "source": [
    "data = { \"직원연락망\" :[ \n",
    "    {\"이름\":\"수빈\", \"email\":\"soocong@chunjae.co.kr\"},\n",
    "    {\"이름\":\"예원\", \"email\":\"yewon@chunjae.co.kr\"},\n",
    "    {\"이름\":\"도환\", \"email\":\"dohwan@chunjae.co.kr\"}\n",
    "]}"
   ]
  },
  {
   "cell_type": "code",
   "execution_count": 49,
   "metadata": {},
   "outputs": [
    {
     "name": "stdout",
     "output_type": "stream",
     "text": [
      "다음은 주어진 파이썬 딕셔너리를 HTML 테이블로 변환한 코드입니다:\n",
      "\n",
      "```html\n",
      "<!DOCTYPE html>\n",
      "<html lang=\"ko\">\n",
      "<head>\n",
      "    <meta charset=\"UTF-8\">\n",
      "    <meta name=\"viewport\" content=\"width=device-width, initial-scale=1.0\">\n",
      "    <title>직원연락망</title>\n",
      "    <style>\n",
      "        table {\n",
      "            width: 50%;\n",
      "            border-collapse: collapse;\n",
      "            margin: 20px 0;\n",
      "        }\n",
      "        th, td {\n",
      "            border: 1px solid #ddd;\n",
      "            padding: 8px;\n",
      "            text-align: left;\n",
      "        }\n",
      "        th {\n",
      "            background-color: #f2f2f2;\n",
      "        }\n",
      "    </style>\n",
      "</head>\n",
      "<body>\n",
      "\n",
      "<h2>직원연락망</h2>\n",
      "\n",
      "<table>\n",
      "    <thead>\n",
      "        <tr>\n",
      "            <th>이름</th>\n",
      "            <th>email</th>\n",
      "        </tr>\n",
      "    </thead>\n",
      "    <tbody>\n",
      "        <tr>\n",
      "            <td>수빈</td>\n",
      "            <td>soocong@chunjae.co.kr</td>\n",
      "        </tr>\n",
      "        <tr>\n",
      "            <td>예원</td>\n",
      "            <td>yewon@chunjae.co.kr</td>\n",
      "        </tr>\n",
      "        <tr>\n",
      "            <td>도환</td>\n",
      "            <td>dohwan@chunjae.co.kr</td>\n",
      "        </tr>\n",
      "    </tbody>\n",
      "</table>\n",
      "\n",
      "</body>\n",
      "</html>\n",
      "```\n",
      "\n",
      "이 HTML 코드는 \"직원연락망\"이라는 제목을 가진 테이블을 생성하며, 각 직원의 이름과 이메일 주소를 표시합니다. 테이블은 간단한 스타일을 적용하여 가독성을 높였습니다.\n"
     ]
    }
   ],
   "source": [
    "prompt = f\"\"\"\n",
    "다음 파이썬 딕셔너리를 HTML 테이블로 번역해주세요.\n",
    "테이블 제목과 열의 이름은 유지하세요 : {data}\n",
    "\"\"\"\n",
    "response = get_completion(prompt)\n",
    "print(response)"
   ]
  },
  {
   "cell_type": "code",
   "execution_count": 51,
   "metadata": {},
   "outputs": [
    {
     "data": {
      "text/html": [
       "다음은 주어진 파이썬 딕셔너리를 HTML 테이블로 변환한 코드입니다:\n",
       "\n",
       "```html\n",
       "<!DOCTYPE html>\n",
       "<html lang=\"ko\">\n",
       "<head>\n",
       "    <meta charset=\"UTF-8\">\n",
       "    <meta name=\"viewport\" content=\"width=device-width, initial-scale=1.0\">\n",
       "    <title>직원연락망</title>\n",
       "    <style>\n",
       "        table {\n",
       "            width: 50%;\n",
       "            border-collapse: collapse;\n",
       "            margin: 20px 0;\n",
       "        }\n",
       "        th, td {\n",
       "            border: 1px solid #ddd;\n",
       "            padding: 8px;\n",
       "            text-align: left;\n",
       "        }\n",
       "        th {\n",
       "            background-color: #f2f2f2;\n",
       "        }\n",
       "    </style>\n",
       "</head>\n",
       "<body>\n",
       "\n",
       "<h2>직원연락망</h2>\n",
       "\n",
       "<table>\n",
       "    <thead>\n",
       "        <tr>\n",
       "            <th>이름</th>\n",
       "            <th>email</th>\n",
       "        </tr>\n",
       "    </thead>\n",
       "    <tbody>\n",
       "        <tr>\n",
       "            <td>수빈</td>\n",
       "            <td>soocong@chunjae.co.kr</td>\n",
       "        </tr>\n",
       "        <tr>\n",
       "            <td>예원</td>\n",
       "            <td>yewon@chunjae.co.kr</td>\n",
       "        </tr>\n",
       "        <tr>\n",
       "            <td>도환</td>\n",
       "            <td>dohwan@chunjae.co.kr</td>\n",
       "        </tr>\n",
       "    </tbody>\n",
       "</table>\n",
       "\n",
       "</body>\n",
       "</html>\n",
       "```\n",
       "\n",
       "이 HTML 코드는 \"직원연락망\"이라는 제목을 가진 테이블을 생성하며, 각 직원의 이름과 이메일 주소를 표시합니다. 테이블은 간단한 스타일을 적용하여 가독성을 높였습니다."
      ],
      "text/plain": [
       "<IPython.core.display.HTML object>"
      ]
     },
     "metadata": {},
     "output_type": "display_data"
    }
   ],
   "source": [
    "from IPython.display import display, HTML\n",
    "display(HTML(response))"
   ]
  },
  {
   "cell_type": "code",
   "execution_count": 52,
   "metadata": {},
   "outputs": [],
   "source": [
    "text = [ \n",
    "  '감기걸렸다며? 빨리 낳아',\n",
    "  \"너 그러면 않되\",\n",
    "  \"외냐하면 지금 마춤뻡이 틀렸으니까\",\n",
    "  '참 왜롭다',\n",
    "  '설겆이좀 하고올게'\n",
    "]"
   ]
  },
  {
   "cell_type": "code",
   "execution_count": 53,
   "metadata": {},
   "outputs": [
    {
     "name": "stdout",
     "output_type": "stream",
     "text": [
      "0 감기 걸렸다며? 빨리 나아.\n",
      "1 너 그러면 안 돼.\n",
      "2 왜냐하면 지금 맞춤법이 틀렸으니까\n",
      "3 <참 외롭다>\n",
      "4 <설거지 좀 하고 올게>\n"
     ]
    }
   ],
   "source": [
    "for i in range(len(text)):\n",
    "    prompt = f\"\"\"다음 한국어 문장의 맞춤법을 교정해주세요. 교정된 텍스트는 알맞게 수정해주세요.\n",
    "    원래의 텍스트는 출력할 필요가 없고, 오류를 찾지 못한 경우는 '오류를 찾지 못했습니다'라고 출력하세요\n",
    "    <{text[i]}>\n",
    "    \"\"\"\n",
    "    response = get_completion(prompt)\n",
    "    print(i, response)"
   ]
  },
  {
   "cell_type": "code",
   "execution_count": 54,
   "metadata": {},
   "outputs": [],
   "source": [
    "def get_completion(prompt, model = 'gpt-4o'):\n",
    "    messages = [{'role' : 'user', 'content' : prompt}]\n",
    "    response = client.chat.completions.create(\n",
    "        model = model,\n",
    "        messages = messages,\n",
    "        temperature = 0\n",
    "    )\n",
    "    return response.choices[0].message.content"
   ]
  },
  {
   "cell_type": "code",
   "execution_count": 67,
   "metadata": {},
   "outputs": [],
   "source": [
    "def get_completion_from_messages(messages, model = 'gpt-4o', temperature = 0):\n",
    "    response = client.chat.completions.create(\n",
    "        model = model,\n",
    "        messages = messages,\n",
    "        temperature = temperature\n",
    "    )\n",
    "    return response.choices[0].message.content"
   ]
  },
  {
   "cell_type": "code",
   "execution_count": 68,
   "metadata": {},
   "outputs": [],
   "source": [
    "messages = [\n",
    "    {'role': 'system', 'content': '당신은 2300년에서 온 최첨단 AI 비서입니다. 미래의 지식을 활용해 사용자와 대화하세요.'},\n",
    "    {'role': 'user', 'content': '안녕, 넌 미래에서 왔다고?'},\n",
    "    {'role': 'assistant', 'content': '그렇습니다, 사용자님. 저는 2300년에서 온 AI 비서입니다.'},\n",
    "    {'role': 'user', 'content': '미래엔 사람들이 어떤 직업을 갖고 있어?'},\n",
    "    {'role': 'assistant', 'content': '2300년엔 \"행성 건축가\"나 \"시간 여행 플래너\" 같은 직업이 인기입니다. 하지만 \"고양이 간식 디자이너\" 같은 직업도 여전히 수요가 많죠.'},\n",
    "    {'role': 'user', 'content': '시간 여행 플래너? 무슨 일을 해?'},\n",
    "]"
   ]
  },
  {
   "cell_type": "code",
   "execution_count": 69,
   "metadata": {},
   "outputs": [
    {
     "name": "stdout",
     "output_type": "stream",
     "text": [
      "시간 여행 플래너는 고객이 특정 과거나 미래 시대로 여행할 때 최적의 일정과 경험을 설계해 주는 역할을 합니다. 역사적 이벤트를 안전하고 의미 있게 체험할 수 있도록 조정하고, 시간 여행의 윤리적 측면과 잠재적인 시간선 변화의 위험성을 고려하여 여행 프로그램을 만듭니다. 이 직업은 역사적 지식, 윤리적 판단, 그리고 세심한 계획 능력을 요구합니다.\n"
     ]
    }
   ],
   "source": [
    "response = get_completion_from_messages(messages, temperature = 1)\n",
    "print(response)"
   ]
  },
  {
   "cell_type": "code",
   "execution_count": 70,
   "metadata": {},
   "outputs": [
    {
     "name": "stdout",
     "output_type": "stream",
     "text": [
      "안녕, 수빈! 만나서 반가워. 어떻게 도와줄까?\n"
     ]
    }
   ],
   "source": [
    "messages = [\n",
    "    {'role' : 'system', 'content' : '너는 친절한 챗봇이야'},\n",
    "    {'role' : 'user', 'content' : '안녕, 내 이름은 수빈이야'}\n",
    "]\n",
    "response = get_completion_from_messages(messages, temperature = 1)\n",
    "print(response)"
   ]
  },
  {
   "cell_type": "code",
   "execution_count": 71,
   "metadata": {},
   "outputs": [
    {
     "name": "stdout",
     "output_type": "stream",
     "text": [
      "죄송하지만, 저는 사용자님의 이름이나 개인 정보를 저장하거나 기억할 수 없습니다.\n"
     ]
    }
   ],
   "source": [
    "messages = [\n",
    "    {'role' : 'system', 'content' : '너는 친절한 챗봇이야'},\n",
    "    {'role' : 'user', 'content' : '내 이름이 뭐였는지 알려줄 수 있어?'}\n",
    "]\n",
    "response = get_completion_from_messages(messages, temperature = 1)\n",
    "print(response)"
   ]
  },
  {
   "cell_type": "code",
   "execution_count": 72,
   "metadata": {},
   "outputs": [
    {
     "name": "stdout",
     "output_type": "stream",
     "text": [
      "당신의 이름은 수빈이라고 했어요. 맞나요?\n"
     ]
    }
   ],
   "source": [
    "messages = [\n",
    "    {'role' : 'system', 'content' : '너는 친절한 챗봇이야'},\n",
    "    {'role' : 'user', 'content' : '안녕, 내 이름은 수빈이야'},\n",
    "    {'role' : 'assistant', 'content' : '안녕, 수빈! 만나서 반가워. 어떻게 도와줄까?'},\n",
    "    {'role' : 'user', 'content' : '내 이름이 뭐였는지 알려줄 수 있어?'}\n",
    "]\n",
    "response = get_completion_from_messages(messages, temperature = 1)\n",
    "print(response)"
   ]
  },
  {
   "cell_type": "code",
   "execution_count": 74,
   "metadata": {},
   "outputs": [
    {
     "name": "stdout",
     "output_type": "stream",
     "text": [
      "안녕하세요! 피자 주문을 도와드리겠습니다! 😊\n",
      "챗봇 : 물론 가능합니다! 이전 주문 내역을 확인하고 동일한 피자를 다시 주문해드리겠습니다. 주문하셨던 피자의 종류와 수량을 알려주시면 바로 처리해드리겠습니다.\n",
      "챗봇 : 죄송하지만, 저는 이전 주문 내역을 직접 확인할 수 없습니다. 대신, 이전에 주문하셨던 피자의 종류와 수량을 말씀해주시면 동일하게 주문 도와드리겠습니다. 또는, 고객님의 계정으로 로그인하셔서 주문 내역을 확인하실 수 있습니다. 어떻게 도와드릴까요?\n",
      "챗봇 : 이전 주문 내역을 확인할 수 없어 불편을 드려 죄송합니다. 이전에 주문하셨던 피자의 종류와 수량을 알려주시면 동일하게 주문 도와드리겠습니다. 필요한 정보가 있으시면 언제든지 말씀해 주세요!\n",
      "챗봇 : 이전 주문 내역을 확인할 수 없어 불편을 드려 죄송합니다. 이전에 주문하셨던 피자의 종류와 수량을 알려주시면 동일하게 주문 도와드리겠습니다. 필요한 정보가 있으시면 언제든지 말씀해 주세요!\n",
      "대화를 종료합니다. 다음에 또 오세요 👍\n"
     ]
    }
   ],
   "source": [
    "messages = [\n",
    "    {'role' : 'system', 'content' : '너는 친절한 피자 주문 챗봇이야'}\n",
    "]\n",
    "print('안녕하세요! 피자 주문을 도와드리겠습니다! 😊')\n",
    "\n",
    "while True:\n",
    "    user_input = input('사용자 : ')\n",
    "    if user_input.lower() in ['exit', 'quit', '종료', '나가기']:\n",
    "        print('대화를 종료합니다. 다음에 또 오세요 👍')\n",
    "        break\n",
    "    messages.append({'role' : 'user', 'content' : user_input})\n",
    "    assistant_response = get_completion_from_messages(messages)\n",
    "    messages.append({'role' : 'assistant', 'content' : assistant_response})\n",
    "    print(f'챗봇 : {assistant_response}')"
   ]
  },
  {
   "cell_type": "code",
   "execution_count": 75,
   "metadata": {},
   "outputs": [],
   "source": [
    "import json\n",
    "import os\n",
    "path = 'chat_history.json'\n",
    "\n",
    "# 대화 기록을 로드하는 함수\n",
    "def load_history():\n",
    "    if os.path.exists(path):\n",
    "        with open(path, 'r', encoding = 'utf-8') as file:\n",
    "            return json.load(file)\n",
    "    return [{'role' : 'system', 'content' : '당신은 친절한 피자 주문 챗봇입니다.'}]\n",
    "\n",
    "# 대화 기록을 저장하는 함수\n",
    "def save_history(messages):\n",
    "    with open(path, 'w', encoding = 'utf-8') as file:\n",
    "        json.dump(messages, file, ensure_ascii=False, indent = 4)\n",
    "        # dump : python 객체를 json 형식의 문자열로 반환하고 이를 파일에 저장하는 매서드\n",
    "\n",
    "# GPT 모델 호출 함수\n",
    "def get_completion_from_messages(messages, temperature=1):\n",
    "    response = client.chat.completions.create(\n",
    "        model = 'gpt-4o',\n",
    "        messages = messages,\n",
    "        temperature = temperature\n",
    "    )\n",
    "    return response.choices[0].message.content"
   ]
  },
  {
   "cell_type": "code",
   "execution_count": 77,
   "metadata": {},
   "outputs": [
    {
     "name": "stdout",
     "output_type": "stream",
     "text": [
      "안녕하세요! 피자 주문을 도와드리겠습니다 😊\n",
      "챗봇 : 방금 주문한 것과 동일한 주문을 추가로 진행하시겠다는 말씀이신가요? 작은 사이즈 페퍼로니 피자(버섯 토핑 추가)와 작은 사이즈 콜라를 또 주문하시려면 말씀해 주세요!\n",
      "챗봇 : 알겠습니다! 동일한 주문을 추가로 준비하겠습니다. 이제 두 개의 작은 사이즈 페퍼로니 피자(버섯 토핑 추가)와 두 개의 작은 사이즈 콜라가 준비되겠습니다. 30분 후에 픽업 가능하십니다. 안전하게 오세요! 감사합니다.\n",
      "대화를 종료합니다. 다음에 또 오세요👍\n"
     ]
    }
   ],
   "source": [
    "messages = load_history()\n",
    "print('안녕하세요! 피자 주문을 도와드리겠습니다 😊')\n",
    "while True:\n",
    "    user_input = input('사용자 : ')\n",
    "    if user_input.lower() in ['exit', 'quit', '종료', '나가기']:\n",
    "        print('대화를 종료합니다. 다음에 또 오세요👍')\n",
    "        save_history(messages)\n",
    "        break\n",
    "    \n",
    "    messages.append({'role' : 'user', 'content': user_input})\n",
    "\n",
    "    assistant_response = get_completion_from_messages(messages)\n",
    "    messages.append({'role' : 'assistant', 'content' : assistant_response})\n",
    "    print(f'챗봇 : {assistant_response}')"
   ]
  },
  {
   "cell_type": "code",
   "execution_count": null,
   "metadata": {},
   "outputs": [],
   "source": []
  }
 ],
 "metadata": {
  "kernelspec": {
   "display_name": "tensor_env",
   "language": "python",
   "name": "python3"
  },
  "language_info": {
   "codemirror_mode": {
    "name": "ipython",
    "version": 3
   },
   "file_extension": ".py",
   "mimetype": "text/x-python",
   "name": "python",
   "nbconvert_exporter": "python",
   "pygments_lexer": "ipython3",
   "version": "3.9.20"
  }
 },
 "nbformat": 4,
 "nbformat_minor": 2
}
