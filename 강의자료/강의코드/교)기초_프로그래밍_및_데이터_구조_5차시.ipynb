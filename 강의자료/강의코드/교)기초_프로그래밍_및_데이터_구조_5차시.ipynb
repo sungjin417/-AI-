{
 "cells": [
  {
   "cell_type": "markdown",
   "id": "e3da31fb",
   "metadata": {},
   "source": [
    "\n",
    "# 🌼 기초 프로그래밍 및 데이터 구조 - 5차시(24.10.29)\n",
    "\n",
    "---\n"
   ]
  },
  {
   "cell_type": "markdown",
   "id": "46179086",
   "metadata": {},
   "source": [
    "## 1. 함수"
   ]
  },
  {
   "cell_type": "markdown",
   "id": "6caec74c",
   "metadata": {},
   "source": [
    "- 함수는 반복적으로 사용되는 코드를 하나로 묶어 놓은 코드 블록\n",
    "- 함수를 정의하면 코드의 재사용성을 높일 수 있음"
   ]
  },
  {
   "cell_type": "code",
   "execution_count": 1,
   "id": "16b0f74f",
   "metadata": {},
   "outputs": [],
   "source": [
    "def greet():\n",
    "    print('Hello, world!')"
   ]
  },
  {
   "cell_type": "code",
   "execution_count": null,
   "id": "1475a353",
   "metadata": {},
   "outputs": [],
   "source": [
    "greet()"
   ]
  },
  {
   "cell_type": "code",
   "execution_count": null,
   "id": "e77bc2b4",
   "metadata": {},
   "outputs": [],
   "source": [
    "print('지금은 9시입니다')\n",
    "print('지금은 10시입니다')\n",
    "print('지금은 11시입니다')"
   ]
  },
  {
   "cell_type": "code",
   "execution_count": 4,
   "id": "39560125",
   "metadata": {},
   "outputs": [],
   "source": [
    "def time(number):\n",
    "    print(f'지금은 {number}시 입니다.')"
   ]
  },
  {
   "cell_type": "code",
   "execution_count": null,
   "id": "14e1e829",
   "metadata": {},
   "outputs": [],
   "source": [
    "time(4)\n",
    "time(5)"
   ]
  },
  {
   "cell_type": "code",
   "execution_count": 7,
   "id": "0f4c0056",
   "metadata": {},
   "outputs": [],
   "source": [
    "def add(a, b):\n",
    "    print(a+b)   "
   ]
  },
  {
   "cell_type": "code",
   "execution_count": null,
   "id": "9e3091fc",
   "metadata": {},
   "outputs": [],
   "source": [
    "add(2, 3)"
   ]
  },
  {
   "cell_type": "code",
   "execution_count": null,
   "id": "4ab3c7f2",
   "metadata": {},
   "outputs": [],
   "source": [
    "add()"
   ]
  },
  {
   "cell_type": "markdown",
   "id": "60882422",
   "metadata": {},
   "source": [
    "## 2. return\n",
    "- `return` 은 함수의 결과를 함수 외부로 반환할 때 사용"
   ]
  },
  {
   "cell_type": "code",
   "execution_count": 10,
   "id": "3903c22b",
   "metadata": {},
   "outputs": [],
   "source": [
    "def add_print(a, b):\n",
    "    print(a+b)"
   ]
  },
  {
   "cell_type": "code",
   "execution_count": null,
   "id": "ddb66ead",
   "metadata": {},
   "outputs": [],
   "source": [
    "add_print(5, 3) + 5"
   ]
  },
  {
   "cell_type": "code",
   "execution_count": 13,
   "id": "ab8a2162",
   "metadata": {},
   "outputs": [],
   "source": [
    "def add_print(a, b):\n",
    "    return a+b"
   ]
  },
  {
   "cell_type": "code",
   "execution_count": null,
   "id": "49c7e8e1",
   "metadata": {},
   "outputs": [],
   "source": [
    "add_print(5, 3)"
   ]
  },
  {
   "cell_type": "code",
   "execution_count": null,
   "id": "503acb0e",
   "metadata": {},
   "outputs": [],
   "source": [
    "add_print(5, 3) + 5"
   ]
  },
  {
   "cell_type": "code",
   "execution_count": 16,
   "id": "ee822b57",
   "metadata": {},
   "outputs": [],
   "source": [
    "def add_mult(a, b):\n",
    "    add = a + b\n",
    "    mult = a * b\n",
    "    return add, mult"
   ]
  },
  {
   "cell_type": "code",
   "execution_count": null,
   "id": "0a1abc2e",
   "metadata": {},
   "outputs": [],
   "source": [
    "add_mult(3, 5)"
   ]
  },
  {
   "cell_type": "code",
   "execution_count": 18,
   "id": "abd791a5",
   "metadata": {},
   "outputs": [],
   "source": [
    "result1, result2 = add_mult(3, 5)"
   ]
  },
  {
   "cell_type": "code",
   "execution_count": null,
   "id": "107d64b5",
   "metadata": {},
   "outputs": [],
   "source": [
    "print(result1, result2, sep='/')"
   ]
  },
  {
   "cell_type": "code",
   "execution_count": 20,
   "id": "f5cc8969",
   "metadata": {},
   "outputs": [],
   "source": [
    "def payment(price, pay):\n",
    "    if pay < price :\n",
    "        return print(f'금액이 부족합니다. 부족한 금액 : {abs(pay-price)}원')\n",
    "    else:\n",
    "        return print(f'결제되었습니다. 거스름돈 : {abs(price-pay)}원')"
   ]
  },
  {
   "cell_type": "code",
   "execution_count": null,
   "id": "045c680e",
   "metadata": {},
   "outputs": [],
   "source": [
    "payment(800, 500)"
   ]
  },
  {
   "cell_type": "code",
   "execution_count": 25,
   "id": "a97f5aec",
   "metadata": {},
   "outputs": [],
   "source": [
    "# Q1. 사용자에게 값을 입력 받아 입력 받은 숫자의 구구단을 출력하는 함수를 작성해보세요.\n",
    "def func():\n",
    "    number = int(input('값을 입력하세요'))\n",
    "    for i in range(1,10):\n",
    "        print(f'{number} * {i} = {number * i}')"
   ]
  },
  {
   "cell_type": "code",
   "execution_count": null,
   "id": "86a5d1bb",
   "metadata": {},
   "outputs": [],
   "source": [
    "func()"
   ]
  },
  {
   "cell_type": "code",
   "execution_count": 27,
   "id": "e7c7c4e3",
   "metadata": {},
   "outputs": [],
   "source": [
    "# Q2. 90점 이상이면 A, 80점 이상이면 B, 70점 이상이면 C, 60점 이상이면 D,\n",
    "# 그 아래 점수는 F를 주는 성적 자동 계산기 함수를 작성해보세요.\n",
    "# 단, 점수는 0점부터 100점까지만 입력 가능합니다\n",
    "\n",
    "def grade(score):\n",
    "    if score < 0 or score >100:\n",
    "        return '잘못된 점수'\n",
    "    elif score >= 90:\n",
    "        return 'A'\n",
    "    elif score >= 80:\n",
    "        return 'B'\n",
    "    elif score >= 70:\n",
    "        return 'C'\n",
    "    elif score >= 60:\n",
    "        return 'D'\n",
    "    else:\n",
    "        return 'F'"
   ]
  },
  {
   "cell_type": "code",
   "execution_count": null,
   "id": "e03db689",
   "metadata": {},
   "outputs": [],
   "source": [
    "grade(150)"
   ]
  },
  {
   "cell_type": "code",
   "execution_count": 34,
   "id": "1f388c40",
   "metadata": {},
   "outputs": [],
   "source": [
    "# Q3. 알파벳 모음 개수를 세어 반환하는 함수를 작성해보세요.\n",
    "# nice to meet you\n",
    "def alpha(text):\n",
    "    search = 'aeiou'\n",
    "    count = 0\n",
    "    for i in text:\n",
    "        if i in search:\n",
    "            count+=1\n",
    "    return count"
   ]
  },
  {
   "cell_type": "code",
   "execution_count": null,
   "id": "e50a9bd8",
   "metadata": {},
   "outputs": [],
   "source": [
    "alpha('nice to meet you')"
   ]
  },
  {
   "cell_type": "markdown",
   "id": "8cbffe67",
   "metadata": {},
   "source": [
    "### try, except"
   ]
  },
  {
   "cell_type": "code",
   "execution_count": null,
   "id": "28253eae",
   "metadata": {},
   "outputs": [],
   "source": [
    "result = 10/0"
   ]
  },
  {
   "cell_type": "markdown",
   "id": "605a3ea4",
   "metadata": {},
   "source": [
    "```python\n",
    "try : \n",
    "    실행할 코드\n",
    "except (예외종류 : 생략 가능):\n",
    "    예외가 발생했을 때 실행할 코드\n",
    "```"
   ]
  },
  {
   "cell_type": "code",
   "execution_count": null,
   "id": "fbf0d4fb",
   "metadata": {},
   "outputs": [],
   "source": [
    "try:\n",
    "    result = 10/0\n",
    "except ZeroDivisionError:\n",
    "    print('0으로 나눌 수 없습니다')"
   ]
  },
  {
   "cell_type": "code",
   "execution_count": null,
   "id": "c56dd038",
   "metadata": {},
   "outputs": [],
   "source": [
    "try:\n",
    "    result = 10/0\n",
    "except:\n",
    "    print('문제가 발생했습니다')"
   ]
  },
  {
   "cell_type": "code",
   "execution_count": null,
   "id": "4ced868c",
   "metadata": {},
   "outputs": [],
   "source": [
    "10/'ㄱ'"
   ]
  },
  {
   "cell_type": "code",
   "execution_count": 42,
   "id": "dda915d7",
   "metadata": {},
   "outputs": [],
   "source": [
    "def safe():\n",
    "    try:\n",
    "        number = int(input('사용자에게 숫자를 입력 받습니다'))\n",
    "        result = 10 / number\n",
    "        return result\n",
    "    except ZeroDivisionError:\n",
    "        print('0으로 나눌 수 없습니다')\n",
    "    except TypeError:\n",
    "        print('잘못된 타입입니다.')\n",
    "    except ValueError:\n",
    "        print('숫자가 아닌 값을 입력했습니다')"
   ]
  },
  {
   "cell_type": "code",
   "execution_count": null,
   "id": "f69f0635",
   "metadata": {},
   "outputs": [],
   "source": [
    "safe()"
   ]
  },
  {
   "cell_type": "code",
   "execution_count": 48,
   "id": "231f9d50",
   "metadata": {},
   "outputs": [
    {
     "ename": "ValueError",
     "evalue": "invalid literal for int() with base 10: 'f'",
     "output_type": "error",
     "traceback": [
      "\u001b[1;31m---------------------------------------------------------------------------\u001b[0m",
      "\u001b[1;31mValueError\u001b[0m                                Traceback (most recent call last)",
      "Cell \u001b[1;32mIn[48], line 2\u001b[0m\n\u001b[0;32m      1\u001b[0m \u001b[38;5;28;01mwhile\u001b[39;00m \u001b[38;5;28;01mTrue\u001b[39;00m:\n\u001b[1;32m----> 2\u001b[0m     number \u001b[38;5;241m=\u001b[39m \u001b[38;5;28;43mint\u001b[39;49m\u001b[43m(\u001b[49m\u001b[38;5;28;43minput\u001b[39;49m\u001b[43m(\u001b[49m\u001b[38;5;124;43m'\u001b[39;49m\u001b[38;5;124;43m숫자를 입력하세요. 종료하려면 0을 누르세요.\u001b[39;49m\u001b[38;5;124;43m'\u001b[39;49m\u001b[43m)\u001b[49m\u001b[43m)\u001b[49m\n\u001b[0;32m      3\u001b[0m     \u001b[38;5;28;01mif\u001b[39;00m number\u001b[38;5;241m==\u001b[39m\u001b[38;5;241m0\u001b[39m:\n\u001b[0;32m      4\u001b[0m         \u001b[38;5;28mprint\u001b[39m(\u001b[38;5;124m'\u001b[39m\u001b[38;5;124m프로그램을 종료합니다\u001b[39m\u001b[38;5;124m'\u001b[39m)\n",
      "\u001b[1;31mValueError\u001b[0m: invalid literal for int() with base 10: 'f'"
     ]
    }
   ],
   "source": [
    "while True:\n",
    "    number = int(input('숫자를 입력하세요. 종료하려면 0을 누르세요.'))\n",
    "    if number==0:\n",
    "        print('프로그램을 종료합니다')\n",
    "        break\n",
    "    print(f'입력한 숫자 : {number}')"
   ]
  },
  {
   "cell_type": "code",
   "execution_count": 49,
   "id": "4d93cb33",
   "metadata": {},
   "outputs": [
    {
     "name": "stdout",
     "output_type": "stream",
     "text": [
      "잘못된 입력입니다. 숫자를 입력하세요.\n",
      "잘못된 입력입니다. 숫자를 입력하세요.\n",
      "잘못된 입력입니다. 숫자를 입력하세요.\n",
      "잘못된 입력입니다. 숫자를 입력하세요.\n",
      "잘못된 입력입니다. 숫자를 입력하세요.\n",
      "잘못된 입력입니다. 숫자를 입력하세요.\n",
      "잘못된 입력입니다. 숫자를 입력하세요.\n",
      "입력한 숫자 : 4\n",
      "입력한 숫자 : 2\n",
      "잘못된 입력입니다. 숫자를 입력하세요.\n",
      "잘못된 입력입니다. 숫자를 입력하세요.\n",
      "잘못된 입력입니다. 숫자를 입력하세요.\n",
      "프로그램을 종료합니다\n"
     ]
    }
   ],
   "source": [
    "while True:\n",
    "    try:\n",
    "        number = int(input('숫자를 입력하세요. 종료하려면 0을 누르세요.'))\n",
    "        if number==0:\n",
    "            print('프로그램을 종료합니다')\n",
    "            break\n",
    "        print(f'입력한 숫자 : {number}')\n",
    "    except ValueError:\n",
    "        print('잘못된 입력입니다. 숫자를 입력하세요.')"
   ]
  },
  {
   "cell_type": "code",
   "execution_count": 54,
   "id": "b11c045c",
   "metadata": {},
   "outputs": [],
   "source": [
    "# Q1. 리스트와 인덱스 매개변수로 받아 해당하는 인덱스의 값을 출력해주는 함수를 만들어보세요.\n",
    "# 이 때, 범위를 벗어난 인덱스 값을 넣어도 예외로 처리될 수 있도록 처리하세요\n",
    "def value(list_, index):\n",
    "    try:\n",
    "        return list_[index]\n",
    "    except IndexError:\n",
    "        return '인덱스가 리스트의 범위를 벗어났습니다.'"
   ]
  },
  {
   "cell_type": "code",
   "execution_count": 55,
   "id": "c6deee7d",
   "metadata": {},
   "outputs": [
    {
     "data": {
      "text/plain": [
       "'인덱스가 리스트의 범위를 벗어났습니다.'"
      ]
     },
     "execution_count": 55,
     "metadata": {},
     "output_type": "execute_result"
    }
   ],
   "source": [
    "a = ['A', 'B', 'C']\n",
    "value(a, 3)"
   ]
  },
  {
   "cell_type": "code",
   "execution_count": 59,
   "id": "ae757407",
   "metadata": {},
   "outputs": [],
   "source": [
    "# Q2. 딕셔너리와 key값을 입력받아 딕셔너리에서 해당하는 key값을 출력해주는 함수를 만들어보세요.\n",
    "# 이 때, 딕셔너리에 없는 key값을 넣어도 예외로 처리될 수 있도록 처리하세요\n",
    "\n",
    "def printtkey(dict_, key):\n",
    "    try:\n",
    "        return dict_[key]\n",
    "    except KeyError:\n",
    "        return '해당 키가 없습니다'"
   ]
  },
  {
   "cell_type": "code",
   "execution_count": 60,
   "id": "af34adff",
   "metadata": {},
   "outputs": [
    {
     "data": {
      "text/plain": [
       "'해당 키가 없습니다'"
      ]
     },
     "execution_count": 60,
     "metadata": {},
     "output_type": "execute_result"
    }
   ],
   "source": [
    "b = {'고양이':1, '강아지':2, '햄스터':3}\n",
    "printtkey(b, '호랑이')"
   ]
  },
  {
   "cell_type": "markdown",
   "id": "e8b6731b",
   "metadata": {},
   "source": [
    "## 3. 매개변수\n",
    "\n",
    "- 매개변수는 함수에 입력으로 전달되는 값"
   ]
  },
  {
   "cell_type": "code",
   "execution_count": 61,
   "id": "f26c2810",
   "metadata": {},
   "outputs": [],
   "source": [
    "def greet():\n",
    "    print('hi')"
   ]
  },
  {
   "cell_type": "code",
   "execution_count": 62,
   "id": "ed9fa81e",
   "metadata": {},
   "outputs": [
    {
     "name": "stdout",
     "output_type": "stream",
     "text": [
      "hi\n"
     ]
    }
   ],
   "source": [
    "greet()"
   ]
  },
  {
   "cell_type": "code",
   "execution_count": 63,
   "id": "cbd7ff23",
   "metadata": {},
   "outputs": [],
   "source": [
    "def greet_name(name):\n",
    "    print(f'hi {name}')"
   ]
  },
  {
   "cell_type": "code",
   "execution_count": 64,
   "id": "aac2f2b4",
   "metadata": {},
   "outputs": [
    {
     "name": "stdout",
     "output_type": "stream",
     "text": [
      "hi 수빈\n"
     ]
    }
   ],
   "source": [
    "greet_name('수빈')"
   ]
  },
  {
   "cell_type": "markdown",
   "id": "fbed9ec1",
   "metadata": {},
   "source": [
    "#### 여러개의 매개변수"
   ]
  },
  {
   "cell_type": "code",
   "execution_count": 65,
   "id": "5a530dd8",
   "metadata": {},
   "outputs": [],
   "source": [
    "def multi(a, b, c):\n",
    "    d = a * b * c\n",
    "    return d"
   ]
  },
  {
   "cell_type": "code",
   "execution_count": 67,
   "id": "a97827ed",
   "metadata": {},
   "outputs": [
    {
     "data": {
      "text/plain": [
       "90"
      ]
     },
     "execution_count": 67,
     "metadata": {},
     "output_type": "execute_result"
    }
   ],
   "source": [
    "multi(2, 3, 5) * 3"
   ]
  },
  {
   "cell_type": "markdown",
   "id": "e3780c45",
   "metadata": {},
   "source": [
    "#### 기본값이 있는 매개변수"
   ]
  },
  {
   "cell_type": "code",
   "execution_count": 68,
   "id": "c82613d7",
   "metadata": {},
   "outputs": [],
   "source": [
    "def greet(name='person'):\n",
    "    print(f'안녕하세요, {name}님')"
   ]
  },
  {
   "cell_type": "code",
   "execution_count": 69,
   "id": "4433292a",
   "metadata": {},
   "outputs": [
    {
     "name": "stdout",
     "output_type": "stream",
     "text": [
      "안녕하세요, 수빈님\n"
     ]
    }
   ],
   "source": [
    "greet('수빈')"
   ]
  },
  {
   "cell_type": "code",
   "execution_count": 70,
   "id": "8907b343",
   "metadata": {},
   "outputs": [
    {
     "name": "stdout",
     "output_type": "stream",
     "text": [
      "안녕하세요, person님\n"
     ]
    }
   ],
   "source": [
    "greet()"
   ]
  },
  {
   "cell_type": "markdown",
   "id": "e71f8b37",
   "metadata": {},
   "source": [
    "#### 매개변수를 몇개를 받을지 모른다면?"
   ]
  },
  {
   "cell_type": "code",
   "execution_count": 72,
   "id": "4bd331c4",
   "metadata": {},
   "outputs": [],
   "source": [
    "def add_many(*num):\n",
    "    result = 0\n",
    "    for i in num:\n",
    "        result = result + i\n",
    "    return result"
   ]
  },
  {
   "cell_type": "code",
   "execution_count": 74,
   "id": "fd60b004",
   "metadata": {},
   "outputs": [
    {
     "data": {
      "text/plain": [
       "90"
      ]
     },
     "execution_count": 74,
     "metadata": {},
     "output_type": "execute_result"
    }
   ],
   "source": [
    "add_many(1, 2, 3, 4, 5, 6, 7, 8, 9) * 2"
   ]
  },
  {
   "cell_type": "markdown",
   "id": "f999d567",
   "metadata": {},
   "source": [
    "#### 매개변수의 순서"
   ]
  },
  {
   "cell_type": "code",
   "execution_count": 75,
   "id": "97f49808",
   "metadata": {},
   "outputs": [],
   "source": [
    "def info(name, age, city):\n",
    "    print(f'이름 : {name}, 나이 : {age}, 사는 곳 : {city}')"
   ]
  },
  {
   "cell_type": "code",
   "execution_count": 77,
   "id": "a3c10659",
   "metadata": {},
   "outputs": [
    {
     "name": "stdout",
     "output_type": "stream",
     "text": [
      "이름 : 서울, 나이 : 20, 사는 곳 : 수빈\n"
     ]
    }
   ],
   "source": [
    "info('서울', 20, '수빈')"
   ]
  },
  {
   "cell_type": "code",
   "execution_count": 78,
   "id": "2d4e921e",
   "metadata": {},
   "outputs": [
    {
     "name": "stdout",
     "output_type": "stream",
     "text": [
      "이름 : 수빈, 나이 : 20, 사는 곳 : 서울\n"
     ]
    }
   ],
   "source": [
    "info(age = 20, city = '서울', name = '수빈')"
   ]
  },
  {
   "cell_type": "code",
   "execution_count": 79,
   "id": "88511ac1",
   "metadata": {},
   "outputs": [],
   "source": [
    "# Q1. 영화 정보를 출력하는 함수를 만들어보세요.\n",
    "# 제목, 감독, 연도를 매개변수로 받으며 연도는 기본값이 정보없음으로 출력될 수 있게 작성해보세요.\n",
    "def movie_info(title, director, year='정보 없음'):\n",
    "    print(f'영화 제목 : {title}')\n",
    "    print(f'감독 : {director}')\n",
    "    print(f'연도 : {year}')"
   ]
  },
  {
   "cell_type": "code",
   "execution_count": 80,
   "id": "69b6eaad",
   "metadata": {},
   "outputs": [
    {
     "name": "stdout",
     "output_type": "stream",
     "text": [
      "영화 제목 : 인셉션\n",
      "감독 : 크리스토퍼 놀란\n",
      "연도 : 정보 없음\n"
     ]
    }
   ],
   "source": [
    "movie_info('인셉션', '크리스토퍼 놀란')"
   ]
  },
  {
   "cell_type": "code",
   "execution_count": 81,
   "id": "fb242f9a",
   "metadata": {},
   "outputs": [],
   "source": [
    "# Q2. 국어, 수학, 영어 세 과목의 점수를 매개변수로 받아\n",
    "# 평균 점수와 총 합계 점수를 출력하는 함수를 작성해보세요.\n",
    "def scores(korean, math, english):\n",
    "    total = korean + math + english\n",
    "    average = total / 3\n",
    "    return total, average"
   ]
  },
  {
   "cell_type": "code",
   "execution_count": 83,
   "id": "1341870b",
   "metadata": {},
   "outputs": [
    {
     "name": "stdout",
     "output_type": "stream",
     "text": [
      "총합은 177, 평균은 59.0입니다.\n"
     ]
    }
   ],
   "source": [
    "total, average = scores(80, 30, 67)\n",
    "print(f'총합은 {total}, 평균은 {average}입니다.')"
   ]
  },
  {
   "cell_type": "code",
   "execution_count": 84,
   "id": "db65f0a9",
   "metadata": {},
   "outputs": [],
   "source": [
    "# Q3. 가격과 할인율을 입력하면 할인된 가격을 출력해주는 함수를 작성해보세요.\n",
    "# 할인율은 최대 100%로 하며 기본 할인율은 10%로 설정해보세요.\n",
    "\n",
    "def discount(price, percent=10):\n",
    "    if percent > 100:\n",
    "        percent = 100\n",
    "    final_price = price * (1 - (percent / 100))\n",
    "    return final_price"
   ]
  },
  {
   "cell_type": "code",
   "execution_count": 86,
   "id": "a0f7f1b8",
   "metadata": {},
   "outputs": [
    {
     "data": {
      "text/plain": [
       "9000.0"
      ]
     },
     "execution_count": 86,
     "metadata": {},
     "output_type": "execute_result"
    }
   ],
   "source": [
    "discount(10000)"
   ]
  },
  {
   "cell_type": "code",
   "execution_count": 87,
   "id": "fdb8e674",
   "metadata": {},
   "outputs": [],
   "source": [
    "# Q4. 시험 점수를 입력받아 평균을 계산하는 계산기 함수를 작성해보세요\n",
    "# 이 때, 몇 개의 점수를 입력받을지는 모른다고 가정하고 작성해보세요\n",
    "\n",
    "def average(*score):\n",
    "    total = sum(score)\n",
    "    average_score = total / len(score)\n",
    "    return average_score"
   ]
  },
  {
   "cell_type": "code",
   "execution_count": 88,
   "id": "488ce8fe",
   "metadata": {},
   "outputs": [
    {
     "data": {
      "text/plain": [
       "50.0"
      ]
     },
     "execution_count": 88,
     "metadata": {},
     "output_type": "execute_result"
    }
   ],
   "source": [
    "average(50, 60, 40)"
   ]
  },
  {
   "cell_type": "code",
   "execution_count": 89,
   "id": "5271cc07",
   "metadata": {},
   "outputs": [],
   "source": [
    "# Q5. 사용자의 이름과 메시지를 매개변수로 입력받는 메시지 함수를 작성해보세요.\n",
    "# 메시지는 '안녕하세요'를 기본 값으로 설정하세요 \n",
    "def send_message(name, message='안녕하세요'):\n",
    "    print(f'{name}님, {message}')"
   ]
  },
  {
   "cell_type": "code",
   "execution_count": 92,
   "id": "20c55678",
   "metadata": {},
   "outputs": [
    {
     "name": "stdout",
     "output_type": "stream",
     "text": [
      "수빈님, 메시지 먼저 넣을게\n"
     ]
    }
   ],
   "source": [
    "send_message(message = '메시지 먼저 넣을게', name = '수빈')"
   ]
  },
  {
   "cell_type": "markdown",
   "id": "ec5fb5ae",
   "metadata": {},
   "source": [
    "## 4. 지역변수와 전역변수\n",
    "- 지역변수는 함수 내부에서만 유효하며, 전역변수는 프로그램 전체에서 접근할 수 있음"
   ]
  },
  {
   "cell_type": "code",
   "execution_count": 93,
   "id": "aeefe1ba",
   "metadata": {},
   "outputs": [],
   "source": [
    "def sample():\n",
    "    x = 10\n",
    "    y = 5\n",
    "    print(f'함수 내부에서의 x: {x}, y: {y}')"
   ]
  },
  {
   "cell_type": "code",
   "execution_count": 94,
   "id": "c526637b",
   "metadata": {},
   "outputs": [
    {
     "name": "stdout",
     "output_type": "stream",
     "text": [
      "함수 내부에서의 x: 10, y: 5\n"
     ]
    }
   ],
   "source": [
    "sample()"
   ]
  },
  {
   "cell_type": "code",
   "execution_count": 96,
   "id": "0b029b7f",
   "metadata": {},
   "outputs": [
    {
     "ename": "NameError",
     "evalue": "name 'y' is not defined",
     "output_type": "error",
     "traceback": [
      "\u001b[1;31m---------------------------------------------------------------------------\u001b[0m",
      "\u001b[1;31mNameError\u001b[0m                                 Traceback (most recent call last)",
      "Cell \u001b[1;32mIn[96], line 1\u001b[0m\n\u001b[1;32m----> 1\u001b[0m \u001b[38;5;28mprint\u001b[39m(\u001b[43my\u001b[49m)\n",
      "\u001b[1;31mNameError\u001b[0m: name 'y' is not defined"
     ]
    }
   ],
   "source": [
    "print(y)"
   ]
  },
  {
   "cell_type": "markdown",
   "id": "5a41e8c5",
   "metadata": {},
   "source": [
    "- 함수 내부에서는 지역변수가 우선\n",
    "- 함수 내부의 x는 전역변수와 같은 이름이지만 별도의 지역변수로 동작\n",
    "- 함수 외부의 전역변수 x 값에는 영향을 미치지 않는다"
   ]
  },
  {
   "cell_type": "code",
   "execution_count": 97,
   "id": "e018bc90",
   "metadata": {},
   "outputs": [],
   "source": [
    "x = 20"
   ]
  },
  {
   "cell_type": "code",
   "execution_count": 98,
   "id": "dd33f13a",
   "metadata": {},
   "outputs": [
    {
     "name": "stdout",
     "output_type": "stream",
     "text": [
      "20\n"
     ]
    }
   ],
   "source": [
    "print(x)"
   ]
  },
  {
   "cell_type": "code",
   "execution_count": 99,
   "id": "b83f83a4",
   "metadata": {},
   "outputs": [
    {
     "name": "stdout",
     "output_type": "stream",
     "text": [
      "함수 내부에서의 x: 10, y: 5\n"
     ]
    }
   ],
   "source": [
    "sample()"
   ]
  },
  {
   "cell_type": "code",
   "execution_count": 100,
   "id": "adec7711",
   "metadata": {},
   "outputs": [
    {
     "name": "stdout",
     "output_type": "stream",
     "text": [
      "함수 내부의 x값은 5\n",
      "함수 외부의 x값 : 20\n"
     ]
    }
   ],
   "source": [
    "x = 20\n",
    "\n",
    "def sample():\n",
    "    x = 5\n",
    "    print(f'함수 내부의 x값은 {x}')\n",
    "\n",
    "sample()\n",
    "print(f'함수 외부의 x값 : {x}')"
   ]
  },
  {
   "cell_type": "markdown",
   "id": "1df16ff4",
   "metadata": {},
   "source": [
    "## 5. global\n",
    "- `global` 함수를 사용하면 함수 내부에서 전역변수를 수정할 수 있음"
   ]
  },
  {
   "cell_type": "code",
   "execution_count": 102,
   "id": "dd267f3d",
   "metadata": {},
   "outputs": [
    {
     "name": "stdout",
     "output_type": "stream",
     "text": [
      "함수 내부의 x값은 100\n",
      "함수 외부 x의 값도 100\n"
     ]
    }
   ],
   "source": [
    "def sample():\n",
    "    global x\n",
    "    x = 100\n",
    "    print(f'함수 내부의 x값은 {x}')\n",
    "\n",
    "sample()\n",
    "print(f'함수 외부 x의 값도 {x}')"
   ]
  },
  {
   "cell_type": "code",
   "execution_count": 103,
   "id": "f938a6f7",
   "metadata": {},
   "outputs": [],
   "source": [
    "# Q1. 함수를 호출할 때 마다 전역변수 count가 1씩 카운팅되는 함수를 만들어보세요\n",
    "\n",
    "count = 0 \n",
    "\n",
    "def counter():\n",
    "    global count\n",
    "    count+=1"
   ]
  },
  {
   "cell_type": "code",
   "execution_count": 104,
   "id": "0c252ea4",
   "metadata": {},
   "outputs": [
    {
     "name": "stdout",
     "output_type": "stream",
     "text": [
      "counter :3\n"
     ]
    }
   ],
   "source": [
    "counter()\n",
    "counter()\n",
    "counter()\n",
    "print(f'counter :{count}')"
   ]
  },
  {
   "cell_type": "code",
   "execution_count": 109,
   "id": "7be17a08",
   "metadata": {},
   "outputs": [],
   "source": [
    "# Q2. 팩토리얼을 계산하는 함수를 작성해보세요.\n",
    "# factorial(5)의 출력 예시 : 5! = 1 * 2 * 3 * 4 * 5 = 120\n",
    "\n",
    "def factorial(n):\n",
    "    result = 1\n",
    "    cal = ''\n",
    "    for i in range(1, n+1):\n",
    "        result *= i\n",
    "        if i < n:\n",
    "            cal += str(i) + ' * '\n",
    "        else:\n",
    "            cal += str(i)\n",
    "    print(f'{n}! = {cal} = {result}')"
   ]
  },
  {
   "cell_type": "code",
   "execution_count": 110,
   "id": "af804cea",
   "metadata": {},
   "outputs": [
    {
     "name": "stdout",
     "output_type": "stream",
     "text": [
      "5! = 1 * 2 * 3 * 4 * 5 = 120\n"
     ]
    }
   ],
   "source": [
    "factorial(5)"
   ]
  },
  {
   "cell_type": "code",
   "execution_count": 111,
   "id": "a5c8215f",
   "metadata": {},
   "outputs": [],
   "source": [
    "# Q3. time 변수를 사용하여 남은 시간을 감소시키는 함수를 작성해보세요.\n",
    "# 이 함수는 호출될 때 마다 남은 time을 5초씩 감소시키고\n",
    "# 남은 시간이 0이하가 되면 종료되었다는 메시지를 출력합니다.\n",
    "\n",
    "time = 30  # 전역 변수 (초 단위)\n",
    "\n",
    "def dt():\n",
    "    global time\n",
    "    time -= 5\n",
    "    if time<=0:\n",
    "        print('시간이 종료되었습니다')\n",
    "    else:\n",
    "        print(f'남은 시간은 {time}초 입니다.')"
   ]
  },
  {
   "cell_type": "code",
   "execution_count": 113,
   "id": "03302240",
   "metadata": {},
   "outputs": [
    {
     "name": "stdout",
     "output_type": "stream",
     "text": [
      "남은 시간은 20초 입니다.\n",
      "남은 시간은 15초 입니다.\n",
      "남은 시간은 10초 입니다.\n",
      "남은 시간은 5초 입니다.\n",
      "시간이 종료되었습니다\n"
     ]
    }
   ],
   "source": [
    "dt()\n",
    "dt()\n",
    "dt()\n",
    "dt()\n",
    "dt()"
   ]
  },
  {
   "cell_type": "code",
   "execution_count": 114,
   "id": "9daf883f",
   "metadata": {},
   "outputs": [],
   "source": [
    "# Q4. 매개변수로 숫자를 입력받아 숫자만큼 유저의 경험치를 증가시키는 함수를 작성해보세요.\n",
    "# 이 함수는 호출될 때마다 유저 경험치를 증가시키며 경험치가 100이상이 되면 레벨업 메시지가 출력됩니다.\n",
    "\n",
    "exp = 0  # 전역 변수\n",
    "\n",
    "def levelup(point):\n",
    "    global exp\n",
    "    exp += point\n",
    "    if exp >= 100:\n",
    "        print('레벨 업!')\n",
    "    else : \n",
    "        print(f'현재 경험치 : {exp}')"
   ]
  },
  {
   "cell_type": "code",
   "execution_count": 115,
   "id": "5844c0e4",
   "metadata": {},
   "outputs": [
    {
     "name": "stdout",
     "output_type": "stream",
     "text": [
      "현재 경험치 : 50\n"
     ]
    }
   ],
   "source": [
    "levelup(50)"
   ]
  },
  {
   "cell_type": "code",
   "execution_count": 116,
   "id": "4842e116",
   "metadata": {},
   "outputs": [
    {
     "name": "stdout",
     "output_type": "stream",
     "text": [
      "레벨 업!\n"
     ]
    }
   ],
   "source": [
    "levelup(50)"
   ]
  },
  {
   "cell_type": "code",
   "execution_count": 120,
   "id": "6062ea0f",
   "metadata": {},
   "outputs": [],
   "source": [
    "# Q5. 숫자를 입력받아 숫자를 뒤집어 출력하는 함수를 작성해보세요\n",
    "# 출력 예시 : 4321 -> 1234\n",
    "def reverse(n):\n",
    "    if n >= 0:\n",
    "        return int(str(n)[::-1])\n",
    "    else : \n",
    "        return -int(str(-n)[::-1])"
   ]
  },
  {
   "cell_type": "code",
   "execution_count": 121,
   "id": "48a19b82",
   "metadata": {},
   "outputs": [
    {
     "data": {
      "text/plain": [
       "-4321"
      ]
     },
     "execution_count": 121,
     "metadata": {},
     "output_type": "execute_result"
    }
   ],
   "source": [
    "reverse(-1234)"
   ]
  },
  {
   "cell_type": "code",
   "execution_count": 124,
   "id": "252d6142",
   "metadata": {},
   "outputs": [],
   "source": [
    "# Q1. drinks = {'커피': 700, '콜라': 900, '물': 500}의 메뉴를 갖고 있는 자판기를 만들어보세요\n",
    "# 1. 사용자에게 메뉴를 선택하게 하고, 2. 음료에 알맞는 금액을 투입하게 하세요\n",
    "# 3. 음료의 가격을 알맞게 투입했다면 음료를 주고 거스름돈을 주세요\n",
    "# 4. 음료의 가격이 다르다면 처음으로 다시 돌아가세요\n",
    "# * 반복문을 강제종료할 수 있도록 '종료' 라고 입력 시 반복문을 종료할 수 있도록 제어하세요\n",
    "\n",
    "def machine():\n",
    "    drinks = {'커피': 700, '콜라': 900, '물': 500}\n",
    "\n",
    "    while True:\n",
    "        for drink, price in drinks.items():\n",
    "            print(f'{drink} : {price}원')\n",
    "\n",
    "        choice = input('음료를 선택하세요. (종료하려면 \"종료\"라고 입력하세요.)')\n",
    "        if choice == '종료':\n",
    "            print('자판기를 종료합니다.')\n",
    "            break\n",
    "\n",
    "        if choice in drinks:\n",
    "            price = drinks[choice]\n",
    "            payment = int(input(f'{choice}의 가격은 {price}원입니다. 금액을 투입해주세요 : '))\n",
    "\n",
    "            if payment >= price :\n",
    "                change = payment - price\n",
    "                print(f'{choice}가 나왔습니다. 거스름돈은 {change}원 입니다.')\n",
    "            else:\n",
    "                print('금액이 부족합니다.')\n",
    "        else:\n",
    "            print('잘못된 선택입니다. 다시 입력하세요.')"
   ]
  },
  {
   "cell_type": "code",
   "execution_count": 125,
   "id": "cdaf4d4b",
   "metadata": {},
   "outputs": [
    {
     "name": "stdout",
     "output_type": "stream",
     "text": [
      "커피 : 700원\n",
      "콜라 : 900원\n",
      "물 : 500원\n",
      "커피가 나왔습니다. 거스름돈은 200원 입니다.\n",
      "커피 : 700원\n",
      "콜라 : 900원\n",
      "물 : 500원\n",
      "금액이 부족합니다.\n",
      "커피 : 700원\n",
      "콜라 : 900원\n",
      "물 : 500원\n",
      "자판기를 종료합니다.\n"
     ]
    }
   ],
   "source": [
    "machine()"
   ]
  },
  {
   "cell_type": "code",
   "execution_count": 123,
   "id": "070b942a",
   "metadata": {},
   "outputs": [
    {
     "data": {
      "text/plain": [
       "700"
      ]
     },
     "execution_count": 123,
     "metadata": {},
     "output_type": "execute_result"
    }
   ],
   "source": [
    "drinks = {'커피': 700, '콜라': 900, '물': 500}\n",
    "drinks['커피']"
   ]
  },
  {
   "cell_type": "code",
   "execution_count": 126,
   "id": "79731146",
   "metadata": {},
   "outputs": [],
   "source": [
    "# Q. 사용자에게 숫자와 연산자를 입력받아 계산을 해주는 계산기를 만들어보세요.\n",
    "def calculator():\n",
    "    def add(x,y):\n",
    "        return x+y\n",
    "    \n",
    "    def subtract(x,y):\n",
    "        return x-y\n",
    "    \n",
    "    def multiply(x,y):\n",
    "        return x*y\n",
    "    \n",
    "    def divide(x,y):\n",
    "        return x/y\n",
    "    \n",
    "    operations = {\n",
    "        '+' : add,\n",
    "        '-' : subtract,\n",
    "        '*' : multiply,\n",
    "        '/' : divide\n",
    "    }\n",
    "\n",
    "    while True:\n",
    "        print('정수 계산기를 실행합니다.')\n",
    "        num1 = int(input('첫 번째 숫자를 입력하세요'))\n",
    "        operator = input('연산자를 입력하세요 (+, -, *, /)')\n",
    "        num2 = int(input('두 번째 숫자를 입력하세요'))\n",
    "\n",
    "        if operator in operations:\n",
    "            result = operations[operator](num1, num2)\n",
    "        else:\n",
    "            result = '올바른 연산자를 입력하세요'\n",
    "        print(f'결과 : {result}')\n",
    "\n",
    "        ment = input('종료하려면 종료를 입력하세요')\n",
    "        if ment == '종료':\n",
    "            print('계산을 종료합니다')\n",
    "            break"
   ]
  },
  {
   "cell_type": "code",
   "execution_count": 127,
   "id": "34394e90",
   "metadata": {},
   "outputs": [
    {
     "name": "stdout",
     "output_type": "stream",
     "text": [
      "정수 계산기를 실행합니다.\n",
      "결과 : 3\n",
      "계산을 종료합니다\n"
     ]
    }
   ],
   "source": [
    "calculator()"
   ]
  },
  {
   "cell_type": "markdown",
   "id": "8a520630",
   "metadata": {},
   "source": [
    "\n",
    "## 🌼마무리 문제\n",
    "\n",
    "아래 문제들을 풀어보세요!\n",
    "\n",
    "Q1. 달러 금액을 입력받아 원화로 변환하는 함수를 작성하세요."
   ]
  },
  {
   "cell_type": "code",
   "execution_count": null,
   "id": "df407fa2",
   "metadata": {},
   "outputs": [],
   "source": []
  },
  {
   "cell_type": "markdown",
   "id": "27236f69",
   "metadata": {},
   "source": [
    "Q2. 사용자에게 숫자를 입력받고 입력받은 숫자만큼 ‘★’을 출력하는 함수를 작성하세요."
   ]
  },
  {
   "cell_type": "code",
   "execution_count": null,
   "id": "11ec2b2d",
   "metadata": {},
   "outputs": [],
   "source": []
  },
  {
   "cell_type": "markdown",
   "id": "ef2a7570",
   "metadata": {},
   "source": [
    "Q3. 영어 문자열을 입력받아 문자열에 포함된 모음(a,e,i,o,u)의 개수를 세는 함수를 작성하세요."
   ]
  },
  {
   "cell_type": "code",
   "execution_count": null,
   "id": "69c081b8",
   "metadata": {},
   "outputs": [],
   "source": []
  },
  {
   "cell_type": "code",
   "execution_count": null,
   "id": "47571ed4",
   "metadata": {},
   "outputs": [],
   "source": []
  }
 ],
 "metadata": {
  "kernelspec": {
   "display_name": "test_env",
   "language": "python",
   "name": "python3"
  },
  "language_info": {
   "codemirror_mode": {
    "name": "ipython",
    "version": 3
   },
   "file_extension": ".py",
   "mimetype": "text/x-python",
   "name": "python",
   "nbconvert_exporter": "python",
   "pygments_lexer": "ipython3",
   "version": "3.9.20"
  }
 },
 "nbformat": 4,
 "nbformat_minor": 5
}
