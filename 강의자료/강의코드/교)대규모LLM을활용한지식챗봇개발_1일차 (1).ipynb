{
 "cells": [
  {
   "cell_type": "markdown",
   "metadata": {},
   "source": [
    "\n",
    "# 🌼 대규모 LLM을 활용한 지식 챗봇 개발 - 1차시(24.11.21)\n",
    "\n",
    "---\n"
   ]
  },
  {
   "cell_type": "code",
   "execution_count": 167,
   "metadata": {},
   "outputs": [],
   "source": [
    "import os\n",
    "import shutil\n",
    "import pandas as pd\n",
    "import tensorflow as tf\n",
    "import urllib3\n",
    "from tensorflow.keras.preprocessing.sequence import pad_sequences\n",
    "from tensorflow.keras.utils import to_categorical"
   ]
  },
  {
   "cell_type": "code",
   "execution_count": 168,
   "metadata": {},
   "outputs": [
    {
     "data": {
      "text/html": [
       "<div>\n",
       "<style scoped>\n",
       "    .dataframe tbody tr th:only-of-type {\n",
       "        vertical-align: middle;\n",
       "    }\n",
       "\n",
       "    .dataframe tbody tr th {\n",
       "        vertical-align: top;\n",
       "    }\n",
       "\n",
       "    .dataframe thead th {\n",
       "        text-align: right;\n",
       "    }\n",
       "</style>\n",
       "<table border=\"1\" class=\"dataframe\">\n",
       "  <thead>\n",
       "    <tr style=\"text-align: right;\">\n",
       "      <th></th>\n",
       "      <th>src</th>\n",
       "      <th>tar</th>\n",
       "      <th>lic</th>\n",
       "    </tr>\n",
       "  </thead>\n",
       "  <tbody>\n",
       "    <tr>\n",
       "      <th>0</th>\n",
       "      <td>Go.</td>\n",
       "      <td>Va !</td>\n",
       "      <td>CC-BY 2.0 (France) Attribution: tatoeba.org #2...</td>\n",
       "    </tr>\n",
       "    <tr>\n",
       "      <th>1</th>\n",
       "      <td>Go.</td>\n",
       "      <td>Marche.</td>\n",
       "      <td>CC-BY 2.0 (France) Attribution: tatoeba.org #2...</td>\n",
       "    </tr>\n",
       "    <tr>\n",
       "      <th>2</th>\n",
       "      <td>Go.</td>\n",
       "      <td>En route !</td>\n",
       "      <td>CC-BY 2.0 (France) Attribution: tatoeba.org #2...</td>\n",
       "    </tr>\n",
       "    <tr>\n",
       "      <th>3</th>\n",
       "      <td>Go.</td>\n",
       "      <td>Bouge !</td>\n",
       "      <td>CC-BY 2.0 (France) Attribution: tatoeba.org #2...</td>\n",
       "    </tr>\n",
       "    <tr>\n",
       "      <th>4</th>\n",
       "      <td>Hi.</td>\n",
       "      <td>Salut !</td>\n",
       "      <td>CC-BY 2.0 (France) Attribution: tatoeba.org #5...</td>\n",
       "    </tr>\n",
       "  </tbody>\n",
       "</table>\n",
       "</div>"
      ],
      "text/plain": [
       "   src         tar                                                lic\n",
       "0  Go.        Va !  CC-BY 2.0 (France) Attribution: tatoeba.org #2...\n",
       "1  Go.     Marche.  CC-BY 2.0 (France) Attribution: tatoeba.org #2...\n",
       "2  Go.  En route !  CC-BY 2.0 (France) Attribution: tatoeba.org #2...\n",
       "3  Go.     Bouge !  CC-BY 2.0 (France) Attribution: tatoeba.org #2...\n",
       "4  Hi.     Salut !  CC-BY 2.0 (France) Attribution: tatoeba.org #5..."
      ]
     },
     "execution_count": 168,
     "metadata": {},
     "output_type": "execute_result"
    }
   ],
   "source": [
    "lines = pd.read_csv('fra.txt', names=['src', 'tar', 'lic'], sep = '\\t')\n",
    "lines.head()"
   ]
  },
  {
   "cell_type": "code",
   "execution_count": 169,
   "metadata": {},
   "outputs": [],
   "source": [
    "del lines['lic']"
   ]
  },
  {
   "cell_type": "code",
   "execution_count": 170,
   "metadata": {},
   "outputs": [
    {
     "name": "stdout",
     "output_type": "stream",
     "text": [
      "전체 데이터 개수 : 232736\n"
     ]
    }
   ],
   "source": [
    "print(f'전체 데이터 개수 : {len(lines)}')"
   ]
  },
  {
   "cell_type": "code",
   "execution_count": 171,
   "metadata": {},
   "outputs": [
    {
     "data": {
      "text/html": [
       "<div>\n",
       "<style scoped>\n",
       "    .dataframe tbody tr th:only-of-type {\n",
       "        vertical-align: middle;\n",
       "    }\n",
       "\n",
       "    .dataframe tbody tr th {\n",
       "        vertical-align: top;\n",
       "    }\n",
       "\n",
       "    .dataframe thead th {\n",
       "        text-align: right;\n",
       "    }\n",
       "</style>\n",
       "<table border=\"1\" class=\"dataframe\">\n",
       "  <thead>\n",
       "    <tr style=\"text-align: right;\">\n",
       "      <th></th>\n",
       "      <th>src</th>\n",
       "      <th>tar</th>\n",
       "    </tr>\n",
       "  </thead>\n",
       "  <tbody>\n",
       "    <tr>\n",
       "      <th>0</th>\n",
       "      <td>Go.</td>\n",
       "      <td>Va !</td>\n",
       "    </tr>\n",
       "    <tr>\n",
       "      <th>1</th>\n",
       "      <td>Go.</td>\n",
       "      <td>Marche.</td>\n",
       "    </tr>\n",
       "    <tr>\n",
       "      <th>2</th>\n",
       "      <td>Go.</td>\n",
       "      <td>En route !</td>\n",
       "    </tr>\n",
       "    <tr>\n",
       "      <th>3</th>\n",
       "      <td>Go.</td>\n",
       "      <td>Bouge !</td>\n",
       "    </tr>\n",
       "    <tr>\n",
       "      <th>4</th>\n",
       "      <td>Hi.</td>\n",
       "      <td>Salut !</td>\n",
       "    </tr>\n",
       "  </tbody>\n",
       "</table>\n",
       "</div>"
      ],
      "text/plain": [
       "   src         tar\n",
       "0  Go.        Va !\n",
       "1  Go.     Marche.\n",
       "2  Go.  En route !\n",
       "3  Go.     Bouge !\n",
       "4  Hi.     Salut !"
      ]
     },
     "execution_count": 171,
     "metadata": {},
     "output_type": "execute_result"
    }
   ],
   "source": [
    "lines.head()"
   ]
  },
  {
   "cell_type": "code",
   "execution_count": 172,
   "metadata": {},
   "outputs": [
    {
     "data": {
      "text/html": [
       "<div>\n",
       "<style scoped>\n",
       "    .dataframe tbody tr th:only-of-type {\n",
       "        vertical-align: middle;\n",
       "    }\n",
       "\n",
       "    .dataframe tbody tr th {\n",
       "        vertical-align: top;\n",
       "    }\n",
       "\n",
       "    .dataframe thead th {\n",
       "        text-align: right;\n",
       "    }\n",
       "</style>\n",
       "<table border=\"1\" class=\"dataframe\">\n",
       "  <thead>\n",
       "    <tr style=\"text-align: right;\">\n",
       "      <th></th>\n",
       "      <th>src</th>\n",
       "      <th>tar</th>\n",
       "    </tr>\n",
       "  </thead>\n",
       "  <tbody>\n",
       "    <tr>\n",
       "      <th>24728</th>\n",
       "      <td>You better hurry.</td>\n",
       "      <td>Vous feriez mieux de vous dépêcher !</td>\n",
       "    </tr>\n",
       "    <tr>\n",
       "      <th>43219</th>\n",
       "      <td>Our team won 3 to 1.</td>\n",
       "      <td>Notre équipe a gagné trois à un.</td>\n",
       "    </tr>\n",
       "    <tr>\n",
       "      <th>9953</th>\n",
       "      <td>We're engaged.</td>\n",
       "      <td>Nous sommes fiancés.</td>\n",
       "    </tr>\n",
       "    <tr>\n",
       "      <th>34724</th>\n",
       "      <td>I'm feeling guilty.</td>\n",
       "      <td>Je me sens coupable.</td>\n",
       "    </tr>\n",
       "    <tr>\n",
       "      <th>12703</th>\n",
       "      <td>She is out now.</td>\n",
       "      <td>Elle est en déplacement en ce moment.</td>\n",
       "    </tr>\n",
       "    <tr>\n",
       "      <th>6695</th>\n",
       "      <td>Wait a while.</td>\n",
       "      <td>Attendez un moment.</td>\n",
       "    </tr>\n",
       "    <tr>\n",
       "      <th>17921</th>\n",
       "      <td>Tom is fearless.</td>\n",
       "      <td>Tom est intrépide.</td>\n",
       "    </tr>\n",
       "    <tr>\n",
       "      <th>29848</th>\n",
       "      <td>This is very good.</td>\n",
       "      <td>Très bien.</td>\n",
       "    </tr>\n",
       "    <tr>\n",
       "      <th>26051</th>\n",
       "      <td>Have you gone mad?</td>\n",
       "      <td>Êtes-vous devenue folle ?</td>\n",
       "    </tr>\n",
       "    <tr>\n",
       "      <th>28381</th>\n",
       "      <td>It's kind of hard.</td>\n",
       "      <td>C'est plutôt difficile.</td>\n",
       "    </tr>\n",
       "  </tbody>\n",
       "</table>\n",
       "</div>"
      ],
      "text/plain": [
       "                        src                                    tar\n",
       "24728     You better hurry.   Vous feriez mieux de vous dépêcher !\n",
       "43219  Our team won 3 to 1.       Notre équipe a gagné trois à un.\n",
       "9953         We're engaged.                   Nous sommes fiancés.\n",
       "34724   I'm feeling guilty.                   Je me sens coupable.\n",
       "12703       She is out now.  Elle est en déplacement en ce moment.\n",
       "6695          Wait a while.                    Attendez un moment.\n",
       "17921      Tom is fearless.                     Tom est intrépide.\n",
       "29848    This is very good.                             Très bien.\n",
       "26051    Have you gone mad?              Êtes-vous devenue folle ?\n",
       "28381    It's kind of hard.                C'est plutôt difficile."
      ]
     },
     "execution_count": 172,
     "metadata": {},
     "output_type": "execute_result"
    }
   ],
   "source": [
    "lines = lines[:60000]\n",
    "# 데이터 개수 줄이기\n",
    "lines.sample(10)"
   ]
  },
  {
   "cell_type": "code",
   "execution_count": 173,
   "metadata": {},
   "outputs": [],
   "source": [
    "lines.tar = lines.tar.apply(lambda x : '\\t ' + x + ' \\n')\n",
    "# 시작을 의미하는 sos, 끝을 의미하는 eos"
   ]
  },
  {
   "cell_type": "code",
   "execution_count": 174,
   "metadata": {},
   "outputs": [
    {
     "data": {
      "text/html": [
       "<div>\n",
       "<style scoped>\n",
       "    .dataframe tbody tr th:only-of-type {\n",
       "        vertical-align: middle;\n",
       "    }\n",
       "\n",
       "    .dataframe tbody tr th {\n",
       "        vertical-align: top;\n",
       "    }\n",
       "\n",
       "    .dataframe thead th {\n",
       "        text-align: right;\n",
       "    }\n",
       "</style>\n",
       "<table border=\"1\" class=\"dataframe\">\n",
       "  <thead>\n",
       "    <tr style=\"text-align: right;\">\n",
       "      <th></th>\n",
       "      <th>src</th>\n",
       "      <th>tar</th>\n",
       "    </tr>\n",
       "  </thead>\n",
       "  <tbody>\n",
       "    <tr>\n",
       "      <th>133</th>\n",
       "      <td>No way!</td>\n",
       "      <td>\\t Impossible ! \\n</td>\n",
       "    </tr>\n",
       "    <tr>\n",
       "      <th>15606</th>\n",
       "      <td>I like the idea.</td>\n",
       "      <td>\\t L'idée me plaît. \\n</td>\n",
       "    </tr>\n",
       "    <tr>\n",
       "      <th>44634</th>\n",
       "      <td>Tom is having lunch.</td>\n",
       "      <td>\\t Tom déjeune. \\n</td>\n",
       "    </tr>\n",
       "    <tr>\n",
       "      <th>58437</th>\n",
       "      <td>I'll request a refund.</td>\n",
       "      <td>\\t Je vais demander à être remboursé. \\n</td>\n",
       "    </tr>\n",
       "    <tr>\n",
       "      <th>22052</th>\n",
       "      <td>It's a snowstorm.</td>\n",
       "      <td>\\t C'est une tempête de neige. \\n</td>\n",
       "    </tr>\n",
       "    <tr>\n",
       "      <th>57438</th>\n",
       "      <td>I hope no one sees us.</td>\n",
       "      <td>\\t J'espère que personne ne nous voit. \\n</td>\n",
       "    </tr>\n",
       "    <tr>\n",
       "      <th>12300</th>\n",
       "      <td>It's not there.</td>\n",
       "      <td>\\t Il n'y est pas. \\n</td>\n",
       "    </tr>\n",
       "    <tr>\n",
       "      <th>12566</th>\n",
       "      <td>Now I know why.</td>\n",
       "      <td>\\t Maintenant, je sais pourquoi. \\n</td>\n",
       "    </tr>\n",
       "    <tr>\n",
       "      <th>57436</th>\n",
       "      <td>I hope it'll be quiet.</td>\n",
       "      <td>\\t J'espère que ce sera calme. \\n</td>\n",
       "    </tr>\n",
       "    <tr>\n",
       "      <th>51776</th>\n",
       "      <td>Thanks for being you.</td>\n",
       "      <td>\\t Merci d'être toi. \\n</td>\n",
       "    </tr>\n",
       "  </tbody>\n",
       "</table>\n",
       "</div>"
      ],
      "text/plain": [
       "                          src                                        tar\n",
       "133                   No way!                         \\t Impossible ! \\n\n",
       "15606        I like the idea.                     \\t L'idée me plaît. \\n\n",
       "44634    Tom is having lunch.                         \\t Tom déjeune. \\n\n",
       "58437  I'll request a refund.   \\t Je vais demander à être remboursé. \\n\n",
       "22052       It's a snowstorm.          \\t C'est une tempête de neige. \\n\n",
       "57438  I hope no one sees us.  \\t J'espère que personne ne nous voit. \\n\n",
       "12300         It's not there.                      \\t Il n'y est pas. \\n\n",
       "12566         Now I know why.        \\t Maintenant, je sais pourquoi. \\n\n",
       "57436  I hope it'll be quiet.          \\t J'espère que ce sera calme. \\n\n",
       "51776   Thanks for being you.                    \\t Merci d'être toi. \\n"
      ]
     },
     "execution_count": 174,
     "metadata": {},
     "output_type": "execute_result"
    }
   ],
   "source": [
    "lines.sample(10)"
   ]
  },
  {
   "cell_type": "code",
   "execution_count": 175,
   "metadata": {},
   "outputs": [],
   "source": [
    "src_vocab = set()\n",
    "for line in lines['src']:\n",
    "    for char in line:\n",
    "        src_vocab.add(char)\n",
    "        # src 문자 집합 구축"
   ]
  },
  {
   "cell_type": "code",
   "execution_count": 176,
   "metadata": {},
   "outputs": [
    {
     "name": "stdout",
     "output_type": "stream",
     "text": [
      "{'p', '\"', 'L', 'X', 'd', ',', 'Q', '0', '9', 'e', '$', 'ï', 'Z', 'v', 'V', 't', '?', 'y', 'o', 'F', 'i', '3', '7', 'Y', 'w', 'G', 'P', '5', 'r', ':', '.', 'k', 'D', 'u', ' ', 'J', 'l', 'n', 'H', 'I', 'K', '%', 'A', 'b', '€', 'B', '1', '2', '’', 'M', 'm', 'c', \"'\", 'h', 's', 'N', 'U', '&', 'C', 'j', 'R', 'f', 'S', 'E', 'O', '-', 'z', '8', '4', 'g', 'a', '!', 'q', 'W', 'x', '/', 'T', 'é', '6'}\n"
     ]
    }
   ],
   "source": [
    "print(src_vocab)"
   ]
  },
  {
   "cell_type": "code",
   "execution_count": 177,
   "metadata": {},
   "outputs": [],
   "source": [
    "tar_vocab = set()\n",
    "for line in lines['tar']:\n",
    "    for char in line:\n",
    "        tar_vocab.add(char)\n",
    "        # tar 문자 집합 구축"
   ]
  },
  {
   "cell_type": "code",
   "execution_count": 178,
   "metadata": {},
   "outputs": [
    {
     "name": "stdout",
     "output_type": "stream",
     "text": [
      "{'p', '\"', 'L', 'X', 'd', 'Q', ',', 'ù', '0', '9', 'e', '$', 'ç', 'ï', '\\n', 'v', '\\xa0', 'É', 'î', 'V', 't', 'y', '?', 'o', 'F', 'i', '3', '\\u2009', '7', 'Y', 'w', 'G', 'P', '5', 'r', 'œ', ':', 'k', '.', 'D', 'u', ' ', 'À', 'J', 'l', 'n', '‽', 'I', 'H', 'K', '%', 'A', 'b', 'B', '1', '2', '’', 'M', 'm', '‘', 'c', '»', \"'\", 'h', 's', 'â', 'N', 'U', '&', 'Ê', 'C', 'j', 'R', 'Ô', 'f', 'Ç', 'S', '\\t', 'E', 'O', '«', '-', 'z', '8', '4', 'g', 'a', '!', 'ê', 'q', 'à', '\\u202f', 'W', 'x', 'û', 'ë', 'T', 'è', 'ô', 'é', '6'}\n"
     ]
    }
   ],
   "source": [
    "print(tar_vocab)"
   ]
  },
  {
   "cell_type": "code",
   "execution_count": 179,
   "metadata": {},
   "outputs": [
    {
     "name": "stdout",
     "output_type": "stream",
     "text": [
      "src 문장의 문자 집합 크기 : 80\n"
     ]
    }
   ],
   "source": [
    "src_vocab_size = len(src_vocab) + 1\n",
    "print(f'src 문장의 문자 집합 크기 : {src_vocab_size}')\n",
    "# 인코더에 데이터를 넣을 때 사용될 차원의 크기"
   ]
  },
  {
   "cell_type": "code",
   "execution_count": 180,
   "metadata": {},
   "outputs": [
    {
     "name": "stdout",
     "output_type": "stream",
     "text": [
      "tar 문장의 문자 집합 크기 : 102\n"
     ]
    }
   ],
   "source": [
    "tar_vocab_size = len(tar_vocab) + 1\n",
    "print(f'tar 문장의 문자 집합 크기 : {tar_vocab_size}')\n",
    "# 디코더에 데이터를 넣을 때 사용될 차원의 크기"
   ]
  },
  {
   "cell_type": "code",
   "execution_count": 181,
   "metadata": {},
   "outputs": [],
   "source": [
    "src_to_index = {}\n",
    "\n",
    "for i, word in enumerate(src_vocab):\n",
    "    src_to_index[word] = i + 1\n",
    "# 정수 인덱싱을 위한 인코딩 작업\n",
    "# 패딩을 위한 +1"
   ]
  },
  {
   "cell_type": "code",
   "execution_count": 182,
   "metadata": {},
   "outputs": [
    {
     "name": "stdout",
     "output_type": "stream",
     "text": [
      "{'p': 1, '\"': 2, 'L': 3, 'X': 4, 'd': 5, ',': 6, 'Q': 7, '0': 8, '9': 9, 'e': 10, '$': 11, 'ï': 12, 'Z': 13, 'v': 14, 'V': 15, 't': 16, '?': 17, 'y': 18, 'o': 19, 'F': 20, 'i': 21, '3': 22, '7': 23, 'Y': 24, 'w': 25, 'G': 26, 'P': 27, '5': 28, 'r': 29, ':': 30, '.': 31, 'k': 32, 'D': 33, 'u': 34, ' ': 35, 'J': 36, 'l': 37, 'n': 38, 'H': 39, 'I': 40, 'K': 41, '%': 42, 'A': 43, 'b': 44, '€': 45, 'B': 46, '1': 47, '2': 48, '’': 49, 'M': 50, 'm': 51, 'c': 52, \"'\": 53, 'h': 54, 's': 55, 'N': 56, 'U': 57, '&': 58, 'C': 59, 'j': 60, 'R': 61, 'f': 62, 'S': 63, 'E': 64, 'O': 65, '-': 66, 'z': 67, '8': 68, '4': 69, 'g': 70, 'a': 71, '!': 72, 'q': 73, 'W': 74, 'x': 75, '/': 76, 'T': 77, 'é': 78, '6': 79}\n"
     ]
    }
   ],
   "source": [
    "print(src_to_index)"
   ]
  },
  {
   "cell_type": "code",
   "execution_count": 183,
   "metadata": {},
   "outputs": [],
   "source": [
    "tar_to_index = {}\n",
    "for i, word in enumerate(tar_vocab):\n",
    "    tar_to_index[word] = i + 1"
   ]
  },
  {
   "cell_type": "code",
   "execution_count": 184,
   "metadata": {},
   "outputs": [
    {
     "name": "stdout",
     "output_type": "stream",
     "text": [
      "{'p': 1, '\"': 2, 'L': 3, 'X': 4, 'd': 5, 'Q': 6, ',': 7, 'ù': 8, '0': 9, '9': 10, 'e': 11, '$': 12, 'ç': 13, 'ï': 14, '\\n': 15, 'v': 16, '\\xa0': 17, 'É': 18, 'î': 19, 'V': 20, 't': 21, 'y': 22, '?': 23, 'o': 24, 'F': 25, 'i': 26, '3': 27, '\\u2009': 28, '7': 29, 'Y': 30, 'w': 31, 'G': 32, 'P': 33, '5': 34, 'r': 35, 'œ': 36, ':': 37, 'k': 38, '.': 39, 'D': 40, 'u': 41, ' ': 42, 'À': 43, 'J': 44, 'l': 45, 'n': 46, '‽': 47, 'I': 48, 'H': 49, 'K': 50, '%': 51, 'A': 52, 'b': 53, 'B': 54, '1': 55, '2': 56, '’': 57, 'M': 58, 'm': 59, '‘': 60, 'c': 61, '»': 62, \"'\": 63, 'h': 64, 's': 65, 'â': 66, 'N': 67, 'U': 68, '&': 69, 'Ê': 70, 'C': 71, 'j': 72, 'R': 73, 'Ô': 74, 'f': 75, 'Ç': 76, 'S': 77, '\\t': 78, 'E': 79, 'O': 80, '«': 81, '-': 82, 'z': 83, '8': 84, '4': 85, 'g': 86, 'a': 87, '!': 88, 'ê': 89, 'q': 90, 'à': 91, '\\u202f': 92, 'W': 93, 'x': 94, 'û': 95, 'ë': 96, 'T': 97, 'è': 98, 'ô': 99, 'é': 100, '6': 101}\n"
     ]
    }
   ],
   "source": [
    "print(tar_to_index)"
   ]
  },
  {
   "cell_type": "code",
   "execution_count": 185,
   "metadata": {},
   "outputs": [
    {
     "name": "stdout",
     "output_type": "stream",
     "text": [
      "src문장의 정수 인코딩 [[26, 19, 31], [26, 19, 31], [26, 19, 31], [26, 19, 31], [39, 21, 31]]\n"
     ]
    }
   ],
   "source": [
    "encoder_input = []\n",
    "for line in lines['src']:\n",
    "    encoded_line = []\n",
    "    for char in line:\n",
    "        encoded_line.append(src_to_index[char])\n",
    "    encoder_input.append(encoded_line)\n",
    "print(f'src문장의 정수 인코딩 {encoder_input[:5]}')"
   ]
  },
  {
   "cell_type": "code",
   "execution_count": 186,
   "metadata": {},
   "outputs": [
    {
     "name": "stdout",
     "output_type": "stream",
     "text": [
      "tar문장의 정수 인코딩 [[78, 42, 20, 87, 42, 88, 42, 15], [78, 42, 58, 87, 35, 61, 64, 11, 39, 42, 15], [78, 42, 79, 46, 42, 35, 24, 41, 21, 11, 42, 88, 42, 15], [78, 42, 54, 24, 41, 86, 11, 42, 88, 42, 15], [78, 42, 77, 87, 45, 41, 21, 42, 88, 42, 15]]\n"
     ]
    }
   ],
   "source": [
    "decoder_input = []\n",
    "for line in lines['tar']:\n",
    "    decoded_line = []\n",
    "    for char in line:\n",
    "        decoded_line.append(tar_to_index[char])\n",
    "    decoder_input.append(decoded_line)\n",
    "print(f'tar문장의 정수 인코딩 {decoder_input[:5]}')"
   ]
  },
  {
   "cell_type": "code",
   "execution_count": 187,
   "metadata": {},
   "outputs": [
    {
     "name": "stdout",
     "output_type": "stream",
     "text": [
      "디코더 target 문장의 정부 인코딩 [[42, 20, 87, 42, 88, 42, 15], [42, 58, 87, 35, 61, 64, 11, 39, 42, 15], [42, 79, 46, 42, 35, 24, 41, 21, 11, 42, 88, 42, 15], [42, 54, 24, 41, 86, 11, 42, 88, 42, 15], [42, 77, 87, 45, 41, 21, 42, 88, 42, 15]]\n"
     ]
    }
   ],
   "source": [
    "decoder_target = []\n",
    "for line in lines['tar']:\n",
    "    char_position = 0\n",
    "    # 문자 위치를 추적할 수 있는 변수\n",
    "    decoded_line = []\n",
    "    for char in line:\n",
    "        if char_position != 0:\n",
    "            decoded_line.append(tar_to_index[char])\n",
    "        char_position = char_position+1\n",
    "    decoder_target.append(decoded_line)\n",
    "print(f'디코더 target 문장의 정부 인코딩 {decoder_target[:5]}')"
   ]
  },
  {
   "cell_type": "code",
   "execution_count": 188,
   "metadata": {},
   "outputs": [
    {
     "name": "stdout",
     "output_type": "stream",
     "text": [
      "src 문장의 최대 길이 : 22\n"
     ]
    }
   ],
   "source": [
    "lengths = []\n",
    "for line in lines['src']:\n",
    "    lengths.append(len(line))\n",
    "max_src_len = max(lengths)\n",
    "print(f'src 문장의 최대 길이 : {max_src_len}')"
   ]
  },
  {
   "cell_type": "code",
   "execution_count": 189,
   "metadata": {},
   "outputs": [
    {
     "name": "stdout",
     "output_type": "stream",
     "text": [
      "tar 문장의 최대 길이 : 76\n"
     ]
    }
   ],
   "source": [
    "lengths = []\n",
    "for line in lines['tar']:\n",
    "    lengths.append(len(line))\n",
    "max_tar_len = max(lengths)\n",
    "print(f'tar 문장의 최대 길이 : {max_tar_len}')"
   ]
  },
  {
   "cell_type": "code",
   "execution_count": 190,
   "metadata": {},
   "outputs": [],
   "source": [
    "encoder_input = pad_sequences(encoder_input, maxlen=max_src_len, padding='post')\n",
    "# 인코더에 들어갈 데이터 패딩 작업"
   ]
  },
  {
   "cell_type": "code",
   "execution_count": 191,
   "metadata": {},
   "outputs": [],
   "source": [
    "decoder_input = pad_sequences(decoder_input, maxlen=max_tar_len, padding = 'post')\n",
    "# 디코더에 들어갈 데이터 패딩 작업"
   ]
  },
  {
   "cell_type": "code",
   "execution_count": 192,
   "metadata": {},
   "outputs": [],
   "source": [
    "decoder_target = pad_sequences(decoder_target, maxlen=max_tar_len, padding='post')\n",
    "# 디코더의 정답 데이터로 사용될 데이터 패딩 작업\n",
    "\n",
    "# 1. 인코더와 디코더의 문장 길이는 동일하게 맞추지 않아도 된다\n",
    "# - 인코더 데이터는 인코더 데이터끼리, 디코더 데이터는 디코더 데이터끼리 맞추어 패딩하면 된다\n",
    "# 2. 패딩을 앞에 둘까, 뒤에 둘까?\n",
    "# - 문장 생성 시에는 문장 끝에 어떤 단어가 나올지가 더 중요하기 때문에 패딩을 앞에 두고\n",
    "# - 문장의 순서, 시퀀스를 유지하는 더 중요한 경우에는 패딩을 뒤쪽에 둔다\n",
    "# 3. 디코더의 target데이터에서는 <sos>가 제거되었는데 동일하게 패딩을 주어도 되는가?\n",
    "# - 패딩은 부족한 부분을 0을 채워 동일한 길이로 맞추는 과정이기 때문에, target과 decoder의 길이 차이는 중요하지 않다"
   ]
  },
  {
   "cell_type": "code",
   "execution_count": 193,
   "metadata": {},
   "outputs": [],
   "source": [
    "encoder_input = to_categorical(encoder_input)"
   ]
  },
  {
   "cell_type": "code",
   "execution_count": 194,
   "metadata": {},
   "outputs": [],
   "source": [
    "decoder_input = to_categorical(decoder_input)"
   ]
  },
  {
   "cell_type": "code",
   "execution_count": 195,
   "metadata": {},
   "outputs": [],
   "source": [
    "decoder_target = to_categorical(decoder_target)"
   ]
  },
  {
   "cell_type": "code",
   "execution_count": 196,
   "metadata": {},
   "outputs": [],
   "source": [
    "from tensorflow.keras.layers import Input, LSTM, Embedding, Dense\n",
    "from tensorflow.keras.models import Model\n",
    "import numpy as np"
   ]
  },
  {
   "cell_type": "code",
   "execution_count": 197,
   "metadata": {},
   "outputs": [],
   "source": [
    "encoder_inputs = Input(shape = (None, src_vocab_size))\n",
    "# (None, src_vocab_size)의 형태를 갖는 인풋을 주겠다\n",
    "# None : 가변적인 입력 문장의 길이\n",
    "# abc, de\n",
    "# [[0,0,1],[0,1,0],[1,0,0]] # abc\n",
    "# [[1,0,1], [1,1,1]] #de"
   ]
  },
  {
   "cell_type": "code",
   "execution_count": 198,
   "metadata": {},
   "outputs": [],
   "source": [
    "encoder_lstm = LSTM(units=256, return_state=True)"
   ]
  },
  {
   "cell_type": "code",
   "execution_count": 199,
   "metadata": {},
   "outputs": [],
   "source": [
    "encoder_outputs, state_h, state_c = encoder_lstm(encoder_inputs)\n",
    "# LSTM은 은닉 상태와 셀 상태를 리턴한다"
   ]
  },
  {
   "cell_type": "code",
   "execution_count": 200,
   "metadata": {},
   "outputs": [],
   "source": [
    "encoder_states = [state_h, state_c]\n",
    "# context vector"
   ]
  },
  {
   "cell_type": "code",
   "execution_count": 201,
   "metadata": {},
   "outputs": [],
   "source": [
    "decoder_inputs = Input(shape = (None, tar_vocab_size))\n",
    "# 디코더는 인코더의 context vector를 초기 은닉 상태로 사용한다"
   ]
  },
  {
   "cell_type": "code",
   "execution_count": 202,
   "metadata": {},
   "outputs": [],
   "source": [
    "decoder_lstm = LSTM(units=256, return_sequences=True, return_state=True)\n",
    "# return_sequences : 모든 타임스텝의 출력\n",
    "# return_state : 마지막 타임스텝의 은닉상태와 셀상태를 출력"
   ]
  },
  {
   "cell_type": "code",
   "execution_count": 203,
   "metadata": {},
   "outputs": [],
   "source": [
    "decoder_outputs, _, _ = decoder_lstm(decoder_inputs, initial_state = encoder_states)\n",
    "# 디코더의 outputs 출력되는 구간"
   ]
  },
  {
   "cell_type": "code",
   "execution_count": 204,
   "metadata": {},
   "outputs": [],
   "source": [
    "decoder_softmax_layer = Dense(tar_vocab_size, activation='softmax')\n",
    "# 디코더의 출력은 타겟 단어 집합의 각 단어에 대한 확률 중 높은 값이어야한다"
   ]
  },
  {
   "cell_type": "code",
   "execution_count": 205,
   "metadata": {},
   "outputs": [],
   "source": [
    "decoder_outputs = decoder_softmax_layer(decoder_outputs)"
   ]
  },
  {
   "cell_type": "code",
   "execution_count": null,
   "metadata": {},
   "outputs": [],
   "source": [
    "model = Model([encoder_inputs, decoder_inputs], decoder_outputs)\n",
    "# 모델에 입력할 데이터의 형태\n",
    "model.compile(optimizer = 'rmsprop', loss='categorical_crossentropy')"
   ]
  },
  {
   "cell_type": "code",
   "execution_count": 207,
   "metadata": {},
   "outputs": [
    {
     "name": "stdout",
     "output_type": "stream",
     "text": [
      "Epoch 1/10\n",
      "750/750 [==============================] - 248s 326ms/step - loss: 0.7183 - val_loss: 0.6322\n",
      "Epoch 2/10\n",
      "750/750 [==============================] - 268s 357ms/step - loss: 0.4389 - val_loss: 0.5080\n",
      "Epoch 3/10\n",
      "750/750 [==============================] - 252s 336ms/step - loss: 0.3679 - val_loss: 0.4485\n",
      "Epoch 4/10\n",
      "750/750 [==============================] - 212s 283ms/step - loss: 0.3272 - val_loss: 0.4142\n",
      "Epoch 5/10\n",
      "750/750 [==============================] - 218s 291ms/step - loss: 0.2998 - val_loss: 0.3894\n",
      "Epoch 6/10\n",
      "750/750 [==============================] - 262s 349ms/step - loss: 0.2795 - val_loss: 0.3739\n",
      "Epoch 7/10\n",
      "750/750 [==============================] - 277s 369ms/step - loss: 0.2637 - val_loss: 0.3600\n",
      "Epoch 8/10\n",
      "750/750 [==============================] - 272s 362ms/step - loss: 0.2509 - val_loss: 0.3546\n",
      "Epoch 9/10\n",
      "750/750 [==============================] - 276s 369ms/step - loss: 0.2401 - val_loss: 0.3471\n",
      "Epoch 10/10\n",
      "750/750 [==============================] - 253s 337ms/step - loss: 0.2308 - val_loss: 0.3408\n"
     ]
    },
    {
     "data": {
      "text/plain": [
       "<keras.callbacks.History at 0x247f7d3a9d0>"
      ]
     },
     "execution_count": 207,
     "metadata": {},
     "output_type": "execute_result"
    }
   ],
   "source": [
    "model.fit(\n",
    "    x = [encoder_input, decoder_input],\n",
    "    # 모델에 입력할 데이터\n",
    "    y = decoder_target,\n",
    "    batch_size = 64,\n",
    "    epochs = 10,\n",
    "    validation_split = 0.2\n",
    ")"
   ]
  },
  {
   "cell_type": "code",
   "execution_count": 208,
   "metadata": {},
   "outputs": [],
   "source": [
    "# 번역 동작 step\n",
    "# 1. 번역하려고 하는 input문장이 인코더에 들어가서 context벡터를 얻는다\n",
    "# 2. context벡터와 <sos> (\\t)를 디코더로 보낸다\n",
    "# 3. 디코더가 <eos> (\\n)이 나올 떄 까지 다음 문자를 예측 반복\n",
    "\n",
    "encoder_model = Model(inputs = encoder_inputs, outputs = encoder_states)"
   ]
  },
  {
   "cell_type": "code",
   "execution_count": null,
   "metadata": {},
   "outputs": [],
   "source": [
    "decoder_state_input_h = Input(shape = (256, )) # 은닉 상태\n",
    "decoder_state_input_c = Input(shape = (256,)) # 셀상태\n",
    "\n",
    "# 디코더 셀에서 각각 이전 시점의 상태를 저장하는 텐서\n",
    "# 디코더의 은닉 상태와 셀 상태를 입력으로 받기 위한 텐서로, 디코더 LSTM의 hidden units크기와 동일하게 넣어주기"
   ]
  },
  {
   "cell_type": "code",
   "execution_count": 210,
   "metadata": {},
   "outputs": [],
   "source": [
    "decoder_states_inputs = [decoder_state_input_h, decoder_state_input_c]"
   ]
  },
  {
   "cell_type": "code",
   "execution_count": 211,
   "metadata": {},
   "outputs": [],
   "source": [
    "decoder_outputs, state_h, state_c = decoder_lstm(decoder_inputs, initial_state=decoder_states_inputs)\n",
    "# 디코더 lstm모델이 입력값인 decoder_inputs와, 이전 상태인 decoder_States_inputs를 입력 받아\n",
    "# 다음 단어를 예측하는 출력(decoder_outputs)와 새로운 은닉상태/셀 상태(state_h, state_c)를 계산"
   ]
  },
  {
   "cell_type": "code",
   "execution_count": 212,
   "metadata": {},
   "outputs": [],
   "source": [
    "decoder_states = [state_h, state_c]"
   ]
  },
  {
   "cell_type": "code",
   "execution_count": null,
   "metadata": {},
   "outputs": [],
   "source": [
    "decoder_outputs = decoder_softmax_layer(decoder_outputs)\n",
    "# 디코더 출력값을 소프트맥스 레이어로 통과시켜 단어별 확률 분포 변환"
   ]
  },
  {
   "cell_type": "code",
   "execution_count": null,
   "metadata": {},
   "outputs": [],
   "source": [
    "decoder_model = Model(inputs = [decoder_inputs] + decoder_states_inputs, outputs= [decoder_outputs] + decoder_states)\n",
    "# 다음 단어의 확률 분포와 새로운 상태값을 반환"
   ]
  },
  {
   "cell_type": "code",
   "execution_count": 215,
   "metadata": {},
   "outputs": [
    {
     "name": "stdout",
     "output_type": "stream",
     "text": [
      "{1: 'p', 2: '\"', 3: 'L', 4: 'X', 5: 'd', 6: ',', 7: 'Q', 8: '0', 9: '9', 10: 'e', 11: '$', 12: 'ï', 13: 'Z', 14: 'v', 15: 'V', 16: 't', 17: '?', 18: 'y', 19: 'o', 20: 'F', 21: 'i', 22: '3', 23: '7', 24: 'Y', 25: 'w', 26: 'G', 27: 'P', 28: '5', 29: 'r', 30: ':', 31: '.', 32: 'k', 33: 'D', 34: 'u', 35: ' ', 36: 'J', 37: 'l', 38: 'n', 39: 'H', 40: 'I', 41: 'K', 42: '%', 43: 'A', 44: 'b', 45: '€', 46: 'B', 47: '1', 48: '2', 49: '’', 50: 'M', 51: 'm', 52: 'c', 53: \"'\", 54: 'h', 55: 's', 56: 'N', 57: 'U', 58: '&', 59: 'C', 60: 'j', 61: 'R', 62: 'f', 63: 'S', 64: 'E', 65: 'O', 66: '-', 67: 'z', 68: '8', 69: '4', 70: 'g', 71: 'a', 72: '!', 73: 'q', 74: 'W', 75: 'x', 76: '/', 77: 'T', 78: 'é', 79: '6'}\n"
     ]
    }
   ],
   "source": [
    "index_to_src = {}\n",
    "for char, i in src_to_index.items():\n",
    "    index_to_src[i] = char\n",
    "    # key : 정수 인덱스, value가 문자로 되도록 뒤집어주기\n",
    "\n",
    "print(index_to_src)"
   ]
  },
  {
   "cell_type": "code",
   "execution_count": 216,
   "metadata": {},
   "outputs": [
    {
     "name": "stdout",
     "output_type": "stream",
     "text": [
      "{1: 'p', 2: '\"', 3: 'L', 4: 'X', 5: 'd', 6: 'Q', 7: ',', 8: 'ù', 9: '0', 10: '9', 11: 'e', 12: '$', 13: 'ç', 14: 'ï', 15: '\\n', 16: 'v', 17: '\\xa0', 18: 'É', 19: 'î', 20: 'V', 21: 't', 22: 'y', 23: '?', 24: 'o', 25: 'F', 26: 'i', 27: '3', 28: '\\u2009', 29: '7', 30: 'Y', 31: 'w', 32: 'G', 33: 'P', 34: '5', 35: 'r', 36: 'œ', 37: ':', 38: 'k', 39: '.', 40: 'D', 41: 'u', 42: ' ', 43: 'À', 44: 'J', 45: 'l', 46: 'n', 47: '‽', 48: 'I', 49: 'H', 50: 'K', 51: '%', 52: 'A', 53: 'b', 54: 'B', 55: '1', 56: '2', 57: '’', 58: 'M', 59: 'm', 60: '‘', 61: 'c', 62: '»', 63: \"'\", 64: 'h', 65: 's', 66: 'â', 67: 'N', 68: 'U', 69: '&', 70: 'Ê', 71: 'C', 72: 'j', 73: 'R', 74: 'Ô', 75: 'f', 76: 'Ç', 77: 'S', 78: '\\t', 79: 'E', 80: 'O', 81: '«', 82: '-', 83: 'z', 84: '8', 85: '4', 86: 'g', 87: 'a', 88: '!', 89: 'ê', 90: 'q', 91: 'à', 92: '\\u202f', 93: 'W', 94: 'x', 95: 'û', 96: 'ë', 97: 'T', 98: 'è', 99: 'ô', 100: 'é', 101: '6'}\n"
     ]
    }
   ],
   "source": [
    "index_to_tar = {}\n",
    "for char, i in tar_to_index.items():\n",
    "    index_to_tar[i] = char\n",
    "\n",
    "print(index_to_tar)"
   ]
  },
  {
   "cell_type": "code",
   "execution_count": 217,
   "metadata": {},
   "outputs": [],
   "source": [
    "def decode_sequence(input_seq):\n",
    "    states_value = encoder_model.predict(input_seq)\n",
    "\n",
    "    target_seq = np.zeros((1, 1, tar_vocab_size))\n",
    "    # (1, 1, tar_vocab_size) 배열 생성\n",
    "    target_seq[0, 0, tar_to_index['\\t']] = 1\n",
    "    # 0번째 문장의 0번째 단어의 \\t에 해당하는 위치를 1로 설정\n",
    "\n",
    "    stop_condition = False\n",
    "    decoded_sentence = ''\n",
    "\n",
    "    while not stop_condition:\n",
    "        output_tokens, h, c = decoder_model.predict([target_seq] + states_value)\n",
    "        # target_seq : 현재 디코더의 입력 시퀀스\n",
    "        # states_value : context vector\n",
    "        # output_tokens : 다음 단어에 대한 예측 확률 분포, h : 은닉 상태, c : 셀 상태\n",
    "\n",
    "        sampled_token_index = np.argmax(output_tokens[0, -1, :])\n",
    "        # 예측된 데이터 중에서 현재 타임 스텝의 마지막 값을 불러와서 그 중에 argmax(최대값)을 sample_token_index에 저장\n",
    "        sampled_char = index_to_tar[sampled_token_index]\n",
    "\n",
    "        decoded_sentence += sampled_char\n",
    "\n",
    "        if (sampled_char == '\\n' or len(decoded_sentence) > max_tar_len):\n",
    "            stop_condition = True\n",
    "            # eos에 도달하거나 최대 문장 길이를 넘어서면 반복을 중단\n",
    "\n",
    "        target_seq = np.zeros((1, 1, tar_vocab_size))\n",
    "        # 1, 1, tar_vocab_size의 배열 생성\n",
    "        #(배치사이즈, 시퀀스 길이, 타겟 집합의 크기)\n",
    "        target_seq[0, 0, sampled_token_index] = 1\n",
    "        # 첫번째 배치, 첫번째 타임스텝에서 sampled_token_index에 해당하는 위치를 1로 설정\n",
    "\n",
    "        states_value = [h, c]\n",
    "        # 현재 시점의 상태를 다음 시점의 상태로 전달\n",
    "        \n",
    "    return decoded_sentence"
   ]
  },
  {
   "cell_type": "code",
   "execution_count": 221,
   "metadata": {},
   "outputs": [
    {
     "name": "stdout",
     "output_type": "stream",
     "text": [
      "1/1 [==============================] - 0s 42ms/step\n",
      "1/1 [==============================] - 0s 31ms/step\n",
      "1/1 [==============================] - 0s 22ms/step\n",
      "1/1 [==============================] - 0s 24ms/step\n",
      "1/1 [==============================] - 0s 20ms/step\n",
      "1/1 [==============================] - 0s 23ms/step\n",
      "1/1 [==============================] - 0s 18ms/step\n",
      "1/1 [==============================] - 0s 30ms/step\n",
      "1/1 [==============================] - 0s 23ms/step\n",
      "1/1 [==============================] - 0s 24ms/step\n",
      "1/1 [==============================] - 0s 26ms/step\n",
      "1/1 [==============================] - 0s 28ms/step\n",
      "1/1 [==============================] - 0s 30ms/step\n",
      "1/1 [==============================] - 0s 27ms/step\n",
      "1/1 [==============================] - 0s 28ms/step\n",
      "1/1 [==============================] - 0s 28ms/step\n",
      "1/1 [==============================] - 0s 28ms/step\n",
      "1/1 [==============================] - 0s 27ms/step\n",
      "1/1 [==============================] - 0s 27ms/step\n",
      "1/1 [==============================] - 0s 21ms/step\n",
      "입력 문장 : Be brief.\n",
      "정답 문장 : Soyez brefs. \n",
      "번역 문장 : Soyez prudente ! \n",
      "\n",
      "1/1 [==============================] - 0s 22ms/step\n",
      "1/1 [==============================] - 0s 19ms/step\n",
      "1/1 [==============================] - 0s 19ms/step\n",
      "1/1 [==============================] - 0s 20ms/step\n",
      "1/1 [==============================] - 0s 22ms/step\n",
      "1/1 [==============================] - 0s 30ms/step\n",
      "1/1 [==============================] - 0s 28ms/step\n",
      "1/1 [==============================] - 0s 22ms/step\n",
      "1/1 [==============================] - 0s 19ms/step\n",
      "1/1 [==============================] - 0s 20ms/step\n",
      "1/1 [==============================] - 0s 20ms/step\n",
      "1/1 [==============================] - 0s 19ms/step\n",
      "1/1 [==============================] - 0s 20ms/step\n",
      "1/1 [==============================] - 0s 22ms/step\n",
      "1/1 [==============================] - 0s 29ms/step\n",
      "입력 문장 : Forget it.\n",
      "정답 문장 : Oubliez ça ! \n",
      "번역 문장 : Oubliez-le. \n",
      "\n"
     ]
    }
   ],
   "source": [
    "for seq_index in [500, 1000]:\n",
    "    input_seq = encoder_input[seq_index:seq_index +1]\n",
    "    decoded_sentence = decode_sequence(input_seq)\n",
    "    print(f'입력 문장 : {lines.src[seq_index]}')\n",
    "    print(f'정답 문장 : {lines.tar[seq_index][2:len(lines.tar[seq_index])-1]}')\n",
    "    print(f'번역 문장 : {decoded_sentence[1:len(decoded_sentence)]}')"
   ]
  },
  {
   "cell_type": "code",
   "execution_count": null,
   "metadata": {},
   "outputs": [],
   "source": []
  }
 ],
 "metadata": {
  "kernelspec": {
   "display_name": "tensor_env",
   "language": "python",
   "name": "python3"
  },
  "language_info": {
   "codemirror_mode": {
    "name": "ipython",
    "version": 3
   },
   "file_extension": ".py",
   "mimetype": "text/x-python",
   "name": "python",
   "nbconvert_exporter": "python",
   "pygments_lexer": "ipython3",
   "version": "3.9.20"
  }
 },
 "nbformat": 4,
 "nbformat_minor": 2
}
