{
 "cells": [
  {
   "cell_type": "markdown",
   "id": "bc626805",
   "metadata": {},
   "source": [
    "\n",
    "# 🌼 기초 프로그래밍 및 데이터 구조 - 4차시(24.10.28)\n",
    "\n",
    "---\n"
   ]
  },
  {
   "cell_type": "markdown",
   "id": "e6156959",
   "metadata": {},
   "source": [
    "## 1. 제어문\n",
    "- 제어문은 프로그램의 흐름을 제어하기 위해 사용\n",
    "- 조건문, 반복문 (`if`, `for`, `while`)\n",
    "\n",
    "#### 들여쓰기:\n",
    "\n",
    "제어문 내의 코드 블록은 반드시 `들여쓰기`를 통해 표현해야 하며, 들여쓰기를 잘못하면 `SyntaxError` 혹은  `IndentationError`가 발생할 수 있으므로 코드 작성 시 자동으로 되는 들여쓰기를 지우거나 수정하지 않고 그대로 사용한다!"
   ]
  },
  {
   "cell_type": "markdown",
   "id": "a8d032dd",
   "metadata": {},
   "source": [
    "## 2. 조건문 (if문)\n",
    "\n",
    "- `if`문은 주어진 조건이 참일 때 특정 코드를 실행"
   ]
  },
  {
   "cell_type": "code",
   "execution_count": 1,
   "id": "e98389e2",
   "metadata": {},
   "outputs": [],
   "source": [
    "x = 10"
   ]
  },
  {
   "cell_type": "code",
   "execution_count": 2,
   "id": "500c918e",
   "metadata": {},
   "outputs": [],
   "source": [
    "if x < 5:\n",
    "    print('x는 5보다 큽니다.')"
   ]
  },
  {
   "cell_type": "code",
   "execution_count": 3,
   "id": "6b200641",
   "metadata": {},
   "outputs": [
    {
     "name": "stdout",
     "output_type": "stream",
     "text": [
      "x는 5보다 큽니다.\n"
     ]
    }
   ],
   "source": [
    "if x > 5:\n",
    "    print('x는 5보다 큽니다.')"
   ]
  },
  {
   "cell_type": "markdown",
   "id": "4dd8a64b",
   "metadata": {},
   "source": [
    "#### `elif`와 `else` 사용하기\n",
    "\n",
    "`else` 문은 if 문과 함께 사용되며, if 조건식이 `거짓(False)`일 때 실행할 코드를 정의,  \n",
    "else 블록은 조건을 따로 지정하지 않고, `모든 다른 경우에 실행`\n",
    "\n",
    "`elif` 문은 else if의 줄임말로, if 조건이 거짓이고, `추가적인 조건`을 확인하고 싶을 때 사용,  \n",
    "여러 개의 elif 블록을 사용할 수 있으며, 조건이 참인 블록이 실행되면 나머지 조건들은 무시됩니다."
   ]
  },
  {
   "cell_type": "code",
   "execution_count": 4,
   "id": "19371c39",
   "metadata": {},
   "outputs": [],
   "source": [
    "x = 3"
   ]
  },
  {
   "cell_type": "code",
   "execution_count": 5,
   "id": "08bbce7b",
   "metadata": {},
   "outputs": [
    {
     "name": "stdout",
     "output_type": "stream",
     "text": [
      "x는 5이하입니다.\n"
     ]
    }
   ],
   "source": [
    "if x > 5:\n",
    "    print('x는 5보다 큽니다.')\n",
    "else:\n",
    "    print('x는 5이하입니다.')"
   ]
  },
  {
   "cell_type": "code",
   "execution_count": 6,
   "id": "da45b401",
   "metadata": {},
   "outputs": [
    {
     "name": "stdout",
     "output_type": "stream",
     "text": [
      "x는 10보다 작습니다.\n"
     ]
    }
   ],
   "source": [
    "if x > 10:\n",
    "    print('x는 10보다 큽니다.')\n",
    "elif x == 10:\n",
    "    print('x는 10입니다.')\n",
    "else:\n",
    "    print('x는 10보다 작습니다.')"
   ]
  },
  {
   "cell_type": "code",
   "execution_count": 7,
   "id": "48f55dc1",
   "metadata": {},
   "outputs": [],
   "source": [
    "score = 75"
   ]
  },
  {
   "cell_type": "code",
   "execution_count": 8,
   "id": "6a78f98f",
   "metadata": {},
   "outputs": [
    {
     "name": "stdout",
     "output_type": "stream",
     "text": [
      "C 학점입니다\n"
     ]
    }
   ],
   "source": [
    "if score >= 90:\n",
    "    print('A 학점입니다')\n",
    "elif score >=80:\n",
    "    print('B 학점입니다')\n",
    "elif score >= 70:\n",
    "    print('C 학점입니다')\n",
    "else : \n",
    "    print('D 학점입니다')"
   ]
  },
  {
   "cell_type": "code",
   "execution_count": 11,
   "id": "3e43dd4c",
   "metadata": {},
   "outputs": [],
   "source": [
    "temp = 10\n",
    "weather = 'sunny'"
   ]
  },
  {
   "cell_type": "code",
   "execution_count": 12,
   "id": "663fec21",
   "metadata": {},
   "outputs": [
    {
     "name": "stdout",
     "output_type": "stream",
     "text": [
      "기온이 쌀쌀하지만 날씨는 맑습니다.\n"
     ]
    }
   ],
   "source": [
    "if temp > 20 and weather == 'rainy':\n",
    "    print('기온이 따뜻하지만 비가 옵니다.')\n",
    "elif temp > 20 and weather == 'sunny':\n",
    "    print('기온이 따뜻하고 날씨가 맑습니다.')\n",
    "elif temp < 20 and weather == 'sunny':\n",
    "    print('기온이 쌀쌀하지만 날씨는 맑습니다.')\n",
    "else:\n",
    "    print('기온이 쌀쌀하고 비가 옵니다.')"
   ]
  },
  {
   "cell_type": "code",
   "execution_count": 15,
   "id": "2595ea97",
   "metadata": {},
   "outputs": [
    {
     "name": "stdout",
     "output_type": "stream",
     "text": [
      "0입니다\n"
     ]
    }
   ],
   "source": [
    "number = int(input('숫자를 입력하세요 : '))\n",
    "if number > 0:\n",
    "    print('양수입니다.')\n",
    "elif number < 0:\n",
    "    print('음수입니다.')\n",
    "else : \n",
    "    print('0입니다')"
   ]
  },
  {
   "cell_type": "code",
   "execution_count": 17,
   "id": "23ecdcf9",
   "metadata": {},
   "outputs": [
    {
     "name": "stdout",
     "output_type": "stream",
     "text": [
      "pink는 리스트에 없습니다.\n"
     ]
    }
   ],
   "source": [
    "colors = ['red', 'green', 'blue']\n",
    "user_color = input('좋아하는 색상을 영어로 입력하세요 : ')\n",
    "\n",
    "if user_color in colors:\n",
    "    print(f'{user_color}는 리스트에 있습니다.')\n",
    "else:\n",
    "    print(f'{user_color}는 리스트에 없습니다.')"
   ]
  },
  {
   "cell_type": "markdown",
   "id": "fb5c4e1e",
   "metadata": {},
   "source": [
    "### 중첩조건문"
   ]
  },
  {
   "cell_type": "code",
   "execution_count": 18,
   "id": "bd42bb2b",
   "metadata": {},
   "outputs": [],
   "source": [
    "x = 20\n",
    "y = 10"
   ]
  },
  {
   "cell_type": "code",
   "execution_count": 20,
   "id": "2397a7dd",
   "metadata": {},
   "outputs": [
    {
     "name": "stdout",
     "output_type": "stream",
     "text": [
      "x는 10보다 크고 y는 10입니다.\n"
     ]
    }
   ],
   "source": [
    "if x > 10:\n",
    "    # print('x는 10보다 큽니다.')\n",
    "    if y > 10:\n",
    "        print('x와 y가 모두 10 보다 큽니다.')\n",
    "    elif y < 10:\n",
    "        print('x는 10보다 크지만, y는 10보다 작습니다.')\n",
    "    else : \n",
    "        print('x는 10보다 크고 y는 10입니다.')\n",
    "else:\n",
    "    print('x는 10보다 작습니다.')"
   ]
  },
  {
   "cell_type": "code",
   "execution_count": 21,
   "id": "e30f08c2",
   "metadata": {},
   "outputs": [
    {
     "name": "stdout",
     "output_type": "stream",
     "text": [
      "성인이고 학생입니다.\n"
     ]
    }
   ],
   "source": [
    "age = 20\n",
    "job = 'student'\n",
    "\n",
    "if age >= 18:\n",
    "    if job=='student':\n",
    "        print('성인이고 학생입니다.')\n",
    "    else:\n",
    "        print('성인입니다.')\n",
    "else:\n",
    "    print('미성년자입니다.')"
   ]
  },
  {
   "cell_type": "code",
   "execution_count": 23,
   "id": "b7c3ae06",
   "metadata": {},
   "outputs": [
    {
     "name": "stdout",
     "output_type": "stream",
     "text": [
      "입장요금/10,000원\n"
     ]
    }
   ],
   "source": [
    "# Q1. 나이별로 다른 입장료 가격을 계산하는 프로그램을 작성해보세요\n",
    "# 0~2세 무료, 3~12세 5000원, 13~18세 8000원, 19세 이상 10000원\n",
    "# * 조건의 결과는 임의로 설정해도 됩니다! (나이) \n",
    "\n",
    "age = 23\n",
    "\n",
    "if age <= 2:\n",
    "    price = '무료'\n",
    "elif age <=12 : \n",
    "    price = '5,000원'\n",
    "elif age <=18 :\n",
    "    price = '8,000원'\n",
    "else :\n",
    "    price = '10,000원'\n",
    "    \n",
    "print('입장요금', price, sep = '/')"
   ]
  },
  {
   "cell_type": "code",
   "execution_count": 24,
   "id": "0b7d2990",
   "metadata": {},
   "outputs": [
    {
     "name": "stdout",
     "output_type": "stream",
     "text": [
      "추천 옷차림/가벼운 자켓을 입으세요\n"
     ]
    }
   ],
   "source": [
    "# Q2. 기온에 따른 옷차림을 추천해주는 프로그램을 작성해보세요\n",
    "# 0도 이하면 패딩을, 10도 이하면 코트를, 20도 이하면 가벼운 겉옷을, 그 외에는 반팔을 추천해줍니다.\n",
    "# * 조건의 결과는 임의로 설정해도 됩니다! (기온)\n",
    "\n",
    "temp = 15\n",
    "\n",
    "if temp <= 0:\n",
    "    fit = '패딩을 입으세요'\n",
    "elif temp <= 10:\n",
    "    fit = '코트를 입으세요'\n",
    "elif temp <= 20:\n",
    "    fit = '가벼운 자켓을 입으세요'\n",
    "else:\n",
    "    fit = '반팔을 입으세요'\n",
    "\n",
    "print('추천 옷차림', fit, sep='/')"
   ]
  },
  {
   "cell_type": "code",
   "execution_count": 25,
   "id": "1edf44eb",
   "metadata": {},
   "outputs": [
    {
     "name": "stdout",
     "output_type": "stream",
     "text": [
      "추천 여행 패키지는 국내 여행 패키지\n"
     ]
    }
   ],
   "source": [
    "# Q3. 고객의 나이와 예산에 따라 적합한 여행을 추천해주는 프로그램을 작성해보세요.\n",
    "# 18세 미만이고 예산이 30만원 이상이면 '가족 여행 패키지', 그 외는 '키즈 테마파크 패키지'\n",
    "# 18세 이상 60세 이하에 예산이 50만원 이상이면 '유럽 투어 패키지', 30만원 이상이면 '국내 여행 패키지', 그 외 '서울 근교 여행 패키지'\n",
    "# 나이가 60세 초과이고 예산이 30만원 이상이면 '힐링 여행 패키지', 그 외 '자연 산책 패키지'\n",
    "# * 조건의 결과는 임의로 설정해도 됩니다! (나이, 예산)\n",
    "\n",
    "age = 25\n",
    "pay = 350000\n",
    "\n",
    "if age < 18:\n",
    "    if pay >= 300000:\n",
    "        package = '가족 여행 패키지'\n",
    "    else:\n",
    "        package = '키즈 테마파크 패키지'\n",
    "elif age <=60:\n",
    "    if pay >= 500000:\n",
    "        package = '유럽 투어 패키지'\n",
    "    elif pay >=300000:\n",
    "        package ='국내 여행 패키지'\n",
    "    else:\n",
    "        package ='서울 근교 여행 패키지'\n",
    "else:\n",
    "    if pay >= 300000:\n",
    "        package = '힐링 여행 패키지'\n",
    "    else:\n",
    "        package = '자연 산책 패키지'\n",
    "\n",
    "print('추천 여행 패키지는', package)"
   ]
  },
  {
   "cell_type": "markdown",
   "id": "14ac09a9",
   "metadata": {},
   "source": [
    "## 2. 반복문\n",
    "\n",
    "Python에서 반복문은 for문과 while문으로 이 두 가지 문은 서로 다른 방식으로 반복을 수행하지만, 기본적인 구조는 유사함\n",
    "\n",
    "- `for문`: \n",
    "\n",
    "    주어진 시퀀스(예: 리스트, 튜플, 문자열 등)나 이터러블 객체의 `각 요소를 순회하면서 반복`을 수행\n",
    "\n",
    "- `while문`: \n",
    "\n",
    "    특정 `조건이 참인 동안 반복`을 수행      \n",
    "    조건이 거짓이 되면 반복이 종료  \n",
    "\n",
    "|구분|for문|while문|\n",
    "|--|--|--|\n",
    "|사용|시퀀스나 이터러블 객체의 요소를 순회할 때|특정 조건이 참일 때까지 반복할 때|\n",
    "|종료 조건|시퀀스의 끝|조건이 거짓(False)이 될 때|"
   ]
  },
  {
   "cell_type": "code",
   "execution_count": 26,
   "id": "99d0b4d8",
   "metadata": {},
   "outputs": [],
   "source": [
    "fruits = ['apple', 'banana', 'cherry']"
   ]
  },
  {
   "cell_type": "code",
   "execution_count": 27,
   "id": "878d8268",
   "metadata": {},
   "outputs": [
    {
     "name": "stdout",
     "output_type": "stream",
     "text": [
      "apple\n",
      "banana\n",
      "cherry\n"
     ]
    }
   ],
   "source": [
    "for fruit in fruits:\n",
    "    print(fruit)"
   ]
  },
  {
   "cell_type": "code",
   "execution_count": 28,
   "id": "e22c8b35",
   "metadata": {},
   "outputs": [
    {
     "name": "stdout",
     "output_type": "stream",
     "text": [
      "0\n",
      "1\n",
      "2\n",
      "3\n",
      "4\n"
     ]
    }
   ],
   "source": [
    "for i in range(0,5):\n",
    "    print(i)"
   ]
  },
  {
   "cell_type": "code",
   "execution_count": 29,
   "id": "981c8474",
   "metadata": {},
   "outputs": [
    {
     "name": "stdout",
     "output_type": "stream",
     "text": [
      "1\n",
      "3\n",
      "5\n",
      "7\n",
      "9\n"
     ]
    }
   ],
   "source": [
    "for i in range(1, 10, 2):\n",
    "    print(i)"
   ]
  },
  {
   "cell_type": "code",
   "execution_count": 30,
   "id": "8cf5ba08",
   "metadata": {},
   "outputs": [
    {
     "name": "stdout",
     "output_type": "stream",
     "text": [
      "p\n",
      "y\n",
      "t\n",
      "h\n",
      "o\n",
      "n\n"
     ]
    }
   ],
   "source": [
    "text = 'python'\n",
    "for i in text:\n",
    "    print(i)"
   ]
  },
  {
   "cell_type": "code",
   "execution_count": 31,
   "id": "63295543",
   "metadata": {},
   "outputs": [
    {
     "name": "stdout",
     "output_type": "stream",
     "text": [
      "1\n",
      "2\n",
      "3\n",
      "4\n",
      "5\n",
      "6\n",
      "7\n",
      "8\n",
      "9\n"
     ]
    }
   ],
   "source": [
    "list_ = [1, 2, 3, 4, 5, 6, 7, 8, 9 ]\n",
    "for i in list_:\n",
    "    print(i)"
   ]
  },
  {
   "cell_type": "code",
   "execution_count": 35,
   "id": "8266239b",
   "metadata": {},
   "outputs": [],
   "source": [
    "numbers = [1, 2, 3, 4, 5]\n",
    "total = 0"
   ]
  },
  {
   "cell_type": "code",
   "execution_count": 36,
   "id": "9c4d81a2",
   "metadata": {},
   "outputs": [
    {
     "name": "stdout",
     "output_type": "stream",
     "text": [
      "지금 순회중인 숫자 : 1, 현재 total의 값 : 0\n",
      "지금 순회중인 숫자 : 2, 현재 total의 값 : 1\n",
      "지금 순회중인 숫자 : 3, 현재 total의 값 : 3\n",
      "지금 순회중인 숫자 : 4, 현재 total의 값 : 6\n",
      "지금 순회중인 숫자 : 5, 현재 total의 값 : 10\n",
      "15\n"
     ]
    }
   ],
   "source": [
    "for number in numbers:\n",
    "    print(f'지금 순회중인 숫자 : {number}, 현재 total의 값 : {total}')\n",
    "    total+=number\n",
    "print(total)"
   ]
  },
  {
   "cell_type": "code",
   "execution_count": 37,
   "id": "c29c948e",
   "metadata": {},
   "outputs": [
    {
     "name": "stdout",
     "output_type": "stream",
     "text": [
      "(0, 'apple')\n",
      "(1, 'banana')\n",
      "(2, 'cherry')\n"
     ]
    }
   ],
   "source": [
    "fruits = ['apple', 'banana', 'cherry']\n",
    "for i in enumerate(fruits):\n",
    "    print(i)"
   ]
  },
  {
   "cell_type": "code",
   "execution_count": 40,
   "id": "8f5a0207",
   "metadata": {},
   "outputs": [
    {
     "name": "stdout",
     "output_type": "stream",
     "text": [
      "apple\n",
      "banana\n",
      "cherry\n"
     ]
    }
   ],
   "source": [
    "for i, j in enumerate(fruits):\n",
    "    print(j)"
   ]
  },
  {
   "cell_type": "code",
   "execution_count": 46,
   "id": "9741a129",
   "metadata": {},
   "outputs": [
    {
     "name": "stdout",
     "output_type": "stream",
     "text": [
      "dict_items([('수빈', 90), ('예원', 80), ('도환', 70)])\n"
     ]
    }
   ],
   "source": [
    "student = {'수빈':90, '예원':80, '도환':70}\n",
    "print(student.items())"
   ]
  },
  {
   "cell_type": "code",
   "execution_count": 48,
   "id": "fb311702",
   "metadata": {},
   "outputs": [
    {
     "name": "stdout",
     "output_type": "stream",
     "text": [
      "수빈의 점수는 90입니다.\n",
      "예원의 점수는 80입니다.\n",
      "도환의 점수는 70입니다.\n"
     ]
    }
   ],
   "source": [
    "for name, score in student.items():\n",
    "    print(f'{name}의 점수는 {score}입니다.')"
   ]
  },
  {
   "cell_type": "markdown",
   "id": "030f1ef7",
   "metadata": {},
   "source": [
    "### 중첩for문"
   ]
  },
  {
   "cell_type": "code",
   "execution_count": 43,
   "id": "d92d6847",
   "metadata": {},
   "outputs": [
    {
     "name": "stdout",
     "output_type": "stream",
     "text": [
      "2 x 1 = 2\n",
      "2 x 2 = 4\n",
      "2 x 3 = 6\n",
      "2 x 4 = 8\n",
      "2 x 5 = 10\n",
      "2 x 6 = 12\n",
      "2 x 7 = 14\n",
      "2 x 8 = 16\n",
      "2 x 9 = 18\n",
      "3 x 1 = 3\n",
      "3 x 2 = 6\n",
      "3 x 3 = 9\n",
      "3 x 4 = 12\n",
      "3 x 5 = 15\n",
      "3 x 6 = 18\n",
      "3 x 7 = 21\n",
      "3 x 8 = 24\n",
      "3 x 9 = 27\n",
      "4 x 1 = 4\n",
      "4 x 2 = 8\n",
      "4 x 3 = 12\n",
      "4 x 4 = 16\n",
      "4 x 5 = 20\n",
      "4 x 6 = 24\n",
      "4 x 7 = 28\n",
      "4 x 8 = 32\n",
      "4 x 9 = 36\n",
      "5 x 1 = 5\n",
      "5 x 2 = 10\n",
      "5 x 3 = 15\n",
      "5 x 4 = 20\n",
      "5 x 5 = 25\n",
      "5 x 6 = 30\n",
      "5 x 7 = 35\n",
      "5 x 8 = 40\n",
      "5 x 9 = 45\n",
      "6 x 1 = 6\n",
      "6 x 2 = 12\n",
      "6 x 3 = 18\n",
      "6 x 4 = 24\n",
      "6 x 5 = 30\n",
      "6 x 6 = 36\n",
      "6 x 7 = 42\n",
      "6 x 8 = 48\n",
      "6 x 9 = 54\n",
      "7 x 1 = 7\n",
      "7 x 2 = 14\n",
      "7 x 3 = 21\n",
      "7 x 4 = 28\n",
      "7 x 5 = 35\n",
      "7 x 6 = 42\n",
      "7 x 7 = 49\n",
      "7 x 8 = 56\n",
      "7 x 9 = 63\n",
      "8 x 1 = 8\n",
      "8 x 2 = 16\n",
      "8 x 3 = 24\n",
      "8 x 4 = 32\n",
      "8 x 5 = 40\n",
      "8 x 6 = 48\n",
      "8 x 7 = 56\n",
      "8 x 8 = 64\n",
      "8 x 9 = 72\n",
      "9 x 1 = 9\n",
      "9 x 2 = 18\n",
      "9 x 3 = 27\n",
      "9 x 4 = 36\n",
      "9 x 5 = 45\n",
      "9 x 6 = 54\n",
      "9 x 7 = 63\n",
      "9 x 8 = 72\n",
      "9 x 9 = 81\n"
     ]
    }
   ],
   "source": [
    "for i in range(2, 10):\n",
    "    for j in range(1, 10):\n",
    "        print(f'{i} x {j} = {i*j}')"
   ]
  },
  {
   "cell_type": "code",
   "execution_count": 49,
   "id": "0750f8c9",
   "metadata": {},
   "outputs": [
    {
     "name": "stdout",
     "output_type": "stream",
     "text": [
      "2\n",
      "4\n",
      "6\n",
      "8\n",
      "10\n"
     ]
    }
   ],
   "source": [
    "# Q1. numbers 리스트에서 짝수만 출력하기\n",
    "numbers = [1, 2, 3, 4, 5, 6, 7, 8, 9, 10]\n",
    "for number in numbers:\n",
    "    if number % 2 == 0:\n",
    "        print(number)"
   ]
  },
  {
   "cell_type": "code",
   "execution_count": 50,
   "id": "0fb2c4b2",
   "metadata": {},
   "outputs": [
    {
     "name": "stdout",
     "output_type": "stream",
     "text": [
      "7 x 1 = 7\n",
      "7 x 2 = 14\n",
      "7 x 3 = 21\n",
      "7 x 4 = 28\n",
      "7 x 5 = 35\n",
      "7 x 6 = 42\n",
      "7 x 7 = 49\n",
      "7 x 8 = 56\n",
      "7 x 9 = 63\n"
     ]
    }
   ],
   "source": [
    "# Q2. 구구단 7단 풀이 출력하기\n",
    "number = 7\n",
    "\n",
    "for i in range(1, 10):\n",
    "    print(f'{number} x {i} = {number*i}')"
   ]
  },
  {
   "cell_type": "code",
   "execution_count": 53,
   "id": "61f2fd23",
   "metadata": {},
   "outputs": [
    {
     "name": "stdout",
     "output_type": "stream",
     "text": [
      "단어 개수 : {'cat': 2, 'apple': 2, 'flower': 1, 'bird': 2}\n"
     ]
    }
   ],
   "source": [
    "# Q3. 문장에서 단어를 찾고 단어의 개수가 각각 몇개인지 출력해보세요.\n",
    "sentence = \"cat apple flower cat bird apple bird\"\n",
    "\n",
    "word_count={}\n",
    "for word in sentence.split():\n",
    "    if word in word_count:\n",
    "        word_count[word] +=1\n",
    "    else:\n",
    "        word_count[word] = 1\n",
    "\n",
    "print(f'단어 개수 : {word_count}')"
   ]
  },
  {
   "cell_type": "code",
   "execution_count": 52,
   "id": "51796df6",
   "metadata": {},
   "outputs": [
    {
     "data": {
      "text/plain": [
       "['cat', 'apple', 'flower', 'cat', 'bird', 'apple', 'bird']"
      ]
     },
     "execution_count": 52,
     "metadata": {},
     "output_type": "execute_result"
    }
   ],
   "source": [
    "sentence.split()"
   ]
  },
  {
   "cell_type": "code",
   "execution_count": null,
   "id": "9488ffa8",
   "metadata": {},
   "outputs": [],
   "source": [
    "for i in range(,4):\n",
    "    print(i)"
   ]
  },
  {
   "cell_type": "code",
   "execution_count": 57,
   "id": "4c508443",
   "metadata": {},
   "outputs": [
    {
     "name": "stdout",
     "output_type": "stream",
     "text": [
      "0\n",
      "1\n",
      "2\n",
      "3\n"
     ]
    }
   ],
   "source": [
    "for i in range(4):\n",
    "    print(i)"
   ]
  },
  {
   "cell_type": "code",
   "execution_count": 56,
   "id": "f21c22a4",
   "metadata": {},
   "outputs": [
    {
     "name": "stdout",
     "output_type": "stream",
     "text": [
      "이웃한 숫자의 합 [30, 50, 70, 90]\n"
     ]
    }
   ],
   "source": [
    "# Q4. numbers 리스트에서 각각 이웃한 숫자들의 합을 담은 리스트를 반환해보세요\n",
    "numbers = [10, 20, 30, 40, 50]\n",
    "list1 =[]\n",
    "for i in range(4):\n",
    "    list1.append(numbers[i]+numbers[i+1])\n",
    "print('이웃한 숫자의 합', list1)"
   ]
  },
  {
   "cell_type": "code",
   "execution_count": 59,
   "id": "2a83c0ac",
   "metadata": {},
   "outputs": [
    {
     "name": "stdout",
     "output_type": "stream",
     "text": [
      "cat가 등장한 횟수는 3\n"
     ]
    }
   ],
   "source": [
    "# Q5. 주어진 문장인 sentence에서 serach_word가 몇번 나오는지 반복문을 통해 출력해보세요\n",
    "sentence = \"The cat sat on the mat. Another cat was watching the first cat from a distance.\"\n",
    "search_word = \"cat\"\n",
    "\n",
    "count = 0\n",
    "for word in sentence.replace('.','').split():\n",
    "    # print(word)\n",
    "    if word == search_word:\n",
    "        count+=1\n",
    "\n",
    "print(f'{search_word}가 등장한 횟수는 {count}')"
   ]
  },
  {
   "cell_type": "code",
   "execution_count": 60,
   "id": "1984fbf5",
   "metadata": {},
   "outputs": [
    {
     "name": "stdout",
     "output_type": "stream",
     "text": [
      "★\n",
      "★★\n",
      "★★★\n",
      "★★★★\n",
      "★★★★★\n"
     ]
    }
   ],
   "source": [
    "# Q6. 피라미드 높이인 height만큼 for문을 사용하여 별(★)로 피라미드를 만들어보세요\n",
    "# 출력예시\n",
    "# ★\n",
    "# ★★\n",
    "# ★★★\n",
    "# ★★★★\n",
    "# ★★★★★\n",
    "\n",
    "height = 5\n",
    "\n",
    "for i in range(1, height+1):\n",
    "    print('★' * i)"
   ]
  },
  {
   "cell_type": "markdown",
   "id": "cdcc65a7",
   "metadata": {},
   "source": [
    "### while문\n",
    "- 조건이 참인 동안 실행되기때문에 조건을 걸어줄 수 있는 변수가 필요한 경우가 많다"
   ]
  },
  {
   "cell_type": "code",
   "execution_count": 61,
   "id": "dbe06876",
   "metadata": {},
   "outputs": [
    {
     "name": "stdout",
     "output_type": "stream",
     "text": [
      "1\n",
      "2\n",
      "3\n",
      "4\n",
      "5\n"
     ]
    }
   ],
   "source": [
    "count = 1\n",
    "# count가 5보다 작거나, 5일 때 까지만 반복\n",
    "while count <=5:\n",
    "    # count를 출력\n",
    "    print(count)\n",
    "    # 출력하고 난 뒤에 1씩 카운트에 누적 덧셈\n",
    "    count+=1"
   ]
  },
  {
   "cell_type": "code",
   "execution_count": 62,
   "id": "bb6a3220",
   "metadata": {},
   "outputs": [
    {
     "name": "stdout",
     "output_type": "stream",
     "text": [
      "잔액 1000\n",
      "잔액 800\n",
      "잔액 600\n",
      "잔액 400\n",
      "잔액 200\n"
     ]
    }
   ],
   "source": [
    "pay = 1000\n",
    "\n",
    "while pay>0:\n",
    "    print('잔액', pay)\n",
    "    pay -= 200"
   ]
  },
  {
   "cell_type": "code",
   "execution_count": 63,
   "id": "13d71974",
   "metadata": {},
   "outputs": [],
   "source": [
    "fruits = ['apple', 'banana', 'cherry']"
   ]
  },
  {
   "cell_type": "code",
   "execution_count": 66,
   "id": "3c78f519",
   "metadata": {},
   "outputs": [
    {
     "data": {
      "text/plain": [
       "'cherry'"
      ]
     },
     "execution_count": 66,
     "metadata": {},
     "output_type": "execute_result"
    }
   ],
   "source": [
    "fruits[2]"
   ]
  },
  {
   "cell_type": "code",
   "execution_count": 64,
   "id": "e3d892d6",
   "metadata": {},
   "outputs": [
    {
     "name": "stdout",
     "output_type": "stream",
     "text": [
      "apple\n",
      "banana\n",
      "cherry\n"
     ]
    }
   ],
   "source": [
    "index = 0\n",
    "while index < len(fruits):\n",
    "    print(fruits[index])\n",
    "    index+=1"
   ]
  },
  {
   "cell_type": "code",
   "execution_count": 68,
   "id": "8dd50deb",
   "metadata": {},
   "outputs": [
    {
     "name": "stdout",
     "output_type": "stream",
     "text": [
      "현재 number 1, 현재 total 1\n",
      "현재 number 2, 현재 total 3\n",
      "현재 number 3, 현재 total 6\n",
      "현재 number 4, 현재 total 10\n",
      "현재 number 5, 현재 total 15\n",
      "현재 number 6, 현재 total 21\n",
      "현재 number 7, 현재 total 28\n",
      "현재 number 8, 현재 total 36\n",
      "현재 number 9, 현재 total 45\n",
      "현재 number 10, 현재 total 55\n",
      "1부터 10까지의 합,55\n"
     ]
    }
   ],
   "source": [
    "number = 1\n",
    "total = 0\n",
    "\n",
    "while number <=10:\n",
    "    total += number\n",
    "    print(f'현재 number {number}, 현재 total {total}')\n",
    "    number +=1\n",
    "\n",
    "print(f'1부터 10까지의 합,{total}')"
   ]
  },
  {
   "cell_type": "code",
   "execution_count": 2,
   "id": "03c409f8",
   "metadata": {},
   "outputs": [],
   "source": [
    "import random"
   ]
  },
  {
   "cell_type": "code",
   "execution_count": 3,
   "id": "1674fbd2",
   "metadata": {},
   "outputs": [
    {
     "name": "stdout",
     "output_type": "stream",
     "text": [
      "숫자가 작습니다. 다시 입력하세요.\n",
      "숫자가 작습니다. 다시 입력하세요.\n",
      "숫자가 큽니다. 다시 입력하세요.\n",
      "정답입니다!\n"
     ]
    }
   ],
   "source": [
    "target = random.randint(1, 20)\n",
    "guess = 0\n",
    "\n",
    "while guess != target:\n",
    "    guess = int(input('숫자를 입력하세요'))\n",
    "    if guess < target:\n",
    "        print('숫자가 작습니다. 다시 입력하세요.')\n",
    "    elif guess > target:\n",
    "        print('숫자가 큽니다. 다시 입력하세요.')\n",
    "    else:\n",
    "        print('정답입니다!')"
   ]
  },
  {
   "cell_type": "code",
   "execution_count": 75,
   "id": "f1eb5956",
   "metadata": {},
   "outputs": [
    {
     "data": {
      "text/plain": [
       "6"
      ]
     },
     "execution_count": 75,
     "metadata": {},
     "output_type": "execute_result"
    }
   ],
   "source": [
    "target"
   ]
  },
  {
   "cell_type": "code",
   "execution_count": 4,
   "id": "1f5d1c1f",
   "metadata": {},
   "outputs": [
    {
     "name": "stdout",
     "output_type": "stream",
     "text": [
      "2\n",
      "4\n",
      "6\n",
      "8\n",
      "10\n",
      "12\n",
      "14\n",
      "16\n",
      "18\n",
      "20\n"
     ]
    }
   ],
   "source": [
    "# Q1. 1부터 20까지의 숫자 중 짝수만 출력하는 프로그램을 작성해보세요\n",
    "num = 1\n",
    "while num <= 20:\n",
    "    if num % 2 == 0:\n",
    "        print(num)\n",
    "    num+=1"
   ]
  },
  {
   "cell_type": "code",
   "execution_count": 5,
   "id": "277ec947",
   "metadata": {},
   "outputs": [
    {
     "name": "stdout",
     "output_type": "stream",
     "text": [
      "환영합니다!\n"
     ]
    }
   ],
   "source": [
    "# Q2. 올바른 비밀번호인 correct를 입력할 때까지 입력을 요구하는 프로그램을 작성해보세요.\n",
    "correct = \"python123\"\n",
    "user = \"\"\n",
    "\n",
    "while user!=correct:\n",
    "    user = input('비밀번호를 입력하세요')\n",
    "print('환영합니다!')"
   ]
  },
  {
   "cell_type": "code",
   "execution_count": 6,
   "id": "c11c6e64",
   "metadata": {},
   "outputs": [
    {
     "name": "stdout",
     "output_type": "stream",
     "text": [
      "2부터 6까지의 합은 20\n"
     ]
    }
   ],
   "source": [
    "# Q3. 사용자가 입력한 두 숫자 사이의 모든 숫자의 합을 구하는 프로그램을 작성해보세요.\n",
    "start = int(input(\"시작 숫자를 입력하세요: \"))\n",
    "end = int(input(\"끝 숫자를 입력하세요: \"))\n",
    "\n",
    "total = 0\n",
    "current = start\n",
    "\n",
    "while current <= end:\n",
    "    total+=current\n",
    "    current+=1\n",
    "print(f'{start}부터 {end}까지의 합은 {total}')"
   ]
  },
  {
   "cell_type": "markdown",
   "id": "0c03aa39",
   "metadata": {},
   "source": [
    "### `break`, `continue`, `pass`"
   ]
  },
  {
   "cell_type": "markdown",
   "id": "ae35f4ca",
   "metadata": {},
   "source": [
    "- `break`는 반복문을 종료시키고, `continue`는 다음 반복으로 넘어가며, `pass`는 아무 작업도 하지 않음"
   ]
  },
  {
   "cell_type": "code",
   "execution_count": 7,
   "id": "d575dc0a",
   "metadata": {},
   "outputs": [
    {
     "name": "stdout",
     "output_type": "stream",
     "text": [
      "0\n",
      "1\n",
      "2\n",
      "3\n",
      "4\n"
     ]
    }
   ],
   "source": [
    "for i in range(10):\n",
    "    if i == 5:\n",
    "        break\n",
    "    print(i)"
   ]
  },
  {
   "cell_type": "code",
   "execution_count": 8,
   "id": "db8c44bd",
   "metadata": {},
   "outputs": [
    {
     "name": "stdout",
     "output_type": "stream",
     "text": [
      "단어 : banana\n",
      "단어 : orange\n",
      "단어 : grape\n",
      "apple을 찾았습니다!\n"
     ]
    }
   ],
   "source": [
    "words = ['banana', 'orange', 'grape', 'apple', 'mango']\n",
    "\n",
    "for word in words:\n",
    "    if word == 'apple':\n",
    "        print('apple을 찾았습니다!')\n",
    "        break\n",
    "    print(f'단어 : {word}')"
   ]
  },
  {
   "cell_type": "code",
   "execution_count": 9,
   "id": "370b0caa",
   "metadata": {},
   "outputs": [
    {
     "name": "stdout",
     "output_type": "stream",
     "text": [
      "0\n",
      "1\n",
      "3\n",
      "4\n"
     ]
    }
   ],
   "source": [
    "for i in range(5):\n",
    "    if i==2:\n",
    "        continue\n",
    "    print(i)"
   ]
  },
  {
   "cell_type": "code",
   "execution_count": 11,
   "id": "082f23cb",
   "metadata": {},
   "outputs": [
    {
     "name": "stdout",
     "output_type": "stream",
     "text": [
      "I hve  ct!"
     ]
    }
   ],
   "source": [
    "sentence = 'I have a cat!'\n",
    "\n",
    "for char in sentence:\n",
    "    if char=='a':\n",
    "        continue\n",
    "    print(char, end='')"
   ]
  },
  {
   "cell_type": "code",
   "execution_count": 14,
   "id": "b3bde3e7",
   "metadata": {},
   "outputs": [],
   "source": [
    "for i in range(5):\n",
    "    pass"
   ]
  },
  {
   "cell_type": "code",
   "execution_count": 15,
   "id": "60dd424c",
   "metadata": {},
   "outputs": [
    {
     "name": "stdout",
     "output_type": "stream",
     "text": [
      "1\n",
      "3\n",
      "5\n"
     ]
    }
   ],
   "source": [
    "numbers = [1, 2, 3, 4, 5]\n",
    "for number in numbers:\n",
    "    if number % 2 == 0:\n",
    "        pass\n",
    "    else:\n",
    "        print(number)"
   ]
  },
  {
   "cell_type": "markdown",
   "id": "a761ef36",
   "metadata": {},
   "source": [
    "### 무한루프 탈출하기"
   ]
  },
  {
   "cell_type": "code",
   "execution_count": 16,
   "id": "3c55b77c",
   "metadata": {},
   "outputs": [
    {
     "name": "stdout",
     "output_type": "stream",
     "text": [
      "입력하신 값은 ㅣㅍㅇ'ㄴ입니다.\n",
      "입력하신 값은 sf입니다.\n",
      "입력하신 값은 sglkne입니다.\n",
      "입력하신 값은 ewlnd입니다.\n",
      "입력하신 값은 gdlkns입니다.\n",
      "프로그램을 종료합니다.\n"
     ]
    }
   ],
   "source": [
    "while True:\n",
    "    user_input = input('종료하려면 \"exit\"를 입력하세요')\n",
    "    if user_input == 'exit':\n",
    "        print('프로그램을 종료합니다.')\n",
    "        break\n",
    "    print(f'입력하신 값은 {user_input}입니다.')"
   ]
  },
  {
   "cell_type": "markdown",
   "id": "765423ab",
   "metadata": {},
   "source": [
    "#### while문을 for문으로 변환하기\n",
    "\n",
    "while 문은 특정 `조건이 참인 동안 반복`되므로, 이를 for 문으로 변환할 때는 `범위와 종료 조건을 명확히 정의`해야함  \n",
    "while 문은 더 유연하지만, 명확한 반복 횟수가 있을 때는 for 문으로 쉽게 변환할 수 있음"
   ]
  },
  {
   "cell_type": "code",
   "execution_count": 17,
   "id": "41fd85c3",
   "metadata": {},
   "outputs": [],
   "source": [
    "count = 0"
   ]
  },
  {
   "cell_type": "code",
   "execution_count": 18,
   "id": "ba4cf72b",
   "metadata": {},
   "outputs": [
    {
     "name": "stdout",
     "output_type": "stream",
     "text": [
      "0\n",
      "1\n",
      "2\n",
      "3\n",
      "4\n"
     ]
    }
   ],
   "source": [
    "while count < 5:\n",
    "    print(count)\n",
    "    count+=1"
   ]
  },
  {
   "cell_type": "code",
   "execution_count": 19,
   "id": "4ab008f2",
   "metadata": {},
   "outputs": [
    {
     "name": "stdout",
     "output_type": "stream",
     "text": [
      "0\n",
      "1\n",
      "2\n",
      "3\n",
      "4\n"
     ]
    }
   ],
   "source": [
    "for count in range(5):\n",
    "    print(count)"
   ]
  },
  {
   "cell_type": "code",
   "execution_count": 20,
   "id": "352fc8dc",
   "metadata": {},
   "outputs": [
    {
     "name": "stdout",
     "output_type": "stream",
     "text": [
      "apple\n",
      "banana\n",
      "cherry\n"
     ]
    }
   ],
   "source": [
    "fruits = ['apple', 'banana', 'cherry']\n",
    "\n",
    "for fruit in fruits:\n",
    "    print(fruit)"
   ]
  },
  {
   "cell_type": "code",
   "execution_count": 21,
   "id": "866b73b0",
   "metadata": {},
   "outputs": [
    {
     "name": "stdout",
     "output_type": "stream",
     "text": [
      "apple\n",
      "banana\n",
      "cherry\n"
     ]
    }
   ],
   "source": [
    "index = 0\n",
    "while index < len(fruits):\n",
    "    print(fruits[index])\n",
    "    index +=1"
   ]
  },
  {
   "cell_type": "code",
   "execution_count": 22,
   "id": "9f7fcddf",
   "metadata": {},
   "outputs": [
    {
     "name": "stdout",
     "output_type": "stream",
     "text": [
      "합계 : 55\n"
     ]
    }
   ],
   "source": [
    "num = 1\n",
    "total = 0\n",
    "\n",
    "while num <=10:\n",
    "    total+=num\n",
    "    num+=1\n",
    "# (1번 반복) num이 1일때부터 시작해서, total에 1이 더해지고 num이 2가 됨\n",
    "# (2번 반복) num이 2가 되어서, total에 2를 더해 3이 되고, num이 3이됨\n",
    "print(f'합계 : {total}')"
   ]
  },
  {
   "cell_type": "code",
   "execution_count": 23,
   "id": "6ebf1797",
   "metadata": {},
   "outputs": [
    {
     "name": "stdout",
     "output_type": "stream",
     "text": [
      "합계 :55\n"
     ]
    }
   ],
   "source": [
    "total = 0\n",
    "\n",
    "for num in range(1, 11):\n",
    "    total += num\n",
    "print(f'합계 :{total}')"
   ]
  },
  {
   "cell_type": "code",
   "execution_count": 24,
   "id": "b71c0f74",
   "metadata": {},
   "outputs": [
    {
     "name": "stdout",
     "output_type": "stream",
     "text": [
      "1\n",
      "3\n",
      "5\n",
      "7\n",
      "9\n"
     ]
    }
   ],
   "source": [
    "num = 1\n",
    "\n",
    "while num <= 10:\n",
    "    if num % 2 != 0:\n",
    "        print(num)\n",
    "    num+=1\n",
    "\n",
    "# (1번 반복) num이 1이여서 2로 나눴을 때 나머지가 1이 됨. 그래서 조건에 부합하니까 print됨 / num에 1 추가되어 2가됨\n",
    "# (2번 반복) num이 2여서 2로 나눴을 때 나머지가 0이 됨. 그래서 false이기때문에 print되지 않음 / num에 1 추가되어 3이 됨"
   ]
  },
  {
   "cell_type": "code",
   "execution_count": 25,
   "id": "a27ec99f",
   "metadata": {},
   "outputs": [
    {
     "name": "stdout",
     "output_type": "stream",
     "text": [
      "1\n",
      "3\n",
      "5\n",
      "7\n",
      "9\n"
     ]
    }
   ],
   "source": [
    "for i in range(1, 11):\n",
    "    if i % 2 != 0:\n",
    "        print(i)"
   ]
  },
  {
   "cell_type": "code",
   "execution_count": 28,
   "id": "6d1f331a",
   "metadata": {},
   "outputs": [
    {
     "name": "stdout",
     "output_type": "stream",
     "text": [
      "1 \n",
      "1 2 \n",
      "1 2 3 \n",
      "1 2 3 4 \n",
      "1 2 3 4 5 \n"
     ]
    }
   ],
   "source": [
    "# Q1. 아래 for문을 while문으로 변환해보세요.\n",
    "\n",
    "height = 5 \n",
    "\n",
    "for i in range(1, height + 1):\n",
    "    # i가 1일 때 j -> range(1, 2) -> 1\n",
    "    # i가 2일 때 j -> range(1, 3) -> 1, 2\n",
    "    # i가 3일 때 j -> range(1, 4) -> 1, 2, 3\n",
    "    for j in range(1, i + 1):\n",
    "        print(j, end=\" \")\n",
    "    print()"
   ]
  },
  {
   "cell_type": "code",
   "execution_count": 29,
   "id": "62c2255d",
   "metadata": {},
   "outputs": [
    {
     "name": "stdout",
     "output_type": "stream",
     "text": [
      "1 \n",
      "1 2 \n",
      "1 2 3 \n",
      "1 2 3 4 \n",
      "1 2 3 4 5 \n"
     ]
    }
   ],
   "source": [
    "height = 5\n",
    "i = 1\n",
    "while i <= height:\n",
    "    # i가 height와 같아질 때 까지 반복 (1, 2, 3, 4, 5)\n",
    "    j = 1\n",
    "    while j <= i:\n",
    "        # j가 i와 같아질 때까지 j를 프린트\n",
    "        # i가 1일때 j가 1과 같기떄문에 처음엔 1만 출력\n",
    "        # i가 2일 떄, j가 2까지 출력\n",
    "        # i가 3일 때, j가 3까지 출력\n",
    "        print(j, end=\" \")\n",
    "        j +=1\n",
    "    print()\n",
    "    i+=1"
   ]
  },
  {
   "cell_type": "code",
   "execution_count": 30,
   "id": "c2c6f273",
   "metadata": {},
   "outputs": [
    {
     "name": "stdout",
     "output_type": "stream",
     "text": [
      "0\n",
      "1\n",
      "p 문자는 2번 등장합니다.\n"
     ]
    }
   ],
   "source": [
    "# Q2. 아래 for문을 while문으로 바꿔보세요\n",
    "\n",
    "text = \"apple\"\n",
    "search_char = \"p\"\n",
    "count = 0\n",
    "\n",
    "for char in text:\n",
    "    # char : a, p, p, l, e\n",
    "    if char == search_char:\n",
    "        print(count)\n",
    "        count += 1\n",
    "\n",
    "print(f\"{search_char} 문자는 {count}번 등장합니다.\")\n"
   ]
  },
  {
   "cell_type": "code",
   "execution_count": 31,
   "id": "f0b7cc39",
   "metadata": {},
   "outputs": [
    {
     "data": {
      "text/plain": [
       "5"
      ]
     },
     "execution_count": 31,
     "metadata": {},
     "output_type": "execute_result"
    }
   ],
   "source": [
    "len(text)"
   ]
  },
  {
   "cell_type": "code",
   "execution_count": 33,
   "id": "97ca4fd9",
   "metadata": {},
   "outputs": [
    {
     "data": {
      "text/plain": [
       "'e'"
      ]
     },
     "execution_count": 33,
     "metadata": {},
     "output_type": "execute_result"
    }
   ],
   "source": [
    "text[4]"
   ]
  },
  {
   "cell_type": "code",
   "execution_count": 34,
   "id": "aa29a440",
   "metadata": {},
   "outputs": [
    {
     "name": "stdout",
     "output_type": "stream",
     "text": [
      "p는 2번 등장합니다.\n"
     ]
    }
   ],
   "source": [
    "text = \"apple\"\n",
    "search_char = \"p\"\n",
    "count = 0\n",
    "index = 0\n",
    "\n",
    "while index < len(text):\n",
    "    if text[index] == search_char:\n",
    "        # 1번째 반복 : index가 0이에요 초기화해서\n",
    "        # text[0] = 'a'\n",
    "        # a는 search_char와 같지 않기때문ㅇㅔ pass\n",
    "        # 2번째 반복 : index = 1\n",
    "        # text[1] ='p', search_char와 같아서 count+=1이 됩니다\n",
    "        count+=1\n",
    "    else:\n",
    "        pass\n",
    "    index += 1\n",
    "\n",
    "print(f'{search_char}는 {count}번 등장합니다.')"
   ]
  },
  {
   "cell_type": "markdown",
   "id": "3a1b306f",
   "metadata": {},
   "source": [
    "\n",
    "## 🌼마무리 문제\n",
    "\n",
    "아래 문제들을 풀어보세요!\n",
    "\n",
    "Q1. 사용자로부터 숫자를 입력받아, 그 숫자가 양수인지 음수인지 판별하세요."
   ]
  },
  {
   "cell_type": "code",
   "execution_count": null,
   "id": "70d69702",
   "metadata": {},
   "outputs": [],
   "source": []
  },
  {
   "cell_type": "markdown",
   "id": "a8d04e63",
   "metadata": {},
   "source": [
    "Q2. 1부터 100사이의 숫자를 맞추는 게임을 만들어보세요. 컴퓨터가 랜덤으로 숫자를 선택하고, 사용자가 숫자를 입력하면 더 큰지 작은지 알려주고 사용자가 맞출 때까지 반복하세요."
   ]
  },
  {
   "cell_type": "code",
   "execution_count": null,
   "id": "528a46b6",
   "metadata": {},
   "outputs": [],
   "source": []
  },
  {
   "cell_type": "markdown",
   "id": "707a4232",
   "metadata": {},
   "source": [
    "Q3. 숫자를 입력받아 그 숫자의 팩토리얼을 계산하는 프로그램을 작성하세요. 계산 과정을 출력하세요."
   ]
  },
  {
   "cell_type": "code",
   "execution_count": null,
   "id": "09a8d8b1",
   "metadata": {},
   "outputs": [],
   "source": []
  }
 ],
 "metadata": {
  "kernelspec": {
   "display_name": "test_env",
   "language": "python",
   "name": "python3"
  },
  "language_info": {
   "codemirror_mode": {
    "name": "ipython",
    "version": 3
   },
   "file_extension": ".py",
   "mimetype": "text/x-python",
   "name": "python",
   "nbconvert_exporter": "python",
   "pygments_lexer": "ipython3",
   "version": "3.9.20"
  }
 },
 "nbformat": 4,
 "nbformat_minor": 5
}
