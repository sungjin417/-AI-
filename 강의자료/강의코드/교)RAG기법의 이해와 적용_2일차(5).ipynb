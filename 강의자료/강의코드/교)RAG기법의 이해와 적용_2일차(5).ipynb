{
 "cells": [
  {
   "cell_type": "markdown",
   "metadata": {},
   "source": [
    "\n",
    "# 🌼 RAG기법의 이해와 적용(3) - 2차시(24.11.29)\n",
    "\n",
    "---"
   ]
  },
  {
   "cell_type": "code",
   "execution_count": 1,
   "metadata": {},
   "outputs": [
    {
     "data": {
      "text/plain": [
       "True"
      ]
     },
     "execution_count": 1,
     "metadata": {},
     "output_type": "execute_result"
    }
   ],
   "source": [
    "from dotenv import load_dotenv\n",
    "\n",
    "load_dotenv()"
   ]
  },
  {
   "cell_type": "code",
   "execution_count": 2,
   "metadata": {},
   "outputs": [
    {
     "name": "stdout",
     "output_type": "stream",
     "text": [
      "LangSmith 추적을 시작합니다.\n",
      "[프로젝트명]\n",
      "CLASS\n"
     ]
    }
   ],
   "source": [
    "from langchain_teddynote import logging\n",
    "logging.langsmith('CLASS')"
   ]
  },
  {
   "cell_type": "code",
   "execution_count": 3,
   "metadata": {},
   "outputs": [],
   "source": [
    "from langchain_openai import ChatOpenAI\n",
    "from langchain_core.prompts import PromptTemplate"
   ]
  },
  {
   "cell_type": "code",
   "execution_count": 4,
   "metadata": {},
   "outputs": [],
   "source": [
    "llm = ChatOpenAI(model_name = 'gpt-4o')"
   ]
  },
  {
   "cell_type": "code",
   "execution_count": 5,
   "metadata": {},
   "outputs": [],
   "source": [
    "prompt = PromptTemplate.from_template('{country}에 대해 300자 내외로 요약해서 설명해줘')"
   ]
  },
  {
   "cell_type": "code",
   "execution_count": 6,
   "metadata": {},
   "outputs": [],
   "source": [
    "chain = prompt | llm"
   ]
  },
  {
   "cell_type": "code",
   "execution_count": 7,
   "metadata": {},
   "outputs": [
    {
     "name": "stdout",
     "output_type": "stream",
     "text": [
      "한국은 동아시아에 위치한 반도 국가로, 공식적으로는 대한민국이라고 불립니다. 한반도의 남쪽에 자리하며, 수도는 서울입니다. 한국은 급속한 경제 발전으로 잘 알려져 있으며, 기술과 문화 분야에서 세계적으로 영향력을 미치고 있습니다. 특히 K-팝, 드라마, 영화 등 한류 문화가 글로벌 인기를 끌고 있습니다. 정치 체제로는 민주공화제를 채택하고 있으며, 삼권분립에 기반한 정부 구조를 가지고 있습니다. 한국은 또한 풍부한 역사와 전통을 지니고 있으며, 한글이라는 독창적인 문자를 사용합니다.\n",
      "CPU times: total: 141 ms\n",
      "Wall time: 3.14 s\n"
     ]
    }
   ],
   "source": [
    "%%time\n",
    "response = chain.invoke({'country' : '한국'})\n",
    "print(response.content)"
   ]
  },
  {
   "cell_type": "code",
   "execution_count": 14,
   "metadata": {},
   "outputs": [],
   "source": [
    "from langchain.globals import set_llm_cache\n",
    "from langchain.cache import InMemoryCache\n",
    "set_llm_cache(InMemoryCache())\n",
    "# 이미 처리된 요청과 응답 데이터를 메모리에 저장 -> 동일한 요청이 들어오면 결과를 재사용"
   ]
  },
  {
   "cell_type": "code",
   "execution_count": 16,
   "metadata": {},
   "outputs": [
    {
     "name": "stdout",
     "output_type": "stream",
     "text": [
      "한국은 동아시아에 위치한 반도 국가로, 공식 명칭은 대한민국입니다. 서쪽으로는 중국, 동쪽으로는 일본, 북쪽으로는 북한과 접하고 있습니다. 한국은 20세기 중반 한국 전쟁 이후 급속한 경제 성장을 이루어 '한강의 기적'으로 불리며, 현재는 세계적인 기술 강국입니다. 한국 문화는 K-pop, 드라마, 영화 등을 통해 세계적으로 큰 인기를 얻고 있습니다. 민주주의 체제를 갖춘 나라로, 서울이 수도입니다. 한국은 또한 풍부한 역사와 전통을 자랑하며, 한글이라는 독창적인 문자를 사용합니다.\n",
      "CPU times: total: 0 ns\n",
      "Wall time: 3.92 ms\n"
     ]
    }
   ],
   "source": [
    "%%time\n",
    "response = chain.invoke({'country' : '한국'})\n",
    "print(response.content)"
   ]
  },
  {
   "cell_type": "code",
   "execution_count": 17,
   "metadata": {},
   "outputs": [],
   "source": [
    "from langchain_community.cache import SQLiteCache\n",
    "from langchain_core.globals import set_llm_cache\n",
    "import os"
   ]
  },
  {
   "cell_type": "code",
   "execution_count": 18,
   "metadata": {},
   "outputs": [],
   "source": [
    "if not os.path.exists('cache'):\n",
    "    os.makedirs('cache')"
   ]
  },
  {
   "cell_type": "code",
   "execution_count": 19,
   "metadata": {},
   "outputs": [],
   "source": [
    "set_llm_cache(SQLiteCache(database_path = 'cache/llm_cache.db'))"
   ]
  },
  {
   "cell_type": "code",
   "execution_count": 21,
   "metadata": {},
   "outputs": [
    {
     "name": "stdout",
     "output_type": "stream",
     "text": [
      "캐나다는 북아메리카 대륙의 북부에 위치한 나라로, 면적은 세계에서 두 번째로 넓습니다. 수도는 오타와이며, 주요 도시로는 토론토, 밴쿠버, 몬트리올 등이 있습니다. 영어와 프랑스어가 공용어로 사용되며, 다양한 문화와 다민족 사회가 특징입니다. 자연환경이 풍부해 로키산맥, 나이아가라 폭포 등 관광 명소가 많습니다. 경제는 자원 기반 산업과 첨단 기술이 발달해 있으며, 의료와 교육 시스템이 우수한 편입니다.\n",
      "CPU times: total: 62.5 ms\n",
      "Wall time: 2.73 s\n"
     ]
    }
   ],
   "source": [
    "%%time\n",
    "response = chain.invoke({'country' : '캐나다'})\n",
    "print(response.content)"
   ]
  },
  {
   "cell_type": "code",
   "execution_count": 29,
   "metadata": {},
   "outputs": [
    {
     "name": "stdout",
     "output_type": "stream",
     "text": [
      "영국은 서유럽에 위치한 섬나라로, 잉글랜드, 스코틀랜드, 웨일스, 북아일랜드로 구성된 연합 왕국이다. 런던은 수도이자 문화와 경제의 중심지다. 영국은 입헌군주제와 의회 민주주의를 채택하고 있으며, 찰스 3세가 현재 군주이다. 산업혁명의 발상지로, 세계사에 큰 영향을 미쳤다. 유럽연합에서 탈퇴한 후 독자적인 외교 및 경제 정책을 펼치고 있다. 영어가 공용어이며, 다채로운 문화유산과 역사적 명소가 많다.\n",
      "CPU times: total: 62.5 ms\n",
      "Wall time: 5.83 s\n"
     ]
    }
   ],
   "source": [
    "%%time\n",
    "response = chain.invoke({'country' : '영국'})\n",
    "print(response.content)"
   ]
  },
  {
   "cell_type": "code",
   "execution_count": 23,
   "metadata": {},
   "outputs": [],
   "source": [
    "import sqlite3"
   ]
  },
  {
   "cell_type": "code",
   "execution_count": 24,
   "metadata": {},
   "outputs": [],
   "source": [
    "db_path = 'cache/llm_cache.db'\n",
    "conn = sqlite3.connect(db_path)\n",
    "cursor = conn.cursor()"
   ]
  },
  {
   "cell_type": "code",
   "execution_count": 25,
   "metadata": {},
   "outputs": [
    {
     "name": "stdout",
     "output_type": "stream",
     "text": [
      "Tables [('full_llm_cache',), ('full_md5_llm_cache',)]\n"
     ]
    }
   ],
   "source": [
    "cursor.execute(\"SELECT name FROM sqlite_master WHERE type='table';\")\n",
    "tables = cursor.fetchall()\n",
    "print('Tables', tables)"
   ]
  },
  {
   "cell_type": "code",
   "execution_count": 30,
   "metadata": {},
   "outputs": [
    {
     "name": "stdout",
     "output_type": "stream",
     "text": [
      "\n",
      "cache contents:\n",
      "('[{\"lc\": 1, \"type\": \"constructor\", \"id\": [\"langchain\", \"schema\", \"messages\", \"HumanMessage\"], \"kwargs\": {\"content\": \"\\\\uce90\\\\ub098\\\\ub2e4 \\\\uc5d0 \\\\ub300\\\\ud574\\\\uc11c 200\\\\uc790 \\\\ub0b4\\\\uc678\\\\ub85c \\\\uc694\\\\uc57d\\\\ud574\\\\uc918\", \"type\": \"human\"}}]', '{\"id\": [\"langchain\", \"chat_models\", \"openai\", \"ChatOpenAI\"], \"kwargs\": {\"max_retries\": 2, \"model_name\": \"gpt-4o\", \"n\": 1, \"openai_api_key\": {\"id\": [\"OPENAI_API_KEY\"], \"lc\": 1, \"type\": \"secret\"}, \"temperature\": 0.7}, \"lc\": 1, \"name\": \"ChatOpenAI\", \"type\": \"constructor\"}---[(\\'stop\\', None)]', 0, '{\"lc\": 1, \"type\": \"constructor\", \"id\": [\"langchain\", \"schema\", \"output\", \"ChatGeneration\"], \"kwargs\": {\"text\": \"\\\\uce90\\\\ub098\\\\ub2e4\\\\ub294 \\\\ubd81\\\\uc544\\\\uba54\\\\ub9ac\\\\uce74 \\\\ub300\\\\ub959\\\\uc758 \\\\ubd81\\\\ubd80\\\\uc5d0 \\\\uc704\\\\uce58\\\\ud55c \\\\ub098\\\\ub77c\\\\ub85c, \\\\uc138\\\\uacc4\\\\uc5d0\\\\uc11c \\\\ub450 \\\\ubc88\\\\uc9f8\\\\ub85c \\\\ub113\\\\uc740 \\\\uba74\\\\uc801\\\\uc744 \\\\uc790\\\\ub791\\\\ud569\\\\ub2c8\\\\ub2e4. \\\\uc218\\\\ub3c4\\\\ub294 \\\\uc624\\\\ud0c0\\\\uc640\\\\uc774\\\\uba70, \\\\uc601\\\\uc5b4\\\\uc640 \\\\ud504\\\\ub791\\\\uc2a4\\\\uc5b4\\\\ub97c \\\\uacf5\\\\uc6a9\\\\uc5b4\\\\ub85c \\\\uc0ac\\\\uc6a9\\\\ud569\\\\ub2c8\\\\ub2e4. \\\\ub2e4\\\\uc591\\\\ud55c \\\\ubb38\\\\ud654\\\\uc640 \\\\uc790\\\\uc5f0\\\\uacbd\\\\uad00, \\\\ub192\\\\uc740 \\\\uc0b6\\\\uc758 \\\\uc9c8\\\\ub85c \\\\uc720\\\\uba85\\\\ud558\\\\uba70, \\\\uc815\\\\uce58\\\\uc801\\\\uc73c\\\\ub85c\\\\ub294 \\\\uc785\\\\ud5cc\\\\uad70\\\\uc8fc\\\\uc81c\\\\uc640 \\\\uc758\\\\ud68c\\\\ubbfc\\\\uc8fc\\\\uc8fc\\\\uc758\\\\ub97c \\\\ucc44\\\\ud0dd\\\\ud558\\\\uace0 \\\\uc788\\\\uc2b5\\\\ub2c8\\\\ub2e4. \\\\uacbd\\\\uc81c\\\\ub294 \\\\uc790\\\\uc6d0 \\\\uac1c\\\\ubc1c, \\\\uc81c\\\\uc870\\\\uc5c5, \\\\uc11c\\\\ube44\\\\uc2a4\\\\uc5c5\\\\uc774 \\\\uc911\\\\uc2ec\\\\uc774\\\\uba70, \\\\ud48d\\\\ubd80\\\\ud55c \\\\ucc9c\\\\uc5f0\\\\uc790\\\\uc6d0\\\\uc744 \\\\ubc14\\\\ud0d5\\\\uc73c\\\\ub85c \\\\uc548\\\\uc815\\\\uc801\\\\uc778 \\\\uacbd\\\\uc81c \\\\uc131\\\\uc7a5\\\\uc744 \\\\uc774\\\\ub8e8\\\\uace0 \\\\uc788\\\\uc2b5\\\\ub2c8\\\\ub2e4.\", \"generation_info\": {\"finish_reason\": \"stop\", \"logprobs\": null}, \"type\": \"ChatGeneration\", \"message\": {\"lc\": 1, \"type\": \"constructor\", \"id\": [\"langchain\", \"schema\", \"messages\", \"AIMessage\"], \"kwargs\": {\"content\": \"\\\\uce90\\\\ub098\\\\ub2e4\\\\ub294 \\\\ubd81\\\\uc544\\\\uba54\\\\ub9ac\\\\uce74 \\\\ub300\\\\ub959\\\\uc758 \\\\ubd81\\\\ubd80\\\\uc5d0 \\\\uc704\\\\uce58\\\\ud55c \\\\ub098\\\\ub77c\\\\ub85c, \\\\uc138\\\\uacc4\\\\uc5d0\\\\uc11c \\\\ub450 \\\\ubc88\\\\uc9f8\\\\ub85c \\\\ub113\\\\uc740 \\\\uba74\\\\uc801\\\\uc744 \\\\uc790\\\\ub791\\\\ud569\\\\ub2c8\\\\ub2e4. \\\\uc218\\\\ub3c4\\\\ub294 \\\\uc624\\\\ud0c0\\\\uc640\\\\uc774\\\\uba70, \\\\uc601\\\\uc5b4\\\\uc640 \\\\ud504\\\\ub791\\\\uc2a4\\\\uc5b4\\\\ub97c \\\\uacf5\\\\uc6a9\\\\uc5b4\\\\ub85c \\\\uc0ac\\\\uc6a9\\\\ud569\\\\ub2c8\\\\ub2e4. \\\\ub2e4\\\\uc591\\\\ud55c \\\\ubb38\\\\ud654\\\\uc640 \\\\uc790\\\\uc5f0\\\\uacbd\\\\uad00, \\\\ub192\\\\uc740 \\\\uc0b6\\\\uc758 \\\\uc9c8\\\\ub85c \\\\uc720\\\\uba85\\\\ud558\\\\uba70, \\\\uc815\\\\uce58\\\\uc801\\\\uc73c\\\\ub85c\\\\ub294 \\\\uc785\\\\ud5cc\\\\uad70\\\\uc8fc\\\\uc81c\\\\uc640 \\\\uc758\\\\ud68c\\\\ubbfc\\\\uc8fc\\\\uc8fc\\\\uc758\\\\ub97c \\\\ucc44\\\\ud0dd\\\\ud558\\\\uace0 \\\\uc788\\\\uc2b5\\\\ub2c8\\\\ub2e4. \\\\uacbd\\\\uc81c\\\\ub294 \\\\uc790\\\\uc6d0 \\\\uac1c\\\\ubc1c, \\\\uc81c\\\\uc870\\\\uc5c5, \\\\uc11c\\\\ube44\\\\uc2a4\\\\uc5c5\\\\uc774 \\\\uc911\\\\uc2ec\\\\uc774\\\\uba70, \\\\ud48d\\\\ubd80\\\\ud55c \\\\ucc9c\\\\uc5f0\\\\uc790\\\\uc6d0\\\\uc744 \\\\ubc14\\\\ud0d5\\\\uc73c\\\\ub85c \\\\uc548\\\\uc815\\\\uc801\\\\uc778 \\\\uacbd\\\\uc81c \\\\uc131\\\\uc7a5\\\\uc744 \\\\uc774\\\\ub8e8\\\\uace0 \\\\uc788\\\\uc2b5\\\\ub2c8\\\\ub2e4.\", \"additional_kwargs\": {\"refusal\": null}, \"response_metadata\": {\"token_usage\": {\"completion_tokens\": 125, \"prompt_tokens\": 21, \"total_tokens\": 146, \"completion_tokens_details\": {\"accepted_prediction_tokens\": 0, \"audio_tokens\": 0, \"reasoning_tokens\": 0, \"rejected_prediction_tokens\": 0}, \"prompt_tokens_details\": {\"audio_tokens\": 0, \"cached_tokens\": 0}}, \"model_name\": \"gpt-4o-2024-08-06\", \"system_fingerprint\": \"fp_831e067d82\", \"finish_reason\": \"stop\", \"logprobs\": null}, \"type\": \"ai\", \"id\": \"run-36f3ac3a-29e4-459a-8791-985171398621-0\", \"usage_metadata\": {\"input_tokens\": 21, \"output_tokens\": 125, \"total_tokens\": 146, \"input_token_details\": {\"audio\": 0, \"cache_read\": 0}, \"output_token_details\": {\"audio\": 0, \"reasoning\": 0}}, \"tool_calls\": [], \"invalid_tool_calls\": []}}}}')\n",
      "('[{\"lc\": 1, \"type\": \"constructor\", \"id\": [\"langchain\", \"schema\", \"messages\", \"HumanMessage\"], \"kwargs\": {\"content\": \"\\\\uce90\\\\ub098\\\\ub2e4\\\\uc5d0 \\\\ub300\\\\ud574 300\\\\uc790 \\\\ub0b4\\\\uc678\\\\ub85c \\\\uc694\\\\uc57d\\\\ud574\\\\uc11c \\\\uc124\\\\uba85\\\\ud574\\\\uc918\", \"type\": \"human\"}}]', '{\"id\": [\"langchain\", \"chat_models\", \"openai\", \"ChatOpenAI\"], \"kwargs\": {\"max_retries\": 2, \"model_name\": \"gpt-4o\", \"n\": 1, \"openai_api_key\": {\"id\": [\"OPENAI_API_KEY\"], \"lc\": 1, \"type\": \"secret\"}, \"temperature\": 0.7}, \"lc\": 1, \"name\": \"ChatOpenAI\", \"type\": \"constructor\"}---[(\\'stop\\', None)]', 0, '{\"lc\": 1, \"type\": \"constructor\", \"id\": [\"langchain\", \"schema\", \"output\", \"ChatGeneration\"], \"kwargs\": {\"text\": \"\\\\uce90\\\\ub098\\\\ub2e4\\\\ub294 \\\\ubd81\\\\uc544\\\\uba54\\\\ub9ac\\\\uce74 \\\\ub300\\\\ub959\\\\uc758 \\\\ubd81\\\\ubd80\\\\uc5d0 \\\\uc704\\\\uce58\\\\ud55c \\\\ub098\\\\ub77c\\\\ub85c, \\\\uba74\\\\uc801\\\\uc740 \\\\uc138\\\\uacc4\\\\uc5d0\\\\uc11c \\\\ub450 \\\\ubc88\\\\uc9f8\\\\ub85c \\\\ub113\\\\uc2b5\\\\ub2c8\\\\ub2e4. \\\\uc218\\\\ub3c4\\\\ub294 \\\\uc624\\\\ud0c0\\\\uc640\\\\uc774\\\\uba70, \\\\uc8fc\\\\uc694 \\\\ub3c4\\\\uc2dc\\\\ub85c\\\\ub294 \\\\ud1a0\\\\ub860\\\\ud1a0, \\\\ubc34\\\\ucfe0\\\\ubc84, \\\\ubaac\\\\ud2b8\\\\ub9ac\\\\uc62c \\\\ub4f1\\\\uc774 \\\\uc788\\\\uc2b5\\\\ub2c8\\\\ub2e4. \\\\uc601\\\\uc5b4\\\\uc640 \\\\ud504\\\\ub791\\\\uc2a4\\\\uc5b4\\\\uac00 \\\\uacf5\\\\uc6a9\\\\uc5b4\\\\ub85c \\\\uc0ac\\\\uc6a9\\\\ub418\\\\uba70, \\\\ub2e4\\\\uc591\\\\ud55c \\\\ubb38\\\\ud654\\\\uc640 \\\\ub2e4\\\\ubbfc\\\\uc871 \\\\uc0ac\\\\ud68c\\\\uac00 \\\\ud2b9\\\\uc9d5\\\\uc785\\\\ub2c8\\\\ub2e4. \\\\uc790\\\\uc5f0\\\\ud658\\\\uacbd\\\\uc774 \\\\ud48d\\\\ubd80\\\\ud574 \\\\ub85c\\\\ud0a4\\\\uc0b0\\\\ub9e5, \\\\ub098\\\\uc774\\\\uc544\\\\uac00\\\\ub77c \\\\ud3ed\\\\ud3ec \\\\ub4f1 \\\\uad00\\\\uad11 \\\\uba85\\\\uc18c\\\\uac00 \\\\ub9ce\\\\uc2b5\\\\ub2c8\\\\ub2e4. \\\\uacbd\\\\uc81c\\\\ub294 \\\\uc790\\\\uc6d0 \\\\uae30\\\\ubc18 \\\\uc0b0\\\\uc5c5\\\\uacfc \\\\ucca8\\\\ub2e8 \\\\uae30\\\\uc220\\\\uc774 \\\\ubc1c\\\\ub2ec\\\\ud574 \\\\uc788\\\\uc73c\\\\uba70, \\\\uc758\\\\ub8cc\\\\uc640 \\\\uad50\\\\uc721 \\\\uc2dc\\\\uc2a4\\\\ud15c\\\\uc774 \\\\uc6b0\\\\uc218\\\\ud55c \\\\ud3b8\\\\uc785\\\\ub2c8\\\\ub2e4.\", \"generation_info\": {\"finish_reason\": \"stop\", \"logprobs\": null}, \"type\": \"ChatGeneration\", \"message\": {\"lc\": 1, \"type\": \"constructor\", \"id\": [\"langchain\", \"schema\", \"messages\", \"AIMessage\"], \"kwargs\": {\"content\": \"\\\\uce90\\\\ub098\\\\ub2e4\\\\ub294 \\\\ubd81\\\\uc544\\\\uba54\\\\ub9ac\\\\uce74 \\\\ub300\\\\ub959\\\\uc758 \\\\ubd81\\\\ubd80\\\\uc5d0 \\\\uc704\\\\uce58\\\\ud55c \\\\ub098\\\\ub77c\\\\ub85c, \\\\uba74\\\\uc801\\\\uc740 \\\\uc138\\\\uacc4\\\\uc5d0\\\\uc11c \\\\ub450 \\\\ubc88\\\\uc9f8\\\\ub85c \\\\ub113\\\\uc2b5\\\\ub2c8\\\\ub2e4. \\\\uc218\\\\ub3c4\\\\ub294 \\\\uc624\\\\ud0c0\\\\uc640\\\\uc774\\\\uba70, \\\\uc8fc\\\\uc694 \\\\ub3c4\\\\uc2dc\\\\ub85c\\\\ub294 \\\\ud1a0\\\\ub860\\\\ud1a0, \\\\ubc34\\\\ucfe0\\\\ubc84, \\\\ubaac\\\\ud2b8\\\\ub9ac\\\\uc62c \\\\ub4f1\\\\uc774 \\\\uc788\\\\uc2b5\\\\ub2c8\\\\ub2e4. \\\\uc601\\\\uc5b4\\\\uc640 \\\\ud504\\\\ub791\\\\uc2a4\\\\uc5b4\\\\uac00 \\\\uacf5\\\\uc6a9\\\\uc5b4\\\\ub85c \\\\uc0ac\\\\uc6a9\\\\ub418\\\\uba70, \\\\ub2e4\\\\uc591\\\\ud55c \\\\ubb38\\\\ud654\\\\uc640 \\\\ub2e4\\\\ubbfc\\\\uc871 \\\\uc0ac\\\\ud68c\\\\uac00 \\\\ud2b9\\\\uc9d5\\\\uc785\\\\ub2c8\\\\ub2e4. \\\\uc790\\\\uc5f0\\\\ud658\\\\uacbd\\\\uc774 \\\\ud48d\\\\ubd80\\\\ud574 \\\\ub85c\\\\ud0a4\\\\uc0b0\\\\ub9e5, \\\\ub098\\\\uc774\\\\uc544\\\\uac00\\\\ub77c \\\\ud3ed\\\\ud3ec \\\\ub4f1 \\\\uad00\\\\uad11 \\\\uba85\\\\uc18c\\\\uac00 \\\\ub9ce\\\\uc2b5\\\\ub2c8\\\\ub2e4. \\\\uacbd\\\\uc81c\\\\ub294 \\\\uc790\\\\uc6d0 \\\\uae30\\\\ubc18 \\\\uc0b0\\\\uc5c5\\\\uacfc \\\\ucca8\\\\ub2e8 \\\\uae30\\\\uc220\\\\uc774 \\\\ubc1c\\\\ub2ec\\\\ud574 \\\\uc788\\\\uc73c\\\\uba70, \\\\uc758\\\\ub8cc\\\\uc640 \\\\uad50\\\\uc721 \\\\uc2dc\\\\uc2a4\\\\ud15c\\\\uc774 \\\\uc6b0\\\\uc218\\\\ud55c \\\\ud3b8\\\\uc785\\\\ub2c8\\\\ub2e4.\", \"additional_kwargs\": {\"refusal\": null}, \"response_metadata\": {\"token_usage\": {\"completion_tokens\": 140, \"prompt_tokens\": 23, \"total_tokens\": 163, \"completion_tokens_details\": {\"accepted_prediction_tokens\": 0, \"audio_tokens\": 0, \"reasoning_tokens\": 0, \"rejected_prediction_tokens\": 0}, \"prompt_tokens_details\": {\"audio_tokens\": 0, \"cached_tokens\": 0}}, \"model_name\": \"gpt-4o-2024-08-06\", \"system_fingerprint\": \"fp_7f6be3efb0\", \"finish_reason\": \"stop\", \"logprobs\": null}, \"type\": \"ai\", \"id\": \"run-41d05111-63ec-480f-b137-823cadf98223-0\", \"usage_metadata\": {\"input_tokens\": 23, \"output_tokens\": 140, \"total_tokens\": 163, \"input_token_details\": {\"audio\": 0, \"cache_read\": 0}, \"output_token_details\": {\"audio\": 0, \"reasoning\": 0}}, \"tool_calls\": [], \"invalid_tool_calls\": []}}}}')\n",
      "('[{\"lc\": 1, \"type\": \"constructor\", \"id\": [\"langchain\", \"schema\", \"messages\", \"HumanMessage\"], \"kwargs\": {\"content\": \"\\\\uc601\\\\uad6d\\\\uc5d0 \\\\ub300\\\\ud574 300\\\\uc790 \\\\ub0b4\\\\uc678\\\\ub85c \\\\uc694\\\\uc57d\\\\ud574\\\\uc11c \\\\uc124\\\\uba85\\\\ud574\\\\uc918\", \"type\": \"human\"}}]', '{\"id\": [\"langchain\", \"chat_models\", \"openai\", \"ChatOpenAI\"], \"kwargs\": {\"max_retries\": 2, \"model_name\": \"gpt-4o\", \"n\": 1, \"openai_api_key\": {\"id\": [\"OPENAI_API_KEY\"], \"lc\": 1, \"type\": \"secret\"}, \"temperature\": 0.7}, \"lc\": 1, \"name\": \"ChatOpenAI\", \"type\": \"constructor\"}---[(\\'stop\\', None)]', 0, '{\"lc\": 1, \"type\": \"constructor\", \"id\": [\"langchain\", \"schema\", \"output\", \"ChatGeneration\"], \"kwargs\": {\"text\": \"\\\\uc601\\\\uad6d\\\\uc740 \\\\uc11c\\\\uc720\\\\ub7fd\\\\uc5d0 \\\\uc704\\\\uce58\\\\ud55c \\\\uc12c\\\\ub098\\\\ub77c\\\\ub85c, \\\\uc789\\\\uae00\\\\ub79c\\\\ub4dc, \\\\uc2a4\\\\ucf54\\\\ud2c0\\\\ub79c\\\\ub4dc, \\\\uc6e8\\\\uc77c\\\\uc2a4, \\\\ubd81\\\\uc544\\\\uc77c\\\\ub79c\\\\ub4dc\\\\ub85c \\\\uad6c\\\\uc131\\\\ub41c \\\\uc5f0\\\\ud569 \\\\uc655\\\\uad6d\\\\uc774\\\\ub2e4. \\\\ub7f0\\\\ub358\\\\uc740 \\\\uc218\\\\ub3c4\\\\uc774\\\\uc790 \\\\ubb38\\\\ud654\\\\uc640 \\\\uacbd\\\\uc81c\\\\uc758 \\\\uc911\\\\uc2ec\\\\uc9c0\\\\ub2e4. \\\\uc601\\\\uad6d\\\\uc740 \\\\uc785\\\\ud5cc\\\\uad70\\\\uc8fc\\\\uc81c\\\\uc640 \\\\uc758\\\\ud68c \\\\ubbfc\\\\uc8fc\\\\uc8fc\\\\uc758\\\\ub97c \\\\ucc44\\\\ud0dd\\\\ud558\\\\uace0 \\\\uc788\\\\uc73c\\\\uba70, \\\\ucc30\\\\uc2a4 3\\\\uc138\\\\uac00 \\\\ud604\\\\uc7ac \\\\uad70\\\\uc8fc\\\\uc774\\\\ub2e4. \\\\uc0b0\\\\uc5c5\\\\ud601\\\\uba85\\\\uc758 \\\\ubc1c\\\\uc0c1\\\\uc9c0\\\\ub85c, \\\\uc138\\\\uacc4\\\\uc0ac\\\\uc5d0 \\\\ud070 \\\\uc601\\\\ud5a5\\\\uc744 \\\\ubbf8\\\\ucce4\\\\ub2e4. \\\\uc720\\\\ub7fd\\\\uc5f0\\\\ud569\\\\uc5d0\\\\uc11c \\\\ud0c8\\\\ud1f4\\\\ud55c \\\\ud6c4 \\\\ub3c5\\\\uc790\\\\uc801\\\\uc778 \\\\uc678\\\\uad50 \\\\ubc0f \\\\uacbd\\\\uc81c \\\\uc815\\\\ucc45\\\\uc744 \\\\ud3bc\\\\uce58\\\\uace0 \\\\uc788\\\\ub2e4. \\\\uc601\\\\uc5b4\\\\uac00 \\\\uacf5\\\\uc6a9\\\\uc5b4\\\\uc774\\\\uba70, \\\\ub2e4\\\\ucc44\\\\ub85c\\\\uc6b4 \\\\ubb38\\\\ud654\\\\uc720\\\\uc0b0\\\\uacfc \\\\uc5ed\\\\uc0ac\\\\uc801 \\\\uba85\\\\uc18c\\\\uac00 \\\\ub9ce\\\\ub2e4.\", \"generation_info\": {\"finish_reason\": \"stop\", \"logprobs\": null}, \"type\": \"ChatGeneration\", \"message\": {\"lc\": 1, \"type\": \"constructor\", \"id\": [\"langchain\", \"schema\", \"messages\", \"AIMessage\"], \"kwargs\": {\"content\": \"\\\\uc601\\\\uad6d\\\\uc740 \\\\uc11c\\\\uc720\\\\ub7fd\\\\uc5d0 \\\\uc704\\\\uce58\\\\ud55c \\\\uc12c\\\\ub098\\\\ub77c\\\\ub85c, \\\\uc789\\\\uae00\\\\ub79c\\\\ub4dc, \\\\uc2a4\\\\ucf54\\\\ud2c0\\\\ub79c\\\\ub4dc, \\\\uc6e8\\\\uc77c\\\\uc2a4, \\\\ubd81\\\\uc544\\\\uc77c\\\\ub79c\\\\ub4dc\\\\ub85c \\\\uad6c\\\\uc131\\\\ub41c \\\\uc5f0\\\\ud569 \\\\uc655\\\\uad6d\\\\uc774\\\\ub2e4. \\\\ub7f0\\\\ub358\\\\uc740 \\\\uc218\\\\ub3c4\\\\uc774\\\\uc790 \\\\ubb38\\\\ud654\\\\uc640 \\\\uacbd\\\\uc81c\\\\uc758 \\\\uc911\\\\uc2ec\\\\uc9c0\\\\ub2e4. \\\\uc601\\\\uad6d\\\\uc740 \\\\uc785\\\\ud5cc\\\\uad70\\\\uc8fc\\\\uc81c\\\\uc640 \\\\uc758\\\\ud68c \\\\ubbfc\\\\uc8fc\\\\uc8fc\\\\uc758\\\\ub97c \\\\ucc44\\\\ud0dd\\\\ud558\\\\uace0 \\\\uc788\\\\uc73c\\\\uba70, \\\\ucc30\\\\uc2a4 3\\\\uc138\\\\uac00 \\\\ud604\\\\uc7ac \\\\uad70\\\\uc8fc\\\\uc774\\\\ub2e4. \\\\uc0b0\\\\uc5c5\\\\ud601\\\\uba85\\\\uc758 \\\\ubc1c\\\\uc0c1\\\\uc9c0\\\\ub85c, \\\\uc138\\\\uacc4\\\\uc0ac\\\\uc5d0 \\\\ud070 \\\\uc601\\\\ud5a5\\\\uc744 \\\\ubbf8\\\\ucce4\\\\ub2e4. \\\\uc720\\\\ub7fd\\\\uc5f0\\\\ud569\\\\uc5d0\\\\uc11c \\\\ud0c8\\\\ud1f4\\\\ud55c \\\\ud6c4 \\\\ub3c5\\\\uc790\\\\uc801\\\\uc778 \\\\uc678\\\\uad50 \\\\ubc0f \\\\uacbd\\\\uc81c \\\\uc815\\\\ucc45\\\\uc744 \\\\ud3bc\\\\uce58\\\\uace0 \\\\uc788\\\\ub2e4. \\\\uc601\\\\uc5b4\\\\uac00 \\\\uacf5\\\\uc6a9\\\\uc5b4\\\\uc774\\\\uba70, \\\\ub2e4\\\\ucc44\\\\ub85c\\\\uc6b4 \\\\ubb38\\\\ud654\\\\uc720\\\\uc0b0\\\\uacfc \\\\uc5ed\\\\uc0ac\\\\uc801 \\\\uba85\\\\uc18c\\\\uac00 \\\\ub9ce\\\\ub2e4.\", \"additional_kwargs\": {\"refusal\": null}, \"response_metadata\": {\"token_usage\": {\"completion_tokens\": 150, \"prompt_tokens\": 23, \"total_tokens\": 173, \"completion_tokens_details\": {\"accepted_prediction_tokens\": 0, \"audio_tokens\": 0, \"reasoning_tokens\": 0, \"rejected_prediction_tokens\": 0}, \"prompt_tokens_details\": {\"audio_tokens\": 0, \"cached_tokens\": 0}}, \"model_name\": \"gpt-4o-2024-08-06\", \"system_fingerprint\": \"fp_831e067d82\", \"finish_reason\": \"stop\", \"logprobs\": null}, \"type\": \"ai\", \"id\": \"run-77b88fa9-14cf-4681-95d9-5c4a2224a0d1-0\", \"usage_metadata\": {\"input_tokens\": 23, \"output_tokens\": 150, \"total_tokens\": 173, \"input_token_details\": {\"audio\": 0, \"cache_read\": 0}, \"output_token_details\": {\"audio\": 0, \"reasoning\": 0}}, \"tool_calls\": [], \"invalid_tool_calls\": []}}}}')\n"
     ]
    }
   ],
   "source": [
    "cursor.execute('SELECT * FROM full_llm_cache;')\n",
    "rows = cursor.fetchall()\n",
    "print('\\ncache contents:')\n",
    "\n",
    "for row in rows:\n",
    "    print(row)"
   ]
  },
  {
   "cell_type": "code",
   "execution_count": 31,
   "metadata": {},
   "outputs": [],
   "source": [
    "conn.close()"
   ]
  },
  {
   "cell_type": "code",
   "execution_count": 33,
   "metadata": {},
   "outputs": [],
   "source": [
    "from langchain.callbacks import get_openai_callback\n",
    "from langchain_openai import ChatOpenAI"
   ]
  },
  {
   "cell_type": "code",
   "execution_count": 34,
   "metadata": {},
   "outputs": [
    {
     "name": "stdout",
     "output_type": "stream",
     "text": [
      "Tokens Used: 24\n",
      "\tPrompt Tokens: 16\n",
      "\tCompletion Tokens: 8\n",
      "Successful Requests: 1\n",
      "Total Cost (USD): $0.00012000000000000002\n",
      "CPU times: total: 31.2 ms\n",
      "Wall time: 740 ms\n"
     ]
    }
   ],
   "source": [
    "%%time\n",
    "\n",
    "with get_openai_callback() as cb:\n",
    "    result = llm.invoke('대한민국의 수도는 어디인가요?')\n",
    "    print(cb)"
   ]
  },
  {
   "cell_type": "code",
   "execution_count": 36,
   "metadata": {},
   "outputs": [
    {
     "name": "stdout",
     "output_type": "stream",
     "text": [
      "총 사용된 토큰 수 : 25\n",
      "프롬프트에 사용된 토큰 수 : 15\n",
      "답변에 사용된 토큰 수 : 10\n",
      "호출에 청구된 금액(USD) : 0.0001375\n"
     ]
    }
   ],
   "source": [
    "with get_openai_callback() as cb:\n",
    "    result = llm.invoke('겨울은 영어로 뭐야?')\n",
    "    print(f'총 사용된 토큰 수 : {cb.total_tokens}')\n",
    "    print(f'프롬프트에 사용된 토큰 수 : {cb.prompt_tokens}')\n",
    "    print(f'답변에 사용된 토큰 수 : {cb.completion_tokens}')\n",
    "    print(f'호출에 청구된 금액(USD) : {cb.total_cost}')"
   ]
  },
  {
   "cell_type": "code",
   "execution_count": 39,
   "metadata": {},
   "outputs": [],
   "source": [
    "# pip install -qU langchain-community arxiv pymupdf pypdf unstructured python-pptx"
   ]
  },
  {
   "cell_type": "code",
   "execution_count": 40,
   "metadata": {},
   "outputs": [],
   "source": [
    "file_path = './data/SPRi AI Brief_11월호_산업동향_F.pdf'"
   ]
  },
  {
   "cell_type": "code",
   "execution_count": 42,
   "metadata": {},
   "outputs": [],
   "source": [
    "def show_metadata(docs):\n",
    "    if docs:\n",
    "        print('[metadata]')\n",
    "        keys = []\n",
    "        for k in docs[0].metadata.keys():\n",
    "            keys.append(k)\n",
    "        print(keys)"
   ]
  },
  {
   "cell_type": "code",
   "execution_count": 43,
   "metadata": {},
   "outputs": [],
   "source": [
    "from langchain_community.document_loaders import PyPDFLoader\n",
    "\n",
    "loader = PyPDFLoader(file_path)"
   ]
  },
  {
   "cell_type": "code",
   "execution_count": 44,
   "metadata": {},
   "outputs": [],
   "source": [
    "docs = loader.load()"
   ]
  },
  {
   "cell_type": "code",
   "execution_count": 45,
   "metadata": {},
   "outputs": [
    {
     "name": "stdout",
     "output_type": "stream",
     "text": [
      "[metadata]\n",
      "['source', 'page']\n"
     ]
    }
   ],
   "source": [
    "show_metadata(docs)"
   ]
  },
  {
   "cell_type": "code",
   "execution_count": 46,
   "metadata": {},
   "outputs": [
    {
     "name": "stdout",
     "output_type": "stream",
     "text": [
      "SPRi AI Brief |  2024-11월호\n",
      "8\n",
      "메타, 이미지와 텍스트 처리하는 첫 멀티모달 AI 모델 ‘라마 3.2’ 공개n메타가 이미지와 텍스트를 모두 처리할 수 있는 모델과 모바일 기기에서 실행 가능한 경량 모델을 포함하는 라마 3.2 시리즈를 공개n비전 기능을 갖춘 라마 3.2 90B 모델은 다양한 이미지 인식과 시각적 이해 작업에서 앤스로픽의 ‘클로드3-하이쿠’ 및 오픈AI의 ‘GPT-4o-미니’와 대등한 수준의 성능 보유\n",
      "KEY Contents\n",
      "£라마 3.2 90B 모델, 이미지 인식과 시각적 이해에서 GPT-4o-미\n"
     ]
    }
   ],
   "source": [
    "print(docs[10].page_content[:300])"
   ]
  },
  {
   "cell_type": "code",
   "execution_count": 48,
   "metadata": {},
   "outputs": [
    {
     "name": "stdout",
     "output_type": "stream",
     "text": [
      "2024년 11월호\n",
      "Ⅰ. 인공지능 산업 동향 브리프 1. 정책/법제    ▹ 미국 민권위원회, 연방정부의 얼굴인식 기술 사용에 따른 민권 영향 분석························1   ▹ 미국 백악관 예산관리국, 정부의 책임 있는 AI 조달을 위한 지침 발표·····························2   ▹ 유로폴, 법 집행에서 AI의 이점과 과제를 다룬 보고서 발간··············································3   ▹ OECD, 공공 부문의 AI 도입을 위한 G7 툴킷 \n"
     ]
    }
   ],
   "source": [
    "print(docs[1].page_content[:300])"
   ]
  },
  {
   "cell_type": "code",
   "execution_count": 49,
   "metadata": {},
   "outputs": [],
   "source": [
    "from langchain_community.document_loaders import UnstructuredPowerPointLoader\n",
    "loader = UnstructuredPowerPointLoader('./data/RAG(지식 검색 및 생성 기법)기법 적용_1일차.pptx')"
   ]
  },
  {
   "cell_type": "code",
   "execution_count": 50,
   "metadata": {},
   "outputs": [
    {
     "data": {
      "text/plain": [
       "[Document(metadata={'source': './data/RAG(지식 검색 및 생성 기법)기법 적용_1일차.pptx'}, page_content='RAG(지식 검색 및 생성 기법) 적용\\n\\nDay 01\\n\\n강의자 : 김수빈\\n\\n\\n\\n1\\n\\n2\\n\\n3\\n\\n4\\n\\n5\\n\\n6\\n\\nContents\\n\\nRAG\\n\\n벡터 DB\\n\\nLangchain\\n\\nGPT\\n\\nHugging Face\\n\\nChatbot\\n\\n\\n\\n1\\n\\n2\\n\\n1\\n\\nRAG\\n\\n검색 기반 텍스트 생성 기법\\n\\n- 대규모 언어 모델이 외부 데이터베이스나 문서에서 관련 정보를 검색하고,\\n\\n이를 활용해 텍스트를 생성하는 방법\\n\\n검색 : 질문과 관련된 문서를 벡터 검색을 통해 찾기\\n\\n생성 :검색된 문서를 바탕으로 언어 모델이 답변을 생성\\n\\n\\n\\n1\\n\\nRAG\\n\\n왜 쓰나요?\\n\\n- 모델이 최신 데이터에 접근할 수 있나요?\\n\\n- 모델이 나만의 정보에 접근할 수 있나요?\\n\\n- 모델에 내가 얻고싶은 데이터를 모두 학습시킬 수 있나요?\\n\\n\\n\\n2\\n\\n벡터 DB\\n\\n데이터 종류\\n\\n- 데이터의 다양성\\n\\n미리 정해 놓은 형식과 구조에 따라 저장되도록 구성하여 고정된 필드에 저장된 데이터\\n\\n→ 손쉽게 데이터에 대한 부분 검색 및 선택, 갱신, 삭제 등의 연산 수행 가능\\n\\n정형 데이터\\n\\n정의된 구조가 없는 동영상 파일, 오디오 파일, 사진 등과 같이 정형화 되지 않은 데이터\\n\\n→ 데이터 구조가 없어 데이터의 특징을 추출하여 정형 데이터로 전처리 하는 과정 필요\\n\\n비정형 데이터\\n\\n\\n\\n2\\n\\n벡터 DB\\n\\n\\n\\n2\\n\\n벡터 DB\\n\\n벡터 DB란?\\n\\n벡터를 고차원 포인트로 저장하고 검색하는 기능 제공\\n\\n데이터베이스 맥락에서 벡터는 다차원 공간 내의 위치를 나타내는 체계적인 일련의 숫자 값을 나타냄\\n\\n임베딩을 통해 생성된 고차원의 벡터 데이터 → 효율적으로 저장하고 관리할 수 있는 DB!\\n\\n벡터 간의 거리나 유사도 기반으로 유사한 벡터 찾기\\n\\n\\n\\n1\\n\\n2\\n\\n3\\n\\n3\\n\\nLangChain\\n\\n랭체인?\\n\\n- 대규모 언어 모델(LLM)을 활용한 애플리케이션을 쉽게 개발할 수 있도록 도와주는 프레임워크\\n\\nLLM과 도구 연결 : Vecor DB, API, 파일 등과 통합\\n\\n작업 자동화 : 자동화된 워크플로우 구현 지원\\n\\n검색 및 생성 기능 : LLM과 검색 기반 시스템을 결합해 응답의 품질 향상\\n\\n\\n\\n3\\n\\nLangChain\\n\\n기능\\n\\n프롬프트 지시사항, 소수의 예시, 응답에 근거한 내용 등을 포함한 다양한 문맥 소스와 모델의 연결\\n\\n→ 언어 모델은 제공된 정보를 기반으로 더 정확하고 관련성 높은 답변을 생성할 수 있다.\\n\\n문맥 인식\\n\\n언어 모델은 주어진 문맥을 바탕으로 어떤 답변을 제공하거나 어떤 조취를 취해야 할지 스스로 추론할 수 있다\\n\\n→ 단순히 정보 재생산이 아니라 주어진 상황을 분석하고 적절한 해결책 제시 가능\\n\\n추론\\n\\n\\n\\n3\\n\\nLangChain\\n\\nLangSmith\\n\\nLLM 애플리케이션 개발, 모니터링 및 테스트를 위한 플랫폼\\n\\n언어 모델은 주어진 문맥을 바탕으로 어떤 답변을 제공하거나 어떤 조취를 취해야 할지 스스로 추론할 수 있다\\n\\n→ 단순히 정보 재생산이 아니라 주어진 상황을 분석하고 적절한 해결책 제시 가능\\n\\n추적 기능\\n\\n예상치 못한 최종 결과, 체인이 예상보다 느린 이유 등에 대해 추적하는데 도움이 될 수 있다\\n\\n\\n\\n3\\n\\nLangChain\\n\\nLangSmith\\n\\nhttps://smith.langchain.com\\n\\n- 마찬가지로 키 발급(★★★★★★저장필수)\\n\\n- .env에 넣어야 할 항목\\n\\n```\\n\\nLANGCHAIN_TRACING_V2 = true\\n\\nLANGCHAIN_ENDPOINT = https://api.langchain.com\\n\\nLANGCHAIN_API_KEY = 발급받은 키\\n\\nLANGCHAIN_PROJECT = 프로젝트명\\n\\n```\\n\\n\\n\\n1\\n\\nSequence - to – Sequence\\n\\n교사강요\\n\\n- 이전 시점의 예측값 대신 실제값을 입력으로 주는 방법\\n\\n\\n\\n2\\n\\nTransformer Attention\\n\\nAttention?\\n\\nseq2seq모델은 인코더에서 입력 시퀀스를 context 벡터라는 하나의 벡터로 압축하여 표현\\n\\n디코더는 context 벡터를 통해 출력 시퀀스를 생성\\n\\n하지만?\\n\\n고정된 context에 모든 정보를 압축하려고 하니, 정보 손실 발생!\\n\\nRNN의 고질적인 문제, 기울기 소실 문제 발생\\n\\n→ 문장이 길면 번역 품질이 떨어진다\\n\\n이에 대안으로 어텐션이 등장!\\n\\n\\n\\n2\\n\\nTransformer Attention\\n\\nAttention?\\n\\n디코더에서 출력 단어를 예측하는 매 시점마다,\\n\\n인코더에서 전체 문장을 참고한다!\\n\\n이 때, 동일한 비율로 전체 문장을 참고하는 것이 아니라\\n\\n예측할 단어와 연관이 있는 단어를 집중(Attention)\\n\\n\\n\\n2\\n\\nTransformer Attention\\n\\nQ, K, V\\n\\nQ\\n\\nT 시점의 디코더 셀에서의 은닉 상태(Query)\\n\\nK\\n\\n모든 시점의 인코더 셀의 은닉 상태(Keys)\\n\\nV\\n\\n모든 시점의 인코더 셀의 은닉 상태(Values)\\n\\n\\n\\n2\\n\\nTransformer Attention\\n\\nV\\n\\nK\\n\\nQ\\n\\n\\n\\n감사합니다.\\n\\nThank You')]"
      ]
     },
     "execution_count": 50,
     "metadata": {},
     "output_type": "execute_result"
    }
   ],
   "source": [
    "docs = loader.load()\n",
    "docs"
   ]
  },
  {
   "cell_type": "code",
   "execution_count": 2,
   "metadata": {},
   "outputs": [
    {
     "name": "stderr",
     "output_type": "stream",
     "text": [
      "C:\\Users\\RMARKET\\AppData\\Local\\Temp\\ipykernel_5156\\1439863198.py:10: DeprecationWarning: The 'text' argument to the SoupStrainer constructor is deprecated. Use 'string' instead.\n",
      "  parse_only = bs4.SoupStrainer(\n"
     ]
    },
    {
     "data": {
      "text/plain": [
       "2"
      ]
     },
     "execution_count": 2,
     "metadata": {},
     "output_type": "execute_result"
    }
   ],
   "source": [
    "import bs4\n",
    "from langchain_community.document_loaders import WebBaseLoader\n",
    "\n",
    "url1 = 'https://www.langchain.com/langsmith'\n",
    "url2  = 'https://www.langchain.com/langchain'\n",
    "\n",
    "loader = WebBaseLoader(\n",
    "    web_path= (url1, url2),\n",
    "    bs_kwargs = dict(\n",
    "        parse_only = bs4.SoupStrainer(\n",
    "            # class_ = ('article-header','article-content')\n",
    "            text = 'Twitter'\n",
    "        )  \n",
    "    )\n",
    ")\n",
    "docs = loader.load()\n",
    "len(docs)"
   ]
  },
  {
   "cell_type": "code",
   "execution_count": 3,
   "metadata": {},
   "outputs": [
    {
     "data": {
      "text/plain": [
       "Document(metadata={'source': 'https://www.langchain.com/langsmith'}, page_content='Twitter')"
      ]
     },
     "execution_count": 3,
     "metadata": {},
     "output_type": "execute_result"
    }
   ],
   "source": [
    "docs[0]"
   ]
  },
  {
   "cell_type": "code",
   "execution_count": 5,
   "metadata": {},
   "outputs": [
    {
     "data": {
      "text/plain": [
       "Document(metadata={'source': 'https://www.langchain.com/langchain'}, page_content='Twitter')"
      ]
     },
     "execution_count": 5,
     "metadata": {},
     "output_type": "execute_result"
    }
   ],
   "source": [
    "docs[1]"
   ]
  },
  {
   "cell_type": "code",
   "execution_count": 4,
   "metadata": {},
   "outputs": [
    {
     "data": {
      "text/plain": [
       "'Twitter'"
      ]
     },
     "execution_count": 4,
     "metadata": {},
     "output_type": "execute_result"
    }
   ],
   "source": [
    "docs[1].page_content"
   ]
  },
  {
   "cell_type": "code",
   "execution_count": 56,
   "metadata": {},
   "outputs": [],
   "source": [
    "from langchain_community.document_loaders import ArxivLoader"
   ]
  },
  {
   "cell_type": "code",
   "execution_count": 60,
   "metadata": {},
   "outputs": [],
   "source": [
    "loader = ArxivLoader(\n",
    "    query = 'ChatGPT',\n",
    "    load_max_docs = 2,\n",
    "    load_all_available_meta = False\n",
    ")"
   ]
  },
  {
   "cell_type": "code",
   "execution_count": 61,
   "metadata": {},
   "outputs": [],
   "source": [
    "docs = loader.load()"
   ]
  },
  {
   "cell_type": "code",
   "execution_count": 62,
   "metadata": {},
   "outputs": [
    {
     "data": {
      "text/plain": [
       "{'Published': '2023-10-05',\n",
       " 'Title': 'In ChatGPT We Trust? Measuring and Characterizing the Reliability of ChatGPT',\n",
       " 'Authors': 'Xinyue Shen, Zeyuan Chen, Michael Backes, Yang Zhang',\n",
       " 'Summary': \"The way users acquire information is undergoing a paradigm shift with the\\nadvent of ChatGPT. Unlike conventional search engines, ChatGPT retrieves\\nknowledge from the model itself and generates answers for users. ChatGPT's\\nimpressive question-answering (QA) capability has attracted more than 100\\nmillion users within a short period of time but has also raised concerns\\nregarding its reliability. In this paper, we perform the first large-scale\\nmeasurement of ChatGPT's reliability in the generic QA scenario with a\\ncarefully curated set of 5,695 questions across ten datasets and eight domains.\\nWe find that ChatGPT's reliability varies across different domains, especially\\nunderperforming in law and science questions. We also demonstrate that system\\nroles, originally designed by OpenAI to allow users to steer ChatGPT's\\nbehavior, can impact ChatGPT's reliability in an imperceptible way. We further\\nshow that ChatGPT is vulnerable to adversarial examples, and even a single\\ncharacter change can negatively affect its reliability in certain cases. We\\nbelieve that our study provides valuable insights into ChatGPT's reliability\\nand underscores the need for strengthening the reliability and security of\\nlarge language models (LLMs).\"}"
      ]
     },
     "execution_count": 62,
     "metadata": {},
     "output_type": "execute_result"
    }
   ],
   "source": [
    "docs[0].metadata"
   ]
  },
  {
   "cell_type": "code",
   "execution_count": 63,
   "metadata": {},
   "outputs": [
    {
     "data": {
      "text/plain": [
       "{'Published': '2023-12-30',\n",
       " 'Title': 'Is ChatGPT Involved in Texts? Measure the Polish Ratio to Detect ChatGPT-Generated Text',\n",
       " 'Authors': 'Lingyi Yang, Feng Jiang, Haizhou Li',\n",
       " 'Summary': 'The remarkable capabilities of large-scale language models, such as ChatGPT,\\nin text generation have impressed readers and spurred researchers to devise\\ndetectors to mitigate potential risks, including misinformation, phishing, and\\nacademic dishonesty. Despite this, most previous studies have been\\npredominantly geared towards creating detectors that differentiate between\\npurely ChatGPT-generated texts and human-authored texts. This approach,\\nhowever, fails to work on discerning texts generated through human-machine\\ncollaboration, such as ChatGPT-polished texts. Addressing this gap, we\\nintroduce a novel dataset termed HPPT (ChatGPT-polished academic abstracts),\\nfacilitating the construction of more robust detectors. It diverges from extant\\ncorpora by comprising pairs of human-written and ChatGPT-polished abstracts\\ninstead of purely ChatGPT-generated texts. Additionally, we propose the \"Polish\\nRatio\" method, an innovative measure of the degree of modification made by\\nChatGPT compared to the original human-written text. It provides a mechanism to\\nmeasure the degree of ChatGPT influence in the resulting text. Our experimental\\nresults show our proposed model has better robustness on the HPPT dataset and\\ntwo existing datasets (HC3 and CDB). Furthermore, the \"Polish Ratio\" we\\nproposed offers a more comprehensive explanation by quantifying the degree of\\nChatGPT involvement.'}"
      ]
     },
     "execution_count": 63,
     "metadata": {},
     "output_type": "execute_result"
    }
   ],
   "source": [
    "docs[1].metadata"
   ]
  },
  {
   "cell_type": "code",
   "execution_count": 64,
   "metadata": {},
   "outputs": [
    {
     "name": "stdout",
     "output_type": "stream",
     "text": [
      "The way users acquire information is undergoing a paradigm shift with the\n",
      "advent of ChatGPT. Unlike conventional search engines, ChatGPT retrieves\n",
      "knowledge from the model itself and generates answers for users. ChatGPT's\n",
      "impressive question-answering (QA) capability has attracted more than 100\n",
      "million users within a short period of time but has also raised concerns\n",
      "regarding its reliability. In this paper, we perform the first large-scale\n",
      "measurement of ChatGPT's reliability in the generic QA scenario with a\n",
      "carefully curated set of 5,695 questions across ten datasets and eight domains.\n",
      "We find that ChatGPT's reliability varies across different domains, especially\n",
      "underperforming in law and science questions. We also demonstrate that system\n",
      "roles, originally designed by OpenAI to allow users to steer ChatGPT's\n",
      "behavior, can impact ChatGPT's reliability in an imperceptible way. We further\n",
      "show that ChatGPT is vulnerable to adversarial examples, and even a single\n",
      "character change can negatively affect its reliability in certain cases. We\n",
      "believe that our study provides valuable insights into ChatGPT's reliability\n",
      "and underscores the need for strengthening the reliability and security of\n",
      "large language models (LLMs).\n"
     ]
    }
   ],
   "source": [
    "docs = loader.get_summaries_as_docs()\n",
    "print(docs[0].page_content)"
   ]
  },
  {
   "cell_type": "code",
   "execution_count": null,
   "metadata": {},
   "outputs": [],
   "source": []
  }
 ],
 "metadata": {
  "kernelspec": {
   "display_name": "langchain",
   "language": "python",
   "name": "python3"
  },
  "language_info": {
   "codemirror_mode": {
    "name": "ipython",
    "version": 3
   },
   "file_extension": ".py",
   "mimetype": "text/x-python",
   "name": "python",
   "nbconvert_exporter": "python",
   "pygments_lexer": "ipython3",
   "version": "3.11.10"
  }
 },
 "nbformat": 4,
 "nbformat_minor": 2
}
