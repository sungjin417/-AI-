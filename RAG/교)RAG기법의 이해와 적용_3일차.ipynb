{
 "cells": [
  {
   "cell_type": "markdown",
   "metadata": {},
   "source": [
    "\n",
    "# 🌼 RAG기법의 이해와 적용 - 3차시(24.12.02)\n",
    "\n",
    "---"
   ]
  },
  {
   "cell_type": "code",
   "execution_count": 2,
   "metadata": {},
   "outputs": [
    {
     "name": "stderr",
     "output_type": "stream",
     "text": [
      "C:\\Users\\RMARKET\\AppData\\Local\\Temp\\ipykernel_17708\\3262330552.py:2: LangChainDeprecationWarning: Please see the migration guide at: https://python.langchain.com/docs/versions/migrating_memory/\n",
      "  memory = ConversationBufferMemory()\n"
     ]
    }
   ],
   "source": [
    "from langchain.memory import ConversationBufferMemory\n",
    "memory = ConversationBufferMemory()"
   ]
  },
  {
   "cell_type": "code",
   "execution_count": 7,
   "metadata": {},
   "outputs": [],
   "source": [
    "memory.save_context(\n",
    "    inputs = {\n",
    "        'human' : '안녕하세요 휴대폰을 구매하러 왔습니다'\n",
    "    },\n",
    "    outputs = {\n",
    "        'ai' : '안녕하세요. 새 휴대폰을 구매하신다니 기쁩니다!'\n",
    "    }\n",
    ")\n",
    "# 선입선출로 메모리를 읽는다"
   ]
  },
  {
   "cell_type": "code",
   "execution_count": 8,
   "metadata": {},
   "outputs": [
    {
     "data": {
      "text/plain": [
       "{'history': 'Human: 안녕하세요 휴대폰을 구매하러 왔습니다\\nAI: 안녕하세요. 새 휴대폰을 구매하신다니 기쁩니다!\\nHuman: 안녕하세요 휴대폰을 구매하러 왔습니다\\nAI: 안녕하세요. 새 휴대폰을 구매하신다니 기쁩니다!'}"
      ]
     },
     "execution_count": 8,
     "metadata": {},
     "output_type": "execute_result"
    }
   ],
   "source": [
    "memory.load_memory_variables({})"
   ]
  },
  {
   "cell_type": "code",
   "execution_count": 12,
   "metadata": {},
   "outputs": [
    {
     "data": {
      "text/plain": [
       "True"
      ]
     },
     "execution_count": 12,
     "metadata": {},
     "output_type": "execute_result"
    }
   ],
   "source": [
    "from dotenv import load_dotenv\n",
    "\n",
    "load_dotenv()"
   ]
  },
  {
   "cell_type": "code",
   "execution_count": 13,
   "metadata": {},
   "outputs": [
    {
     "name": "stdout",
     "output_type": "stream",
     "text": [
      "LangSmith 추적을 시작합니다.\n",
      "[프로젝트명]\n",
      "CLASS\n"
     ]
    }
   ],
   "source": [
    "from langchain_teddynote import logging\n",
    "logging.langsmith(\"CLASS\")"
   ]
  },
  {
   "cell_type": "code",
   "execution_count": 23,
   "metadata": {},
   "outputs": [],
   "source": [
    "from operator import itemgetter\n",
    "from langchain.memory import ConversationBufferMemory\n",
    "from langchain_core.prompts import ChatPromptTemplate, MessagesPlaceholder\n",
    "from langchain_core.runnables import RunnableLambda, RunnablePassthrough\n",
    "from langchain_openai import ChatOpenAI"
   ]
  },
  {
   "cell_type": "code",
   "execution_count": 24,
   "metadata": {},
   "outputs": [],
   "source": [
    "model = ChatOpenAI(model = 'gpt-4o')"
   ]
  },
  {
   "cell_type": "code",
   "execution_count": 25,
   "metadata": {},
   "outputs": [],
   "source": [
    "prompt = ChatPromptTemplate.from_messages(\n",
    "    [\n",
    "        ('system', '너는 친절한 챗봇이야'),\n",
    "        MessagesPlaceholder(variable_name = 'chat_history'),\n",
    "        ('human', \"{input}\")\n",
    "    ]\n",
    ")"
   ]
  },
  {
   "cell_type": "code",
   "execution_count": 26,
   "metadata": {},
   "outputs": [],
   "source": [
    "memory = ConversationBufferMemory(return_messages=True, memory_key='chat_history')"
   ]
  },
  {
   "cell_type": "code",
   "execution_count": 27,
   "metadata": {},
   "outputs": [
    {
     "data": {
      "text/plain": [
       "{'chat_history': []}"
      ]
     },
     "execution_count": 27,
     "metadata": {},
     "output_type": "execute_result"
    }
   ],
   "source": [
    "memory.load_memory_variables({})"
   ]
  },
  {
   "cell_type": "code",
   "execution_count": 32,
   "metadata": {},
   "outputs": [],
   "source": [
    "runnable = RunnablePassthrough.assign(\n",
    "    chat_history = RunnableLambda(memory.load_memory_variables) | itemgetter('chat_history')\n",
    ")\n",
    "# 메모리에서 데이터를 로드 + chat_history만 get하기!!!\n",
    "# 전체 입력데이터에서 chat_history값만 가져오기 -> 대화이력"
   ]
  },
  {
   "cell_type": "code",
   "execution_count": 33,
   "metadata": {},
   "outputs": [],
   "source": [
    "chain = runnable | prompt | model"
   ]
  },
  {
   "cell_type": "code",
   "execution_count": 34,
   "metadata": {},
   "outputs": [
    {
     "name": "stdout",
     "output_type": "stream",
     "text": [
      "안녕하세요, 길동님! 만나서 반갑습니다. 어떻게 도와드릴까요?\n"
     ]
    }
   ],
   "source": [
    "respone = chain.invoke({'input' : '만나서 반갑습니다. 제 이름은 길동입니다'})\n",
    "print(respone.content)"
   ]
  },
  {
   "cell_type": "code",
   "execution_count": null,
   "metadata": {},
   "outputs": [
    {
     "data": {
      "text/plain": [
       "{'chat_history': []}"
      ]
     },
     "execution_count": 35,
     "metadata": {},
     "output_type": "execute_result"
    }
   ],
   "source": [
    "memory.load_memory_variables({}) # 아직 비어있기 때문에 수동으로 넣어줘야 함"
   ]
  },
  {
   "cell_type": "code",
   "execution_count": 36,
   "metadata": {},
   "outputs": [],
   "source": [
    "memory.save_context({'human' : '만나서 반값습니다. 제 이름은 길동입니다'}, {'ai' : respone.content})"
   ]
  },
  {
   "cell_type": "code",
   "execution_count": 37,
   "metadata": {},
   "outputs": [
    {
     "name": "stdout",
     "output_type": "stream",
     "text": [
      "네, 길동님이라고 하셨죠. 맞나요?\n"
     ]
    }
   ],
   "source": [
    "respone = chain.invoke({'input' : '제 이름이 무엇이었는지 기억하시냐요?'})\n",
    "print(respone.content)"
   ]
  },
  {
   "cell_type": "code",
   "execution_count": 38,
   "metadata": {},
   "outputs": [],
   "source": [
    "memory.save_context({'human' : '제 이름이 무엇이었는지 기억하시나요?'}, {'ai' : respone.content})"
   ]
  },
  {
   "cell_type": "code",
   "execution_count": 40,
   "metadata": {},
   "outputs": [
    {
     "data": {
      "text/plain": [
       "{'chat_history': [HumanMessage(content='만나서 반값습니다. 제 이름은 길동입니다', additional_kwargs={}, response_metadata={}),\n",
       "  AIMessage(content='안녕하세요, 길동님! 만나서 반갑습니다. 어떻게 도와드릴까요?', additional_kwargs={}, response_metadata={}),\n",
       "  HumanMessage(content='제 이름이 무엇이었는지 기억하시나요?', additional_kwargs={}, response_metadata={}),\n",
       "  AIMessage(content='네, 길동님이라고 하셨죠. 맞나요?', additional_kwargs={}, response_metadata={})]}"
      ]
     },
     "execution_count": 40,
     "metadata": {},
     "output_type": "execute_result"
    }
   ],
   "source": [
    "memory.load_memory_variables({})"
   ]
  },
  {
   "cell_type": "code",
   "execution_count": 58,
   "metadata": {},
   "outputs": [],
   "source": [
    "from operator import itemgetter\n",
    "from langchain.memory import ConversationBufferMemory\n",
    "from langchain_core.prompts import ChatPromptTemplate, MessagesPlaceholder\n",
    "from langchain_core.runnables import RunnableLambda, RunnablePassthrough\n",
    "from langchain_openai import ChatOpenAI\n",
    "from langchain_core.output_parsers import StrOutputParser\n",
    "from langchain.memory import ConversationBufferWindowMemory"
   ]
  },
  {
   "cell_type": "code",
   "execution_count": 66,
   "metadata": {},
   "outputs": [],
   "source": [
    "memory = ConversationBufferWindowMemory(k = 2, return_messages=True, memory_key='chat_history') \n",
    "# 최근 대화만 일정 개수(k)로 저장함 -> 조금 더 최근 대화에 집중 함"
   ]
  },
  {
   "cell_type": "code",
   "execution_count": 71,
   "metadata": {},
   "outputs": [],
   "source": [
    "def conversation_chain(memory, query):\n",
    "    chat_history = RunnablePassthrough.assign(\n",
    "        chat_history = RunnableLambda(memory.load_memory_variables) | itemgetter(memory.memory_key)\n",
    "    )\n",
    "    llm = ChatOpenAI(model = 'gpt-4o', temperature=0)\n",
    "    prompt = ChatPromptTemplate.from_messages(\n",
    "        [\n",
    "            ('system', '너는 친절한 AI 비서야'),\n",
    "            MessagesPlaceholder(variable_name='chat_history'),\n",
    "            ('human', \"{input}\")\n",
    "        ]\n",
    "    )\n",
    "    chain = chat_history | prompt | llm | StrOutputParser()\n",
    "    # StrOutputParser() : 출력되는 값을 자동으로 파싱(불필요한 개행문자, 특수기호 등을 자동으로 처리)\n",
    "    answer = chain.invoke({'input' : query})\n",
    "    memory.save_context(inputs = {'human' : query}, outputs={'ai' : answer})\n",
    "    return answer"
   ]
  },
  {
   "cell_type": "code",
   "execution_count": 72,
   "metadata": {},
   "outputs": [
    {
     "name": "stdout",
     "output_type": "stream",
     "text": [
      "ai :  추운 날씨에는 몸을 따뜻하게 해줄 수 있는 음식을 먹는 것이 좋습니다. 다음은 추운 날씨에 어울리는 음식 몇 가지입니다:\n",
      "\n",
      "1. **김치찌개**: 매콤하고 뜨거운 국물로 몸을 따뜻하게 해줍니다.\n",
      "2. **된장찌개**: 구수한 맛과 함께 다양한 채소와 두부를 넣어 영양가도 높습니다.\n",
      "3. **삼계탕**: 닭고기와 인삼, 대추 등을 넣어 끓인 국물로 보양식으로 좋습니다.\n",
      "4. **칼국수**: 따뜻한 국물과 쫄깃한 면발이 잘 어울리는 음식입니다.\n",
      "5. **수제비**: 밀가루 반죽을 뜯어 넣어 만든 국물 요리로, 감자나 호박 등을 넣어도 맛있습니다.\n",
      "6. **어묵탕**: 어묵과 다양한 채소를 넣어 끓인 국물로 간단하면서도 든든합니다.\n",
      "7. **호떡**: 달콤한 속이 들어간 따뜻한 간식으로, 추운 날씨에 간식으로 좋습니다.\n",
      "\n",
      "이 외에도 따뜻한 차나 커피와 함께 즐길 수 있는 간단한 디저트도 좋습니다. 따뜻한 음식으로 몸을 녹이며 건강하게 겨울을 보내세요!\n"
     ]
    }
   ],
   "source": [
    "response = conversation_chain(\n",
    "    memory = memory,\n",
    "    query = '갑자기 날씨가 너무 추워졌어. 이때 먹을만한 음식을 추천해줘'\n",
    ")\n",
    "print('ai : ', response)"
   ]
  },
  {
   "cell_type": "code",
   "execution_count": 73,
   "metadata": {},
   "outputs": [
    {
     "name": "stdout",
     "output_type": "stream",
     "text": [
      "ai :  추운 날씨에는 따뜻한 분위기를 만들어 줄 수 있는 음악을 듣는 것이 좋습니다. 다음은 추운 날씨에 어울리는 음악 몇 가지 추천입니다:\n",
      "\n",
      "1. **Norah Jones - \"Come Away With Me\"**: 부드럽고 감미로운 목소리가 마음을 편안하게 해줍니다.\n",
      "2. **Adele - \"Someone Like You\"**: 감성적인 발라드로, 차분한 시간을 보내기에 좋습니다.\n",
      "3. **Frank Sinatra - \"The Way You Look Tonight\"**: 클래식한 재즈 곡으로, 따뜻한 느낌을 줍니다.\n",
      "4. **Ed Sheeran - \"Perfect\"**: 로맨틱한 분위기의 곡으로, 추운 날씨에 잘 어울립니다.\n",
      "5. **Sara Bareilles - \"Winter Song\"**: 겨울의 분위기를 잘 담아낸 곡입니다.\n",
      "6. **Vivaldi - \"Winter\" from The Four Seasons**: 클래식 음악으로, 겨울의 차가운 아름다움을 느낄 수 있습니다.\n",
      "7. **Bing Crosby - \"White Christmas\"**: 겨울 하면 떠오르는 클래식한 크리스마스 곡입니다.\n",
      "\n",
      "이 음악들을 들으며 따뜻한 음료와 함께 편안한 시간을 보내보세요. 음악이 주는 따뜻함이 추운 날씨를 잊게 해줄 것입니다.\n"
     ]
    }
   ],
   "source": [
    "response = conversation_chain(\n",
    "    memory = memory,\n",
    "    query = '갑자기 날씨가 너무 추워졌어. 이때 들을만한 음악 추천해줘'\n",
    ")\n",
    "print('ai : ', response)"
   ]
  },
  {
   "cell_type": "code",
   "execution_count": 74,
   "metadata": {},
   "outputs": [
    {
     "name": "stdout",
     "output_type": "stream",
     "text": [
      "ai :  추운 날씨에 어울리는 따뜻한 분위기의 한국 음악을 추천해드릴게요:\n",
      "\n",
      "1. **김광석 - \"이등병의 편지\"**: 감성적인 멜로디와 가사가 마음을 따뜻하게 해줍니다.\n",
      "2. **아이유 - \"밤편지\"**: 부드러운 목소리와 감미로운 멜로디가 잘 어우러진 곡입니다.\n",
      "3. **폴킴 - \"모든 날, 모든 순간\"**: 사랑스러운 가사와 멜로디로 마음을 녹여줍니다.\n",
      "4. **성시경 - \"너의 모든 순간\"**: 감미로운 발라드로, 차분한 시간을 보내기에 좋습니다.\n",
      "5. **어반자카파 - \"그때의 나, 그때의 우리\"**: 따뜻한 감성을 느낄 수 있는 곡입니다.\n",
      "6. **백예린 - \"Square (2017)\"**: 잔잔한 멜로디와 독특한 목소리가 매력적인 곡입니다.\n",
      "7. **이문세 - \"옛사랑\"**: 클래식한 발라드로, 추억을 떠올리게 하는 곡입니다.\n",
      "\n",
      "이 곡들을 들으며 따뜻한 차 한 잔과 함께 포근한 시간을 보내보세요. 음악이 주는 따뜻함이 추운 날씨를 잊게 해줄 것입니다.\n"
     ]
    }
   ],
   "source": [
    "response = conversation_chain(\n",
    "    memory = memory,\n",
    "    query = '갑자기 날씨가 너무 추워졌어. 이때 들을만한 한국음악 추천해줘'\n",
    ")\n",
    "print('ai : ', response)"
   ]
  },
  {
   "cell_type": "code",
   "execution_count": 75,
   "metadata": {},
   "outputs": [
    {
     "name": "stdout",
     "output_type": "stream",
     "text": [
      "ai :  죄송하지만, 이전에 음식에 대한 추천을 드린 적은 없는 것 같습니다. 추운 날씨에 어울리는 음식을 추천해드릴까요? 따뜻한 국물 요리나 뜨거운 음료가 좋을 것 같은데요. 예를 들어, 김치찌개, 된장찌개, 떡국 같은 한국 전통 음식이나 따뜻한 차나 핫초코 같은 음료를 추천드립니다. 도움이 필요하시면 언제든지 말씀해 주세요!\n"
     ]
    }
   ],
   "source": [
    "response = conversation_chain(\n",
    "    memory = memory,\n",
    "    query = '아까 추천해준 음식이 뭐였지?'\n",
    ")\n",
    "print('ai : ', response)"
   ]
  },
  {
   "cell_type": "code",
   "execution_count": 76,
   "metadata": {},
   "outputs": [
    {
     "name": "stdout",
     "output_type": "stream",
     "text": [
      "ai :  아까 추천해드린 음악은 추운 날씨에 어울리는 따뜻한 분위기의 한국 음악들이었습니다. 다시 말씀드리면:\n",
      "\n",
      "1. 김광석 - \"이등병의 편지\"\n",
      "2. 아이유 - \"밤편지\"\n",
      "3. 폴킴 - \"모든 날, 모든 순간\"\n",
      "4. 성시경 - \"너의 모든 순간\"\n",
      "5. 어반자카파 - \"그때의 나, 그때의 우리\"\n",
      "6. 백예린 - \"Square (2017)\"\n",
      "7. 이문세 - \"옛사랑\"\n",
      "\n",
      "이 곡들이 추운 날씨에 따뜻한 감성을 느끼게 해줄 수 있을 거예요.\n"
     ]
    }
   ],
   "source": [
    "response = conversation_chain(\n",
    "    memory = memory,\n",
    "    query = '아까 추천해준 음악이 뭐였지?'\n",
    ")\n",
    "print('ai : ', response)"
   ]
  },
  {
   "cell_type": "code",
   "execution_count": null,
   "metadata": {},
   "outputs": [],
   "source": []
  },
  {
   "cell_type": "code",
   "execution_count": 77,
   "metadata": {},
   "outputs": [],
   "source": [
    "from langchain_openai import ChatOpenAI\n",
    "from langchain.memory import ConversationSummaryBufferMemory"
   ]
  },
  {
   "cell_type": "code",
   "execution_count": 79,
   "metadata": {},
   "outputs": [],
   "source": [
    "llm = ChatOpenAI(model = 'gpt-4o-mini')"
   ]
  },
  {
   "cell_type": "code",
   "execution_count": 80,
   "metadata": {},
   "outputs": [
    {
     "name": "stderr",
     "output_type": "stream",
     "text": [
      "C:\\Users\\RMARKET\\AppData\\Local\\Temp\\ipykernel_17708\\2976805407.py:1: LangChainDeprecationWarning: Please see the migration guide at: https://python.langchain.com/docs/versions/migrating_memory/\n",
      "  memory = ConversationSummaryBufferMemory(\n"
     ]
    }
   ],
   "source": [
    "memory = ConversationSummaryBufferMemory(\n",
    "    llm = llm,\n",
    "    max_token_limit=200,\n",
    "    return_messages = True\n",
    ")\n",
    "# 대화내용을 요약해서 저장"
   ]
  },
  {
   "cell_type": "code",
   "execution_count": 81,
   "metadata": {},
   "outputs": [],
   "source": [
    "memory.save_context(\n",
    "    inputs={\"human\": \"이 식당에서 가장 인기 있는 메뉴는 무엇인가요?\"},\n",
    "    outputs={\n",
    "        \"ai\": \"이 식당에서 가장 인기 있는 메뉴는 불고기 정식, 해물파전, 비빔밥, 그리고 감자탕입니다. 특히 불고기는 달콤하고 짭짤한 맛으로 외국인 손님들에게도 큰 인기를 끌고 있습니다.\"\n",
    "    },\n",
    ")\n",
    "memory.save_context(\n",
    "    inputs={\"human\": \"채식주의자를 위한 메뉴가 제공되나요?\"},\n",
    "    outputs={\n",
    "        \"ai\": \"네, 채식주의자를 위한 메뉴로 채소 비빔밥, 두부구이, 야채전, 그리고 나물 반찬 세트를 제공합니다. 신선한 제철 채소로 만들어져 건강하고 맛있는 식사를 즐기실 수 있습니다.\"\n",
    "    },\n",
    ")\n",
    "memory.save_context(\n",
    "    inputs={\"human\": \"어린이를 위한 메뉴도 있나요?\"},\n",
    "    outputs={\n",
    "        \"ai\": \"네, 어린이를 위한 메뉴로 미니 김밥, 떡볶이, 그리고 달콤한 간장 치킨을 준비하고 있습니다. 아이들이 좋아할 만한 맛과 건강을 고려한 요리들입니다.\"\n",
    "    },\n",
    ")\n",
    "memory.save_context(\n",
    "    inputs={\"human\": \"이 식당은 어떤 분위기를 가지고 있나요?\"},\n",
    "    outputs={\n",
    "        \"ai\": \"이 식당은 한옥 스타일의 인테리어로 전통적인 한국의 분위기를 느낄 수 있습니다. 따뜻하고 편안한 조명과 현대적인 디자인이 조화를 이루어 가족 단위 손님뿐만 아니라 연인들의 데이트 장소로도 인기가 많습니다.\"\n",
    "    },\n",
    ")"
   ]
  },
  {
   "cell_type": "code",
   "execution_count": 83,
   "metadata": {},
   "outputs": [
    {
     "data": {
      "text/plain": [
       "[SystemMessage(content='The human asks about the most popular menu items at the restaurant. The AI responds that the most popular items are bulgogi set, seafood pancake, bibimbap, and potato soup, noting that bulgogi is particularly popular among foreign guests due to its sweet and savory flavor. The human then inquires if there are menu options for vegetarians, to which the AI replies that vegetarian dishes include vegetable bibimbap, grilled tofu, vegetable pancakes, and a set of seasonal vegetable side dishes, all made with fresh, seasonal ingredients for a healthy and delicious meal.', additional_kwargs={}, response_metadata={}),\n",
       " HumanMessage(content='어린이를 위한 메뉴도 있나요?', additional_kwargs={}, response_metadata={}),\n",
       " AIMessage(content='네, 어린이를 위한 메뉴로 미니 김밥, 떡볶이, 그리고 달콤한 간장 치킨을 준비하고 있습니다. 아이들이 좋아할 만한 맛과 건강을 고려한 요리들입니다.', additional_kwargs={}, response_metadata={}),\n",
       " HumanMessage(content='이 식당은 어떤 분위기를 가지고 있나요?', additional_kwargs={}, response_metadata={}),\n",
       " AIMessage(content='이 식당은 한옥 스타일의 인테리어로 전통적인 한국의 분위기를 느낄 수 있습니다. 따뜻하고 편안한 조명과 현대적인 디자인이 조화를 이루어 가족 단위 손님뿐만 아니라 연인들의 데이트 장소로도 인기가 많습니다.', additional_kwargs={}, response_metadata={})]"
      ]
     },
     "execution_count": 83,
     "metadata": {},
     "output_type": "execute_result"
    }
   ],
   "source": [
    "memory.load_memory_variables({})['history']"
   ]
  },
  {
   "cell_type": "code",
   "execution_count": null,
   "metadata": {},
   "outputs": [
    {
     "data": {
      "text/plain": [
       "'The human asks about the most popular menu items at the restaurant. The AI responds that the most popular items are bulgogi set, seafood pancake, bibimbap, and potato soup, noting that bulgogi is particularly popular among foreign guests due to its sweet and savory flavor. The human then inquires if there are menu options for vegetarians, to which the AI replies that vegetarian dishes include vegetable bibimbap, grilled tofu, vegetable pancakes, and a set of seasonal vegetable side dishes, all made with fresh, seasonal ingredients for a healthy and delicious meal.'"
      ]
     },
     "execution_count": 84,
     "metadata": {},
     "output_type": "execute_result"
    }
   ],
   "source": [
    "memory.load_memory_variables({})['history'][0].content # 대화내용을 요약본으로 저장 (30개 이상은 요약본으로 저장)"
   ]
  },
  {
   "cell_type": "code",
   "execution_count": null,
   "metadata": {},
   "outputs": [],
   "source": []
  }
 ],
 "metadata": {
  "kernelspec": {
   "display_name": "langchain",
   "language": "python",
   "name": "python3"
  },
  "language_info": {
   "codemirror_mode": {
    "name": "ipython",
    "version": 3
   },
   "file_extension": ".py",
   "mimetype": "text/x-python",
   "name": "python",
   "nbconvert_exporter": "python",
   "pygments_lexer": "ipython3",
   "version": "3.11.10"
  }
 },
 "nbformat": 4,
 "nbformat_minor": 2
}
