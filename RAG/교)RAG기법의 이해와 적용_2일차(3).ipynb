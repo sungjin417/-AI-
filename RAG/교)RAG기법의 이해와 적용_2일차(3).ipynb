{
 "cells": [
  {
   "cell_type": "markdown",
   "metadata": {},
   "source": [
    "\n",
    "# 🌼 RAG기법의 이해와 적용(3) - 2차시(24.11.29)\n",
    "\n",
    "---"
   ]
  },
  {
   "cell_type": "code",
   "execution_count": 1,
   "metadata": {},
   "outputs": [
    {
     "data": {
      "text/plain": [
       "True"
      ]
     },
     "execution_count": 1,
     "metadata": {},
     "output_type": "execute_result"
    }
   ],
   "source": [
    "from dotenv import load_dotenv\n",
    "\n",
    "load_dotenv()"
   ]
  },
  {
   "cell_type": "code",
   "execution_count": 2,
   "metadata": {},
   "outputs": [
    {
     "name": "stdout",
     "output_type": "stream",
     "text": [
      "LangSmith 추적을 시작합니다.\n",
      "[프로젝트명]\n",
      "CLASS\n"
     ]
    }
   ],
   "source": [
    "from langchain_teddynote import logging\n",
    "logging.langsmith('CLASS')"
   ]
  },
  {
   "cell_type": "code",
   "execution_count": 3,
   "metadata": {},
   "outputs": [],
   "source": [
    "from langchain_openai import ChatOpenAI\n",
    "from langchain_core.prompts import PromptTemplate"
   ]
  },
  {
   "cell_type": "code",
   "execution_count": 4,
   "metadata": {},
   "outputs": [],
   "source": [
    "llm = ChatOpenAI(model_name='gpt-4o')"
   ]
  },
  {
   "cell_type": "code",
   "execution_count": 5,
   "metadata": {},
   "outputs": [],
   "source": [
    "# 속도를 더 빠르게\n",
    "prompt = PromptTemplate.from_template('{country}에 대해 300자 내외로 요약해서 설명해줘')"
   ]
  },
  {
   "cell_type": "code",
   "execution_count": 6,
   "metadata": {},
   "outputs": [],
   "source": [
    "chain = prompt | llm"
   ]
  },
  {
   "cell_type": "code",
   "execution_count": 8,
   "metadata": {},
   "outputs": [
    {
     "name": "stdout",
     "output_type": "stream",
     "text": [
      "한국은 동아시아에 위치한 한반도의 남쪽 부분을 차지하고 있는 나라로, 공식 명칭은 대한민국입니다. 서울이 수도이며, 약 5천만 명의 인구를 가지고 있습니다. 한국은 경제적으로 고도로 발전한 국가로, 기술과 혁신의 중심지로 알려져 있으며, 삼성, 현대와 같은 글로벌 기업들이 본사를 두고 있습니다. 또한, K-팝, 드라마, 영화 등 한류 문화가 전 세계적으로 인기를 끌고 있습니다. 한국은 민주주의 체제를 갖추고 있으며, 교육열이 높고 의료 시스템이 잘 발달되어 있습니다. 역사적으로는 긴 세월 동안 중국과 일본의 영향을 받았으며, 현재는 분단국가로서 북한과의 관계가 중요한 이슈 중 하나입니다.\n",
      "CPU times: total: 15.6 ms\n",
      "Wall time: 3.3 s\n"
     ]
    }
   ],
   "source": [
    "%%time\n",
    "response = chain.invoke({'country' : '한국'})\n",
    "print(response.content)"
   ]
  },
  {
   "cell_type": "code",
   "execution_count": 15,
   "metadata": {},
   "outputs": [],
   "source": [
    "from langchain.globals import set_llm_cache\n",
    "from langchain.cache import InMemoryCache\n",
    "\n",
    "set_llm_cache(InMemoryCache())\n",
    "# 이미 처리된 요청과 응답 데이터를 메모리에 저장 -> 동일한 요청이 들어오면 결과를 재사용"
   ]
  },
  {
   "cell_type": "code",
   "execution_count": 16,
   "metadata": {},
   "outputs": [
    {
     "name": "stdout",
     "output_type": "stream",
     "text": [
      "한국은 동아시아에 위치한 반도 국가로, 공식적으로는 대한민국이라 불립니다. 한반도의 남쪽을 차지하고 있으며, 북쪽으로는 북한과 접경을 이루고 있습니다. 수도는 서울이며, 인구는 약 5천만 명입니다. 한국은 첨단 기술과 문화, 특히 K-팝, 드라마, 영화 등으로 세계적으로 인기를 끌고 있습니다. 경제는 자동차, 전자제품, 조선업 등 다양한 산업에서 강세를 보입니다. 또한, 한국은 독특한 역사와 전통을 지닌 국가로, 한글이라는 독창적인 문자를 사용합니다.\n",
      "CPU times: total: 62.5 ms\n",
      "Wall time: 1.91 s\n"
     ]
    }
   ],
   "source": [
    "%%time\n",
    "response = chain.invoke({'country' : '한국'})\n",
    "print(response.content)"
   ]
  },
  {
   "cell_type": "code",
   "execution_count": 32,
   "metadata": {},
   "outputs": [],
   "source": [
    "from langchain_community.cache import SQLiteCache\n",
    "from langchain_core.globals import set_llm_cache\n",
    "import os"
   ]
  },
  {
   "cell_type": "code",
   "execution_count": 33,
   "metadata": {},
   "outputs": [],
   "source": [
    "if not os.path.exists('cache'):\n",
    "    os.makedirs('cache')"
   ]
  },
  {
   "cell_type": "code",
   "execution_count": 34,
   "metadata": {},
   "outputs": [],
   "source": [
    "set_llm_cache(SQLiteCache(database_path = 'cache/llm_cache.db'))"
   ]
  },
  {
   "cell_type": "code",
   "execution_count": 35,
   "metadata": {},
   "outputs": [
    {
     "name": "stdout",
     "output_type": "stream",
     "text": [
      "캐나다는 북아메리카 대륙의 북부에 위치한 나라로, 세계에서 두 번째로 큰 면적을 자랑합니다. 수도는 오타와이며, 주요 도시로는 토론토, 밴쿠버, 몬트리올 등이 있습니다. 공식 언어는 영어와 프랑스어이며, 다문화 사회로서 다양한 인종과 문화가 공존합니다. 자연 경관이 뛰어나며, 로키 산맥과 나이아가라 폭포와 같은 관광 명소가 유명합니다. 정치적으로는 입헌군주제와 연방제를 채택하고 있으며, 경제는 자원 개발과 무역, 서비스 산업에 기반을 두고 있습니다.\n",
      "CPU times: total: 15.6 ms\n",
      "Wall time: 11.5 ms\n"
     ]
    }
   ],
   "source": [
    "%%time\n",
    "response = chain.invoke({'country' : '캐나다'})\n",
    "print(response.content)"
   ]
  },
  {
   "cell_type": "code",
   "execution_count": 41,
   "metadata": {},
   "outputs": [
    {
     "name": "stdout",
     "output_type": "stream",
     "text": [
      "영국은 서유럽에 위치한 섬나라이며, 잉글랜드, 스코틀랜드, 웨일스, 북아일랜드로 구성된 연합 왕국입니다. 수도는 런던으로, 세계적인 금융, 문화, 역사 중심지입니다. 영국은 입헌군주제로, 현재의 국왕은 찰스 3세입니다. 산업혁명의 발상지로서 경제 발전의 선두주자였으며, 현재도 경제, 정치, 문화 등 다양한 분야에서 국제적 영향력을 행사하고 있습니다. 주요 명소로는 런던의 빅벤, 타워브리지, 에든버러 성 등이 있습니다. 또한, 영국은 프리미어 리그로 유명한 축구의 본고장이기도 합니다.\n",
      "CPU times: total: 109 ms\n",
      "Wall time: 2.9 s\n"
     ]
    }
   ],
   "source": [
    "%%time\n",
    "response = chain.invoke({'country' : '영국'})\n",
    "print(response.content)"
   ]
  },
  {
   "cell_type": "code",
   "execution_count": 37,
   "metadata": {},
   "outputs": [],
   "source": [
    "# db가 어떻게 저장되었는지 확인\n",
    "import sqlite3"
   ]
  },
  {
   "cell_type": "code",
   "execution_count": 38,
   "metadata": {},
   "outputs": [],
   "source": [
    "db_path = 'cache/llm_cache.db'\n",
    "conn = sqlite3.connect(db_path)\n",
    "cursor = conn.cursor()"
   ]
  },
  {
   "cell_type": "code",
   "execution_count": 39,
   "metadata": {},
   "outputs": [
    {
     "name": "stdout",
     "output_type": "stream",
     "text": [
      "Tables [('full_llm_cache',), ('full_md5_llm_cache',)]\n"
     ]
    }
   ],
   "source": [
    "cursor.execute(\"SELECT name FROM  sqlite_master WHERE type='table';\")\n",
    "tables = cursor.fetchall()\n",
    "print('Tables', tables)"
   ]
  },
  {
   "cell_type": "code",
   "execution_count": 42,
   "metadata": {},
   "outputs": [
    {
     "name": "stdout",
     "output_type": "stream",
     "text": [
      "\n",
      "cache contesnts:\n",
      "('[{\"lc\": 1, \"type\": \"constructor\", \"id\": [\"langchain\", \"schema\", \"messages\", \"HumanMessage\"], \"kwargs\": {\"content\": \"\\\\uce90\\\\ub098\\\\ub2e4\\\\uc5d0 \\\\ub300\\\\ud574 300\\\\uc790 \\\\ub0b4\\\\uc678\\\\ub85c \\\\uc694\\\\uc57d\\\\ud574\\\\uc11c \\\\uc124\\\\uba85\\\\ud574\\\\uc918\", \"type\": \"human\"}}]', '{\"id\": [\"langchain\", \"chat_models\", \"openai\", \"ChatOpenAI\"], \"kwargs\": {\"max_retries\": 2, \"model_name\": \"gpt-4o\", \"n\": 1, \"openai_api_key\": {\"id\": [\"OPENAI_API_KEY\"], \"lc\": 1, \"type\": \"secret\"}, \"temperature\": 0.7}, \"lc\": 1, \"name\": \"ChatOpenAI\", \"type\": \"constructor\"}---[(\\'stop\\', None)]', 0, '{\"lc\": 1, \"type\": \"constructor\", \"id\": [\"langchain\", \"schema\", \"output\", \"ChatGeneration\"], \"kwargs\": {\"text\": \"\\\\uce90\\\\ub098\\\\ub2e4\\\\ub294 \\\\ubd81\\\\uc544\\\\uba54\\\\ub9ac\\\\uce74 \\\\ub300\\\\ub959\\\\uc758 \\\\ubd81\\\\ubd80\\\\uc5d0 \\\\uc704\\\\uce58\\\\ud55c \\\\ub098\\\\ub77c\\\\ub85c, \\\\uc138\\\\uacc4\\\\uc5d0\\\\uc11c \\\\ub450 \\\\ubc88\\\\uc9f8\\\\ub85c \\\\ud070 \\\\uba74\\\\uc801\\\\uc744 \\\\uc790\\\\ub791\\\\ud569\\\\ub2c8\\\\ub2e4. \\\\uc218\\\\ub3c4\\\\ub294 \\\\uc624\\\\ud0c0\\\\uc640\\\\uc774\\\\uba70, \\\\uc8fc\\\\uc694 \\\\ub3c4\\\\uc2dc\\\\ub85c\\\\ub294 \\\\ud1a0\\\\ub860\\\\ud1a0, \\\\ubc34\\\\ucfe0\\\\ubc84, \\\\ubaac\\\\ud2b8\\\\ub9ac\\\\uc62c \\\\ub4f1\\\\uc774 \\\\uc788\\\\uc2b5\\\\ub2c8\\\\ub2e4. \\\\uacf5\\\\uc2dd \\\\uc5b8\\\\uc5b4\\\\ub294 \\\\uc601\\\\uc5b4\\\\uc640 \\\\ud504\\\\ub791\\\\uc2a4\\\\uc5b4\\\\uc774\\\\uba70, \\\\ub2e4\\\\ubb38\\\\ud654 \\\\uc0ac\\\\ud68c\\\\ub85c\\\\uc11c \\\\ub2e4\\\\uc591\\\\ud55c \\\\uc778\\\\uc885\\\\uacfc \\\\ubb38\\\\ud654\\\\uac00 \\\\uacf5\\\\uc874\\\\ud569\\\\ub2c8\\\\ub2e4. \\\\uc790\\\\uc5f0 \\\\uacbd\\\\uad00\\\\uc774 \\\\ub6f0\\\\uc5b4\\\\ub098\\\\uba70, \\\\ub85c\\\\ud0a4 \\\\uc0b0\\\\ub9e5\\\\uacfc \\\\ub098\\\\uc774\\\\uc544\\\\uac00\\\\ub77c \\\\ud3ed\\\\ud3ec\\\\uc640 \\\\uac19\\\\uc740 \\\\uad00\\\\uad11 \\\\uba85\\\\uc18c\\\\uac00 \\\\uc720\\\\uba85\\\\ud569\\\\ub2c8\\\\ub2e4. \\\\uc815\\\\uce58\\\\uc801\\\\uc73c\\\\ub85c\\\\ub294 \\\\uc785\\\\ud5cc\\\\uad70\\\\uc8fc\\\\uc81c\\\\uc640 \\\\uc5f0\\\\ubc29\\\\uc81c\\\\ub97c \\\\ucc44\\\\ud0dd\\\\ud558\\\\uace0 \\\\uc788\\\\uc73c\\\\uba70, \\\\uacbd\\\\uc81c\\\\ub294 \\\\uc790\\\\uc6d0 \\\\uac1c\\\\ubc1c\\\\uacfc \\\\ubb34\\\\uc5ed, \\\\uc11c\\\\ube44\\\\uc2a4 \\\\uc0b0\\\\uc5c5\\\\uc5d0 \\\\uae30\\\\ubc18\\\\uc744 \\\\ub450\\\\uace0 \\\\uc788\\\\uc2b5\\\\ub2c8\\\\ub2e4.\", \"generation_info\": {\"finish_reason\": \"stop\", \"logprobs\": null}, \"type\": \"ChatGeneration\", \"message\": {\"lc\": 1, \"type\": \"constructor\", \"id\": [\"langchain\", \"schema\", \"messages\", \"AIMessage\"], \"kwargs\": {\"content\": \"\\\\uce90\\\\ub098\\\\ub2e4\\\\ub294 \\\\ubd81\\\\uc544\\\\uba54\\\\ub9ac\\\\uce74 \\\\ub300\\\\ub959\\\\uc758 \\\\ubd81\\\\ubd80\\\\uc5d0 \\\\uc704\\\\uce58\\\\ud55c \\\\ub098\\\\ub77c\\\\ub85c, \\\\uc138\\\\uacc4\\\\uc5d0\\\\uc11c \\\\ub450 \\\\ubc88\\\\uc9f8\\\\ub85c \\\\ud070 \\\\uba74\\\\uc801\\\\uc744 \\\\uc790\\\\ub791\\\\ud569\\\\ub2c8\\\\ub2e4. \\\\uc218\\\\ub3c4\\\\ub294 \\\\uc624\\\\ud0c0\\\\uc640\\\\uc774\\\\uba70, \\\\uc8fc\\\\uc694 \\\\ub3c4\\\\uc2dc\\\\ub85c\\\\ub294 \\\\ud1a0\\\\ub860\\\\ud1a0, \\\\ubc34\\\\ucfe0\\\\ubc84, \\\\ubaac\\\\ud2b8\\\\ub9ac\\\\uc62c \\\\ub4f1\\\\uc774 \\\\uc788\\\\uc2b5\\\\ub2c8\\\\ub2e4. \\\\uacf5\\\\uc2dd \\\\uc5b8\\\\uc5b4\\\\ub294 \\\\uc601\\\\uc5b4\\\\uc640 \\\\ud504\\\\ub791\\\\uc2a4\\\\uc5b4\\\\uc774\\\\uba70, \\\\ub2e4\\\\ubb38\\\\ud654 \\\\uc0ac\\\\ud68c\\\\ub85c\\\\uc11c \\\\ub2e4\\\\uc591\\\\ud55c \\\\uc778\\\\uc885\\\\uacfc \\\\ubb38\\\\ud654\\\\uac00 \\\\uacf5\\\\uc874\\\\ud569\\\\ub2c8\\\\ub2e4. \\\\uc790\\\\uc5f0 \\\\uacbd\\\\uad00\\\\uc774 \\\\ub6f0\\\\uc5b4\\\\ub098\\\\uba70, \\\\ub85c\\\\ud0a4 \\\\uc0b0\\\\ub9e5\\\\uacfc \\\\ub098\\\\uc774\\\\uc544\\\\uac00\\\\ub77c \\\\ud3ed\\\\ud3ec\\\\uc640 \\\\uac19\\\\uc740 \\\\uad00\\\\uad11 \\\\uba85\\\\uc18c\\\\uac00 \\\\uc720\\\\uba85\\\\ud569\\\\ub2c8\\\\ub2e4. \\\\uc815\\\\uce58\\\\uc801\\\\uc73c\\\\ub85c\\\\ub294 \\\\uc785\\\\ud5cc\\\\uad70\\\\uc8fc\\\\uc81c\\\\uc640 \\\\uc5f0\\\\ubc29\\\\uc81c\\\\ub97c \\\\ucc44\\\\ud0dd\\\\ud558\\\\uace0 \\\\uc788\\\\uc73c\\\\uba70, \\\\uacbd\\\\uc81c\\\\ub294 \\\\uc790\\\\uc6d0 \\\\uac1c\\\\ubc1c\\\\uacfc \\\\ubb34\\\\uc5ed, \\\\uc11c\\\\ube44\\\\uc2a4 \\\\uc0b0\\\\uc5c5\\\\uc5d0 \\\\uae30\\\\ubc18\\\\uc744 \\\\ub450\\\\uace0 \\\\uc788\\\\uc2b5\\\\ub2c8\\\\ub2e4.\", \"additional_kwargs\": {\"refusal\": null}, \"response_metadata\": {\"token_usage\": {\"completion_tokens\": 152, \"prompt_tokens\": 23, \"total_tokens\": 175, \"completion_tokens_details\": {\"accepted_prediction_tokens\": 0, \"audio_tokens\": 0, \"reasoning_tokens\": 0, \"rejected_prediction_tokens\": 0}, \"prompt_tokens_details\": {\"audio_tokens\": 0, \"cached_tokens\": 0}}, \"model_name\": \"gpt-4o-2024-08-06\", \"system_fingerprint\": \"fp_831e067d82\", \"finish_reason\": \"stop\", \"logprobs\": null}, \"type\": \"ai\", \"id\": \"run-05f98043-cbca-4e25-9db1-83d891aa109c-0\", \"usage_metadata\": {\"input_tokens\": 23, \"output_tokens\": 152, \"total_tokens\": 175, \"input_token_details\": {\"audio\": 0, \"cache_read\": 0}, \"output_token_details\": {\"audio\": 0, \"reasoning\": 0}}, \"tool_calls\": [], \"invalid_tool_calls\": []}}}}')\n",
      "('[{\"lc\": 1, \"type\": \"constructor\", \"id\": [\"langchain\", \"schema\", \"messages\", \"HumanMessage\"], \"kwargs\": {\"content\": \"\\\\uc601\\\\uad6d\\\\uc5d0 \\\\ub300\\\\ud574 300\\\\uc790 \\\\ub0b4\\\\uc678\\\\ub85c \\\\uc694\\\\uc57d\\\\ud574\\\\uc11c \\\\uc124\\\\uba85\\\\ud574\\\\uc918\", \"type\": \"human\"}}]', '{\"id\": [\"langchain\", \"chat_models\", \"openai\", \"ChatOpenAI\"], \"kwargs\": {\"max_retries\": 2, \"model_name\": \"gpt-4o\", \"n\": 1, \"openai_api_key\": {\"id\": [\"OPENAI_API_KEY\"], \"lc\": 1, \"type\": \"secret\"}, \"temperature\": 0.7}, \"lc\": 1, \"name\": \"ChatOpenAI\", \"type\": \"constructor\"}---[(\\'stop\\', None)]', 0, '{\"lc\": 1, \"type\": \"constructor\", \"id\": [\"langchain\", \"schema\", \"output\", \"ChatGeneration\"], \"kwargs\": {\"text\": \"\\\\uc601\\\\uad6d\\\\uc740 \\\\uc11c\\\\uc720\\\\ub7fd\\\\uc5d0 \\\\uc704\\\\uce58\\\\ud55c \\\\uc12c\\\\ub098\\\\ub77c\\\\uc774\\\\uba70, \\\\uc789\\\\uae00\\\\ub79c\\\\ub4dc, \\\\uc2a4\\\\ucf54\\\\ud2c0\\\\ub79c\\\\ub4dc, \\\\uc6e8\\\\uc77c\\\\uc2a4, \\\\ubd81\\\\uc544\\\\uc77c\\\\ub79c\\\\ub4dc\\\\ub85c \\\\uad6c\\\\uc131\\\\ub41c \\\\uc5f0\\\\ud569 \\\\uc655\\\\uad6d\\\\uc785\\\\ub2c8\\\\ub2e4. \\\\uc218\\\\ub3c4\\\\ub294 \\\\ub7f0\\\\ub358\\\\uc73c\\\\ub85c, \\\\uc138\\\\uacc4\\\\uc801\\\\uc778 \\\\uae08\\\\uc735, \\\\ubb38\\\\ud654, \\\\uc5ed\\\\uc0ac \\\\uc911\\\\uc2ec\\\\uc9c0\\\\uc785\\\\ub2c8\\\\ub2e4. \\\\uc601\\\\uad6d\\\\uc740 \\\\uc785\\\\ud5cc\\\\uad70\\\\uc8fc\\\\uc81c\\\\ub85c, \\\\ud604\\\\uc7ac\\\\uc758 \\\\uad6d\\\\uc655\\\\uc740 \\\\ucc30\\\\uc2a4 3\\\\uc138\\\\uc785\\\\ub2c8\\\\ub2e4. \\\\uc0b0\\\\uc5c5\\\\ud601\\\\uba85\\\\uc758 \\\\ubc1c\\\\uc0c1\\\\uc9c0\\\\ub85c\\\\uc11c \\\\uacbd\\\\uc81c \\\\ubc1c\\\\uc804\\\\uc758 \\\\uc120\\\\ub450\\\\uc8fc\\\\uc790\\\\uc600\\\\uc73c\\\\uba70, \\\\ud604\\\\uc7ac\\\\ub3c4 \\\\uacbd\\\\uc81c, \\\\uc815\\\\uce58, \\\\ubb38\\\\ud654 \\\\ub4f1 \\\\ub2e4\\\\uc591\\\\ud55c \\\\ubd84\\\\uc57c\\\\uc5d0\\\\uc11c \\\\uad6d\\\\uc81c\\\\uc801 \\\\uc601\\\\ud5a5\\\\ub825\\\\uc744 \\\\ud589\\\\uc0ac\\\\ud558\\\\uace0 \\\\uc788\\\\uc2b5\\\\ub2c8\\\\ub2e4. \\\\uc8fc\\\\uc694 \\\\uba85\\\\uc18c\\\\ub85c\\\\ub294 \\\\ub7f0\\\\ub358\\\\uc758 \\\\ube45\\\\ubca4, \\\\ud0c0\\\\uc6cc\\\\ube0c\\\\ub9ac\\\\uc9c0, \\\\uc5d0\\\\ub4e0\\\\ubc84\\\\ub7ec \\\\uc131 \\\\ub4f1\\\\uc774 \\\\uc788\\\\uc2b5\\\\ub2c8\\\\ub2e4. \\\\ub610\\\\ud55c, \\\\uc601\\\\uad6d\\\\uc740 \\\\ud504\\\\ub9ac\\\\ubbf8\\\\uc5b4 \\\\ub9ac\\\\uadf8\\\\ub85c \\\\uc720\\\\uba85\\\\ud55c \\\\ucd95\\\\uad6c\\\\uc758 \\\\ubcf8\\\\uace0\\\\uc7a5\\\\uc774\\\\uae30\\\\ub3c4 \\\\ud569\\\\ub2c8\\\\ub2e4.\", \"generation_info\": {\"finish_reason\": \"stop\", \"logprobs\": null}, \"type\": \"ChatGeneration\", \"message\": {\"lc\": 1, \"type\": \"constructor\", \"id\": [\"langchain\", \"schema\", \"messages\", \"AIMessage\"], \"kwargs\": {\"content\": \"\\\\uc601\\\\uad6d\\\\uc740 \\\\uc11c\\\\uc720\\\\ub7fd\\\\uc5d0 \\\\uc704\\\\uce58\\\\ud55c \\\\uc12c\\\\ub098\\\\ub77c\\\\uc774\\\\uba70, \\\\uc789\\\\uae00\\\\ub79c\\\\ub4dc, \\\\uc2a4\\\\ucf54\\\\ud2c0\\\\ub79c\\\\ub4dc, \\\\uc6e8\\\\uc77c\\\\uc2a4, \\\\ubd81\\\\uc544\\\\uc77c\\\\ub79c\\\\ub4dc\\\\ub85c \\\\uad6c\\\\uc131\\\\ub41c \\\\uc5f0\\\\ud569 \\\\uc655\\\\uad6d\\\\uc785\\\\ub2c8\\\\ub2e4. \\\\uc218\\\\ub3c4\\\\ub294 \\\\ub7f0\\\\ub358\\\\uc73c\\\\ub85c, \\\\uc138\\\\uacc4\\\\uc801\\\\uc778 \\\\uae08\\\\uc735, \\\\ubb38\\\\ud654, \\\\uc5ed\\\\uc0ac \\\\uc911\\\\uc2ec\\\\uc9c0\\\\uc785\\\\ub2c8\\\\ub2e4. \\\\uc601\\\\uad6d\\\\uc740 \\\\uc785\\\\ud5cc\\\\uad70\\\\uc8fc\\\\uc81c\\\\ub85c, \\\\ud604\\\\uc7ac\\\\uc758 \\\\uad6d\\\\uc655\\\\uc740 \\\\ucc30\\\\uc2a4 3\\\\uc138\\\\uc785\\\\ub2c8\\\\ub2e4. \\\\uc0b0\\\\uc5c5\\\\ud601\\\\uba85\\\\uc758 \\\\ubc1c\\\\uc0c1\\\\uc9c0\\\\ub85c\\\\uc11c \\\\uacbd\\\\uc81c \\\\ubc1c\\\\uc804\\\\uc758 \\\\uc120\\\\ub450\\\\uc8fc\\\\uc790\\\\uc600\\\\uc73c\\\\uba70, \\\\ud604\\\\uc7ac\\\\ub3c4 \\\\uacbd\\\\uc81c, \\\\uc815\\\\uce58, \\\\ubb38\\\\ud654 \\\\ub4f1 \\\\ub2e4\\\\uc591\\\\ud55c \\\\ubd84\\\\uc57c\\\\uc5d0\\\\uc11c \\\\uad6d\\\\uc81c\\\\uc801 \\\\uc601\\\\ud5a5\\\\ub825\\\\uc744 \\\\ud589\\\\uc0ac\\\\ud558\\\\uace0 \\\\uc788\\\\uc2b5\\\\ub2c8\\\\ub2e4. \\\\uc8fc\\\\uc694 \\\\uba85\\\\uc18c\\\\ub85c\\\\ub294 \\\\ub7f0\\\\ub358\\\\uc758 \\\\ube45\\\\ubca4, \\\\ud0c0\\\\uc6cc\\\\ube0c\\\\ub9ac\\\\uc9c0, \\\\uc5d0\\\\ub4e0\\\\ubc84\\\\ub7ec \\\\uc131 \\\\ub4f1\\\\uc774 \\\\uc788\\\\uc2b5\\\\ub2c8\\\\ub2e4. \\\\ub610\\\\ud55c, \\\\uc601\\\\uad6d\\\\uc740 \\\\ud504\\\\ub9ac\\\\ubbf8\\\\uc5b4 \\\\ub9ac\\\\uadf8\\\\ub85c \\\\uc720\\\\uba85\\\\ud55c \\\\ucd95\\\\uad6c\\\\uc758 \\\\ubcf8\\\\uace0\\\\uc7a5\\\\uc774\\\\uae30\\\\ub3c4 \\\\ud569\\\\ub2c8\\\\ub2e4.\", \"additional_kwargs\": {\"refusal\": null}, \"response_metadata\": {\"token_usage\": {\"completion_tokens\": 169, \"prompt_tokens\": 23, \"total_tokens\": 192, \"completion_tokens_details\": {\"accepted_prediction_tokens\": 0, \"audio_tokens\": 0, \"reasoning_tokens\": 0, \"rejected_prediction_tokens\": 0}, \"prompt_tokens_details\": {\"audio_tokens\": 0, \"cached_tokens\": 0}}, \"model_name\": \"gpt-4o-2024-08-06\", \"system_fingerprint\": \"fp_831e067d82\", \"finish_reason\": \"stop\", \"logprobs\": null}, \"type\": \"ai\", \"id\": \"run-27890d82-4083-4918-8a03-865e7f549be7-0\", \"usage_metadata\": {\"input_tokens\": 23, \"output_tokens\": 169, \"total_tokens\": 192, \"input_token_details\": {\"audio\": 0, \"cache_read\": 0}, \"output_token_details\": {\"audio\": 0, \"reasoning\": 0}}, \"tool_calls\": [], \"invalid_tool_calls\": []}}}}')\n"
     ]
    }
   ],
   "source": [
    "cursor.execute('SELECT * FROM full_llm_cache;')\n",
    "rows = cursor.fetchall()\n",
    "print('\\ncache contesnts:')\n",
    "\n",
    "for row in rows:\n",
    "    print(row)"
   ]
  },
  {
   "cell_type": "code",
   "execution_count": 43,
   "metadata": {},
   "outputs": [],
   "source": [
    "conn.close() # 디비를 잘 저장하기 위해 사용"
   ]
  },
  {
   "cell_type": "code",
   "execution_count": 44,
   "metadata": {},
   "outputs": [],
   "source": [
    "from langchain.callbacks import get_openai_callback\n",
    "from langchain_openai import ChatOpenAI"
   ]
  },
  {
   "cell_type": "code",
   "execution_count": 46,
   "metadata": {},
   "outputs": [
    {
     "name": "stdout",
     "output_type": "stream",
     "text": [
      "Tokens Used: 26\n",
      "\tPrompt Tokens: 15\n",
      "\tCompletion Tokens: 11\n",
      "Successful Requests: 1\n",
      "Total Cost (USD): $0.00014749999999999998\n",
      "CPU times: total: 62.5 ms\n",
      "Wall time: 688 ms\n"
     ]
    }
   ],
   "source": [
    "%%time\n",
    "with get_openai_callback() as cb:\n",
    "    result = llm.invoke('대한민국에 수도는 어디인가요')\n",
    "    print(cb)"
   ]
  },
  {
   "cell_type": "code",
   "execution_count": 47,
   "metadata": {},
   "outputs": [
    {
     "name": "stdout",
     "output_type": "stream",
     "text": [
      "총 사용된 토큰 수 : 25\n",
      "프롬프트에 사용된 토큰 수 : 15\n",
      "답변에 사용된 토큰 수 : 10\n",
      "호출에 청구된 금액(USD) : 0.0001375\n"
     ]
    }
   ],
   "source": [
    "with get_openai_callback() as cb:\n",
    "    result = llm.invoke('겨울은 영어로 뭐야?')\n",
    "    print(f'총 사용된 토큰 수 : {cb.total_tokens}')\n",
    "    print(f'프롬프트에 사용된 토큰 수 : {cb.prompt_tokens}')\n",
    "    print(f'답변에 사용된 토큰 수 : {cb.completion_tokens}')\n",
    "    print(f'호출에 청구된 금액(USD) : {cb.total_cost}')"
   ]
  },
  {
   "cell_type": "code",
   "execution_count": null,
   "metadata": {},
   "outputs": [
    {
     "name": "stdout",
     "output_type": "stream",
     "text": [
      "Note: you may need to restart the kernel to use updated packages.\n"
     ]
    },
    {
     "name": "stderr",
     "output_type": "stream",
     "text": [
      "  WARNING: Failed to remove contents in a temporary directory 'C:\\Users\\RMARKET\\anaconda3\\envs\\langchain\\Lib\\site-packages\\~ydantic_core'.\n",
      "  You can safely remove it manually.\n"
     ]
    }
   ],
   "source": [
    "# pip install -qU langchain-community arxiv pymupdf pypdf unstructured python-pptx"
   ]
  },
  {
   "cell_type": "code",
   "execution_count": 49,
   "metadata": {},
   "outputs": [],
   "source": [
    "file_path = './data/SPRi AI Brief_11월호_산업동향_F.pdf'"
   ]
  },
  {
   "cell_type": "code",
   "execution_count": 54,
   "metadata": {},
   "outputs": [],
   "source": [
    "# 메타데이터를 볼 수 있게 하는 함수\n",
    "# source, page, meta-data를 불러옴\n",
    "def show_metadata(docs):\n",
    "    if docs:\n",
    "        print('[metadata]')\n",
    "        keys = []\n",
    "        for k in docs[0].metadata.keys():\n",
    "            keys.append(k)\n",
    "        print(keys)"
   ]
  },
  {
   "cell_type": "code",
   "execution_count": 51,
   "metadata": {},
   "outputs": [],
   "source": [
    "from langchain_community.document_loaders import PyPDFLoader\n",
    "\n",
    "loader = PyPDFLoader(file_path)"
   ]
  },
  {
   "cell_type": "code",
   "execution_count": 52,
   "metadata": {},
   "outputs": [],
   "source": [
    "docs = loader.load()"
   ]
  },
  {
   "cell_type": "code",
   "execution_count": 55,
   "metadata": {},
   "outputs": [
    {
     "name": "stdout",
     "output_type": "stream",
     "text": [
      "[metadata]\n",
      "['source', 'page']\n"
     ]
    }
   ],
   "source": [
    "show_metadata(docs)"
   ]
  },
  {
   "cell_type": "code",
   "execution_count": null,
   "metadata": {},
   "outputs": [
    {
     "name": "stdout",
     "output_type": "stream",
     "text": [
      "SPRi AI Brief |  2024-11월호\n",
      "8\n",
      "메타, 이미지와 텍스트 처리하는 첫 멀티모달 AI 모델 ‘라마 3.2’ 공개n메타가 이미지와 텍스트를 모두 처리할 수 있는 모델과 모바일 기기에서 실행 가능한 경량 모델을 포함하는 라마 3.2 시리즈를 공개n비전 기능을 갖춘 라마 3.2 90B 모델은 다양한 이미지 인식과 시각적 이해 작업에서 앤스로픽의 ‘클로드3-하이쿠’ 및 오픈AI의 ‘GPT-4o-미니’와 대등한 수준의 성능 보유\n",
      "KEY Contents\n",
      "£라마 3.2 90B 모델, 이미지 인식과 시각적 이해에서 GPT-4o-미\n"
     ]
    }
   ],
   "source": [
    "# 텍스트 부분만 출력\n",
    "print(docs[10].page_content[:300]) # docs[page번호]"
   ]
  },
  {
   "cell_type": "code",
   "execution_count": null,
   "metadata": {},
   "outputs": [
    {
     "name": "stdout",
     "output_type": "stream",
     "text": [
      "2024년 11월호\n"
     ]
    }
   ],
   "source": [
    "print(docs[0].page_content[:300]) "
   ]
  },
  {
   "cell_type": "code",
   "execution_count": 58,
   "metadata": {},
   "outputs": [
    {
     "name": "stdout",
     "output_type": "stream",
     "text": [
      "2024년 11월호\n",
      "Ⅰ. 인공지능 산업 동향 브리프 1. 정책/법제    ▹ 미국 민권위원회, 연방정부의 얼굴인식 기술 사용에 따른 민권 영향 분석························1   ▹ 미국 백악관 예산관리국, 정부의 책임 있는 AI 조달을 위한 지침 발표·····························2   ▹ 유로폴, 법 집행에서 AI의 이점과 과제를 다룬 보고서 발간··············································3   ▹ OECD, 공공 부문의 AI 도입을 위한 G7 툴킷 \n"
     ]
    }
   ],
   "source": [
    "print(docs[1].page_content[:300])"
   ]
  },
  {
   "cell_type": "code",
   "execution_count": 59,
   "metadata": {},
   "outputs": [],
   "source": [
    "from langchain_community.document_loaders import UnstructuredPowerPointLoader\n",
    "\n",
    "loader = UnstructuredPowerPointLoader('./data/RAG(지식 검색 및 생성 기법)기법 적용_2일차.pptx')"
   ]
  },
  {
   "cell_type": "code",
   "execution_count": 60,
   "metadata": {},
   "outputs": [
    {
     "data": {
      "text/plain": [
       "[Document(metadata={'source': './data/RAG(지식 검색 및 생성 기법)기법 적용_2일차.pptx'}, page_content='RAG(지식 검색 및 생성 기법) 적용\\n\\nDay 02\\n\\n강의자 : 김수빈\\n\\n\\n\\n1\\n\\n2\\n\\n3\\n\\nContents\\n\\nRAG\\n\\n벡터 DB\\n\\nLangchain\\n\\n\\n\\n1\\n\\n2\\n\\n3\\n\\n3\\n\\nLangChain\\n\\n랭체인?\\n\\n- 대규모 언어 모델(LLM)을 활용한 애플리케이션을 쉽게 개발할 수 있도록 도와주는 프레임워크\\n\\nLLM과 도구 연결 : Vecor DB, API, 파일 등과 통합\\n\\n작업 자동화 : 자동화된 워크플로우 구현 지원\\n\\n검색 및 생성 기능 : LLM과 검색 기반 시스템을 결합해 응답의 품질 향상\\n\\n\\n\\n3\\n\\nLangChain\\n\\n기능\\n\\n프롬프트 지시사항, 소수의 예시, 응답에 근거한 내용 등을 포함한 다양한 문맥 소스와 모델의 연결\\n\\n→ 언어 모델은 제공된 정보를 기반으로 더 정확하고 관련성 높은 답변을 생성할 수 있다.\\n\\n문맥 인식\\n\\n언어 모델은 주어진 문맥을 바탕으로 어떤 답변을 제공하거나 어떤 조취를 취해야 할지 스스로 추론할 수 있다\\n\\n→ 단순히 정보 재생산이 아니라 주어진 상황을 분석하고 적절한 해결책 제시 가능\\n\\n추론\\n\\n\\n\\n3\\n\\nLangChain\\n\\nLangSmith\\n\\nLLM 애플리케이션 개발, 모니터링 및 테스트를 위한 플랫폼\\n\\n단순히 정보 재생산이 아니라 주어진 상황을 분석하고 적절한 해결책 제시 가능\\n\\n추적 기능\\n\\n예상치 못한 최종 결과, 체인이 예상보다 느린 이유 등에 대해 추적하는데 도움이 될 수 있다\\n\\n\\n\\n3\\n\\nLangChain\\n\\nLangSmith\\n\\nhttps://smith.langchain.com\\n\\n- 마찬가지로 키 발급(★★★★★★저장필수)\\n\\n- .env에 넣어야 할 항목\\n\\n```\\n\\nLANGCHAIN_TRACING_V2 = true\\n\\nLANGCHAIN_ENDPOINT = https://api.langchain.com\\n\\nLANGCHAIN_API_KEY = 발급받은 키\\n\\nLANGCHAIN_PROJECT = 프로젝트명\\n\\n```\\n\\n\\n\\n감사합니다.\\n\\nThank You')]"
      ]
     },
     "execution_count": 60,
     "metadata": {},
     "output_type": "execute_result"
    }
   ],
   "source": [
    "docs = loader.load()\n",
    "docs"
   ]
  },
  {
   "cell_type": "code",
   "execution_count": null,
   "metadata": {},
   "outputs": [
    {
     "data": {
      "text/plain": [
       "2"
      ]
     },
     "execution_count": 101,
     "metadata": {},
     "output_type": "execute_result"
    }
   ],
   "source": [
    "import bs4\n",
    "from langchain_community.document_loaders import WebBaseLoader\n",
    "\n",
    "url1 = 'https://www.naver.com/'\n",
    "url2 = 'https://finance.naver.com/'\n",
    "\n",
    "loader = WebBaseLoader(\n",
    "    web_path = (url1, url2),\n",
    "    bs_kwargs = dict(\n",
    "        parse_only = bs4.SoupStrainer(\n",
    "            # class_ = ('article-header','article-content','menu')\n",
    "            # name = ('div')\n",
    "            text='메일'\n",
    "            # string='증권' # 텍스트에 \"메일\"이 포함된 부분만 필터링\n",
    "            string=lambda text: text and \"증권\" in text # \"메일\"이 포함된 텍스트만 필터링\n",
    "        )\n",
    "    )\n",
    ")\n",
    "docs = loader.load()\n",
    "len(docs)"
   ]
  },
  {
   "cell_type": "code",
   "execution_count": 102,
   "metadata": {},
   "outputs": [
    {
     "data": {
      "text/plain": [
       "Document(metadata={'source': 'https://finance.naver.com/'}, page_content=\"네이버페이 증권증권증권 종목명·지수명 검색증권 홈‘시총 2800억’ 현대차증권, 2000억원 유증…주가 폭락에 뿔난 주주들잘나가는 삼성 보험맨… 화재·증권 이어 '운용' CEO도 '생명' 출신으로PC 증권 해외 종목 검색 도입 ...증권 고객센터\")"
      ]
     },
     "execution_count": 102,
     "metadata": {},
     "output_type": "execute_result"
    }
   ],
   "source": [
    "docs[1]"
   ]
  },
  {
   "cell_type": "code",
   "execution_count": 98,
   "metadata": {},
   "outputs": [
    {
     "data": {
      "text/plain": [
       "'증권'"
      ]
     },
     "execution_count": 98,
     "metadata": {},
     "output_type": "execute_result"
    }
   ],
   "source": [
    "docs[1].page_content"
   ]
  },
  {
   "cell_type": "code",
   "execution_count": 85,
   "metadata": {},
   "outputs": [
    {
     "data": {
      "text/plain": [
       "Document(metadata={'source': 'https://www.naver.com/'}, page_content=' 상단영역 바로가기 서비스 메뉴 바로가기 새소식 블록 바로가기 쇼핑 블록 바로가기 관심사 블록 바로가기 MY 영역 바로가기 위젯 보드 바로가기 보기 설정 바로가기             검색                       검색       입력도구     자동완성/최근검색어펼치기                     ')"
      ]
     },
     "execution_count": 85,
     "metadata": {},
     "output_type": "execute_result"
    }
   ],
   "source": [
    "docs[0]"
   ]
  },
  {
   "cell_type": "code",
   "execution_count": 92,
   "metadata": {},
   "outputs": [
    {
     "data": {
      "text/plain": [
       "Document(metadata={'source': 'https://finance.naver.com/'}, page_content='')"
      ]
     },
     "execution_count": 92,
     "metadata": {},
     "output_type": "execute_result"
    }
   ],
   "source": [
    "docs[1]"
   ]
  },
  {
   "cell_type": "code",
   "execution_count": 64,
   "metadata": {},
   "outputs": [],
   "source": [
    "from langchain_community.document_loaders import ArxivLoader"
   ]
  },
  {
   "cell_type": "code",
   "execution_count": null,
   "metadata": {},
   "outputs": [],
   "source": [
    "# arxiv.org : 논문 불러오는 사이트\n",
    "loader = ArxivLoader(\n",
    "    query = 'ChatGPT', # 논문의 주제\n",
    "    load_max_docs = 2, # 최대 문서 수\n",
    "    load_all_available_meta = False # 메타데이터 전체를 로드할지의 여부(false 해도 제목 작성자 요약은 가져올 수 있음)\n",
    ")"
   ]
  },
  {
   "cell_type": "code",
   "execution_count": 66,
   "metadata": {},
   "outputs": [],
   "source": [
    "docs = loader.load()"
   ]
  },
  {
   "cell_type": "code",
   "execution_count": 67,
   "metadata": {},
   "outputs": [
    {
     "data": {
      "text/plain": [
       "{'Published': '2023-10-05',\n",
       " 'Title': 'In ChatGPT We Trust? Measuring and Characterizing the Reliability of ChatGPT',\n",
       " 'Authors': 'Xinyue Shen, Zeyuan Chen, Michael Backes, Yang Zhang',\n",
       " 'Summary': \"The way users acquire information is undergoing a paradigm shift with the\\nadvent of ChatGPT. Unlike conventional search engines, ChatGPT retrieves\\nknowledge from the model itself and generates answers for users. ChatGPT's\\nimpressive question-answering (QA) capability has attracted more than 100\\nmillion users within a short period of time but has also raised concerns\\nregarding its reliability. In this paper, we perform the first large-scale\\nmeasurement of ChatGPT's reliability in the generic QA scenario with a\\ncarefully curated set of 5,695 questions across ten datasets and eight domains.\\nWe find that ChatGPT's reliability varies across different domains, especially\\nunderperforming in law and science questions. We also demonstrate that system\\nroles, originally designed by OpenAI to allow users to steer ChatGPT's\\nbehavior, can impact ChatGPT's reliability in an imperceptible way. We further\\nshow that ChatGPT is vulnerable to adversarial examples, and even a single\\ncharacter change can negatively affect its reliability in certain cases. We\\nbelieve that our study provides valuable insights into ChatGPT's reliability\\nand underscores the need for strengthening the reliability and security of\\nlarge language models (LLMs).\"}"
      ]
     },
     "execution_count": 67,
     "metadata": {},
     "output_type": "execute_result"
    }
   ],
   "source": [
    "docs[0].metadata"
   ]
  },
  {
   "cell_type": "code",
   "execution_count": 68,
   "metadata": {},
   "outputs": [
    {
     "data": {
      "text/plain": [
       "{'Published': '2023-12-30',\n",
       " 'Title': 'Is ChatGPT Involved in Texts? Measure the Polish Ratio to Detect ChatGPT-Generated Text',\n",
       " 'Authors': 'Lingyi Yang, Feng Jiang, Haizhou Li',\n",
       " 'Summary': 'The remarkable capabilities of large-scale language models, such as ChatGPT,\\nin text generation have impressed readers and spurred researchers to devise\\ndetectors to mitigate potential risks, including misinformation, phishing, and\\nacademic dishonesty. Despite this, most previous studies have been\\npredominantly geared towards creating detectors that differentiate between\\npurely ChatGPT-generated texts and human-authored texts. This approach,\\nhowever, fails to work on discerning texts generated through human-machine\\ncollaboration, such as ChatGPT-polished texts. Addressing this gap, we\\nintroduce a novel dataset termed HPPT (ChatGPT-polished academic abstracts),\\nfacilitating the construction of more robust detectors. It diverges from extant\\ncorpora by comprising pairs of human-written and ChatGPT-polished abstracts\\ninstead of purely ChatGPT-generated texts. Additionally, we propose the \"Polish\\nRatio\" method, an innovative measure of the degree of modification made by\\nChatGPT compared to the original human-written text. It provides a mechanism to\\nmeasure the degree of ChatGPT influence in the resulting text. Our experimental\\nresults show our proposed model has better robustness on the HPPT dataset and\\ntwo existing datasets (HC3 and CDB). Furthermore, the \"Polish Ratio\" we\\nproposed offers a more comprehensive explanation by quantifying the degree of\\nChatGPT involvement.'}"
      ]
     },
     "execution_count": 68,
     "metadata": {},
     "output_type": "execute_result"
    }
   ],
   "source": [
    "docs[1].metadata"
   ]
  },
  {
   "cell_type": "code",
   "execution_count": 69,
   "metadata": {},
   "outputs": [
    {
     "name": "stdout",
     "output_type": "stream",
     "text": [
      "The way users acquire information is undergoing a paradigm shift with the\n",
      "advent of ChatGPT. Unlike conventional search engines, ChatGPT retrieves\n",
      "knowledge from the model itself and generates answers for users. ChatGPT's\n",
      "impressive question-answering (QA) capability has attracted more than 100\n",
      "million users within a short period of time but has also raised concerns\n",
      "regarding its reliability. In this paper, we perform the first large-scale\n",
      "measurement of ChatGPT's reliability in the generic QA scenario with a\n",
      "carefully curated set of 5,695 questions across ten datasets and eight domains.\n",
      "We find that ChatGPT's reliability varies across different domains, especially\n",
      "underperforming in law and science questions. We also demonstrate that system\n",
      "roles, originally designed by OpenAI to allow users to steer ChatGPT's\n",
      "behavior, can impact ChatGPT's reliability in an imperceptible way. We further\n",
      "show that ChatGPT is vulnerable to adversarial examples, and even a single\n",
      "character change can negatively affect its reliability in certain cases. We\n",
      "believe that our study provides valuable insights into ChatGPT's reliability\n",
      "and underscores the need for strengthening the reliability and security of\n",
      "large language models (LLMs).\n"
     ]
    }
   ],
   "source": [
    "docs = loader.get_summaries_as_docs()\n",
    "print(docs[0].page_content)"
   ]
  },
  {
   "cell_type": "code",
   "execution_count": null,
   "metadata": {},
   "outputs": [],
   "source": []
  }
 ],
 "metadata": {
  "kernelspec": {
   "display_name": "langchain",
   "language": "python",
   "name": "python3"
  },
  "language_info": {
   "codemirror_mode": {
    "name": "ipython",
    "version": 3
   },
   "file_extension": ".py",
   "mimetype": "text/x-python",
   "name": "python",
   "nbconvert_exporter": "python",
   "pygments_lexer": "ipython3",
   "version": "3.11.10"
  }
 },
 "nbformat": 4,
 "nbformat_minor": 2
}
