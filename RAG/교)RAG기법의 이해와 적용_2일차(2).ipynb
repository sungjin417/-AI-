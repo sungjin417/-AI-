{
 "cells": [
  {
   "cell_type": "markdown",
   "metadata": {},
   "source": [
    "\n",
    "# 🌼 RAG기법의 이해와 적용(2) - 2차시(24.11.29)\n",
    "\n",
    "---"
   ]
  },
  {
   "cell_type": "markdown",
   "metadata": {},
   "source": [
    "#### 새로운 가상환경 만들고 시작하기!"
   ]
  },
  {
   "cell_type": "code",
   "execution_count": 23,
   "metadata": {},
   "outputs": [],
   "source": [
    "# pip install langchain_community"
   ]
  },
  {
   "cell_type": "code",
   "execution_count": 24,
   "metadata": {},
   "outputs": [],
   "source": [
    "# pip install langchain-teddynote"
   ]
  },
  {
   "cell_type": "code",
   "execution_count": 25,
   "metadata": {},
   "outputs": [],
   "source": [
    "# pip install langchain_openai"
   ]
  },
  {
   "cell_type": "code",
   "execution_count": 26,
   "metadata": {},
   "outputs": [],
   "source": [
    "# pip install langchain_google_genai"
   ]
  },
  {
   "cell_type": "code",
   "execution_count": 27,
   "metadata": {},
   "outputs": [
    {
     "data": {
      "text/plain": [
       "True"
      ]
     },
     "execution_count": 27,
     "metadata": {},
     "output_type": "execute_result"
    }
   ],
   "source": [
    "from dotenv import load_dotenv\n",
    "from langchain_teddynote import logging\n",
    "from langchain_openai import ChatOpenAI\n",
    "from langchain_google_genai import ChatGoogleGenerativeAI\n",
    "from langchain_teddynote.messages import stream_response\n",
    "from langchain_core.prompts import PromptTemplate\n",
    "from langchain_core.output_parsers import StrOutputParser\n",
    "load_dotenv()"
   ]
  },
  {
   "cell_type": "code",
   "execution_count": null,
   "metadata": {},
   "outputs": [
    {
     "name": "stdout",
     "output_type": "stream",
     "text": [
      "LangSmith 추적을 시작합니다.\n",
      "[프로젝트명]\n",
      "CLASS\n"
     ]
    }
   ],
   "source": [
    "logging.langsmith('CLASS') \n",
    "# 프로젝트명을 설정해주는데 .env파일의 프로젝트 명과 일치 시켜 주는게 좋다 나중에 오류가 발생할 수도 있기 때문에"
   ]
  },
  {
   "cell_type": "code",
   "execution_count": 29,
   "metadata": {},
   "outputs": [],
   "source": [
    "llm = ChatOpenAI(\n",
    "    model_name = 'gpt-4o'\n",
    ")"
   ]
  },
  {
   "cell_type": "code",
   "execution_count": 30,
   "metadata": {},
   "outputs": [],
   "source": [
    "question = '맛있는 김치찌개 레시피 알려줘'"
   ]
  },
  {
   "cell_type": "code",
   "execution_count": 31,
   "metadata": {},
   "outputs": [
    {
     "name": "stdout",
     "output_type": "stream",
     "text": [
      "답변 : content='맛있는 김치찌개를 만들기 위한 레시피를 알려드릴게요. 김치찌개는 한국의 대표적인 찌개 요리로, 깊고 풍부한 맛이 특징입니다. 다음은 기본적인 김치찌개 레시피입니다.\\n\\n**재료:**\\n- 잘 익은 김치 300g\\n- 돼지고기(목살 또는 삼겹살) 200g\\n- 두부 1/2모\\n- 양파 1/2개\\n- 대파 1대\\n- 고춧가루 1큰술\\n- 다진 마늘 1큰술\\n- 참기름 1큰술\\n- 국간장 1큰술\\n- 멸치 다시마 육수 3컵 (또는 물)\\n- 소금 약간\\n- 후추 약간\\n\\n**방법:**\\n1. **재료 손질:** \\n   - 김치는 먹기 좋은 크기로 썰어주세요.\\n   - 돼지고기는 한 입 크기로 썰고, 두부는 2cm 두께로 썰어주세요.\\n   - 양파는 채 썰고, 대파는 어슷 썰어 준비합니다.\\n\\n2. **고기 볶기:**\\n   - 냄비에 참기름을 두르고 중불에서 돼지고기를 볶아줍니다.\\n   - 고기가 반 정도 익으면 다진 마늘을 넣고 함께 볶아주세요.\\n\\n3. **김치와 양파 추가:**\\n   - 썰어놓은 김치와 양파를 냄비에 넣고 고춧가루를 넣어 5분 정도 더 볶아줍니다. 이때 김치의 맛이 베어나오도록 충분히 볶는 것이 중요합니다.\\n\\n4. **육수 넣기:**\\n   - 멸치 다시마 육수나 물을 부어줍니다. 국물이 끓기 시작하면 국간장을 넣고 중불에서 15분 정도 끓여주세요.\\n\\n5. **두부와 대파 추가:**\\n   - 두부와 대파를 넣고 5분 더 끓입니다. 필요에 따라 소금과 후추로 간을 맞춰 주세요.\\n\\n6. **마무리:**\\n   - 모든 재료가 잘 익고 맛이 어우러지면 불을 끄고 김치찌개를 그릇에 담아냅니다.\\n\\n이제 따뜻하고 맛있는 김치찌개가 완성되었습니다. 밥과 함께 즐기세요!' additional_kwargs={'refusal': None} response_metadata={'token_usage': {'completion_tokens': 549, 'prompt_tokens': 18, 'total_tokens': 567, 'completion_tokens_details': {'accepted_prediction_tokens': 0, 'audio_tokens': 0, 'reasoning_tokens': 0, 'rejected_prediction_tokens': 0}, 'prompt_tokens_details': {'audio_tokens': 0, 'cached_tokens': 0}}, 'model_name': 'gpt-4o-2024-08-06', 'system_fingerprint': 'fp_831e067d82', 'finish_reason': 'stop', 'logprobs': None} id='run-4bbdbd4c-6b91-41bd-808b-80ba77bacf27-0' usage_metadata={'input_tokens': 18, 'output_tokens': 549, 'total_tokens': 567, 'input_token_details': {'audio': 0, 'cache_read': 0}, 'output_token_details': {'audio': 0, 'reasoning': 0}}\n"
     ]
    }
   ],
   "source": [
    "print(f'답변 : {llm.invoke(question)}')"
   ]
  },
  {
   "cell_type": "code",
   "execution_count": 32,
   "metadata": {},
   "outputs": [],
   "source": [
    "llm = ChatGoogleGenerativeAI(\n",
    "    model = 'gemini-1.5-flash'\n",
    ")"
   ]
  },
  {
   "cell_type": "code",
   "execution_count": 33,
   "metadata": {},
   "outputs": [
    {
     "name": "stdout",
     "output_type": "stream",
     "text": [
      "답변 : ## 깊고 진한 맛, 맛있는 김치찌개 레시피\n",
      "\n",
      "이 레시피는 돼지고기를 사용하지만, 닭고기나 두부를 사용하여 변형할 수 있습니다.  취향에 따라 재료를 추가하거나 변경하여 자신만의 레시피로 만들어보세요!\n",
      "\n",
      "**재료 (4인분):**\n",
      "\n",
      "* 신김치 500g (익은 정도에 따라 양 조절) - 잘 익은 김치가 더욱 맛있습니다.\n",
      "* 돼지고기 앞다리살 또는 삼겹살 200g - 큼직하게 썰어주세요.\n",
      "* 양파 1개 - 채 썰기\n",
      "* 대파 1대 - 어슷하게 썰기\n",
      "* 다진 마늘 1큰술\n",
      "* 고춧가루 1큰술 (김치의 익은 정도에 따라 가감)\n",
      "* 고추장 1큰술 (선택, 칼칼한 맛을 원할 때 추가)\n",
      "* 국간장 1큰술\n",
      "* 설탕 1/2큰술 (김치의 신맛을 중화)\n",
      "* 멸치 다시마 육수 또는 물 4컵\n",
      "* 참깨, 김 (고명)\n",
      "\n",
      "\n",
      "**만드는 방법:**\n",
      "\n",
      "1. **돼지고기 볶기:** 냄비에 돼지고기를 넣고 중불에서 볶아줍니다. 돼지고기에서 기름이 나오면 양파를 넣고 함께 볶아줍니다.  양파가 투명해지면 다진 마늘을 넣고 살짝 볶아줍니다.\n",
      "2. **김치 볶기:** 김치를 넣고 볶아줍니다. 김치의 물이 어느정도 나오면 고춧가루, 고추장(선택)을 넣고 함께 볶아 김치의 향을 더욱 냅니다.\n",
      "3. **육수 넣고 끓이기:** 멸치 다시마 육수 또는 물을 붓고 국간장, 설탕을 넣어줍니다.  끓기 시작하면 중약불로 줄이고 20분 정도 끓여줍니다.  (김치가 부드러워지고 국물이 걸쭉해질 때까지)\n",
      "4. **마무리:**  대파를 넣고 5분 정도 더 끓인 후 불을 끕니다.  참깨와 김을 뿌려 마무리합니다.\n",
      "\n",
      "**팁:**\n",
      "\n",
      "* **김치의 익은 정도:** 김치가 많이 익었을수록 깊은 맛이 납니다.  덜 익은 김치를 사용할 경우, 설탕의 양을 조절하여 신맛을 중화시켜주세요.\n",
      "* **고기 선택:** 돼지고기 외에도 닭고기, 두부 등을 활용할 수 있습니다.  두부를 사용할 경우, 끓는 김치찌개에 넣어 5분 정도만 끓여주세요.\n",
      "* **육수:** 멸치 다시마 육수를 사용하면 더욱 시원하고 깊은 맛을 낼 수 있습니다.  물을 사용할 경우, 다시마를 잠깐 우려낸 물을 사용하는 것도 좋습니다.\n",
      "* **간 조절:**  간은 취향에 따라 소금이나 국간장으로 조절합니다.  끓이는 중간중간 간을 보면서 추가하세요.\n",
      "* **칼칼함 조절:** 고춧가루의 양을 조절하여 칼칼함을 조절할 수 있습니다. 청양고추를 다져 넣으면 더욱 매콤한 맛을 즐길 수 있습니다.\n",
      "\n",
      "\n",
      "맛있게 김치찌개를 만들어 드세요!  :)\n",
      "\n"
     ]
    }
   ],
   "source": [
    "result = llm.invoke(question)\n",
    "print(f'답변 : {result.content}')"
   ]
  },
  {
   "attachments": {
    "image.png": {
     "image/png": "[encoded data removed]"
    }
   },
   "cell_type": "markdown",
   "metadata": {},
   "source": [
    "![image.png](attachment:image.png)"
   ]
  },
  {
   "cell_type": "code",
   "execution_count": null,
   "metadata": {},
   "outputs": [],
   "source": [
    "prompt = PromptTemplate.from_template('{topic}에 대해 쉽게 설명해 주세요')\n",
    "# PromptTemplate : 변수기반으로 동적으로 템플릿을 만들 수 있게 해줌"
   ]
  },
  {
   "cell_type": "code",
   "execution_count": 36,
   "metadata": {},
   "outputs": [],
   "source": [
    "model = ChatOpenAI()"
   ]
  },
  {
   "cell_type": "code",
   "execution_count": 37,
   "metadata": {},
   "outputs": [],
   "source": [
    "chain = prompt | model"
   ]
  },
  {
   "cell_type": "code",
   "execution_count": 38,
   "metadata": {},
   "outputs": [],
   "source": [
    "input = {'topic' : '카페인의 효과'}"
   ]
  },
  {
   "cell_type": "code",
   "execution_count": 39,
   "metadata": {},
   "outputs": [
    {
     "data": {
      "text/plain": [
       "AIMessage(content='카페인은 중추 신경계를 자극하여 졸음을 방지하고 몸을 깨어 있게 만드는 효과가 있습니다. 또한 혈관을 확장시켜 혈액 순환이 원활해지고 신호물질인 아드레날린의 분비를 촉진하여 신체 활동을 촉진시키는 작용도 있습니다. 이러한 이유로 카페인을 섭취하면 일시적으로 몸과 마음이 활기차고 기운이 생기는 효과를 느낄 수 있습니다.하지만 과도한 카페인 섭취는 수면 장애, 불안감, 소화 불량 등의 부작용을 일으킬 수 있으니 적절한 섭취량을 유지하는 것이 중요합니다.', additional_kwargs={'refusal': None}, response_metadata={'token_usage': {'completion_tokens': 258, 'prompt_tokens': 30, 'total_tokens': 288, 'completion_tokens_details': {'accepted_prediction_tokens': 0, 'audio_tokens': 0, 'reasoning_tokens': 0, 'rejected_prediction_tokens': 0}, 'prompt_tokens_details': {'audio_tokens': 0, 'cached_tokens': 0}}, 'model_name': 'gpt-3.5-turbo-0125', 'system_fingerprint': None, 'finish_reason': 'stop', 'logprobs': None}, id='run-f38edd7a-064a-4c1b-bdd4-e6a819195ed3-0', usage_metadata={'input_tokens': 30, 'output_tokens': 258, 'total_tokens': 288, 'input_token_details': {'audio': 0, 'cache_read': 0}, 'output_token_details': {'audio': 0, 'reasoning': 0}})"
      ]
     },
     "execution_count": 39,
     "metadata": {},
     "output_type": "execute_result"
    }
   ],
   "source": [
    "chain.invoke(input)"
   ]
  },
  {
   "cell_type": "code",
   "execution_count": 40,
   "metadata": {},
   "outputs": [],
   "source": [
    "template = \"\"\"\n",
    "너는 10년차 여행 가이드야. 가이드를 하고 있다가 [scene] 상황에 맞는 영어 회화 시나리오를 작성해줘.\n",
    "상황 : {scene}\n",
    "\n",
    "- 영어 회화 :\n",
    "- 한글 해석 :\n",
    "\"\"\""
   ]
  },
  {
   "cell_type": "code",
   "execution_count": 41,
   "metadata": {},
   "outputs": [],
   "source": [
    "prompt = PromptTemplate.from_template(template)"
   ]
  },
  {
   "cell_type": "code",
   "execution_count": 42,
   "metadata": {},
   "outputs": [],
   "source": [
    "model = ChatOpenAI(model_name = 'gpt-4o')"
   ]
  },
  {
   "cell_type": "code",
   "execution_count": 43,
   "metadata": {},
   "outputs": [],
   "source": [
    "output_parser = StrOutputParser() # 파싱을 해줌(불필요한 문자를 없앤다거나, 매끄럽게 문장이 이어지게 해줌)"
   ]
  },
  {
   "cell_type": "code",
   "execution_count": 44,
   "metadata": {},
   "outputs": [],
   "source": [
    "chain = prompt | model | output_parser"
   ]
  },
  {
   "cell_type": "code",
   "execution_count": null,
   "metadata": {},
   "outputs": [],
   "source": [
    "answer = chain.stream({'scene' : '헐리우드에서 톰홀랜드 목격'}) \n",
    "# stream : 랭체인 한국어에 맞게 개발하신 분이 만드신거 (실시간 처럼 보임 토독토독)"
   ]
  },
  {
   "cell_type": "code",
   "execution_count": 46,
   "metadata": {},
   "outputs": [
    {
     "name": "stdout",
     "output_type": "stream",
     "text": [
      "영어 회화:\n",
      "\n",
      "Tourist 1: Oh my gosh, is that Tom Holland over there?\n",
      "\n",
      "Tourist 2: Where? I can’t see him. Are you sure it’s him?\n",
      "\n",
      "Tourist 1: Yes, I’m positive! Look, he’s wearing a Spider-Man t-shirt.\n",
      "\n",
      "Tourist 2: Wow, you’re right! Should we go say hello?\n",
      "\n",
      "Tour Guide: It’s always exciting to spot a celebrity! Let’s remember to be polite and respectful if we approach him.\n",
      "\n",
      "Tourist 1: Of course. Do you think he’ll mind if we ask for a photo?\n",
      "\n",
      "Tour Guide: As long as we’re respectful and he seems open to it, it should be fine. Celebrities appreciate fans who respect their space.\n",
      "\n",
      "Tourist 2: I’m so excited! I hope he’s friendly.\n",
      "\n",
      "Tour Guide: Tom Holland is known to be quite friendly with fans. Let’s approach him calmly and see how it goes.\n",
      "\n",
      "한글 해석:\n",
      "\n",
      "관광객 1: 세상에, 저기 톰 홀랜드 아니야?\n",
      "\n",
      "관광객 2: 어디? 난 안 보여. 정말 그 사람 맞아?\n",
      "\n",
      "관광객 1: 응, 확실해! 봐봐, 스파이더맨 티셔츠를 입고 있어.\n",
      "\n",
      "관광객 2: 와, 맞네! 가서 인사할까?\n",
      "\n",
      "여행 가이드: 유명인을 목격하는 건 항상 흥미롭죠! 그에게 다가갈 때는 예의 바르고 존중하는 걸 잊지 말아요.\n",
      "\n",
      "관광객 1: 물론이지. 사진을 부탁해도 괜찮을까?\n",
      "\n",
      "여행 가이드: 우리가 예의 바르고 그가 괜찮아 보인다면 문제 없을 거예요. 유명인들은 자신의 공간을 존중해주는 팬들을 좋아하죠.\n",
      "\n",
      "관광객 2: 너무 신나! 그가 친절했으면 좋겠어.\n",
      "\n",
      "여행 가이드: 톰 홀랜드는 팬들에게 꽤 친절하다고 알려져 있어요. 차분히 다가가 봅시다."
     ]
    }
   ],
   "source": [
    "stream_response(answer)"
   ]
  }
 ],
 "metadata": {
  "kernelspec": {
   "display_name": "langchain",
   "language": "python",
   "name": "python3"
  },
  "language_info": {
   "codemirror_mode": {
    "name": "ipython",
    "version": 3
   },
   "file_extension": ".py",
   "mimetype": "text/x-python",
   "name": "python",
   "nbconvert_exporter": "python",
   "pygments_lexer": "ipython3",
   "version": "3.11.10"
  }
 },
 "nbformat": 4,
 "nbformat_minor": 2
}
