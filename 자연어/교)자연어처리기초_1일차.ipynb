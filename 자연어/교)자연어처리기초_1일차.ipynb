{
 "cells": [
  {
   "cell_type": "markdown",
   "metadata": {},
   "source": [
    "\n",
    "# 🌼 자연어처리 기초 - 1차시(24.11.08)\n",
    "\n",
    "---\n"
   ]
  },
  {
   "cell_type": "markdown",
   "metadata": {},
   "source": [
    "## 1. 텍스트 전처리\n",
    "1. 정규화 : 대소문자 통일, 용어 통일, 특수문자 제거, 정규표현식\n",
    "2. 어간추출 / 표제어추출 : 단어에서 접사 제거하여 기본 형태 찾아내기, 사전에 기반하여 단어를 원형으로 변환하기\n",
    "3. 불용어 제거 : 불용어 목록 정의하고 필터링\n",
    "4. 토큰화 : 의미를 갖는 최소한의 단위로 나누기"
   ]
  },
  {
   "cell_type": "code",
   "execution_count": 4,
   "metadata": {},
   "outputs": [
    {
     "data": {
      "text/plain": [
       "'today is an exciting friday'"
      ]
     },
     "execution_count": 4,
     "metadata": {},
     "output_type": "execute_result"
    }
   ],
   "source": [
    "text = 'Today is an exciting Friday'\n",
    "lower_text = text.lower() # 대문자를 소문자로 변환\n",
    "lower_text"
   ]
  },
  {
   "cell_type": "code",
   "execution_count": 5,
   "metadata": {},
   "outputs": [
    {
     "data": {
      "text/plain": [
       "'THE WEEKEND IS SHORT, ONLY TWO DAYS LONG.'"
      ]
     },
     "execution_count": 5,
     "metadata": {},
     "output_type": "execute_result"
    }
   ],
   "source": [
    "text2 = 'The weekend is short, only two days long.'\n",
    "upper_text = text2.upper() # 소문자를 대문자로 변환\n",
    "upper_text"
   ]
  },
  {
   "cell_type": "code",
   "execution_count": 6,
   "metadata": {},
   "outputs": [
    {
     "data": {
      "text/plain": [
       "'스마트폰은 스마트폰, 스마트폰 이라고도 할 수 있어요'"
      ]
     },
     "execution_count": 6,
     "metadata": {},
     "output_type": "execute_result"
    }
   ],
   "source": [
    "import re\n",
    "text3 = '스마트폰은 핸드폰, 휴대폰 이라고도 할 수 있어요'\n",
    "nomalized = re.sub(r'(핸드폰|휴대폰)', '스마트폰', text3)\n",
    "nomalized"
   ]
  },
  {
   "cell_type": "markdown",
   "metadata": {},
   "source": [
    "|구성 요소|설명|예시|\n",
    "|---|---|---|\n",
    "|특수 문자|특정 패턴에 매칭하는 메타 문자|\n",
    "|.\t|임의의 한 문자와 매칭 (줄 바꿈 제외)|\ta.b → \"a와 b 사이에 아무 문자\"|\n",
    "|*\t|앞에 있는 문자가 0번 이상 반복됨|\tab* → \"a + 0개 이상의 b\"|\n",
    "|+\t|앞에 있는 문자가 1번 이상 반복됨|\tab+ → \"a + 1개 이상의 b\"|\n",
    "|?\t|앞에 있는 문자가 0번 또는 1번 나타남|\tab? → \"a + 0개 또는 1개의 b\"|\n",
    "|문자 클래스\t|대괄호 안의 문자 중 하나와 매칭\t|\n",
    "|[abc]\t|\"a\", \"b\", \"c\" 중 하나와 매칭\t|[abc] → \"a, b, 또는 c\"|\n",
    "|[a-z]\t|소문자 알파벳 a부터 z까지의 문자 중 하나와 매칭\t|[a-z] → \"모든 소문자\"|\n",
    "|이스케이프 시퀀스\t|특정 문자 그룹과 매칭\t|\n",
    "|\\d|\t숫자 (0-9)와 매칭\t|\\d+ → \"1개 이상의 숫자\"|\n",
    "|\\s\t|공백 문자 (스페이스, 탭 등)와 매칭|\t\\s+ → \"1개 이상의 공백\"|\n",
    "|\\w\t|알파벳, 숫자, 밑줄(_)과 매칭\t|\\w+ → \"1개 이상의 단어 문자\"|\n",
    "|그룹화\t|패턴을 그룹으로 묶어 매칭 및 캡처\t|\n",
    "|()\t|괄호 안의 패턴을 그룹화하여 캡처 가능\t|(\\d{3})-(\\d{4}) → 전화번호 패턴|"
   ]
  },
  {
   "cell_type": "code",
   "execution_count": 7,
   "metadata": {},
   "outputs": [
    {
     "data": {
      "text/plain": [
       "'안녕하세요 오늘 점심은 무엇을 먹을까요 김수빈 Python AI'"
      ]
     },
     "execution_count": 7,
     "metadata": {},
     "output_type": "execute_result"
    }
   ],
   "source": [
    "text4 = \"안녕하세요!!! 오늘 점심은 무엇을 먹을까요? @김수빈 #Python #AI\"\n",
    "nomalized2 = re.sub(r'[^가-힣a-zA-Z0_9\\s]','',text4)\n",
    "nomalized2"
   ]
  },
  {
   "cell_type": "code",
   "execution_count": 8,
   "metadata": {},
   "outputs": [
    {
     "data": {
      "text/plain": [
       "'문의는  으로 보내주세요. 더 많은 정보는 https://chatgpt.com/ 에서 확인하세요.'"
      ]
     },
     "execution_count": 8,
     "metadata": {},
     "output_type": "execute_result"
    }
   ],
   "source": [
    "text5 = \"문의는 soocong@chunjae.co.kr 으로 보내주세요. 더 많은 정보는 https://chatgpt.com/ 에서 확인하세요.\"\n",
    "without_email = re.sub(r'\\S+@+\\S+', '', text5)\n",
    "without_email"
   ]
  },
  {
   "cell_type": "code",
   "execution_count": 9,
   "metadata": {},
   "outputs": [
    {
     "data": {
      "text/plain": [
       "'문의는  으로 보내주세요. 더 많은 정보는  에서 확인하세요.'"
      ]
     },
     "execution_count": 9,
     "metadata": {},
     "output_type": "execute_result"
    }
   ],
   "source": [
    "without_url = re.sub(r'http[s]?://\\S+', '', without_email)\n",
    "without_url"
   ]
  },
  {
   "cell_type": "code",
   "execution_count": 10,
   "metadata": {},
   "outputs": [],
   "source": [
    "# !pip install nltk"
   ]
  },
  {
   "cell_type": "code",
   "execution_count": 11,
   "metadata": {},
   "outputs": [
    {
     "name": "stderr",
     "output_type": "stream",
     "text": [
      "[nltk_data] Downloading package wordnet to\n",
      "[nltk_data]     C:\\Users\\RMARKET\\AppData\\Roaming\\nltk_data...\n",
      "[nltk_data]   Package wordnet is already up-to-date!\n"
     ]
    },
    {
     "data": {
      "text/plain": [
       "True"
      ]
     },
     "execution_count": 11,
     "metadata": {},
     "output_type": "execute_result"
    }
   ],
   "source": [
    "import nltk\n",
    "nltk.download('wordnet')"
   ]
  },
  {
   "cell_type": "code",
   "execution_count": 12,
   "metadata": {},
   "outputs": [],
   "source": [
    "from nltk.stem import PorterStemmer\n",
    "stemmer = PorterStemmer()\n",
    "word = ['running', 'jumps', 'studies']"
   ]
  },
  {
   "cell_type": "code",
   "execution_count": 13,
   "metadata": {},
   "outputs": [
    {
     "data": {
      "text/plain": [
       "['run', 'jump', 'studi']"
      ]
     },
     "execution_count": 13,
     "metadata": {},
     "output_type": "execute_result"
    }
   ],
   "source": [
    "stems = []\n",
    "for wor in word:\n",
    "    stems.append(stemmer.stem(wor)) # 어간 추출\n",
    "stems"
   ]
  },
  {
   "cell_type": "code",
   "execution_count": 14,
   "metadata": {},
   "outputs": [],
   "source": [
    "from nltk.stem import WordNetLemmatizer\n",
    "lemmatizer = WordNetLemmatizer()\n",
    "words = ['running', 'jumps', 'studies']"
   ]
  },
  {
   "cell_type": "code",
   "execution_count": 15,
   "metadata": {},
   "outputs": [
    {
     "data": {
      "text/plain": [
       "['run', 'jump', 'study']"
      ]
     },
     "execution_count": 15,
     "metadata": {},
     "output_type": "execute_result"
    }
   ],
   "source": [
    "lemmas = []\n",
    "for word in words:\n",
    "    lemma = lemmatizer.lemmatize(word,pos='v') # POS= : 옵션 (동사, 명사, 부사로 설정 가능)\n",
    "    lemmas.append(lemma)\n",
    "lemmas"
   ]
  },
  {
   "cell_type": "code",
   "execution_count": 16,
   "metadata": {},
   "outputs": [],
   "source": [
    "# pip install konlpy"
   ]
  },
  {
   "cell_type": "code",
   "execution_count": 17,
   "metadata": {},
   "outputs": [],
   "source": [
    "from konlpy.tag import Okt"
   ]
  },
  {
   "cell_type": "code",
   "execution_count": 18,
   "metadata": {},
   "outputs": [],
   "source": [
    "okt = Okt()\n",
    "text = '달리고 있는 사람들을 보았다'"
   ]
  },
  {
   "cell_type": "code",
   "execution_count": 19,
   "metadata": {},
   "outputs": [
    {
     "data": {
      "text/plain": [
       "['달리', '고', '있다', '사람', '들', '을', '보다']"
      ]
     },
     "execution_count": 19,
     "metadata": {},
     "output_type": "execute_result"
    }
   ],
   "source": [
    "stems = okt.morphs(text, stem=True)\n",
    "stems"
   ]
  },
  {
   "cell_type": "code",
   "execution_count": 20,
   "metadata": {},
   "outputs": [
    {
     "data": {
      "text/plain": [
       "[('달리', 'Noun'),\n",
       " ('고', 'Josa'),\n",
       " ('있는', 'Adjective'),\n",
       " ('사람', 'Noun'),\n",
       " ('들', 'Suffix'),\n",
       " ('을', 'Josa'),\n",
       " ('보았다', 'Verb')]"
      ]
     },
     "execution_count": 20,
     "metadata": {},
     "output_type": "execute_result"
    }
   ],
   "source": [
    "lemmas = []\n",
    "for word, tag in okt.pos(text):\n",
    "    lemmas.append((word, tag))\n",
    "lemmas"
   ]
  },
  {
   "cell_type": "code",
   "execution_count": 21,
   "metadata": {},
   "outputs": [
    {
     "name": "stderr",
     "output_type": "stream",
     "text": [
      "[nltk_data] Downloading package stopwords to\n",
      "[nltk_data]     C:\\Users\\RMARKET\\AppData\\Roaming\\nltk_data...\n",
      "[nltk_data]   Package stopwords is already up-to-date!\n"
     ]
    },
    {
     "data": {
      "text/plain": [
       "True"
      ]
     },
     "execution_count": 21,
     "metadata": {},
     "output_type": "execute_result"
    }
   ],
   "source": [
    "# 불용어 제거\n",
    "from nltk.corpus import stopwords\n",
    "nltk.download('stopwords')"
   ]
  },
  {
   "cell_type": "code",
   "execution_count": 22,
   "metadata": {},
   "outputs": [
    {
     "data": {
      "text/plain": [
       "'이 문장에서 라는 단어를 로 처리합니다'"
      ]
     },
     "execution_count": 22,
     "metadata": {},
     "output_type": "execute_result"
    }
   ],
   "source": [
    "text= '이 문장에서 불용어라는 단어를 불용어로 처리합니다'\n",
    "text.replace('불용어', '')"
   ]
  },
  {
   "cell_type": "code",
   "execution_count": 23,
   "metadata": {},
   "outputs": [],
   "source": [
    "from nltk.corpus import stopwords\n",
    "stop_words = set(stopwords.words('english'))\n",
    "# stop_words"
   ]
  },
  {
   "cell_type": "code",
   "execution_count": 24,
   "metadata": {},
   "outputs": [],
   "source": [
    "words = ['This', 'is', 'a', 'simple', 'example']\n",
    "filtered = []"
   ]
  },
  {
   "cell_type": "code",
   "execution_count": 25,
   "metadata": {},
   "outputs": [
    {
     "data": {
      "text/plain": [
       "['simple', 'example']"
      ]
     },
     "execution_count": 25,
     "metadata": {},
     "output_type": "execute_result"
    }
   ],
   "source": [
    "for word in words:\n",
    "    if word.lower() not in stop_words:\n",
    "        filtered.append(word)\n",
    "filtered"
   ]
  },
  {
   "cell_type": "code",
   "execution_count": 26,
   "metadata": {},
   "outputs": [],
   "source": [
    "text = '불용어 예시를 실행해 봅니다.'\n",
    "stop_words = {'불','를'}"
   ]
  },
  {
   "cell_type": "code",
   "execution_count": 27,
   "metadata": {},
   "outputs": [
    {
     "data": {
      "text/plain": [
       "['불', '용어', '예시', '를', '실행', '해', '봅니다', '.']"
      ]
     },
     "execution_count": 27,
     "metadata": {},
     "output_type": "execute_result"
    }
   ],
   "source": [
    "words = okt.morphs(text)\n",
    "words"
   ]
  },
  {
   "cell_type": "code",
   "execution_count": 28,
   "metadata": {},
   "outputs": [
    {
     "data": {
      "text/plain": [
       "['용어', '예시', '실행', '해', '봅니다', '.']"
      ]
     },
     "execution_count": 28,
     "metadata": {},
     "output_type": "execute_result"
    }
   ],
   "source": [
    "filtered_ko = []\n",
    "for word in words:\n",
    "    if word not in stop_words:\n",
    "        filtered_ko.append(word)\n",
    "filtered_ko"
   ]
  },
  {
   "cell_type": "markdown",
   "metadata": {},
   "source": [
    "## 2-1. 토큰화 (영어)\n",
    "1. word_tokenize\n",
    "2. TfidfVectorizer"
   ]
  },
  {
   "cell_type": "code",
   "execution_count": 29,
   "metadata": {},
   "outputs": [
    {
     "name": "stderr",
     "output_type": "stream",
     "text": [
      "[nltk_data] Downloading package punkt to\n",
      "[nltk_data]     C:\\Users\\RMARKET\\AppData\\Roaming\\nltk_data...\n",
      "[nltk_data]   Package punkt is already up-to-date!\n"
     ]
    },
    {
     "data": {
      "text/plain": [
       "True"
      ]
     },
     "execution_count": 29,
     "metadata": {},
     "output_type": "execute_result"
    }
   ],
   "source": [
    "import nltk\n",
    "nltk.download('punkt')"
   ]
  },
  {
   "cell_type": "code",
   "execution_count": 30,
   "metadata": {},
   "outputs": [
    {
     "data": {
      "text/plain": [
       "'3.9.1'"
      ]
     },
     "execution_count": 30,
     "metadata": {},
     "output_type": "execute_result"
    }
   ],
   "source": [
    "nltk.__version__"
   ]
  },
  {
   "cell_type": "code",
   "execution_count": 31,
   "metadata": {},
   "outputs": [],
   "source": [
    "# nltk.download() # 설치에 시간이 거리므로 설치하면 주석처리"
   ]
  },
  {
   "cell_type": "code",
   "execution_count": 32,
   "metadata": {},
   "outputs": [],
   "source": [
    "from nltk.tokenize import word_tokenize\n",
    "text = \"It's difficult to create English sentence examples\""
   ]
  },
  {
   "cell_type": "code",
   "execution_count": 33,
   "metadata": {},
   "outputs": [],
   "source": [
    "# tokens = word_tokeni"
   ]
  },
  {
   "cell_type": "markdown",
   "metadata": {},
   "source": [
    "## 2-2. 토큰화 (한국어)\n",
    "1. okt\n",
    "2. hannanum\n",
    "3. kkma"
   ]
  },
  {
   "cell_type": "code",
   "execution_count": 34,
   "metadata": {},
   "outputs": [],
   "source": [
    "# pip install konlpy"
   ]
  },
  {
   "cell_type": "code",
   "execution_count": 35,
   "metadata": {},
   "outputs": [],
   "source": [
    "import konlpy\n",
    "from konlpy.tag import Okt, Hannanum, Kkma "
   ]
  },
  {
   "cell_type": "code",
   "execution_count": 36,
   "metadata": {},
   "outputs": [],
   "source": [
    "okt = Okt() \n",
    "hannanum = Hannanum() \n",
    "kkma = Kkma() "
   ]
  },
  {
   "cell_type": "code",
   "execution_count": 37,
   "metadata": {},
   "outputs": [],
   "source": [
    "text = \"아버지가방에들어가신다.\" \n",
    "text2 = \"저기저뜀틀이내가뛸뜀틀인가내가안뛸뜀틀인가\""
   ]
  },
  {
   "cell_type": "code",
   "execution_count": 38,
   "metadata": {},
   "outputs": [
    {
     "name": "stdout",
     "output_type": "stream",
     "text": [
      "okt 형태소 추출 : ['아버지', '가방', '에', '들어가신다', '.']\n"
     ]
    },
    {
     "name": "stdout",
     "output_type": "stream",
     "text": [
      "hannanum 형태소 추출 : ['아버지가방에들어가', '이', '시ㄴ다', '.']\n",
      "kkma 형태소 추출 : ['아버지', '가방', '에', '들어가', '시', 'ㄴ다', '.']\n"
     ]
    }
   ],
   "source": [
    "print(f'okt 형태소 추출 : {okt.morphs(text)}')\n",
    "print(f'hannanum 형태소 추출 : {hannanum.morphs(text)}')\n",
    "print(f'kkma 형태소 추출 : {kkma.morphs(text)}') # 시간비용이 더 드는 분석기"
   ]
  },
  {
   "cell_type": "code",
   "execution_count": 39,
   "metadata": {},
   "outputs": [
    {
     "name": "stdout",
     "output_type": "stream",
     "text": [
      "okt 형태소 추출 : ['저', '기', '저', '뜀틀', '이내', '가', '뛸', '뜀틀', '인가', '내', '가안', '뛸', '뜀틀', '인가']\n",
      "hannanum 형태소 추출 : ['저기저뜀틀이내가뛸뜀틀인가내가안뛸뜀틀', '인가']\n",
      "kkma 형태소 추출 : ['저', '기저', '뜀틀', '이내', '가', '뛰', 'ㄹ', '뜀틀', '이', 'ㄴ가', '내가', '안', '뛰', 'ㄹ', '뜀틀', '이', 'ㄴ가']\n"
     ]
    }
   ],
   "source": [
    "print(f'okt 형태소 추출 : {okt.morphs(text2)}')\n",
    "print(f'hannanum 형태소 추출 : {hannanum.morphs(text2)}')\n",
    "print(f'kkma 형태소 추출 : {kkma.morphs(text2)}')"
   ]
  },
  {
   "cell_type": "code",
   "execution_count": 40,
   "metadata": {},
   "outputs": [
    {
     "name": "stdout",
     "output_type": "stream",
     "text": [
      "okt 명사 추출 : ['아버지', '가방']\n",
      "hannanum 명사 추출 : ['아버지가방에들어가']\n",
      "kkma 명사 추출 : ['아버지', '아버지가방', '가방']\n"
     ]
    }
   ],
   "source": [
    "print(f'okt 명사 추출 : {okt.nouns(text)}')\n",
    "print(f'hannanum 명사 추출 : {hannanum.nouns(text)}')\n",
    "print(f'kkma 명사 추출 : {kkma.nouns(text)}')"
   ]
  },
  {
   "cell_type": "code",
   "execution_count": 41,
   "metadata": {},
   "outputs": [
    {
     "name": "stdout",
     "output_type": "stream",
     "text": [
      "okt 명사 추출 : ['뜀틀', '이내', '뜀틀', '가안', '뜀틀']\n",
      "hannanum 명사 추출 : ['저기저뜀틀이내가뛸뜀틀인가내가안뛸뜀틀']\n",
      "kkma 명사 추출 : ['뜀틀', '내가', '뜀틀이내', '기저', '이내']\n"
     ]
    }
   ],
   "source": [
    "print(f'okt 명사 추출 : {okt.nouns(text2)}')\n",
    "print(f'hannanum 명사 추출 : {hannanum.nouns(text2)}')\n",
    "print(f'kkma 명사 추출 : {kkma.nouns(text2)}')"
   ]
  },
  {
   "cell_type": "markdown",
   "metadata": {},
   "source": [
    "### Mecab\n",
    "- 형태소분석기 성능 중 가장 빠르고 성능이 좋은 편으로 유명한 한국어 자연어 처리 모델\n",
    "- mecab-ko-dic : https://github.com/Pusnow/mecab-ko-dic-msvc/releases/tag/mecab-ko-dic-2.1.1-20180720-msvc\n",
    "- mecab-ko-msvc :https://github.com/Pusnow/mecab-ko-msvc/releases/tag/release-0.9.2-msvc-3\n",
    "- https://github.com/Pusnow/mecab-python-msvc/releases\n",
    "- C드라이브 바로 아래에 mecab이라는 폴더 생성 후 mecab-ko-dic, mecab-ko-msvc 파일 언패킹\n",
    "- 비트에 맞는 python wheel 설치 후 anaconda3 > envs > 가상환경 > Lib > site-packages 폴더로 이동\n",
    "- python version 3.9인 가상환경 실행 (Anaconda Prompt)\n",
    "- 실행 후 wheel을 설치한 경로로 이동하여 pip install mecab-python3 실행\n",
    "- `커널 restart 후 코드 실행`\n"
   ]
  },
  {
   "cell_type": "code",
   "execution_count": 17,
   "metadata": {},
   "outputs": [
    {
     "data": {
      "text/plain": [
       "['한국어', '자연어', '처리']"
      ]
     },
     "execution_count": 17,
     "metadata": {},
     "output_type": "execute_result"
    }
   ],
   "source": [
    "from konlpy.tag import Mecab\n",
    "\n",
    "m = Mecab(dicpath = 'C:/mecab/mecab-ko-dic')\n",
    "m.nouns('한국어자연어처리')"
   ]
  },
  {
   "cell_type": "code",
   "execution_count": 43,
   "metadata": {},
   "outputs": [],
   "source": [
    "text = \"아버지가방에들어가신다.\" \n",
    "text2 = \"저기저뜀틀이내가뛸뜀틀인가내가안뛸뜀틀인가\""
   ]
  },
  {
   "cell_type": "code",
   "execution_count": 44,
   "metadata": {},
   "outputs": [
    {
     "data": {
      "text/plain": [
       "['저기',\n",
       " '저',\n",
       " '뜀틀',\n",
       " '이',\n",
       " '내',\n",
       " '가',\n",
       " '뛸',\n",
       " '뜀틀',\n",
       " '인가',\n",
       " '내',\n",
       " '가',\n",
       " '안',\n",
       " '뛸',\n",
       " '뜀틀',\n",
       " '인가']"
      ]
     },
     "execution_count": 44,
     "metadata": {},
     "output_type": "execute_result"
    }
   ],
   "source": [
    "m.morphs(text2)"
   ]
  },
  {
   "cell_type": "markdown",
   "metadata": {},
   "source": [
    "## 3. 텍스트 벡터화\n",
    "1. Bag-of-Words\n",
    "2. TF-IDF"
   ]
  },
  {
   "cell_type": "code",
   "execution_count": 45,
   "metadata": {},
   "outputs": [],
   "source": [
    "def bag_of_words(text):\n",
    "    okt = Okt()\n",
    "    text = text.replace('.', '') # 문장의 . 을 처리\n",
    "    tokens = okt.morphs(text)\n",
    "    word_dict = {}\n",
    "    bow = []\n",
    "\n",
    "    for token in tokens:\n",
    "        if token not in word_dict:\n",
    "            word_dict[token] = len(word_dict) # 인덱스 부여\n",
    "            bow.append(1)\n",
    "        else:\n",
    "            index = word_dict[token]\n",
    "            bow[index] += 1\n",
    "    return word_dict, bow"
   ]
  },
  {
   "cell_type": "code",
   "execution_count": 46,
   "metadata": {},
   "outputs": [],
   "source": [
    "doc = '반복되는 단어는 단어 개수 만큼 추가 됩니다..'"
   ]
  },
  {
   "cell_type": "code",
   "execution_count": 47,
   "metadata": {},
   "outputs": [
    {
     "name": "stdout",
     "output_type": "stream",
     "text": [
      "[1, 1, 2, 1, 1, 1, 1, 1]\n",
      "{'반복': 0, '되는': 1, '단어': 2, '는': 3, '개수': 4, '만큼': 5, '추가': 6, '됩니다': 7}\n"
     ]
    }
   ],
   "source": [
    "word_dict, bow = bag_of_words(doc)\n",
    "print(bow)\n",
    "print(word_dict)"
   ]
  },
  {
   "cell_type": "code",
   "execution_count": 48,
   "metadata": {},
   "outputs": [
    {
     "name": "stdout",
     "output_type": "stream",
     "text": [
      "[1, 1, 1, 2, 1, 1, 2, 1, 1, 1, 1, 1, 1, 1, 2, 1, 1, 1, 1, 1, 1, 1, 1, 1, 1, 1, 1]\n",
      "{'그룹': 0, '에스': 1, '파': 2, '카리나': 3, '가': 4, '미모': 5, '를': 6, '뽐냈다': 7, '는': 8, '7일': 9, '자신': 10, '의': 11, '인스타그램': 12, '에': 13, '\"': 14, '우울할': 15, '땐': 16, '이': 17, '포즈': 18, '해봐': 19, '라는': 20, '글': 21, '과': 22, '사진': 23, '을': 24, '게재': 25, '했다': 26}\n"
     ]
    }
   ],
   "source": [
    "doc = '그룹 에스파 카리나가 미모를 뽐냈다. 카리나는 7일 자신의 인스타그램에 \"우울할 땐 이포즈를 해봐\"라는 글과 사진을 게재했다.'\n",
    "word_dict, bow = bag_of_words(doc)\n",
    "print(bow)\n",
    "print(word_dict)"
   ]
  },
  {
   "cell_type": "code",
   "execution_count": 49,
   "metadata": {},
   "outputs": [],
   "source": [
    "from sklearn.feature_extraction.text import CountVectorizer"
   ]
  },
  {
   "cell_type": "code",
   "execution_count": 50,
   "metadata": {},
   "outputs": [
    {
     "name": "stdout",
     "output_type": "stream",
     "text": [
      "벡터화된 문장 : [[1 1 1 1 1]]\n",
      "단어 사전 : {'반복되는': 3, '단어는': 2, '단어': 1, '개수만큼': 0, '추가됩니다': 4}\n"
     ]
    }
   ],
   "source": [
    "corpus = ['반복되는 단어는 단어 개수만큼 추가됩니다.']\n",
    "vector = CountVectorizer()\n",
    "print(f'벡터화된 문장 : {vector.fit_transform(corpus).toarray()}')\n",
    "print(f'단어 사전 : {vector.vocabulary_}')"
   ]
  },
  {
   "cell_type": "code",
   "execution_count": 51,
   "metadata": {},
   "outputs": [
    {
     "data": {
      "text/plain": [
       "array([[1, 1, 1, 1, 1]], dtype=int64)"
      ]
     },
     "execution_count": 51,
     "metadata": {},
     "output_type": "execute_result"
    }
   ],
   "source": [
    "vector.fit_transform(corpus).toarray() # .toarray() : 숫자 형태로 볼려면 붙여야함 (메모리의 문제??)"
   ]
  },
  {
   "cell_type": "code",
   "execution_count": 52,
   "metadata": {},
   "outputs": [
    {
     "name": "stdout",
     "output_type": "stream",
     "text": [
      "벡터화된 문장 : [[1 1 1 1]]\n",
      "단어 사전 : {'bow': 0, 'works': 3, 'same': 2, 'english': 1}\n"
     ]
    }
   ],
   "source": [
    "text = ['BOW works the same for English.']\n",
    "vect = CountVectorizer(stop_words=['the', 'for'])\n",
    "print(f'벡터화된 문장 : {vect.fit_transform(text).toarray()}')\n",
    "print(f'단어 사전 : {vect.vocabulary_}') # vocabulary_ 속성은 텍스트 데이터의 고유 단어를 인덱스로 매핑하는 단어 사전입니다."
   ]
  },
  {
   "cell_type": "code",
   "execution_count": 53,
   "metadata": {},
   "outputs": [
    {
     "name": "stdout",
     "output_type": "stream",
     "text": [
      "벡터화된 문장 : [[1 1 1]]\n",
      "단어 사전 : {'bow': 0, 'works': 2, 'english': 1}\n"
     ]
    }
   ],
   "source": [
    "\n",
    "vect = CountVectorizer(stop_words='english')\n",
    "print(f'벡터화된 문장 : {vect.fit_transform(text).toarray()}')\n",
    "print(f'단어 사전 : {vect.vocabulary_}')"
   ]
  },
  {
   "cell_type": "code",
   "execution_count": 54,
   "metadata": {},
   "outputs": [],
   "source": [
    "import pandas as pd\n",
    "from math import log\n",
    "# DTM : 문서 단어 행렬 (Document Term Matrix)\n",
    "\n",
    "docs = [\n",
    "  '원숭이 엉덩이는 빨개',\n",
    "  '빨간건 사과',\n",
    "  '사과는 맛있어',\n",
    "  '맛있으면 바나나'\n",
    "]\n"
   ]
  },
  {
   "cell_type": "code",
   "execution_count": 55,
   "metadata": {},
   "outputs": [
    {
     "data": {
      "text/plain": [
       "['맛있어', '맛있으면', '바나나', '빨간건', '빨개', '사과', '사과는', '엉덩이는', '원숭이']"
      ]
     },
     "execution_count": 55,
     "metadata": {},
     "output_type": "execute_result"
    }
   ],
   "source": [
    "vocab = []\n",
    "for doc in docs:\n",
    "    words = doc.split() # 단어단위로 분리(공백)\n",
    "    for w in words:\n",
    "        if w not in vocab:\n",
    "            vocab.append(w)\n",
    "vocab.sort()\n",
    "vocab"
   ]
  },
  {
   "cell_type": "code",
   "execution_count": 56,
   "metadata": {},
   "outputs": [
    {
     "name": "stdout",
     "output_type": "stream",
     "text": [
      "4\n"
     ]
    }
   ],
   "source": [
    "N = len(docs)\n",
    "print(N)\n",
    "def tf(t, d):\n",
    "    return d.count(t)\n",
    "# TF : 특정 문서 d에서 특정 단어 t의 등장 횟수"
   ]
  },
  {
   "cell_type": "code",
   "execution_count": 57,
   "metadata": {},
   "outputs": [],
   "source": [
    "# 문서 집합에서 얼마나 흔.하.지 않은지\n",
    "# df : 문서의 빈도\n",
    "# docs : 문장의 집합\n",
    "# doc : 한 문장씩 반환\n",
    "# t : 단어\n",
    "# N : 문장의 집합안의 문장의 수\n",
    "\n",
    "def idf(t):\n",
    "    df = 0 # 문서의빈도를 저장(t 가 등장하는 문서의 개수)\n",
    "    for doc in docs:\n",
    "        df += t in doc # True(1), False(0)로 반환 됨\n",
    "    return log((N/df+1)) # df + 1로 나누는 것은 0으로 나누는 오류를 방지하기 위해"
   ]
  },
  {
   "cell_type": "code",
   "execution_count": 58,
   "metadata": {},
   "outputs": [],
   "source": [
    "def tfidf(t, d): \n",
    "    return tf(t,d) *idf(t)"
   ]
  },
  {
   "cell_type": "code",
   "execution_count": 59,
   "metadata": {},
   "outputs": [
    {
     "data": {
      "text/html": [
       "<div>\n",
       "<style scoped>\n",
       "    .dataframe tbody tr th:only-of-type {\n",
       "        vertical-align: middle;\n",
       "    }\n",
       "\n",
       "    .dataframe tbody tr th {\n",
       "        vertical-align: top;\n",
       "    }\n",
       "\n",
       "    .dataframe thead th {\n",
       "        text-align: right;\n",
       "    }\n",
       "</style>\n",
       "<table border=\"1\" class=\"dataframe\">\n",
       "  <thead>\n",
       "    <tr style=\"text-align: right;\">\n",
       "      <th></th>\n",
       "      <th>맛있어</th>\n",
       "      <th>맛있으면</th>\n",
       "      <th>바나나</th>\n",
       "      <th>빨간건</th>\n",
       "      <th>빨개</th>\n",
       "      <th>사과</th>\n",
       "      <th>사과는</th>\n",
       "      <th>엉덩이는</th>\n",
       "      <th>원숭이</th>\n",
       "    </tr>\n",
       "  </thead>\n",
       "  <tbody>\n",
       "    <tr>\n",
       "      <th>0</th>\n",
       "      <td>0</td>\n",
       "      <td>0</td>\n",
       "      <td>0</td>\n",
       "      <td>0</td>\n",
       "      <td>1</td>\n",
       "      <td>0</td>\n",
       "      <td>0</td>\n",
       "      <td>1</td>\n",
       "      <td>1</td>\n",
       "    </tr>\n",
       "    <tr>\n",
       "      <th>1</th>\n",
       "      <td>0</td>\n",
       "      <td>0</td>\n",
       "      <td>0</td>\n",
       "      <td>1</td>\n",
       "      <td>0</td>\n",
       "      <td>1</td>\n",
       "      <td>0</td>\n",
       "      <td>0</td>\n",
       "      <td>0</td>\n",
       "    </tr>\n",
       "    <tr>\n",
       "      <th>2</th>\n",
       "      <td>1</td>\n",
       "      <td>0</td>\n",
       "      <td>0</td>\n",
       "      <td>0</td>\n",
       "      <td>0</td>\n",
       "      <td>1</td>\n",
       "      <td>1</td>\n",
       "      <td>0</td>\n",
       "      <td>0</td>\n",
       "    </tr>\n",
       "    <tr>\n",
       "      <th>3</th>\n",
       "      <td>0</td>\n",
       "      <td>1</td>\n",
       "      <td>1</td>\n",
       "      <td>0</td>\n",
       "      <td>0</td>\n",
       "      <td>0</td>\n",
       "      <td>0</td>\n",
       "      <td>0</td>\n",
       "      <td>0</td>\n",
       "    </tr>\n",
       "  </tbody>\n",
       "</table>\n",
       "</div>"
      ],
      "text/plain": [
       "   맛있어  맛있으면  바나나  빨간건  빨개  사과  사과는  엉덩이는  원숭이\n",
       "0    0     0    0    0   1   0    0     1    1\n",
       "1    0     0    0    1   0   1    0     0    0\n",
       "2    1     0    0    0   0   1    1     0    0\n",
       "3    0     1    1    0   0   0    0     0    0"
      ]
     },
     "execution_count": 59,
     "metadata": {},
     "output_type": "execute_result"
    }
   ],
   "source": [
    "result = []\n",
    "for i in range(N):\n",
    "    result.append([])\n",
    "    d = docs[i]\n",
    "\n",
    "    for j in range(len(vocab)):\n",
    "        t = vocab[j]\n",
    "        result[-1].append(tf(t,d))\n",
    "\n",
    "tf_ = pd.DataFrame(result, columns= vocab)\n",
    "tf_"
   ]
  },
  {
   "cell_type": "code",
   "execution_count": 60,
   "metadata": {},
   "outputs": [
    {
     "data": {
      "text/plain": [
       "['원숭이 엉덩이는 빨개', '빨간건 사과', '사과는 맛있어', '맛있으면 바나나']"
      ]
     },
     "execution_count": 60,
     "metadata": {},
     "output_type": "execute_result"
    }
   ],
   "source": [
    "docs"
   ]
  },
  {
   "cell_type": "code",
   "execution_count": 61,
   "metadata": {},
   "outputs": [],
   "source": [
    "result2 = []\n",
    "for i in range(len(vocab)):\n",
    "    t = vocab[i]\n",
    "    result2.append(idf(t))\n"
   ]
  },
  {
   "cell_type": "code",
   "execution_count": 62,
   "metadata": {},
   "outputs": [
    {
     "data": {
      "text/html": [
       "<div>\n",
       "<style scoped>\n",
       "    .dataframe tbody tr th:only-of-type {\n",
       "        vertical-align: middle;\n",
       "    }\n",
       "\n",
       "    .dataframe tbody tr th {\n",
       "        vertical-align: top;\n",
       "    }\n",
       "\n",
       "    .dataframe thead th {\n",
       "        text-align: right;\n",
       "    }\n",
       "</style>\n",
       "<table border=\"1\" class=\"dataframe\">\n",
       "  <thead>\n",
       "    <tr style=\"text-align: right;\">\n",
       "      <th></th>\n",
       "      <th>IDF</th>\n",
       "    </tr>\n",
       "  </thead>\n",
       "  <tbody>\n",
       "    <tr>\n",
       "      <th>맛있어</th>\n",
       "      <td>1.609438</td>\n",
       "    </tr>\n",
       "    <tr>\n",
       "      <th>맛있으면</th>\n",
       "      <td>1.609438</td>\n",
       "    </tr>\n",
       "    <tr>\n",
       "      <th>바나나</th>\n",
       "      <td>1.609438</td>\n",
       "    </tr>\n",
       "    <tr>\n",
       "      <th>빨간건</th>\n",
       "      <td>1.609438</td>\n",
       "    </tr>\n",
       "    <tr>\n",
       "      <th>빨개</th>\n",
       "      <td>1.609438</td>\n",
       "    </tr>\n",
       "    <tr>\n",
       "      <th>사과</th>\n",
       "      <td>1.098612</td>\n",
       "    </tr>\n",
       "    <tr>\n",
       "      <th>사과는</th>\n",
       "      <td>1.609438</td>\n",
       "    </tr>\n",
       "    <tr>\n",
       "      <th>엉덩이는</th>\n",
       "      <td>1.609438</td>\n",
       "    </tr>\n",
       "    <tr>\n",
       "      <th>원숭이</th>\n",
       "      <td>1.609438</td>\n",
       "    </tr>\n",
       "  </tbody>\n",
       "</table>\n",
       "</div>"
      ],
      "text/plain": [
       "           IDF\n",
       "맛있어   1.609438\n",
       "맛있으면  1.609438\n",
       "바나나   1.609438\n",
       "빨간건   1.609438\n",
       "빨개    1.609438\n",
       "사과    1.098612\n",
       "사과는   1.609438\n",
       "엉덩이는  1.609438\n",
       "원숭이   1.609438"
      ]
     },
     "execution_count": 62,
     "metadata": {},
     "output_type": "execute_result"
    }
   ],
   "source": [
    "idf_ = pd.DataFrame(result2, index=vocab, columns=['IDF'])\n",
    "idf_"
   ]
  },
  {
   "cell_type": "code",
   "execution_count": 63,
   "metadata": {},
   "outputs": [],
   "source": [
    "result3 = []\n",
    "for i in range(N):\n",
    "    result3.append([])\n",
    "    d = docs[i]\n",
    "    for j in range(len(vocab)):\n",
    "        t = vocab[j]\n",
    "        result3[-1].append(tfidf(t, d))"
   ]
  },
  {
   "cell_type": "code",
   "execution_count": 64,
   "metadata": {},
   "outputs": [
    {
     "data": {
      "text/html": [
       "<div>\n",
       "<style scoped>\n",
       "    .dataframe tbody tr th:only-of-type {\n",
       "        vertical-align: middle;\n",
       "    }\n",
       "\n",
       "    .dataframe tbody tr th {\n",
       "        vertical-align: top;\n",
       "    }\n",
       "\n",
       "    .dataframe thead th {\n",
       "        text-align: right;\n",
       "    }\n",
       "</style>\n",
       "<table border=\"1\" class=\"dataframe\">\n",
       "  <thead>\n",
       "    <tr style=\"text-align: right;\">\n",
       "      <th></th>\n",
       "      <th>맛있어</th>\n",
       "      <th>맛있으면</th>\n",
       "      <th>바나나</th>\n",
       "      <th>빨간건</th>\n",
       "      <th>빨개</th>\n",
       "      <th>사과</th>\n",
       "      <th>사과는</th>\n",
       "      <th>엉덩이는</th>\n",
       "      <th>원숭이</th>\n",
       "    </tr>\n",
       "  </thead>\n",
       "  <tbody>\n",
       "    <tr>\n",
       "      <th>0</th>\n",
       "      <td>0.000000</td>\n",
       "      <td>0.000000</td>\n",
       "      <td>0.000000</td>\n",
       "      <td>0.000000</td>\n",
       "      <td>1.609438</td>\n",
       "      <td>0.000000</td>\n",
       "      <td>0.000000</td>\n",
       "      <td>1.609438</td>\n",
       "      <td>1.609438</td>\n",
       "    </tr>\n",
       "    <tr>\n",
       "      <th>1</th>\n",
       "      <td>0.000000</td>\n",
       "      <td>0.000000</td>\n",
       "      <td>0.000000</td>\n",
       "      <td>1.609438</td>\n",
       "      <td>0.000000</td>\n",
       "      <td>1.098612</td>\n",
       "      <td>0.000000</td>\n",
       "      <td>0.000000</td>\n",
       "      <td>0.000000</td>\n",
       "    </tr>\n",
       "    <tr>\n",
       "      <th>2</th>\n",
       "      <td>1.609438</td>\n",
       "      <td>0.000000</td>\n",
       "      <td>0.000000</td>\n",
       "      <td>0.000000</td>\n",
       "      <td>0.000000</td>\n",
       "      <td>1.098612</td>\n",
       "      <td>1.609438</td>\n",
       "      <td>0.000000</td>\n",
       "      <td>0.000000</td>\n",
       "    </tr>\n",
       "    <tr>\n",
       "      <th>3</th>\n",
       "      <td>0.000000</td>\n",
       "      <td>1.609438</td>\n",
       "      <td>1.609438</td>\n",
       "      <td>0.000000</td>\n",
       "      <td>0.000000</td>\n",
       "      <td>0.000000</td>\n",
       "      <td>0.000000</td>\n",
       "      <td>0.000000</td>\n",
       "      <td>0.000000</td>\n",
       "    </tr>\n",
       "  </tbody>\n",
       "</table>\n",
       "</div>"
      ],
      "text/plain": [
       "        맛있어      맛있으면       바나나  ...       사과는      엉덩이는       원숭이\n",
       "0  0.000000  0.000000  0.000000  ...  0.000000  1.609438  1.609438\n",
       "1  0.000000  0.000000  0.000000  ...  0.000000  0.000000  0.000000\n",
       "2  1.609438  0.000000  0.000000  ...  1.609438  0.000000  0.000000\n",
       "3  0.000000  1.609438  1.609438  ...  0.000000  0.000000  0.000000\n",
       "\n",
       "[4 rows x 9 columns]"
      ]
     },
     "execution_count": 64,
     "metadata": {},
     "output_type": "execute_result"
    }
   ],
   "source": [
    "tfidf_ = pd.DataFrame(result3, columns=vocab)\n",
    "tfidf_"
   ]
  },
  {
   "cell_type": "code",
   "execution_count": 65,
   "metadata": {},
   "outputs": [],
   "source": [
    "# 사이킷런을 통한 TF-IDF\n",
    "from sklearn.feature_extraction.text import CountVectorizer\n",
    "# 사실 이거 쓰면 짱빨리됨ㅎㅎ\n",
    "\n",
    "docs = [\n",
    "  '원숭이 엉덩이는 빨개',\n",
    "  '빨간건 사과',\n",
    "  '사과는 맛있어',\n",
    "  '맛있으면 바나나'\n",
    "]\n"
   ]
  },
  {
   "cell_type": "code",
   "execution_count": 66,
   "metadata": {},
   "outputs": [
    {
     "name": "stdout",
     "output_type": "stream",
     "text": [
      "{'원숭이': 8, '엉덩이는': 7, '빨개': 4, '빨간건': 3, '사과': 5, '사과는': 6, '맛있어': 0, '맛있으면': 1, '바나나': 2}\n"
     ]
    }
   ],
   "source": [
    "vector = CountVectorizer()\n",
    "vector.fit_transform(docs).toarray()\n",
    "print(vector.vocabulary_)"
   ]
  },
  {
   "cell_type": "markdown",
   "metadata": {},
   "source": [
    "## 4. 텍스트 임베딩 (Word2Vec)\n",
    "1. CBOW\n",
    "2. Skip-gram"
   ]
  },
  {
   "cell_type": "code",
   "execution_count": 67,
   "metadata": {},
   "outputs": [],
   "source": [
    "# 넘파이 지우기 pip uninstall numpy\n",
    "# 넘파이 재설치하기 pip install numpy==1.24.4\n",
    "# gensim 설치하기 pip install gensim==3.4.0\n",
    "# scipy 지우기 pip uninstall scipy\n",
    "# scipy 설치하기 pip install scipy==1.9.3\n"
   ]
  },
  {
   "cell_type": "code",
   "execution_count": 68,
   "metadata": {},
   "outputs": [],
   "source": [
    "from gensim.models import Word2Vec\n",
    "\n",
    "sentences = [\n",
    "    ['the', 'cat', 'is', 'on', 'the', 'mat'],\n",
    "    ['dogs', 'are', 'in', 'the', 'garden'],\n",
    "    ['we', 'love', 'playing', 'with', 'our', 'pets']\n",
    "]\n"
   ]
  },
  {
   "cell_type": "code",
   "execution_count": 69,
   "metadata": {},
   "outputs": [],
   "source": [
    "# 다 설치하고 업데이트!!!\n",
    "# !pip install --upgrade gensim"
   ]
  },
  {
   "cell_type": "code",
   "execution_count": 70,
   "metadata": {},
   "outputs": [
    {
     "data": {
      "text/plain": [
       "[('with', 0.17826786637306213),\n",
       " ('pets', 0.16072483360767365),\n",
       " ('garden', 0.10560770332813263),\n",
       " ('on', 0.09215974807739258),\n",
       " ('is', 0.027008360251784325),\n",
       " ('we', 0.00773055013269186),\n",
       " ('the', -0.037719566375017166),\n",
       " ('are', -0.045522745698690414),\n",
       " ('dogs', -0.04649786278605461),\n",
       " ('mat', -0.05902623012661934)]"
      ]
     },
     "execution_count": 70,
     "metadata": {},
     "output_type": "execute_result"
    }
   ],
   "source": [
    "cbow_model = Word2Vec(sentences, vector_size=100, window=5, min_count=1, sg = 0) # vector_size=100 : 오류나면 그냥 size로 수정(버전의 차이!!)\n",
    "# print(f'CBOW모델을 통함 cat과 가장 유사한 단어 : {cbow_model.wv.most_similar('cat')}')\n",
    "cbow_model.wv.most_similar('cat')"
   ]
  },
  {
   "cell_type": "code",
   "execution_count": 71,
   "metadata": {},
   "outputs": [
    {
     "data": {
      "text/plain": [
       "[('with', 0.17826786637306213),\n",
       " ('pets', 0.16072483360767365),\n",
       " ('garden', 0.10560770332813263),\n",
       " ('on', 0.09215974807739258),\n",
       " ('is', 0.027008360251784325),\n",
       " ('we', 0.00773055013269186),\n",
       " ('the', -0.037719566375017166),\n",
       " ('are', -0.045522745698690414),\n",
       " ('dogs', -0.04649786278605461),\n",
       " ('mat', -0.05902623012661934)]"
      ]
     },
     "execution_count": 71,
     "metadata": {},
     "output_type": "execute_result"
    }
   ],
   "source": [
    "skip_gram_model = Word2Vec(sentences, vector_size=100, window=5, min_count=1, sg = 1) # 대부분 cbow를 사용\n",
    "skip_gram_model.wv.most_similar('cat')"
   ]
  },
  {
   "cell_type": "code",
   "execution_count": 72,
   "metadata": {},
   "outputs": [
    {
     "data": {
      "text/plain": [
       "array([[0.        , 0.        , 0.        , 0.        , 0.57735027,\n",
       "        0.        , 0.        , 0.57735027, 0.57735027],\n",
       "       [0.        , 0.        , 0.        , 0.70710678, 0.        ,\n",
       "        0.70710678, 0.        , 0.        , 0.        ],\n",
       "       [0.70710678, 0.        , 0.        , 0.        , 0.        ,\n",
       "        0.        , 0.70710678, 0.        , 0.        ],\n",
       "       [0.        , 0.70710678, 0.70710678, 0.        , 0.        ,\n",
       "        0.        , 0.        , 0.        , 0.        ]])"
      ]
     },
     "execution_count": 72,
     "metadata": {},
     "output_type": "execute_result"
    }
   ],
   "source": [
    "from sklearn.feature_extraction.text import TfidfVectorizer\n",
    "\n",
    "tfidf_vectorizer = TfidfVectorizer()\n",
    "tfidf_matrix = tfidf_vectorizer.fit_transform(docs)\n",
    "tfidf_matrix.toarray()"
   ]
  },
  {
   "cell_type": "code",
   "execution_count": 74,
   "metadata": {},
   "outputs": [
    {
     "data": {
      "text/html": [
       "<div>\n",
       "<style scoped>\n",
       "    .dataframe tbody tr th:only-of-type {\n",
       "        vertical-align: middle;\n",
       "    }\n",
       "\n",
       "    .dataframe tbody tr th {\n",
       "        vertical-align: top;\n",
       "    }\n",
       "\n",
       "    .dataframe thead th {\n",
       "        text-align: right;\n",
       "    }\n",
       "</style>\n",
       "<table border=\"1\" class=\"dataframe\">\n",
       "  <thead>\n",
       "    <tr style=\"text-align: right;\">\n",
       "      <th></th>\n",
       "      <th>맛있어</th>\n",
       "      <th>맛있으면</th>\n",
       "      <th>바나나</th>\n",
       "      <th>빨간건</th>\n",
       "      <th>빨개</th>\n",
       "      <th>사과</th>\n",
       "      <th>사과는</th>\n",
       "      <th>엉덩이는</th>\n",
       "      <th>원숭이</th>\n",
       "    </tr>\n",
       "  </thead>\n",
       "  <tbody>\n",
       "    <tr>\n",
       "      <th>0</th>\n",
       "      <td>0.000000</td>\n",
       "      <td>0.000000</td>\n",
       "      <td>0.000000</td>\n",
       "      <td>0.000000</td>\n",
       "      <td>0.57735</td>\n",
       "      <td>0.000000</td>\n",
       "      <td>0.000000</td>\n",
       "      <td>0.57735</td>\n",
       "      <td>0.57735</td>\n",
       "    </tr>\n",
       "    <tr>\n",
       "      <th>1</th>\n",
       "      <td>0.000000</td>\n",
       "      <td>0.000000</td>\n",
       "      <td>0.000000</td>\n",
       "      <td>0.707107</td>\n",
       "      <td>0.00000</td>\n",
       "      <td>0.707107</td>\n",
       "      <td>0.000000</td>\n",
       "      <td>0.00000</td>\n",
       "      <td>0.00000</td>\n",
       "    </tr>\n",
       "    <tr>\n",
       "      <th>2</th>\n",
       "      <td>0.707107</td>\n",
       "      <td>0.000000</td>\n",
       "      <td>0.000000</td>\n",
       "      <td>0.000000</td>\n",
       "      <td>0.00000</td>\n",
       "      <td>0.000000</td>\n",
       "      <td>0.707107</td>\n",
       "      <td>0.00000</td>\n",
       "      <td>0.00000</td>\n",
       "    </tr>\n",
       "    <tr>\n",
       "      <th>3</th>\n",
       "      <td>0.000000</td>\n",
       "      <td>0.707107</td>\n",
       "      <td>0.707107</td>\n",
       "      <td>0.000000</td>\n",
       "      <td>0.00000</td>\n",
       "      <td>0.000000</td>\n",
       "      <td>0.000000</td>\n",
       "      <td>0.00000</td>\n",
       "      <td>0.00000</td>\n",
       "    </tr>\n",
       "  </tbody>\n",
       "</table>\n",
       "</div>"
      ],
      "text/plain": [
       "        맛있어      맛있으면       바나나       빨간건  ...        사과       사과는     엉덩이는      원숭이\n",
       "0  0.000000  0.000000  0.000000  0.000000  ...  0.000000  0.000000  0.57735  0.57735\n",
       "1  0.000000  0.000000  0.000000  0.707107  ...  0.707107  0.000000  0.00000  0.00000\n",
       "2  0.707107  0.000000  0.000000  0.000000  ...  0.000000  0.707107  0.00000  0.00000\n",
       "3  0.000000  0.707107  0.707107  0.000000  ...  0.000000  0.000000  0.00000  0.00000\n",
       "\n",
       "[4 rows x 9 columns]"
      ]
     },
     "execution_count": 74,
     "metadata": {},
     "output_type": "execute_result"
    }
   ],
   "source": [
    "data = pd.DataFrame(tfidf_matrix.toarray(), columns=vocab)\n",
    "data\n"
   ]
  },
  {
   "cell_type": "markdown",
   "metadata": {},
   "source": [
    "\n",
    "## 🌼마무리 문제\n",
    "\n",
    "아래 문제들을 풀어보세요!\n",
    "\n",
    "Q1. 음식점 리뷰 데이터를 다운로드받고 불러오세요!"
   ]
  },
  {
   "cell_type": "code",
   "execution_count": null,
   "metadata": {},
   "outputs": [
    {
     "name": "stdout",
     "output_type": "stream",
     "text": [
      "Collecting kagglehub\n",
      "  Downloading kagglehub-0.3.3-py3-none-any.whl.metadata (22 kB)\n",
      "Requirement already satisfied: packaging in c:\\users\\rmarket\\anaconda3\\envs\\test_env\\lib\\site-packages (from kagglehub) (24.1)\n",
      "Collecting requests (from kagglehub)\n",
      "  Downloading requests-2.32.3-py3-none-any.whl.metadata (4.6 kB)\n",
      "Requirement already satisfied: tqdm in c:\\users\\rmarket\\anaconda3\\envs\\test_env\\lib\\site-packages (from kagglehub) (4.67.0)\n",
      "Collecting charset-normalizer<4,>=2 (from requests->kagglehub)\n",
      "  Downloading charset_normalizer-3.4.0-cp39-cp39-win_amd64.whl.metadata (34 kB)\n",
      "Collecting idna<4,>=2.5 (from requests->kagglehub)\n",
      "  Downloading idna-3.10-py3-none-any.whl.metadata (10 kB)\n",
      "Collecting urllib3<3,>=1.21.1 (from requests->kagglehub)\n",
      "  Downloading urllib3-2.2.3-py3-none-any.whl.metadata (6.5 kB)\n",
      "Collecting certifi>=2017.4.17 (from requests->kagglehub)\n",
      "  Downloading certifi-2024.8.30-py3-none-any.whl.metadata (2.2 kB)\n",
      "Requirement already satisfied: colorama in c:\\users\\rmarket\\anaconda3\\envs\\test_env\\lib\\site-packages (from tqdm->kagglehub) (0.4.6)\n",
      "Downloading kagglehub-0.3.3-py3-none-any.whl (42 kB)\n",
      "Downloading requests-2.32.3-py3-none-any.whl (64 kB)\n",
      "Downloading certifi-2024.8.30-py3-none-any.whl (167 kB)\n",
      "Downloading charset_normalizer-3.4.0-cp39-cp39-win_amd64.whl (102 kB)\n",
      "Downloading idna-3.10-py3-none-any.whl (70 kB)\n",
      "Downloading urllib3-2.2.3-py3-none-any.whl (126 kB)\n",
      "Installing collected packages: urllib3, idna, charset-normalizer, certifi, requests, kagglehub\n",
      "Successfully installed certifi-2024.8.30 charset-normalizer-3.4.0 idna-3.10 kagglehub-0.3.3 requests-2.32.3 urllib3-2.2.3\n",
      "Note: you may need to restart the kernel to use updated packages.\n"
     ]
    }
   ],
   "source": [
    "# pip install kagglehub"
   ]
  },
  {
   "cell_type": "code",
   "execution_count": null,
   "metadata": {},
   "outputs": [
    {
     "name": "stdout",
     "output_type": "stream",
     "text": [
      "Collecting kaggle\n",
      "  Downloading kaggle-1.6.17.tar.gz (82 kB)\n",
      "  Preparing metadata (setup.py): started\n",
      "  Preparing metadata (setup.py): finished with status 'done'\n",
      "Requirement already satisfied: six>=1.10 in c:\\users\\rmarket\\anaconda3\\envs\\test_env\\lib\\site-packages (from kaggle) (1.16.0)\n",
      "Requirement already satisfied: certifi>=2023.7.22 in c:\\users\\rmarket\\anaconda3\\envs\\test_env\\lib\\site-packages (from kaggle) (2024.8.30)\n",
      "Requirement already satisfied: python-dateutil in c:\\users\\rmarket\\anaconda3\\envs\\test_env\\lib\\site-packages (from kaggle) (2.9.0)\n",
      "Requirement already satisfied: requests in c:\\users\\rmarket\\anaconda3\\envs\\test_env\\lib\\site-packages (from kaggle) (2.32.3)\n",
      "Requirement already satisfied: tqdm in c:\\users\\rmarket\\anaconda3\\envs\\test_env\\lib\\site-packages (from kaggle) (4.67.0)\n",
      "Collecting python-slugify (from kaggle)\n",
      "  Downloading python_slugify-8.0.4-py2.py3-none-any.whl.metadata (8.5 kB)\n",
      "Requirement already satisfied: urllib3 in c:\\users\\rmarket\\anaconda3\\envs\\test_env\\lib\\site-packages (from kaggle) (2.2.3)\n",
      "Collecting bleach (from kaggle)\n",
      "  Downloading bleach-6.2.0-py3-none-any.whl.metadata (30 kB)\n",
      "Collecting webencodings (from bleach->kaggle)\n",
      "  Downloading webencodings-0.5.1-py2.py3-none-any.whl.metadata (2.1 kB)\n",
      "Collecting text-unidecode>=1.3 (from python-slugify->kaggle)\n",
      "  Downloading text_unidecode-1.3-py2.py3-none-any.whl.metadata (2.4 kB)\n",
      "Requirement already satisfied: charset-normalizer<4,>=2 in c:\\users\\rmarket\\anaconda3\\envs\\test_env\\lib\\site-packages (from requests->kaggle) (3.4.0)\n",
      "Requirement already satisfied: idna<4,>=2.5 in c:\\users\\rmarket\\anaconda3\\envs\\test_env\\lib\\site-packages (from requests->kaggle) (3.10)\n",
      "Requirement already satisfied: colorama in c:\\users\\rmarket\\anaconda3\\envs\\test_env\\lib\\site-packages (from tqdm->kaggle) (0.4.6)\n",
      "Downloading bleach-6.2.0-py3-none-any.whl (163 kB)\n",
      "Downloading python_slugify-8.0.4-py2.py3-none-any.whl (10 kB)\n",
      "Downloading text_unidecode-1.3-py2.py3-none-any.whl (78 kB)\n",
      "Downloading webencodings-0.5.1-py2.py3-none-any.whl (11 kB)\n",
      "Building wheels for collected packages: kaggle\n",
      "  Building wheel for kaggle (setup.py): started\n",
      "  Building wheel for kaggle (setup.py): finished with status 'done'\n",
      "  Created wheel for kaggle: filename=kaggle-1.6.17-py3-none-any.whl size=105797 sha256=60dbcaeec838f5da0d60af260d6b0576e2c29af3367a7eb740c3be571595936f\n",
      "  Stored in directory: c:\\users\\rmarket\\appdata\\local\\pip\\cache\\wheels\\2b\\af\\a9\\70bffa2773af622d2ebea9c8d407720b86e67bd40c465bf837\n",
      "Successfully built kaggle\n",
      "Installing collected packages: webencodings, text-unidecode, python-slugify, bleach, kaggle\n",
      "Successfully installed bleach-6.2.0 kaggle-1.6.17 python-slugify-8.0.4 text-unidecode-1.3 webencodings-0.5.1\n",
      "Note: you may need to restart the kernel to use updated packages.\n"
     ]
    }
   ],
   "source": [
    "# pip install kaggle"
   ]
  },
  {
   "cell_type": "code",
   "execution_count": 2,
   "metadata": {},
   "outputs": [
    {
     "name": "stderr",
     "output_type": "stream",
     "text": [
      "c:\\Users\\RMARKET\\anaconda3\\envs\\test_env\\lib\\site-packages\\tqdm\\auto.py:21: TqdmWarning: IProgress not found. Please update jupyter and ipywidgets. See https://ipywidgets.readthedocs.io/en/stable/user_install.html\n",
      "  from .autonotebook import tqdm as notebook_tqdm\n"
     ]
    },
    {
     "name": "stdout",
     "output_type": "stream",
     "text": [
      "설치 파일 경로: C:\\Users\\RMARKET\\.cache\\kagglehub\\datasets\\ninetyninenewton\\kr3-korean-restaurant-reviews-with-ratings\\versions\\1\n"
     ]
    }
   ],
   "source": [
    "# 캐글에서 데이터 다운로드\n",
    "import kagglehub\n",
    "path = kagglehub.dataset_download(\"ninetyninenewton/kr3-korean-restaurant-reviews-with-ratings\")\n",
    "\n",
    "print(\"설치 파일 경로:\", path)"
   ]
  },
  {
   "cell_type": "code",
   "execution_count": 3,
   "metadata": {},
   "outputs": [
    {
     "data": {
      "text/html": [
       "<div>\n",
       "<style scoped>\n",
       "    .dataframe tbody tr th:only-of-type {\n",
       "        vertical-align: middle;\n",
       "    }\n",
       "\n",
       "    .dataframe tbody tr th {\n",
       "        vertical-align: top;\n",
       "    }\n",
       "\n",
       "    .dataframe thead th {\n",
       "        text-align: right;\n",
       "    }\n",
       "</style>\n",
       "<table border=\"1\" class=\"dataframe\">\n",
       "  <thead>\n",
       "    <tr style=\"text-align: right;\">\n",
       "      <th></th>\n",
       "      <th>Rating</th>\n",
       "      <th>Review</th>\n",
       "    </tr>\n",
       "  </thead>\n",
       "  <tbody>\n",
       "    <tr>\n",
       "      <th>124388</th>\n",
       "      <td>1</td>\n",
       "      <td>삼겹만 먹다가 목살 먹었어요 냉면에   역시 저기압일 땐 고기 앞으로 가야쥬 잘 먹...</td>\n",
       "    </tr>\n",
       "    <tr>\n",
       "      <th>633594</th>\n",
       "      <td>2</td>\n",
       "      <td>가볼만해요 맛있더라고요</td>\n",
       "    </tr>\n",
       "    <tr>\n",
       "      <th>393430</th>\n",
       "      <td>0</td>\n",
       "      <td>새로 생겨서 가봤는데 생각보다는 별로였네요  라테 종류는 맛있었는데 아메리카노는 산...</td>\n",
       "    </tr>\n",
       "    <tr>\n",
       "      <th>547587</th>\n",
       "      <td>1</td>\n",
       "      <td>사람들이 너무 많아서 주변 분위기가 너무 시끄러웠다.. 이야기를 하기 위해서는 목청...</td>\n",
       "    </tr>\n",
       "    <tr>\n",
       "      <th>125026</th>\n",
       "      <td>1</td>\n",
       "      <td>밑에 뚜아앙 정신 차려라 세종에서 이 정도면 서비스 맛 다 좋은 편이다</td>\n",
       "    </tr>\n",
       "    <tr>\n",
       "      <th>...</th>\n",
       "      <td>...</td>\n",
       "      <td>...</td>\n",
       "    </tr>\n",
       "    <tr>\n",
       "      <th>216066</th>\n",
       "      <td>1</td>\n",
       "      <td>음료와 디저트가 좀 비싸고 카페 가는 길이 좀 힘들긴 해요 그래도 그게 잊힐 만큼 ...</td>\n",
       "    </tr>\n",
       "    <tr>\n",
       "      <th>166832</th>\n",
       "      <td>1</td>\n",
       "      <td>건강빵에 눈을 뜬 곳  건강빵도 맛있다는 걸 알게 됐어요   다른 빵보다 건강빵 등...</td>\n",
       "    </tr>\n",
       "    <tr>\n",
       "      <th>369894</th>\n",
       "      <td>1</td>\n",
       "      <td>600번째 리뷰는 늦었지만 화이트데이 기념으로 방문한 테이블 포포! Popo가 아니...</td>\n",
       "    </tr>\n",
       "    <tr>\n",
       "      <th>179061</th>\n",
       "      <td>0</td>\n",
       "      <td>양도 별로고 맛도 없고 원수 친구가 간다 해도 말릴 거 같아요. 그리고 컵이 약간 ...</td>\n",
       "    </tr>\n",
       "    <tr>\n",
       "      <th>323012</th>\n",
       "      <td>1</td>\n",
       "      <td>깔끔하고 어른들이 좋아하실만한 맛 외국인들도 많이 옴</td>\n",
       "    </tr>\n",
       "  </tbody>\n",
       "</table>\n",
       "<p>1000 rows × 2 columns</p>\n",
       "</div>"
      ],
      "text/plain": [
       "        Rating                                             Review\n",
       "124388       1  삼겹만 먹다가 목살 먹었어요 냉면에   역시 저기압일 땐 고기 앞으로 가야쥬 잘 먹...\n",
       "633594       2                                       가볼만해요 맛있더라고요\n",
       "393430       0  새로 생겨서 가봤는데 생각보다는 별로였네요  라테 종류는 맛있었는데 아메리카노는 산...\n",
       "547587       1  사람들이 너무 많아서 주변 분위기가 너무 시끄러웠다.. 이야기를 하기 위해서는 목청...\n",
       "125026       1            밑에 뚜아앙 정신 차려라 세종에서 이 정도면 서비스 맛 다 좋은 편이다\n",
       "...        ...                                                ...\n",
       "216066       1  음료와 디저트가 좀 비싸고 카페 가는 길이 좀 힘들긴 해요 그래도 그게 잊힐 만큼 ...\n",
       "166832       1  건강빵에 눈을 뜬 곳  건강빵도 맛있다는 걸 알게 됐어요   다른 빵보다 건강빵 등...\n",
       "369894       1  600번째 리뷰는 늦었지만 화이트데이 기념으로 방문한 테이블 포포! Popo가 아니...\n",
       "179061       0  양도 별로고 맛도 없고 원수 친구가 간다 해도 말릴 거 같아요. 그리고 컵이 약간 ...\n",
       "323012       1                      깔끔하고 어른들이 좋아하실만한 맛 외국인들도 많이 옴\n",
       "\n",
       "[1000 rows x 2 columns]"
      ]
     },
     "execution_count": 3,
     "metadata": {},
     "output_type": "execute_result"
    }
   ],
   "source": [
    "# 다운받은 경로에 접근하여 csv로 읽어오기\n",
    "import pandas as pd\n",
    "df = pd.read_csv('C:/Users/RMARKET/.cache/kagglehub/datasets/ninetyninenewton/kr3-korean-restaurant-reviews-with-ratings/versions/1/kr3.tsv', sep='\\t', encoding='utf-8')\n",
    "restaurants = df.sample(n=1000, random_state=42)\n",
    "# 데이터가 너무 커요~ 랜덤으로 1000개정도만 가져와봅시다 (csv가 크면 tsv)\n",
    "restaurants"
   ]
  },
  {
   "cell_type": "markdown",
   "metadata": {},
   "source": [
    "Q2. 리뷰의 길이와 평점 사이의 관계를 분석해보세요\n",
    "\n",
    "1. 각 리뷰의 문자 수나 단어 수를 계산해보세요.\n",
    "2. 평점에 따른 리뷰의 평균 길이를 계산하여, 평점이 높은 리뷰와 평점이 낮은 리뷰의 길이 차이를 비교해보고 시각화해보세요"
   ]
  },
  {
   "cell_type": "code",
   "execution_count": null,
   "metadata": {},
   "outputs": [
    {
     "data": {
      "text/plain": [
       "array([1, 2, 0], dtype=int64)"
      ]
     },
     "execution_count": 5,
     "metadata": {},
     "output_type": "execute_result"
    }
   ],
   "source": [
    "# 풀이 시작\n",
    "restaurants['Rating'].unique() # 값이 뭐 있는지 확인 가능"
   ]
  },
  {
   "cell_type": "code",
   "execution_count": null,
   "metadata": {},
   "outputs": [
    {
     "data": {
      "text/html": [
       "<div>\n",
       "<style scoped>\n",
       "    .dataframe tbody tr th:only-of-type {\n",
       "        vertical-align: middle;\n",
       "    }\n",
       "\n",
       "    .dataframe tbody tr th {\n",
       "        vertical-align: top;\n",
       "    }\n",
       "\n",
       "    .dataframe thead th {\n",
       "        text-align: right;\n",
       "    }\n",
       "</style>\n",
       "<table border=\"1\" class=\"dataframe\">\n",
       "  <thead>\n",
       "    <tr style=\"text-align: right;\">\n",
       "      <th></th>\n",
       "      <th>Rating</th>\n",
       "      <th>Review</th>\n",
       "      <th>Length</th>\n",
       "    </tr>\n",
       "  </thead>\n",
       "  <tbody>\n",
       "    <tr>\n",
       "      <th>124388</th>\n",
       "      <td>1</td>\n",
       "      <td>삼겹만 먹다가 목살 먹었어요 냉면에   역시 저기압일 땐 고기 앞으로 가야쥬 잘 먹...</td>\n",
       "      <td>50</td>\n",
       "    </tr>\n",
       "    <tr>\n",
       "      <th>633594</th>\n",
       "      <td>2</td>\n",
       "      <td>가볼만해요 맛있더라고요</td>\n",
       "      <td>12</td>\n",
       "    </tr>\n",
       "    <tr>\n",
       "      <th>393430</th>\n",
       "      <td>0</td>\n",
       "      <td>새로 생겨서 가봤는데 생각보다는 별로였네요  라테 종류는 맛있었는데 아메리카노는 산...</td>\n",
       "      <td>358</td>\n",
       "    </tr>\n",
       "    <tr>\n",
       "      <th>547587</th>\n",
       "      <td>1</td>\n",
       "      <td>사람들이 너무 많아서 주변 분위기가 너무 시끄러웠다.. 이야기를 하기 위해서는 목청...</td>\n",
       "      <td>70</td>\n",
       "    </tr>\n",
       "    <tr>\n",
       "      <th>125026</th>\n",
       "      <td>1</td>\n",
       "      <td>밑에 뚜아앙 정신 차려라 세종에서 이 정도면 서비스 맛 다 좋은 편이다</td>\n",
       "      <td>39</td>\n",
       "    </tr>\n",
       "    <tr>\n",
       "      <th>...</th>\n",
       "      <td>...</td>\n",
       "      <td>...</td>\n",
       "      <td>...</td>\n",
       "    </tr>\n",
       "    <tr>\n",
       "      <th>216066</th>\n",
       "      <td>1</td>\n",
       "      <td>음료와 디저트가 좀 비싸고 카페 가는 길이 좀 힘들긴 해요 그래도 그게 잊힐 만큼 ...</td>\n",
       "      <td>85</td>\n",
       "    </tr>\n",
       "    <tr>\n",
       "      <th>166832</th>\n",
       "      <td>1</td>\n",
       "      <td>건강빵에 눈을 뜬 곳  건강빵도 맛있다는 걸 알게 됐어요   다른 빵보다 건강빵 등...</td>\n",
       "      <td>52</td>\n",
       "    </tr>\n",
       "    <tr>\n",
       "      <th>369894</th>\n",
       "      <td>1</td>\n",
       "      <td>600번째 리뷰는 늦었지만 화이트데이 기념으로 방문한 테이블 포포! Popo가 아니...</td>\n",
       "      <td>1182</td>\n",
       "    </tr>\n",
       "    <tr>\n",
       "      <th>179061</th>\n",
       "      <td>0</td>\n",
       "      <td>양도 별로고 맛도 없고 원수 친구가 간다 해도 말릴 거 같아요. 그리고 컵이 약간 ...</td>\n",
       "      <td>61</td>\n",
       "    </tr>\n",
       "    <tr>\n",
       "      <th>323012</th>\n",
       "      <td>1</td>\n",
       "      <td>깔끔하고 어른들이 좋아하실만한 맛 외국인들도 많이 옴</td>\n",
       "      <td>29</td>\n",
       "    </tr>\n",
       "  </tbody>\n",
       "</table>\n",
       "<p>1000 rows × 3 columns</p>\n",
       "</div>"
      ],
      "text/plain": [
       "        Rating                                             Review  Length\n",
       "124388       1  삼겹만 먹다가 목살 먹었어요 냉면에   역시 저기압일 땐 고기 앞으로 가야쥬 잘 먹...      50\n",
       "633594       2                                       가볼만해요 맛있더라고요      12\n",
       "393430       0  새로 생겨서 가봤는데 생각보다는 별로였네요  라테 종류는 맛있었는데 아메리카노는 산...     358\n",
       "547587       1  사람들이 너무 많아서 주변 분위기가 너무 시끄러웠다.. 이야기를 하기 위해서는 목청...      70\n",
       "125026       1            밑에 뚜아앙 정신 차려라 세종에서 이 정도면 서비스 맛 다 좋은 편이다      39\n",
       "...        ...                                                ...     ...\n",
       "216066       1  음료와 디저트가 좀 비싸고 카페 가는 길이 좀 힘들긴 해요 그래도 그게 잊힐 만큼 ...      85\n",
       "166832       1  건강빵에 눈을 뜬 곳  건강빵도 맛있다는 걸 알게 됐어요   다른 빵보다 건강빵 등...      52\n",
       "369894       1  600번째 리뷰는 늦었지만 화이트데이 기념으로 방문한 테이블 포포! Popo가 아니...    1182\n",
       "179061       0  양도 별로고 맛도 없고 원수 친구가 간다 해도 말릴 거 같아요. 그리고 컵이 약간 ...      61\n",
       "323012       1                      깔끔하고 어른들이 좋아하실만한 맛 외국인들도 많이 옴      29\n",
       "\n",
       "[1000 rows x 3 columns]"
      ]
     },
     "execution_count": 6,
     "metadata": {},
     "output_type": "execute_result"
    }
   ],
   "source": [
    "restaurants['Length'] = restaurants['Review'].apply(len) # 띄어쓰기 포함\n",
    "restaurants"
   ]
  },
  {
   "cell_type": "code",
   "execution_count": 11,
   "metadata": {},
   "outputs": [
    {
     "data": {
      "text/plain": [
       "Rating\n",
       "0    128.910000\n",
       "1    148.027687\n",
       "2    103.269231\n",
       "Name: Length, dtype: float64"
      ]
     },
     "execution_count": 11,
     "metadata": {},
     "output_type": "execute_result"
    }
   ],
   "source": [
    "avg_len = restaurants.groupby('Rating')['Length'].mean()\n",
    "avg_len"
   ]
  },
  {
   "cell_type": "code",
   "execution_count": 13,
   "metadata": {},
   "outputs": [],
   "source": [
    "import seaborn as sns\n",
    "import matplotlib.pyplot as plt\n",
    "plt.rcParams['font.family'] ='Malgun Gothic'\n",
    "plt.rcParams['axes.unicode_minus'] =False"
   ]
  },
  {
   "cell_type": "code",
   "execution_count": 15,
   "metadata": {},
   "outputs": [
    {
     "data": {
      "image/png": "[encoded data removed]",
      "text/plain": [
       "<Figure size 640x480 with 1 Axes>"
      ]
     },
     "metadata": {},
     "output_type": "display_data"
    }
   ],
   "source": [
    "# 풀이 끝\n",
    "plt.bar(avg_len.index, avg_len.values)\n",
    "plt.xlabel('Rating')\n",
    "plt.ylabel('리뷰 평균 길이')\n",
    "plt.title('점수별 리뷰 평균 길이')\n",
    "plt.show()"
   ]
  },
  {
   "cell_type": "code",
   "execution_count": 4,
   "metadata": {},
   "outputs": [
    {
     "name": "stdout",
     "output_type": "stream",
     "text": [
      "<class 'pandas.core.frame.DataFrame'>\n",
      "Index: 1000 entries, 124388 to 323012\n",
      "Data columns (total 2 columns):\n",
      " #   Column  Non-Null Count  Dtype \n",
      "---  ------  --------------  ----- \n",
      " 0   Rating  1000 non-null   int64 \n",
      " 1   Review  1000 non-null   object\n",
      "dtypes: int64(1), object(1)\n",
      "memory usage: 23.4+ KB\n"
     ]
    },
    {
     "data": {
      "text/html": [
       "<div>\n",
       "<style scoped>\n",
       "    .dataframe tbody tr th:only-of-type {\n",
       "        vertical-align: middle;\n",
       "    }\n",
       "\n",
       "    .dataframe tbody tr th {\n",
       "        vertical-align: top;\n",
       "    }\n",
       "\n",
       "    .dataframe thead th {\n",
       "        text-align: right;\n",
       "    }\n",
       "</style>\n",
       "<table border=\"1\" class=\"dataframe\">\n",
       "  <thead>\n",
       "    <tr style=\"text-align: right;\">\n",
       "      <th></th>\n",
       "      <th>Rating</th>\n",
       "    </tr>\n",
       "  </thead>\n",
       "  <tbody>\n",
       "    <tr>\n",
       "      <th>count</th>\n",
       "      <td>1000.00000</td>\n",
       "    </tr>\n",
       "    <tr>\n",
       "      <th>mean</th>\n",
       "      <td>1.18600</td>\n",
       "    </tr>\n",
       "    <tr>\n",
       "      <th>std</th>\n",
       "      <td>0.59309</td>\n",
       "    </tr>\n",
       "    <tr>\n",
       "      <th>min</th>\n",
       "      <td>0.00000</td>\n",
       "    </tr>\n",
       "    <tr>\n",
       "      <th>25%</th>\n",
       "      <td>1.00000</td>\n",
       "    </tr>\n",
       "    <tr>\n",
       "      <th>50%</th>\n",
       "      <td>1.00000</td>\n",
       "    </tr>\n",
       "    <tr>\n",
       "      <th>75%</th>\n",
       "      <td>2.00000</td>\n",
       "    </tr>\n",
       "    <tr>\n",
       "      <th>max</th>\n",
       "      <td>2.00000</td>\n",
       "    </tr>\n",
       "  </tbody>\n",
       "</table>\n",
       "</div>"
      ],
      "text/plain": [
       "           Rating\n",
       "count  1000.00000\n",
       "mean      1.18600\n",
       "std       0.59309\n",
       "min       0.00000\n",
       "25%       1.00000\n",
       "50%       1.00000\n",
       "75%       2.00000\n",
       "max       2.00000"
      ]
     },
     "execution_count": 4,
     "metadata": {},
     "output_type": "execute_result"
    }
   ],
   "source": [
    "restaurants.info()\n",
    "restaurants.describe()"
   ]
  },
  {
   "cell_type": "code",
   "execution_count": null,
   "metadata": {},
   "outputs": [
    {
     "data": {
      "text/html": [
       "<div>\n",
       "<style scoped>\n",
       "    .dataframe tbody tr th:only-of-type {\n",
       "        vertical-align: middle;\n",
       "    }\n",
       "\n",
       "    .dataframe tbody tr th {\n",
       "        vertical-align: top;\n",
       "    }\n",
       "\n",
       "    .dataframe thead th {\n",
       "        text-align: right;\n",
       "    }\n",
       "</style>\n",
       "<table border=\"1\" class=\"dataframe\">\n",
       "  <thead>\n",
       "    <tr style=\"text-align: right;\">\n",
       "      <th></th>\n",
       "      <th>Rating</th>\n",
       "      <th>Review</th>\n",
       "      <th>char_count</th>\n",
       "    </tr>\n",
       "  </thead>\n",
       "  <tbody>\n",
       "    <tr>\n",
       "      <th>124388</th>\n",
       "      <td>1</td>\n",
       "      <td>삼겹만 먹다가 목살 먹었어요 냉면에   역시 저기압일 땐 고기 앞으로 가야쥬 잘 먹...</td>\n",
       "      <td>36</td>\n",
       "    </tr>\n",
       "    <tr>\n",
       "      <th>633594</th>\n",
       "      <td>2</td>\n",
       "      <td>가볼만해요 맛있더라고요</td>\n",
       "      <td>11</td>\n",
       "    </tr>\n",
       "    <tr>\n",
       "      <th>393430</th>\n",
       "      <td>0</td>\n",
       "      <td>새로 생겨서 가봤는데 생각보다는 별로였네요  라테 종류는 맛있었는데 아메리카노는 산...</td>\n",
       "      <td>274</td>\n",
       "    </tr>\n",
       "    <tr>\n",
       "      <th>547587</th>\n",
       "      <td>1</td>\n",
       "      <td>사람들이 너무 많아서 주변 분위기가 너무 시끄러웠다.. 이야기를 하기 위해서는 목청...</td>\n",
       "      <td>55</td>\n",
       "    </tr>\n",
       "    <tr>\n",
       "      <th>125026</th>\n",
       "      <td>1</td>\n",
       "      <td>밑에 뚜아앙 정신 차려라 세종에서 이 정도면 서비스 맛 다 좋은 편이다</td>\n",
       "      <td>28</td>\n",
       "    </tr>\n",
       "    <tr>\n",
       "      <th>...</th>\n",
       "      <td>...</td>\n",
       "      <td>...</td>\n",
       "      <td>...</td>\n",
       "    </tr>\n",
       "    <tr>\n",
       "      <th>216066</th>\n",
       "      <td>1</td>\n",
       "      <td>음료와 디저트가 좀 비싸고 카페 가는 길이 좀 힘들긴 해요 그래도 그게 잊힐 만큼 ...</td>\n",
       "      <td>62</td>\n",
       "    </tr>\n",
       "    <tr>\n",
       "      <th>166832</th>\n",
       "      <td>1</td>\n",
       "      <td>건강빵에 눈을 뜬 곳  건강빵도 맛있다는 걸 알게 됐어요   다른 빵보다 건강빵 등...</td>\n",
       "      <td>36</td>\n",
       "    </tr>\n",
       "    <tr>\n",
       "      <th>369894</th>\n",
       "      <td>1</td>\n",
       "      <td>600번째 리뷰는 늦었지만 화이트데이 기념으로 방문한 테이블 포포! Popo가 아니...</td>\n",
       "      <td>891</td>\n",
       "    </tr>\n",
       "    <tr>\n",
       "      <th>179061</th>\n",
       "      <td>0</td>\n",
       "      <td>양도 별로고 맛도 없고 원수 친구가 간다 해도 말릴 거 같아요. 그리고 컵이 약간 ...</td>\n",
       "      <td>44</td>\n",
       "    </tr>\n",
       "    <tr>\n",
       "      <th>323012</th>\n",
       "      <td>1</td>\n",
       "      <td>깔끔하고 어른들이 좋아하실만한 맛 외국인들도 많이 옴</td>\n",
       "      <td>23</td>\n",
       "    </tr>\n",
       "  </tbody>\n",
       "</table>\n",
       "<p>1000 rows × 3 columns</p>\n",
       "</div>"
      ],
      "text/plain": [
       "        Rating                                             Review  char_count\n",
       "124388       1  삼겹만 먹다가 목살 먹었어요 냉면에   역시 저기압일 땐 고기 앞으로 가야쥬 잘 먹...          36\n",
       "633594       2                                       가볼만해요 맛있더라고요          11\n",
       "393430       0  새로 생겨서 가봤는데 생각보다는 별로였네요  라테 종류는 맛있었는데 아메리카노는 산...         274\n",
       "547587       1  사람들이 너무 많아서 주변 분위기가 너무 시끄러웠다.. 이야기를 하기 위해서는 목청...          55\n",
       "125026       1            밑에 뚜아앙 정신 차려라 세종에서 이 정도면 서비스 맛 다 좋은 편이다          28\n",
       "...        ...                                                ...         ...\n",
       "216066       1  음료와 디저트가 좀 비싸고 카페 가는 길이 좀 힘들긴 해요 그래도 그게 잊힐 만큼 ...          62\n",
       "166832       1  건강빵에 눈을 뜬 곳  건강빵도 맛있다는 걸 알게 됐어요   다른 빵보다 건강빵 등...          36\n",
       "369894       1  600번째 리뷰는 늦었지만 화이트데이 기념으로 방문한 테이블 포포! Popo가 아니...         891\n",
       "179061       0  양도 별로고 맛도 없고 원수 친구가 간다 해도 말릴 거 같아요. 그리고 컵이 약간 ...          44\n",
       "323012       1                      깔끔하고 어른들이 좋아하실만한 맛 외국인들도 많이 옴          23\n",
       "\n",
       "[1000 rows x 3 columns]"
      ]
     },
     "execution_count": 38,
     "metadata": {},
     "output_type": "execute_result"
    }
   ],
   "source": [
    "restaurants['char_count'] = restaurants['Review'].apply(lambda x: len(x.replace(\" \", \"\")))\n",
    "restaurants"
   ]
  },
  {
   "cell_type": "code",
   "execution_count": null,
   "metadata": {},
   "outputs": [
    {
     "data": {
      "text/html": [
       "<div>\n",
       "<style scoped>\n",
       "    .dataframe tbody tr th:only-of-type {\n",
       "        vertical-align: middle;\n",
       "    }\n",
       "\n",
       "    .dataframe tbody tr th {\n",
       "        vertical-align: top;\n",
       "    }\n",
       "\n",
       "    .dataframe thead th {\n",
       "        text-align: right;\n",
       "    }\n",
       "</style>\n",
       "<table border=\"1\" class=\"dataframe\">\n",
       "  <thead>\n",
       "    <tr style=\"text-align: right;\">\n",
       "      <th></th>\n",
       "      <th>Rating</th>\n",
       "      <th>Review</th>\n",
       "    </tr>\n",
       "  </thead>\n",
       "  <tbody>\n",
       "    <tr>\n",
       "      <th>124388</th>\n",
       "      <td>1</td>\n",
       "      <td>삼겹만 먹다가 목살 먹었어요 냉면에   역시 저기압일 땐 고기 앞으로 가야쥬 잘 먹...</td>\n",
       "    </tr>\n",
       "    <tr>\n",
       "      <th>633594</th>\n",
       "      <td>2</td>\n",
       "      <td>가볼만해요 맛있더라고요</td>\n",
       "    </tr>\n",
       "    <tr>\n",
       "      <th>393430</th>\n",
       "      <td>0</td>\n",
       "      <td>새로 생겨서 가봤는데 생각보다는 별로였네요  라테 종류는 맛있었는데 아메리카노는 산...</td>\n",
       "    </tr>\n",
       "    <tr>\n",
       "      <th>547587</th>\n",
       "      <td>1</td>\n",
       "      <td>사람들이 너무 많아서 주변 분위기가 너무 시끄러웠다.. 이야기를 하기 위해서는 목청...</td>\n",
       "    </tr>\n",
       "    <tr>\n",
       "      <th>125026</th>\n",
       "      <td>1</td>\n",
       "      <td>밑에 뚜아앙 정신 차려라 세종에서 이 정도면 서비스 맛 다 좋은 편이다</td>\n",
       "    </tr>\n",
       "    <tr>\n",
       "      <th>...</th>\n",
       "      <td>...</td>\n",
       "      <td>...</td>\n",
       "    </tr>\n",
       "    <tr>\n",
       "      <th>216066</th>\n",
       "      <td>1</td>\n",
       "      <td>음료와 디저트가 좀 비싸고 카페 가는 길이 좀 힘들긴 해요 그래도 그게 잊힐 만큼 ...</td>\n",
       "    </tr>\n",
       "    <tr>\n",
       "      <th>166832</th>\n",
       "      <td>1</td>\n",
       "      <td>건강빵에 눈을 뜬 곳  건강빵도 맛있다는 걸 알게 됐어요   다른 빵보다 건강빵 등...</td>\n",
       "    </tr>\n",
       "    <tr>\n",
       "      <th>369894</th>\n",
       "      <td>1</td>\n",
       "      <td>600번째 리뷰는 늦었지만 화이트데이 기념으로 방문한 테이블 포포! Popo가 아니...</td>\n",
       "    </tr>\n",
       "    <tr>\n",
       "      <th>179061</th>\n",
       "      <td>0</td>\n",
       "      <td>양도 별로고 맛도 없고 원수 친구가 간다 해도 말릴 거 같아요. 그리고 컵이 약간 ...</td>\n",
       "    </tr>\n",
       "    <tr>\n",
       "      <th>323012</th>\n",
       "      <td>1</td>\n",
       "      <td>깔끔하고 어른들이 좋아하실만한 맛 외국인들도 많이 옴</td>\n",
       "    </tr>\n",
       "  </tbody>\n",
       "</table>\n",
       "<p>1000 rows × 2 columns</p>\n",
       "</div>"
      ],
      "text/plain": [
       "        Rating                                             Review\n",
       "124388       1  삼겹만 먹다가 목살 먹었어요 냉면에   역시 저기압일 땐 고기 앞으로 가야쥬 잘 먹...\n",
       "633594       2                                       가볼만해요 맛있더라고요\n",
       "393430       0  새로 생겨서 가봤는데 생각보다는 별로였네요  라테 종류는 맛있었는데 아메리카노는 산...\n",
       "547587       1  사람들이 너무 많아서 주변 분위기가 너무 시끄러웠다.. 이야기를 하기 위해서는 목청...\n",
       "125026       1            밑에 뚜아앙 정신 차려라 세종에서 이 정도면 서비스 맛 다 좋은 편이다\n",
       "...        ...                                                ...\n",
       "216066       1  음료와 디저트가 좀 비싸고 카페 가는 길이 좀 힘들긴 해요 그래도 그게 잊힐 만큼 ...\n",
       "166832       1  건강빵에 눈을 뜬 곳  건강빵도 맛있다는 걸 알게 됐어요   다른 빵보다 건강빵 등...\n",
       "369894       1  600번째 리뷰는 늦었지만 화이트데이 기념으로 방문한 테이블 포포! Popo가 아니...\n",
       "179061       0  양도 별로고 맛도 없고 원수 친구가 간다 해도 말릴 거 같아요. 그리고 컵이 약간 ...\n",
       "323012       1                      깔끔하고 어른들이 좋아하실만한 맛 외국인들도 많이 옴\n",
       "\n",
       "[1000 rows x 2 columns]"
      ]
     },
     "execution_count": 46,
     "metadata": {},
     "output_type": "execute_result"
    }
   ],
   "source": [
    "# restaurants['Review']\n",
    "res_char = restaurants.copy()\n",
    "res_word = restaurants.copy()"
   ]
  },
  {
   "cell_type": "code",
   "execution_count": null,
   "metadata": {},
   "outputs": [],
   "source": [
    "char_list = []\n",
    "for char in res_char['Review']:\n",
    "    char_list.append(len(char.replace(\" \", \"\")))\n",
    "res_char['char'] = char_list    \n",
    "res_char"
   ]
  },
  {
   "cell_type": "code",
   "execution_count": null,
   "metadata": {},
   "outputs": [
    {
     "data": {
      "text/html": [
       "<div>\n",
       "<style scoped>\n",
       "    .dataframe tbody tr th:only-of-type {\n",
       "        vertical-align: middle;\n",
       "    }\n",
       "\n",
       "    .dataframe tbody tr th {\n",
       "        vertical-align: top;\n",
       "    }\n",
       "\n",
       "    .dataframe thead th {\n",
       "        text-align: right;\n",
       "    }\n",
       "</style>\n",
       "<table border=\"1\" class=\"dataframe\">\n",
       "  <thead>\n",
       "    <tr style=\"text-align: right;\">\n",
       "      <th></th>\n",
       "      <th>Rating</th>\n",
       "      <th>Review</th>\n",
       "      <th>word</th>\n",
       "    </tr>\n",
       "  </thead>\n",
       "  <tbody>\n",
       "    <tr>\n",
       "      <th>124388</th>\n",
       "      <td>1</td>\n",
       "      <td>삼겹만 먹다가 목살 먹었어요 냉면에   역시 저기압일 땐 고기 앞으로 가야쥬 잘 먹...</td>\n",
       "      <td>13</td>\n",
       "    </tr>\n",
       "    <tr>\n",
       "      <th>633594</th>\n",
       "      <td>2</td>\n",
       "      <td>가볼만해요 맛있더라고요</td>\n",
       "      <td>2</td>\n",
       "    </tr>\n",
       "    <tr>\n",
       "      <th>393430</th>\n",
       "      <td>0</td>\n",
       "      <td>새로 생겨서 가봤는데 생각보다는 별로였네요  라테 종류는 맛있었는데 아메리카노는 산...</td>\n",
       "      <td>84</td>\n",
       "    </tr>\n",
       "    <tr>\n",
       "      <th>547587</th>\n",
       "      <td>1</td>\n",
       "      <td>사람들이 너무 많아서 주변 분위기가 너무 시끄러웠다.. 이야기를 하기 위해서는 목청...</td>\n",
       "      <td>16</td>\n",
       "    </tr>\n",
       "    <tr>\n",
       "      <th>125026</th>\n",
       "      <td>1</td>\n",
       "      <td>밑에 뚜아앙 정신 차려라 세종에서 이 정도면 서비스 맛 다 좋은 편이다</td>\n",
       "      <td>12</td>\n",
       "    </tr>\n",
       "    <tr>\n",
       "      <th>...</th>\n",
       "      <td>...</td>\n",
       "      <td>...</td>\n",
       "      <td>...</td>\n",
       "    </tr>\n",
       "    <tr>\n",
       "      <th>216066</th>\n",
       "      <td>1</td>\n",
       "      <td>음료와 디저트가 좀 비싸고 카페 가는 길이 좀 힘들긴 해요 그래도 그게 잊힐 만큼 ...</td>\n",
       "      <td>23</td>\n",
       "    </tr>\n",
       "    <tr>\n",
       "      <th>166832</th>\n",
       "      <td>1</td>\n",
       "      <td>건강빵에 눈을 뜬 곳  건강빵도 맛있다는 걸 알게 됐어요   다른 빵보다 건강빵 등...</td>\n",
       "      <td>14</td>\n",
       "    </tr>\n",
       "    <tr>\n",
       "      <th>369894</th>\n",
       "      <td>1</td>\n",
       "      <td>600번째 리뷰는 늦었지만 화이트데이 기념으로 방문한 테이블 포포! Popo가 아니...</td>\n",
       "      <td>280</td>\n",
       "    </tr>\n",
       "    <tr>\n",
       "      <th>179061</th>\n",
       "      <td>0</td>\n",
       "      <td>양도 별로고 맛도 없고 원수 친구가 간다 해도 말릴 거 같아요. 그리고 컵이 약간 ...</td>\n",
       "      <td>18</td>\n",
       "    </tr>\n",
       "    <tr>\n",
       "      <th>323012</th>\n",
       "      <td>1</td>\n",
       "      <td>깔끔하고 어른들이 좋아하실만한 맛 외국인들도 많이 옴</td>\n",
       "      <td>7</td>\n",
       "    </tr>\n",
       "  </tbody>\n",
       "</table>\n",
       "<p>1000 rows × 3 columns</p>\n",
       "</div>"
      ],
      "text/plain": [
       "        Rating                                             Review  word\n",
       "124388       1  삼겹만 먹다가 목살 먹었어요 냉면에   역시 저기압일 땐 고기 앞으로 가야쥬 잘 먹...    13\n",
       "633594       2                                       가볼만해요 맛있더라고요     2\n",
       "393430       0  새로 생겨서 가봤는데 생각보다는 별로였네요  라테 종류는 맛있었는데 아메리카노는 산...    84\n",
       "547587       1  사람들이 너무 많아서 주변 분위기가 너무 시끄러웠다.. 이야기를 하기 위해서는 목청...    16\n",
       "125026       1            밑에 뚜아앙 정신 차려라 세종에서 이 정도면 서비스 맛 다 좋은 편이다    12\n",
       "...        ...                                                ...   ...\n",
       "216066       1  음료와 디저트가 좀 비싸고 카페 가는 길이 좀 힘들긴 해요 그래도 그게 잊힐 만큼 ...    23\n",
       "166832       1  건강빵에 눈을 뜬 곳  건강빵도 맛있다는 걸 알게 됐어요   다른 빵보다 건강빵 등...    14\n",
       "369894       1  600번째 리뷰는 늦었지만 화이트데이 기념으로 방문한 테이블 포포! Popo가 아니...   280\n",
       "179061       0  양도 별로고 맛도 없고 원수 친구가 간다 해도 말릴 거 같아요. 그리고 컵이 약간 ...    18\n",
       "323012       1                      깔끔하고 어른들이 좋아하실만한 맛 외국인들도 많이 옴     7\n",
       "\n",
       "[1000 rows x 3 columns]"
      ]
     },
     "execution_count": 61,
     "metadata": {},
     "output_type": "execute_result"
    }
   ],
   "source": [
    "word_list = []\n",
    "for word in res_word['Review']:\n",
    "    words = word.split()\n",
    "    word_list.append(len(words))\n",
    "res_word['word'] = word_list\n",
    "res_word.iloc[0,1]       \n",
    "res_word"
   ]
  },
  {
   "cell_type": "code",
   "execution_count": null,
   "metadata": {},
   "outputs": [
    {
     "name": "stdout",
     "output_type": "stream",
     "text": [
      "단어의 평균 : Rating\n",
      "0    33.050000\n",
      "1    37.197068\n",
      "2    26.129371\n",
      "Name: word, dtype: float64, \n",
      "문장길이의 평균 : Rating\n",
      "0     96.190000\n",
      "1    111.385993\n",
      "2     77.898601\n",
      "Name: char, dtype: float64\n"
     ]
    }
   ],
   "source": [
    "# 평점에 따른 길이이이이\n",
    "\n",
    "word = res_word.groupby('Rating')['word'].mean()\n",
    "char = res_char.groupby('Rating')['char'].mean()\n",
    "print(f'단어의 평균 : {word}, \\n문장길이의 평균 : {char}')\n",
    "\n"
   ]
  },
  {
   "cell_type": "markdown",
   "metadata": {},
   "source": [
    "Q2. 평점에 따라 리뷰에서 자주 등장하는 단어를 분석해보세요\n",
    "\n",
    "1. 리뷰데이터를 전처리하고 자유로운 방법으로 토큰화를 수행해보세요\n",
    "2. 토큰화된 단어들의 빈도수를 계산하고 가장 많이 등장한 단어들을 bar그래프로 시각화해보세요"
   ]
  },
  {
   "cell_type": "code",
   "execution_count": 16,
   "metadata": {},
   "outputs": [],
   "source": [
    "def extract_nouns(text):\n",
    "    return m.nouns(text)"
   ]
  },
  {
   "cell_type": "code",
   "execution_count": 18,
   "metadata": {},
   "outputs": [
    {
     "data": {
      "text/html": [
       "<div>\n",
       "<style scoped>\n",
       "    .dataframe tbody tr th:only-of-type {\n",
       "        vertical-align: middle;\n",
       "    }\n",
       "\n",
       "    .dataframe tbody tr th {\n",
       "        vertical-align: top;\n",
       "    }\n",
       "\n",
       "    .dataframe thead th {\n",
       "        text-align: right;\n",
       "    }\n",
       "</style>\n",
       "<table border=\"1\" class=\"dataframe\">\n",
       "  <thead>\n",
       "    <tr style=\"text-align: right;\">\n",
       "      <th></th>\n",
       "      <th>Rating</th>\n",
       "      <th>Review</th>\n",
       "      <th>Length</th>\n",
       "      <th>Nouns</th>\n",
       "    </tr>\n",
       "  </thead>\n",
       "  <tbody>\n",
       "    <tr>\n",
       "      <th>124388</th>\n",
       "      <td>1</td>\n",
       "      <td>삼겹만 먹다가 목살 먹었어요 냉면에   역시 저기압일 땐 고기 앞으로 가야쥬 잘 먹...</td>\n",
       "      <td>50</td>\n",
       "      <td>[삼, 겹, 목살, 냉면, 저기압, 땐, 고기, 앞]</td>\n",
       "    </tr>\n",
       "    <tr>\n",
       "      <th>633594</th>\n",
       "      <td>2</td>\n",
       "      <td>가볼만해요 맛있더라고요</td>\n",
       "      <td>12</td>\n",
       "      <td>[만]</td>\n",
       "    </tr>\n",
       "    <tr>\n",
       "      <th>393430</th>\n",
       "      <td>0</td>\n",
       "      <td>새로 생겨서 가봤는데 생각보다는 별로였네요  라테 종류는 맛있었는데 아메리카노는 산...</td>\n",
       "      <td>358</td>\n",
       "      <td>[생각, 라테, 종류, 아메리카노, 산미, 맛, 느낌, 슈페너, 크림, 크림, 불편...</td>\n",
       "    </tr>\n",
       "    <tr>\n",
       "      <th>547587</th>\n",
       "      <td>1</td>\n",
       "      <td>사람들이 너무 많아서 주변 분위기가 너무 시끄러웠다.. 이야기를 하기 위해서는 목청...</td>\n",
       "      <td>70</td>\n",
       "      <td>[사람, 주변, 분위기, 이야기, 목청, 음식점, 분위기]</td>\n",
       "    </tr>\n",
       "    <tr>\n",
       "      <th>125026</th>\n",
       "      <td>1</td>\n",
       "      <td>밑에 뚜아앙 정신 차려라 세종에서 이 정도면 서비스 맛 다 좋은 편이다</td>\n",
       "      <td>39</td>\n",
       "      <td>[밑, 정신, 세종, 정도, 서비스, 맛, 편]</td>\n",
       "    </tr>\n",
       "    <tr>\n",
       "      <th>...</th>\n",
       "      <td>...</td>\n",
       "      <td>...</td>\n",
       "      <td>...</td>\n",
       "      <td>...</td>\n",
       "    </tr>\n",
       "    <tr>\n",
       "      <th>216066</th>\n",
       "      <td>1</td>\n",
       "      <td>음료와 디저트가 좀 비싸고 카페 가는 길이 좀 힘들긴 해요 그래도 그게 잊힐 만큼 ...</td>\n",
       "      <td>85</td>\n",
       "      <td>[음료, 디저트, 카페, 길, 그게, 만큼, 인테리어, 식물, 조합, 봄, 추천]</td>\n",
       "    </tr>\n",
       "    <tr>\n",
       "      <th>166832</th>\n",
       "      <td>1</td>\n",
       "      <td>건강빵에 눈을 뜬 곳  건강빵도 맛있다는 걸 알게 됐어요   다른 빵보다 건강빵 등...</td>\n",
       "      <td>52</td>\n",
       "      <td>[건강, 빵, 눈, 곳, 건강, 빵, 걸, 빵, 건강, 빵, 등]</td>\n",
       "    </tr>\n",
       "    <tr>\n",
       "      <th>369894</th>\n",
       "      <td>1</td>\n",
       "      <td>600번째 리뷰는 늦었지만 화이트데이 기념으로 방문한 테이블 포포! Popo가 아니...</td>\n",
       "      <td>1182</td>\n",
       "      <td>[번, 리뷰, 화이트데이, 기념, 방문, 테이블, 포포, 런, 코스, 메뉴, 가격,...</td>\n",
       "    </tr>\n",
       "    <tr>\n",
       "      <th>179061</th>\n",
       "      <td>0</td>\n",
       "      <td>양도 별로고 맛도 없고 원수 친구가 간다 해도 말릴 거 같아요. 그리고 컵이 약간 ...</td>\n",
       "      <td>61</td>\n",
       "      <td>[양, 맛, 원수, 친구, 거, 컵, 기분]</td>\n",
       "    </tr>\n",
       "    <tr>\n",
       "      <th>323012</th>\n",
       "      <td>1</td>\n",
       "      <td>깔끔하고 어른들이 좋아하실만한 맛 외국인들도 많이 옴</td>\n",
       "      <td>29</td>\n",
       "      <td>[어른, 만, 맛, 외국인]</td>\n",
       "    </tr>\n",
       "  </tbody>\n",
       "</table>\n",
       "<p>1000 rows × 4 columns</p>\n",
       "</div>"
      ],
      "text/plain": [
       "        Rating                                             Review  Length  \\\n",
       "124388       1  삼겹만 먹다가 목살 먹었어요 냉면에   역시 저기압일 땐 고기 앞으로 가야쥬 잘 먹...      50   \n",
       "633594       2                                       가볼만해요 맛있더라고요      12   \n",
       "393430       0  새로 생겨서 가봤는데 생각보다는 별로였네요  라테 종류는 맛있었는데 아메리카노는 산...     358   \n",
       "547587       1  사람들이 너무 많아서 주변 분위기가 너무 시끄러웠다.. 이야기를 하기 위해서는 목청...      70   \n",
       "125026       1            밑에 뚜아앙 정신 차려라 세종에서 이 정도면 서비스 맛 다 좋은 편이다      39   \n",
       "...        ...                                                ...     ...   \n",
       "216066       1  음료와 디저트가 좀 비싸고 카페 가는 길이 좀 힘들긴 해요 그래도 그게 잊힐 만큼 ...      85   \n",
       "166832       1  건강빵에 눈을 뜬 곳  건강빵도 맛있다는 걸 알게 됐어요   다른 빵보다 건강빵 등...      52   \n",
       "369894       1  600번째 리뷰는 늦었지만 화이트데이 기념으로 방문한 테이블 포포! Popo가 아니...    1182   \n",
       "179061       0  양도 별로고 맛도 없고 원수 친구가 간다 해도 말릴 거 같아요. 그리고 컵이 약간 ...      61   \n",
       "323012       1                      깔끔하고 어른들이 좋아하실만한 맛 외국인들도 많이 옴      29   \n",
       "\n",
       "                                                    Nouns  \n",
       "124388                      [삼, 겹, 목살, 냉면, 저기압, 땐, 고기, 앞]  \n",
       "633594                                                [만]  \n",
       "393430  [생각, 라테, 종류, 아메리카노, 산미, 맛, 느낌, 슈페너, 크림, 크림, 불편...  \n",
       "547587                   [사람, 주변, 분위기, 이야기, 목청, 음식점, 분위기]  \n",
       "125026                         [밑, 정신, 세종, 정도, 서비스, 맛, 편]  \n",
       "...                                                   ...  \n",
       "216066      [음료, 디저트, 카페, 길, 그게, 만큼, 인테리어, 식물, 조합, 봄, 추천]  \n",
       "166832               [건강, 빵, 눈, 곳, 건강, 빵, 걸, 빵, 건강, 빵, 등]  \n",
       "369894  [번, 리뷰, 화이트데이, 기념, 방문, 테이블, 포포, 런, 코스, 메뉴, 가격,...  \n",
       "179061                           [양, 맛, 원수, 친구, 거, 컵, 기분]  \n",
       "323012                                    [어른, 만, 맛, 외국인]  \n",
       "\n",
       "[1000 rows x 4 columns]"
      ]
     },
     "execution_count": 18,
     "metadata": {},
     "output_type": "execute_result"
    }
   ],
   "source": [
    "restaurants['Nouns'] = restaurants['Review'].apply(extract_nouns)\n",
    "restaurants"
   ]
  },
  {
   "cell_type": "code",
   "execution_count": 19,
   "metadata": {},
   "outputs": [],
   "source": [
    "all_nouns = []\n",
    "for nouns_list in restaurants['Nouns']:\n",
    "    all_nouns.extend(nouns_list)"
   ]
  },
  {
   "cell_type": "code",
   "execution_count": 20,
   "metadata": {},
   "outputs": [
    {
     "data": {
      "text/plain": [
       "{'삼': 16,\n",
       " '겹': 10,\n",
       " '목살': 4,\n",
       " '냉면': 21,\n",
       " '저기압': 1,\n",
       " '땐': 11,\n",
       " '고기': 106,\n",
       " '앞': 31,\n",
       " '만': 90,\n",
       " '생각': 113,\n",
       " '라테': 20,\n",
       " '종류': 35,\n",
       " '아메리카노': 12,\n",
       " '산미': 7,\n",
       " '맛': 572,\n",
       " '느낌': 68,\n",
       " '슈페너': 7,\n",
       " '크림': 40,\n",
       " '불편': 19,\n",
       " '베이커리': 8,\n",
       " '가게': 57,\n",
       " '카운터': 8,\n",
       " '진열': 1,\n",
       " '데': 59,\n",
       " '위생': 10,\n",
       " '초코': 17,\n",
       " '쿠키': 2,\n",
       " '지': 4,\n",
       " '것': 277,\n",
       " '당황': 7,\n",
       " '투명': 1,\n",
       " '케이스': 2,\n",
       " '실내': 6,\n",
       " '음악': 4,\n",
       " '소리': 8,\n",
       " '전반': 12,\n",
       " '외관': 10,\n",
       " '치중': 1,\n",
       " '사람': 93,\n",
       " '주변': 9,\n",
       " '분위기': 133,\n",
       " '이야기': 3,\n",
       " '목청': 1,\n",
       " '음식점': 15,\n",
       " '밑': 7,\n",
       " '정신': 2,\n",
       " '세종': 1,\n",
       " '정도': 92,\n",
       " '서비스': 59,\n",
       " '편': 95,\n",
       " '회기역': 2,\n",
       " '근처': 41,\n",
       " '족발': 7,\n",
       " '보쌈': 9,\n",
       " '집': 231,\n",
       " '시': 40,\n",
       " '손님': 14,\n",
       " '중': 65,\n",
       " '사이즈': 7,\n",
       " '거': 160,\n",
       " '보쌈김치': 2,\n",
       " '위': 25,\n",
       " '양념': 34,\n",
       " '점수': 2,\n",
       " '듯': 108,\n",
       " '김치': 23,\n",
       " '깍': 2,\n",
       " '둑': 2,\n",
       " '생고구마': 1,\n",
       " '무': 4,\n",
       " '말': 41,\n",
       " '형태': 2,\n",
       " '배': 20,\n",
       " '테이블': 41,\n",
       " '여기저기': 3,\n",
       " '추가': 29,\n",
       " '주문': 94,\n",
       " '중요': 5,\n",
       " '치즈': 45,\n",
       " '애자': 1,\n",
       " '환장': 1,\n",
       " '곳': 209,\n",
       " '핵': 3,\n",
       " '존': 25,\n",
       " '탱': 10,\n",
       " '여기': 89,\n",
       " '곱창': 14,\n",
       " '막창': 9,\n",
       " '추천': 101,\n",
       " '가격': 145,\n",
       " '바람': 4,\n",
       " '성북동': 2,\n",
       " '위치': 28,\n",
       " '알렉스': 1,\n",
       " '커피': 87,\n",
       " '랩': 1,\n",
       " '분점': 3,\n",
       " '건축': 1,\n",
       " '사무소': 1,\n",
       " '운영': 15,\n",
       " '카페': 87,\n",
       " '정원': 8,\n",
       " '플랫': 4,\n",
       " '화이트': 11,\n",
       " '메뉴': 151,\n",
       " '아이스': 3,\n",
       " '퍼지': 1,\n",
       " '이곳': 26,\n",
       " '주': 4,\n",
       " '무기': 1,\n",
       " '우유': 8,\n",
       " '고소': 3,\n",
       " '감': 8,\n",
       " '마시멜로': 1,\n",
       " '오븐': 2,\n",
       " '아이스크림': 8,\n",
       " '부족': 16,\n",
       " '당': 1,\n",
       " '충전': 1,\n",
       " '양': 96,\n",
       " '입가심': 3,\n",
       " '모기': 1,\n",
       " '운치': 2,\n",
       " '직원': 53,\n",
       " '친절': 74,\n",
       " '발레': 3,\n",
       " '분': 88,\n",
       " '불친절': 15,\n",
       " '역': 4,\n",
       " '신발': 1,\n",
       " '신고': 1,\n",
       " '북동': 1,\n",
       " '산책': 5,\n",
       " '방문': 121,\n",
       " '최고': 43,\n",
       " '짱': 7,\n",
       " '라멘': 14,\n",
       " '문': 10,\n",
       " '오랜만': 17,\n",
       " '버터': 10,\n",
       " '핑거': 1,\n",
       " '게': 83,\n",
       " '냄새': 21,\n",
       " '메이플': 2,\n",
       " '시럽': 4,\n",
       " '꿀맛': 4,\n",
       " '맥주': 31,\n",
       " '수': 206,\n",
       " '안주': 10,\n",
       " '저': 51,\n",
       " '제주': 7,\n",
       " '때': 107,\n",
       " '제주도': 5,\n",
       " '년': 29,\n",
       " '번': 87,\n",
       " '가요': 3,\n",
       " '단점': 13,\n",
       " '통화': 1,\n",
       " '통': 8,\n",
       " '이상': 28,\n",
       " '시도': 1,\n",
       " '거우': 1,\n",
       " '연결': 2,\n",
       " '오늘': 9,\n",
       " '예약': 26,\n",
       " '시간': 69,\n",
       " '도착': 7,\n",
       " '손': 33,\n",
       " '개': 53,\n",
       " '뭘': 9,\n",
       " '생일날': 2,\n",
       " '저녁': 32,\n",
       " '전화': 6,\n",
       " '식당': 39,\n",
       " '태도': 3,\n",
       " '최악': 6,\n",
       " '사정': 1,\n",
       " '연락': 1,\n",
       " '정상': 1,\n",
       " '마을': 3,\n",
       " '바퀴': 2,\n",
       " '리뷰': 34,\n",
       " '플': 10,\n",
       " '삭제': 3,\n",
       " '눈': 11,\n",
       " '창고': 2,\n",
       " '음식': 148,\n",
       " '반입': 1,\n",
       " '허락': 1,\n",
       " '실화': 1,\n",
       " '때문': 36,\n",
       " '별점': 3,\n",
       " '드림': 2,\n",
       " '요즘': 12,\n",
       " '프랜차이즈': 8,\n",
       " '삼겹살': 9,\n",
       " '돼지고기': 8,\n",
       " '돼지갈비': 2,\n",
       " '밥도둑': 2,\n",
       " '돼지': 9,\n",
       " '조금': 5,\n",
       " '감동': 9,\n",
       " '나': 45,\n",
       " '기대': 60,\n",
       " '하나': 55,\n",
       " '식사': 47,\n",
       " '대응': 1,\n",
       " '과': 3,\n",
       " '선비': 1,\n",
       " '요리': 48,\n",
       " '크리스마스': 3,\n",
       " '기념일': 1,\n",
       " '손색': 2,\n",
       " '티': 7,\n",
       " '본과': 1,\n",
       " '규': 3,\n",
       " '등심': 10,\n",
       " '스테이크': 24,\n",
       " '둘': 28,\n",
       " '인상': 20,\n",
       " '리조': 4,\n",
       " '파스타': 62,\n",
       " '강추': 8,\n",
       " '곤이': 1,\n",
       " '이리': 1,\n",
       " '해물탕': 3,\n",
       " '꽃게': 3,\n",
       " '다리': 4,\n",
       " '길': 17,\n",
       " '몸통': 1,\n",
       " '국물': 57,\n",
       " '오징어': 16,\n",
       " '반': 13,\n",
       " '토막': 1,\n",
       " '와중': 4,\n",
       " '문어': 20,\n",
       " '낙지': 10,\n",
       " '미더덕': 1,\n",
       " '오만둥이': 2,\n",
       " '건': 54,\n",
       " '이해': 7,\n",
       " '적정': 1,\n",
       " '량': 1,\n",
       " '다섯': 8,\n",
       " '마리': 3,\n",
       " '미나리': 6,\n",
       " '줌': 3,\n",
       " '조개': 11,\n",
       " '아구': 3,\n",
       " '꼬리': 2,\n",
       " '도막': 1,\n",
       " '나머지': 2,\n",
       " '가죽': 1,\n",
       " '해물': 18,\n",
       " '그걸': 3,\n",
       " '보충': 1,\n",
       " '칼국수': 20,\n",
       " '가지': 36,\n",
       " '어버이날': 1,\n",
       " '기념': 4,\n",
       " '걸': 32,\n",
       " '돈': 19,\n",
       " '예전': 13,\n",
       " '초심': 1,\n",
       " '겁니까': 2,\n",
       " '주인장': 3,\n",
       " '반절': 1,\n",
       " '사진': 28,\n",
       " '숙성': 5,\n",
       " '원탑': 2,\n",
       " '타쿠미': 1,\n",
       " '곤': 1,\n",
       " '네타': 3,\n",
       " '샤리': 2,\n",
       " '풍미': 9,\n",
       " '입안': 3,\n",
       " '접객': 3,\n",
       " '나위': 3,\n",
       " '색': 6,\n",
       " '개인': 30,\n",
       " '취향': 17,\n",
       " '극': 3,\n",
       " '난': 10,\n",
       " '극화': 2,\n",
       " '비추': 7,\n",
       " '뱃': 1,\n",
       " '다라': 1,\n",
       " '즈': 1,\n",
       " '케': 3,\n",
       " '해결': 1,\n",
       " '가능': 26,\n",
       " '오마': 3,\n",
       " '카세': 3,\n",
       " '구성': 7,\n",
       " '완급': 1,\n",
       " '조절': 4,\n",
       " '계산': 7,\n",
       " '결론': 3,\n",
       " '향': 50,\n",
       " '크림치즈': 12,\n",
       " '바게트': 9,\n",
       " '새우': 21,\n",
       " '도미': 3,\n",
       " '야채': 21,\n",
       " '만족': 42,\n",
       " '매덕스': 3,\n",
       " '사점': 1,\n",
       " '처음': 18,\n",
       " '웨이팅': 53,\n",
       " '조각': 15,\n",
       " '절반': 2,\n",
       " '마르게리타': 4,\n",
       " '고민': 9,\n",
       " '리타': 2,\n",
       " '성공': 3,\n",
       " '미국식': 3,\n",
       " '피자': 51,\n",
       " '초리': 1,\n",
       " '소': 10,\n",
       " '네모': 2,\n",
       " '도우': 11,\n",
       " '초기': 4,\n",
       " '조': 6,\n",
       " '초록': 3,\n",
       " '고추': 9,\n",
       " '베이컨': 6,\n",
       " '마카로니': 1,\n",
       " '사이': 7,\n",
       " '소스': 71,\n",
       " '페퍼로니': 6,\n",
       " '짠맛': 4,\n",
       " '덕': 7,\n",
       " '후': 22,\n",
       " '회사': 3,\n",
       " '점심': 31,\n",
       " '맥도날드': 2,\n",
       " '앱': 1,\n",
       " '쿠폰': 1,\n",
       " '사용': 15,\n",
       " '빙수': 12,\n",
       " '이름': 14,\n",
       " '팥': 10,\n",
       " '회식': 7,\n",
       " '모임': 7,\n",
       " '장소': 5,\n",
       " '샐러드': 24,\n",
       " '바': 14,\n",
       " '나름': 9,\n",
       " '서빙': 12,\n",
       " '판매': 13,\n",
       " '케이크': 21,\n",
       " '뷔페': 4,\n",
       " '대비': 20,\n",
       " '만족도': 2,\n",
       " '브런치': 7,\n",
       " '결국': 6,\n",
       " '빵': 88,\n",
       " '즈음': 1,\n",
       " '유명': 8,\n",
       " '당근': 6,\n",
       " '무화과': 3,\n",
       " '자체': 27,\n",
       " '어머니': 3,\n",
       " '팀': 9,\n",
       " '입장': 11,\n",
       " '저희': 18,\n",
       " '뒤': 14,\n",
       " '밖': 5,\n",
       " '원': 103,\n",
       " '코끝': 1,\n",
       " '구성비': 36,\n",
       " '대기': 18,\n",
       " '가치': 4,\n",
       " '마라': 6,\n",
       " '유린기': 1,\n",
       " '가락국수': 6,\n",
       " '생명': 1,\n",
       " '면발': 6,\n",
       " '글': 11,\n",
       " '야마다': 1,\n",
       " '의사': 6,\n",
       " '크로켓': 7,\n",
       " '사이드': 13,\n",
       " '장맛': 2,\n",
       " '순서': 7,\n",
       " '튀김': 24,\n",
       " '자루': 1,\n",
       " '가라아게': 1,\n",
       " '붓': 1,\n",
       " '모둠': 9,\n",
       " '소시지': 7,\n",
       " '맘': 9,\n",
       " '포털': 1,\n",
       " '검색': 4,\n",
       " '특선': 1,\n",
       " '포인트': 4,\n",
       " '립도': 1,\n",
       " '하늘': 2,\n",
       " '줄': 30,\n",
       " '물가': 1,\n",
       " '삼거리': 1,\n",
       " '먼지': 2,\n",
       " '순댓국': 6,\n",
       " '환': 1,\n",
       " '시작': 10,\n",
       " '역사': 1,\n",
       " '모던': 2,\n",
       " '말차': 5,\n",
       " '인파': 1,\n",
       " '포기': 4,\n",
       " '다음': 35,\n",
       " '날': 29,\n",
       " '새벽': 3,\n",
       " '번호표': 7,\n",
       " '보람': 3,\n",
       " '최대한': 2,\n",
       " '피': 5,\n",
       " '동네': 17,\n",
       " '장사': 5,\n",
       " '효율': 2,\n",
       " '필요': 21,\n",
       " '오이소박이': 3,\n",
       " '국수': 23,\n",
       " '여름': 10,\n",
       " '고기만두': 1,\n",
       " '대신': 13,\n",
       " '오픈': 15,\n",
       " '자리': 44,\n",
       " '찐만두': 1,\n",
       " '군만두': 4,\n",
       " '일품': 9,\n",
       " '양장피': 3,\n",
       " '만두': 27,\n",
       " '에이스': 1,\n",
       " '하하': 2,\n",
       " '중국집': 5,\n",
       " '지상선': 1,\n",
       " '일': 42,\n",
       " '등': 50,\n",
       " '다기': 1,\n",
       " '찹쌀': 3,\n",
       " '반죽': 4,\n",
       " '이용': 11,\n",
       " '안': 42,\n",
       " '특유': 12,\n",
       " '잡탕밥': 1,\n",
       " '탕수육': 24,\n",
       " '파인애플': 2,\n",
       " '단맛': 12,\n",
       " '불닭': 2,\n",
       " '강남역': 5,\n",
       " '노포': 1,\n",
       " '된장찌개': 12,\n",
       " '기본': 31,\n",
       " '청국장': 2,\n",
       " '된장': 5,\n",
       " '찌개': 6,\n",
       " '비빔밥': 10,\n",
       " '리필': 7,\n",
       " '끼': 16,\n",
       " '인테리어': 33,\n",
       " '보통': 11,\n",
       " '제육': 6,\n",
       " '인생': 11,\n",
       " '김포': 2,\n",
       " '공항': 3,\n",
       " '송정역': 1,\n",
       " '부': 10,\n",
       " '숯불': 7,\n",
       " '구이': 12,\n",
       " '맛집': 12,\n",
       " '전': 43,\n",
       " '달': 4,\n",
       " '외국': 3,\n",
       " '인천': 2,\n",
       " '입국': 1,\n",
       " '소갈': 3,\n",
       " '빗살': 3,\n",
       " '혼자': 10,\n",
       " '인분': 20,\n",
       " '입맛': 30,\n",
       " '감칠맛': 10,\n",
       " '정의': 1,\n",
       " '입': 32,\n",
       " '설명': 12,\n",
       " '표현': 4,\n",
       " '파': 8,\n",
       " '절임': 5,\n",
       " '소금': 17,\n",
       " '차돌박이': 1,\n",
       " '여긴': 10,\n",
       " '갈빗살': 5,\n",
       " '버섯': 22,\n",
       " '떡': 8,\n",
       " '쌈장': 2,\n",
       " '성실': 2,\n",
       " '주차': 24,\n",
       " '조미료': 6,\n",
       " '속도': 3,\n",
       " '개취': 2,\n",
       " '대접': 3,\n",
       " '중문': 2,\n",
       " '갈비찜': 8,\n",
       " '갈비': 21,\n",
       " '저격': 4,\n",
       " '부자': 2,\n",
       " '대화': 9,\n",
       " '가정집': 1,\n",
       " '내': 44,\n",
       " '픽업': 1,\n",
       " '방어회': 1,\n",
       " '비주얼': 16,\n",
       " '호': 3,\n",
       " '점': 49,\n",
       " '맞은편': 3,\n",
       " '주차장': 9,\n",
       " '자차': 1,\n",
       " '차': 37,\n",
       " '라미': 1,\n",
       " '띠': 2,\n",
       " '런': 11,\n",
       " '근래': 2,\n",
       " '프렌치': 6,\n",
       " '만족감': 1,\n",
       " '플레이트': 5,\n",
       " '동안': 3,\n",
       " '마제': 3,\n",
       " '소바': 21,\n",
       " '배치': 2,\n",
       " '독특': 6,\n",
       " '다양': 17,\n",
       " '매장': 15,\n",
       " '전통': 4,\n",
       " '안동': 2,\n",
       " '찜': 3,\n",
       " '닭': 14,\n",
       " '부평': 1,\n",
       " '지인': 5,\n",
       " '키조개': 2,\n",
       " '삼합': 2,\n",
       " '기': 3,\n",
       " '딤섬': 6,\n",
       " '신림동': 1,\n",
       " '중식': 11,\n",
       " '개별': 2,\n",
       " '룸': 7,\n",
       " '고급': 9,\n",
       " '지다': 1,\n",
       " '짬뽕': 20,\n",
       " '제값': 1,\n",
       " '우리': 9,\n",
       " '나라': 5,\n",
       " '간': 29,\n",
       " '본연': 3,\n",
       " '코울': 1,\n",
       " '실로': 1,\n",
       " '브로콜리': 2,\n",
       " '비': 5,\n",
       " '단골': 10,\n",
       " '대도': 1,\n",
       " '반찬': 32,\n",
       " '깍두기': 3,\n",
       " '볶음밥': 35,\n",
       " '비법': 1,\n",
       " '베스트': 5,\n",
       " '메뉴인': 2,\n",
       " '안심': 6,\n",
       " '쌀국수': 10,\n",
       " '양파': 6,\n",
       " '스몰': 1,\n",
       " '라지': 1,\n",
       " '멸치': 5,\n",
       " '육수': 31,\n",
       " '장난': 2,\n",
       " '제': 30,\n",
       " '기분': 35,\n",
       " '사': 14,\n",
       " '인기': 14,\n",
       " '전포': 1,\n",
       " '쓰': 1,\n",
       " '일본': 9,\n",
       " '라면': 9,\n",
       " '키오스': 1,\n",
       " '크로': 1,\n",
       " '모금': 1,\n",
       " '한잔': 6,\n",
       " '매운맛': 6,\n",
       " '멘': 2,\n",
       " '타입': 3,\n",
       " '면': 40,\n",
       " '간장': 12,\n",
       " '베이스': 7,\n",
       " '연남': 2,\n",
       " '카즈에': 1,\n",
       " '비계': 3,\n",
       " '부위': 2,\n",
       " '기름': 11,\n",
       " '채': 1,\n",
       " '모츠': 2,\n",
       " '베': 3,\n",
       " '탓': 4,\n",
       " '실망': 15,\n",
       " '기복': 3,\n",
       " '오빠': 2,\n",
       " '경주': 2,\n",
       " '여행': 8,\n",
       " '상': 3,\n",
       " '자극': 19,\n",
       " '대학생': 1,\n",
       " '지갑': 1,\n",
       " '행복': 9,\n",
       " '한판': 1,\n",
       " '이거': 12,\n",
       " '마음': 20,\n",
       " '크기': 8,\n",
       " '상대': 3,\n",
       " '람보': 1,\n",
       " '르': 7,\n",
       " '사격': 1,\n",
       " '지방': 1,\n",
       " '프리미엄': 4,\n",
       " '돈가스': 26,\n",
       " '서울': 19,\n",
       " '아르바이트': 7,\n",
       " '눈치': 3,\n",
       " '상황': 6,\n",
       " '사장': 60,\n",
       " '고군분투': 1,\n",
       " '전복': 9,\n",
       " '리소토': 15,\n",
       " '한라': 2,\n",
       " '봉': 4,\n",
       " '이드': 3,\n",
       " '바다': 11,\n",
       " '뷰': 15,\n",
       " '밥': 90,\n",
       " '홍콩': 6,\n",
       " '퓨전': 2,\n",
       " '네온사인': 1,\n",
       " '규모': 6,\n",
       " '지하': 9,\n",
       " '층': 34,\n",
       " '바로우': 12,\n",
       " '이건': 8,\n",
       " '여자': 8,\n",
       " '여서': 1,\n",
       " '꽃': 3,\n",
       " '이것': 10,\n",
       " '밀크티': 8,\n",
       " '음료': 27,\n",
       " '한큐': 1,\n",
       " '마무리': 6,\n",
       " '인절미': 9,\n",
       " '홍시': 1,\n",
       " '스무디': 3,\n",
       " '인사동': 6,\n",
       " '한편': 4,\n",
       " '디저트': 37,\n",
       " '찻집': 1,\n",
       " '편안': 7,\n",
       " '합리': 9,\n",
       " '유자': 4,\n",
       " '꿀': 7,\n",
       " '계피': 2,\n",
       " '주심': 4,\n",
       " '겉': 5,\n",
       " '특별': 20,\n",
       " '경관': 3,\n",
       " '이유': 15,\n",
       " '샌드위치': 10,\n",
       " '바질': 5,\n",
       " '고구마': 2,\n",
       " '밤고구마': 1,\n",
       " '수프': 9,\n",
       " '만큼': 12,\n",
       " '재료': 34,\n",
       " '끝장': 3,\n",
       " '우가': 1,\n",
       " '파워': 2,\n",
       " '파니니': 4,\n",
       " '속': 24,\n",
       " '촉': 3,\n",
       " '청경채': 1,\n",
       " '페스': 4,\n",
       " '토': 5,\n",
       " '조합': 11,\n",
       " '물론': 1,\n",
       " '전체': 27,\n",
       " '쏘': 17,\n",
       " '갠': 1,\n",
       " '담': 12,\n",
       " '계란': 16,\n",
       " '평양냉면': 26,\n",
       " '편육': 1,\n",
       " '식전': 11,\n",
       " '물': 17,\n",
       " '겨울': 5,\n",
       " '아주머니': 4,\n",
       " '선택': 14,\n",
       " '곁': 3,\n",
       " '이찬': 1,\n",
       " '회': 37,\n",
       " '가짓수': 4,\n",
       " '퀄리티': 14,\n",
       " '관광객': 1,\n",
       " '대상': 4,\n",
       " '개선': 2,\n",
       " '친구': 39,\n",
       " '샌드': 4,\n",
       " '분식': 2,\n",
       " '요기': 1,\n",
       " '떡볶이': 23,\n",
       " '식빵': 5,\n",
       " '식감': 39,\n",
       " '누구': 4,\n",
       " '피크': 1,\n",
       " '타임': 6,\n",
       " '레트': 1,\n",
       " '풍': 1,\n",
       " '분식집': 2,\n",
       " '약간': 8,\n",
       " '회전율': 5,\n",
       " '꼬치': 14,\n",
       " '칭': 1,\n",
       " '볶음': 4,\n",
       " '레몬': 7,\n",
       " '불': 5,\n",
       " '간격': 5,\n",
       " '듀': 1,\n",
       " '음료수': 3,\n",
       " '산도': 2,\n",
       " '주방': 6,\n",
       " '가본': 2,\n",
       " '집중': 2,\n",
       " '가슴살': 2,\n",
       " '소파': 2,\n",
       " '뭔': 1,\n",
       " '다시마': 1,\n",
       " '식초': 6,\n",
       " '노른자': 2,\n",
       " '튀김옷': 8,\n",
       " '분리': 5,\n",
       " '경험': 12,\n",
       " '뭐': 9,\n",
       " '손질': 9,\n",
       " '일정': 3,\n",
       " '강남': 2,\n",
       " '빵집': 5,\n",
       " '서머': 3,\n",
       " '계절': 4,\n",
       " '중간': 6,\n",
       " '출근': 1,\n",
       " '패딩': 1,\n",
       " '무엇': 18,\n",
       " '스프링': 2,\n",
       " '코로나': 9,\n",
       " '조심': 4,\n",
       " '확진': 1,\n",
       " '취약': 1,\n",
       " '상태': 12,\n",
       " '쿵': 1,\n",
       " '거기': 13,\n",
       " '법': 6,\n",
       " '가락': 1,\n",
       " '내츄럴': 1,\n",
       " '리': 4,\n",
       " '십': 6,\n",
       " '최애': 5,\n",
       " '토리': 7,\n",
       " '카라': 3,\n",
       " '미나미': 1,\n",
       " '메밀': 15,\n",
       " '함량': 2,\n",
       " '메밀국수': 2,\n",
       " '간간': 1,\n",
       " '한국식': 3,\n",
       " '스타일': 14,\n",
       " '면도': 4,\n",
       " '바라': 1,\n",
       " '수준': 14,\n",
       " '극찬': 2,\n",
       " '고추냉이': 3,\n",
       " '전처리': 1,\n",
       " '살': 15,\n",
       " '봄여름': 2,\n",
       " '햇살': 1,\n",
       " '직방': 1,\n",
       " '웃음': 1,\n",
       " '더위': 1,\n",
       " '힘': 5,\n",
       " '남자': 10,\n",
       " '히로시': 1,\n",
       " '마풍': 1,\n",
       " '코노미': 1,\n",
       " '오사카': 1,\n",
       " '코노': 5,\n",
       " '미야키': 5,\n",
       " '유사': 1,\n",
       " '노미야': 1,\n",
       " '합정': 2,\n",
       " '상위': 2,\n",
       " '유지': 3,\n",
       " '라자냐': 10,\n",
       " '전문점': 13,\n",
       " '이탈리안': 3,\n",
       " '레스토랑': 14,\n",
       " '전문': 4,\n",
       " '역시': 4,\n",
       " '여섯': 2,\n",
       " '일곱': 1,\n",
       " '클래식': 3,\n",
       " '솔드': 1,\n",
       " '아웃': 2,\n",
       " '뭔가': 29,\n",
       " '피클': 8,\n",
       " '첸토': 2,\n",
       " '페르': 1,\n",
       " '기억': 15,\n",
       " '카밀로': 1,\n",
       " '세꼬': 2,\n",
       " '물회': 4,\n",
       " '첫맛': 1,\n",
       " '뒷맛': 1,\n",
       " '춘천': 6,\n",
       " '닭갈비': 10,\n",
       " '새우튀김': 2,\n",
       " '부타동': 1,\n",
       " '신촌': 4,\n",
       " '골목': 7,\n",
       " '공사': 1,\n",
       " '의미': 1,\n",
       " '모범': 1,\n",
       " '돌': 1,\n",
       " '충실': 1,\n",
       " '동민': 1,\n",
       " '젓가락': 2,\n",
       " '케모': 1,\n",
       " '노': 5,\n",
       " '신경': 15,\n",
       " '테': 5,\n",
       " '이만큼': 1,\n",
       " '디테일': 1,\n",
       " '차이': 13,\n",
       " '부분': 16,\n",
       " '살코기': 5,\n",
       " '매력': 13,\n",
       " '선택지': 1,\n",
       " '붐': 1,\n",
       " '한방': 2,\n",
       " '진흙': 1,\n",
       " '오리구이': 1,\n",
       " '미덕': 1,\n",
       " '보양': 2,\n",
       " '식': 7,\n",
       " '오리': 3,\n",
       " '가족': 23,\n",
       " '최': 1,\n",
       " '손두부': 2,\n",
       " '종업원': 8,\n",
       " '평가': 9,\n",
       " '제외': 1,\n",
       " '밑반찬': 14,\n",
       " '당면': 1,\n",
       " '쑥갓': 1,\n",
       " '무한리필': 6,\n",
       " '티라미수': 5,\n",
       " '가루': 5,\n",
       " '나중': 7,\n",
       " '촛불': 1,\n",
       " '연어': 17,\n",
       " '토마토': 8,\n",
       " '이마트': 1,\n",
       " '리치': 2,\n",
       " '아나': 1,\n",
       " '보정동': 1,\n",
       " '거리': 17,\n",
       " '초창기': 2,\n",
       " '터줏대감': 1,\n",
       " '코': 4,\n",
       " '포장': 27,\n",
       " '의자': 7,\n",
       " '이번': 14,\n",
       " '덮밥': 6,\n",
       " '이것저것': 5,\n",
       " '아기': 4,\n",
       " '토마토소스': 6,\n",
       " '놀람': 1,\n",
       " '베네딕트': 3,\n",
       " '어딜': 2,\n",
       " '술': 17,\n",
       " '날씨': 12,\n",
       " '야외': 3,\n",
       " '크루아상': 9,\n",
       " '원료': 1,\n",
       " '깜': 1,\n",
       " '빠': 2,\n",
       " '뉴': 2,\n",
       " '처': 12,\n",
       " '딸기': 15,\n",
       " '별미': 5,\n",
       " '선호': 2,\n",
       " '그것': 6,\n",
       " '질': 8,\n",
       " '보장': 1,\n",
       " '의왕': 1,\n",
       " '멋': 2,\n",
       " '공간': 26,\n",
       " '그': 6,\n",
       " '좌석': 14,\n",
       " '원두': 10,\n",
       " '그걸로': 1,\n",
       " '필터': 1,\n",
       " '혼잡': 2,\n",
       " '오리지널': 8,\n",
       " '프린스': 1,\n",
       " '프라이드치킨': 1,\n",
       " '치킨': 16,\n",
       " '감자튀김': 10,\n",
       " '연신': 1,\n",
       " '진심': 2,\n",
       " '노트북': 1,\n",
       " '다이어리': 1,\n",
       " '책': 2,\n",
       " '켈': 2,\n",
       " '블랙': 2,\n",
       " '블랙커피': 1,\n",
       " '독일어': 1,\n",
       " '뜻': 3,\n",
       " '그레이': 7,\n",
       " '향미': 1,\n",
       " '중후': 1,\n",
       " '솔티': 1,\n",
       " '파우더': 1,\n",
       " '차선': 1,\n",
       " '격분': 1,\n",
       " '핑크': 1,\n",
       " '솔트': 1,\n",
       " '전형': 1,\n",
       " '예상': 5,\n",
       " '정성': 7,\n",
       " '홈': 1,\n",
       " '시그': 12,\n",
       " '블랜드': 1,\n",
       " '콜롬비아': 1,\n",
       " '게이샤': 1,\n",
       " '노트': 1,\n",
       " '로럴': 1,\n",
       " '장미': 1,\n",
       " '찻잔': 2,\n",
       " '지정': 1,\n",
       " '플로렌': 1,\n",
       " '다면': 1,\n",
       " '콩국수': 5,\n",
       " '콩': 8,\n",
       " '얼음': 2,\n",
       " '방식': 5,\n",
       " '살얼음': 2,\n",
       " '타면': 1,\n",
       " '커팅': 7,\n",
       " '인색': 1,\n",
       " '간짜장': 6,\n",
       " '여러분': 3,\n",
       " '옛날': 5,\n",
       " '내외': 1,\n",
       " '건강': 19,\n",
       " '외부': 3,\n",
       " '이래': 1,\n",
       " '아드님': 1,\n",
       " '부부': 2,\n",
       " '당시': 2,\n",
       " '평점': 12,\n",
       " '따름': 1,\n",
       " '이날': 4,\n",
       " '자신': 3,\n",
       " '짜장면': 6,\n",
       " '그릇': 8,\n",
       " '분물': 1,\n",
       " '춘장': 2,\n",
       " '변형': 1,\n",
       " '과도': 2,\n",
       " '물기': 1,\n",
       " '건조': 1,\n",
       " '삼선': 1,\n",
       " '건더기': 3,\n",
       " '장': 6,\n",
       " '이쪽': 2,\n",
       " '소다': 1,\n",
       " '궁합': 7,\n",
       " '환상': 4,\n",
       " '완벽': 5,\n",
       " '메추': 3,\n",
       " '리알': 3,\n",
       " '빈티지': 3,\n",
       " '고춧가루': 5,\n",
       " '부모': 4,\n",
       " '표정': 3,\n",
       " '물만두': 1,\n",
       " '시판': 4,\n",
       " '특이': 13,\n",
       " '바닥': 6,\n",
       " ...}"
      ]
     },
     "execution_count": 20,
     "metadata": {},
     "output_type": "execute_result"
    }
   ],
   "source": [
    "# 빈도수를 세기 위한 코드\n",
    "word_freq = {}\n",
    "for noun in all_nouns:\n",
    "    if noun in word_freq:\n",
    "        word_freq[noun] += 1\n",
    "    else:\n",
    "        word_freq[noun] = 1\n",
    "word_freq\n"
   ]
  },
  {
   "cell_type": "code",
   "execution_count": 21,
   "metadata": {},
   "outputs": [
    {
     "data": {
      "text/html": [
       "<div>\n",
       "<style scoped>\n",
       "    .dataframe tbody tr th:only-of-type {\n",
       "        vertical-align: middle;\n",
       "    }\n",
       "\n",
       "    .dataframe tbody tr th {\n",
       "        vertical-align: top;\n",
       "    }\n",
       "\n",
       "    .dataframe thead th {\n",
       "        text-align: right;\n",
       "    }\n",
       "</style>\n",
       "<table border=\"1\" class=\"dataframe\">\n",
       "  <thead>\n",
       "    <tr style=\"text-align: right;\">\n",
       "      <th></th>\n",
       "      <th>Word</th>\n",
       "      <th>Frequency</th>\n",
       "    </tr>\n",
       "  </thead>\n",
       "  <tbody>\n",
       "    <tr>\n",
       "      <th>0</th>\n",
       "      <td>삼</td>\n",
       "      <td>16</td>\n",
       "    </tr>\n",
       "    <tr>\n",
       "      <th>1</th>\n",
       "      <td>겹</td>\n",
       "      <td>10</td>\n",
       "    </tr>\n",
       "    <tr>\n",
       "      <th>2</th>\n",
       "      <td>목살</td>\n",
       "      <td>4</td>\n",
       "    </tr>\n",
       "    <tr>\n",
       "      <th>3</th>\n",
       "      <td>냉면</td>\n",
       "      <td>21</td>\n",
       "    </tr>\n",
       "    <tr>\n",
       "      <th>4</th>\n",
       "      <td>저기압</td>\n",
       "      <td>1</td>\n",
       "    </tr>\n",
       "    <tr>\n",
       "      <th>...</th>\n",
       "      <td>...</td>\n",
       "      <td>...</td>\n",
       "    </tr>\n",
       "    <tr>\n",
       "      <th>3761</th>\n",
       "      <td>커피차</td>\n",
       "      <td>1</td>\n",
       "    </tr>\n",
       "    <tr>\n",
       "      <th>3762</th>\n",
       "      <td>바스크</td>\n",
       "      <td>1</td>\n",
       "    </tr>\n",
       "    <tr>\n",
       "      <th>3763</th>\n",
       "      <td>셔벗</td>\n",
       "      <td>1</td>\n",
       "    </tr>\n",
       "    <tr>\n",
       "      <th>3764</th>\n",
       "      <td>물컵</td>\n",
       "      <td>1</td>\n",
       "    </tr>\n",
       "    <tr>\n",
       "      <th>3765</th>\n",
       "      <td>원수</td>\n",
       "      <td>1</td>\n",
       "    </tr>\n",
       "  </tbody>\n",
       "</table>\n",
       "<p>3766 rows × 2 columns</p>\n",
       "</div>"
      ],
      "text/plain": [
       "     Word  Frequency\n",
       "0       삼         16\n",
       "1       겹         10\n",
       "2      목살          4\n",
       "3      냉면         21\n",
       "4     저기압          1\n",
       "...   ...        ...\n",
       "3761  커피차          1\n",
       "3762  바스크          1\n",
       "3763   셔벗          1\n",
       "3764   물컵          1\n",
       "3765   원수          1\n",
       "\n",
       "[3766 rows x 2 columns]"
      ]
     },
     "execution_count": 21,
     "metadata": {},
     "output_type": "execute_result"
    }
   ],
   "source": [
    "freq_df = pd.DataFrame(list(word_freq.items()), columns=['Word','Frequency'])\n",
    "freq_df"
   ]
  },
  {
   "cell_type": "code",
   "execution_count": 25,
   "metadata": {},
   "outputs": [
    {
     "data": {
      "text/html": [
       "<div>\n",
       "<style scoped>\n",
       "    .dataframe tbody tr th:only-of-type {\n",
       "        vertical-align: middle;\n",
       "    }\n",
       "\n",
       "    .dataframe tbody tr th {\n",
       "        vertical-align: top;\n",
       "    }\n",
       "\n",
       "    .dataframe thead th {\n",
       "        text-align: right;\n",
       "    }\n",
       "</style>\n",
       "<table border=\"1\" class=\"dataframe\">\n",
       "  <thead>\n",
       "    <tr style=\"text-align: right;\">\n",
       "      <th></th>\n",
       "      <th>Word</th>\n",
       "      <th>Frequency</th>\n",
       "    </tr>\n",
       "  </thead>\n",
       "  <tbody>\n",
       "    <tr>\n",
       "      <th>14</th>\n",
       "      <td>맛</td>\n",
       "      <td>572</td>\n",
       "    </tr>\n",
       "    <tr>\n",
       "      <th>28</th>\n",
       "      <td>것</td>\n",
       "      <td>277</td>\n",
       "    </tr>\n",
       "    <tr>\n",
       "      <th>54</th>\n",
       "      <td>집</td>\n",
       "      <td>231</td>\n",
       "    </tr>\n",
       "    <tr>\n",
       "      <th>81</th>\n",
       "      <td>곳</td>\n",
       "      <td>209</td>\n",
       "    </tr>\n",
       "    <tr>\n",
       "      <th>147</th>\n",
       "      <td>수</td>\n",
       "      <td>206</td>\n",
       "    </tr>\n",
       "    <tr>\n",
       "      <th>59</th>\n",
       "      <td>거</td>\n",
       "      <td>160</td>\n",
       "    </tr>\n",
       "    <tr>\n",
       "      <th>104</th>\n",
       "      <td>메뉴</td>\n",
       "      <td>151</td>\n",
       "    </tr>\n",
       "    <tr>\n",
       "      <th>186</th>\n",
       "      <td>음식</td>\n",
       "      <td>148</td>\n",
       "    </tr>\n",
       "    <tr>\n",
       "      <th>89</th>\n",
       "      <td>가격</td>\n",
       "      <td>145</td>\n",
       "    </tr>\n",
       "    <tr>\n",
       "      <th>40</th>\n",
       "      <td>분위기</td>\n",
       "      <td>133</td>\n",
       "    </tr>\n",
       "    <tr>\n",
       "      <th>133</th>\n",
       "      <td>방문</td>\n",
       "      <td>121</td>\n",
       "    </tr>\n",
       "    <tr>\n",
       "      <th>9</th>\n",
       "      <td>생각</td>\n",
       "      <td>113</td>\n",
       "    </tr>\n",
       "    <tr>\n",
       "      <th>64</th>\n",
       "      <td>듯</td>\n",
       "      <td>108</td>\n",
       "    </tr>\n",
       "    <tr>\n",
       "      <th>151</th>\n",
       "      <td>때</td>\n",
       "      <td>107</td>\n",
       "    </tr>\n",
       "    <tr>\n",
       "      <th>6</th>\n",
       "      <td>고기</td>\n",
       "      <td>106</td>\n",
       "    </tr>\n",
       "    <tr>\n",
       "      <th>368</th>\n",
       "      <td>원</td>\n",
       "      <td>103</td>\n",
       "    </tr>\n",
       "    <tr>\n",
       "      <th>88</th>\n",
       "      <td>추천</td>\n",
       "      <td>101</td>\n",
       "    </tr>\n",
       "    <tr>\n",
       "      <th>119</th>\n",
       "      <td>양</td>\n",
       "      <td>96</td>\n",
       "    </tr>\n",
       "    <tr>\n",
       "      <th>49</th>\n",
       "      <td>편</td>\n",
       "      <td>95</td>\n",
       "    </tr>\n",
       "    <tr>\n",
       "      <th>76</th>\n",
       "      <td>주문</td>\n",
       "      <td>94</td>\n",
       "    </tr>\n",
       "  </tbody>\n",
       "</table>\n",
       "</div>"
      ],
      "text/plain": [
       "    Word  Frequency\n",
       "14     맛        572\n",
       "28     것        277\n",
       "54     집        231\n",
       "81     곳        209\n",
       "147    수        206\n",
       "59     거        160\n",
       "104   메뉴        151\n",
       "186   음식        148\n",
       "89    가격        145\n",
       "40   분위기        133\n",
       "133   방문        121\n",
       "9     생각        113\n",
       "64     듯        108\n",
       "151    때        107\n",
       "6     고기        106\n",
       "368    원        103\n",
       "88    추천        101\n",
       "119    양         96\n",
       "49     편         95\n",
       "76    주문         94"
      ]
     },
     "execution_count": 25,
     "metadata": {},
     "output_type": "execute_result"
    }
   ],
   "source": [
    "freq_df = freq_df.sort_values(by = 'Frequency', ascending=False).head(20)\n",
    "freq_df"
   ]
  },
  {
   "cell_type": "code",
   "execution_count": null,
   "metadata": {},
   "outputs": [
    {
     "data": {
      "image/png": "[encoded data removed]",
      "text/plain": [
       "<Figure size 600x600 with 1 Axes>"
      ]
     },
     "metadata": {},
     "output_type": "display_data"
    }
   ],
   "source": [
    "# 시각화\n",
    "plt.figure(figsize=(6,6))\n",
    "plt.bar(freq_df['Word'],freq_df['Frequency'])\n",
    "plt.xlabel('명사')\n",
    "plt.ylabel('빈도 수')\n",
    "plt.title('빈도수 상위 20 명사')\n",
    "plt.xticks(rotation=45) # x축의 이름들을 45도로 비틀어서 보여준다\n",
    "plt.show()"
   ]
  },
  {
   "cell_type": "code",
   "execution_count": null,
   "metadata": {},
   "outputs": [
    {
     "name": "stdout",
     "output_type": "stream",
     "text": [
      "Collecting wordcloud\n",
      "  Downloading wordcloud-1.9.4-cp39-cp39-win_amd64.whl.metadata (3.5 kB)\n",
      "Requirement already satisfied: numpy>=1.6.1 in c:\\users\\rmarket\\anaconda3\\envs\\test_env\\lib\\site-packages (from wordcloud) (1.25.2)\n",
      "Requirement already satisfied: pillow in c:\\users\\rmarket\\anaconda3\\envs\\test_env\\lib\\site-packages (from wordcloud) (11.0.0)\n",
      "Requirement already satisfied: matplotlib in c:\\users\\rmarket\\anaconda3\\envs\\test_env\\lib\\site-packages (from wordcloud) (3.9.2)\n",
      "Requirement already satisfied: contourpy>=1.0.1 in c:\\users\\rmarket\\anaconda3\\envs\\test_env\\lib\\site-packages (from matplotlib->wordcloud) (1.3.0)\n",
      "Requirement already satisfied: cycler>=0.10 in c:\\users\\rmarket\\anaconda3\\envs\\test_env\\lib\\site-packages (from matplotlib->wordcloud) (0.12.1)\n",
      "Requirement already satisfied: fonttools>=4.22.0 in c:\\users\\rmarket\\anaconda3\\envs\\test_env\\lib\\site-packages (from matplotlib->wordcloud) (4.54.1)\n",
      "Requirement already satisfied: kiwisolver>=1.3.1 in c:\\users\\rmarket\\anaconda3\\envs\\test_env\\lib\\site-packages (from matplotlib->wordcloud) (1.4.7)\n",
      "Requirement already satisfied: packaging>=20.0 in c:\\users\\rmarket\\anaconda3\\envs\\test_env\\lib\\site-packages (from matplotlib->wordcloud) (24.1)\n",
      "Requirement already satisfied: pyparsing>=2.3.1 in c:\\users\\rmarket\\anaconda3\\envs\\test_env\\lib\\site-packages (from matplotlib->wordcloud) (3.2.0)\n",
      "Requirement already satisfied: python-dateutil>=2.7 in c:\\users\\rmarket\\anaconda3\\envs\\test_env\\lib\\site-packages (from matplotlib->wordcloud) (2.9.0)\n",
      "Requirement already satisfied: importlib-resources>=3.2.0 in c:\\users\\rmarket\\anaconda3\\envs\\test_env\\lib\\site-packages (from matplotlib->wordcloud) (6.4.5)\n",
      "Requirement already satisfied: zipp>=3.1.0 in c:\\users\\rmarket\\anaconda3\\envs\\test_env\\lib\\site-packages (from importlib-resources>=3.2.0->matplotlib->wordcloud) (3.20.2)\n",
      "Requirement already satisfied: six>=1.5 in c:\\users\\rmarket\\anaconda3\\envs\\test_env\\lib\\site-packages (from python-dateutil>=2.7->matplotlib->wordcloud) (1.16.0)\n",
      "Downloading wordcloud-1.9.4-cp39-cp39-win_amd64.whl (300 kB)\n",
      "Installing collected packages: wordcloud\n",
      "Successfully installed wordcloud-1.9.4\n",
      "Note: you may need to restart the kernel to use updated packages.\n"
     ]
    }
   ],
   "source": [
    "# pip install wordcloud"
   ]
  },
  {
   "cell_type": "code",
   "execution_count": 31,
   "metadata": {},
   "outputs": [
    {
     "data": {
      "text/plain": [
       "'삼, 겹, 목살, 냉면, 저기압, 땐, 고기, 앞, 만, 생각, 라테, 종류, 아메리카노, 산미, 맛, 느낌, 슈페너, 크림, 크림, 불편, 베이커리, 가게, 카운터, 앞, 진열, 데, 위생, 초코, 쿠키, 지, 것, 느낌, 당황, 투명, 케이스, 것, 실내, 음악, 소리, 전반, 외관, 치중, 것, 사람, 주변, 분위기, 이야기, 목청, 음식점, 분위기, 밑, 정신, 세종, 정도, 서비스, 맛, 편, 회기역, 근처, 족발, 보쌈, 맛, 집, 시, 손님, 족발, 보쌈, 보쌈, 중, 사이즈, 고기, 거, 보쌈김치, 위, 양념, 집, 점수, 듯, 김치, 깍, 둑, 생고구마, 무, 말, 형태, 배, 양념, 테이블, 여기저기, 보쌈김치, 추가, 주문, 보쌈, 김치, 중요, 치즈, 애자, 환장, 만, 곳, 핵, 존, 맛, 탱, 집, 여기, 데, 곱창, 막창, 맛, 추천, 가격, 바람, 성북동, 위치, 알렉스, 커피, 랩, 분점, 건축, 사무소, 운영, 듯, 카페, 정원, 곳, 플랫, 화이트, 메뉴, 추천, 라테, 아이스, 아메리카노, 초코, 퍼지, 주문, 이곳, 커피, 주, 무기, 듯, 우유, 커피, 고소, 라테, 감, 초코, 마시멜로, 오븐, 아이스크림, 부족, 당, 충전, 양, 입가심, 정도, 정원, 모기, 실내, 것, 운치, 카페, 직원, 친절, 발레, 분, 불친절, 역, 것, 신발, 신고, 북동, 산책, 카페, 방문, 것, 최고, 집, 가격, 메뉴, 말, 짱, 집, 라멘, 가게, 문, 오랜만, 버터, 핑거, 게, 냄새, 메이플, 시럽, 꿀맛, 맥주, 수, 분위기, 안주, 추천, 저, 집, 제주, 때, 집, 제주도, 년, 번, 가요, 단점, 통화, 통, 정도, 통, 이상, 시도, 거우, 연결, 오늘, 예약, 시간, 도착, 중, 손, 개, 주문, 뭘, 생일날, 저녁, 예약, 전화, 통, 문, 식당, 운영, 태도, 최악, 예약, 사정, 연락, 게, 정상, 마을, 바퀴, 소리, 리뷰, 플, 리뷰, 거, 삭제, 맛, 개, 존, 맛, 눈, 맛, 맛, 거, 여기, 맥주, 창고, 음식, 반입, 허락, 안주, 실화, 맥주, 때문, 별점, 개, 드림, 요즘, 프랜차이즈, 삼겹살, 집, 이곳, 돼지고기, 입가심, 돼지갈비, 밥도둑, 제주, 돼지, 수, 게, 조금, 감동, 번, 방문, 나, 기대, 하나, 부족, 식사, 친절, 대응, 과, 선비, 요리, 크리스마스, 기념일, 손색, 것, 티, 본과, 규, 등심, 스테이크, 둘, 고기, 맛, 인상, 리조, 파스타, 강추, 곤이, 이리, 해물탕, 꽃게, 다리, 길, 사람, 몸통, 국물, 게, 오징어, 반, 토막, 와중, 다리, 문어, 것, 낙지, 미더덕, 오만둥이, 건, 이해, 데, 적정, 량, 것, 오만둥이, 다섯, 마리, 미나리, 반, 줌, 조개, 아구, 꼬리, 도막, 나머지, 아구, 가죽, 해물, 양, 부족, 맛, 그걸, 보충, 해물, 음식, 맛, 해물, 칼국수, 가지, 국물, 맛, 어버이날, 기념, 식사, 걸, 돈, 건, 오랜만, 예전, 데, 초심, 겁니까, 주인장, 겁니까, 돈, 게, 반절, 손, 사진, 숙성, 시, 원탑, 타쿠미, 곤, 네타, 샤리, 풍미, 입안, 수, 곳, 네타, 맛, 수, 접객, 나위, 색, 개인, 취향, 극, 극, 수, 난, 극화, 숙성, 분, 비추, 뱃, 다라, 즈, 케, 입가심, 해결, 가능, 오마, 카세, 구성, 완급, 조절, 느낌, 정신, 계산, 결론, 향, 맛, 것, 사람, 추천, 크림치즈, 바게트, 새우, 바게트, 둘, 도미, 야채, 만족, 매덕스, 사점, 처음, 웨이팅, 매덕스, 조각, 둘, 개, 절반, 둘, 조각, 마르게리타, 고민, 리타, 성공, 수, 미국식, 피자, 초리, 소, 네모, 피자, 네모, 조각, 도우, 것, 초기, 조, 피자, 집, 매덕스, 주문, 초록, 고추, 생각, 피자, 치즈, 베이컨, 마카로니, 치즈, 도우, 사이, 색, 소스, 베이컨, 페퍼로니, 짠맛, 페퍼로니, 덕, 후, 듯, 주변, 회사, 점심, 시간, 곳, 부족, 맥도날드, 번, 듯, 맥도날드, 앱, 쿠폰, 사용, 여기, 빙수, 이름, 팥, 프랜차이즈, 빙수, 편, 회식, 모임, 장소, 것, 분위기, 샐러드, 바, 종류, 것, 건, 나름, 서빙, 고기, 판매, 조각, 케이크, 뷔페, 저, 가격, 대비, 만족도, 돈, 브런치, 주문, 웨이팅, 시간, 반, 결국, 빵, 사람, 시, 즈음, 도착, 유명, 메뉴, 수, 당근, 무화과, 빵, 자체, 무화과, 어머니, 당황, 건, 번, 팀, 입장, 저희, 뒤, 분, 저희, 뭘, 중, 밖, 만, 원, 코끝, 구성비, 식당, 서빙, 분, 거, 대기, 가치, 처음, 마라, 분, 유린기, 가락국수, 음식, 손색, 가락국수, 생명, 면발, 면발, 탱, 글, 양, 개인, 야마다, 인상, 번, 메뉴, 방문, 의사, 크로켓, 때, 사이드, 듯, 장맛, 메뉴, 순서, 튀김, 자루, 가라아게, 붓, 크로켓, 모둠, 소시지, 맘, 거, 포털, 검색, 때, 점심, 특선, 포인트, 립도, 분위기, 식사, 추천, 년, 하늘, 줄, 물가, 삼거리, 먼지, 순댓국, 년, 번, 원, 년, 환, 시작, 년, 원, 인상, 역사, 모던, 느낌, 요즘, 카페, 말차, 맛, 사람, 줄, 생각, 시, 인파, 포기, 다음, 날, 새벽, 번호표, 새벽, 보람, 생각, 웨이팅, 최대한, 피, 번, 동네, 장사, 가격, 효율, 시간, 필요, 난, 오이소박이, 국수, 김치, 칼국수, 오이소박이, 국수, 오이소박이, 국수, 칼국수, 여름, 고기만두, 대신, 김치, 생각, 편, 시, 반, 오픈, 시, 분, 시, 사이, 수, 집, 시, 분, 자리, 찐만두, 군만두, 일품, 양장피, 가지, 만두, 일품, 가지, 에이스, 가지, 하하, 가지, 튀김, 중국집, 지상선, 여기, 일품, 가지, 일, 등, 가지, 데, 다기, 찹쌀, 반죽, 이용, 안, 특유, 반죽, 양념, 잡탕밥, 탕수육, 특유, 파인애플, 단맛, 하하, 가지, 튀김, 가지, 일품, 만족, 양장피, 메뉴, 거, 만족, 불닭, 편, 강남역, 노포, 된장찌개, 기본, 메뉴, 청국장, 목살, 김치, 된장, 맛, 찌개, 비빔밥, 리필, 가능, 끼, 수, 곳, 강남역, 식당, 인테리어, 가격, 끼, 곳, 보통, 찌개, 삼겹살, 제육, 곳, 주, 인생, 김포, 공항, 맛, 집, 송정역, 맛, 집, 삼, 부, 숯불, 구이, 맛집, 집, 건, 년, 전, 거, 달, 번, 맛, 집, 게, 맛집, 외국, 인천, 공항, 입국, 삼, 부, 소갈, 빗살, 김포, 공항, 혼자, 고기, 맛, 집, 저, 인생, 맛, 집, 소갈, 빗살, 인분, 원, 혼자, 인분, 거, 고기, 입맛, 양념, 감칠맛, 나, 맛, 맛, 정의, 수, 입, 맛, 맛, 설명, 이상, 말, 표현, 맛, 파, 절임, 거, 강추, 소금, 메뉴, 차돌박이, 삼겹살, 여긴, 갈빗살, 맛, 집, 갈빗살, 버섯, 떡, 쌈장, 꿀맛, 고기, 일, 분, 친절, 성실, 일, 게, 맛, 집, 주차, 주변, 조미료, 속도, 인테리어, 곳, 걸, 집, 강추, 만, 개취, 대접, 식사, 중문, 맛, 집, 추천, 갈비찜, 집, 갈비, 게, 취향, 저격, 초기, 부자, 피자, 맛, 도우, 때, 대화, 때, 도우, 감, 분위기, 가정집, 번호표, 대기, 번호표, 음식, 때, 식당, 내, 거, 번호표, 대기, 번호표, 분, 정도, 것, 음식, 픽업, 분, 정도, 방어회, 비주얼, 웨이팅, 만, 것, 호, 점, 맞은편, 주차장, 자차, 이용, 주차장, 차, 번호표, 후, 차, 대기, 라미, 띠, 런, 근래, 프렌치, 중, 오랜만, 만족감, 플레이트, 시간, 동안, 분위기, 음식, 마제, 소바, 자리, 배치, 독특, 양, 소스, 다양, 매장, 만, 년, 전통, 안동, 찜, 닭, 추천, 부평, 파스타, 거, 가게, 분위기, 분위기, 크림, 새우, 파스타, 스테이크, 스테이크, 느낌, 파스타, 만족, 지인, 여기, 키조개, 삼합, 키조개, 데, 배, 거, 국물, 기, 칼국수, 앞, 만, 집, 거, 딤섬, 신림동, 중식, 중국집, 개별, 룸, 인테리어, 고급, 지다, 메뉴, 딤섬, 짬뽕, 탕수육, 제값, 이상, 맛, 우리, 나라, 최고, 집, 소스, 간, 맛, 고기, 본연, 맛, 수, 코울, 실로, 브로콜리, 저, 둘, 비, 만족, 때, 단골, 대도, 식당, 등심, 반찬, 깍두기, 볶음밥, 비법, 맛, 만, 커피, 인테리어, 베스트, 메뉴인, 안심, 쌀국수, 양파, 절임, 고기, 스몰, 라지, 고민, 멸치, 육수, 냄새, 장난, 제, 냄새, 추천, 만, 거, 줄, 사람, 기분, 맛, 분위기, 방문, 사, 인기, 맛, 집, 전포, 위치, 쓰, 맛, 집, 일본, 분위기, 라면, 비주얼, 식당, 웨이팅, 키오스, 크로, 주문, 모금, 맥주, 원, 판매, 맥주, 한잔, 방문, 매운맛, 추가, 것, 추천, 기본, 번, 멘, 타입, 면, 간장, 베이스, 간, 듯, 때, 서비스, 맛, 분위기, 만족, 점, 방문, 시, 연남, 카즈에, 비계, 부위, 반, 기름, 채, 모츠, 베, 음식, 자체, 탓, 실망, 서비스, 맛, 기복, 듯, 개, 웨이팅, 맛, 존, 맛, 오빠, 경주, 여행, 맛, 집, 상, 수, 번, 만, 곳, 매장, 인기, 서빙, 분, 분, 서비스, 자극, 갈비찜, 만, 대학생, 지갑, 갈비찜, 것, 행복, 한판, 보쌈, 이거, 이거, 가격, 마음, 곱창, 양, 크기, 상대, 게, 람보, 르, 판매, 곳, 여기, 사격, 중, 맛, 집, 메뉴, 개, 지방, 프리미엄, 돈가스, 수, 가격, 서울, 맛, 아르바이트, 불친절, 일, 티, 나, 손, 눈치, 상황, 사장, 혼자, 고군분투, 거, 전복, 크림, 리소토, 문어, 파스타, 한라, 봉, 이드, 개, 바다, 앞, 뷰, 밥, 산책, 방문, 홍콩, 퓨전, 음식, 곳, 네온사인, 등, 인테리어, 홍콩, 규모, 생각, 데, 지하, 층, 홍콩, 파스타, 바로우, 가지, 메뉴, 홍콩, 파스타, 크림, 파스타, 이건, 여자, 만, 맛, 마라, 맛, 크림, 덕, 여서, 서비스, 꽃, 빵, 양념, 바로우, 편, 이것, 밀크티, 홍콩, 음료, 등, 카페, 수, 음식, 음료, 한큐, 마무리, 인절미, 홍시, 스무디, 인사동, 한편, 전통, 디저트, 찻집, 인사동, 분위기, 편안, 분위기, 나름, 합리, 가격, 맛, 인절미, 유자, 꿀, 계피, 맛, 꿀, 주심, 인절미, 인절미, 맛, 겉, 꿀, 맛, 특별, 맛, 기대, 실망, 듯, 경관, 커피, 디저트, 아메리카노, 만족, 이유, 샌드위치, 맛, 집, 바질, 크림, 고구마, 샌드위치, 자체, 밤고구마, 치즈, 감칠맛, 베이컨, 수프, 만큼, 최고, 바질, 크림, 재료, 하나, 끝장, 이거, 우가, 파워, 파니니, 속, 촉, 파니니, 빵, 청경채, 치즈, 페스, 토, 삼, 겹, 등, 재료, 맛, 조합, 물론, 것, 전체, 음식, 분위기, 친절, 사장, 맘, 브런치, 집, 쏘, 쏘, 생각, 갠, 담, 찌개, 고기, 계란, 말, 평양냉면, 건, 고기, 냄새, 평양냉면, 특유, 냄새, 육수, 편, 손, 육수, 편육, 양, 식전, 육수, 소바, 집, 면, 물, 겨울, 아주머니, 분, 친절, 편, 근처, 일, 선택, 듯, 때, 곁, 이찬, 회, 종류, 가짓수, 퀄리티, 관광객, 대상, 개선, 듯, 게, 친구, 음식점, 분위기, 가격, 피자, 크기, 조각, 생각, 웨이팅, 만족, 맛, 집, 돈가스, 샌드, 집, 사진, 프리미엄, 분식, 눈, 요기, 맛, 나름, 매운맛, 분, 떡볶이, 메뉴, 추천, 맛, 맛, 저, 취향, 저격, 돈가스, 샌드, 겉, 식빵, 안, 돈가스, 식감, 소스, 누구, 맛, 담, 메뉴, 다섯, 시, 반, 웨이팅, 저, 웨이팅, 팀, 정도, 피크, 타임, 피, 번, 만, 레트, 풍, 분식집, 단점, 가게, 저녁, 시간, 약간, 웨이팅, 회전율, 편, 꼬치, 칭, 기본, 볶음, 크림, 새우, 유명, 편, 사진, 건, 크림, 레몬, 새우, 맛, 꼬치, 꼬치, 불, 층, 테이블, 간, 간격, 듀, 음식, 음료수, 감동, 라멘, 데, 산도, 비추, 주방, 오픈, 가본, 라멘, 집중, 것, 번, 방문, 것, 라멘, 닭, 가슴살, 육수, 밥, 마제, 소파, 뭔, 것, 다시마, 식초, 밥, 담, 식초, 것, 계란, 노른자, 식초, 고기, 조합, 산도, 튀김옷, 빵, 소스, 고기, 분리, 경험, 수, 고기, 뭐, 손질, 식감, 일정, 맛, 맛, 가격, 강남, 빵집, 가격, 합리, 생각, 집, 맛, 정도, 가격, 집, 앞, 집, 서머, 계절, 중간, 주, 전, 출근, 때, 패딩, 만큼, 여름, 양, 것, 무엇, 스프링, 서머, 계절, 기분, 건, 코로나, 조심, 확진, 때문, 서머, 취약, 상태, 거, 거, 소바, 생각, 방문, 소바, 쿵, 사람, 생각, 거기, 거기, 법, 소바, 가락, 국수, 것, 분, 내츄럴, 리, 웨이팅, 십, 분, 정도, 뒤, 입장, 수, 소바, 집, 메뉴, 중, 최애, 토리, 카라, 주문, 소바, 말, 미나미, 등, 수, 메밀, 함량, 메밀국수, 향, 식감, 간간, 한국식, 소바, 스타일, 건, 면도, 분식집, 소바, 바라, 수준, 중요, 면, 맛, 소바, 식당, 소바, 토리, 카라, 리뷰, 극찬, 집, 메뉴, 중, 하나, 고추냉이, 전처리, 닭, 다리, 살, 내, 것, 분, 방문, 건, 토리, 카라, 전반, 만족, 봄여름, 소바, 계산, 햇살, 직방, 웃음, 거, 소, 더위, 힘, 남자, 친구, 히로시, 마풍, 코노미, 남자, 친구, 오사카, 코노, 미야키, 유사, 노미야, 끼, 전, 합정, 상위, 유지, 라자냐, 전문점, 이탈리안, 레스토랑, 라자냐, 건, 라자냐, 전문, 곳, 기대, 역시, 웨이팅, 여섯, 시, 일곱, 시, 클래식, 라자냐, 솔드, 아웃, 메뉴, 크림, 라자냐, 클래식, 라자냐, 소스, 사용, 파스타, 저, 기대, 파스타, 소스, 생각, 자체, 면, 소스, 것, 뭔가, 맛, 것, 크림, 라자냐, 피클, 수, 디저트, 나, 첸토, 페르, 첸토, 디저트, 기억, 카밀로, 디저트, 서비스, 친절, 맛, 뭔가, 비주얼, 비주얼, 세꼬, 시, 곳, 사람, 맛, 집, 세꼬, 시, 식감, 식감, 물회, 첫맛, 뒷맛, 줄, 맛, 나, 자극, 춘천, 춘천, 거, 치즈, 닭갈비, 새우튀김, 음식, 밥, 양, 부타동, 신촌, 가게, 골목, 공사, 때, 방문, 전반, 인상, 의미, 모범, 가게, 부, 돌, 메뉴, 충실, 음식, 부, 동민, 전반, 기분, 수, 젓가락, 케모, 노, 신경, 테, 이만큼, 디테일, 차이, 경험, 부분, 만족, 부분, 살코기, 비계, 고기, 숯불, 향, 고기, 밑, 밥, 나위, 신촌, 매력, 선택지, 수, 가게, 신촌, 붐, 한방, 진흙, 오리구이, 맛집, 미덕, 원, 보양, 식, 오리, 요리, 가족, 모임, 최, 레스토랑, 맛, 수준, 손두부, 종업원, 불친절, 손두부, 평가, 제외, 길, 정도, 게, 내, 생각, 안, 고기, 국물, 맛, 밑반찬, 게, 것, 내, 곳, 근처, 이용, 당면, 쑥갓, 무한리필, 티라미수, 짱, 뭔가, 케이크, 티라미수, 가루, 나중, 분위기, 듯, 촛불, 분위기, 추천, 메뉴, 연어, 리소토, 토마토, 파스타, 비추, 메뉴, 이마트, 리치, 아나, 이유, 파스타, 보정동, 카페, 거리, 초창기, 유지, 터줏대감, 카페, 중, 하나, 케이크, 곳, 코, 나라, 포장, 카페, 분위기, 소파, 의자, 시간, 말, 이번, 가족, 파스타, 덮밥, 돈가스, 등, 이것저것, 중, 토마토, 파스타, 입맛, 우리, 집, 아기, 파스타, 토마토소스, 자체, 맛, 양, 놀람, 개, 정도, 인분, 베네딕트, 분위기, 회식, 장소, 어딜, 고민, 전, 친구, 추천, 기억, 회사, 사람, 회식, 밥, 술, 자리, 회식, 안, 룸, 하나, 저희, 인테리어, 정원, 날씨, 야외, 커피, 소, 빵, 크루아상, 버터, 맛, 원료, 크루아상, 깜, 빠, 뉴, 등, 식사, 빵, 식감, 처, 거, 디저트, 딸기, 음식, 직원, 친절, 주차, 불편, 별미, 메뉴, 선호, 듯, 양, 그것, 질, 맛, 보장, 양, 생각, 최고, 의왕, 집, 분위기, 멋, 카페, 공간, 그, 좌석, 원두, 추천, 그걸로, 필터, 커피, 커피, 혼자, 방문, 것, 가게, 사람, 혼잡, 간, 편, 오리지널, 프린스, 프라이드치킨, 치킨, 퀄리티, 양, 감자튀김, 사이드, 연신, 내, 커피, 커피, 음료, 진심, 이곳, 저녁, 노트북, 다이어리, 책, 켈, 블랙, 티, 블랙커피, 독일어, 뜻, 켈, 이름, 블랙, 티, 그레이, 그레이, 향미, 커피, 중후, 마무리, 커피, 타임, 말차, 솔티, 테, 음료, 주문, 메뉴, 당근, 파우더, 말차, 사용, 줄, 차선, 격분, 소금, 핑크, 솔트, 전형, 맛, 예상, 정성, 이곳, 홈, 시그, 처, 블랜드, 콜롬비아, 게이샤, 커피, 노트, 로럴, 장미, 원, 찻잔, 지정, 수, 나, 플로렌, 팀, 찻잔, 다면, 테, 조심, 예전, 근처, 회사, 때, 맛, 집, 년, 만, 칼국수, 여름, 콩국수, 콩국수, 콩, 국물, 얼음, 방식, 콩, 국물, 자체, 살얼음, 상태, 면도, 수, 타면, 사장, 일, 수, 정원, 손님, 집, 집, 빵, 커팅, 인색, 차, 안, 커팅, 것, 나, 손, 빵, 커팅, 커팅, 다음, 손, 커팅, 커팅, 간짜장, 여러분, 성북동, 년, 옛날, 중국집, 노, 사장, 내외, 건강, 이유, 외부, 사장, 자리, 이래, 맛, 사장, 아드님, 부부, 가게, 요리, 시작, 리뷰, 당시, 방문, 리뷰, 평점, 따름, 이날, 가족, 식사, 자신, 방문, 추천, 간짜장, 무엇, 곳, 년, 만, 짜장면, 그릇, 곳, 분물, 춘장, 야채, 고기, 말, 간짜장, 변형, 과도, 물기, 건조, 소스, 춘장, 불, 야채, 맛, 어머니, 주문, 삼선, 간짜장, 해물, 고기, 스타일, 건더기, 장, 이쪽, 주문, 것, 면발, 소다, 면발, 정도, 면, 면, 소스, 궁합, 환상, 때, 면, 소스, 궁합, 완벽, 거기, 메추, 리알, 하나, 빈티지, 매력, 테이블, 주문, 고기, 튀김, 소스, 탕수육, 고춧가루, 간장, 맛, 끝장, 나, 튀김, 부모, 표정, 맛, 수, 주문, 물만두, 시판, 듯, 특이, 육수, 바닥, 국물, 것, 스타일, 처음, 만둣국, 듯, 느낌, 친절, 아드, 홀, 부인, 주방, 듯, 업장, 내부, 테이블, 요리, 그릇, 정도, 감수, 가치, 과, 요리, 곳, 방문, 추천, 특이, 조각, 수, 화이트, 피자, 스파, 피자, 피자, 도우, 파스타, 맥주, 양, 음식, 낮, 식사, 메뉴, 저녁, 삼겹살, 메뉴, 등, 저녁, 밥, 대부분, 테이블, 삼겹살, 저, 삼겹살, 뻔, 맛, 화교, 중, 식당, 오리지널, 리티, 호텔, 주방장, 출신, 귀촌, 데, 캠퍼스, 개업, 대박, 집, 고기, 사장, 친절, 금, 리뷰, 점심, 기대, 방문, 곳, 생각, 테이블, 개, 타이밍, 웨이팅, 듯, 사람, 서진, 데, 프렌치토스트, 아이스크림, 날씨, 비에이, 플레이트, 갖가지, 재료, 조화, 만족, 양, 거, 기분, 배부름, 다음, 프렌치토스트, 맛, 집, 동네, 짱, 개, 탕수육, 밀가루, 냄새, 난, 여기, 분, 사진, 거, 분, 것, 분위기, 커피, 한잔, 파블로바, 추천, 먼가, 듯이, 불친절, 가격, 맛, 기대, 근처, 방문, 듯, 필요, 듯, 바로우, 중, 경관, 데이트, 커플, 추천, 안, 연못, 게, 걸, 구경, 마음, 편안, 계절, 모습, 저, 봄, 좌석, 좌식, 의자, 좌석, 좌식, 좌석, 온돌방, 바닥, 히터, 수, 서비스, 서버, 분, 친절, 샤, 부샤, 부, 때, 일행, 화장실, 설명, 코로나, 때문, 손, 걱정, 데, 가격대, 원대, 인, 원, 생각, 것, 가격, 생각, 익선동, 팬케이크, 하나, 이, 만, 원, 곳, 감안, 음식, 맛, 플, 레이팅, 일식, 도시락, 생각, 튀김, 덮밥, 게, 반찬, 가짓수, 밥, 간, 향도, 나, 편, 샤, 부샤, 부, 국물, 양, 전반, 저, 호, 방문, 구성비, 때, 음식점, 멕시칸, 요리, 프랜차이즈, 점, 대중, 멕시칸, 요리, 거, 뭘, 화, 기타, 이번, 추가, 샐러드, 볼, 이것, 굿, 굿, 곰탕, 집, 오늘, 곰탕, 친절, 음식, 다음, 방문, 분위기, 코스, 바랑, 주말, 점심, 곳, 좌석, 불편, 맛, 저녁, 분, 웨이팅, 생각, 것, 오늘, 파스타, 저, 속, 부모, 집, 오징어, 어묵, 여기, 오징어, 김밥, 인분, 천, 원, 포장, 인분, 참고, 카페, 발견, 카페, 가구, 녹차, 아이스크림, 사람, 것, 오늘, 비지찌개, 김치, 일반, 스탈, 국, 콩, 맛, 콩, 사람, 듯, 청국장, 맛, 양, 도토리묵, 메인, 조미료, 밑반찬, 때문, 사람, 거, 곤드, 레, 여자, 친구, 수, 대구, 맛집, 정지영, 커피, 아보카도, 연어, 포케, 마, 플, 후기, 선택, 메뉴, 후, 기대, 메뉴, 연어, 아보카도, 옥수수, 콩, 해초, 간장, 젤리, 덮밥, 밥, 아보카도, 것, 처음, 재료, 기대, 연어, 해초, 평소, 아보카도, 여기, 아보카도, 아보카도, 아보카도, 고기, 불, 치킨, 돼지고기, 소고기, 중, 선택, 수, 저희, 치킨, 선택, 메뉴, 소스, 고기, 소스, 사워, 소스, 아보카도, 소스, 대박, 것, 술, 맛, 구석, 자리, 주문, 누군가, 출발, 차, 안주, 사진, 실수, 삭제, 떡볶이, 깻잎, 말, 가지, 튀김, 추천, 매장이, 위생, 거, 테이블, 거, 거, 이해, 반찬, 중, 부추, 거, 거기, 애벌레, 고사리, 해장국, 자체, 맛, 반찬, 신뢰, 방문, 의사, 방문자, 재료, 손질, 가격, 바다, 앞, 바다, 뷰, 카페, 자연, 그림, 액자, 곳, 카페, 딸기, 크림, 케이크, 커피, 물, 색깔, 포항, 바다, 메뉴, 기본, 이상, 동네, 중국집, 수준, 간짜장, 맛, 주차, 웨이팅, 위치, 반면, 맛, 유명, 중식, 요리점, 수준, 만큼, 맛, 듯, 룸, 카운터, 생각, 이번, 초밥, 피스, 밥, 맛, 분위기, 전망, 가격, 커버, 맛, 중간, 분위기, 상급, 평일, 점심, 방문, 공간, 불가, 손님, 웨이팅, 조금, 저녁, 풍경, 전체, 음식, 구성비, 거, 오랜만, 방문, 맛, 뭔가, 사람, 건지, 회전율, 신경, 케어, 느낌, 것, 방문, 때, 비교, 아쉬움, 것, 마이너스, 요소, 것, 날, 몸, 데, 제격, 버섯, 매운탕, 양념, 국물, 입, 추위, 느낌, 맛, 국물, 건더기, 버섯, 미나리, 감자, 등, 버섯, 미나리, 추가, 수, 점, 메리트, 무한, 리필, 거, 버섯, 식감, 미나리, 향, 둘, 칼국수, 투하, 칼국수, 분기, 때문, 국물, 맛, 국물, 버섯, 미나리, 후, 게, 팁, 칼국수, 면, 편, 게, 것, 개인, 버섯, 미나리, 칼국수, 세트, 때문, 볶음밥, 샤, 부샤, 부, 필요, 것, 뭔가, 특별, 느낌, 호불호, 것, 맛, 인기, 집, 것, 여의도, 근처, 은근, 밥집, 게, 것, 한몫, 듯, 고급, 이디야, 근처, 일, 이날, 차, 발레, 기본, 시간, 천, 원, 것, 과일, 맛, 마카롱, 최저, 아가, 뚱, 카, 롱, 천, 원, 가격, 카페, 내부, 송리, 길, 마카롱, 맛, 집, 인정, 마카롱, 자리, 카페, 송리, 길, 외곽, 쪽, 망고, 마카롱, 안, 번, 사진, 미니, 마카롱, 카카오, 맵, 리뷰, 증정, 판매, 이건, 제, 방문, 때, 사장, 제과, 수제, 건지, 수제, 쇼, 케이스, 디저트, 커피, 분, 리뷰, 무한리필, 집, 고기, 분위기, 꿀, 호떡, 줄, 평, 스페인, 대사, 추천, 과천, 스페인, 요리, 맛집, 과천, 선바위역, 인근, 자리, 엘, 올리보, 스페인, 요리, 전문점, 현직, 주한, 스페인, 대사, 스페인, 요리, 수, 집, 추천, 예약, 셰프, 스페셜, 코스, 요리, 수, 예약, 방문, 골목, 건물, 하나, 통, 자리, 외관, 스페인, 느낌, 벽돌, 건물, 아치, 천장, 등, 스페인, 계단, 지중해, 마을, 식당, 것, 셰프, 스페셜, 식전, 빵, 가스파초, 앙살, 라다, 페이, 해산물, 타파스, 안초비, 파스타, 채끝, 등심, 스테이크, 디저트, 구성, 식전, 빵, 가스파초, 토마토, 베이스, 양파, 마늘, 빵가루, 등, 날씨, 스페인, 맛, 양파, 마늘, 향, 포인트, 앙살, 라다, 마음, 토마토, 아스파라거스, 하몽, 하몽, 내, 스페인, 이베리코, 베요, 타로, 하몽, 싱, 코호, 타스, 고급, 올리브, 오일, 것, 마음, 페이, 문어, 감자, 무스, 문어, 최고, 해산물, 타파스, 관자, 새우, 샤프란, 소스, 아빠, 오빠, 관자, 나, 탱, 실, 안초비, 파스타, 애, 초비, 오일, 안초비, 맛, 파스타, 마늘, 마늘종, 채끝, 등심, 스테이크, 완전, 최고, 양, 데, 미디엄, 정도, 데, 이, 배, 디저트, 마카롱, 냠냠, 셰프, 스페셜, 메뉴판, 메뉴, 구성, 메뉴, 수, 다음, 메뉴판, 메뉴, 주문, 동네, 밥집, 리뷰, 천, 개, 맛, 집, 진, 가게, 이름, 이상, 맛, 떡볶이, 반찬, 파스타, 오므라이스, 편, 양, 편, 구성비, 스테이크, 이상, 떡볶이, 냄새, 가게, 안, 가게, 진실, 미간, 양념, 내공, 맛, 맛, 호불호, 맛, 춘천, 것, 막국수, 기대, 단점, 초, 번, 원두, 갈증, 해소, 라멘, 설, 숲, 근처, 라멘, 집, 불편, 여기, 마제, 소비, 시그, 처, 메뉴, 오야지, 라멘, 육수, 분위기, 이자카야, 저, 평양냉면, 소고기, 회, 무침, 필동, 면옥, 면옥, 우래, 옥, 등, 거기, 닭, 육수, 수, 소고기, 회, 무침, 평양냉면, 조화, 것, 해물, 도시락, 세트, 주문, 입장, 전, 냄새, 기대, 각종, 위, 면, 발고, 맛, 해물, 손질, 조개, 게, 면발, 해물, 찌꺼기, 조개, 껍질, 껍데기, 입, 불편, 국물, 때, 해물, 특유, 쓴맛, 국물, 때, 물질, 국물, 도시락, 라면, 불편, 손질, 조개, 껍데기, 게, 해산물, 분리, 뻔, 팬, 규, 등심, 스테이크, 생각, 편, 오월, 종, 오월, 종, 타임, 스퀘어, 점, 영등포, 타임, 스퀘어, 옆, 앤티크, 창고, 모양, 건물, 단독, 점심, 시간, 빵, 가게, 바퀴, 후, 빵, 빵, 가격, 대, 베이커리, 가격대, 여기, 거, 생각, 후, 가스, 빵, 가지, 달, 빵, 이름, 기억, 애벌레, 잎, 올리브, 빵, 후, 가스, 게, 올리브유, 발사믹, 소스, 건, 나중, 빵, 가격, 대비, 이날, 빵, 맛, 빵, 평가, 방문, 이번, 빵, 직원, 표정, 접대, 서비스, 매출, 매장, 직원, 중, 미, 소지, 하나, 직원, 넌, 손, 근대, 투, 손님, 티브이, 광고, 하나, 안, 누수, 단장, 맘, 여수, 야경, 한눈, 숨, 맛, 집, 기본, 생선, 구이, 외, 게장, 서대, 회, 무침, 진심, 외관, 생각, 구성비, 맛, 덮밥, 생선회, 찹쌀떡, 라자냐, 새우, 오, 일, 스파게티, 예전, 곳, 기대, 실망, 다섯, 가지, 크림, 리가토니, 남자, 동기, 방문, 거, 거, 것, 오일, 파스타, 주문, 식전, 빵, 여러분, 이야기, 식감, 편, 결국, 빵, 라자냐, 기대, 색깔, 시금치, 반죽, 듯, 치즈, 입, 안, 소스, 고기, 동안, 행복, 새우, 오, 일, 스파게티, 동행, 동기, 라자냐, 이게, 전, 마늘, 즙, 국수, 기분, 마늘, 맛, 식감, 기분, 로제, 소스, 변경, 걸, 후회, 자체, 저, 배, 동행, 거, 다섯, 개, 배, 것, 방문, 필요, 리가토니, 가격, 마르셀, 부담, 편, 방문, 복덕방, 웨이팅, 끝, 입장, 이곳, 시그, 처인, 메밀전, 병, 사장, 추천, 육회, 차, 주문, 생강, 맛, 나, 기본, 반찬, 멸, 산, 아래, 막걸리, 저번, 처음, 이걸, 대부분, 스타트, 막걸리, 이걸로, 제천, 아래, 쌈밥, 집, 맛, 사장, 말, 아스파탐, 다음, 날, 머리, 육, 회, 역시, 위, 잣가루, 때문, 배랑, 뻔, 막걸리, 간, 우렁, 쌀, 드라이, 막걸리, 스타일, 막걸리, 탄산, 아래, 생각, 게, 수준, 메밀, 정병, 저번, 방법, 설명, 것, 추가, 명란젓, 병, 해창, 막걸리, 명란젓, 궁합, 것, 기억, 명란젓, 명장, 얘기, 기억, 증발, 츤데레, 사장, 무릎, 담요, 오늘, 손, 분, 분, 모습, 목, 건강, 걱정, 인, 안쪽, 인, 이상, 인, 자리, 제주도, 중문, 맛, 청결, 서비스, 만점, 신사동, 프랑스, 디저트, 카페, 원, 더플, 자체, 데, 맛, 반함, 원, 정도, 반찬, 돌솥, 자리, 선정, 송정, 바다, 식사, 가능, 이곳, 혜자, 식당, 만둣국, 국물, 짜장면, 김밥천국, 승, 기존, 맛, 맥주, 다양, 안주, 칵테일, 종류, 혼, 술, 분, 스테이크, 감동, 맛, 분위기, 가격대, 편, 값어치, 곳, 초계, 국수, 초계, 비빔국수, 파전, 크림, 분위기, 친절, 여기, 오브제, 소품, 솜씨, 거, 친절, 시그, 처, 대표, 메뉴, 개, 끼, 랍, 스터, 베이스, 리소토, 맛, 편, 메뉴, 명, 셰어, 거, 접시, 만, 원, 정도, 음식점, 매력, 어젯밤, 친구, 둘, 층, 아이스크림, 제, 커피, 거, 대신, 청소, 감사, 아침, 문, 담, 통영, 거, 분위기, 현지, 필, 가격, 맛, 가격, 대비, 유명세, 대비, 집, 셰프, 날, 말, 중식, 기복, 특수, 인, 인격, 의존, 것, 필요, 스타, 셰프, 보유, 중, 가게, 뿐, 중춘, 등, 신흥, 강자, 것, 인상, 메뉴, 위주, 리뷰, 전복, 손질, 질감, 소스, 만족, 동파육, 이연복, 요리, 소스, 일체, 스타일, 것, 여기, 고기, 조린, 듯이, 향신료, 향, 자극, 취향, 요소, 난, 진득, 자극, 편, 이상, 생각, 만, 생각, 완벽, 말, 군만두, 만두피, 수제, 것, 속도, 기성품, 맛, 리드, 경향, 이곳, 연희동, 식사, 거리, 안성맞춤, 만두, 속, 선사, 만, 것, 함정, 짜장면, 탕수육, 짬뽕, 누룽지, 탕, 등, 중화, 요리점, 비교, 눈, 차이, 정도, 외, 식품, 내, 게, 것, 디저트, 팥빵, 과자, 수제, 것, 중독, 맛, 이것, 기대, 고기, 국수, 비고, 국수, 조합, 수육, 나, 맛, 감칠맛, 강력, 추천, 가격, 분위기, 안주, 이색, 술집, 밥, 차, 뭔가, 분위기, 곳, 고민, 예전, 추천, 곳, 방문, 생각, 사람, 분위기, 뭔가, 고급, 차, 곳, 메뉴, 저희, 차, 거, 메뉴, 존, 대전, 맛, 리코타, 치즈, 크래커, 팥빙수, 위, 통팥, 아몬드, 메뉴, 조합, 줄, 집, 맛, 차, 순삭, 술, 안동소주, 청포, 막걸리, 청포, 막걸리, 술맛, 안동소주, 건데, 안동소주, 술, 줄, 이것, 두병, 가격, 앞, 안동소주, 한동안, 예정, 끝, 것, 메뉴, 담, 번, 저녁, 강추, 연어, 회덮밥, 대박, 매장, 친절, 부추, 양념, 법, 금호동, 로컬, 만, 골목, 위치, 커피, 맛, 분위기, 갤러리, 연상, 나름, 일, 타, 안락, 카페, 사람, 카페, 무한리필, 콘셉트, 기대, 행사, 편, 행사, 상동역, 앞, 스타, 벅스, 사람, 편, 치즈케이크, 인생, 맛, 집, 임명, 화이트, 만득, 버거, 타르트, 하나, 수, 건지, 치즈, 버거, 갈릭, 버터, 갈릭, 버터, 존, 맛, 마늘, 향, 편, 마늘, 저, 염, 염, 긋, 평일, 오픈, 시간, 웨이팅, 음료, 맛, 굳, 굳, 시장, 통, 음식, 인, 원, 메뉴, 전병, 쌈, 인, 기준, 여섯, 장, 정도, 쌈, 것, 음식, 맛, 직원, 친절, 손님, 거, 아르바이트, 분, 주인, 분, 리뷰, 생각, 평점, 점, 리뷰, 서비스, 얘기, 맛, 뷰, 북한산, 한옥, 마을, 조화, 한동안, 넋, 날씨, 처마, 밑, 구름, 걸, 맛, 가격, 뷰, 어탕, 국수, 데, 것, 때, 양, 사장, 일, 제, 바람, 그, 오픈, 시간, 주문, 문어, 해물탕, 여기, 일, 등, 것, 문어, 생선, 국물, 문어, 비빔밥, 사과, 톳, 당근, 등, 건강, 재료, 문어, 초고추장, 그릇, 정도, 삼, 척, 식사, 사장, 직원, 친절, 구성비, 덕분, 만족, 점심, 식사, 초코, 분수, 곳, 마음, 한편, 생각, 건, 맥주, 콜리지, 프리, 콜리지, 생각, 수, 가격, 달, 번, 정도, 식사, 서비스, 맘, 분위기, 시설, 등, 스페셜, 메뉴, 재미, 가격, 할인, 카드, 사, 할인, 닭볶음탕, 꼬막, 짱, 밥, 식사, 안주, 매일, 고기, 맛, 주차장, 어려움, 러블리, 세트, 풍기, 샐러드, 등심, 스테이크, 미디엄, 레어, 주문, 미디엄, 웰던, 파스타, 수프, 싱거, 자체, 돈, 가스, 양, 특색, 싱거, 움, 빵, 분위기, 오랜만, 메뉴, 김치, 등, 갈비, 치즈, 토핑, 메뉴, 고사리, 토란, 육개장, 분, 근처, 이화수, 육개장, 왕, 고기, 왕, 파, 육개장, 맛, 육개장, 밀, 탑, 빙수, 명성, 처음, 팥, 우유, 얼음, 조화, 빙수, 위, 떡, 커피, 물, 것, 남자, 친구, 담배, 맛, 그것, 덜미, 제, 다원, 식당, 사랑, 새우, 콜리플라워, 리조, 전복, 리소토, 홍대, 족발, 곳, 마늘, 맛, 중독, 곳, 외국인, 곳, 해산물, 노량진, 시장, 구이, 요리, 한잔, 동치미, 국물, 최고, 막국수, 보쌈, 고기, 기대, 이상, 사장, 친절, 음식, 분위기, 부천, 페이도, 안, 한정식, 맛, 집, 천사, 대교, 구경, 인생, 맛, 집, 저희, 특화, 상차림, 전복, 해초, 돌솥, 밥, 간장, 게장, 돼지, 불고기, 맛, 간장, 게장, 게장, 저희, 엄마, 수, 정도, 비린내, 하나, 간장, 맛, 게, 본연, 맛, 수, 돼지, 불고기, 기본, 반찬, 건강, 감칠맛, 반찬, 리필, 저희, 테이블, 기분, 식사, 사장, 필요, 거, 친절, 부모, 만족, 가격, 정도, 퀄리티, 신안, 꽃, 무화과, 강추, 년, 전, 리뷰, 평, 제, 날, 기준, 직원, 친절, 맛, 기본, 평균, 이상, 것, 양, 편, 저녁, 기준, 가격, 편, 것, 점심, 가격, 양, 부담, 지도, 전체, 회, 아기, 자기, 음식, 양식집, 음식, 색깔, 사진, 맛, 가게, 대기, 단점, 곳, 삼둥이, 만두, 맛, 여기, 최고, 듯, 잠시, 송일국, 먹방, 사진, 오스트리아, 샘킴, 리뷰, 정독, 방문, 로로, 이유, 도, 실속, 파스타, 집, 얘기, 매력, 포인트, 가지, 가게, 자리, 인테리어, 고풍, 가격, 고퀄, 파스타, 사장, 편지, 센스, 겸, 주문, 메뉴, 극찬, 르, 어란, 파스타, 감자, 크리머, 개, 천, 원, 혜자, 질, 파스타, 르, 사장, 파스타, 위, 어란, 가루, 면, 후추, 조화, 소스, 도움, 오롯, 맛, 감자, 크리머, 뇨키, 음식, 것, 끼, 만, 맛, 링귀네, 맛, 베이컨, 크림, 맛, 친구, 끼, 찬사, 말, 최근, 집, 중, 만족, 블루베리, 스무디, 요구르트, 맛, 라테, 커피, 원두, 종류, 수, 일행, 고기, 흡입, 혼자, 마약, 옥수수, 구황, 작물, 중독, 맛, 거, 남자, 명, 가도, 존, 정통, 이탈리안, 지향, 느낌, 분위기, 일반, 식당, 분위기, 위생, 상태, 양호, 맛, 맛, 매운맛, 입맛, 때, 입맛, 주꾸미, 밥, 맛, 소스, 자극, 사이드, 샐러드, 드레싱, 도토리묵, 소스, 뭔지, 황태, 콩나물국, 이것, 집, 순서, 얘기, 퀘, 사디, 사진, 김치, 프라이, 스테이크, 라이스, 볼, 퀘, 사디, 한입, 사진, 김치, 프라이, 안, 고기, 스테이크, 라이스, 볼, 생각, 주문, 데, 야채, 밥, 스테이크, 평점, 기대, 실망, 부분, 전체, 양, 간, 평가, 제주, 오, 겹, 전문점, 합리, 가격, 배신, 맛, 하이디, 라오, 내, 돈, 기분, 제주도, 고깃집, 여기, 것, 밑반찬, 부실, 거, 육수, 깜놀, 포, 시즌스, 호텔, 이름, 상대, 가격대, 맛, 정도, 수준, 파스타, 생면, 특성, 식전, 빵, 마늘, 것, 급니다, 광화문, 근처, 모임, 추천, 삼, 겹, 볶음, 막걸리, 페어링, 산, 아래, 이름, 기억, 거, 하나, 호랑이, 배꼽, 드라이, 것, 것, 순, 막걸리, 막걸리, 어디, 여기, 음미, 설명, 막걸리, 맛, 수, 생각, 가지, 마음, 안주, 사리, 추가, 왕, 꿀맛, 가게, 웨이팅, 시작, 끝, 것, 때문, 사장, 사모님, 신경, 수, 것, 필요, 건, 세면대, 일회용, 칫솔, 복덕방, 화룡점정, 봄, 쏘, 스윗, 사장, 센스, 번, 막걸리, 지식, 술, 반전, 매력, 여럿, 막걸리, 병, 얼마, 때문, 예산, 데, 어려움, 수, 날, 명, 위, 만, 원, 망원동, 동네, 복덕방, 때문, 수, 멸치, 국물, 카페모카, 슈페너, 슈페너, 크림, 커피, 끝장, 카페, 분위기, 무엇, 때, 사람, 자리, 안쪽, 개미집, 끝, 자리, 다음, 곳, 제, 여기, 입, 제, 회, 데, 강추, 여러분, 직원, 친절, 음식, 종류, 버거, 기대, 정도, 맛, 거, 개인, 버거, 취향, 감, 치즈, 시간, 카페, 낮, 듯, 명, 배, 때, 맛, 가격, 부담, 닭갈비, 앞, 조리, 야채, 상태, 만족, 서현, 고깃집, 모둠, 꽃등심, 삼겹살, 항정살, 주문, 항정살, 개별, 룸, 회식, 단체, 모임, 곳, 런, 메뉴, 수, 데이트, 곳, 중, 하나, 퓨어, 아레나, 분위기, 식사, 수, 차, 편안, 공간, 가격, 정도, 소, 곱창, 서울, 수, 것, 만, 곱창, 날, 편차, 상태, 날, 조미료, 맛, 회기역, 쪽, 김, 카페, 건물, 눈, 카페, 비엔나, 녹차, 프라페, 커피, 맛, 커피, 달고, 맛, 커피, 중, 선택, 카페, 비, 나, 커피, 저, 맛, 타입, 커피, 커피, 선택, 카페, 비, 나, 단맛, 생각, 주문, 저, 주문, 투, 샷, 맛, 녹차, 프라페, 카페, 구석구석, 복도식, 테이블, 회기, 카페, 여기, 추천, 존, 자체, 수긍, 개념, 평점, 테러리스트, 평점, 조절, 점, 맛, 정성, 점, 남원, 폭풍, 검색, 후, 돈가스, 맛집, 그, 곳, 점심, 시간, 웨이팅, 정도, 이곳, 시그, 처, 메뉴, 매콤, 치즈, 돈가스, 주문, 약간, 양념치킨, 맛, 게, 취향, 저격, 다음, 메밀, 등, 메뉴, 망고, 하이, 커피, 쏘, 쏘, 식빵, 가게, 얼, 그레이, 식빵, 향, 식감, 플라자호텔, 세븐, 스퀘어, 생일, 기념, 민어회, 민어, 초밥, 시즌, 메뉴, 멜론, 가격, 게, 단점, 런, 부, 사람, 음식, 게, 이번, 처음, 런, 부, 조개, 칼국수, 조개, 서빙, 것, 일본, 라면, 한국, 부분, 현지, 맛, 집, 보통, 맛, 마련, 여기, 디, 타워, 안, 개방, 형태, 자리, 분위기, 야경, 특별, 건, 나름, 건강, 이탈리아, 음식, 자극, 맛, 듯, 제, 입맛, 깻잎, 페스, 토, 호불호, 수, 것, 맛, 치즈, 맛, 디, 타워, 내, 식당, 카페, 이용, 주차, 시간, 지원, 때문, 무료, 주차, 서비스, 디, 타워, 내, 밥, 커피, 차비, 시간, 이후, 집, 웨이팅, 마성, 맛, 술, 꼬리, 수육, 클리어, 국수사리, 완벽, 자체, 생각, 것, 당황, 정도, 차, 시골, 구석구석, 이, 택시, 가능, 위치, 맛, 여타, 서울, 플래터, 비교, 중간, 정도, 가격, 대비, 위치, 마당, 아기, 강아지, 문어, 만, 추어, 생선, 특유, 잡, 내, 백, 반집, 메뉴, 다양, 준비, 감, 나름, 청담동, 맛, 집, 맛, 하나, 인정, 만, 허니, 큐브, 유기농, 아이스크림, 위, 벌집, 머리, 정도, 단맛, 시, 분, 도착, 후, 분, 음식, 곳, 점, 중간, 신경, 테이블, 음식, 순서, 순서, 뜻, 거, 배달, 음식, 준비, 건, 홀, 신경, 걸, 얘기, 거, 기본, 엄마, 손맛, 정, 집, 사장, 친절, 특별, 맛, 건, 그릇, 시장, 안, 수, 것, 장점, 갈치속젓, 오징어, 젓, 김, 사이드, 디시, 최고, 환상, 궁합, 방문, 의사, 사장, 번창, 참참, 날계란, 콩나물, 국물, 이게, 별미, 피시, 소스, 스타트, 소스, 칠리소스, 땅콩, 소스, 칠리, 피시, 소스, 샤, 부샤, 부, 땅콩, 소스, 라이스페이퍼, 뷰, 평일, 주차, 자리, 음료, 빵, 맛, 카페, 주말, 시장, 바닥, 거, 사람, 듯, 평일, 걸, 추천, 점심, 정식, 명란젓, 저, 행복, 점심, 점심, 메뉴, 대창, 볶음, 메뉴, 주문, 정확, 메뉴, 명, 기억, 대창, 추가, 양, 생각, 부족, 건, 담, 모츠, 베, 거, 이전, 다우너, 버거, 평, 수제, 버거, 특별, 게, 느낌, 수제, 버거, 피클, 세트, 시, 원, 육박, 가격, 최소, 피클, 반, 조각, 하나, 게, 옥상, 곳, 분위기, 핵, 추천, 스파게티, 리소토, 주문, 음식, 양, 기본, 인분, 건, 토마토, 스파게티, 실패, 말, 디저트, 식사, 단건, 방순, 다이어트, 때문, 발견, 집, 저, 호밀, 빵, 야채, 패티, 맛, 패티, 맛, 표현, 감자튀김, 소금, 맛, 평가, 이해, 정후, 분식, 원탑, 누가, 래도, 삼겹살, 토핑, 수육, 가게, 위생, 축하, 자리, 룸, 예약, 번, 방문, 생면, 신세계, 오징어, 먹물, 펠리니, 시저, 샐러드, 농어, 스테이크, 전, 메뉴, 농어, 스테이크, 때, 방문, 생각, 곳, 가격, 무엇, 여기, 밥, 날, 하루, 종일, 수, 분위기, 다음, 방문, 추가, 사리, 사라, 추가, 국물, 다음, 사리, 거, 생각, 대기, 대기, 맛, 동네, 대비, 가격, 음악, 북한, 음식, 간, 내, 취향, 시, 반, 웨이팅, 번, 시, 분, 입장, 영업, 시작, 후, 음식, 데, 시간, 음식, 데, 분, 원, 실망, 사진, 수, 고기, 튀김, 조리, 후, 아래쪽, 개시, 후, 동시, 조리, 테이블, 회식, 오징어, 맛, 신선, 탱, 글, 박스, 만, 원, 어치, 회, 못, 저, 회, 음식, 줄, 거, 서울, 노량진, 수산, 시장, 저희, 반찬, 소, 포장, 주문, 주문, 때, 소, 텐데, 소, 말, 영수증, 중, 가격, 주문, 항목, 메뉴, 중, 거, 값, 중자, 건, 소, 맛, 주문, 과정, 뭔가, 항구, 도시, 회, 무모, 짓, 앞, 앞, 노량진, 형제, 상회, 곳, 걸로, 곱창, 수, 분위기, 언제, 뭘, 년, 초콜릿, 음료, 원, 실제, 메뉴, 이름, 찌, 초콜릿, 초콜릿, 향, 카카오, 풍미, 위치, 홍대, 쪽, 연남동, 카페, 연남동, 산책, 길, 곳, 가게, 하나, 가게, 안, 초콜릿, 공방, 분위기, 스플릿, 시즌, 플레이트, 여자, 친구, 때, 이것, 효자동, 세트, 가격, 대비, 구성비, 점심때, 웨이팅, 초밥, 맛, 것, 음식점, 분위기, 집, 구성비, 맛, 집, 소문, 거품, 집, 인기, 호평, 일색, 금송아지, 방문, 한국식, 쌀국수, 정수, 분, 글, 거, 말, 쌀국수, 한국식, 것, 이건, 쌀국수, 일, 것, 그걸, 나, 코다리, 막국수, 코다리, 양, 맛, 누구, 맛, 여름, 줄, 점, 메밀, 맛, 양념, 맛, 오늘, 포스팅, 구월동, 유신, 족발, 친구, 연어, 연어, 시대, 려고, 점심, 문, 족발, 변경, 유신, 족발, 체인점, 건, 제, 방문, 곳, 구월동, 로데오, 거리, 중앙, 위치, 가로수길, 위치, 맛, 집, 코노, 미야키, 대파, 맛, 매력, 육개장, 소고기, 크기, 식감, 만족, 과대평가, 집, 웨이팅, 시스템, 세기, 짓, 만, 음식, 너티, 클라우드, 번, 일, 주일, 커피, 커피, 이거, 눈, 생각, 입, 침, 우유, 땅콩, 크림, 에스프레소, 완벽, 조화, 땅콩, 맛, 사람, 이상, 너티, 클라우드, 사람, 듯, 가게, 분위기, 뭔가, 앤티크, 한, 스타, 그래머, 인기, 듯, 커피, 자체, 저게, 뭐, 생각, 수, 비주얼, 필요, 열, 번, 여기, 남녀노소, 지금, 글, 당신, 오므라이스, 면, 사장, 친절, 친절, 반찬, 밥, 리필, 가능, 반찬, 중, 유자, 목, 버섯, 무침, 대박, 가격, 생각, 맛, 서비스, 만족, 여기, 경치, 장관, 곳, 사람, 장사, 곳, 여수, 여행, 때, 만, 횟집, 추천, 외관, 마음, 친구, 케이크, 방문, 컵, 케이크, 음료, 경우, 반찬, 사용, 목격, 구토, 뻔, 시청, 민원, 촬영, 물, 실패, 닭고기, 사용, 건, 의심, 불친절, 맛, 때, 때, 닭볶음탕, 냄비, 반찬, 반찬, 테이블, 맛, 콩국수, 잔치국수, 비빔국수, 차, 분, 내, 국숫집, 중, 겐지, 돈가스, 연희동, 지역, 냉면, 집, 개, 평양냉면, 여사, 냉면, 몽, 함흥냉면, 청송, 냉면, 학창, 시절, 자취방, 근처, 친구, 십중팔구, 여기, 식사, 냉면, 육수, 야쿠르트, 향, 동치미, 육수, 함흥냉면, 회, 냉면, 물냉면, 사장, 인심, 장정, 무료, 사이즈, 업, 주차, 대중교통, 구성비, 밥, 정원, 햇빛, 카페, 분위기, 땐, 올라르, 내, 사랑, 봉, 골, 레, 곳, 분위기, 낮, 메뉴, 듯, 주문, 메뉴, 만족, 끼, 양, 속, 촉, 팟, 퐁, 덴, 새우, 여긴, 식감, 크랩, 파스, 씨, 유랑, 전체, 단맛, 추천, 와인, 와인, 전반, 와인, 와인, 만약, 주변, 식당, 전, 믹스, 추천, 근방, 가게, 브레이크, 타임, 직원, 친절, 김치, 츠나, 해장, 듯, 맛, 일품, 돈부리, 소스, 게, 장국, 레시피, 정도, 리뷰, 게, 근래, 예전, 땐, 하와이안, 버거, 버거, 집, 김밥, 집, 클리어, 밥, 도둑, 참치, 밥도둑, 계란, 계란, 김밥, 것, 계란, 김밥, 비주얼, 매운맛, 줄, 참치, 김밥, 입, 남, 집, 특이, 매운맛, 어묵, 거, 참치, 김밥, 어묵, 참치, 김밥, 거, 필욘, 근처, 거, 김밥, 집, 비프, 뷰, 소고기, 스튜, 추천, 와인, 맛, 수, 찌개, 수, 짬뽕, 추천, 만, 것, 년, 단골, 볶음밥, 종류, 양, 편, 평소, 볶음밥, 여기, 볶음밥, 향도, 최애, 메뉴, 고기, 짬뽕, 짬뽕, 곳, 편, 데, 곳, 중, 상위, 고기, 기본, 짬뽕, 스페셜, 짬뽕, 갈비, 스테이크, 추천, 만, 막국수, 정도, 마롱, 카론, 스타, 그램, 디저트, 가게, 공릉동, 구석, 사람, 스타, 그날, 맛, 수, 라인업, 개, 원, 구, 포장, 세트, 원, 개인, 맛, 인절미, 에스프레소, 투스, 필링, 느끼, 수, 여기, 퍼짐, 게, 속상, 리얼, 돼지, 대창, 기름, 구멍, 소리, 번, 돈, 볶음밥, 분위기, 집, 백, 선생, 양념, 맛, 것, 특별, 맛, 입맛, 선술집, 분위기, 목소리, 술, 듯, 통마늘, 닭똥집, 마늘, 여긴, 잇, 댓, 돌체, 라테, 최애, 메뉴, 지점, 김치찌개, 맛, 집, 엄마, 맛, 짠맛, 양념, 곳, 물, 수, 정도, 커피, 데, 분, 저거, 데, 분, 바스켓, 뭐, 존, 분위기, 맛, 대기, 요즘, 코로나, 때문, 방문, 사, 프로, 아무, 며느리, 복, 림, 미, 복, 림, 떡볶이, 비밀, 저번, 전남, 광주, 일, 궁전, 금남, 광장, 건너편, 충장로, 본점, 층, 빵, 계산, 포장, 층, 자리, 수, 층, 음료, 빙수, 주문, 가능, 층, 카운터, 앞, 빵, 접시, 나이프, 포크, 등, 비치, 전자레인지, 원, 대로, 빵, 수, 궁전, 제과, 나비, 파이, 공룡, 빵, 타르트, 정도, 예상, 가능, 맛, 전체, 빵, 값, 편, 개인, 공룡, 빵, 마음, 광주, 빵집, 라면, 맛, 서비스, 위생, 필래프, 파스타, 정작, 화덕, 피자, 맛, 메뉴, 가족, 삼청동, 망원, 이사, 간, 다음, 처음, 음식, 거, 아뮤즈, 부시, 메인, 디저트, 만족, 식사, 보통, 코스, 요리, 때, 입, 것, 개, 시, 몽, 음식, 입맛, 여기, 페북, 광고, 대창, 덮밥, 후회, 곳, 한동안, 대창, 거, 생각, 곳, 존, 맛, 탱, 여기, 번, 번, 만, 곳, 사진, 개인, 구월동, 분위기, 생각, 이탈리안, 레스토랑, 데, 캐주얼, 학생, 저녁, 소개팅, 듯, 이곳, 식전, 빵, 맛, 내, 취향, 사진, 비앙코, 구스, 토, 피칸, 테, 리소토, 스피나, 풍기, 샐러드, 마르게리타, 피자, 알라, 불로, 곳, 기대, 멀리, 차, 카페, 요새, 근처, 분위기, 카페, 주말, 차, 생각, 분위기, 한강, 차, 강과, 연결, 수제, 버거, 커피, 음식, 음료, 분위기, 카페, 앞, 길, 차, 스트레스, 화장실, 사람, 친구, 분위기, 힐링, 예, 맛, 동네, 빵집, 운영, 방식, 문제, 가게, 능력, 부족, 신경, 듯, 어디, 아쉬움, 도, 갈치조림, 최고, 남한산성, 곳, 이번, 점, 물병, 물, 부추, 찌꺼기, 밥, 전, 가족, 비위, 상, 물병, 직원, 기계, 앞, 접시, 고춧가루, 길, 가족, 특별, 날, 정식, 인가, 거, 초밥, 카페, 바리스타, 대상, 곳, 저녁, 커피, 청, 보리, 퐁, 음료, 맛, 친구, 커피, 근처, 만, 곳, 맛, 숙성, 고등어, 렸, 관자, 구이, 투, 머치, 불, 갈만, 굴, 진리, 기본, 장, 반찬, 서비스, 분위기, 청년, 젊은이, 장점, 숙성, 다양, 회, 뉴, 단점, 줄, 평, 다양, 특이, 어종, 때, 배달, 방문, 추천, 순두부, 전문, 최고, 맛, 압구정, 버블, 앤, 코, 클, 홀릭, 파티, 모임, 기억, 남점, 방문, 메뉴, 명, 메뉴, 게, 곳, 지하, 분위기, 양초, 분위기, 크리스마스, 연말, 생굴, 시즌, 이상, 그릴, 푸드, 플래터, 오징어, 메뉴, 저번, 피시, 파이, 맥주, 모카, 스타우트, 평, 이거, 대신, 벨, 지안, 윗, 입맛, 거도, 스텔라, 아르토, 리스, 맥주, 잔, 식전, 빵, 훈연, 고등어, 소스, 특이, 래터, 가리비, 새우, 훈연, 고등어, 등, 건, 기장, 멸치, 튀김, 고소, 분, 오징어, 요리, 병아리, 콩, 것, 오징어, 소스, 데, 특이, 피시, 파이, 문어, 카르파초, 곳, 낮, 차, 밤, 와인, 평일, 맛, 집, 파전, 건물, 내, 주차장, 무료, 주차, 낙지, 추가, 선택, 빵, 만족, 커피, 주말, 주인, 불친절, 음식, 맛, 조미료, 맛, 예약, 필수, 종류, 다양, 대구, 친구, 추천, 포장, 집, 시장, 골목, 매장, 개, 점, 구역, 내, 느낌, 장사, 집, 포장, 인, 세트, 양, 편, 지역, 원, 족발, 쟁반국수, 둘, 거, 것, 맛, 음식, 자극, 서비스, 마인드, 막국수, 수육, 전병, 대접, 계란, 하나, 거, 이게, 모지, 그릇, 거, 계란, 거, 배려, 감동, 짬뽕, 순두부, 짬뽕, 탕수육, 몸, 기대, 탕수육, 주먹, 거, 볶음밥, 걸까요, 술친구, 부담, 곳, 고수, 쌈, 채소, 돼지고기, 쌈, 궁합, 번, 경험, 방문, 생각, 곳, 스타, 핫, 시간, 보람, 곳, 문어, 덮밥, 저건, 상태, 거, 것, 회덮밥, 문어, 느낌, 해물, 어디, 수, 맛, 삼합, 갓김치, 냉동, 삼, 겹, 새우, 문어, 등등, 판위, 건데, 아르바이트, 손, 조절, 손, 저희, 김치, 국물, 버터, 삼겹살, 기름, 맛, 내, 맛, 유명세, 실속, 집, 홍, 짬뽕, 맛, 머리, 땀, 난, 년, 전, 방문, 방문, 현지인, 맛, 집, 고기, 입, 만, 카페, 바리, 옆, 산, 건너편, 청계산, 입구, 거리, 걸, 추천, 아이, 사진, 추억, 곳, 실내, 실외, 와중, 친절, 가격, 개인, 카페인, 캐머, 마일, 페퍼민트, 날, 피, 회의, 결과, 커피, 곱창, 곳, 탕, 볶음밥, 일, 분, 친절, 막창, 기름, 거, 안동, 간고등어, 맘, 카페, 음료, 아이, 루프, 탑, 흰색, 천, 카페, 규모, 전체, 층, 건물, 통째, 강릉, 안목, 해변, 뷰, 곳, 층, 층, 바, 테이블, 주문, 곳, 층, 자리, 바다, 전경, 자리, 층, 루프, 탑, 루프, 탑, 유명세, 사람, 공간, 불편, 아메리카노, 카페, 라테, 원두, 산미, 향, 추가, 원두, 티백, 주문, 집, 향, 보디, 분위기, 맛, 집, 생각, 생각, 커피, 주차, 근처, 주차, 공간, 사람, 시간, 주차, 혼잡, 편, 안목, 해변, 끝, 쪽, 주차, 공간, 참고, 화장실, 층, 남녀, 구분, 칸, 편, 카페, 규모, 화장실, 상황, 수, 것, 오, 겹, 살, 오, 겹, 살, 거, 고기, 값, 분위기, 친절, 감사, 근처, 맛, 집, 만, 집, 건, 가격, 생각, 안창살, 파니니, 고기, 파니니, 건, 점심, 카르보, 순, 베, 차선책, 방문, 곳, 전체, 거, 삼, 선, 짬뽕, 편, 저, 단골, 밀면, 집, 육수, 기, 육수, 매력, 때, 잔, 거, 여기, 비빔면, 입맛, 뭔지, 양, 구성비, 굿, 양고기, 특유, 냄새, 분, 수, 애초, 분, 여길, 전, 여기, 보통, 미트, 플래터, 갈비, 소시지, 가공, 육류, 수준, 고기, 소시지, 양고기, 파이, 번, 끼, 수, 개인, 여기, 샐러드, 콜, 슬롯, 웨이팅, 편, 사람, 국산, 팥, 알알, 우유, 빙수, 무엇, 정성, 맛, 단골, 수, 곳, 당근, 케이크, 어른, 가족, 친척, 생일, 케이크, 주문, 곳, 보통, 점, 정도, 건, 것, 근처, 방문, 것, 양평, 가족, 나들이, 용문산, 근처, 커피, 바게트, 크루아상, 스콘, 등, 베이커리, 보통, 조명, 사진발, 사장, 스콘, 카페, 카페, 내부, 생각, 커피, 맛, 굿, 평일, 낮, 사람, 메르스, 때문, 외출, 편, 저녁, 여의도, 우리, 모림, 맛, 분위기, 방문, 사, 팔, 칼제비, 맛, 집, 곳, 팔당, 위치, 곳, 번, 곳, 건물, 층, 시간, 저녁, 시간, 층, 운영, 듯, 땐, 포차, 듯, 메뉴, 주메뉴, 칼제비, 만두, 만두, 김치, 만두, 거, 사람, 나, 만두, 나, 칼제비, 편, 국물, 해산물, 바지락, 바지락, 이유, 양, 국물, 여기, 고추, 고춧가루, 수, 일석이조, 칼제비, 비율, 수제비, 칼국수, 개인, 수제비, 부분, 볶음, 죽, 이건, 뭔가, 패션, 디자인, 도시, 밀라노, 듯, 인테리어, 맘, 음식, 만, 내, 태국, 음식점, 게살, 볶음밥, 쏨, 땀, 팟, 퐁, 커리, 추천, 사장, 직원, 친절, 음식, 맛, 방문, 예정, 명, 갈비, 짝, 장찌개, 클리어, 경제, 활동, 우란, 음식, 엄마, 찬스, 내게, 여기, 자랑, 친구, 부담, 수, 곳, 맛, 질, 측면, 사장, 철학, 서비스, 곳, 메뉴, 갈빗살, 갈빗살, 짝, 밥, 종류, 된장찌개, 하나, 전부, 단순, 메뉴, 음식, 기대감, 살치, 살, 원, 갈비, 짝, 주문, 식육, 처리, 기능사, 자격증, 보유, 사장, 갈비, 정형, 고기, 때문, 고기, 때깔, 선홍, 빛, 마블링, 약간, 핏빛, 고기, 신선도, 가늠, 수, 고기, 집, 집, 고기, 수, 이유, 비상, 덕분, 손질, 탄, 덕분, 믿음, 밑반찬, 샐러리, 마요네즈, 쌈장, 상추, 파, 무침, 김치, 깻잎절임, 데, 파, 무침, 경우, 일반, 고깃집, 것, 맛, 특징, 깻잎절임, 생각, 양념, 본인, 입맛, 샐러리, 고기, 번, 찰떡궁합, 불판, 열, 고기, 미디엄, 웰던, 때문, 시간, 사이, 마늘, 샐러리, 배, 수, 고기, 갈빗살, 특유, 감칠맛, 매력, 입, 살치, 살, 경우, 말, 무엇, 입, 육즙, 덕분, 무침, 김치, 고기, 본연, 조화, 수, 웨이팅, 덕, 안창살, 된장찌개, 공깃밥, 여기, 된장찌개, 양, 두부, 고추, 갈비, 점, 특징, 동행, 여기, 안, 갈비, 고기, 밥, 사람, 뭔가, 날, 된장찌개, 국물, 술, 두부, 어디, 공수, 두부, 뭔가, 맛, 일반, 시중, 두부, 두부, 이것, 게, 전체, 만족, 식사, 가게, 규모, 테이블, 수, 개, 정도, 직사각, 모양, 것, 부모, 친구, 것, 집, 계산대, 쪽, 꼬마, 인생, 닭갈비, 닭, 육질, 대한민국, 등, 철판, 닭갈비, 인정, 불친절, 후기, 저, 종업원, 향신료, 평소, 항, 음식, 사람, 카레, 거, 메뉴, 성공, 카르보나라, 반반, 피자, 데, 차, 눔, 대전, 이북, 음식, 남쪽, 게, 생각, 여긴, 바질, 페스, 토, 스콘, 최고, 바질, 페스, 토, 음식, 훠, 얼, 씨, 이이인, 키, 시, 도전, 키, 다음, 입, 비린내, 수, 데이트, 음식, 추천, 밥, 시간, 명, 이상, 반찬, 무나물, 배추김치, 어니언, 옛날, 수유, 어니언, 방문, 기대치, 탓, 수유, 어니언, 기대, 매장, 자리, 하나, 의자, 수, 저, 현대, 미술, 음료, 빵, 기름, 당황, 지인, 추천, 방문, 추어탕, 집, 이곳, 주변, 십, 개, 추어탕, 골목, 형성, 추어탕, 집, 중, 사람, 곳, 거리, 손님, 입장, 주말, 아침, 만석, 소개, 기대, 탓, 나, 걸, 돌솥, 스테인리스, 솥, 밥, 식고, 추어탕, 맛, 이게, 추어탕, 어죽, 정도, 장점, 막걸리, 바가지, 막걸리, 단돈, 천, 원, 판매, 애주가, 인기, 곳, 건, 식사, 뒤, 후식, 술, 빵, 맛, 알자, 지점, 바다, 맛, 집, 문어, 파스타, 간, 문어, 말, 전복, 리소토, 지금, 전복, 리소토, 중, 등, 전복, 마리, 현무암, 치즈, 카츠, 맛, 사이드, 전복, 밥, 카레, 존, 인테리어, 테이블보, 본점, 것, 수, 가격, 편, 이태원, 가격, 서울, 맛, 식당, 뭔가, 듯, 느낌, 마무리, 소금, 아이스크림, 곳, 뭔지, 방문, 예정, 된장찌개, 관악, 쟁의, 장찌개, 일반, 된장찌개, 하나, 고기, 된장, 비빔밥, 최고, 최고, 음식, 기본, 음식, 끝, 이름, 여수, 맛, 집, 네이버, 서치, 그게, 단점, 회, 해산물, 추천, 여수, 횟집, 중, 집, 집, 파히타, 양, 파스타, 정체, 맛, 가격, 강남역, 것, 주차장, 비빔국수, 날씨, 잔치국수, 종류, 겉절이, 김치, 때문, 들깨, 칼국수, 바닥, 수, 소고기, 스프, 향, 시작, 국물, 면, 풋내, 식사, 후, 부담, 조미료, 수, 평일, 오픈, 시간, 방문, 영광, 시간, 사람, 가격, 내부, 인테리어, 직원, 친절, 구성비, 시집, 포장, 태화강, 공원, 가격, 느낌, 옥, 소품, 빈티지, 가구, 조화, 멋, 음식, 만족, 단호박, 피자, 리코타, 치즈, 샐러드, 피자, 바비큐, 피자, 아이, 버섯, 풍기, 피자, 미남, 사장, 밀, 맥주, 부부, 운영, 버거, 짱, 욥, 주변, 산책, 동네, 맛, 집, 스타일, 가게, 이상, 밖, 동네, 사람, 무한, 리필, 가능, 밥, 편차, 데, 때, 교통, 편, 편도, 분, 이상, 필요, 년, 간, 프렌치, 요리, 서울, 프렌치, 레스토랑, 군데, 결론, 서울, 시내, 이곳, 최고, 점, 양념, 맛, 요즘, 음식, 문화, 상황, 식, 재료, 자체, 맛, 중시, 점, 프렌치, 레스토랑, 중, 차이점, 가격, 부담, 요인, 특별, 날, 특별, 사람, 때, 듯, 손, 정도, 연희동, 주차, 가능, 노, 아스, 로스팅, 분위기, 교외, 것, 기분, 곳, 저녁, 공부, 분, 친구, 연인, 분, 저녁, 창가, 자리, 아메리카노, 그레이, 초코, 주문, 전, 커피, 잔도, 접시, 최저, 것, 아메리카노, 호불호, 맛, 저, 그레이, 초코, 생각, 향, 곳, 가까이, 버터, 느낌, 시럽, 처리, 덕, 굳, 굳, 굳, 아메리카노, 데, 플랫, 화이트, 시그, 처, 메뉴, 것, 원두, 선택, 수, 나, 다크, 초콜릿, 향, 나, 원두, 선택, 향, 무엇, 고소, 플랫, 화이트, 자리, 불편, 것, 커피, 것, 추천, 개, 걸로, 속, 팥소, 리뷰, 직원, 친절, 양념, 맛, 다음, 고기, 다양, 만, 직원, 친절, 기분, 가요, 르, 쎄, 케이크, 케이크, 맛, 집, 교수, 최애, 맛, 집, 교수, 원, 때, 유명, 모둠, 인분, 곱창, 유창, 명, 수, 모둠, 곱창, 대창, 막창, 유창, 염통, 포함, 명, 것, 감동, 것, 곱창, 안, 곱, 겉, 속, 곱, 식감, 언어, 한계, 대창, 기름, 유창, 여기, 것, 맛, 메뉴, 부추, 기름, 양념, 고추, 다음, 곱창, 맛, 기름, 수, 고추, 융, 의정부, 곱창, 교수, 안녕, 마르스, 백종원, 대, 천, 왕, 치킨, 맛집, 중국식, 치킨, 마늘, 파, 간장, 소스, 튀김옷, 완전, 최고, 탕수육, 치킨, 양념치킨, 계피, 향, 맛, 자극, 계속, 중독, 맛, 다음, 땐, 마늘, 치킨, 듯, 한국인, 거부, 마라, 샹, 궈, 재료, 수, 바로우, 이, 이게, 천, 원, 맛, 맛, 만수무강, 굿, 행복, 제, 제, 돈, 음식, 감사, 경험, 제, 제, 돈, 서비스, 수준, 미달, 음식, 입, 저, 잘못, 감사, 음식, 조리, 바, 게, 사장, 기본, 교육, 필요, 모양, 음식, 맛, 생각, 분위기, 음식집, 최소한, 기분, 정도, 응대, 생각, 서비스, 음식, 질, 저, 입맛, 오늘, 집, 택배, 활어, 회, 자연산, 광어, 주문, 나, 사장, 신경, 광어, 저번, 날, 신랑, 꽃게, 곳, 태안, 때, 단골, 태안, 수산, 태안, 재래, 시장, 수산, 시장, 안, 횟집, 각종, 활어, 회, 조개, 꽃게, 등등, 해산물, 곳, 단골, 안산, 이사, 횟집, 택배, 수, 것, 사진, 정리, 태안, 수산, 활어, 질, 수산물, 수조관, 영상, 사장, 활어, 회, 해산물, 고집, 때문, 소비자, 입장, 엄지, 사장, 마인드, 요즘, 제철, 동죽조개, 주문, 활어, 회, 매운탕, 거리, 회, 진공, 포장, 도착, 태안, 수산, 사장, 신선도, 유지, 신경, 횟집, 기분, 수, 회, 회, 점, 번, 필요, 점, 회의, 육즙, 기분, 매운탕, 안, 새우, 동죽조개, 국물, 매운탕, 매운탕, 것, 매운탕, 조리, 것, 무, 양파, 회, 아무것, 글, 식감, 회, 맛, 마음, 거, 태안, 활어, 전문점, 레몬, 칭찬, 만, 회, 초밥, 식감, 것, 자연산, 태안, 수산, 회, 택배, 땐, 동죽조개, 조개류, 치패, 바다, 양식, 동죽, 양식, 때문, 자연산, 수산, 시장, 동죽, 가능, 태안, 재래, 시장, 태안, 수산, 매운탕, 국물, 것, 다음, 날, 조개, 해장, 물, 라면, 주소, 충청남도, 태안군, 태안읍, 시장, 길, 남문리, 단체, 석, 포장, 예약, 지역, 화폐, 지류, 카드, 모둠, 조개, 통신, 판매, 전문점, 각종, 활어, 회, 포장, 바닷장어, 대하, 낙지, 각종, 조개류, 태안, 자연산, 우럭, 포, 태안, 제철, 수산물, 포장, 택배, 전문점, 사장, 전화, 번호, 맛, 홍대, 마카롱, 비교, 것, 쏘, 쏘, 수준, 마카롱, 필링, 느낌, 마카롱, 비추, 마카롱, 추천, 고기, 말, 특별, 맛, 카페, 플레, 히팅, 곳, 장칼, 국수, 데, 맛, 집, 맛, 양, 야채, 임팩트, 맛, 가격, 국수, 만두, 타르트, 종류, 과일, 종류, 신랑, 아이, 근처, 함박, 식당, 입맛, 사람, 떡, 엄마, 집, 쌀, 떡볶이, 기분, 자리, 불편, 떡볶이, 정도, 정도, 것, 떡볶이, 학창, 시절, 학교, 앞, 떡볶이, 최고, 듯, 감자튀김, 이유, 집, 질, 감자, 때문, 것, 환상, 맛, 사랑, 포테이토, 워, 사장, 알바, 언니, 언니, 사장, 언니, 바, 면, 식감, 구성비, 맛, 분위기, 방문, 사, 단골, 카페, 사장, 추천, 곳, 카페, 걱정, 원두, 가지, 산미, 여운, 맛, 햇빛, 기분, 편안, 일, 분, 성격, 사장, 선물, 케냐, 원두, 잔, 처음, 산미, 끝, 향리, 맛, 커피, 맘, 설명, 시그, 처, 메뉴, 복분자, 라테, 사장, 어머니, 복분자, 첨, 하나, 색깔, 베이커리, 나, 먹종이, 커피, 맛, 가치, 곳, 공갈빵, 만두, 배, 공갈빵, 여행, 중, 집, 생선, 구이, 원, 고등어, 꽁치, 임연수어, 밥, 나물, 쌈, 채소, 나위, 만족, 식사, 추천, 년, 방문, 중, 제주, 여행, 목적, 글, 하와이, 여자, 친구, 제주도, 방문, 일, 주일, 전, 그라, 입, 식당, 맛, 와중, 기대, 최고, 맛, 경험, 수, 하와이안, 해물, 찜, 고정, 픽, 달고기, 식감, 선호, 갈치, 앤드, 칩스, 추천, 밥, 종류, 중, 개인, 포키, 볼, 슈, 림프, 볶음밥, 초기, 사장, 기운, 서빙, 입담, 최근, 번, 방문, 동안, 주방, 해물, 찜, 예정, 흰색, 옷, 것, 추천, 튐, 월, 초, 당일, 전화, 예약, 방문, 주메뉴, 개, 고깃집, 안심, 석전, 카운터, 마늘, 표정, 테이블, 수, 대비, 인원, 부족, 공장, 맛, 인정, 서비스, 분위기, 분위기, 식사, 가능, 일식집, 영국, 음식, 변명, 차, 다의, 피시, 앤, 칩스, 영국, 음식, 영국, 음식, 편견, 세계, 영국, 수집, 미슐랭, 스타, 세계, 열, 손가락, 안, 세계, 스타, 셰프, 배출, 나라, 영국, 사회, 전반, 자리, 티타임, 영향, 과제, 빵, 기술, 디저트, 문화, 발달, 영국, 오명, 건, 일, 상식, 빈약, 기인, 피시, 앤, 칩스, 외, 게, 소리, 정도, 일, 상식, 다양, 것, 이유, 토지, 기후, 식, 재료, 제한, 청교도, 금욕주의, 조리, 기피, 문화, 등, 예전, 바다, 식량, 보고, 일본, 영국, 바다, 미지, 대상, 육지, 통로, 섬나라, 해산물, 요리, 발달, 와중, 이웃, 나라, 세계, 미식, 중심지, 프랑스, 비교, 수, 차, 국내, 영국, 음식, 전문, 곳, 피시, 칩스, 영국, 베이커리, 정도, 전부, 식당, 존재, 송리, 길, 시작, 서울, 미식, 요지, 거점, 영국, 음식점, 차만, 피시, 앤, 칩스, 셰퍼드, 파이, 영국, 오리지널, 음식, 티, 카, 마살라, 인도, 영향, 탄생, 영국, 일, 상식, 영국, 스코틀랜드, 맥주, 짜임, 구성, 영국, 식탁, 구현, 데, 음식, 자신, 색깔, 집, 시그, 메뉴인, 셰퍼드, 파이, 예, 양고기, 소등, 사용, 바탕, 것, 감자, 감자, 채전, 식감, 거기, 모차렐라, 치즈, 사워크림, 누구, 부담, 수, 음식, 탈바꿈, 이곳, 방문, 뒤, 영국, 음식, 맛, 편견, 사람, 내게, 식당, 그간, 영국, 음식, 변명, 피시, 앤, 칩스, 영국, 음식점, 생선, 감, 튀, 이웃, 나라, 감자튀김, 유태인, 주민, 생선, 튀김, 탄생, 요리, 산업, 혁명, 이후, 면직, 공장, 부산물, 면실유, 영국, 내, 유통, 노상, 생선, 감자, 기름, 피시, 앤, 칩스, 갸, 이때, 본격, 인기, 시작, 차, 세계, 대전, 직후, 배급제, 식료품, 제한, 때, 식당, 수급, 감자, 사용, 피시, 칩스, 메뉴, 음식, 전파, 영국, 음식, 이, 음식, 차만, 다에, 피시, 앤, 칩스, 역시, 대표, 메뉴, 중, 하나, 와인, 반죽, 대, 구, 살, 웨지, 감자, 폴레, 소스, 샐러드, 공기층, 튀김, 맛, 대구, 살, 듯, 자연, 조화, 생선, 튀김, 묘미, 내심, 몰트, 비니, 거, 기대, 폴레, 소스, 궁합, 피시, 앤, 칩스, 갸, 낮, 막, 스코틀랜드, 테넌트, 위스키, 맥주, 여름, 겨울, 맥주, 사시사철, 몰트위스키, 오크, 숙성, 오크, 향, 위스키, 향, 맥주, 풍미, 수, 온도, 센스, 애피타이저, 단호박, 수프, 기대, 기억, 체인점, 신의주, 찹쌀, 순대, 순댓국, 곳, 지금, 바둑이, 방울, 줄, 속초, 소방, 울리, 사나이, 건, 뚜껑, 형아, 누나, 아들, 천국, 소방, 울, 자신, 소개, 가게, 구조, 특이, 반, 반, 테이블, 찌, 남녀, 커플, 팀, 테이블, 남녀, 커플, 팀, 찌, 커플, 중, 여자, 분, 냉장고, 반찬, 이것저것, 사장, 제사, 자기, 손, 사장, 자기, 여기, 극화, 무적, 뚜껑, 사장, 도치, 알탕, 소자, 원, 도루묵, 구이, 소자, 원, 추가, 사장, 자기, 양미리, 서비스, 김치, 도치, 알탕, 별미, 중, 별미, 첨, 생선, 김치찌개, 숙소, 친구, 생각, 도치, 살코기, 도치, 아라이, 김치, 내, 입, 안, 노벨, 화학, 도루묵, 양미리, 대가리, 제, 맛, 알배기, 크리미, 알, 입, 탐욕, 거, 사장, 자기, 가게, 유명, 거, 수, 운명, 걸요, 특별, 기대, 실망, 수, 장점, 양념, 오징어, 가격, 대비, 단점, 반찬, 머리카락, 번, 번, 위생, 팁, 줄, 일행, 중, 명, 서자, 대패, 삼, 겹, 건, 가격, 대비, 편, 오징어, 팬, 비교, 때, 차이, 부추, 리필, 직원, 날, 가능, 날, 반찬, 미역, 냉채, 당근, 빙초산, 것, 생각, 침, 레몬, 머리카락, 번, 정도, 판, 한입, 교체, 때, 양, 인분, 당황, 양념, 만, 갈만, 편, 최고, 곱창, 집, 프랜차이즈, 빵집, 수, 독특, 빵, 엄마, 루프, 탑, 맛집, 커피, 요새, 초밥, 덕분, 초밥, 집, 저, 기준, 서울대, 입구, 낙성대, 녹두거리, 기준, 연어, 초밥, 은행, 굴, 초밥, 때, 김창일, 회, 회로, 때, 니, 모둠, 초밥, 때, 초, 밥, 초밥, 종류, 중, 하나, 별로, 종류, 보통, 저가, 모둠, 초밥, 종류, 여기, 밸런스, 회, 편, 특별, 토핑, 편, 대신, 밥, 간, 편, 분위기, 교수, 정도, 분위기, 양, 중국, 가게, 롱, 바오, 스타일, 육즙, 만두, 건, 두부, 외관, 기사, 식당, 주차, 것, 장점, 외관, 실내, 인테리어, 카페, 데이트, 곳, 기름, 활용, 색, 만, 옆, 방문, 공간, 힘, 집, 밥, 정성, 건강, 끼, 수, 생선, 양, 반찬, 주인, 내외분, 친절, 집, 근처, 떡볶이, 때, 떡볶이, 수, 전, 단골, 집, 최근, 법정, 소송, 문, 영업, 재개, 전, 대비, 가격, 것, 점, 친절, 최악, 맛, 집, 고기, 서비스, 전체, 마음, 가격, 대비, 밑반찬, 쏘, 쏘, 존, 맛, 탱, 여기, 내, 인생, 파스타, 맛집, 고양, 맛집, 이케아, 이케아, 레스토랑, 일종, 관광, 코스, 곳, 추억, 미트볼, 칸, 타인, 분위기, 가격, 맛, 듯, 식당, 가족, 나, 분위기, 아이, 장소, 사장, 친절, 설명, 감사, 마음, 냉면, 낙지, 밥, 군만두, 군만두, 다음, 냉면, 낙지, 밥, 둘, 이, 냉면, 만두, 낙지, 밥, 것, 술, 입맛, 이름, 봉밀주, 사랑, 봉밀주, 가격, 이탈리아, 스타일, 음식, 코스, 수, 호주, 브런치, 맛, 거, 경리, 길, 베네딕트, 프렌치토스트, 커피, 수, 곳, 거, 여름, 수박, 케이크, 호주, 수, 래밍턴, 수, 아메리카노, 마음, 서양, 주택, 내부, 속, 분위기, 인테리어, 친구, 연인, 양식집, 생각, 음식, 명, 중, 명, 음식, 곳, 리소토, 로제, 파스타, 피자, 외관, 곳, 음식, 요리, 일, 층, 아주머님, 호객, 행위, 서울, 가격, 물고기, 수, 월, 중순, 광어, 숭어, 등, 만, 원, 거래, 만, 원, 가지, 저희, 층, 가게, 직원, 얘기, 회, 손질, 주문, 회도, 손질, 밑반찬, 기분, 포장, 텐데, 제, 것, 케이크, 사람, 서비스, 게, 음식점, 전체, 맛, 속, 명장, 베이커리, 다양, 커피, 라인업, 블링, 블링, 힙, 해요, 예약, 거, 맛, 집, 콘서트, 티켓, 매진, 분, 만, 달, 예약, 완료, 예약, 성공, 맛, 이유, 수, 가격, 퀄리티, 오마, 카세, 수, 곳, 여기, 거, 영대, 카페, 브라우니, 음료, 와플, 빙수, 딸기, 철, 딸기, 메뉴, 치즈케이크, 딸기, 메뉴, 치즈케이크, 라테, 바닐라, 셰이크, 위, 필라델피아, 치즈케이크, 바닐라, 셰이크, 치즈, 맛, 건, 바, 세, 치즈, 맛, 치즈케이크, 빙수, 추천, 빙수, 재료, 재료, 맛, 구성비, 명, 명, 반찬, 양, 명, 반, 이상, 중요, 손, 거, 진수성찬, 특별, 맛, 배, 게, 집, 시대, 거, 고기, 전체, 갈비, 피자, 가격, 대비, 파스타, 추천, 집, 근처, 가족, 식사, 때, 데, 때, 기억, 사장, 음식, 재료, 느낌, 분위기, 여기, 면, 대화, 거, 스테이크, 크림소스, 파스타, 어니언, 수프, 가격, 합리, 맛, 최고, 이, 완, 탕면, 새우만두, 거, 우육, 탕, 면, 바로우, 동파육, 사장, 혼자, 가든, 둘, 친절, 감사, 건강, 기대, 건강, 음료, 단호박, 스무디, 크롬, 옐로, 최고, 걸로, 음료, 주문, 연잎, 차, 유과, 서비스, 원, 가격, 인사동, 편, 근처, 갈만, 곳, 추천, 직원, 대체, 친절, 낙지, 낙지볶음, 전체, 가격, 몸, 보양, 생각, 구성비, 빵, 배신, 떡볶이, 김, 말, 대박, 김, 말, 이름, 크기, 맛, 일품, 여의도, 떡볶이, 땅, 길, 땐, 여기, 팔, 선, 중식, 예의, 산맥, 가격대, 품, 합리, 메뉴, 구성, 수, 탕수육, 불도장, 정주영, 회장, 메뉴, 맛, 일품, 생선, 요리, 추천, 샌드위치, 맛, 번, 것, 개인, 번, 구성비, 굿, 베리, 굿, 만, 근처, 햄버거, 여기, 고고, 리뷰, 구성비, 맥, 정도, 동의, 감자튀김, 평균, 벗, 햄버거, 겉면, 포장지, 외, 안, 햄버거, 포장지, 이거, 불편, 거기, 치즈, 근처, 여기, 햄버거, 디저트, 맛, 집, 배, 커피, 정도, 가격대, 대회, 컵, 종이컵, 사용, 점, 성, 주말, 저녁때, 근무자, 셋, 커피, 신맛, 시기, 다음, 쓴맛, 커피, 디저트, 리뷰, 설렁탕, 육수, 카페, 내부, 안락, 가격, 구성비, 시간, 가게, 안, 비교, 학교, 근처, 나, 크래프트, 비어, 취급, 게, 가격대, 돈가스, 고기, 듯, 떡볶이, 최고, 봉인, 집, 집, 떡볶이, 적, 사장, 맛, 원조, 것, 생각, 매장, 점심, 시, 분, 대기, 맛, 구성비, 친구, 곳, 웨이팅, 분, 황리, 길, 대기실, 자극, 밥, 맛, 감태, 주먹밥, 메뉴, 데, 갈비찜, 여긴, 점, 방문, 포장, 파파, 존스, 피자, 완전, 미국식, 피자, 토마토소스, 짠맛, 나, 토핑, 치즈, 피자, 때, 종업원, 주인, 불친절, 종업원, 아줌마, 소란, 맛, 쏘, 쏘, 기분, 유쾌, 것, 만큼, 특별, 방문, 거, 기대, 실망, 동네, 냄새, 곳, 기회, 포장, 집, 숯불, 향, 기름기, 껍질, 살, 발굴, 안, 누룽지, 밥, 대추, 인삼, 풍미, 무에, 열무, 콜라, 서비스, 모자람, 방문, 정도, 오리, 훈제, 만족, 편, 호텔, 안, 카페, 겸, 레스토랑, 와인, 수, 스테이크, 가족, 호텔, 아이, 경우, 절반, 문제, 분위기, 만족, 치즈, 떡볶이, 만족, 차, 종류, 디저트, 소시지, 사리, 거, 생각, 운, 웨이팅, 소고기, 돼지고기, 불판, 사용, 아무거, 막, 분위기, 곳, 인테리어, 감성, 공간, 연인, 분위기, 캐주얼, 느낌, 북경, 오리, 백, 사, 육, 갈비, 보이차, 꽃새우, 튀김, 나머지, 입맛, 쏘, 오이김치, 절임, 것, 상권, 가격, 접객, 맛, 카페, 등심, 꼬치, 편, 웨이팅, 거짓말, 보람, 집, 은평, 친구, 곳, 은평구, 카페, 콘텐츠, 적, 내, 핫, 플레이스, 자리, 데, 사람, 평일, 정도, 주말, 자리, 수, 것, 초록, 초록, 나무, 무, 것, 걸, 너리, 사람, 힐링, 것, 카페, 이름, 뤽상부르, 뤽상부르, 카페, 와플, 처음, 비주얼, 기대, 맛, 비주얼, 카페, 맛, 곳, 가격, 맛, 가게, 공간, 좌석, 꺼, 때문, 회가, 신선, 여기, 옆, 포장마차, 멸치, 국수, 고것, 날, 이벤트, 리뷰, 서비스, 일, 필요, 번, 번, 가족, 이용, 취향, 수, 이건, 맛, 여기, 생각, 명, 명, 이상, 초창기, 잇, 디, 반값, 비스티, 버거, 세트, 위치, 쪽, 여기, 한강진, 쪽, 카페, 버스, 김, 코스, 크기, 기대, 의외, 빵, 패티, 생각, 감자튀김, 속, 편, 겉, 부분, 한데, 속, 호불호, 중, 인테리어, 안경, 남자, 사장, 바, 불친절, 기분, 다음, 장사, 로제, 파스타, 불고기, 피자, 베네딕트, 만이, 여, 자몽, 이드, 자몽, 이드, 직원, 서비스, 무엇, 음식, 강남, 참치, 무한리필, 무한대, 참치, 수, 맛, 집, 담소, 담, 소원, 한정식, 집, 폐백, 이바지, 음식, 하객, 도시락, 출장, 뷔페, 등, 전문, 반찬, 가게, 담소, 주엽, 오랫동안, 운영, 갈비, 제주, 때, 방문, 빈티지, 팝콘, 팝콘, 집, 분, 팝콘, 녀석, 옥수수, 알, 열, 것, 만큼, 정도, 생각, 이상, 날, 팝콘, 건, 길거리, 붕어빵, 가게, 발견, 만큼, 즐거움, 유니폼, 바텐더, 젠틀, 응대, 위스키, 베이스, 칵테일, 공간, 단골, 건, 목만, 힐, 정도, 육즙, 제로, 통후추, 향, 패티, 야채, 인스턴트, 점, 특색, 빵, 조화, 최악, 버거, 집, 여기, 천, 원, 양상추, 조각, 건, 생각, 단점, 사람, 어디, 사람, 테이블, 벨, 주문, 주문, 거, 전, 세팅, 물, 수저, 가락국수, 숟가락, 수저, 줌, 품, 온도, 조절, 말, 옆, 너, 품, 말, 암, 웨이팅, 오더, 주방, 공간, 음악, 커피, 빵, 것, 완벽, 분당, 뷔페, 중, 듯, 프리미엄, 어묵, 원조, 집, 꼬치, 집, 냄새, 오랜만, 꼬치, 호남, 식, 닭고기, 맛, 최고, 튀김옷, 맛, 만, 곳, 문어, 닭, 해, 천, 탕, 명, 수, 군데, 이곳, 간, 해산물, 시기, 손질, 칼국수, 면, 번, 근처, 카페, 답례, 떡, 걸, 떡집, 구매, 거, 가족, 인생, 흑임자, 인절미, 마약, 절미, 가격, 천, 원, 천, 원, 관광지, 부족, 시절, 손, 욕, 카페, 관광, 목, 통영시, 통영, 젊은이, 필수, 코스, 얘깃거리, 사람, 밑천, 사람, 리뷰, 욕쟁이, 미, 국밥, 커피, 홍대, 카페, 비, 부추, 고기, 초기, 여자, 사장, 지, 불친절, 오랜만, 고등학교, 동창, 년, 만, 약속, 고등학교, 전국구, 수, 계륵, 강남역, 나, 불모지, 강남역, 맛, 집, 보물찾기, 수준, 그날, 플, 그때, 눈, 곳, 어메이징, 타이, 평점, 맛, 어메이징, 기대, 친구, 태국, 악, 개인, 팬, 쿠, 킹, 클래스, 경험, 바탕, 음식, 분석, 여긴, 미각, 저, 인, 세트, 음식, 가지, 음식, 샘플러, 음식, 조금, 것, 진리, 인, 세트, 음식, 양, 똠얌, 한국인, 입맛, 느낌, 토마토, 맛, 특유, 신맛, 입, 문자, 수, 것, 팟, 퐁, 커리, 전, 방콕, 익스프레스, 푸, 팟, 퐁, 커리, 여기, 마지막, 팟타이, 면, 고기, 타이, 밀크티, 밀크티, 악기, 저, 타이, 밀크티, 밀크, 물맛, 전체, 맛, 대표, 후회, 곳, 양념, 맛, 갈비, 갈비, 사이드, 반찬, 식사, 국밥, 갈비탕, 냉면, 등, 비추, 존, 맛, 탱, 가지, 요리, 둘, 이, 배, 태국, 요리, 향신료, 낭랑, 풍미, 합리, 가격, 제공, 골목, 강자, 기대, 메뉴, 팟, 퐁, 가리, 소프트, 쉘, 크랩, 튀김, 위, 계란, 스크램블, 태국, 카레, 것, 내, 개인, 생각, 향신료, 곳, 것, 경고, 예상, 것, 맛, 매력, 짝꿍, 메뉴, 베스트, 나, 개인, 기대, 파스카, 파오, 느낌, 자극, 고기볶음, 밥, 계란, 반숙, 조합, 사랑, 로켓, 튀김옷, 빵가루, 생각, 빵, 냄새, 밀가루, 냄새, 느낌, 전반, 만족, 식사, 가게, 체계, 운영, 인상, 오픈, 키친, 운영, 친절, 방문, 의사, 친구, 추천, 가본, 집, 사람, 사진, 초밥, 비주얼, 해동, 참치, 쌈, 블로그, 후기, 게, 정답, 초밥, 사람, 것, 빛깔, 천연, 재료, 육즙, 고기, 조화, 최상록, 남방, 마시, 리뷰, 요즘, 스타, 핫, 집안, 것, 리뷰, 시간, 날씨, 날씨, 저, 베리, 사과, 크림, 녹차, 팥, 시식, 녹차, 초코, 베리, 크림치즈, 피스, 걸, 메뉴, 실패, 베리, 사과, 유명, 베리, 크림치즈, 베리, 크랜, 베리, 신맛, 크림치즈, 녹차, 크림, 팥, 녹차, 맛, 크림, 팥, 팥, 고당, 저, 팥, 팥, 고당, 녹차, 초코, 후회, 조각, 데, 조각, 단맛, 시럽, 단맛, 고급, 초코, 단맛, 이걸, 왕, 후회, 홍대, 길, 의사, 땐, 녹차, 초코, 거, 생각, 외, 단호박, 크림치즈, 찹쌀떡, 이것, 제, 것, 중, 요게, 최고, 요구르트, 크림치즈, 맛, 베이글, 필라델피아, 크림치즈, 맛, 거어, 양, 거대, 맛, 배달, 가게, 사람, 타이밍, 수, 주차, 공간, 차, 경우, 어디, 지, 생각, 운전자, 시간, 평일, 시, 브레이크, 타임, 식사, 곳, 결과, 문, 곳, 걸로, 평일, 근처, 확인, 후, 방문, 것, 것, 여기저기, 화덕, 피자, 이곳, 곳, 가게, 내부, 화덕, 피자, 모습, 수, 피자, 파스타, 고민, 리소토, 종류, 둘, 배, 피자, 샐러드, 피자, 도우, 살라미, 치즈, 조합, 기대, 샐러드, 굿, 밖, 기억, 옥, 느낌, 물병, 다음, 방문, 콜라, 피자, 먹물, 크림, 파스타, 만족, 망고, 여긴, 스튜, 맛집, 사계절, 스튜, 수, 곳, 카페, 랄로, 아바타, 속, 촉, 모두, 집, 스튜, 해장, 스튜, 강추, 흑임자, 초코, 카스텔라, 인절미, 흑임자, 크림, 시즈, 널, 시그, 처, 캐머, 마일, 티, 수, 조합, 초코, 카스텔라, 인절미, 크림, 초코, 카스텔라, 인절미, 흑임자, 크림, 조합, 시그, 처, 여름, 음료, 분위기, 기분, 방문, 옥, 개조, 공간, 운치, 저녁, 무렵, 분위기, 낮, 사람, 만석, 경우, 밤, 사람, 갬, 성과, 분위기, 집, 분위기, 곳, 사람, 음식, 맛, 이번, 소개, 곳, 익선동, 힙, 한, 갬, 성, 맥주, 짐, 안주, 소개, 페퍼로니, 피자, 메뉴, 개, 메뉴판, 메뉴, 명, 도통, 크래프트, 페퍼로니, 피자, 향, 피자, 페퍼로니, 치즈, 향, 도우, 파파, 존스, 정도, 도우, 생각, 도우, 효모, 냄새, 식감, 빵, 식감, 구현, 생각, 피자, 스쿨, 생각, 것, 술집, 것, 생각, 메뉴, 생각, 검색, 도통, 메뉴, 명, 메뉴, 접시, 위, 감자튀김, 나초, 소시지, 소시지, 위, 고수, 듯, 향, 토마토소스, 치즈, 샤워, 크림, 플, 레이팅, 제, 고수, 우육, 때, 고수, 스타일, 여기, 뭔가, 토마토소스, 은근, 맛, 맥주, 소스, 소시지, 스팸, 맛, 감자튀김, 나초, 토마토소스, 기, 고수, 번, 맥주, 지인, 것, 가지, 대체, 단맛, 편, 맛, 가미, 향, 가미, 듯, 맥주, 특징, 것, 제, 맥린, 쓴맛, 소수, 향, 정도, 일반, 시, 중, 맥주, 내부, 인테리어, 말, 수, 전통, 것, 현대, 것, 결합, 히프, 갬, 성, 분, 만, 인테리어, 내부, 원두막, 듯, 느낌, 표현, 공간, 천정, 유리, 마감, 날씨, 술, 기분, 수, 것, 날씨, 익선동, 사람, 안주, 맥주, 한잔, 건, 가요, 면발, 윤기, 탄성, 데, 맛, 가격, 대비, 음식, 대신, 양, 느낌, 음식, 통닭, 수, 한방, 통닭, 떡, 사리, 추가, 떡볶이, 빠, 크림, 파스타, 걸, 집, 건, 스피, 니치, 샐러드, 여름, 판매, 메뉴, 피자, 도우, 치즈, 맛, 그, 파스타, 중간, 맛, 기복, 편, 삼식, 무침, 만족, 거, 초밥, 날, 곳, 밥알, 스탈, 어묵, 탕, 매장, 간판, 영업, 곳, 프렌치, 셰프, 분, 요리, 요리, 퀄리티, 상당, 기본, 물, 기분, 온도, 재스민, 향, 남, 감각, 거제, 산, 굴, 사계절, 제공, 가격, 맛, 최고, 와인, 셀렉, 션, 양, 테마, 메뉴, 가격, 부담, 주차, 대, 가능, 예약, 필수, 공릉동, 서울, 과학, 기술, 대학교, 정문, 인근, 위치, 시간, 콩나물국, 밥, 전문점, 규모, 이곳, 본점, 약간, 분점, 듯, 이곳, 일반, 음식점, 차별, 농약, 한약, 콩나물, 사용, 나름, 자부심, 콩나물국, 밥, 전문점, 파전, 굴, 국밥, 굴전, 수육, 비빔밥, 등, 해장, 음식, 메뉴, 아침, 식사, 반주, 저녁, 식사, 말, 시간, 취향, 식사, 가능, 것, 장점, 곳, 국밥, 수란, 계란, 스타일, 맛, 반찬, 가격, 합리, 곳, 오래간만, 햄버거, 여기, 굴, 대게, 회랑, 가격대, 분위기, 로열, 만, 곳, 초코, 바닐라, 가격, 맛, 십, 년, 맛, 집, 광화문, 직장, 집, 짱, 암, 가격대, 파스타, 집, 아주머니, 친절, 맛, 안암, 양식, 밥, 약, 집, 프랜차이즈, 양식, 프랜차이즈, 집, 느낌, 여기, 식당, 종업원, 손님, 평가, 아줌마, 가지, 맛, 국물, 집, 오징어, 가격, 천, 원, 인, 천, 원, 오징어, 찌개, 수, 진경수, 쉐프, 운영, 고급, 맛, 메뉴, 편, 걸, 음식, 연구, 고민, 만족, 식사, 수, 애정, 곳, 안심, 스테이크, 갈비, 파스타, 추천, 추천, 드림, 미방, 지점, 중, 여기, 지인, 소개, 맛, 집, 번창, 물회, 맛, 케, 라시스, 맛, 성게, 밥, 물회, 거, 집, 입, 이상, 맛, 남음, 칼제비, 듯, 주인장, 친절, 간, 셈, 칼제비, 김치, 구반포역, 아파트, 상가, 위치, 피자, 집, 학창, 시절, 피자헛, 생일, 파티, 기억, 동네, 핫, 플레이스, 느낌, 갈릭, 스페셜, 레귤러, 사이즈, 치즈, 오븐, 스파게티, 치즈, 브레드, 크레이지, 소스, 주문, 치즈, 브레드, 소스, 피자, 조각, 치즈, 브레드, 소스, 특이, 소스, 줄, 피자, 피자, 소스, 피자, 포장, 구반포역, 곳, 것, 구성비, 동네, 맛, 집, 정도, 듯, 전, 실망, 번, 메뉴, 전, 것, 주말, 서빙, 직원, 친절, 와이프, 대게, 수, 속초, 집, 가격, 것, 퀄리티, 대게, 공급, 곳, 곁, 자체, 승부, 곳, 중앙, 시장, 안, 위치, 총각네, 대게, 면, 만족, 서울, 러시아, 대게, 킬로, 선, 만, 원, 정도, 곳, 만, 원, 정도, 것, 가격, 차원, 차이, 여기, 킬로, 만, 원, 만, 원, 직판, 장서, 놈, 살수, 등급, 이, 등급, 아래, 서울, 만, 원, 수, 애, 킬로, 만, 원, 노량진, 가락시장, 곳, 이, 수, 퀄리티, 차이, 값, 값, 등등, 듯, 킬로, 만, 원, 거, 하나, 보단, 중, 거, 개, 킬로, 정도, 중량, 킬로, 둘, 거, 만, 원, 할인, 볶음밥, 홍게, 면도, 제공, 만, 원, 딜, 배, 수, 것, 결론, 셋, 배부, 양, 음식, 걸, 결국, 분, 마리, 킬로, 볶음밥, 홍, 예정, 인, 만, 원, 가격, 대게, 것, 가격, 합리, 생각, 주문, 모시조개, 조개탕, 이게, 흘, 륭, 별도, 조미료, 조개, 마늘, 국물, 조개, 퀄리티, 식감, 국물, 전, 소주, 병, 이후, 대게, 제철, 살, 맛, 게, 대게, 내장, 맛, 풍미, 게살, 내장, 소스, 입안, 세상, 행복, 내장, 걸로, 볶음밥, 이거, 양, 스테인리스, 밥그릇, 개, 이상, 듯, 양, 속초, 오징어, 젓갈, 입, 안, 감칠맛, 폭발, 홍게, 면도, 국물, 게, 홍게, 다리, 살, 배, 게, 국물, 맛, 임팩트, 제철, 대게, 게딱지, 볶음밥, 홍, 라면, 조합, 별도, 설명, 필요, 것, 퍼펙트, 맛, 조합, 둘, 이, 방문, 킬로, 정도, 볶음밥, 듯, 양, 분, 수, 부족, 부분, 중앙, 시장, 군것질, 수, 저녁, 시, 클로징, 시간, 시간, 아쉬움, 속초, 대게, 집, 것, 만족, 월, 코스, 요리, 오픈, 예약, 인, 만, 원, 코스, 전액, 입금, 예약, 완료, 시그, 처, 요리, 비프, 웰링턴, 통, 조리, 요리, 노, 쇼, 곤란, 것, 식당, 자체, 쁘띠, 정돈, 듯, 분위기, 덕, 프랑스, 정식, 콘셉트, 해산물, 자불, 레, 스타, 쿠스쿠스, 요리, 설명, 애피타이저, 기분, 식사, 시작, 비프, 웰링턴, 소고기, 안심, 비프, 웰링턴, 버섯, 향, 전, 번, 꽁다리, 부분, 테이블, 레몬, 머랭, 타르트, 타르트, 이건, 레몬, 자체, 자기, 주장, 타르트, 인위, 맛, 머랭, 신맛, 코스, 배, 찰, 비프, 웰링턴, 고기, 데, 거, 와인, 망원, 거리, 기분, 하루, 탕수육, 존, 양장피, 맛, 여기, 근처, 밥, 카페, 테이블, 간격, 면학, 분위기, 스패니시, 라테, 아메리, 쏘, 쏘, 케이크, 납품, 것, 완전, 근방, 층, 건물, 나름, 대형, 중형, 카페, 갈만, 것, 뷔페, 질, 신선도, 입, 엄동설한, 삼, 십, 분, 대기, 착석, 음식, 시간, 식사, 번, 시간, 저, 경우, 도착, 때, 대기, 번, 번, 곳, 개인, 돈, 시간, 속, 런, 메뉴, 음료수, 샹, 수플레, 오믈렛, 추천, 명란, 오믈렛, 샹, 얼마, 후, 주방, 쪽, 남, 직원, 누가, 낮술, 말, 원, 낮술, 낮술, 최고, 대화, 거, 저, 분, 걸로, 대화, 거, 낮술, 참고, 손, 대화, 누가, 손, 식, 말, 거, 클레임, 만, 일, 음식, 비주얼, 입정, 때, 후론, 느끼, 샐러드, 샹, 참고, 샹, 콜라, 듯, 샐러드, 직원, 듯, 사람, 앞, 음식, 게, 사람, 옆, 음식, 번, 정돈, 수, 맛, 거, 거, 분, 듯, 가격대, 편, 손님, 배려, 난로, 것, 의자, 쪽, 개선, 필요, 거, 오리지널, 베이컨, 어니언, 햄버그스테이크, 평일, 사람, 시간, 웨이팅, 수, 저녁, 시간, 주말, 웨이팅, 것, 가게, 편, 음식, 맛, 저, 만족, 번, 것, 음식점, 등심, 안심, 전문가, 뭐, 추천, 수, 분, 둘, 우리, 집, 근처, 맛, 집, 거기, 분위기, 맛, 거, 건, 편, 고기, 제주, 흑, 돼지, 산만, 사용, 손, 돈가스, 기본, 메뉴, 수프, 눈, 수프, 크림, 수프, 셀프, 바, 준비, 수, 게, 돈가스, 양, 하나, 배, 돈가스, 위, 일식, 소스, 음식, 층, 한옥마을, 경치, 미국식, 와플, 치킨, 샌드위치, 번이, 플, 대체, 기본, 오리지널, 홀리, 치킨, 치킨, 가슴, 부위, 게, 안심살, 사용, 듯, 최근, 카두, 들, 인상, 이곳, 치킨, 감흥, 오리지널, 코, 슬로, 약간, 소스, 가미, 오리지널, 맛, 와플, 이유, 버거, 치킨, 샌드, 위치, 번, 와플, 대체, 건데, 조화, 와플, 단점, 메이플, 시럽, 베이컨, 계란, 맛, 홀리, 치킨, 특색, 맛, 개인, 입맛, 와플, 이유, 와플, 브리오, 번, 대체, 리치, 버거, 완성, 각도, 맵, 단잔, 밸런스, 스리, 차, 맵, 비중, 짝, 생각, 혼자, 근방, 뭐, 인, 스타, 거, 일산, 카페, 아메리카노, 산미, 커피, 여기, 비엔나, 녹차, 구름, 비, 나, 거, 이거, 것, 여긴, 사장, 친절, 평일, 사람, 채광, 곳, 테이블, 간격, 얘기, 거, 여기, 양지, 미, 피, 스피츠, 등등, 거, 혼자, 밥, 눈치, 곳, 발견, 내, 건, 된장찌개, 맛, 중독, 배달, 주문, 양, 주문, 듯, 이제, 회, 국수, 중, 회의, 양, 구성비, 최고, 듯, 품질, 초밥, 수, 곳, 추천, 굳, 굳, 개인, 명소, 생각, 한강, 앞, 분위기, 올, 때, 풍경, 데이트, 코스, 강추, 가격, 건, 비밀, 맛, 음식, 맛, 식사, 수준, 체인점, 맛, 느낌, 주문, 분, 이, 등, 메뉴, 테이블, 곤란, 걸, 저희, 음료, 앞, 메뉴, 뒤, 메뉴, 나중, 음료, 깍두기, 단무지, 실온, 듯, 상태, 청결, 의자, 천도, 음식물, 이것저것, 세척, 것, 음식, 맛, 청결, 상태, 신경, 것, 조리, 양념, 소스, 건, 전화, 주문, 번, 리뷰, 불만, 코로나, 지속, 때문, 택배, 적, 방식, 수, 강구, 제, 보통, 맛, 맛, 건지, 맛, 건지, 일반, 체인점, 닭강정, 느낌, 맛, 변화, 혼자, 운영, 체인, 생각, 주문, 맛, 때문, 이번, 맛, 여기, 연희동, 밥, 차, 곳, 평점, 방문, 카페, 스콘, 세트, 푸딩, 세트, 하나, 주문, 홍차, 다즐링, 주빌리, 선택, 다즐링, 크리스틴, 다트, 너, 홍차, 샴페인, 퍼스트, 플래시, 함량, 편, 다즐링, 향, 맛, 반면, 주빌리, 다즐링, 주년, 기념, 홍차, 홍차, 운남, 홍차, 느낌, 나, 중국차, 향, 맛, 어딘가, 맛, 때문, 기대, 느낌, 스콘, 기대, 끝, 단맛, 크림, 잼, 궁합, 클로티드, 크림, 딸기, 잼, 느낌, 스콘, 푸딩, 스콘, 것, 제, 식감, 푸딩, 낮, 방문, 홍차, 스콘, 저녁, 와인, 방문, 것, 추천, 와인, 방문, 것, 분위기, 맛, 마음, 파스타, 양, 식전, 음식, 눈물, 남, 떡, 백배, 듯, 매운맛, 맛, 끝, 대화, 곳, 손님, 밀푀유, 음료, 맛, 상동, 위치, 소갈비, 전문점, 소갈, 빗살, 소안, 창살, 된장찌개, 편, 전체, 고기, 양, 기본, 인원수, 인분, 수, 것, 고기, 새벽, 시, 영업, 식사, 회식, 것, 열, 번, 듯, 가격, 부담, 끼, 곳, 한잔, 막걸리, 겨울, 메뉴, 사이드, 근처, 학생, 추천, 돼지고기, 누린내, 손, 저, 악취, 수준, 냄새, 절대, 처음, 리뷰, 정도, 순대, 국밥, 거리, 부대, 전골, 거, 여행, 끄리, 집, 추천, 분위기, 음식, 부산, 사이, 여행, 느낌, 곳, 메뉴, 것, 방문, 서울역, 안, 접근성, 체인, 만큼, 맛, 대신, 사람, 겨울, 맛, 탄현역, 제니스, 상가, 파스타, 집, 포장, 할인, 설렁탕, 포장, 담, 본가, 탕, 도전, 지하가, 분위기, 콜라오, 뱅, 초코, 단동, 곳, 후회, 커피, 맛, 경치, 인테리어, 빵, 전망대, 만석, 시, 안내, 걸음, 수, 텐데, 부분, 부시, 사이즈, 양, 점, 위치, 것, 정도, 점심, 곳, 전시회, 점심, 주변, 곳, 게, 마음, 곳, 다음, 주변, 계획, 다사, 미미, 짬뽕, 번, 식당, 누가, 미미, 짬뽕, 블로그, 초계, 국수비빔, 국수, 입맛, 때, 번, 배추, 게, 특이, 구성비, 맛, 분위기, 방문, 사, 익산, 초등, 학교, 근처, 위치, 카페, 기대, 공간, 편, 딸기, 케이크, 비주얼, 맛, 편, 의외, 플랫, 화이트, 정도, 하몽, 인, 곳, 주인, 주문, 때문, 거, 수, 오랜만, 명동, 교자, 만두피, 보통, 국수, 독특, 제, 취향, 제, 취향, 전, 해물, 칼국수, 지인, 가게, 글, 막창, 식감, 기본, 반찬, 쌈, 마늘, 양파, 절임, 부추, 등, 게, 그게, 것, 소금, 맛, 양념, 소스, 데, 양념, 소금, 맛, 양념, 소스, 연구, 필요, 것, 맛, 인분, 원, 맛, 돈, 생각, 곳, 커피, 맛, 라테, 친구, 블, 렌, 딩, 커피, 허브, 향, 커피, 기름, 맛, 티, 커피, 인테리어, 입구, 비밀, 정원, 크루아상, 일반, 크루아상, 소금, 맛, 스콘, 스콘, 뿐, 바브라, 카다, 멈, 치킨, 샌드위치, 크루아상, 샌드위치, 주문, 카카오, 마들렌, 서비스, 만, 원, 중, 후반, 도미, 호텔, 동생, 브런치, 방문, 미세먼지, 날, 내, 건지, 빵, 샌드위치, 안, 닭, 가슴살, 발사믹, 버섯, 토마토, 로메인, 소스, 버섯, 간, 크루아상, 샌드위치, 안, 힘, 토마토, 로메인, 크림치즈, 맛, 둘, 공통점, 프레시, 건강, 맛, 것, 여기, 생각, 맛, 자극, 게, 건강, 바브라, 카다, 멈, 생강, 느낌, 나, 빵, 멈, 생강, 향, 생강, 나, 빵, 카다, 멈, 조화, 서비스, 카카오, 마들렌, 카카오, 씹, 식감, 나, 여기, 정도, 줄, 빵, 다음, 빵, 동생, 호텔, 순삭, 다음, 날, 체크아웃, 팀, 포기, 빵집, 바게트, 샌드위치, 시국, 시국, 레스토랑, 방문, 조심, 데, 룸, 준비, 식사, 서울, 파인, 이닝, 방문, 곳, 번, 방문, 여긴, 번, 방문, 음식, 퀄리티, 말, 것, 코스, 스테이크, 양, 품, 메뉴, 주심, 직원, 서비스, 때, 레스토랑, 분위기, 뷰, 점, 만점, 하나, 만, 점, 이상, 건, 평가, 점, 이상, 오너, 역량, 생각, 때, 기분, 식사, 수, 곳, 고기, 가격, 곳, 정육점, 가격, 고기, 토리, 탄, 소유, 라멘, 소유, 라멘, 토리, 아빠, 이탄, 하루, 판매, 그릇, 한정, 국물, 맛, 시간, 수원, 합정, 정도, 토리, 빵, 국물, 때, 수, 추가, 공짜, 공짜, 면, 추가, 차슈, 장, 닭고기, 차슈, 일반, 돼지고기, 차슈, 가지, 종류, 인생, 라멘, 집, 버터, 프레첼, 올리브, 아바타, 최고, 날, 집, 길, 버터, 게, 단점, 듯, 여름, 이거, 마성, 맛, 예전, 원, 중화, 계란, 프라이, 추가, 수, 할아버지, 힘, 간짜장, 잡채밥, 추가, 불가, 층, 키즈, 존, 층, 노기스, 존, 김수로왕, 릉, 앞, 경관, 커피, 맛, 평타, 이상, 김, 방문, 의향, 돌담길, 커피, 수, 손, 쿠키, 라테, 산미, 최고, 집, 전, 번, 땐, 촬영, 평가, 글, 이번, 촬영, 각오, 코로나, 전, 대기, 약간, 대기, 이해, 수, 정도, 이건, 주관, 생각, 수, 막국수, 집, 특유, 향, 집, 독특, 막국수, 향, 오랜만, 전, 것, 메밀, 동치미, 주전자, 맛깔, 막국수, 번, 곳, 면수, 마무리, 어복쟁반, 복어, 줄, 야채, 고기, 만두, 육전, 굿, 개, 예전, 곳, 최근, 친절, 카운터, 직원, 조폭, 오랜만, 가족, 기분, 음식, 맛, 쌀밥, 고추장, 불고기, 만, 간장, 불고기, 돼지, 비린내, 자미, 조립, 비지찌개, 겉물, 돌보, 잡채, 설탕, 거, 맛, 친절, 손, 경상북도, 닭, 요리, 닭, 마늘, 닭, 마늘, 맛, 파스타, 마찬가지, 내용물, 양념, 맛, 육수, 편, 이곳, 과일, 청, 에이드, 레전드, 경치, 너모, 기대, 계획, 고집, 오전, 일정, 고집, 기대, 사전, 계획, 아래, 우럭, 조림, 수저, 수, 집, 곳, 곳, 행복, 구성비, 모둠, 만, 원, 만, 사, 천, 원, 선, 생선, 질, 번화가, 가격, 장사, 집, 실장, 주방, 이모님, 친절, 가게, 저녁, 시간, 자리, 바, 일기, 봉피, 본점, 접근, 평양냉면, 차별, 점, 본점, 서비스, 인상, 년, 능라, 년, 진미, 평양냉면, 때, 머릿속, 평양냉면, 이미지, 극도, 물냉면, 편견, 곳, 봉피, 양, 생각, 점, 롯데, 백화점, 본점, 지하, 푸드, 코트, 봉피, 양, 시작, 것, 백화점, 일, 뭔가, 백화점, 푸드, 코트, 맛, 것, 평양냉면, 나, 기대치, 마이너스, 당시, 생각, 국물, 면, 입, 뒤, 일, 평양냉면, 평양, 지옥, 것, 그때, 먹, 킷, 리스트, 순위, 봉피, 본점, 것, 방문, 봉피, 본점, 우래, 옥, 본점, 느낌, 건물, 주차장, 회전율, 어머님, 평일, 점심, 때, 웨이팅, 난, 자리, 수, 평양냉면, 평양냉면, 점, 중, 하나, 롯데, 백화점, 본점, 지하, 평양냉면, 점, 위, 고명, 은근, 감미, 육수, 곡향, 면, 내, 롯, 백, 본점, 지하, 게, 처음, 머리, 미화, 건지, 평양냉면, 집, 본점, 생각, 임팩트, 건지, 내, 개인, 평양냉면, 자체, 차이점, 수렴, 서비스, 제육, 본점, 본점, 평양냉면, 하나, 주문, 뿐, 본점, 서비스, 제육, 점, 서빙, 제육, 자체, 메밀, 향, 면, 뒤, 국물, 입, 곡향, 육향, 입, 감탄, 후식, 차, 백화점, 수, 서비스, 홍초, 차인, 것, 오미자차, 맛, 입안, 느낌, 리뷰, 들, 수정과, 매실차, 등, 차, 계절, 후식, 차, 것, 끝, 인상, 서비스, 것, 여기, 필요, 교통, 편, 방, 역, 때, 지하철, 길, 번, 길치, 내, 평양냉면, 초심자, 것, 수, 평양냉면, 자체, 차이, 앞, 평양냉면, 때, 지하, 푸드, 코트, 방문, 평양냉면, 주문, 것, 평양, 고수, 봉피, 양, 분점, 집, 곳, 일반, 장충동, 계열, 의정부, 계열, 일반, 느낌, 평양냉면, 나, 초등학생, 입맛, 수, 말, 점심, 봉피, 평양냉면, 갈치조림, 맛, 아래, 개, 분, 이해, 호불호, 저희, 불친절, 마음, 네이버, 피드백, 리뷰, 모양, 네이버, 평점, 게, 통유리, 직원, 친절, 고기, 맛, 분위기, 고기, 직원, 사빙, 직원, 분주, 테이블, 의자, 식기, 분위기, 이질감, 고기, 맛, 수준급, 코스, 고기, 추가, 것, 바닷가, 쪽, 법, 메뉴, 서울, 복판, 곰장어, 실, 전, 소주, 천, 원, 가격, 치곤, 게장, 양, 반찬, 가짓수, 개, 닭갈비, 직원, 이쪽, 학창, 시절, 저, 때, 추억, 맛, 돈암동, 번, 자리, 이동, 곳, 고기, 특별, 맛, 건, 돈가스, 맛, 번, 곳, 회전율, 가격, 구성비, 곳, 맛, 근처, 금왕, 박, 사, 온달, 정도, 듯, 안주용, 돈가스, 전기, 구이, 치킨, 서비스, 아르바이트, 보통, 분, 거, 서비스, 친절, 불편, 점, 방송, 추천, 맛, 집, 기대, 것, 소금구이, 데리야키, 막창, 빵, 밀크티, 해돋이, 때, 곳, 직원, 친절, 층, 층, 뷰, 음료, 가격, 은근, 만, 곳, 맛, 그럭, 럭, 빵, 거, 별, 방점, 저, 주말, 아침, 방문, 자리, 전, 저녁, 시간, 방문, 때, 자리, 메뉴, 콜드, 브루, 오트, 라테, 추천, 스타, 벅스, 별, 방점, 매장, 인테리어, 빵, 종류, 주말, 아침, 브런치, 것, 방문, 사, 무조건, 퓨전, 치킨, 가짓수, 다양, 뭘, 정도, 가족, 인원, 저녁, 뭘, 세이브, 지, 거리, 도봉구, 동네, 함박, 방문, 시, 전, 집, 주차, 상황, 버스, 거리, 시간, 도착, 때, 좌석, 상황, 전화, 재료, 주문, 마감, 거리, 시, 주문, 마감, 청천벽력, 소식, 맘, 번, 전활, 주문, 마감, 거리, 얘기, 외침, 플, 곳, 데, 곳, 지난번, 카이, 선동, 걸음, 오늘, 재료, 발걸음, 하이쿠, 근처, 중식, 미미, 구성비, 이자카야, 도, 가족, 원, 돈가스, 탕수육, 중, 뭐, 탕수육, 중식, 미미, 블로그, 등, 부정, 리뷰, 이자카야, 설득, 탕수육, 최근, 닉, 닉, 리뷰, 탕수육, 인상, 여기, 미식, 반점, 전활, 여긴, 시, 라스트, 오더, 버스, 출발, 나중, 위치, 지난번, 방문, 건대, 쪽, 빠오, 즈푸, 뒤, 편의, 도로, 위치, 가게, 뭔가, 프랜차이즈, 느낌, 외관, 외관, 탕수육, 비주얼, 궁금증, 유발, 번, 방문, 가게, 테이블, 여유, 좌석, 여길, 미식, 탕수육, 소자, 식사, 면류, 미식, 볶음밥, 둘, 중, 주문, 블로그, 등, 때, 미식, 볶음밥, 소스, 짬뽕, 국물, 걸, 가족, 인원, 설득, 짜장면, 대신, 미식, 볶음밥, 미식, 볶음밥, 수, 대로, 물, 양배추, 오이, 피클, 단무지, 양배추, 오이, 피클, 청양, 고추, 단무지, 미식, 탕수육, 소자, 양, 주문, 건가, 이게, 소자, 곳, 중자, 사이즈, 미식, 볶음밥, 걸, 중, 미식, 볶음밥, 이것, 양, 양, 혜자, 가족, 인원, 둘, 탕수육, 소자, 사이즈, 속, 후회, 비주얼, 내, 신락, 원, 것, 느낌, 신락, 원, 것, 일반, 탕수육, 모양새, 고기, 깍, 둑, 공, 모양, 튀김, 모양, 게, 기대, 마음, 한입, 무니, 신락, 원, 것, 신락, 원, 것, 공기층, 튀김옷, 고기, 사이, 공간, 살코기, 건, 방식, 신락, 원, 것, 건데, 찹쌀, 튀김옷, 이, 타입, 느낌, 탕수육, 소스, 레몬, 향, 맛, 신락, 원, 것, 점도, 전체, 인상, 신락, 원, 문파, 완성도, 단계, 아래, 사제, 실력, 미식, 볶음밥, 감칠맛, 아메리칸, 차이니스, 레스토랑, 볶음밥, 느낌, 난, 볶음밥, 소스, 걸, 맛, 느낌, 짬뽕, 국물, 맛, 후추, 향, 감칠맛, 국물, 맛, 스푼, 해산물, 집, 양, 볶음밥, 맛, 포장, 부탁, 미식, 탕수육, 계산, 옆, 테이블, 단체, 손, 미식, 탕수, 육, 대, 사진, 일반, 그릇, 나무, 도마, 느낌, 블록, 위, 양, 전체, 홀, 리, 차우, 프랜차이즈, 중, 식당, 느낌, 신락, 원, 특별, 공력, 튀김, 방법, 양, 혜자, 집, 간, 편, 손, 만, 가격, 편, 인기, 줄, 방문, 누가, 건대, 쪽, 중식, 소개, 소개, 때, 욕, 만, 집, 닭고기, 부추, 식감, 가격, 크기, 안, 라볶이, 맛, 떡, 식감, 이것, 양, 고대, 앞, 때, 추천, 개인, 밥, 냄새, 것, 분, 거, 때, 기분, 직원, 절도, 무엇, 주차, 가능, 천, 먹자골목, 내, 고깃집, 어려움, 직원, 고기, 사람, 대화, 기본, 찬, 계란찜, 제공, 기본, 구이, 외, 가격, 부담, 불고기, 메뉴, 추천, 일본, 라멘, 여기, 미슐랭, 소바, 집, 대기, 줄, 소바, 가쓰오부시, 뭔가, 독특, 향, 사람, 가족, 단위, 종류, 양념, 고기, 된장찌개, 가격, 수원, 갈비, 정도, 감수, 거, 수원, 대, 갈비, 중, 곳, 여기, 추천, 가게, 위, 간판, 바닥, 표시, 음료, 인테리어, 프렌치토스트, 사람, 하나, 품, 돈가스, 밥, 샐러드, 필요, 정식, 돈, 거, 사보텐, 정돈, 듯, 맛, 만, 원, 일식, 돈가스, 집, 차이, 가격, 배, 리코타, 치즈, 샌드위치, 빵, 야채, 내용, 해독, 주스, 짱, 냉장고, 하루, 물, 분리, 게, 요즘, 핫, 루프, 탑, 방가, 홍대, 편, 모닝, 빵, 만, 것, 닭, 누구, 인, 닭, 가능, 방송, 전, 유명, 곳, 웨이팅, 방훈, 전기, 구이, 통닭, 맛, 특별, 육즙, 포장, 주심, 안, 찰밥, 평일, 밤, 시, 웨이팅, 평일, 저녁, 포장, 분, 웨이팅, 전통, 옛날, 빵, 빵, 모양, 편, 메뉴, 빵, 만, 층고, 분리, 듯, 공간, 주차, 편리, 시간, 선택, 실패, 시간, 쿠치, 라멘, 교자, 미니, 돈, 순서, 음식, 테이블, 서빙, 가라, 쿠치, 라멘, 멘, 분, 교자, 미니, 돈, 문의, 준비, 미안, 사과, 마디, 카운터, 저, 서비스, 맛, 경험, 곳, 기분, 식사, 자리, 설빙, 미만, 잡, 크래프트, 맥주, 수, 편안, 곳, 혼, 술, 친구, 장소, 준비, 맥주, 리스트, 편, 공간, 탭, 관리, 위생, 곳, 친절, 점, 갈비찜, 냉면, 전문점, 인, 갈비찜, 소, 만두, 개, 주문, 갈비찜, 공깃밥, 별도, 내, 입맛, 양념, 느낌, 낙지, 젓갈, 무장아찌, 무채, 별도, 필요, 뼈, 갈비찜, 입, 만두, 칼국수, 집, 그것, 맛, 주차장, 편, 부담, 수, 방문, 사, 문어, 맛, 양, 점, 천, 원, 지랑, 양배추, 초고추장, 무침, 입맛, 체인점, 듯, 내부, 인테리어, 매력, 곳, 인기, 과도, 마요네즈, 케첩, 조화, 불량, 식품, 바게트, 안, 속, 재료, 소스, 소스, 마요네즈, 케첩, 범벅, 소스, 조화, 불량, 식품, 맛, 때, 학교, 앞, 양배추, 토스트, 생각, 것, 추억, 소환, 맛, 이태원역, 가격, 합리, 곳, 예전, 땐, 다음, 방문, 그때, 감동, 면, 요리, 맛, 건가, 만두, 면, 가격, 대비, 양, 여기, 만두, 거, 추천, 존, 소리, 팬티, 사랑, 인기, 비스마르크, 햄, 계란, 렁, 꿀, 렁, 향도, 바질, 잎, 맛, 밸런스, 피자, 포르, 크레마, 파스타, 이건, 버섯, 파스타, 면, 면, 상태, 맛, 쏘, 향, 나, 비스마르크, 피자, 버섯, 인, 버섯, 파스타, 정작, 향, 뭔가, 상대, 풍미, 부족, 다음, 번, 인, 피자, 파스타, 패스, 맥주, 제, 뭘, 사진, 속, 맥주, 청량, 꿀맛, 피자, 렁, 꿀, 렁, 맛, 방문, 횟수, 분위기, 스타, 감성, 프라이, 음악, 크기, 음료, 말차, 라테, 추천, 화장실, 외부, 책, 키, 화장실, 작업, 콘센트, 작업, 공부, 사람, 눈치, 대표, 곳, 디저트, 세트, 가격, 게, 마음, 딸기, 셰이크, 가격, 원, 가격, 맛, 맛, 구성비, 대비, 줌, 테, 별점, 점, 관광지, 음식점, 판매, 가격, 창, 수, 점, 인정, 밥, 판매, 검색, 후, 근처, 밥, 집, 별점, 정식, 원, 가격, 부실, 반찬, 메뉴, 무엇, 가격, 말, 가격, 말, 수, 퀄리티, 맛, 손, 아이러, 다이어트, 인, 파이, 카페, 내부, 뭔가, 옛날, 카페, 분위기, 오랜만, 카페, 저, 이, 원, 아이스, 아메리카노, 원, 주문, 파이, 가격, 듯, 참고, 주문, 직원, 오랜만, 디저트, 초콜릿, 얼, 그레이, 향임, 굿, 굿, 얼, 그레이, 향, 초코, 파이, 맛, 파이, 홀, 게, 함정, 집, 하루, 하나, 정도, 시간, 웨이팅, 맛, 편, 가격, 대비, 서비스, 때문, 방문, 곳, 드라이브, 곳, 주차장, 그릴, 밥, 카페, 커피, 카페, 루프, 탑, 야외, 정원, 반려, 견도, 가능, 노기스, 존, 노, 반려, 견, 존, 힐링, 수, 공간, 분리, 년, 홍대, 것, 가게, 맛, 일정, 국밥, 곱빼기, 주문, 고기, 웨이팅, 식탁, 건, 소독약, 때문, 독액, 파인, 이닝, 급, 업장, 요즘, 서비스, 음식, 면, 호텔, 가격, 감안, 때, 경쟁력, 의문, 사진, 청산, 전복, 훈연, 회, 날, 베스트, 해물, 맛, 냉면, 육수, 별미, 육전, 가격, 맛, 구성비, 집, 제주도, 맛, 가격, 집, 여기, 듯, 회, 머리, 머리, 곳, 것, 위생, 가게, 수저통, 고춧가루, 고춧가루, 주문, 순서, 사람, 음식, 콩국수, 시판, 콩, 국물, 면, 맛, 만두, 시판, 맛, 칼국수, 추천, 서비스, 접객, 위, 생도, 미슐랭, 의문, 시, 장통, 밥, 코, 입, 일, 비추, 딸기, 맥주, 색, 맛, 스콘, 맥주, 줄, 치즈, 바게트, 크로켓, 근처, 친구, 치즈, 바게트, 비주얼, 대왕, 치토스, 줄, 완전, 비비드, 색, 치즈, 바게트, 치즈, 맛, 단맛, 중독, 맛, 엄마, 크로켓, 이름, 크로켓, 돈가스, 딩, 크로켓, 속, 돈가스, 야채, 케첩, 옛날, 시장, 야채, 크로켓, 돈가스, 만족, 참치, 집, 직장, 알탕, 점심, 식당, 알탕, 알, 하나, 대구탕, 반, 생선, 라면, 알, 사이드, 알, 돌솥, 밥, 데, 근, 낙지, 오징어, 게, 회덮밥, 냉동, 얼, 회, 양, 이정식, 근, 드라이브, 겸, 곳, 생각, 생각, 끗, 국물, 국물, 인상, 보쌈, 곳, 배달, 시간, 수, 불친절, 안구, 카운터, 분, 기분, 직원, 베이커리, 예술, 가미, 수, 장인, 경주, 핫, 플, 양, 점, 두부전골, 도토리묵, 파전, 남자, 직원, 분위기, 음식, 다음, 방문, 기본, 카레, 라이스, 편, 바나나, 망고, 입맛, 편, 식사, 시간, 사람, 곳, 육전, 면, 최고, 육전, 육수, 건더기, 파인데, 국물, 날, 것, 여자, 셋, 때, 양, 기함, 오만, 원, 정도, 띠, 때, 회도, 신선, 깃, 존, 맛, 뱅, 여, 곱창, 만, 편, 분위기, 술, 방문, 농민, 백암, 왕, 순대, 때, 정식, 고민, 정식, 점심, 시간, 웨이팅, 아주머니, 테이블, 회전, 스킬, 십, 분, 이상, 해장, 최고, 순댓국, 사진, 위주, 감상, 하남, 스타, 필드, 입점, 광화문, 소바, 낙지, 요리, 집, 미진, 쇼핑, 위장, 일행, 속, 국물, 속, 메밀국수, 미진, 답변, 어딘가, 답장, 너, 기운, 자리, 메뉴, 고민, 전, 맞은편, 사람, 메뉴, 판, 메밀, 소바, 비빔, 메밀, 추가, 주문, 무엇, 판, 메밀, 덩어리, 소바, 육수, 차림, 육수, 무, 파도, 김, 육수, 기분, 육수, 번, 비빔, 메밀, 아우, 양, 비빔, 초장, 베이스, 것, 국물, 오이, 평소, 비빔냉면, 식초, 미진, 비빔, 메밀, 식초, 편, 메밀, 육수, 테이블, 비빔, 입, 육수, 입, 천국, 코스, 요리, 요리, 온도, 때, 듯, 때, 실망, 방식, 요리, 대부분, 사람, 테이블, 간격, 저녁, 시간, 정용진, 부회장, 야심, 조선호텔, 독자, 부티크, 호텔, 스케이프, 호텔, 중식, 파워, 맛집, 블로거, 정용진, 부회장, 스타, 등장, 팻, 투, 바, 호텔, 지배인, 홍콩, 모던, 차이니스, 레스토랑, 협업, 광둥, 중국, 요리, 메뉴, 팔, 레드, 신, 베이징, 덕, 딤섬, 꿀, 소스, 차슈, 바비큐, 수, 예약, 필수, 현재, 좌석, 예약, 당일, 방문, 손, 것, 친구, 날, 예약, 거절, 베이징, 덕, 차슈, 바비큐, 일, 전, 메뉴, 예약, 당일, 주문, 가능, 저녁, 딤섬, 가지, 종류, 주문, 가능, 메추, 리알, 샤, 신라, 소, 야포, 가우, 오더, 메추, 리알, 샤, 마이가, 인상, 딤섬, 맛, 집, 광동, 식, 탕수육, 맛, 양, 어향, 날치, 볶음밥, 양, 양, 여성, 명, 인상, 분위기, 맛, 업그레이드, 기대, 직원, 교육, 화이트, 와인, 주문, 주문, 우왕좌왕, 한편, 바, 라운지, 펫, 존위, 건, 중식, 당과, 차이점, 중식, 조선호텔, 홍연, 어른, 입맛, 순두부, 천, 원, 생각, 건, 나, 인테리어, 디저트, 곳, 커피, 맛, 스콘, 레, 케이크, 디저트, 종류, 식감, 맛, 맛, 존, 미미, 정도, 양배추, 레몬, 소금, 돈가스, 다음, 카레, 평일, 점심, 오픈, 뒤, 분, 뒤, 사람, 걸, 인기, 듯, 혜화, 밥, 일, 방문, 브라우니, 스콘, 여기, 거, 최고, 가격, 이유, 존, 맛, 분위기, 서비스, 혼자, 가격, 대비, 수, 곳, 둘, 가지, 맛, 수, 곳, 셋, 이상, 것, 수, 곳, 쌀국수, 치즈, 조, 쌀국수, 듯, 국물, 느낌, 국물, 고기, 고수, 고수, 소스, 개, 라임, 고수, 말씀, 쌀국수, 것, 부분, 우리, 치즈, 조, 커버, 피스, 가격, 수, 쌀국수, 걸, 쌀국수, 음식, 하나, 느낌, 때, 맛, 집, 대신, 조, 재료, 소진, 저녁, 수, 점, 주의, 여럿, 개, 고기, 가격, 장난, 아침, 줄, 걸, 바게트, 안, 음식, 것, 식당, 이름, 특이, 참고, 제, 맛, 대게, 처음, 끝, 수, 게, 매력, 속살, 사당동, 방배, 가람, 김밥, 구성비, 동네, 김밥, 요즘, 김밥, 하나, 전국구, 유명, 방배, 김밥, 김밥, 하나, 김밥, 장르, 발돋움, 것, 김밥, 우리, 삶, 대목, 방배, 김밥, 유부, 고기, 대신, 김밥, 속, 사용, 김밥, 통칭, 스타일, 김밥, 곳, 원조, 방배, 김밥, 리뷰, 방배, 가람, 김밥, 이, 대, 앞, 방배, 유부, 김밥, 등, 방배, 가람, 김밥, 관악, 시장, 위치, 김밥, 집, 연세, 할머님, 운영, 예전, 생활, 달인, 출연, 가게, 옥정, 김밥, 테이크아웃, 전문점, 할머니, 분, 김밥, 판매, 여기, 김밥, 클래식, 김밥, 특징, 밥, 크기, 원, 수준, 가격, 년, 이상, 업력, 것, 유부, 독특, 재료, 사용, 유니크, 가지, 기본, 김밥, 유부, 김밥, 참치, 진미, 햄, 우엉, 가지, 김밥, 추가, 주문, 전체, 맛, 짠맛, 자연, 단맛, 우세, 김밥, 재료, 자극, 평온, 맛, 킥, 대신, 유부, 조림, 끝, 맛, 집, 김밥, 최고, 포인트, 유부, 이외, 주문, 맛, 예상, 김밥, 유부, 김밥, 기본, 거기, 재료, 김밥, 이름, 재료, 맛, 유부, 김밥, 멜, 김밥, 가지, 가지, 느낌, 아쉬움, 지역, 원, 수, 김밥, 집, 것, 동네, 일, 점심, 시간, 테이크아웃, 손님, 앞, 번창, 김밥, 단면, 사진, 유, 뷰, 햄, 우엉, 진미, 참치, 순서, 오픈, 시간, 새우, 재료, 소진, 개인, 소바, 곳, 건, 소바, 양고기, 냄새, 수, 참숯, 숯불, 향, 고기, 바지락, 칼국수, 보리밥, 양, 바지락, 국물, 면, 발, 개, 깃, 인, 가능, 월요, 휴무, 남당리, 천북, 오천항, 깐돌, 굴, 수산, 신토불이, 횟집, 수산, 무등산, 바람, 겸, 층, 자리, 손, 이해, 고등어, 비린내, 작렬, 방어, 회, 기대, 실망, 가족, 방문, 음식, 만남, 냉면, 우수, 친절, 기대, 아이, 떡갈비, 직원, 친절, 음식, 분위기, 코스, 요리, 하나하나, 정도, 공휴일, 방문, 사람, 야채, 빵, 단팥빵, 분, 듯, 저, 방, 필요, 분, 안서, 야채, 빵, 단팥빵, 개, 존, 맛, 야채, 빵, 물, 양배추, 허영, 빵, 특별, 찹쌀떡, 찰떡, 왕, 추천, 존, 맛, 탱, 찹쌀떡, 단팥빵, 야채, 빵, 외, 특별, 메리트, 야채, 빵, 웨이팅, 가능, 추천, 방문, 주변, 추천, 브런치, 레스토랑, 분위기, 음식, 건강, 병아리, 콩, 완자, 각종, 야채, 소스, 수, 토르티야, 팔라펠, 플레이트, 건강, 맛, 이게, 게, 건강, 끼, 강아지, 가게, 안, 구성비, 최고, 맛, 상당, 초밥, 집, 조금, 건대, 주민, 사랑, 데, 이유, 식당, 고기, 고기, 양념, 웨이팅, 곳, 사람, 생각, 밑반찬, 사장, 분과, 직원, 친절, 성산, 일출봉, 뷰러, 제주, 니, 불법, 리뷰, 미각, 촉각, 청각, 시각, 후각, 자극, 카페, 드라이브, 양주, 접근성, 주차, 공간, 초보, 수, 층, 인테리어, 카페, 느낌, 층, 소리, 인테리어, 성경, 사막, 뜻, 미드, 바르, 영감, 사막, 표현, 바닥, 벽면, 커튼, 등, 전체, 분위기, 사막, 연상, 정면, 통유리, 논밭, 하늘, 인상, 노을, 것, 봄여름, 가을, 겨울, 사계절, 것, 사계절, 느낌, 층, 층, 계단, 향, 나, 이센스, 스틱, 친절, 향, 설명, 수유실, 마련, 것, 아기, 자, 방석, 화장실, 사장, 하나, 열, 신경, 흔적, 케이크, 마카롱, 등, 디저트, 맛, 종류, 다양, 디저트, 매장, 커피, 종류, 다양, 트, 러플, 라테, 인상, 커피, 이라니, 뱅, 쇼, 밀크티, 보, 틀, 판매, 다음, 기회, 구매, 사람, 평일, 곳, 장어, 집, 장어, 친절, 하트, 시그널, 집, 사람, 동행인, 소리, 대화, 순대, 국밥, 안, 대파, 부추, 내, 소화, 날씨, 국물, 때, 곳, 홍콩식, 딤섬, 크리스털, 제이드, 추천, 샤오, 롱, 빠오, 저, 칼국수, 만두, 상세, 평가, 리뷰, 블로그, 글, 아래, 링크, 구경, 서비스, 맛, 가격, 편, 시간, 웨이팅, 돈가스, 첨, 양, 거, 생각, 돈가스, 맛, 맛, 웨이팅, 예상외, 반찬, 요일, 것, 게, 때, 추천, 맛, 집, 기대, 시간, 거, 여, 재방, 사, 예전, 때, 뉴욕, 스탈, 피자, 입맛, 페퍼로니, 브루클린, 추천, 내, 플, 것, 특이, 어른, 식사, 추천, 사람, 집, 이유, 화이트로, 구랑, 카르파초, 독보, 번, 요고, 번, 때, 행복, 문어, 감자, 항정살, 리소토, 스페인, 문어, 밥, 문어, 밥, 한국, 해물탕, 밥, 맛, 셋, 뭔가, 맛, 디저트, 존, 맛, 탱, 대낮, 육지, 친구, 밥, 끼, 때, 여기, 처음, 때, 감동, 다음, 방문, 처음, 방문, 때, 감동, 곳, 방문, 여기, 고기, 육즙, 고추냉이, 갈치속젓, 명란젓, 등, 것, 고사리, 깻잎, 반찬, 것, 존, 기본, 김치찌개, 자극, 안, 고기, 갈치속젓, 비빔밥, 국수, 서버, 분, 맛, 차이, 요즘, 원격, 줄, 시간, 방문, 기대, 실망, 법, 곳, 초밥, 집, 초밥, 법, 고추냉이, 그게, 가게, 테라스, 안, 공간, 좌석, 편, 법원, 앞, 곳, 맛깔, 주인, 갖가지, 음식, 메인, 한정식, 마블링, 고기, 가격, 년, 간, 법조, 인사, 발, 게, 차, 뭔가, 디저트, 저, 기분, 일본, 년, 꼬치, 경력, 사장, 운영, 집, 올해, 여기, 다섯, 번, 듯, 여기, 꼬치, 한입, 눈, 경험, 겁니다, 꼬치, 맛, 기본, 양념, 무엇, 식감, 고기, 육즙, 볼살, 돈, 설아, 경우, 식감, 무엇, 버섯, 채소, 표고버섯, 기본, 안주, 둘, 개, 것, 서빙, 분, 친절, 일본, 친절, 집, 요즘, 코로나, 매장, 개, 중, 하나, 운영, 최근, 코로나, 때문, 포장, 락, 희, 돈, 최고, 아이스크림, 때, 메뉴, 번, 수, 새우, 필라, 프레, 새우, 깜놀, 곳, 흡족, 자리, 좌석, 오랫동안, 디저트, 요리, 부분, 조, 곳, 점, 분위기, 메뉴, 맛, 스타일, 음식, 음식, 음식, 대부분, 수, 듯, 누군가, 추천, 만, 이탈리아, 음식점, 듯, 이곳, 후, 정문, 후, 뒤, 계단, 그곳, 애프터, 계단, 후, 이곳, 문, 어디, 이때, 당황, 엘리베이터, 곳, 버튼, 문, 것, 당황, 실내, 편, 불편, 수, 맛, 편안, 포기, 조, 분위기, 음식, 파스타, 주문, 리소토, 하나, 안티, 파스토, 하나, 비프, 카프, 파스타, 램, 카르보나라, 금태, 리조, 주문, 비프, 카르파초, 소고기, 재료, 그것, 스태프, 분, 일종, 퍼포먼스, 완성, 칼, 모습, 김밥, 연상, 막, 올리, 소스, 요거, 콜라, 호두, 등, 재료, 다양, 가지, 맛, 램, 파스타, 생면, 양고기, 육향, 취향, 저격, 생면, 파스타, 이번, 주문, 메뉴, 중, 애프터, 메뉴, 추천, 화이트, 고기, 양고기, 느낌, 기대, 감자, 요리, 새우, 뇨키, 걸, 배제, 생각, 감자, 소스, 감자, 끼, 식감, 감자, 텐데, 파스타, 느낌, 오일, 파스타, 나, 볼거리, 제공, 편, 맛, 메뉴, 내, 간, 걸, 걸까, 카르보나라, 파르, 미지, 아노, 치즈, 설명, 두말, 메뉴, 치즈, 향, 면, 생각, 것, 임팩트, 금태, 리조, 메뉴, 쌀알, 식감, 편, 금태, 맛, 금태, 재료, 때문, 메뉴, 와인, 카베르네, 쇼, 비뇽, 알, 음식, 맛, 풍미, 메뉴, 메뉴, 만족도, 기대, 음식, 것, 어디, 입맛, 취향, 차이, 듯, 점, 포함, 불편, 부분, 분위기, 편안, 식사, 자리, 특색, 음식, 추천, 부족, 곳, 시작, 꽃, 삼, 겹, 끝, 똥, 목살, 뭘, 곳, 마지막, 냉면, 이거, 방송, 거, 코엑스, 중국, 음식, 여기, 이영자, 추천, 전체, 음식, 내부, 분위기, 건물, 방문, 곳, 재료, 면, 굵기, 선택, 수, 데, 반숙, 계란, 반, 개, 여기, 개, 돈, 국물, 일품, 맛, 차슈, 숙주, 데이트, 코스, 혼, 밥, 추천, 밥, 테이블, 밀크티, 아포가토, 분위기, 직원, 친절, 간, 고기, 종로, 기준, 가격, 순댓국, 가격, 편, 원, 값, 근처, 일, 집, 게, 분위기, 입맛, 것, 베이글, 아침, 오픈, 대역, 마더, 린, 베이글, 역, 저, 베이글, 선드라, 크림치즈, 블루베리, 베이글, 크랜, 베리, 주문, 베이글, 빵, 식감, 저, 크림치즈, 샌드, 거, 크림치즈, 자체, 저, 빵, 크림치즈, 둘, 사람, 추천, 이용, 예약, 만족, 게살, 날, 치알, 소스, 파스타, 후, 맛, 집, 추, 번, 소문, 중앙, 장, 남편, 위생, 신경, 듯, 아웃, 저, 다섯, 개, 시락, 국, 열, 가지, 반찬, 주민, 맞은편, 아저씨, 김, 가루, 부추, 시락, 국, 거, 통영, 이곳, 일, 순위, 타워, 스카이라운지, 듯, 가격, 차이, 얼마, 노기스, 토요일, 낮, 때, 손, 종업원, 서비스, 효율, 듯, 주문, 맥주, 맛, 위주, 자본, 위력, 맥주, 수, 강서구, 화곡동, 맛, 집, 발산역, 인근, 순, 맛, 집, 분, 말씀, 들깨, 미역국, 일품, 나중, 볶음밥, 집, 간, 아귀찜, 양, 맛, 집, 추천, 회전, 초밥, 스타, 필드, 미사, 스타, 필드, 하남, 메가, 박스, 아래, 푸드, 코트, 군데, 줄, 신세계, 지하, 덴쓰, 시, 개, 지점, 방문, 맛, 차이, 불닭, 소스, 연어, 나, 규, 강력, 추천, 점심, 시간, 배달, 주문, 회전, 시, 아쉬움, 랑산, 밥상, 거, 하나, 맛, 점심, 시간, 기대, 팟타이, 맛, 무엇, 봉, 골, 레, 원, 가격, 맛, 단골, 등, 극, 기대, 망, 김치찌개, 맛, 집, 밑반찬, 비빔밥, 김, 가루, 신촌, 맛, 집, 가게, 남자, 친구, 밥, 때, 여기, 고랭지, 노래, 주인, 아저씨, 친절, 테이블, 수, 분위기, 노래, 커피, 맛, 주차, 근처, 화장실, 외부, 방문, 브루스, 케, 타, 감동, 맛, 크림, 리소토, 환상, 자체, 파스타, 맛, 담, 메뉴, 대신, 리소토, 듯, 리뷰, 최악, 모두, 정도, 웨이팅, 만, 집, 테이블, 손, 밖, 전체, 테이블, 번, 종업원, 입장, 그게, 손, 밖, 데, 백발노인, 분, 육회, 비빔밥, 화명동, 맛, 집, 명가, 밀면, 사람, 만두, 전, 육수, 거, 춘천시, 토담, 숯불, 닭갈비, 처음, 최강, 토담, 숯불, 닭갈비, 인, 소금, 간장, 고추장, 공깃밥, 개, 막국수, 소금, 움, 닭구이, 가지, 중, 것, 간장, 간장, 맛, 수, 맛, 고추장, 편, 특색, 이게, 막국수, 때, 것, 막국수, 최고, 공, 밥, 막국수, 개, 닭갈비, 마술사, 간장, 고추장, 판, 타요, 고추장, 탑, 서울, 시간, 차, 만, 가치, 번, 강원도, 여행, 시, 생각, 서울, 경험, 것, 분위기, 커피, 와인, 흥미, 공부, 레스토랑, 맛, 편, 서비스, 토르티야, 음료수, 무한리필, 여기, 인기, 이해, 시간, 것, 약과, 맛, 크림, 가락국수, 특이, 맛, 자체, 감흥, 전반, 양, 서빙, 사람, 부족, 점심, 시간, 인터넷, 기대치, 연어, 가마솥, 밥, 믹스, 프라이, 사진, 민물, 장어, 가마솥, 밥, 가지, 만족, 맛, 믹스, 프라이, 새우튀김, 개, 관자, 튀김, 개, 멘치, 까스, 개, 구성, 관자, 튀김, 멘치, 까스, 등분, 둘, 사이드, 하나, 튀김옷, 중, 관자, 튀김, 인상, 관자, 탱, 글, 계란, 샐러드, 타르타르, 소스, 것, 가마솥, 밥, 쌀알, 간, 수, 연어, 껍질, 불, 스모키, 향, 속, 민물, 장어, 친구, 거, 숟갈, 소금구이, 느낌, 야근, 친구, 힘, 말, 분위기, 끼, 추천, 예술, 전당, 근처, 게, 중, 구성비, 곳, 생선, 회, 수, 곳, 양, 주문, 재촉, 자리, 주문, 정도, 만족, 뼈, 해장국, 집, 근방, 맛, 집, 분위기, 만점, 커피, 카페, 장점, 분위기, 독서, 공부, 편지, 별거, 만큼, 분위기, 인테리어, 디자인, 외관, 신경, 친절, 서비스, 빵, 커피, 굿, 굿, 바닐라, 라테, 가격, 부근, 카페, 주차장, 단점, 생일, 런, 예약, 방문, 서비스, 맛, 인테리어, 분위기, 무엇, 하나, 중요, 건, 맛, 입, 안, 게, 거, 프라이빗, 룸, 공간, 데, 다음, 예약, 이용, 쵸지, 닷, 덕분, 최고, 생일, 여기, 철판, 닭갈비, 맛, 집, 디너, 오마, 카세, 재료, 한계, 객, 마음, 입, 실렌티, 끝, 야식, 예전, 가격, 라버, 원, 토핑, 실, 생크림, 부탁, 거, 소리, 아이스크림, 와플, 추천, 이용, 와플, 구, 냥, 추억, 식빵, 달인, 시, 분, 오픈, 한옥, 카페, 구석, 할머니, 댁, 듯, 사람, 분위기, 건, 커피, 라테, 맛, 편, 사진, 사람, 뭔가, 느낌, 기대, 에러, 주말, 사랑, 사람, 와인, 파이, 하나, 밤, 코끼리, 떡볶이, 서울, 가격, 떡볶이, 판교, 일, 알레그리아, 내부, 친구, 것, 구성비, 것, 프라이즈, 뷰, 부안, 변산반도, 서남쪽, 끝, 위치, 오션, 뷰, 카페, 진입로, 차, 것, 유의, 인테리어, 실내, 좌석, 바다, 쪽, 야외, 좌석, 배치, 커피, 맛, 개인, 취향, 유자, 맛, 조각, 케이크, 석양, 오션, 뷰, 차, 한잔, 곳, 웨이팅, 수, 추가, 주문, 걸로, 밑반찬, 셀프, 바, 에스, 채소, 등, 리필, 가능, 비빔, 막국수, 광릉, 옥, 점, 입맛, 분위기, 광릉, 옥집, 망고, 하이, 고기, 마블링, 감탄, 설빙, 어디, 맛, 프리미엄, 딸기, 빙수, 원, 옹, 아인, 슈페너, 아몬드, 몰카, 자바, 나, 핵, 인생, 커피, 집, 간판, 인생, 커피, 듯, 토요일, 시, 웨이팅, 분, 정도, 거, 의의, 휘핑크림, 수, 집, 크림, 거, 개인, 평상시, 슈페너, 여기, 슈페너, 크림, 거, 크림, 에어, 속, 크림, 쥬, 세염, 개취, 슈페너, 아몬드, 모카, 자바, 메뉴, 종류, 다양, 사이드, 수, 점, 양념, 맛, 신경, 정도, 전체, 메뉴, 맛, 구성, 바, 말, 일본, 대화, 뿐, 서비스, 부실, 팥, 앙금, 단풍, 모양, 빵, 속초, 중앙, 시장, 명물, 디, 라세, 느, 파크뷰, 개인, 곳, 생각, 카페, 거리, 강릉, 느낌, 카페, 파티, 나, 것, 뷰, 감성, 조목조목, 사진, 볼거리, 카페, 구리, 남양주, 최고, 부대찌개, 집, 친절, 기대, 동네, 중국집, 맛, 특별, 동네, 정도, 것, 마늘, 말, 번, 저번, 맛, 생각, 기대, 단호박, 오징어, 튀김, 가락국수, 멸치, 국물, 떡볶이, 관악, 쪽, 점수, 듯, 대한민국, 원조, 닭꼬치, 집, 판매, 개수, 베스트, 제품, 재료, 폭, 발, 인정, 데, 다섯, 명, 반응, 대파, 빵, 말차, 매머드, 소박, 모둠, 보쌈, 세트, 중, 명, 발사믹, 드레싱, 샐러드, 접시, 보쌈, 김치, 도토리묵, 홍어, 무침, 양, 비계, 고기, 간, 느낌, 살코기, 살코기, 부분, 홍어, 무침, 홍, 집, 무침, 맛, 회, 냉면, 집, 홍어, 무침, 맛, 개인, 초밥, 뒤, 해물, 파전, 칼국수, 죽, 둘, 원, 담, 아이, 인, 세트, 부대찌개, 주문, 시, 사리, 공짜, 밥, 돌솥, 밥, 주말, 입맛, 거, 맛, 자극, 국물, 아이, 찹쌀떡, 사요, 가게, 안, 사람, 포장, 사람, 떡볶이, 만두, 김, 말, 포장, 떡볶이, 튀김, 매장, 텐데, 숭의동, 거, 길, 차, 집, 다식, 튀김, 차, 때, 굳, 떡볶이, 대박, 듯, 담, 가게, 한약재, 냄새, 드리, 끼, 생각, 곳, 자극, 순수, 맛, 추구, 곳, 어르신, 곳, 오랜만, 밥, 밥, 추가, 전, 맛, 지금, 거립니다, 이곳, 음식, 식감, 전, 전반, 곳, 연남, 을지로, 분위기, 점심, 예약, 웨이팅, 시스템, 등, 점, 자, 입장, 불편, 골목, 안쪽, 사람, 편, 수, 가능, 입장, 버섯, 리소토, 주문, 집, 음식, 가격, 생각, 편, 분위기, 맛, 모두, 곳, 종류, 빵, 시간, 매장, 앞, 여기, 곳, 분위기, 해물, 쌀국수, 파인애플, 볶음밥, 오픈, 키친, 오랫동안, 줄, 정도, 인기, 맛, 최고, 정도, 수, 인분, 가격, 거기, 것, 원, 김치, 맛, 예전, 요즘, 중국, 김치, 맛, 서울, 곳, 이거, 하나, 약수, 스탠딩, 커피, 내, 생일날, 이태원, 신랑, 외식, 첨, 스패니시, 식당, 자리, 상태, 예약, 수, 종업원, 얘길, 어딜, 하나, 고심, 삼, 대, 천, 왕, 맥, 더프, 피자, 가게, 일반, 집, 개조, 듯, 계단, 층, 나름, 힙, 수, 이태원, 금요일, 저녁, 오랜만, 뭔가, 기분, 평소, 웨이팅, 미련, 편, 남편, 앞, 팀, 방황, 입장, 오랜만, 피자, 데, 방송, 대기, 상상, 메뉴, 초이스, 마르게리타, 하와이안, 피자, 치즈, 피자, 생맥, 조각, 조각, 둘, 이, 커팅, 조각, 사이, 정도, 가격, 생각, 테이블, 것, 남자, 게, 기대, 한입, 마르게리타, 맛, 기대, 탓, 뉴욕, 입맛, 이상, 걸까, 뉴욕, 스탈, 짬, 편, 걸, 토마토소스, 베이스, 이게, 듯, 미국, 사람, 거기, 스타일, 난, 여기, 일, 미국, 입맛, 일, 걸로, 피자, 도미, 장맛, 단골집, 때, 만족, 곳, 깐풍기, 라조기, 튀김, 볶음밥, 밥, 간, 추천, 메뉴, 짬뽕, 짜장면, 탕수육, 쟁반, 양, 사람, 수, 추천, 메뉴, 가지, 이곳, 메뉴, 전반, 퀄리티, 식, 재료, 걸, 듯, 오픈, 얼마, 정비, 느낌, 부족, 맛, 정확, 얘기, 중간, 걸음, 곳, 분위기, 음식, 가격, 만큼, 정도, 맛, 서비스, 매니저, 직원, 친절, 것, 매뉴얼, 서비스, 고객, 접대, 실수, 만, 것, 차례, 식사, 번, 경험, 점, 실망, 초원, 몽탄, 제, 최애, 고깃집, 개, 소고기, 몽탄, 돼지고기, 남영동, 몽탄, 이번, 등심, 주물, 럭, 대창, 우설, 브랜드, 메뉴, 하나, 하나, 제, 말, 고기, 유통, 업체, 거, 고깃집, 고기, 게, 고기, 거, 사이드, 맛, 집, 고깃집, 건데, 몽탄, 초원, 사이드, 어마, 무시, 내장, 술국, 내장, 무침, 마늘, 국수, 압권, 장탕, 집, 몽탄, 가격, 양도, 둘, 곳, 느낌, 가격, 살, 뼈, 예상, 소스, 소스, 덕분, 감자탕, 맛, 배, 느낌, 일본, 카레, 수, 씨네, 추천, 만, 거, 인사동, 골목길, 위치, 고깃집, 골목길, 것, 한옥, 분위기, 주말, 저녁, 시간, 방문, 웨이팅, 인사동, 맛, 집, 자리, 듯, 삼, 겹, 목살, 가브리, 살, 인분, 주문, 리뷰, 대로, 친절, 가브리, 살, 추천, 눈, 기름기, 데, 육즙, 킥, 겨자씨, 피클, 고기, 맛, 듯, 듯, 맛, 고기, 요거, 정도, 인분, 인분, 둘, 부족, 감, 기본, 비지찌개, 밥, 배, 뻥, 밥, 공기, 밥맛, 비빔, 막국수, 듯, 채소, 고기, 부족, 거, 서비스, 분위기, 데이트, 손님, 대접, 듯, 외국인, 손님, 팀, 고기, 냄새, 연기, 불편, 식사, 이벤트, 가스트, 세컨드, 키친, 데, 가스트, 통, 양, 스위스, 양, 가격, 런, 세트, 메뉴, 중, 고기, 메뉴, 해물, 해물, 짬뽕, 탕수육, 짜장면, 뉴욕, 곳, 여기, 오픈, 백화점, 때, 만족, 외국, 맛, 수, 것, 여기, 외국, 듯, 개인, 피자, 파스타, 맛, 편, 뭘, 주문, 이것저것, 재미, 번, 만, 곳, 것, 가격대, 순댓국, 집, 돼지, 내장, 소고기, 순댓국, 여성, 부담, 집, 제빵, 가격, 감, 치즈케이크, 오후, 빵, 상태, 좌석, 코로나, 때문, 한우, 코스, 예약, 여자, 친구, 행복, 식사, 코로나, 단계, 운, 명, 한우, 코스, 셰프, 친절, 시간, 서빙, 완전, 개판, 바, 교육, 필요, 업소, 주인, 요리, 거, 소스, 숟가락, 음식, 포장, 다음, 포장, 골목길, 공간, 곳, 이유, 존재, 분위기, 카페, 수, 빵, 커피, 종류, 다양, 점, 가격, 전체, 것, 만약, 서비스, 가격, 고려, 만, 것, 서비스, 번, 방문, 것, 맛, 집, 웨이팅, 다섯, 시, 자리, 막창, 인분, 만, 원, 제, 막창, 구이, 중, 초벌, 그때, 돼지, 비린내, 하나, 제, 서울, 막창, 충격, 직원, 겉, 속, 수, 말, 것, 저, 해물, 뚝배기, 라면, 버섯, 장찌개, 밥, 공기, 둘, 담, 막창, 인분, 버섯, 장만, 것, 라면, 버섯, 장찌개, 이거, 거, 오래간만, 방문, 사, 테이블, 간격, 분위기, 인, 세트, 울프강, 뭔가, 것, 디저트, 퀄리티, 저희, 가족, 전부, 입, 디저트, 손, 명, 여행, 메뉴, 봄, 콩국수, 평소, 음식, 맛, 건지, 건지, 만, 쫄면, 만두, 우리, 맛, 소바, 위, 맛, 가쓰오부시, 맛, 위, 맛, 기대, 실망, 칼국수, 면, 들깨, 맛, 면, 요리, 중, 특색, 맛, 연어, 연어, 최고, 크리스마스, 이브, 여동생, 방문, 웨스틴, 조선, 호텔, 메뉴, 둘, 칠, 리, 새우, 코스, 주문, 만, 원, 애피타이저, 인상, 스핀, 수프, 칠, 리, 새우, 불고기, 메뉴, 짬뽕, 볶음밥, 디저트, 코스, 중국식, 코스, 요리, 간, 게, 뒤, 코스, 요리, 맛, 듯, 메뉴, 메인, 짬뽕, 볶음밥, 중, 선택, 일, 메인, 인연, 번, 중식, 레스토랑, 뭐, 뭐, 거, 뭐, 초코, 빵, 테이블, 의자, 불편, 편, 음식, 땐, 때, 친구, 평소, 부대찌개, 부대찌개, 자극, 후, 속, 엄마, 생신, 케이크, 주문, 밀크티, 다음, 케이크, 거, 욤, 인천, 원조, 일당, 백, 호, 점, 사람, 번, 사람, 흡인력, 카리스마, 주꾸미, 음식, 기대, 미남, 쥔장, 서빙, 모습, 마포, 구청, 역, 곁, 교통, 편도, 편리, 가족, 모임, 단체, 모임, 마음, 이용, 양념, 우거지, 국물, 이날, 고기, 건지, 기름기, 시간, 방문, 것, 볶음밥, 콩나물, 양, 옆집, 무한리필, 필요, 듯, 테이블, 곳, 춘천, 갤러, 리타, 다방, 매니저, 소명, 불편, 직원, 아르바이트, 전체, 서비스, 교육, 재점검, 실시, 앞, 커피, 퀄리티, 서비스, 보답, 다방, 마지막, 카페, 위치, 뮤, 카페, 계약, 만료, 저희, 카페, 년, 월, 오픈, 사진, 댓글, 뮤, 트, 시절, 사진, 댓글, 메뉴, 서비스, 혼동, 수, 사이트, 수정, 요청, 상태, 밥, 물회, 회, 건지, 파주, 수, 미식가, 여행지, 전주, 맛, 때, 물맛, 물맛, 때, 카페, 때, 밥, 식당, 여기, 직원, 불친절, 손님, 처, 듯이, 음식, 설명, 재미, 감사, 음식, 속도, 느낌, 주류, 메뉴, 추천, 최근, 대구, 핫, 카페, 평점, 곳, 대구, 촌놈, 추천, 방문, 라테, 사이즈, 핫, 아이스, 하나, 주문, 라테, 커피, 우유, 것, 우유, 커피, 이, 정도, 우유, 맛, 텐데, 밸런스, 연, 라테, 처음, 커피, 위, 나중, 개인, 때, 게, 것, 생각, 대구, 라테, 중, 입, 마라, 탕, 거, 친절, 맛, 가격, 원, 부담, 이북, 출신, 사장, 운영, 봉산, 옷, 점심, 만둣국, 곳, 만두, 육향, 육수, 매력, 만둣국, 김치, 말, 국수, 일반, 소면, 온면, 옥수, 수면, 것, 면치기, 재미, 겨자, 끝, 감칠맛, 마무리, 저녁, 술, 번, 내, 단골집, 라즈베리, 티라미수, 블루베리, 요구르트, 아메리카노, 넛츠, 그레인, 산본, 가운데, 속세, 것, 공간, 방문, 날, 날씨, 통유, 리창, 감격, 직원, 친절, 평화, 공간, 라즈베리, 티라미수, 신맛, 라즈베리, 디저트, 기억, 여기, 라즈베리, 신맛, 시트, 크림, 맛, 조화, 덕분, 신맛, 저, 냠냠, 신맛, 라즈베리, 디저트, 분, 실망, 수, 아메리카노, 원두, 종류, 저, 산미, 종류, 맛, 블루베리, 요구르트, 요구르트, 비주얼, 우유, 느낌, 플라스틱, 병, 블루베리, 요구르트, 수제, 뭔가, 요구르트, 특유, 맛, 게, 사람, 날씨, 때, 창가, 자리, 한숨, 곳, 추천, 분위기, 개인, 타코, 망고, 플레이트, 평점, 기대, 수지, 앤, 파스타, 연어, 스테이크, 비스크, 파스타, 사람, 음식, 시간, 식전, 빵, 수프, 고구마, 퓌레, 듯, 맛, 편, 점, 파, 거, 생크림, 듯, 맛, 단맛, 생각, 연어, 스테이크, 석촉, 크림소스, 편, 로제, 파스타, 해산물, 맛, 맛, 나, 수, 글, 새우, 개, 새우, 식감, 크림소스, 로제, 전반, 음식, 생각, 런, 가격, 런, 구성비, 수, 수, 거, 음식, 게, 단점, 친절, 식당, 국수, 국수, 차별, 메뉴, 군더더기, 만큼, 약간, 차이, 오랫동안, 영업, 집, 잔치국수, 육수, 손님, 입맛, 얼마, 확장, 가능, 최대한, 색깔, 자제, 느낌, 워너, 육수, 집중, 풍미, 수, 분, 아이, 양념, 첨가, 빙수, 국수, 자극, 비빔국수, 기대, 분, 양념, 추가, 양, 편, 직원, 응대, 국수, 국수, 아구, 살, 살, 양념, 완전, 베리, 굳, 굳, 봉용, 불고기, 번, 날, 청주, 친척, 데, 때, 상, 푸, 파, 절, 마늘, 등, 주요, 밑반찬, 프라, 순, 직원, 게, 나, 셀프, 우리, 가족, 파절, 킬러, 때문, 셀프, 마음, 파절, 덕분, 돼지, 비린내, 하나, 무엇, 상추, 천국, 볶음밥, 공깃밥, 가격, 원, 추가, 데, 재료, 김, 가루, 파절, 고기, 김치, 방문, 사, 내일, 맛, 집, 햄버거, 건, 여기, 처음, 갈릭, 버터, 감, 튀, 추천, 데이트, 곳, 친구, 때, 등등, 맛, 비주얼, 편, 자극, 맛, 때, 점심, 시간, 비추, 천, 줄, 인테리어, 녹차, 빙수, 인상, 집, 여름, 명동, 정도, 개성, 매력, 투자, 카페, 인테리어, 건물, 구조, 등, 반복, 일상, 속, 세상, 기분, 때, 장소, 낮, 방문, 밤, 볼트, 커피, 화이트, 커피, 볼트, 커피, 최근, 커피, 중, 위, 맛, 화이트, 커피, 크루아상, 당근, 케이크, 크루아상, 고온, 발효, 후, 고온, 네타, 샤리, 듯, 맛, 이태원, 대표, 맛, 집, 라이너스, 바비큐, 핫, 년, 전, 웨이팅, 이, 삼, 십, 분, 오리지널, 플래터, 사이드, 추가, 맛, 집, 것, 이태원, 만큼, 가격대, 불고기, 피자, 맘, 부산역, 분, 거리, 차이나타운, 거리, 거기, 맛, 집, 백종원, 대, 천, 왕, 중국식, 가게, 편, 직원, 친절, 만두, 밑반찬, 연근, 샐러드, 추어탕, 비린내, 하나, 밥, 강황, 노란색, 상황버섯, 차, 물, 대신, 음식, 하나하나, 정성, 층, 데, 손, 저희, 시, 전, 자리, 대기실, 커피, 수, 독서, 수, 카운터, 남자, 번, 한숨, 짜증, 불친절, 시간, 내, 거, 쌍욕, 햄버거, 햄버거, 거, 실력자, 햄, 패티, 계란, 치즈, 등, 실력자, 게, 햄버거, 야경, 자기, 위치, 운, 거, 그날, 개, 호구, 내, 돈, 층, 차면, 층, 듯, 메뉴판, 번, 밑, 음식, 콩국, 안, 재료, 거, 원, 재료, 선택, 데, 번, 대요, 대중교통, 것, 시골길, 목향, 원익, 점심, 시간, 도착, 사람, 식당, 테이블, 회전, 수, 메뉴, 하나, 쌈밥, 정식, 숯불, 불고기, 잡곡, 삼색, 밥, 이곳, 시그, 처, 메뉴, 듯, 고기, 쌈, 채소, 밑반찬, 정성, 게, 음식, 바람, 어른, 오랜만, 입, 샹, 시, 분, 대기, 손, 재료, 번호표, 산책, 셋, 샹, 궈, 만, 원, 우랑, 주문, 바로우, 간, 때, 색, 보통, 바로우, 데, 맛, 맛, 밑, 소스, 소스, 맛, 것, 데, 게, 곧, 샹, 궈, 양, 셋, 이것저것, 생각, 양, 가격, 단계, 단계, 마라, 거, 친구, 간, 과, 밥, 번, 주문, 밥, 포기, 맛, 맛, 바로우, 샹, 궈, 양솥, 샹, 바로우, 무시, 텐데, 마라, 샹, 궈, 바로우, 맛, 구성비, 총점, 수, 재료, 느낌, 인테리어, 강릉, 맛, 강릉, 블, 렌, 드, 맛, 티라미수, 최고, 거, 일, 사람, 사장, 태도, 예, 여기, 만두, 만두, 고기, 야채, 돈가스, 고기, 충당, 공주, 특산물, 밤, 이용, 메뉴, 베이커리, 카페, 근처, 저녁, 시간, 기념품, 곳, 자리, 밤, 이용, 메뉴, 것, 음료, 편, 근처, 공산, 듯, 구입, 밤, 마들렌, 맛, 쏘, 쏘, 카페, 내부, 분위기, 음료, 디저트, 고깃집, 분위기, 인테리어, 정도, 친절, 직원, 곳, 고기, 가지, 만족, 식사, 고깃집, 냄새, 자체, 연기, 뷰, 망고, 맹, 맛, 무알코올, 칵테일, 노마, 가격, 거, 값, 음료, 생각, 직원, 사람, 거, 친절, 맛, 생각, 야채, 추가, 값, 애초, 배추, 소금, 소태, 위, 건, 밑, 쌈, 무엇, 배추, 장, 컴, 플레인, 정도, 직원, 말씀, 거, 손, 소태, 소태, 소금, 무한도전, 걸, 맛, 춘천, 만, 맛, 걸로, 기억, 망고, 잇, 딜, 주말, 런, 거기, 서, 만, 원, 망고, 가격, 만, 원, 이상, 분, 댓글, 망고, 잇, 딜, 샐러드, 감자튀김, 추가, 차이, 지하, 가게, 근처, 문, 때, 사람, 문, 영향, 때문, 스테이크, 인, 스테이크, 실망, 전체, 식사, 개인, 때, 식전, 빵, 감자튀김, 사진, 메밀, 김밥, 메밀, 김밥, 생각, 요리, 걱정, 면, 식감, 조화, 수, 왕, 추천, 믹스, 프라이, 관자, 튀김, 신세계, 관자, 것, 인양, 동시, 일식, 특유, 튀김옷, 추천, 서비스, 최악, 집, 꼬치, 메뉴, 개, 것, 하나, 인분, 바로우, 메뉴판, 천, 원, 원, 나중, 계산서, 그, 꼬치, 인분, 저희, 결국, 거, 아르바이트, 실수, 계산서, 말, 꼬치, 개, 계산, 술, 병, 걸로, 계산, 우리, 말씀, 계산서, 술, 걸로, 출력, 아르바이트, 건데, 태도, 친절, 경험, 듯, 안암, 꼬치, 북경, 양, 꼬치, 바로우, 용도, 수, 세요, 마트, 장보고, 급, 외식, 터, 토리, 요리, 전문점, 문구, 수, 건강, 음식, 곳, 친환경, 음식점, 인증, 친절, 도민증, 상장, 자리, 예약, 내역, 포스트잇, 계산대, 면, 포스트잇, 유추, 이곳, 맛, 집, 나, 토요일, 저녁, 앞, 팀, 회전율, 얼마, 가격, 여럿, 이득, 세트, 메뉴, 메뉴판, 베스트, 임자, 탕, 개, 주문, 애피타이저, 샐러드, 깍두기, 양파, 비트, 절임, 물김치, 반찬, 물, 구기차, 샐러드, 기본, 메뉴, 구기차, 법제, 것, 메뉴, 도토리, 효능, 것, 예감, 법, 임자, 들깨, 도토리수제비, 수제비, 도토리, 갈색, 묵사발, 수제비, 묵사발, 정도, 엄마, 순천, 들깨, 것, 들깨, 특산품, 정도, 순천, 들깨, 음식, 것, 임자, 탕아, 김, 노른자, 지단, 감자, 버섯, 식감, 물, 김, 여기, 김, 지단, 뭔가, 식감, 깃, 때, 특이, 고추, 씹, 고추, 것, 이게, 건강, 조금, 조밥, 조밥, 오랜만, 밥, 자체, 이곳, 엄마, 국물, 자기, 전, 것, 결국, 엄마, 밥, 밥, 국물, 결국, 임자, 탕리, 세트, 메뉴, 기본, 다음, 여럿, 메뉴, 임자, 탕리, 메뉴, 위치, 말, 연향, 지구, 오천동, 정원, 관광지, 퀄리티, 평점, 번, 방문, 프랑스, 정식, 집, 데, 음식, 건지, 판단, 능력, 내게는, 생각, 요리, 디저트, 게, 브런치, 수, 듯, 기대, 인상, 거리, 식당, 거리, 음식, 맛, 내, 취향, 판단, 어려움, 맛, 내, 취향, 분, 평가, 분위기, 구성비, 프랑스, 정식, 정도, 조심, 개인, 생각, 수, 방문, 의사, 음식, 사람, 내, 듯, 함흥냉면, 위, 맛, 집, 저, 냉면, 젓가락, 음식, 고기, 음식, 정도, 생각, 파괴력, 음식, 끝, 회, 맛, 참기름, 향, 거, 가격, 대비, 맛, 양, 구복, 판, 구복, 만두, 콜라보, 고민, 계산, 때, 정식, 만, 원, 주저, 쌈, 종류, 다양, 게, 게, 건, 내, 게, 거, 된장찌개, 제육볶음, 밥, 밑반찬, 난, 만, 이, 천, 원, 값, 만, 쌈밥, 적, 이게, 건지, 가격, 피자, 도우, 치즈, 맛, 해산물, 스파게티, 해산물, 개, 새우, 맛, 맥주, 라이트, 맥주, 화이트, 일, 난, 페일, 일, 인디언, 페일, 일, 르, 베네, 쇼, 비뇽, 역시, 라이트, 분위기, 맛, 부자, 피, 매장, 구석구석, 먼지, 곳, 눈, 생각, 사장, 친절, 고급, 중국, 식당, 가격, 대비, 간, 분, 불편, 수, 등산, 도토리묵, 막걸리, 잔, 여기, 도토리묵, 약초, 여성, 남성, 건강, 밥, 버섯, 우설, 최고, 빵, 생각, 내부, 팡, 뭔가, 식빵, 안, 크림, 앙, 버터, 입천장, 스콘, 아몬드, 포장, 스콘, 아몬드, 다음, 빵, 타르트, 종류, 빵, 종류, 융, 빵, 니, 행복, 한국, 정식, 전문점, 건물, 층, 지하, 평소, 층, 운영, 것, 된장, 비빔밥, 녹두전, 된장찌개, 간, 수, 된장, 비빔밥, 인분, 양, 인분, 정도, 녹두, 전, 전, 종류, 끝, 부분, 걸, 마련, 끝, 부분, 게, 전체, 밑, 밭, 찬, 걸로, 음식, 분, 요리, 솜씨, 것, 된장, 비빔밥, 정도, 가격, 거, 인사동, 위치, 감안, 가격, 돼지갈비, 소갈비, 맛, 식감, 대신, 밑반찬, 신경, 번, 만, 집, 돈가스, 신세계, 정돈, 돼지고기, 소고기, 수, 것, 곳, 돈가스, 소금, 소스, 소금, 조화, 생각, 고추, 피클, 그것, 조화, 때, 안심, 생각, 양, 편, 수, 웨이팅, 편, 때문, 시간, 것, 추천, 매장, 앞, 주차, 가능, 하나, 주, 공간, 쌈, 채소, 제거, 주심, 제육, 고기, 가마솥, 밥, 쌈밥, 수, 게, 장점, 듯, 서면, 맛, 집, 추천, 닭갈비, 추천, 데, 서서, 정도, 생각, 배, 밥, 전, 디저트, 걸, 추천, 루프, 탑, 화장실, 가격, 만족, 서비스, 사장, 직원, 절도, 곳, 맛, 자체, 어디, 정도, 양, 편, 인, 밥, 메뉴, 경우, 천, 원, 떡, 볶음밥, 수, 구성비, 건물, 안쪽, 위치, 인테리어, 식당, 똠얌, 국물, 향, 팝, 다이도, 수준, 급, 카레, 소프트, 크랩, 카레, 맛, 대전, 역대, 급, 코노, 미야키, 맛, 집, 후기, 언급, 부분, 사장, 미안, 정도, 구성비, 식당, 소바, 플레인, 오, 코노, 미야키, 치즈, 파, 토핑, 추가, 다코, 키, 개, 원, 말, 가격, 양, 주문, 가지, 메뉴, 일본, 간, 사이, 지역, 수, 코노, 미야키, 다코, 키, 재현, 점심, 시간, 라멘, 것, 다음, 번, 앞, 일, 것, 집, 돈, 화장실, 정비, 게, 거, 대기, 명단, 거, 대기, 명단, 관리, 사람, 임의, 명단, 삭제, 직원, 자기, 전화, 줄, 명단, 시간, 명단, 거, 확인, 컴, 플레인, 걸고, 기분, 천하, 일미, 나물, 전, 맛, 무엇, 바지락, 바지락, 해감, 모래, 신경, 오목눈, 이번, 와플, 제철, 딸기, 플, 다, 것, 저희, 때, 주문, 개, 분, 뒤, 완전, 인기, 메뉴, 거, 자체, 와플, 딸기, 퓌레, 생크림, 딸기, 젤라, 마지막, 딸기, 산, 메뉴, 첨, 끝, 가격, 원, 편, 오목눈, 메뉴, 외, 스콘, 종류, 다양, 케이크, 커피, 추천, 추천, 분위기, 음식, 굿, 셰프, 친절, 주차, 무료, 최고, 규모, 밤, 제, 맛, 빵, 데, 맛, 서비스, 최악, 줄, 맛, 평점, 직원, 불친절, 건, 고기, 뿐, 고객, 셀프, 말, 분위기, 인생, 콥, 샐러드, 양, 가게, 콥, 샐러드, 네다섯, 가지, 이때, 콥, 샐러드, 중, 양, 소스, 곱창, 대상, 볶음밥, 영월, 음식점, 중, 여길, 줄, 이번, 저번, 것, 메뉴, 다슬기, 순두부, 원, 삼, 삼, 순두부찌개, 이번, 한식, 중, 찌개, 음식, 뭔가, 느낌, 강릉, 순두부, 짬뽕, 그때, 밥, 밥, 찰떡, 수, 감탄, 얘, 그, 맛, 게, 웨이팅, 평일, 줄, 평, 년, 업력, 경동, 시장, 평양냉면, 돈, 업장, 목, 것, 인지상정, 경동, 시장, 한편, 년, 냉면, 집, 그것, 양념, 맛, 함흥냉면, 육수, 메밀, 향, 나, 면, 승부, 평, 양식, 냉면, 이야기, 흥미, 평양냉면, 평, 양식, 냉면, 것, 내, 평양냉면, 집, 메뉴판, 물, 막국수, 비빔, 막국수, 등, 표기, 때문, 실제, 살얼음, 육, 구, 통, 별도, 면, 것, 춘천, 막국수, 스타일, 메뉴판, 닭, 무침, 고명, 제육, 점, 걸, 집, 육수, 닭, 베이스, 것, 추정, 시장, 냉면, 시판, 면, 거, 생각, 주인장, 제면기, 면, 을지로, 평양냉면, 명가, 냉면, 천, 원, 평양, 실향, 아픔, 이북, 고향, 노인, 상황, 트리, 피케이, 션, 신조어, 마당, 수고, 단돈, 천, 원, 것, 구성비, 밀면, 곡향, 부족, 홀, 담당, 아주머니, 친절, 육수, 양념, 식초, 겨자, 정성, 음식, 감칠맛, 뭔가, 첨가, 기교, 년, 세월, 성실, 음식, 경험, 수, 연어, 가게, 불편, 점, 치즈, 철판, 낙지볶음, 만두, 치즈, 주꾸미, 가락국수, 사리, 등, 냠냠, 걸, 셀프, 바, 식탁, 위, 파리, 등, 위생, 환경, 직원, 약간, 친절, 때문, 바깥, 현수막, 음식, 위, 치즈, 바이트, 그걸, 깨달음, 밥, 사진, 방문, 스프링, 식전, 빵, 스테이크, 음료, 디저트, 카페, 길, 그게, 만큼, 인테리어, 식물, 조합, 봄, 추천, 건강, 빵, 눈, 곳, 건강, 빵, 걸, 빵, 건강, 빵, 등, 번, 리뷰, 화이트데이, 기념, 방문, 테이블, 포포, 런, 코스, 메뉴, 가격, 원, 미슐랭, 스타, 로컬, 푸드, 제철, 요리, 팜, 투, 테이블, 추구, 식당, 무즈, 부쉬, 수미, 감자, 마, 등, 칩, 크림, 통나무, 모양, 그릇, 설거지, 센터, 피스, 가리비, 돼지감자, 에스, 푸마, 이산화질소, 사용, 거품, 크림, 에스, 푸마, 가리비, 식감, 여기저기, 감자, 감자, 서민, 느낌, 향, 때문, 허브, 오, 일, 야채, 피클, 유자, 드레싱, 자연산, 광어, 르, 파치, 르, 파치, 연어, 광어, 옆, 송화, 소금, 소금, 양식, 요리, 동양, 느낌, 감자, 퓌레, 아몬드, 태안, 주꾸미, 구이, 주꾸미, 머리, 머리, 탕, 때, 맛, 태안, 홍합, 오일, 소스, 스파게티, 고급, 오일, 말씀, 기억, 전, 테이블, 올리브유, 추가, 애호박, 홍합, 바지락, 느낌, 브로콜리, 니, 샤프, 폼, 자연산, 참돔, 구이, 고급, 식당, 번, 생선, 기대, 여기, 마찬가지, 송화, 소금, 베리, 코플, 로마, 프렌치, 랙, 양, 갈비, 한우, 등심, 일행, 저, 갈비, 이베리코, 갈비, 특유, 냄새, 저, 이베리코, 갈비, 표, 오늘, 디저트, 커피차, 바스크, 치즈케이크, 한라, 봉, 셔벗, 머랭, 칩, 딸기, 마들렌, 마무리, 전체, 끼, 것, 기분, 서버, 분, 설명, 물컵, 물, 편, 중요, 척, 주차, 발레, 가능, 양, 맛, 원수, 친구, 거, 컵, 기분, 어른, 만, 맛, 외국인'"
      ]
     },
     "execution_count": 31,
     "metadata": {},
     "output_type": "execute_result"
    }
   ],
   "source": [
    "from wordcloud import WordCloud # import 뒤의 WordCloud는 W와C가 대문자\n",
    "import matplotlib.pyplot as plt\n",
    "\n",
    "word_string = ', '.join(all_nouns)\n",
    "word_string"
   ]
  },
  {
   "cell_type": "code",
   "execution_count": 34,
   "metadata": {},
   "outputs": [],
   "source": [
    "font_path = 'C:/Windows/Fonts/HMFMPYUN.ttf'"
   ]
  },
  {
   "cell_type": "code",
   "execution_count": 35,
   "metadata": {},
   "outputs": [
    {
     "data": {
      "image/png": "[encoded data removed]",
      "text/plain": [
       "<Figure size 600x600 with 1 Axes>"
      ]
     },
     "metadata": {},
     "output_type": "display_data"
    }
   ],
   "source": [
    "wordcolud = WordCloud(font_path = font_path, width = 800, height=400, background_color='white').generate(word_string)\n",
    "plt.figure(figsize=(6,6))\n",
    "plt.imshow(wordcolud)\n",
    "plt.axis('off')\n",
    "plt.show()"
   ]
  },
  {
   "cell_type": "code",
   "execution_count": null,
   "metadata": {},
   "outputs": [],
   "source": []
  }
 ],
 "metadata": {
  "kernelspec": {
   "display_name": "test_env",
   "language": "python",
   "name": "python3"
  },
  "language_info": {
   "codemirror_mode": {
    "name": "ipython",
    "version": 3
   },
   "file_extension": ".py",
   "mimetype": "text/x-python",
   "name": "python",
   "nbconvert_exporter": "python",
   "pygments_lexer": "ipython3",
   "version": "3.9.20"
  }
 },
 "nbformat": 4,
 "nbformat_minor": 2
}
