{
 "cells": [
  {
   "cell_type": "markdown",
   "metadata": {},
   "source": [
    "\n",
    "# 🌼 제너레이티브AI의 이해 - 2차시(24.11.19)\n",
    "\n",
    "---\n"
   ]
  },
  {
   "cell_type": "markdown",
   "metadata": {},
   "source": [
    "## 1. GAN\n",
    "- 생성자와 판별자 두 가지 모델이 서로 경쟁하며 학습하는 방식\n",
    "- 생성자 : 랜덤한 잠재 벡터를 입력받아, 이를 기반으로 새로운 데이터 생성\n",
    "- 판별자 : 생성된 데이터가 진짜인지 가짜인지 판별"
   ]
  },
  {
   "cell_type": "code",
   "execution_count": 86,
   "metadata": {},
   "outputs": [],
   "source": [
    "import torch\n",
    "import torch.nn as nn\n",
    "import torch.nn.functional as F\n",
    "from torchvision import datasets, transforms\n",
    "from torch.utils.data import DataLoader\n",
    "import matplotlib.pyplot as plt"
   ]
  },
  {
   "cell_type": "code",
   "execution_count": 87,
   "metadata": {},
   "outputs": [],
   "source": [
    "transform = transforms.Compose([\n",
    "    transforms.ToTensor(),\n",
    "    transforms.Normalize((0.5,), (0.5))\n",
    "])\n",
    "# 음수와 양수 값을 모두 다룰 수 있기 때문에 데이터 다루기에 용이\n",
    "mnist_data = datasets.MNIST(root='./data', train=True, transform=transform, download=True)\n",
    "data_loader = DataLoader(mnist_data, batch_size=64, shuffle=True)"
   ]
  },
  {
   "cell_type": "code",
   "execution_count": 88,
   "metadata": {},
   "outputs": [],
   "source": [
    "example_data, example_label = next(iter(data_loader))"
   ]
  },
  {
   "cell_type": "code",
   "execution_count": 89,
   "metadata": {},
   "outputs": [],
   "source": [
    "# sample = [1,2,3]\n",
    "# sample_iter = iter(sample)\n",
    "# next(sample_iter)"
   ]
  },
  {
   "cell_type": "code",
   "execution_count": 90,
   "metadata": {},
   "outputs": [
    {
     "name": "stdout",
     "output_type": "stream",
     "text": [
      "첫번째 데이터의 shape : torch.Size([64, 1, 28, 28])\n"
     ]
    }
   ],
   "source": [
    "print(f'첫번째 데이터의 shape : {example_data.shape}')\n",
    "# 배치 크기, 채널, 높이, 너비"
   ]
  },
  {
   "cell_type": "code",
   "execution_count": 91,
   "metadata": {},
   "outputs": [
    {
     "name": "stdout",
     "output_type": "stream",
     "text": [
      "첫번째 데이터의 라벨 : 7\n"
     ]
    }
   ],
   "source": [
    "print(f'첫번째 데이터의 라벨 : {example_label[0]}')"
   ]
  },
  {
   "cell_type": "code",
   "execution_count": 92,
   "metadata": {},
   "outputs": [
    {
     "data": {
      "image/png": "[encoded data removed]",
      "text/plain": [
       "<Figure size 640x480 with 1 Axes>"
      ]
     },
     "metadata": {},
     "output_type": "display_data"
    }
   ],
   "source": [
    "plt.imshow(example_data[0].squeeze(),cmap='gray')\n",
    "plt.title(f'lable : {example_label[0].item()}')\n",
    "plt.show()"
   ]
  },
  {
   "cell_type": "code",
   "execution_count": 93,
   "metadata": {},
   "outputs": [],
   "source": [
    "input_size = 100\n",
    "hidden_size_gen1 = 256\n",
    "hidden_size_gen2 = 512\n",
    "hidden_size_gen3 = 1024\n",
    "output_size = 28 * 28"
   ]
  },
  {
   "cell_type": "code",
   "execution_count": 94,
   "metadata": {},
   "outputs": [],
   "source": [
    "# 생성자 레이어 정의\n",
    "gen_w1 = nn.Parameter(torch.randn(input_size, hidden_size_gen1) * 0.02)\n",
    "# 첫번째 가중치 : input_size -> hiddin_size_gen1으로 변환하는 첫번째 레이어의 가중치를 랜덤으로 초기화\n",
    "# 0.02는 가중치 값을 초기화 할때 스케일 조정\n",
    "gen_b1 = nn.Parameter(torch.zeros(hidden_size_gen1))\n",
    "\n",
    "\n",
    "gen_w2 = nn.Parameter(torch.randn(hidden_size_gen1, hidden_size_gen2) * 0.02)\n",
    "gen_b2 = nn.Parameter(torch.zeros(hidden_size_gen2))\n",
    "\n",
    "gen_w3 = nn.Parameter(torch.randn(hidden_size_gen2, hidden_size_gen3) * 0.02)\n",
    "gen_b3 = nn.Parameter(torch.zeros(hidden_size_gen3))\n",
    "\n",
    "gen_w4 = nn.Parameter(torch.randn(hidden_size_gen3, output_size) * 0.02)\n",
    "gen_b4 = nn.Parameter(torch.zeros(output_size))"
   ]
  },
  {
   "cell_type": "code",
   "execution_count": 95,
   "metadata": {},
   "outputs": [],
   "source": [
    "def generator(x):\n",
    "    x = torch.matmul(x, gen_w1) + gen_b1\n",
    "    # 입력 벡터 x에 첫번째 레이어의 가중치인 gen_w1을 곱하고 편향 gen_b1을 더하기\n",
    "    # 첫번째 레이어의 출력\n",
    "    x = torch.relu(x)\n",
    "\n",
    "    x = torch.matmul(x, gen_w2) + gen_b2\n",
    "    x = torch.relu(x)\n",
    "\n",
    "    x = torch.matmul(x, gen_w3) + gen_b3\n",
    "    x = torch.relu(x)\n",
    "\n",
    "    x = torch.matmul(x, gen_w4) + gen_b4\n",
    "    x = torch.tanh(x)\n",
    "    # 마지막 출력을 -1~1사이 범위로 조정\n",
    "    return x\n",
    "\n"
   ]
  },
  {
   "cell_type": "code",
   "execution_count": 96,
   "metadata": {},
   "outputs": [],
   "source": [
    "# 판별자 정의\n",
    "input_size_dis = 28 * 28\n",
    "hidden_size_dis1 = 1024\n",
    "hidden_size_dis2 = 512\n",
    "hidden_size_dis3 = 256\n",
    "output_size_dis = 1 # sigmoid 함수"
   ]
  },
  {
   "cell_type": "code",
   "execution_count": 97,
   "metadata": {},
   "outputs": [],
   "source": [
    "dis_w1 = nn.Parameter(torch.randn(input_size_dis, hidden_size_dis1)*0.02)\n",
    "dis_b1 = nn.Parameter(torch.zeros(hidden_size_dis1))\n",
    "\n",
    "dis_w2 = nn.Parameter(torch.randn(hidden_size_dis1, hidden_size_dis2)*0.02)\n",
    "dis_b2 = nn.Parameter(torch.zeros(hidden_size_dis2))\n",
    "\n",
    "dis_w3 = nn.Parameter(torch.randn(hidden_size_dis2, hidden_size_dis3)*0.02)\n",
    "dis_b3 = nn.Parameter(torch.zeros(hidden_size_dis3))\n",
    "\n",
    "dis_w4 = nn.Parameter(torch.randn(hidden_size_dis3, output_size_dis)*0.02)\n",
    "dis_b4 = nn.Parameter(torch.zeros(output_size_dis))"
   ]
  },
  {
   "cell_type": "code",
   "execution_count": 98,
   "metadata": {},
   "outputs": [],
   "source": [
    "# 판별자 전방 전달\n",
    "def discriminator(x):\n",
    "    x = torch.matmul(x, dis_w1) + dis_b1\n",
    "    x = F.leaky_relu(x, 0.2)\n",
    "    # 0.2 : 음수 구간의 기울기에 곱해줄 작은 값\n",
    "    x = torch.matmul(x, dis_w2) + dis_b2\n",
    "    x = F.leaky_relu(x, 0.2)\n",
    "\n",
    "    x = torch.matmul(x, dis_w3) + dis_b3\n",
    "    x = F.leaky_relu(x, 0.2)\n",
    "\n",
    "    x = torch.matmul(x, dis_w4) + dis_b4\n",
    "    return torch.sigmoid(x)\n",
    "# 출력이 0~1사이 값, 진짜 or 가짜"
   ]
  },
  {
   "cell_type": "code",
   "execution_count": 99,
   "metadata": {},
   "outputs": [],
   "source": [
    "loss_fn = nn.BCELoss()\n",
    "lr = 0.0002\n",
    "gen_params = [gen_w1, gen_b1, gen_w2, gen_b2, gen_w3, gen_b3, gen_w4, gen_b4 ]\n",
    "dis_params = [dis_w1, dis_b1, dis_w2, dis_b2, dis_w3, dis_b3, dis_w4, dis_b4 ]"
   ]
  },
  {
   "cell_type": "code",
   "execution_count": 100,
   "metadata": {},
   "outputs": [],
   "source": [
    "optimizer_gen = torch.optim.Adam(gen_params, lr=lr)\n",
    "optimizer_dis = torch.optim.Adam(dis_params, lr=lr)"
   ]
  },
  {
   "cell_type": "code",
   "execution_count": 101,
   "metadata": {},
   "outputs": [
    {
     "name": "stdout",
     "output_type": "stream",
     "text": [
      "Epoch : 1 / 20, Loss D : 0.20709170401096344, Loss G : 3.452350616455078\n",
      "Epoch : 2 / 20, Loss D : 0.11044330894947052, Loss G : 18.67170524597168\n",
      "Epoch : 3 / 20, Loss D : 0.8051546216011047, Loss G : 3.2176034450531006\n",
      "Epoch : 4 / 20, Loss D : 0.15765070915222168, Loss G : 3.4986956119537354\n",
      "Epoch : 5 / 20, Loss D : 0.09439434856176376, Loss G : 6.31446647644043\n",
      "Epoch : 6 / 20, Loss D : 0.6801379919052124, Loss G : 3.818540096282959\n",
      "Epoch : 7 / 20, Loss D : 0.18905510008335114, Loss G : 8.88241958618164\n",
      "Epoch : 8 / 20, Loss D : 0.149032324552536, Loss G : 3.8582684993743896\n",
      "Epoch : 9 / 20, Loss D : 0.46232444047927856, Loss G : 3.6481549739837646\n",
      "Epoch : 10 / 20, Loss D : 0.10247398912906647, Loss G : 6.901873588562012\n",
      "Epoch : 11 / 20, Loss D : 0.14610518515110016, Loss G : 3.7850778102874756\n",
      "Epoch : 12 / 20, Loss D : 0.8758955001831055, Loss G : 3.7925262451171875\n",
      "Epoch : 13 / 20, Loss D : 0.27484509348869324, Loss G : 3.736299753189087\n",
      "Epoch : 14 / 20, Loss D : 0.7353699207305908, Loss G : 4.934122085571289\n",
      "Epoch : 15 / 20, Loss D : 0.16361331939697266, Loss G : 3.920553207397461\n",
      "Epoch : 16 / 20, Loss D : 0.30912891030311584, Loss G : 2.452615261077881\n",
      "Epoch : 17 / 20, Loss D : 0.10247204452753067, Loss G : 4.881716251373291\n",
      "Epoch : 18 / 20, Loss D : 0.47071802616119385, Loss G : 2.0462541580200195\n",
      "Epoch : 19 / 20, Loss D : 0.5055181384086609, Loss G : 2.0928380489349365\n",
      "Epoch : 20 / 20, Loss D : 0.18079254031181335, Loss G : 3.957535982131958\n"
     ]
    }
   ],
   "source": [
    "# 위조지폐를 만들어서 판별자 학습\n",
    "epochs = 20\n",
    "for epoch in range(epochs):\n",
    "    for real_images, _ in data_loader:\n",
    "        batch_size = real_images.size(0)\n",
    "        # real_images의 첫번째 차원의 값인 batch_size = 64\n",
    "        real_images = real_images.view(batch_size, -1)\n",
    "        # 기존에 (64, 1, 28, 28) -> (64, 784)\n",
    "        \n",
    "        real_labels = torch.ones(batch_size, 1)\n",
    "        # (64, 1) 텐서를 생성해서 전체 요소의 각 값들이 전부 1 (진짜)\n",
    "        fake_labels = torch.zeros(batch_size, 1)\n",
    "        # (64, 1) 텐서를 생성해서 전체 요소의 각 값들이 전부 1 (가짜)\n",
    "\n",
    "        # 생성자 학습 구간\n",
    "        random_noise = torch.randn(batch_size, input_size)\n",
    "        fake_images = generator(random_noise)\n",
    "\n",
    "        # 판별자 학습 구간\n",
    "        real_output = discriminator(real_images)\n",
    "        fake_output = discriminator(fake_images)\n",
    "\n",
    "        loss_real = loss_fn(real_output, real_labels)\n",
    "        # 실제 이미지에 대한 손실값\n",
    "        loss_fake = loss_fn(fake_output, fake_labels)\n",
    "        # 가짜 이미지에 대한 손실값\n",
    "        loss_dis = loss_real + loss_fake\n",
    "        #판별자의 총 손실\n",
    "\n",
    "        optimizer_dis.zero_grad()\n",
    "        # 기울기 계산 전 가중치 초기하\n",
    "        loss_dis.backward()\n",
    "        # 역전파를 통한 기울기 계산\n",
    "        optimizer_dis.step()\n",
    "        # 기울기 업데이트\n",
    "\n",
    "        # 생성자가 학습\n",
    "        random_noise = torch.randn(batch_size, input_size)\n",
    "        # 랜덤 노이즈 생성\n",
    "        fake_images = generator(random_noise)\n",
    "        fake_output = discriminator(fake_images)\n",
    "\n",
    "        # 생성자 손실 계산 + 가중치 업데이트\n",
    "        loss_gen = loss_fn(fake_output, real_labels)\n",
    "        # fake_ouput : 생성자가 만든 가짜 이미지를 판별자가 판별한 결과\n",
    "        # real_labels : 진짜 이미지의 라벨\n",
    "        # 가짜 이미지의 판별 결과 vs 진짜 이미지의 라벨\n",
    "        optimizer_gen.zero_grad()\n",
    "        loss_gen.backward()\n",
    "        optimizer_gen.step()\n",
    "    print(f'Epoch : {epoch + 1} / {epochs}, Loss D : {loss_dis.item()}, Loss G : {loss_gen.item()}')\n",
    "    # 판별자 손실이 작은 경우 : 모든 가짜를 완벽하게 구분하고 있다는 의미\n",
    "    # 생성자 손실이 큰 경우 : 판별자를 속이기 위한 진전이 없다는 의미\n"
   ]
  },
  {
   "cell_type": "code",
   "execution_count": 102,
   "metadata": {},
   "outputs": [
    {
     "data": {
      "image/png": "[encoded data removed]",
      "text/plain": [
       "<Figure size 600x600 with 16 Axes>"
      ]
     },
     "metadata": {},
     "output_type": "display_data"
    }
   ],
   "source": [
    "random_noise = torch.randn(16, input_size)\n",
    "generated_images = generator(random_noise).view(-1, 1, 28, 28).detach()\n",
    "\n",
    "fig, axes = plt.subplots(4, 4, figsize=(6,6))\n",
    "for i, ax in enumerate(axes.flatten()):\n",
    "    ax.imshow(generated_images[i].squeeze(), cmap='gray')\n",
    "    ax.axis('off')\n",
    "plt.show()"
   ]
  },
  {
   "cell_type": "markdown",
   "metadata": {},
   "source": [
    "\n",
    "## 🌼마무리 문제\n",
    "\n",
    "다양한 데이터셋을 적용해보세요\n",
    "\n",
    "Q1. Fashion MNIST\n",
    "- 28X28 크기의 패션 아이템 이미지로 구성된 흑백 이미지 데이터셋\n",
    "\n",
    "\n",
    "Q2. CIFAR-10\n",
    "- 32X32 크기의 색상이 있는 자동차, 동물 등 다양한 객체가 포함된 데이터셋"
   ]
  },
  {
   "cell_type": "code",
   "execution_count": null,
   "metadata": {},
   "outputs": [],
   "source": []
  }
 ],
 "metadata": {
  "kernelspec": {
   "display_name": "tensor_env",
   "language": "python",
   "name": "python3"
  },
  "language_info": {
   "codemirror_mode": {
    "name": "ipython",
    "version": 3
   },
   "file_extension": ".py",
   "mimetype": "text/x-python",
   "name": "python",
   "nbconvert_exporter": "python",
   "pygments_lexer": "ipython3",
   "version": "3.9.20"
  }
 },
 "nbformat": 4,
 "nbformat_minor": 2
}
