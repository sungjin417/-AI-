{
 "cells": [
  {
   "cell_type": "markdown",
   "id": "e3da31fb",
   "metadata": {},
   "source": [
    "\n",
    "# 🌼 기초 프로그래밍 및 데이터 구조 - 5차시(24.10.29)\n",
    "\n",
    "---\n"
   ]
  },
  {
   "cell_type": "markdown",
   "id": "46179086",
   "metadata": {},
   "source": [
    "## 1. 함수"
   ]
  },
  {
   "cell_type": "markdown",
   "id": "6caec74c",
   "metadata": {},
   "source": [
    "- 함수는 반복적으로 사용되는 코드를 하나로 묶어 놓은 코드 블록\n",
    "- 함수를 정의하면 코드의 재사용성을 높일 수 있음"
   ]
  },
  {
   "cell_type": "code",
   "execution_count": 1,
   "id": "16b0f74f",
   "metadata": {},
   "outputs": [],
   "source": [
    "def greet():\n",
    "    print('Hello, World!')"
   ]
  },
  {
   "cell_type": "code",
   "execution_count": 2,
   "id": "1475a353",
   "metadata": {},
   "outputs": [
    {
     "name": "stdout",
     "output_type": "stream",
     "text": [
      "Hello, World!\n"
     ]
    }
   ],
   "source": [
    "greet()"
   ]
  },
  {
   "cell_type": "code",
   "execution_count": 4,
   "id": "39560125",
   "metadata": {},
   "outputs": [
    {
     "name": "stdout",
     "output_type": "stream",
     "text": [
      "지금은 9시 입니다\n",
      "지금은 10시 입니다\n",
      "지금은 11시 입니다\n"
     ]
    }
   ],
   "source": [
    "print('지금은 9시 입니다')\n",
    "print('지금은 10시 입니다')\n",
    "print('지금은 11시 입니다')"
   ]
  },
  {
   "cell_type": "code",
   "execution_count": 3,
   "id": "e77bc2b4",
   "metadata": {},
   "outputs": [
    {
     "name": "stdout",
     "output_type": "stream",
     "text": [
      "지금은4시 입니다\n",
      "지금은5시 입니다\n"
     ]
    }
   ],
   "source": [
    "def time(number):\n",
    "    print(f'지금은{number}시 입니다')\n",
    "time(4)\n",
    "time(5)"
   ]
  },
  {
   "cell_type": "code",
   "execution_count": 5,
   "id": "07e1dad5",
   "metadata": {},
   "outputs": [],
   "source": [
    "def add(a, b):\n",
    "    print(a + b)"
   ]
  },
  {
   "cell_type": "code",
   "execution_count": 6,
   "id": "2a2184d2",
   "metadata": {},
   "outputs": [
    {
     "name": "stdout",
     "output_type": "stream",
     "text": [
      "5\n"
     ]
    }
   ],
   "source": [
    "add(2, 3)"
   ]
  },
  {
   "cell_type": "code",
   "execution_count": 7,
   "id": "20a51350",
   "metadata": {},
   "outputs": [
    {
     "ename": "TypeError",
     "evalue": "add() missing 2 required positional arguments: 'a' and 'b'",
     "output_type": "error",
     "traceback": [
      "\u001b[1;31m---------------------------------------------------------------------------\u001b[0m",
      "\u001b[1;31mTypeError\u001b[0m                                 Traceback (most recent call last)",
      "Cell \u001b[1;32mIn[7], line 1\u001b[0m\n\u001b[1;32m----> 1\u001b[0m \u001b[43madd\u001b[49m\u001b[43m(\u001b[49m\u001b[43m)\u001b[49m\n",
      "\u001b[1;31mTypeError\u001b[0m: add() missing 2 required positional arguments: 'a' and 'b'"
     ]
    }
   ],
   "source": [
    "add() # 인자를 갯 수 만큼 입력해 줘야 함"
   ]
  },
  {
   "cell_type": "markdown",
   "id": "60882422",
   "metadata": {},
   "source": [
    "## 2. return\n",
    "- `return` 은 함수의 결과를 함수 외부로 반환할 때 사용"
   ]
  },
  {
   "cell_type": "code",
   "execution_count": 103,
   "id": "3903c22b",
   "metadata": {},
   "outputs": [],
   "source": [
    "def add_print(a, b):\n",
    "    print(a+b)"
   ]
  },
  {
   "cell_type": "code",
   "execution_count": 104,
   "id": "ddb66ead",
   "metadata": {},
   "outputs": [
    {
     "name": "stdout",
     "output_type": "stream",
     "text": [
      "8\n"
     ]
    },
    {
     "ename": "TypeError",
     "evalue": "unsupported operand type(s) for +: 'NoneType' and 'int'",
     "output_type": "error",
     "traceback": [
      "\u001b[1;31m---------------------------------------------------------------------------\u001b[0m",
      "\u001b[1;31mTypeError\u001b[0m                                 Traceback (most recent call last)",
      "Cell \u001b[1;32mIn[104], line 1\u001b[0m\n\u001b[1;32m----> 1\u001b[0m \u001b[43madd_print\u001b[49m\u001b[43m(\u001b[49m\u001b[38;5;241;43m5\u001b[39;49m\u001b[43m,\u001b[49m\u001b[43m \u001b[49m\u001b[38;5;241;43m3\u001b[39;49m\u001b[43m)\u001b[49m\u001b[43m \u001b[49m\u001b[38;5;241;43m+\u001b[39;49m\u001b[43m \u001b[49m\u001b[38;5;241;43m5\u001b[39;49m\n",
      "\u001b[1;31mTypeError\u001b[0m: unsupported operand type(s) for +: 'NoneType' and 'int'"
     ]
    }
   ],
   "source": [
    "add_print(5, 3) + 5"
   ]
  },
  {
   "cell_type": "code",
   "execution_count": 10,
   "id": "ab8a2162",
   "metadata": {},
   "outputs": [],
   "source": [
    "def add_print(a, b):\n",
    "    return a + b"
   ]
  },
  {
   "cell_type": "code",
   "execution_count": 11,
   "id": "49c7e8e1",
   "metadata": {},
   "outputs": [
    {
     "data": {
      "text/plain": [
       "13"
      ]
     },
     "execution_count": 11,
     "metadata": {},
     "output_type": "execute_result"
    }
   ],
   "source": [
    "add_print(5, 3) + 5"
   ]
  },
  {
   "cell_type": "code",
   "execution_count": 12,
   "id": "503acb0e",
   "metadata": {},
   "outputs": [],
   "source": [
    "def add_mult(a, b):\n",
    "    add = a + b\n",
    "    mult = a * b\n",
    "    return add, mult"
   ]
  },
  {
   "cell_type": "code",
   "execution_count": 13,
   "id": "ee822b57",
   "metadata": {},
   "outputs": [
    {
     "data": {
      "text/plain": [
       "(8, 15)"
      ]
     },
     "execution_count": 13,
     "metadata": {},
     "output_type": "execute_result"
    }
   ],
   "source": [
    "add_mult(3,5)"
   ]
  },
  {
   "cell_type": "code",
   "execution_count": 14,
   "id": "0a1abc2e",
   "metadata": {},
   "outputs": [],
   "source": [
    "result1, result2 = add_mult(3,5)"
   ]
  },
  {
   "cell_type": "code",
   "execution_count": 15,
   "id": "abd791a5",
   "metadata": {},
   "outputs": [
    {
     "name": "stdout",
     "output_type": "stream",
     "text": [
      "8/15\n"
     ]
    }
   ],
   "source": [
    "print(result1, result2, sep='/')"
   ]
  },
  {
   "cell_type": "code",
   "execution_count": 17,
   "id": "107d64b5",
   "metadata": {},
   "outputs": [],
   "source": [
    "def payment(price, pay):\n",
    "    if pay < price:\n",
    "        return print(f'금액이 부족합니다. 부족한 금액은 : {abs(pay-price)}원 입니다.')\n",
    "    else:\n",
    "        return print(f'결제 되었습니다. 거스름돈 : {abs(price-pay)}원 입니다.')\n",
    "    "
   ]
  },
  {
   "cell_type": "code",
   "execution_count": 18,
   "id": "52bc7aa1",
   "metadata": {},
   "outputs": [
    {
     "name": "stdout",
     "output_type": "stream",
     "text": [
      "결제 되었습니다. 거스름돈 : 200원 입니다.\n"
     ]
    }
   ],
   "source": [
    "payment(300, 500)"
   ]
  },
  {
   "cell_type": "code",
   "execution_count": 21,
   "id": "f5cc8969",
   "metadata": {},
   "outputs": [
    {
     "name": "stdout",
     "output_type": "stream",
     "text": [
      "5 X 1 = 5\n",
      "5 X 2 = 10\n",
      "5 X 3 = 15\n",
      "5 X 4 = 20\n",
      "5 X 5 = 25\n",
      "5 X 6 = 30\n",
      "5 X 7 = 35\n",
      "5 X 8 = 40\n",
      "5 X 9 = 45\n"
     ]
    }
   ],
   "source": [
    "# Q1. 사용자에게 값을 입력 받아 입력 받은 숫자의 구구단을 출력하는 함수를 작성해보세요.\n",
    "\n",
    "num = int(input('숫자를 입력 하세요'))\n",
    "\n",
    "def gugudan(num):\n",
    "    for i in range(1,10):\n",
    "        print(f'{num} X {i} = {num*i}')\n",
    "\n",
    "gugudan(num)"
   ]
  },
  {
   "cell_type": "code",
   "execution_count": 31,
   "id": "5379d8e7",
   "metadata": {},
   "outputs": [
    {
     "name": "stdout",
     "output_type": "stream",
     "text": [
      "5 X 1 = 5\n",
      "5 X 2 = 10\n",
      "5 X 3 = 15\n",
      "5 X 4 = 20\n",
      "5 X 5 = 25\n",
      "5 X 6 = 30\n",
      "5 X 7 = 35\n",
      "5 X 8 = 40\n",
      "5 X 9 = 45\n"
     ]
    }
   ],
   "source": [
    "def func():\n",
    "    number = int(input('값을 입력하세요'))\n",
    "    for i in range(1,10):\n",
    "        print(f'{number} X {i} = {number*i}')\n",
    "\n",
    "func()"
   ]
  },
  {
   "cell_type": "code",
   "execution_count": 22,
   "id": "045c680e",
   "metadata": {},
   "outputs": [
    {
     "name": "stdout",
     "output_type": "stream",
     "text": [
      "B\n"
     ]
    }
   ],
   "source": [
    "# Q2. 90점 이상이면 A, 80점 이상이면 B, 70점 이상이면 C, 60점 이상이면 D, 그 아래 점수는 F를 주는 성적 자동 계산기 함수를 작성해보세요.\n",
    "# 단, 점수는 0점부터 100점까지만 입력 가능합니다\n",
    "\n",
    "def score(num):\n",
    "    if num >= 90:\n",
    "        print('A')\n",
    "    elif num >= 80:\n",
    "        print('B')\n",
    "    elif num >= 70:\n",
    "        print('C')\n",
    "    elif num >= 60:\n",
    "        print('D')\n",
    "    else:\n",
    "        print('F')\n",
    "        \n",
    "num = int(input('성적을 입력 하세요'))\n",
    "score(num)"
   ]
  },
  {
   "cell_type": "code",
   "execution_count": 35,
   "id": "a5d24a31",
   "metadata": {},
   "outputs": [
    {
     "data": {
      "text/plain": [
       "'잘못된 점수'"
      ]
     },
     "execution_count": 35,
     "metadata": {},
     "output_type": "execute_result"
    }
   ],
   "source": [
    "def grade(score):\n",
    "    if score < 0 or score > 100:\n",
    "        return '잘못된 점수'\n",
    "    elif score >= 90:\n",
    "        return 'A'\n",
    "    elif score >= 80:\n",
    "        return 'B'\n",
    "    elif score >= 70:\n",
    "        return 'C'\n",
    "    elif score >= 60:\n",
    "        return 'D'\n",
    "    else:\n",
    "        return 'F'\n",
    "    \n",
    "grade(150)"
   ]
  },
  {
   "cell_type": "code",
   "execution_count": 37,
   "id": "a97f5aec",
   "metadata": {},
   "outputs": [
    {
     "data": {
      "text/plain": [
       "7"
      ]
     },
     "execution_count": 37,
     "metadata": {},
     "output_type": "execute_result"
    }
   ],
   "source": [
    "# Q3. 알파벳 모음 개수를 세어 반환하는 함수를 작성해보세요.\n",
    "# nice to meet you\n",
    "\n",
    "def alpha(text):\n",
    "    search = 'aeiou'\n",
    "    count = 0\n",
    "    for i in text:\n",
    "        if i in search:\n",
    "            count+=1\n",
    "    return count\n",
    "    \n",
    "\n",
    "\n",
    "text = 'nice to meet you'\n",
    "alpha(text)\n"
   ]
  },
  {
   "cell_type": "markdown",
   "id": "8cbffe67",
   "metadata": {},
   "source": [
    "### try, except"
   ]
  },
  {
   "cell_type": "markdown",
   "id": "799a319d",
   "metadata": {},
   "source": [
    "``` python\n",
    "try : \n",
    "    실행할 코드\n",
    "except (예외종류 : 생략가능):\n",
    "    예외가 발생했을 때 실행할 코드\n",
    "```"
   ]
  },
  {
   "cell_type": "code",
   "execution_count": 38,
   "id": "28253eae",
   "metadata": {},
   "outputs": [
    {
     "ename": "ZeroDivisionError",
     "evalue": "division by zero",
     "output_type": "error",
     "traceback": [
      "\u001b[1;31m---------------------------------------------------------------------------\u001b[0m",
      "\u001b[1;31mZeroDivisionError\u001b[0m                         Traceback (most recent call last)",
      "Cell \u001b[1;32mIn[38], line 1\u001b[0m\n\u001b[1;32m----> 1\u001b[0m result \u001b[38;5;241m=\u001b[39m \u001b[38;5;241;43m10\u001b[39;49m\u001b[38;5;241;43m/\u001b[39;49m\u001b[38;5;241;43m0\u001b[39;49m\n",
      "\u001b[1;31mZeroDivisionError\u001b[0m: division by zero"
     ]
    }
   ],
   "source": [
    "result = 10/0"
   ]
  },
  {
   "cell_type": "code",
   "execution_count": 39,
   "id": "fbf0d4fb",
   "metadata": {},
   "outputs": [
    {
     "name": "stdout",
     "output_type": "stream",
     "text": [
      "0으로 나눌 수 없습니다.\n"
     ]
    }
   ],
   "source": [
    "try:\n",
    "    result = 10/0\n",
    "except ZeroDivisionError:\n",
    "    print('0으로 나눌 수 없습니다.')"
   ]
  },
  {
   "cell_type": "code",
   "execution_count": 40,
   "id": "c56dd038",
   "metadata": {},
   "outputs": [
    {
     "name": "stdout",
     "output_type": "stream",
     "text": [
      "문제가 발생했습니다.\n"
     ]
    }
   ],
   "source": [
    "try:\n",
    "    result = 10/0\n",
    "except :\n",
    "    print('문제가 발생했습니다.')"
   ]
  },
  {
   "cell_type": "code",
   "execution_count": 41,
   "id": "145dbd5f",
   "metadata": {},
   "outputs": [
    {
     "ename": "TypeError",
     "evalue": "unsupported operand type(s) for /: 'int' and 'str'",
     "output_type": "error",
     "traceback": [
      "\u001b[1;31m---------------------------------------------------------------------------\u001b[0m",
      "\u001b[1;31mTypeError\u001b[0m                                 Traceback (most recent call last)",
      "Cell \u001b[1;32mIn[41], line 1\u001b[0m\n\u001b[1;32m----> 1\u001b[0m \u001b[38;5;241;43m10\u001b[39;49m\u001b[38;5;241;43m/\u001b[39;49m\u001b[38;5;124;43m'\u001b[39;49m\u001b[38;5;124;43mㄱ\u001b[39;49m\u001b[38;5;124;43m'\u001b[39;49m\n",
      "\u001b[1;31mTypeError\u001b[0m: unsupported operand type(s) for /: 'int' and 'str'"
     ]
    }
   ],
   "source": [
    "10/'ㄱ'"
   ]
  },
  {
   "cell_type": "code",
   "execution_count": 45,
   "id": "dda915d7",
   "metadata": {},
   "outputs": [],
   "source": [
    "def safe():\n",
    "    try:\n",
    "        number = int(input('사용자에게 숫자를 입력 받습니다.'))\n",
    "        result = 10/number\n",
    "        return result\n",
    "    except ZeroDivisionError:\n",
    "        print('0으로 나눌 수 없습니다')\n",
    "    except TypeError:\n",
    "        print('잘못된 타입입니다.')\n",
    "    except ValueError:\n",
    "        print('숫자가 아닌 값을 입력했습니다.')"
   ]
  },
  {
   "cell_type": "code",
   "execution_count": 47,
   "id": "f69f0635",
   "metadata": {},
   "outputs": [
    {
     "name": "stdout",
     "output_type": "stream",
     "text": [
      "0으로 나눌 수 없습니다\n"
     ]
    }
   ],
   "source": [
    "safe()"
   ]
  },
  {
   "cell_type": "code",
   "execution_count": 49,
   "id": "231f9d50",
   "metadata": {},
   "outputs": [
    {
     "name": "stdout",
     "output_type": "stream",
     "text": [
      "입력한 숫자 : 5\n",
      "입력한 숫자 : 1\n",
      "입력한 숫자 : 2\n",
      "입력한 숫자 : 4\n",
      "입력한 숫자 : 3\n",
      "입력한 숫자 : 53\n"
     ]
    },
    {
     "ename": "ValueError",
     "evalue": "invalid literal for int() with base 10: 'dasdf'",
     "output_type": "error",
     "traceback": [
      "\u001b[1;31m---------------------------------------------------------------------------\u001b[0m",
      "\u001b[1;31mValueError\u001b[0m                                Traceback (most recent call last)",
      "Cell \u001b[1;32mIn[49], line 2\u001b[0m\n\u001b[0;32m      1\u001b[0m \u001b[38;5;28;01mwhile\u001b[39;00m \u001b[38;5;28;01mTrue\u001b[39;00m: \u001b[38;5;66;03m# while True 일 경우 꼭 break를 넣어야 함\u001b[39;00m\n\u001b[1;32m----> 2\u001b[0m     number \u001b[38;5;241m=\u001b[39m \u001b[38;5;28;43mint\u001b[39;49m\u001b[43m(\u001b[49m\u001b[38;5;28;43minput\u001b[39;49m\u001b[43m(\u001b[49m\u001b[38;5;124;43m'\u001b[39;49m\u001b[38;5;124;43m숫자를 입력하세요. 종료하려면 0을 누르세요.\u001b[39;49m\u001b[38;5;124;43m'\u001b[39;49m\u001b[43m)\u001b[49m\u001b[43m)\u001b[49m\n\u001b[0;32m      3\u001b[0m     \u001b[38;5;28;01mif\u001b[39;00m number \u001b[38;5;241m==\u001b[39m \u001b[38;5;241m0\u001b[39m:\n\u001b[0;32m      4\u001b[0m         \u001b[38;5;28mprint\u001b[39m(\u001b[38;5;124m'\u001b[39m\u001b[38;5;124m프로그램을 종료 합니다.\u001b[39m\u001b[38;5;124m'\u001b[39m)\n",
      "\u001b[1;31mValueError\u001b[0m: invalid literal for int() with base 10: 'dasdf'"
     ]
    }
   ],
   "source": [
    "while True: # while True 일 경우 꼭 break를 넣어야 함\n",
    "    number = int(input('숫자를 입력하세요. 종료하려면 0을 누르세요.'))\n",
    "    if number == 0:\n",
    "        print('프로그램을 종료 합니다.')\n",
    "        break\n",
    "    print(f'입력한 숫자 : {number}')\n",
    "    "
   ]
  },
  {
   "cell_type": "code",
   "execution_count": 50,
   "id": "4d93cb33",
   "metadata": {},
   "outputs": [
    {
     "name": "stdout",
     "output_type": "stream",
     "text": [
      "잘못된 입력입니다. 숫자를 입력하세요.\n",
      "잘못된 입력입니다. 숫자를 입력하세요.\n",
      "잘못된 입력입니다. 숫자를 입력하세요.\n",
      "잘못된 입력입니다. 숫자를 입력하세요.\n",
      "잘못된 입력입니다. 숫자를 입력하세요.\n",
      "입력한 숫자 : 13\n",
      "입력한 숫자 : 135\n",
      "프로그램을 종료 합니다.\n"
     ]
    }
   ],
   "source": [
    "while True: # while True 일 경우 꼭 break를 넣어야 함\n",
    "    try:\n",
    "        number = int(input('숫자를 입력하세요. 종료하려면 0을 누르세요.'))\n",
    "        if number == 0:\n",
    "            print('프로그램을 종료 합니다.')\n",
    "            break\n",
    "        print(f'입력한 숫자 : {number}')\n",
    "    except ValueError:\n",
    "        print('잘못된 입력입니다. 숫자를 입력하세요.')"
   ]
  },
  {
   "cell_type": "code",
   "execution_count": 83,
   "id": "b11c045c",
   "metadata": {},
   "outputs": [
    {
     "name": "stdout",
     "output_type": "stream",
     "text": [
      "apple\n",
      "잘못된 입력입니다. 알맞은 인덱스를 넣어 주세요\n"
     ]
    }
   ],
   "source": [
    "# Q1. 리스트와 인덱스 매개변수로 받아 해당하는 인덱스의 값을 출력해주는 함수를 만들어보세요.\n",
    "# 이 때, 범위를 벗어난 인덱스 값을 넣어도 예외로 처리될 수 있도록 처리하세요\n",
    "\n",
    "fruits = ['apple', 'banana', 'cherry', 'mango']\n",
    "print(fruits[0])\n",
    "\n",
    "def index(a, b):\n",
    "    try:\n",
    "        return a[b]\n",
    "    except IndexError:\n",
    "        print('잘못된 입력입니다. 알맞은 인덱스를 넣어 주세요')\n",
    "    except NameError:\n",
    "        print('잘못된 입력입니다. 인덱스를 입력하세요')\n",
    "    except TypeError:\n",
    "        print('잘못된 입력입니다. 맞는 타입을 입력해 주세요')\n",
    "    \n",
    "    \n",
    "index(fruits, 5)"
   ]
  },
  {
   "cell_type": "code",
   "execution_count": 88,
   "id": "be250697",
   "metadata": {},
   "outputs": [
    {
     "name": "stdout",
     "output_type": "stream",
     "text": [
      "4000\n",
      "잘못된 입력입니다. key값을 다시 입력하세요\n",
      "None\n"
     ]
    }
   ],
   "source": [
    "# Q2. 딕셔너리와 key값을 입력받아 딕셔너리에서 해당하는 key값을 출력해주는 함수를 만들어보세요.\n",
    "# 이 때, 딕셔너리에 없는 key값을 넣어도 예외로 처리될 수 있도록 처리하세요\n",
    "\n",
    "fruits = {\n",
    "    'apple' : 1000,\n",
    "    'banana' : 2000, \n",
    "    'cherry' : 3000, \n",
    "    'mango' : 4000\n",
    "}\n",
    "print(fruits['mango'])\n",
    "\n",
    "def price(fruits, fruit):\n",
    "    try:\n",
    "        return fruits[fruit]\n",
    "    except KeyError:\n",
    "        print('잘못된 입력입니다. key값을 다시 입력하세요')\n",
    "\n",
    "fruit = input('과일 이름을 입력하세요')\n",
    "print(price(fruits, fruit))\n",
    "    "
   ]
  },
  {
   "cell_type": "markdown",
   "id": "e8b6731b",
   "metadata": {},
   "source": [
    "## 3. 매개변수\n",
    "\n",
    "- 매개변수는 함수에 입력으로 전달되는 값"
   ]
  },
  {
   "cell_type": "code",
   "execution_count": 90,
   "id": "f26c2810",
   "metadata": {},
   "outputs": [
    {
     "name": "stdout",
     "output_type": "stream",
     "text": [
      "hi\n"
     ]
    }
   ],
   "source": [
    "def greet(): # 매개변수가 없어도 출력 가능\n",
    "    print('hi')\n",
    "\n",
    "greet()"
   ]
  },
  {
   "cell_type": "code",
   "execution_count": 91,
   "id": "ed9fa81e",
   "metadata": {},
   "outputs": [
    {
     "name": "stdout",
     "output_type": "stream",
     "text": [
      "hi 성진\n"
     ]
    }
   ],
   "source": [
    "def greet_name(name):\n",
    "    print(f'hi {name}')\n",
    "\n",
    "greet_name('성진')"
   ]
  },
  {
   "cell_type": "markdown",
   "id": "fbed9ec1",
   "metadata": {},
   "source": [
    "#### 여러개의 매개변수"
   ]
  },
  {
   "cell_type": "code",
   "execution_count": 92,
   "id": "5a530dd8",
   "metadata": {},
   "outputs": [
    {
     "data": {
      "text/plain": [
       "90"
      ]
     },
     "execution_count": 92,
     "metadata": {},
     "output_type": "execute_result"
    }
   ],
   "source": [
    "def multi(a, b, c):\n",
    "    d = a * b * c\n",
    "    return d\n",
    "multi(2, 3, 5)* 3"
   ]
  },
  {
   "cell_type": "markdown",
   "id": "e3780c45",
   "metadata": {},
   "source": [
    "#### 기본값이 있는 매개변수"
   ]
  },
  {
   "cell_type": "code",
   "execution_count": 96,
   "id": "c82613d7",
   "metadata": {},
   "outputs": [
    {
     "name": "stdout",
     "output_type": "stream",
     "text": [
      "안녕하세요, 성진님\n",
      "안녕하세요, person님\n"
     ]
    }
   ],
   "source": [
    "def greet(name = 'person'):\n",
    "    print(f'안녕하세요, {name}님')\n",
    "greet('성진')\n",
    "greet()   # 기본값을 설정"
   ]
  },
  {
   "cell_type": "markdown",
   "id": "e71f8b37",
   "metadata": {},
   "source": [
    "#### 매개변수를 몇개를 받을지 모른다면?"
   ]
  },
  {
   "cell_type": "code",
   "execution_count": 99,
   "id": "4bd331c4",
   "metadata": {},
   "outputs": [
    {
     "data": {
      "text/plain": [
       "45"
      ]
     },
     "execution_count": 99,
     "metadata": {},
     "output_type": "execute_result"
    }
   ],
   "source": [
    "def add_many(*num): # 변수 앞에 *을 붙여주면 여러 변수를 받을 수 있다\n",
    "    result = 0\n",
    "    for i in num:\n",
    "        result = result + i\n",
    "    return result\n",
    "\n",
    "add_many(1, 2, 3, 4, 5, 6, 7, 8, 9)\n"
   ]
  },
  {
   "cell_type": "markdown",
   "id": "f999d567",
   "metadata": {},
   "source": [
    "#### 매개변수의 순서"
   ]
  },
  {
   "cell_type": "code",
   "execution_count": 100,
   "id": "97f49808",
   "metadata": {},
   "outputs": [
    {
     "name": "stdout",
     "output_type": "stream",
     "text": [
      "이름 : 수빈, 나이 : 20, 사는 곳 : 서울\n"
     ]
    }
   ],
   "source": [
    "def info(name, age, city):\n",
    "    print(f'이름 : {name}, 나이 : {age}, 사는 곳 : {city}')\n",
    "\n",
    "info('수빈', 20, '서울')"
   ]
  },
  {
   "cell_type": "code",
   "execution_count": 102,
   "id": "a3c10659",
   "metadata": {},
   "outputs": [
    {
     "name": "stdout",
     "output_type": "stream",
     "text": [
      "이름 : 서울, 나이 : 20, 사는 곳 : 수빈\n",
      "이름 : 수빈, 나이 : 20, 사는 곳 : 서울\n"
     ]
    }
   ],
   "source": [
    "info('서울', 20, '수빈')\n",
    "info(age = 20, city = '서울', name = '수빈')"
   ]
  },
  {
   "cell_type": "code",
   "execution_count": 105,
   "id": "2d4e921e",
   "metadata": {},
   "outputs": [
    {
     "name": "stdout",
     "output_type": "stream",
     "text": [
      "제목 : 베테랑, 감독 : 익명, 연도 : 정보없음\n"
     ]
    }
   ],
   "source": [
    "# Q1. 영화 정보를 출력하는 함수를 만들어보세요.\n",
    "# 제목, 감독, 연도를 매개변수로 받으며 연도는 기본값이 정보없음으로 출력될 수 있게 작성해보세요.\n",
    "\n",
    "def movie_info(title, director, year = '정보없음'):\n",
    "    print(f'제목 : {title}, 감독 : {director}, 연도 : {year}')\n",
    "\n",
    "movie_info('베테랑','익명')"
   ]
  },
  {
   "cell_type": "code",
   "execution_count": 107,
   "id": "88511ac1",
   "metadata": {},
   "outputs": [
    {
     "name": "stdout",
     "output_type": "stream",
     "text": [
      "평균은 80.0이고, 합계는 240입니다.\n"
     ]
    }
   ],
   "source": [
    "# Q2. 국어, 수학, 영어 세 과목의 점수를 매개변수로 받아 평균 점수와 총 합계 점수를 출력하는 함수를 작성해보세요.\n",
    "\n",
    "def score(korean, math, english):\n",
    "    average = (korean + math + english) / 3\n",
    "    total = korean + math + english\n",
    "    print(f'평균은 {average}이고, 합계는 {total}입니다.')\n",
    "\n",
    "score(90,80,70)"
   ]
  },
  {
   "cell_type": "code",
   "execution_count": 117,
   "id": "53e026cb",
   "metadata": {},
   "outputs": [
    {
     "name": "stdout",
     "output_type": "stream",
     "text": [
      "평균은 59.0이고, 합계는 177입니다.\n"
     ]
    }
   ],
   "source": [
    "def score(korean, math, english):\n",
    "    total = korean + math + english\n",
    "    average = total / 3\n",
    "    return total, average\n",
    "\n",
    "total, average = score(80, 30, 67)\n",
    "print(f'평균은 {average}이고, 합계는 {total}입니다.')"
   ]
  },
  {
   "cell_type": "code",
   "execution_count": 119,
   "id": "fb242f9a",
   "metadata": {},
   "outputs": [
    {
     "data": {
      "text/plain": [
       "6000.0"
      ]
     },
     "execution_count": 119,
     "metadata": {},
     "output_type": "execute_result"
    }
   ],
   "source": [
    "# Q3. 가격과 할인율을 입력하면 할인된 가격을 출력해주는 함수를 작성해보세요.\n",
    "# 할인율은 최대 100%로 하며 기본 할인율은 10%로 설정해보세요.\n",
    "\n",
    "def sale(price, percent = 10):\n",
    "    if percent > 100:\n",
    "        percent = 100\n",
    "    \n",
    "    final_pirce = price*(1-(percent / 100))\n",
    "    return final_pirce\n",
    "\n",
    "sale(10000, 40)"
   ]
  },
  {
   "cell_type": "code",
   "execution_count": 120,
   "id": "db65f0a9",
   "metadata": {},
   "outputs": [
    {
     "data": {
      "text/plain": [
       "50.0"
      ]
     },
     "execution_count": 120,
     "metadata": {},
     "output_type": "execute_result"
    }
   ],
   "source": [
    "# Q4. 시험 점수를 입력받아 평균을 계산하는 계산기 함수를 작성해보세요\n",
    "# 이 때, 몇 개의 점수를 입력받을지는 모른다고 가정하고 작성해보세요\n",
    "\n",
    "def average(*score):\n",
    "    total = sum(score)\n",
    "    avg = total/len(score)\n",
    "    return avg\n",
    "\n",
    "average(50, 60, 40)"
   ]
  },
  {
   "cell_type": "code",
   "execution_count": 126,
   "id": "fdb8e674",
   "metadata": {},
   "outputs": [
    {
     "name": "stdout",
     "output_type": "stream",
     "text": [
      "성진님, 좋은하루 되세요\n"
     ]
    }
   ],
   "source": [
    "# Q5. 사용자의 이름과 메시지를 매개변수로 입력받는 메시지 함수를 작성해보세요.\n",
    "# 메시지는 '안녕하세요'를 기본 값으로 설정하세요 \n",
    "\n",
    "def send_message(name, message='안녕하세요'):\n",
    "    print(f'{name}님, {message}')\n",
    "\n",
    "send_message('성진', '좋은하루 되세요')"
   ]
  },
  {
   "cell_type": "code",
   "execution_count": null,
   "id": "5271cc07",
   "metadata": {},
   "outputs": [],
   "source": []
  },
  {
   "cell_type": "code",
   "execution_count": null,
   "id": "20c55678",
   "metadata": {},
   "outputs": [],
   "source": []
  },
  {
   "cell_type": "markdown",
   "id": "ec5fb5ae",
   "metadata": {},
   "source": [
    "## 4. 지역변수와 전역변수\n",
    "- 지역변수는 함수 내부에서만 유효하며, 전역변수는 프로그램 전체에서 접근할 수 있음"
   ]
  },
  {
   "cell_type": "code",
   "execution_count": 127,
   "id": "aeefe1ba",
   "metadata": {},
   "outputs": [],
   "source": [
    "def sample():\n",
    "    x = 10\n",
    "    y = 5\n",
    "    print(f'함수 내부에서의 x: {x}, y:{y}')\n",
    "    "
   ]
  },
  {
   "cell_type": "code",
   "execution_count": 128,
   "id": "c526637b",
   "metadata": {},
   "outputs": [
    {
     "name": "stdout",
     "output_type": "stream",
     "text": [
      "함수 내부에서의 x: 10, y:5\n"
     ]
    }
   ],
   "source": [
    "sample()"
   ]
  },
  {
   "cell_type": "code",
   "execution_count": 129,
   "id": "604fb14e",
   "metadata": {},
   "outputs": [
    {
     "ename": "NameError",
     "evalue": "name 'y' is not defined",
     "output_type": "error",
     "traceback": [
      "\u001b[1;31m---------------------------------------------------------------------------\u001b[0m",
      "\u001b[1;31mNameError\u001b[0m                                 Traceback (most recent call last)",
      "Cell \u001b[1;32mIn[129], line 1\u001b[0m\n\u001b[1;32m----> 1\u001b[0m \u001b[38;5;28mprint\u001b[39m(\u001b[43my\u001b[49m)\n",
      "\u001b[1;31mNameError\u001b[0m: name 'y' is not defined"
     ]
    }
   ],
   "source": [
    "print(y) # y는 함수 내에서만 쓰는 지역변수 이기 때문에 밖에서 부를 수 없다!!!!!"
   ]
  },
  {
   "cell_type": "markdown",
   "id": "5a41e8c5",
   "metadata": {},
   "source": [
    "- 함수 내부에서는 지역변수가 우선\n",
    "- 함수 내부의 x는 전역변수와 같은 이름이지만 별도의 지역변수로 동작\n",
    "- 함수 외부의 전역변수 x 값에는 영향을 미치지 않는다"
   ]
  },
  {
   "cell_type": "code",
   "execution_count": 131,
   "id": "e018bc90",
   "metadata": {},
   "outputs": [],
   "source": [
    "x = 20"
   ]
  },
  {
   "cell_type": "code",
   "execution_count": 132,
   "id": "dd33f13a",
   "metadata": {},
   "outputs": [
    {
     "name": "stdout",
     "output_type": "stream",
     "text": [
      "20\n"
     ]
    }
   ],
   "source": [
    "print(x)"
   ]
  },
  {
   "cell_type": "code",
   "execution_count": 134,
   "id": "926b8a58",
   "metadata": {},
   "outputs": [
    {
     "name": "stdout",
     "output_type": "stream",
     "text": [
      "함수 내부에서의 x: 10, y:5\n"
     ]
    }
   ],
   "source": [
    "sample()"
   ]
  },
  {
   "cell_type": "code",
   "execution_count": 135,
   "id": "fa1659ae",
   "metadata": {},
   "outputs": [
    {
     "name": "stdout",
     "output_type": "stream",
     "text": [
      "함수 내부의 x값은 5\n",
      "함수 외부의 x값 : 20\n"
     ]
    }
   ],
   "source": [
    "x = 20\n",
    "\n",
    "def sample():\n",
    "    x = 5\n",
    "    print(f'함수 내부의 x값은 {x}')\n",
    "    \n",
    "sample()\n",
    "print(f'함수 외부의 x값 : {x}')"
   ]
  },
  {
   "cell_type": "code",
   "execution_count": null,
   "id": "e21adb28",
   "metadata": {},
   "outputs": [],
   "source": []
  },
  {
   "cell_type": "code",
   "execution_count": null,
   "id": "98772a83",
   "metadata": {},
   "outputs": [],
   "source": []
  },
  {
   "cell_type": "markdown",
   "id": "1df16ff4",
   "metadata": {},
   "source": [
    "## 5. global\n",
    "- `global` 함수를 사용하면 함수 내부에서 전역변수를 수정할 수 있음"
   ]
  },
  {
   "cell_type": "code",
   "execution_count": 140,
   "id": "dd267f3d",
   "metadata": {},
   "outputs": [
    {
     "name": "stdout",
     "output_type": "stream",
     "text": [
      "함수 내부의 x값은 100\n",
      "함수 외부 x의 값도 100\n"
     ]
    }
   ],
   "source": [
    "def sample():\n",
    "    global x\n",
    "    x = 100\n",
    "    print(f'함수 내부의 x값은 {x}')\n",
    "\n",
    "sample()\n",
    "print(f'함수 외부 x의 값도 {x}')"
   ]
  },
  {
   "cell_type": "code",
   "execution_count": 59,
   "id": "f938a6f7",
   "metadata": {},
   "outputs": [
    {
     "name": "stdout",
     "output_type": "stream",
     "text": [
      "6\n"
     ]
    }
   ],
   "source": [
    "# Q1. 함수를 호출할 때 마다 전역변수 count가 1씩 카운팅되는 함수를 만들어보세요\n",
    "\n",
    "count = 0\n",
    "\n",
    "def counting():\n",
    "    global count\n",
    "    count += 1\n",
    "    \n",
    "counting()\n",
    "counting()\n",
    "counting()\n",
    "counting()\n",
    "counting()\n",
    "counting()\n",
    "print(count)"
   ]
  },
  {
   "cell_type": "code",
   "execution_count": 58,
   "id": "7be17a08",
   "metadata": {},
   "outputs": [
    {
     "name": "stdout",
     "output_type": "stream",
     "text": [
      "위에 5\n",
      "위에 4\n",
      "위에 3\n",
      "위에 2\n",
      "위에 1\n",
      "[5, 4, 3, 2, 1]\n",
      "0! = [5, 4, 3, 2] = 120\n"
     ]
    }
   ],
   "source": [
    "# Q2. 팩토리얼을 계산하는 함수를 작성해보세요.\n",
    "# factorial(5)의 출력 예시 : 5! = 1 * 2 * 3 * 4 * 5 = 120\n",
    "\n",
    "def factorial(num):\n",
    "    a = []\n",
    "    while num > 0:       \n",
    "            a.append(num)\n",
    "            num -= 1\n",
    "    print(a)\n",
    "    result = 1\n",
    "    for i in a:\n",
    "          result *= i\n",
    "    return print(f'{num}! = {a[:-1]} = {result}')\n",
    "\n",
    "factorial(5)"
   ]
  },
  {
   "cell_type": "code",
   "execution_count": 63,
   "id": "3d2ce7f6",
   "metadata": {},
   "outputs": [
    {
     "name": "stdout",
     "output_type": "stream",
     "text": [
      "5! = 1 * 2 * 3 * 4 * 5 = 120\n"
     ]
    }
   ],
   "source": [
    "def factorial(n):\n",
    "    result = 1\n",
    "    cal = ''\n",
    "    for i in range(1, n+1):\n",
    "        result *= i\n",
    "        if i < n:\n",
    "            cal += str(i) + ' * '\n",
    "        else:\n",
    "            cal += str(i)\n",
    "    print(f'{n}! = {cal} = {result}')\n",
    "\n",
    "factorial(5)\n"
   ]
  },
  {
   "cell_type": "code",
   "execution_count": 67,
   "id": "a5c8215f",
   "metadata": {},
   "outputs": [
    {
     "name": "stdout",
     "output_type": "stream",
     "text": [
      "25\n",
      "20\n",
      "15\n",
      "10\n",
      "5\n",
      "0\n",
      "30\n"
     ]
    }
   ],
   "source": [
    "# Q3. time 변수를 사용하여 남은 시간을 감소시키는 함수를 작성해보세요.\n",
    "# 이 함수는 호출될 때 마다 남은 time을 5초씩 감소시키고 남은 시간이 0이하가 되면 종료되었다는 메시지를 출력합니다.\n",
    "\n",
    "time = 30  # 전역 변수 (초 단위)\n",
    "\n",
    "def time_(time):\n",
    "    while time > 0:\n",
    "        time -= 5\n",
    "        print(time)\n",
    "    return '종료'\n",
    "time_(time)\n",
    "\n",
    "print(time)"
   ]
  },
  {
   "cell_type": "code",
   "execution_count": 72,
   "id": "c7b1a719",
   "metadata": {},
   "outputs": [
    {
     "name": "stdout",
     "output_type": "stream",
     "text": [
      "남은 시간은 25 입니다\n",
      "남은 시간은 20 입니다\n",
      "남은 시간은 15 입니다\n",
      "남은 시간은 10 입니다\n",
      "남은 시간은 5 입니다\n",
      "종료\n"
     ]
    }
   ],
   "source": [
    "time = 30  # 전역 변수 (초 단위)\n",
    "\n",
    "def dt():\n",
    "    global time\n",
    "    time -= 5\n",
    "    if time <= 0:\n",
    "        print('종료')\n",
    "    else:\n",
    "        print(f'남은 시간은 {time} 입니다')\n",
    "\n",
    "dt()\n",
    "dt()\n",
    "dt()\n",
    "dt()\n",
    "dt()\n",
    "dt()"
   ]
  },
  {
   "cell_type": "code",
   "execution_count": 75,
   "id": "9daf883f",
   "metadata": {},
   "outputs": [
    {
     "name": "stdout",
     "output_type": "stream",
     "text": [
      "30\n",
      "60\n",
      "레벨업\n",
      "110\n",
      "110\n"
     ]
    }
   ],
   "source": [
    "# Q4. 매개변수로 숫자를 입력받아 숫자만큼 유저의 경험치를 증가시키는 함수를 작성해보세요.\n",
    "# 이 함수는 호출될 때마다 유저 경험치를 증가시키며 경험치가 100이상이 되면 레벨업 메시지가 출력됩니다.\n",
    "\n",
    "exp = 0  # 전역 변수\n",
    "\n",
    "def exp_(num):\n",
    "    global exp\n",
    "    exp += num\n",
    "\n",
    "    if exp >= 100:\n",
    "        print('레벨업')\n",
    "    print(exp) \n",
    "    \n",
    "exp_(30)\n",
    "exp_(30)\n",
    "exp_(50)\n",
    "print(exp)"
   ]
  },
  {
   "cell_type": "code",
   "execution_count": 77,
   "id": "90335fae",
   "metadata": {},
   "outputs": [
    {
     "name": "stdout",
     "output_type": "stream",
     "text": [
      "현재 경험치는 : 50입니다.\n",
      "레벨업!!!\n"
     ]
    }
   ],
   "source": [
    "exp = 0  # 전역 변수\n",
    "\n",
    "def level(point):\n",
    "    global exp\n",
    "    exp += point\n",
    "\n",
    "    if exp >= 100:\n",
    "        print(f'레벨업!!!')\n",
    "    else:\n",
    "        print(f'현재 경험치는 : {exp}입니다.')\n",
    "\n",
    "level(50)\n",
    "level(50)\n"
   ]
  },
  {
   "cell_type": "code",
   "execution_count": 81,
   "id": "6062ea0f",
   "metadata": {},
   "outputs": [
    {
     "data": {
      "text/plain": [
       "-4321"
      ]
     },
     "execution_count": 81,
     "metadata": {},
     "output_type": "execute_result"
    }
   ],
   "source": [
    "# Q5. 숫자를 입력받아 숫자를 뒤집어 출력하는 함수를 작성해보세요\n",
    "# 출력 예시 : 4321 -> 1234\n",
    "\n",
    "def reverse(n):\n",
    "    if n >= 0:\n",
    "        return int(str(n)[::-1])\n",
    "    else:\n",
    "        return -int(str(-n)[::-1])\n",
    "    \n",
    "reverse(-1234)\n",
    "\n"
   ]
  },
  {
   "cell_type": "markdown",
   "id": "b2eef339",
   "metadata": {},
   "source": [
    "### 심화문제"
   ]
  },
  {
   "cell_type": "code",
   "execution_count": null,
   "id": "48a19b82",
   "metadata": {},
   "outputs": [],
   "source": []
  },
  {
   "cell_type": "code",
   "execution_count": 128,
   "id": "252d6142",
   "metadata": {},
   "outputs": [],
   "source": [
    "# Q1. drinks = {'커피': 700, '콜라': 900, '물': 500}의 메뉴를 갖고 있는 자판기를 만들어보세요\n",
    "# 1. 사용자에게 메뉴를 선택하게 하고, 2. 음료에 알맞는 금액을 투입하게 하세요\n",
    "# 3. 음료의 가격을 알맞게 투입했다면 음료를 주고 거스름돈을 주세요\n",
    "# 4. 음료의 가격이 다르다면 처음으로 다시 돌아가세요\n",
    "# * 반복문을 강제종료할 수 있도록 '종료' 라고 입력 시 반복문을 종료할 수 있도록 제어하세요\n",
    "\n",
    "drinks = {'커피': 700, '콜라': 900, '물': 500}\n",
    "    \n",
    "\n",
    "# print(f'{drinks[menu] - pay}')\n",
    "\n",
    "while True:\n",
    "    menu = input('메뉴를 선택하세요')\n",
    "    if menu == '종료':\n",
    "        break\n",
    "    elif menu == '커피'or'콜라'or'물':\n",
    "        pass\n",
    "    while True:\n",
    "        pay = int(input('금액을 넣어주세요'))\n",
    "        if pay >= drinks[menu]:\n",
    "            print(f'{drinks[menu] - pay}')\n",
    "        else:\n",
    "            pass\n",
    "            break\n"
   ]
  },
  {
   "cell_type": "code",
   "execution_count": 131,
   "id": "b55322d5",
   "metadata": {},
   "outputs": [],
   "source": [
    "def machine():\n",
    "    drinks = {'커피': 700, '콜라': 900, '물': 500}\n",
    "\n",
    "    while True:\n",
    "        for drink, price in drinks.items():\n",
    "            print(f'{drink} : {price}원')\n",
    "\n",
    "        choice = input('음료를 선택하세요.(종료하려면 \"종료\"라고 입력 하세요.)')\n",
    "        if choice == '종료':\n",
    "            print('자판기를 종료합니다.')\n",
    "            break\n",
    "        if choice in drinks:\n",
    "            price = drinks[choice]\n",
    "            payment = int(input(f'{choice}의 가격은 {price}원 입니다. 금액을 투입해 주세요 : '))\n",
    "\n",
    "            if payment >= price:\n",
    "                change = payment - price\n",
    "                print(f'{choice}가 나왔습니다. 거스름돈은 {change}입니다.')\n",
    "\n",
    "            else:\n",
    "                print('금액이 부족합니다.')\n",
    "        else:\n",
    "            print('잘못된 선택입니다. 다시 입력하세요.')\n"
   ]
  },
  {
   "cell_type": "code",
   "execution_count": 132,
   "id": "40bd75ac",
   "metadata": {},
   "outputs": [
    {
     "name": "stdout",
     "output_type": "stream",
     "text": [
      "커피 : 700원\n",
      "콜라 : 900원\n",
      "물 : 500원\n",
      "잘못된 선택입니다. 다시 입력하세요.\n",
      "커피 : 700원\n",
      "콜라 : 900원\n",
      "물 : 500원\n",
      "자판기를 종료합니다.\n"
     ]
    }
   ],
   "source": [
    "machine()"
   ]
  },
  {
   "cell_type": "code",
   "execution_count": 120,
   "id": "79731146",
   "metadata": {},
   "outputs": [
    {
     "data": {
      "text/plain": [
       "3.3333333333333335"
      ]
     },
     "execution_count": 120,
     "metadata": {},
     "output_type": "execute_result"
    }
   ],
   "source": [
    "# Q. 사용자에게 숫자와 연산자를 입력받아 계산을 해주는 계산기를 만들어보세요.\n",
    "\n",
    "def cal(num1, a, num2):\n",
    "    if a == 'x':\n",
    "        return num1 * num2\n",
    "    elif a == '/':\n",
    "        return num1 / num2\n",
    "    elif a == '+':\n",
    "        return num1 + num2\n",
    "    elif a == '-':\n",
    "        return num1 - num2\n",
    "    \n",
    "    \n",
    "num1 = int(input('숫자를 입력 하세요'))\n",
    "a = input('연산자를 입력하세요')\n",
    "num2 = int(input('숫자를 입력하세요'))    \n",
    "cal(num1, a, num2)"
   ]
  },
  {
   "cell_type": "code",
   "execution_count": 140,
   "id": "34394e90",
   "metadata": {},
   "outputs": [
    {
     "name": "stdout",
     "output_type": "stream",
     "text": [
      "정수 계산기를 실행합니다.\n",
      "결과 : 2\n",
      "계산을 종료합니다.\n"
     ]
    }
   ],
   "source": [
    "def calculator():\n",
    "    def add(x,y):\n",
    "        return x+y\n",
    "    def subtract(x,y):\n",
    "        return x-y\n",
    "    def multiply(x,y):\n",
    "        return x*y\n",
    "    def divide(x,y):\n",
    "        return x/y\n",
    "    operations = {\n",
    "        '+' : add,\n",
    "        '-' : subtract,\n",
    "        '*' : multiply,\n",
    "        '/' : divide\n",
    "    }\n",
    "    while True:\n",
    "        print('정수 계산기를 실행합니다.')\n",
    "        num1 = int(input('첫 번째 숫자를 입력하세요'))\n",
    "        operator = input('연산자를 입력하세요 (+,-,*,/)')\n",
    "        num2 = int(input('두 번째 숫자를 입력하세요'))\n",
    "\n",
    "        if operator in operations:\n",
    "            result = operations[operator](num1, num2)\n",
    "        else:\n",
    "            result = '올바른 연산자를 입력하세요'\n",
    "        print(f'결과 : {result}')\n",
    "\n",
    "        ment = input('종료하려면 \"종료\"를 입력 하세요.')\n",
    "        if ment == '종료':\n",
    "            print('계산을 종료합니다.')\n",
    "            break\n",
    "\n",
    "calculator()"
   ]
  },
  {
   "cell_type": "markdown",
   "id": "8a520630",
   "metadata": {},
   "source": [
    "\n",
    "## 🌼마무리 문제\n",
    "\n",
    "아래 문제들을 풀어보세요!\n",
    "\n",
    "Q1. 달러 금액을 입력받아 원화로 변환하는 함수를 작성하세요."
   ]
  },
  {
   "cell_type": "code",
   "execution_count": 142,
   "id": "df407fa2",
   "metadata": {},
   "outputs": [
    {
     "name": "stdout",
     "output_type": "stream",
     "text": [
      "5달러는 6500원 입니다.\n"
     ]
    }
   ],
   "source": [
    "def exchange():\n",
    "    dollar = int(input('달러를 입력하세요'))\n",
    "    exchange_rate = 1300\n",
    "    won = dollar * exchange_rate\n",
    "    print(f'{dollar}달러는 {won}원 입니다.')\n",
    "\n",
    "exchange()\n",
    "    "
   ]
  },
  {
   "cell_type": "markdown",
   "id": "27236f69",
   "metadata": {},
   "source": [
    "Q2. 사용자에게 숫자를 입력받고 입력받은 숫자만큼 ‘★’을 출력하는 함수를 작성하세요."
   ]
  },
  {
   "cell_type": "code",
   "execution_count": 146,
   "id": "11ec2b2d",
   "metadata": {},
   "outputs": [
    {
     "name": "stdout",
     "output_type": "stream",
     "text": [
      "★★★★★\n"
     ]
    }
   ],
   "source": [
    "def make_star():\n",
    "    n = int(input('숫자를 입력 하세요'))\n",
    "    result = '★'*n\n",
    "    print (f'{result}')\n",
    "make_star()"
   ]
  },
  {
   "cell_type": "markdown",
   "id": "ef2a7570",
   "metadata": {},
   "source": [
    "Q3. 영어 문자열을 입력받아 문자열에 포함된 모음(a,e,i,o,u)의 개수를 세는 함수를 작성하세요."
   ]
  },
  {
   "cell_type": "code",
   "execution_count": 155,
   "id": "69c081b8",
   "metadata": {},
   "outputs": [
    {
     "data": {
      "text/plain": [
       "7"
      ]
     },
     "execution_count": 155,
     "metadata": {},
     "output_type": "execute_result"
    }
   ],
   "source": [
    "def vowel_count():\n",
    "    text = input('영어 문자를 입력 하세요')\n",
    "    count = 0\n",
    "    search = 'aioue'\n",
    "    for i in text:\n",
    "        if i in 'aioue':\n",
    "            count += 1\n",
    "    return count\n",
    "    \n",
    "vowel_count()\n",
    "           "
   ]
  }
 ],
 "metadata": {
  "kernelspec": {
   "display_name": "test_env",
   "language": "python",
   "name": "python3"
  },
  "language_info": {
   "codemirror_mode": {
    "name": "ipython",
    "version": 3
   },
   "file_extension": ".py",
   "mimetype": "text/x-python",
   "name": "python",
   "nbconvert_exporter": "python",
   "pygments_lexer": "ipython3",
   "version": "3.9.20"
  }
 },
 "nbformat": 4,
 "nbformat_minor": 5
}
