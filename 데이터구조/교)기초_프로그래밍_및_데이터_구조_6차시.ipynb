{
 "cells": [
  {
   "cell_type": "markdown",
   "id": "b9064ec6",
   "metadata": {},
   "source": [
    "\n",
    "# 🌼 기초 프로그래밍 및 데이터 구조 - 6차시(24.10.30)\n",
    "\n",
    "---\n"
   ]
  },
  {
   "cell_type": "markdown",
   "id": "1774c646",
   "metadata": {},
   "source": [
    "## 1. 모듈과 라이브러리\n",
    "\n",
    "- 모듈은 하나의 파이썬 파일로, 함수나 변수, 클래스를 모아 놓은 것\n",
    "- 라이브러리는 여러 모듈을 모아 놓은 것으로, 특정 기능을 제공하기 위해 사용  \n",
    "ex) `math`, `datetime`, `random` "
   ]
  },
  {
   "cell_type": "markdown",
   "id": "62b2414c",
   "metadata": {},
   "source": [
    "### 모듈 불러오기"
   ]
  },
  {
   "cell_type": "markdown",
   "id": "0afae7a3",
   "metadata": {},
   "source": [
    "#### math"
   ]
  },
  {
   "cell_type": "code",
   "execution_count": 1,
   "id": "c284c701",
   "metadata": {},
   "outputs": [],
   "source": [
    "import math"
   ]
  },
  {
   "cell_type": "code",
   "execution_count": 2,
   "id": "7e4534b3",
   "metadata": {},
   "outputs": [
    {
     "name": "stdout",
     "output_type": "stream",
     "text": [
      "4.0\n"
     ]
    }
   ],
   "source": [
    "print(math.sqrt(16)) # 제곱근 구하는 함수"
   ]
  },
  {
   "cell_type": "code",
   "execution_count": 3,
   "id": "91b06c85",
   "metadata": {},
   "outputs": [
    {
     "name": "stdout",
     "output_type": "stream",
     "text": [
      "27.0\n"
     ]
    }
   ],
   "source": [
    "print(math.pow(3,3)) # 제곱 구하는 함수"
   ]
  },
  {
   "cell_type": "code",
   "execution_count": 4,
   "id": "498fbe69",
   "metadata": {},
   "outputs": [
    {
     "name": "stdout",
     "output_type": "stream",
     "text": [
      "120\n"
     ]
    }
   ],
   "source": [
    "print(math.factorial(5))"
   ]
  },
  {
   "cell_type": "code",
   "execution_count": 5,
   "id": "0cd8b905",
   "metadata": {},
   "outputs": [
    {
     "name": "stdout",
     "output_type": "stream",
     "text": [
      "-0.9589242746631385/0.28366218546322625/-3.380515006246586\n"
     ]
    }
   ],
   "source": [
    "print(math.sin(5), math.cos(5), math.tan(5), sep='/')"
   ]
  },
  {
   "cell_type": "code",
   "execution_count": 6,
   "id": "c0a80900",
   "metadata": {},
   "outputs": [
    {
     "name": "stdout",
     "output_type": "stream",
     "text": [
      "3.141592653589793\n"
     ]
    }
   ],
   "source": [
    "print(math.pi)"
   ]
  },
  {
   "cell_type": "markdown",
   "id": "91287b76",
   "metadata": {},
   "source": [
    "#### datetime"
   ]
  },
  {
   "cell_type": "code",
   "execution_count": 7,
   "id": "02ebbc6c",
   "metadata": {},
   "outputs": [],
   "source": [
    "import datetime"
   ]
  },
  {
   "cell_type": "code",
   "execution_count": 8,
   "id": "cb3e0b20",
   "metadata": {},
   "outputs": [
    {
     "name": "stdout",
     "output_type": "stream",
     "text": [
      "현재 날짜와 시간 : 2024-10-30 09:15:32.630167\n"
     ]
    }
   ],
   "source": [
    "print(f'현재 날짜와 시간 : {datetime.datetime.now()}')"
   ]
  },
  {
   "cell_type": "code",
   "execution_count": 9,
   "id": "dcb40218",
   "metadata": {},
   "outputs": [],
   "source": [
    "today = datetime.datetime.now()"
   ]
  },
  {
   "cell_type": "code",
   "execution_count": 10,
   "id": "7364d047",
   "metadata": {},
   "outputs": [
    {
     "data": {
      "text/plain": [
       "datetime.datetime"
      ]
     },
     "execution_count": 10,
     "metadata": {},
     "output_type": "execute_result"
    }
   ],
   "source": [
    "type(today)"
   ]
  },
  {
   "cell_type": "code",
   "execution_count": 13,
   "id": "38c78bd3",
   "metadata": {},
   "outputs": [
    {
     "name": "stdout",
     "output_type": "stream",
     "text": [
      "오늘은 2024년 10월 30일 입니다.\n"
     ]
    }
   ],
   "source": [
    "print(f'오늘은 {today.year}년 {today.month}월 {today.day}일 입니다.')"
   ]
  },
  {
   "cell_type": "code",
   "execution_count": 16,
   "id": "54173087",
   "metadata": {},
   "outputs": [
    {
     "name": "stdout",
     "output_type": "stream",
     "text": [
      "2024-10-15\n"
     ]
    }
   ],
   "source": [
    "print(datetime.date(2024,10,15))"
   ]
  },
  {
   "cell_type": "code",
   "execution_count": 24,
   "id": "877e6a72",
   "metadata": {},
   "outputs": [
    {
     "name": "stdout",
     "output_type": "stream",
     "text": [
      "23:00:00\n"
     ]
    }
   ],
   "source": [
    "print(datetime.time(23,00,00))"
   ]
  },
  {
   "cell_type": "markdown",
   "id": "552af52e",
   "metadata": {},
   "source": [
    "| 코드 | 설명                          | 예시                      |\n",
    "|---|---|---|\n",
    "| `%Y` | 4자리 연도                    | 2024                      |\n",
    "| `%y` | 2자리 연도                    | 24                        |\n",
    "| `%m` | 2자리 월 (01 ~ 12)            | 01, 12                    |\n",
    "| `%d` | 2자리 일 (01 ~ 31)            | 01, 31                    |\n",
    "| `%H` | 24시간 형식의 시간 (00 ~ 23)  | 00, 23                    |\n",
    "| `%I` | 12시간 형식의 시간 (01 ~ 12)  | 01, 12                    |\n",
    "| `%p` | 오전/오후                     | AM, PM                    |\n",
    "| `%M` | 2자리 분 (00 ~ 59)            | 00, 59                    |\n",
    "| `%S` | 2자리 초 (00 ~ 59)            | 00, 59                    |\n",
    "| `%A` | 요일 이름 (전체)              | Monday                    |\n",
    "| `%a` | 요일 이름 (축약)              | Mon                       |\n",
    "| `%B` | 월 이름 (전체)                | January                   |\n",
    "| `%b` | 월 이름 (축약)                | Jan                       |\n",
    "| `%c` | 날짜와 시간 전체 출력         | Tue Oct 24 14:23:05 2024 |\n",
    "| `%x` | 날짜만 출력                   | 10/24/24                  |\n",
    "| `%X` | 시간만 출력                   | 14:23:05                  |\n"
   ]
  },
  {
   "cell_type": "code",
   "execution_count": 19,
   "id": "53337648",
   "metadata": {},
   "outputs": [
    {
     "name": "stdout",
     "output_type": "stream",
     "text": [
      "Wednesday\n"
     ]
    }
   ],
   "source": [
    "print(datetime.datetime.now().strftime('%A'))"
   ]
  },
  {
   "cell_type": "code",
   "execution_count": 21,
   "id": "9171fe5c",
   "metadata": {},
   "outputs": [
    {
     "name": "stdout",
     "output_type": "stream",
     "text": [
      "AM,09:20\n"
     ]
    }
   ],
   "source": [
    "print(datetime.datetime.now().strftime('%p,%H:%M'))"
   ]
  },
  {
   "cell_type": "code",
   "execution_count": null,
   "id": "0511aa4b",
   "metadata": {},
   "outputs": [],
   "source": []
  },
  {
   "cell_type": "code",
   "execution_count": null,
   "id": "235942ef",
   "metadata": {},
   "outputs": [],
   "source": []
  },
  {
   "cell_type": "markdown",
   "id": "2db0699d",
   "metadata": {},
   "source": [
    "#### random"
   ]
  },
  {
   "cell_type": "code",
   "execution_count": 22,
   "id": "8ee0da7f",
   "metadata": {},
   "outputs": [],
   "source": [
    "import random"
   ]
  },
  {
   "cell_type": "code",
   "execution_count": 23,
   "id": "fc7ca9d0",
   "metadata": {},
   "outputs": [
    {
     "data": {
      "text/plain": [
       "0.4948848232330305"
      ]
     },
     "execution_count": 23,
     "metadata": {},
     "output_type": "execute_result"
    }
   ],
   "source": [
    "random.random() # 0 부터 1까지 사이의 숫자를 랜덤하게 나타내 준다"
   ]
  },
  {
   "cell_type": "code",
   "execution_count": 27,
   "id": "8f71fcc9",
   "metadata": {},
   "outputs": [],
   "source": [
    "choices = ['apple', 'banana', 'cheery']"
   ]
  },
  {
   "cell_type": "code",
   "execution_count": 28,
   "id": "3aa88af1",
   "metadata": {},
   "outputs": [
    {
     "name": "stdout",
     "output_type": "stream",
     "text": [
      "랜덤 과일 고르기 : banana\n"
     ]
    }
   ],
   "source": [
    "print(f'랜덤 과일 고르기 : {random.choice(choices)}')"
   ]
  },
  {
   "cell_type": "code",
   "execution_count": 30,
   "id": "140fb665",
   "metadata": {},
   "outputs": [
    {
     "name": "stdout",
     "output_type": "stream",
     "text": [
      "랜덤으로 숫자 고르기 (1~100): 81\n"
     ]
    }
   ],
   "source": [
    "print(f'랜덤으로 숫자 고르기 (1~100): {random.randint(1, 100)}')"
   ]
  },
  {
   "cell_type": "code",
   "execution_count": 32,
   "id": "63c105ca",
   "metadata": {},
   "outputs": [],
   "source": [
    "numbers = [235, 26, 25, 47, 23, 246, 48]"
   ]
  },
  {
   "cell_type": "code",
   "execution_count": 34,
   "id": "5ca719c1",
   "metadata": {},
   "outputs": [
    {
     "name": "stdout",
     "output_type": "stream",
     "text": [
      "[47, 48, 23, 25, 26, 235, 246]\n"
     ]
    }
   ],
   "source": [
    "random.shuffle(numbers) # 리스트 안의 요소 섞기\n",
    "print(numbers)"
   ]
  },
  {
   "cell_type": "code",
   "execution_count": 35,
   "id": "27dccec1",
   "metadata": {},
   "outputs": [
    {
     "data": {
      "text/plain": [
       "[25, 246, 26]"
      ]
     },
     "execution_count": 35,
     "metadata": {},
     "output_type": "execute_result"
    }
   ],
   "source": [
    "random.sample(numbers, 3) # 리스트 값 중 3개를 랜덤으로 출력"
   ]
  },
  {
   "cell_type": "code",
   "execution_count": 42,
   "id": "227a8053",
   "metadata": {},
   "outputs": [
    {
     "name": "stdout",
     "output_type": "stream",
     "text": [
      "원의둘레는 144.51 이고, 넓이는 1661.90 이다.\n"
     ]
    }
   ],
   "source": [
    "# Q1. 사용자에게 원의 반지름을 입력받아 원의 둘레와 원의 넓이를 출력하는 함수를 작성해보세요.\n",
    "# 원의 둘레 : 2 * 원주율 * 원의 반지름\n",
    "# 원의 넓이 : 원주율 * 원의 반지름의 거듭제곱\n",
    "# 원의 둘레와 넓이는 소수점 2번째 자리수까지만 출력합니다 \n",
    "\n",
    "r = int(input('원의 반지름을 입력하세요 : '))\n",
    "perimeter = 2 * math.pi * r\n",
    "area = math.pi * math.pow(r, 2)\n",
    "print(f'원의둘레는 {perimeter:.2f} 이고, 넓이는 {area:.2f} 이다.')"
   ]
  },
  {
   "cell_type": "code",
   "execution_count": 57,
   "id": "0c90f5ee",
   "metadata": {},
   "outputs": [
    {
     "name": "stdout",
     "output_type": "stream",
     "text": [
      "원의 둘레 31.42, 원의 넓이 : 78.54\n"
     ]
    }
   ],
   "source": [
    "def circle(num):\n",
    "    answer = 2 * math.pi * num # 원의 둘레\n",
    "    answer2 = math.pi * num ** 2\n",
    "    return answer, answer2\n",
    "\n",
    "radius = float(input('원의 반지름을 입력하세요'))\n",
    "둘레, 넓이 = circle(radius)\n",
    "print(f'원의 둘레 {둘레:.2f}, 원의 넓이 : {넓이:.2f}')\n",
    "\n"
   ]
  },
  {
   "cell_type": "code",
   "execution_count": 51,
   "id": "5fc54176",
   "metadata": {},
   "outputs": [
    {
     "name": "stdout",
     "output_type": "stream",
     "text": [
      "1994\n",
      "4\n",
      "2024\n",
      "10\n",
      "30\n",
      "30\n"
     ]
    }
   ],
   "source": [
    "# Q2. 사용자에게 태어난 년도와 달을 입력받아 오늘 날짜를 기준으로 나이가 몇 세인지 출력하는 함수를 작성해보세요\n",
    "# 1. 태어난 년도와 달을 입력받아 오늘 날짜를 기준으로 오늘의 year-태어난 연도\n",
    "# month를 비교하여 생일이 지나지 않았을 경우 나이에서 1을 빼고, 생일 달과 현재 날짜의 달이 같거나 지났다면 빼지 않습니다.\n",
    "\n",
    "birth_year = int(input('태어난 년도를 입력하세요'))\n",
    "birth_month = int(input('태어난 달을 입력 하세요'))\n",
    "\n",
    "today_year = datetime.datetime.now().year\n",
    "today_month = datetime.datetime.now().month\n",
    "age = today_year -birth_year\n",
    "\n",
    "if today_month < birth_month:\n",
    "    age -= 1\n",
    "\n",
    "print(birth_year)\n",
    "print(birth_month)\n",
    "print(today_year)\n",
    "print(today_month)\n",
    "print(age)\n",
    "\n"
   ]
  },
  {
   "cell_type": "code",
   "execution_count": 59,
   "id": "a9ba610f",
   "metadata": {},
   "outputs": [
    {
     "name": "stdout",
     "output_type": "stream",
     "text": [
      "30\n"
     ]
    }
   ],
   "source": [
    "def age (year, month):\n",
    "    today = datetime.datetime.now()\n",
    "    age = today.year - year\n",
    "\n",
    "    if today.month < month:\n",
    "        age -= 1\n",
    "    elif today.month >= month:\n",
    "        pass\n",
    "    return age\n",
    "\n",
    "birth_year = int(input('출생년도를 네 자리 숫자로 입력해주세요'))\n",
    "birth_month = int(input('출생 월을 입력해 주세요'))\n",
    "current_age = age(birth_year, birth_month)\n",
    "print(current_age)"
   ]
  },
  {
   "cell_type": "code",
   "execution_count": 61,
   "id": "3c3f0970",
   "metadata": {},
   "outputs": [
    {
     "name": "stdout",
     "output_type": "stream",
     "text": [
      "1부터 100사이 숫자를 맞춰보는 게임을 시작합니다!\n",
      "더 큰 숫자를 입력하세요\n",
      "더 큰 숫자를 입력하세요\n",
      "더 작은 숫자를 입력하세요\n",
      "더 작은 숫자를 입력하세요\n",
      "더 작은 숫자를 입력하세요\n",
      "더 작은 숫자를 입력하세요\n",
      "정답입니다! 축하 합니다!\n"
     ]
    }
   ],
   "source": [
    "# Q3. 반복문을 사용하여 사용자에게 1부터 100 사이의 숫자를 맞추게 하는 게임을 만들어보세요\n",
    "\n",
    "def game():\n",
    "    target = random.randint(1, 100)\n",
    "    print('1부터 100사이 숫자를 맞춰보는 게임을 시작합니다!')\n",
    "\n",
    "    while True:\n",
    "        guess = int(input('숫자를 입력해보세요'))\n",
    "        if guess < target:\n",
    "            print('더 큰 숫자를 입력하세요')\n",
    "        elif guess > target:\n",
    "            print('더 작은 숫자를 입력하세요')\n",
    "        else:\n",
    "            print('정답입니다! 축하 합니다!')\n",
    "            break\n",
    "\n",
    "game()"
   ]
  },
  {
   "cell_type": "markdown",
   "id": "556887b9",
   "metadata": {},
   "source": [
    "#### 라이브러리 불러오기"
   ]
  },
  {
   "cell_type": "markdown",
   "id": "8004174c",
   "metadata": {},
   "source": [
    "## 1. pandas 라이브러리\n",
    "- 강력한 데이터분석 라이브러리\n",
    "- 표 형식의 데이터를 처리하는데 유용"
   ]
  },
  {
   "cell_type": "code",
   "execution_count": 63,
   "id": "a75a953a",
   "metadata": {},
   "outputs": [
    {
     "name": "stdout",
     "output_type": "stream",
     "text": [
      "Collecting pandas\n",
      "  Downloading pandas-2.2.3-cp39-cp39-win_amd64.whl.metadata (19 kB)\n",
      "Collecting numpy>=1.22.4 (from pandas)\n",
      "  Downloading numpy-2.0.2-cp39-cp39-win_amd64.whl.metadata (59 kB)\n",
      "Requirement already satisfied: python-dateutil>=2.8.2 in c:\\users\\rmarket\\anaconda3\\envs\\test_env\\lib\\site-packages (from pandas) (2.9.0)\n",
      "Collecting pytz>=2020.1 (from pandas)\n",
      "  Downloading pytz-2024.2-py2.py3-none-any.whl.metadata (22 kB)\n",
      "Collecting tzdata>=2022.7 (from pandas)\n",
      "  Downloading tzdata-2024.2-py2.py3-none-any.whl.metadata (1.4 kB)\n",
      "Requirement already satisfied: six>=1.5 in c:\\users\\rmarket\\anaconda3\\envs\\test_env\\lib\\site-packages (from python-dateutil>=2.8.2->pandas) (1.16.0)\n",
      "Downloading pandas-2.2.3-cp39-cp39-win_amd64.whl (11.6 MB)\n",
      "   ---------------------------------------- 0.0/11.6 MB ? eta -:--:--\n",
      "   ------------------------- -------------- 7.3/11.6 MB 34.7 MB/s eta 0:00:01\n",
      "   ------------------------------------ --- 10.5/11.6 MB 46.7 MB/s eta 0:00:01\n",
      "   ---------------------------------------- 11.6/11.6 MB 19.6 MB/s eta 0:00:00\n",
      "Downloading numpy-2.0.2-cp39-cp39-win_amd64.whl (15.9 MB)\n",
      "   ---------------------------------------- 0.0/15.9 MB ? eta -:--:--\n",
      "   --------------------- ------------------ 8.4/15.9 MB 74.6 MB/s eta 0:00:01\n",
      "   ---------------------------------------  15.7/15.9 MB 38.1 MB/s eta 0:00:01\n",
      "   ---------------------------------------- 15.9/15.9 MB 34.5 MB/s eta 0:00:00\n",
      "Downloading pytz-2024.2-py2.py3-none-any.whl (508 kB)\n",
      "Downloading tzdata-2024.2-py2.py3-none-any.whl (346 kB)\n",
      "Installing collected packages: pytz, tzdata, numpy, pandas\n",
      "Successfully installed numpy-2.0.2 pandas-2.2.3 pytz-2024.2 tzdata-2024.2\n",
      "Note: you may need to restart the kernel to use updated packages.\n"
     ]
    }
   ],
   "source": [
    "# pip install pandas"
   ]
  },
  {
   "cell_type": "code",
   "execution_count": 66,
   "id": "3b8da3fc",
   "metadata": {},
   "outputs": [],
   "source": [
    "import pandas as pd"
   ]
  },
  {
   "cell_type": "code",
   "execution_count": 69,
   "id": "a2a220b7",
   "metadata": {},
   "outputs": [],
   "source": [
    "data = {\n",
    "    '이름' : ['바다','여름','하늘'],\n",
    "    '나이' : [24, 25, 28],\n",
    "    \n",
    "}"
   ]
  },
  {
   "cell_type": "code",
   "execution_count": 70,
   "id": "dfde34af",
   "metadata": {},
   "outputs": [
    {
     "data": {
      "text/html": [
       "<div>\n",
       "<style scoped>\n",
       "    .dataframe tbody tr th:only-of-type {\n",
       "        vertical-align: middle;\n",
       "    }\n",
       "\n",
       "    .dataframe tbody tr th {\n",
       "        vertical-align: top;\n",
       "    }\n",
       "\n",
       "    .dataframe thead th {\n",
       "        text-align: right;\n",
       "    }\n",
       "</style>\n",
       "<table border=\"1\" class=\"dataframe\">\n",
       "  <thead>\n",
       "    <tr style=\"text-align: right;\">\n",
       "      <th></th>\n",
       "      <th>이름</th>\n",
       "      <th>나이</th>\n",
       "    </tr>\n",
       "  </thead>\n",
       "  <tbody>\n",
       "    <tr>\n",
       "      <th>0</th>\n",
       "      <td>바다</td>\n",
       "      <td>24</td>\n",
       "    </tr>\n",
       "    <tr>\n",
       "      <th>1</th>\n",
       "      <td>여름</td>\n",
       "      <td>25</td>\n",
       "    </tr>\n",
       "    <tr>\n",
       "      <th>2</th>\n",
       "      <td>하늘</td>\n",
       "      <td>28</td>\n",
       "    </tr>\n",
       "  </tbody>\n",
       "</table>\n",
       "</div>"
      ],
      "text/plain": [
       "   이름  나이\n",
       "0  바다  24\n",
       "1  여름  25\n",
       "2  하늘  28"
      ]
     },
     "execution_count": 70,
     "metadata": {},
     "output_type": "execute_result"
    }
   ],
   "source": [
    "pd.DataFrame(data) # 판다스의 데이타프레임(인덱스를 자동으로 생성)"
   ]
  },
  {
   "cell_type": "code",
   "execution_count": 72,
   "id": "5a574128",
   "metadata": {},
   "outputs": [
    {
     "data": {
      "text/html": [
       "<div>\n",
       "<style scoped>\n",
       "    .dataframe tbody tr th:only-of-type {\n",
       "        vertical-align: middle;\n",
       "    }\n",
       "\n",
       "    .dataframe tbody tr th {\n",
       "        vertical-align: top;\n",
       "    }\n",
       "\n",
       "    .dataframe thead th {\n",
       "        text-align: right;\n",
       "    }\n",
       "</style>\n",
       "<table border=\"1\" class=\"dataframe\">\n",
       "  <thead>\n",
       "    <tr style=\"text-align: right;\">\n",
       "      <th></th>\n",
       "      <th>number</th>\n",
       "      <th>number2</th>\n",
       "      <th>number3</th>\n",
       "    </tr>\n",
       "  </thead>\n",
       "  <tbody>\n",
       "    <tr>\n",
       "      <th>0</th>\n",
       "      <td>2</td>\n",
       "      <td>51</td>\n",
       "      <td>84</td>\n",
       "    </tr>\n",
       "    <tr>\n",
       "      <th>1</th>\n",
       "      <td>436</td>\n",
       "      <td>32</td>\n",
       "      <td>95</td>\n",
       "    </tr>\n",
       "    <tr>\n",
       "      <th>2</th>\n",
       "      <td>235</td>\n",
       "      <td>94</td>\n",
       "      <td>32</td>\n",
       "    </tr>\n",
       "    <tr>\n",
       "      <th>3</th>\n",
       "      <td>124</td>\n",
       "      <td>51</td>\n",
       "      <td>84</td>\n",
       "    </tr>\n",
       "    <tr>\n",
       "      <th>4</th>\n",
       "      <td>34</td>\n",
       "      <td>32</td>\n",
       "      <td>625</td>\n",
       "    </tr>\n",
       "    <tr>\n",
       "      <th>5</th>\n",
       "      <td>26</td>\n",
       "      <td>841</td>\n",
       "      <td>84</td>\n",
       "    </tr>\n",
       "    <tr>\n",
       "      <th>6</th>\n",
       "      <td>35</td>\n",
       "      <td>84</td>\n",
       "      <td>623</td>\n",
       "    </tr>\n",
       "    <tr>\n",
       "      <th>7</th>\n",
       "      <td>25</td>\n",
       "      <td>26</td>\n",
       "      <td>12</td>\n",
       "    </tr>\n",
       "    <tr>\n",
       "      <th>8</th>\n",
       "      <td>27</td>\n",
       "      <td>65</td>\n",
       "      <td>5</td>\n",
       "    </tr>\n",
       "    <tr>\n",
       "      <th>9</th>\n",
       "      <td>47</td>\n",
       "      <td>95</td>\n",
       "      <td>65</td>\n",
       "    </tr>\n",
       "  </tbody>\n",
       "</table>\n",
       "</div>"
      ],
      "text/plain": [
       "   number  number2  number3\n",
       "0       2       51       84\n",
       "1     436       32       95\n",
       "2     235       94       32\n",
       "3     124       51       84\n",
       "4      34       32      625\n",
       "5      26      841       84\n",
       "6      35       84      623\n",
       "7      25       26       12\n",
       "8      27       65        5\n",
       "9      47       95       65"
      ]
     },
     "execution_count": 72,
     "metadata": {},
     "output_type": "execute_result"
    }
   ],
   "source": [
    "data = {\n",
    "    'number' : [2, 436, 235, 124, 34, 26, 35, 25, 27, 47],\n",
    "    'number2' : [51, 32, 94, 51, 32, 841, 84, 26, 65, 95],\n",
    "    'number3' : [84, 95, 32, 84, 625, 84, 623, 12, 5, 65]\n",
    "}\n",
    "\n",
    "df = pd.DataFrame(data)\n",
    "df"
   ]
  },
  {
   "cell_type": "code",
   "execution_count": 76,
   "id": "f19b5a00",
   "metadata": {},
   "outputs": [
    {
     "data": {
      "text/html": [
       "<div>\n",
       "<style scoped>\n",
       "    .dataframe tbody tr th:only-of-type {\n",
       "        vertical-align: middle;\n",
       "    }\n",
       "\n",
       "    .dataframe tbody tr th {\n",
       "        vertical-align: top;\n",
       "    }\n",
       "\n",
       "    .dataframe thead th {\n",
       "        text-align: right;\n",
       "    }\n",
       "</style>\n",
       "<table border=\"1\" class=\"dataframe\">\n",
       "  <thead>\n",
       "    <tr style=\"text-align: right;\">\n",
       "      <th></th>\n",
       "      <th>number</th>\n",
       "      <th>number2</th>\n",
       "      <th>number3</th>\n",
       "    </tr>\n",
       "  </thead>\n",
       "  <tbody>\n",
       "    <tr>\n",
       "      <th>0</th>\n",
       "      <td>2</td>\n",
       "      <td>51</td>\n",
       "      <td>84</td>\n",
       "    </tr>\n",
       "    <tr>\n",
       "      <th>1</th>\n",
       "      <td>436</td>\n",
       "      <td>32</td>\n",
       "      <td>95</td>\n",
       "    </tr>\n",
       "    <tr>\n",
       "      <th>2</th>\n",
       "      <td>235</td>\n",
       "      <td>94</td>\n",
       "      <td>32</td>\n",
       "    </tr>\n",
       "    <tr>\n",
       "      <th>3</th>\n",
       "      <td>124</td>\n",
       "      <td>51</td>\n",
       "      <td>84</td>\n",
       "    </tr>\n",
       "    <tr>\n",
       "      <th>4</th>\n",
       "      <td>34</td>\n",
       "      <td>32</td>\n",
       "      <td>625</td>\n",
       "    </tr>\n",
       "  </tbody>\n",
       "</table>\n",
       "</div>"
      ],
      "text/plain": [
       "   number  number2  number3\n",
       "0       2       51       84\n",
       "1     436       32       95\n",
       "2     235       94       32\n",
       "3     124       51       84\n",
       "4      34       32      625"
      ]
     },
     "execution_count": 76,
     "metadata": {},
     "output_type": "execute_result"
    }
   ],
   "source": [
    "df.head() # 기본값으로 상위 5개를 볼 수 있음\n"
   ]
  },
  {
   "cell_type": "code",
   "execution_count": 75,
   "id": "8f1044be",
   "metadata": {},
   "outputs": [
    {
     "data": {
      "text/html": [
       "<div>\n",
       "<style scoped>\n",
       "    .dataframe tbody tr th:only-of-type {\n",
       "        vertical-align: middle;\n",
       "    }\n",
       "\n",
       "    .dataframe tbody tr th {\n",
       "        vertical-align: top;\n",
       "    }\n",
       "\n",
       "    .dataframe thead th {\n",
       "        text-align: right;\n",
       "    }\n",
       "</style>\n",
       "<table border=\"1\" class=\"dataframe\">\n",
       "  <thead>\n",
       "    <tr style=\"text-align: right;\">\n",
       "      <th></th>\n",
       "      <th>number</th>\n",
       "      <th>number2</th>\n",
       "      <th>number3</th>\n",
       "    </tr>\n",
       "  </thead>\n",
       "  <tbody>\n",
       "    <tr>\n",
       "      <th>0</th>\n",
       "      <td>2</td>\n",
       "      <td>51</td>\n",
       "      <td>84</td>\n",
       "    </tr>\n",
       "    <tr>\n",
       "      <th>1</th>\n",
       "      <td>436</td>\n",
       "      <td>32</td>\n",
       "      <td>95</td>\n",
       "    </tr>\n",
       "    <tr>\n",
       "      <th>2</th>\n",
       "      <td>235</td>\n",
       "      <td>94</td>\n",
       "      <td>32</td>\n",
       "    </tr>\n",
       "  </tbody>\n",
       "</table>\n",
       "</div>"
      ],
      "text/plain": [
       "   number  number2  number3\n",
       "0       2       51       84\n",
       "1     436       32       95\n",
       "2     235       94       32"
      ]
     },
     "execution_count": 75,
     "metadata": {},
     "output_type": "execute_result"
    }
   ],
   "source": [
    "df.head(3)"
   ]
  },
  {
   "cell_type": "code",
   "execution_count": 77,
   "id": "d3ac2881",
   "metadata": {},
   "outputs": [
    {
     "name": "stdout",
     "output_type": "stream",
     "text": [
      "<class 'pandas.core.frame.DataFrame'>\n",
      "RangeIndex: 10 entries, 0 to 9\n",
      "Data columns (total 3 columns):\n",
      " #   Column   Non-Null Count  Dtype\n",
      "---  ------   --------------  -----\n",
      " 0   number   10 non-null     int64\n",
      " 1   number2  10 non-null     int64\n",
      " 2   number3  10 non-null     int64\n",
      "dtypes: int64(3)\n",
      "memory usage: 368.0 bytes\n"
     ]
    }
   ],
   "source": [
    "df.info()"
   ]
  },
  {
   "cell_type": "code",
   "execution_count": 78,
   "id": "70c4a57f",
   "metadata": {},
   "outputs": [
    {
     "data": {
      "text/html": [
       "<div>\n",
       "<style scoped>\n",
       "    .dataframe tbody tr th:only-of-type {\n",
       "        vertical-align: middle;\n",
       "    }\n",
       "\n",
       "    .dataframe tbody tr th {\n",
       "        vertical-align: top;\n",
       "    }\n",
       "\n",
       "    .dataframe thead th {\n",
       "        text-align: right;\n",
       "    }\n",
       "</style>\n",
       "<table border=\"1\" class=\"dataframe\">\n",
       "  <thead>\n",
       "    <tr style=\"text-align: right;\">\n",
       "      <th></th>\n",
       "      <th>number</th>\n",
       "      <th>number2</th>\n",
       "      <th>number3</th>\n",
       "    </tr>\n",
       "  </thead>\n",
       "  <tbody>\n",
       "    <tr>\n",
       "      <th>count</th>\n",
       "      <td>10.000000</td>\n",
       "      <td>10.000000</td>\n",
       "      <td>10.000000</td>\n",
       "    </tr>\n",
       "    <tr>\n",
       "      <th>mean</th>\n",
       "      <td>99.100000</td>\n",
       "      <td>137.100000</td>\n",
       "      <td>170.900000</td>\n",
       "    </tr>\n",
       "    <tr>\n",
       "      <th>std</th>\n",
       "      <td>137.077796</td>\n",
       "      <td>248.637375</td>\n",
       "      <td>240.900371</td>\n",
       "    </tr>\n",
       "    <tr>\n",
       "      <th>min</th>\n",
       "      <td>2.000000</td>\n",
       "      <td>26.000000</td>\n",
       "      <td>5.000000</td>\n",
       "    </tr>\n",
       "    <tr>\n",
       "      <th>25%</th>\n",
       "      <td>26.250000</td>\n",
       "      <td>36.750000</td>\n",
       "      <td>40.250000</td>\n",
       "    </tr>\n",
       "    <tr>\n",
       "      <th>50%</th>\n",
       "      <td>34.500000</td>\n",
       "      <td>58.000000</td>\n",
       "      <td>84.000000</td>\n",
       "    </tr>\n",
       "    <tr>\n",
       "      <th>75%</th>\n",
       "      <td>104.750000</td>\n",
       "      <td>91.500000</td>\n",
       "      <td>92.250000</td>\n",
       "    </tr>\n",
       "    <tr>\n",
       "      <th>max</th>\n",
       "      <td>436.000000</td>\n",
       "      <td>841.000000</td>\n",
       "      <td>625.000000</td>\n",
       "    </tr>\n",
       "  </tbody>\n",
       "</table>\n",
       "</div>"
      ],
      "text/plain": [
       "           number     number2     number3\n",
       "count   10.000000   10.000000   10.000000\n",
       "mean    99.100000  137.100000  170.900000\n",
       "std    137.077796  248.637375  240.900371\n",
       "min      2.000000   26.000000    5.000000\n",
       "25%     26.250000   36.750000   40.250000\n",
       "50%     34.500000   58.000000   84.000000\n",
       "75%    104.750000   91.500000   92.250000\n",
       "max    436.000000  841.000000  625.000000"
      ]
     },
     "execution_count": 78,
     "metadata": {},
     "output_type": "execute_result"
    }
   ],
   "source": [
    "df.describe()"
   ]
  },
  {
   "cell_type": "code",
   "execution_count": 79,
   "id": "42f91d77",
   "metadata": {},
   "outputs": [
    {
     "data": {
      "text/plain": [
       "0      2\n",
       "1    436\n",
       "2    235\n",
       "3    124\n",
       "4     34\n",
       "5     26\n",
       "6     35\n",
       "7     25\n",
       "8     27\n",
       "9     47\n",
       "Name: number, dtype: int64"
      ]
     },
     "execution_count": 79,
     "metadata": {},
     "output_type": "execute_result"
    }
   ],
   "source": [
    "df['number']"
   ]
  },
  {
   "cell_type": "code",
   "execution_count": 80,
   "id": "044b0ec0",
   "metadata": {},
   "outputs": [
    {
     "ename": "KeyError",
     "evalue": "('number', 'number2')",
     "output_type": "error",
     "traceback": [
      "\u001b[1;31m---------------------------------------------------------------------------\u001b[0m",
      "\u001b[1;31mKeyError\u001b[0m                                  Traceback (most recent call last)",
      "File \u001b[1;32mc:\\Users\\RMARKET\\anaconda3\\envs\\test_env\\lib\\site-packages\\pandas\\core\\indexes\\base.py:3805\u001b[0m, in \u001b[0;36mIndex.get_loc\u001b[1;34m(self, key)\u001b[0m\n\u001b[0;32m   3804\u001b[0m \u001b[38;5;28;01mtry\u001b[39;00m:\n\u001b[1;32m-> 3805\u001b[0m     \u001b[38;5;28;01mreturn\u001b[39;00m \u001b[38;5;28;43mself\u001b[39;49m\u001b[38;5;241;43m.\u001b[39;49m\u001b[43m_engine\u001b[49m\u001b[38;5;241;43m.\u001b[39;49m\u001b[43mget_loc\u001b[49m\u001b[43m(\u001b[49m\u001b[43mcasted_key\u001b[49m\u001b[43m)\u001b[49m\n\u001b[0;32m   3806\u001b[0m \u001b[38;5;28;01mexcept\u001b[39;00m \u001b[38;5;167;01mKeyError\u001b[39;00m \u001b[38;5;28;01mas\u001b[39;00m err:\n",
      "File \u001b[1;32mindex.pyx:167\u001b[0m, in \u001b[0;36mpandas._libs.index.IndexEngine.get_loc\u001b[1;34m()\u001b[0m\n",
      "File \u001b[1;32mindex.pyx:196\u001b[0m, in \u001b[0;36mpandas._libs.index.IndexEngine.get_loc\u001b[1;34m()\u001b[0m\n",
      "File \u001b[1;32mpandas\\\\_libs\\\\hashtable_class_helper.pxi:7081\u001b[0m, in \u001b[0;36mpandas._libs.hashtable.PyObjectHashTable.get_item\u001b[1;34m()\u001b[0m\n",
      "File \u001b[1;32mpandas\\\\_libs\\\\hashtable_class_helper.pxi:7089\u001b[0m, in \u001b[0;36mpandas._libs.hashtable.PyObjectHashTable.get_item\u001b[1;34m()\u001b[0m\n",
      "\u001b[1;31mKeyError\u001b[0m: ('number', 'number2')",
      "\nThe above exception was the direct cause of the following exception:\n",
      "\u001b[1;31mKeyError\u001b[0m                                  Traceback (most recent call last)",
      "Cell \u001b[1;32mIn[80], line 1\u001b[0m\n\u001b[1;32m----> 1\u001b[0m \u001b[43mdf\u001b[49m\u001b[43m[\u001b[49m\u001b[38;5;124;43m'\u001b[39;49m\u001b[38;5;124;43mnumber\u001b[39;49m\u001b[38;5;124;43m'\u001b[39;49m\u001b[43m,\u001b[49m\u001b[38;5;124;43m'\u001b[39;49m\u001b[38;5;124;43mnumber2\u001b[39;49m\u001b[38;5;124;43m'\u001b[39;49m\u001b[43m]\u001b[49m\n",
      "File \u001b[1;32mc:\\Users\\RMARKET\\anaconda3\\envs\\test_env\\lib\\site-packages\\pandas\\core\\frame.py:4102\u001b[0m, in \u001b[0;36mDataFrame.__getitem__\u001b[1;34m(self, key)\u001b[0m\n\u001b[0;32m   4100\u001b[0m \u001b[38;5;28;01mif\u001b[39;00m \u001b[38;5;28mself\u001b[39m\u001b[38;5;241m.\u001b[39mcolumns\u001b[38;5;241m.\u001b[39mnlevels \u001b[38;5;241m>\u001b[39m \u001b[38;5;241m1\u001b[39m:\n\u001b[0;32m   4101\u001b[0m     \u001b[38;5;28;01mreturn\u001b[39;00m \u001b[38;5;28mself\u001b[39m\u001b[38;5;241m.\u001b[39m_getitem_multilevel(key)\n\u001b[1;32m-> 4102\u001b[0m indexer \u001b[38;5;241m=\u001b[39m \u001b[38;5;28;43mself\u001b[39;49m\u001b[38;5;241;43m.\u001b[39;49m\u001b[43mcolumns\u001b[49m\u001b[38;5;241;43m.\u001b[39;49m\u001b[43mget_loc\u001b[49m\u001b[43m(\u001b[49m\u001b[43mkey\u001b[49m\u001b[43m)\u001b[49m\n\u001b[0;32m   4103\u001b[0m \u001b[38;5;28;01mif\u001b[39;00m is_integer(indexer):\n\u001b[0;32m   4104\u001b[0m     indexer \u001b[38;5;241m=\u001b[39m [indexer]\n",
      "File \u001b[1;32mc:\\Users\\RMARKET\\anaconda3\\envs\\test_env\\lib\\site-packages\\pandas\\core\\indexes\\base.py:3812\u001b[0m, in \u001b[0;36mIndex.get_loc\u001b[1;34m(self, key)\u001b[0m\n\u001b[0;32m   3807\u001b[0m     \u001b[38;5;28;01mif\u001b[39;00m \u001b[38;5;28misinstance\u001b[39m(casted_key, \u001b[38;5;28mslice\u001b[39m) \u001b[38;5;129;01mor\u001b[39;00m (\n\u001b[0;32m   3808\u001b[0m         \u001b[38;5;28misinstance\u001b[39m(casted_key, abc\u001b[38;5;241m.\u001b[39mIterable)\n\u001b[0;32m   3809\u001b[0m         \u001b[38;5;129;01mand\u001b[39;00m \u001b[38;5;28many\u001b[39m(\u001b[38;5;28misinstance\u001b[39m(x, \u001b[38;5;28mslice\u001b[39m) \u001b[38;5;28;01mfor\u001b[39;00m x \u001b[38;5;129;01min\u001b[39;00m casted_key)\n\u001b[0;32m   3810\u001b[0m     ):\n\u001b[0;32m   3811\u001b[0m         \u001b[38;5;28;01mraise\u001b[39;00m InvalidIndexError(key)\n\u001b[1;32m-> 3812\u001b[0m     \u001b[38;5;28;01mraise\u001b[39;00m \u001b[38;5;167;01mKeyError\u001b[39;00m(key) \u001b[38;5;28;01mfrom\u001b[39;00m \u001b[38;5;21;01merr\u001b[39;00m\n\u001b[0;32m   3813\u001b[0m \u001b[38;5;28;01mexcept\u001b[39;00m \u001b[38;5;167;01mTypeError\u001b[39;00m:\n\u001b[0;32m   3814\u001b[0m     \u001b[38;5;66;03m# If we have a listlike key, _check_indexing_error will raise\u001b[39;00m\n\u001b[0;32m   3815\u001b[0m     \u001b[38;5;66;03m#  InvalidIndexError. Otherwise we fall through and re-raise\u001b[39;00m\n\u001b[0;32m   3816\u001b[0m     \u001b[38;5;66;03m#  the TypeError.\u001b[39;00m\n\u001b[0;32m   3817\u001b[0m     \u001b[38;5;28mself\u001b[39m\u001b[38;5;241m.\u001b[39m_check_indexing_error(key)\n",
      "\u001b[1;31mKeyError\u001b[0m: ('number', 'number2')"
     ]
    }
   ],
   "source": [
    "df['number','number2'] # 2개 이상일때 대괄호 하나면 에러"
   ]
  },
  {
   "cell_type": "code",
   "execution_count": 81,
   "id": "bc98e5e5",
   "metadata": {},
   "outputs": [
    {
     "data": {
      "text/html": [
       "<div>\n",
       "<style scoped>\n",
       "    .dataframe tbody tr th:only-of-type {\n",
       "        vertical-align: middle;\n",
       "    }\n",
       "\n",
       "    .dataframe tbody tr th {\n",
       "        vertical-align: top;\n",
       "    }\n",
       "\n",
       "    .dataframe thead th {\n",
       "        text-align: right;\n",
       "    }\n",
       "</style>\n",
       "<table border=\"1\" class=\"dataframe\">\n",
       "  <thead>\n",
       "    <tr style=\"text-align: right;\">\n",
       "      <th></th>\n",
       "      <th>number</th>\n",
       "      <th>number2</th>\n",
       "    </tr>\n",
       "  </thead>\n",
       "  <tbody>\n",
       "    <tr>\n",
       "      <th>0</th>\n",
       "      <td>2</td>\n",
       "      <td>51</td>\n",
       "    </tr>\n",
       "    <tr>\n",
       "      <th>1</th>\n",
       "      <td>436</td>\n",
       "      <td>32</td>\n",
       "    </tr>\n",
       "    <tr>\n",
       "      <th>2</th>\n",
       "      <td>235</td>\n",
       "      <td>94</td>\n",
       "    </tr>\n",
       "    <tr>\n",
       "      <th>3</th>\n",
       "      <td>124</td>\n",
       "      <td>51</td>\n",
       "    </tr>\n",
       "    <tr>\n",
       "      <th>4</th>\n",
       "      <td>34</td>\n",
       "      <td>32</td>\n",
       "    </tr>\n",
       "    <tr>\n",
       "      <th>5</th>\n",
       "      <td>26</td>\n",
       "      <td>841</td>\n",
       "    </tr>\n",
       "    <tr>\n",
       "      <th>6</th>\n",
       "      <td>35</td>\n",
       "      <td>84</td>\n",
       "    </tr>\n",
       "    <tr>\n",
       "      <th>7</th>\n",
       "      <td>25</td>\n",
       "      <td>26</td>\n",
       "    </tr>\n",
       "    <tr>\n",
       "      <th>8</th>\n",
       "      <td>27</td>\n",
       "      <td>65</td>\n",
       "    </tr>\n",
       "    <tr>\n",
       "      <th>9</th>\n",
       "      <td>47</td>\n",
       "      <td>95</td>\n",
       "    </tr>\n",
       "  </tbody>\n",
       "</table>\n",
       "</div>"
      ],
      "text/plain": [
       "   number  number2\n",
       "0       2       51\n",
       "1     436       32\n",
       "2     235       94\n",
       "3     124       51\n",
       "4      34       32\n",
       "5      26      841\n",
       "6      35       84\n",
       "7      25       26\n",
       "8      27       65\n",
       "9      47       95"
      ]
     },
     "execution_count": 81,
     "metadata": {},
     "output_type": "execute_result"
    }
   ],
   "source": [
    "df[['number','number2']] # 2개 이상일 때는 대괄호 2개로 감싸야 함"
   ]
  },
  {
   "cell_type": "code",
   "execution_count": 82,
   "id": "b22c129c",
   "metadata": {},
   "outputs": [
    {
     "data": {
      "text/plain": [
       "0    False\n",
       "1     True\n",
       "2     True\n",
       "3     True\n",
       "4     True\n",
       "5    False\n",
       "6     True\n",
       "7    False\n",
       "8    False\n",
       "9     True\n",
       "Name: number, dtype: bool"
      ]
     },
     "execution_count": 82,
     "metadata": {},
     "output_type": "execute_result"
    }
   ],
   "source": [
    "df['number'] >= 30 # boolea 형태로 출력"
   ]
  },
  {
   "cell_type": "code",
   "execution_count": 83,
   "id": "77cdfc67",
   "metadata": {},
   "outputs": [
    {
     "data": {
      "text/html": [
       "<div>\n",
       "<style scoped>\n",
       "    .dataframe tbody tr th:only-of-type {\n",
       "        vertical-align: middle;\n",
       "    }\n",
       "\n",
       "    .dataframe tbody tr th {\n",
       "        vertical-align: top;\n",
       "    }\n",
       "\n",
       "    .dataframe thead th {\n",
       "        text-align: right;\n",
       "    }\n",
       "</style>\n",
       "<table border=\"1\" class=\"dataframe\">\n",
       "  <thead>\n",
       "    <tr style=\"text-align: right;\">\n",
       "      <th></th>\n",
       "      <th>number</th>\n",
       "      <th>number2</th>\n",
       "      <th>number3</th>\n",
       "    </tr>\n",
       "  </thead>\n",
       "  <tbody>\n",
       "    <tr>\n",
       "      <th>1</th>\n",
       "      <td>436</td>\n",
       "      <td>32</td>\n",
       "      <td>95</td>\n",
       "    </tr>\n",
       "    <tr>\n",
       "      <th>2</th>\n",
       "      <td>235</td>\n",
       "      <td>94</td>\n",
       "      <td>32</td>\n",
       "    </tr>\n",
       "    <tr>\n",
       "      <th>3</th>\n",
       "      <td>124</td>\n",
       "      <td>51</td>\n",
       "      <td>84</td>\n",
       "    </tr>\n",
       "    <tr>\n",
       "      <th>4</th>\n",
       "      <td>34</td>\n",
       "      <td>32</td>\n",
       "      <td>625</td>\n",
       "    </tr>\n",
       "    <tr>\n",
       "      <th>6</th>\n",
       "      <td>35</td>\n",
       "      <td>84</td>\n",
       "      <td>623</td>\n",
       "    </tr>\n",
       "    <tr>\n",
       "      <th>9</th>\n",
       "      <td>47</td>\n",
       "      <td>95</td>\n",
       "      <td>65</td>\n",
       "    </tr>\n",
       "  </tbody>\n",
       "</table>\n",
       "</div>"
      ],
      "text/plain": [
       "   number  number2  number3\n",
       "1     436       32       95\n",
       "2     235       94       32\n",
       "3     124       51       84\n",
       "4      34       32      625\n",
       "6      35       84      623\n",
       "9      47       95       65"
      ]
     },
     "execution_count": 83,
     "metadata": {},
     "output_type": "execute_result"
    }
   ],
   "source": [
    "df[df['number'] >= 30] # df[] 한번 더 감싸면 표 형태로 출력"
   ]
  },
  {
   "cell_type": "markdown",
   "id": "43fcbda1",
   "metadata": {},
   "source": [
    "|구분|iloc|loc|\n",
    "|---|---|---|\n",
    "|인덱스 유형|정수 인덱스|레이블 인덱스|\n",
    "|슬라이싱|끝 인덱스를 포함하지 않음|끝 인덱스를 포함|\n",
    "|사용 예시|df.iloc[0:2, 1]|df.loc['a':'b', 'A']|"
   ]
  },
  {
   "cell_type": "code",
   "execution_count": 85,
   "id": "ea3d74c0",
   "metadata": {},
   "outputs": [
    {
     "data": {
      "text/html": [
       "<div>\n",
       "<style scoped>\n",
       "    .dataframe tbody tr th:only-of-type {\n",
       "        vertical-align: middle;\n",
       "    }\n",
       "\n",
       "    .dataframe tbody tr th {\n",
       "        vertical-align: top;\n",
       "    }\n",
       "\n",
       "    .dataframe thead th {\n",
       "        text-align: right;\n",
       "    }\n",
       "</style>\n",
       "<table border=\"1\" class=\"dataframe\">\n",
       "  <thead>\n",
       "    <tr style=\"text-align: right;\">\n",
       "      <th></th>\n",
       "      <th>number</th>\n",
       "      <th>number2</th>\n",
       "      <th>number3</th>\n",
       "    </tr>\n",
       "  </thead>\n",
       "  <tbody>\n",
       "    <tr>\n",
       "      <th>0</th>\n",
       "      <td>2</td>\n",
       "      <td>51</td>\n",
       "      <td>84</td>\n",
       "    </tr>\n",
       "    <tr>\n",
       "      <th>1</th>\n",
       "      <td>436</td>\n",
       "      <td>32</td>\n",
       "      <td>95</td>\n",
       "    </tr>\n",
       "    <tr>\n",
       "      <th>2</th>\n",
       "      <td>235</td>\n",
       "      <td>94</td>\n",
       "      <td>32</td>\n",
       "    </tr>\n",
       "    <tr>\n",
       "      <th>3</th>\n",
       "      <td>124</td>\n",
       "      <td>51</td>\n",
       "      <td>84</td>\n",
       "    </tr>\n",
       "    <tr>\n",
       "      <th>4</th>\n",
       "      <td>34</td>\n",
       "      <td>32</td>\n",
       "      <td>625</td>\n",
       "    </tr>\n",
       "    <tr>\n",
       "      <th>5</th>\n",
       "      <td>26</td>\n",
       "      <td>841</td>\n",
       "      <td>84</td>\n",
       "    </tr>\n",
       "    <tr>\n",
       "      <th>6</th>\n",
       "      <td>35</td>\n",
       "      <td>84</td>\n",
       "      <td>623</td>\n",
       "    </tr>\n",
       "    <tr>\n",
       "      <th>7</th>\n",
       "      <td>25</td>\n",
       "      <td>26</td>\n",
       "      <td>12</td>\n",
       "    </tr>\n",
       "    <tr>\n",
       "      <th>8</th>\n",
       "      <td>27</td>\n",
       "      <td>65</td>\n",
       "      <td>5</td>\n",
       "    </tr>\n",
       "    <tr>\n",
       "      <th>9</th>\n",
       "      <td>47</td>\n",
       "      <td>95</td>\n",
       "      <td>65</td>\n",
       "    </tr>\n",
       "  </tbody>\n",
       "</table>\n",
       "</div>"
      ],
      "text/plain": [
       "   number  number2  number3\n",
       "0       2       51       84\n",
       "1     436       32       95\n",
       "2     235       94       32\n",
       "3     124       51       84\n",
       "4      34       32      625\n",
       "5      26      841       84\n",
       "6      35       84      623\n",
       "7      25       26       12\n",
       "8      27       65        5\n",
       "9      47       95       65"
      ]
     },
     "execution_count": 85,
     "metadata": {},
     "output_type": "execute_result"
    }
   ],
   "source": [
    "df"
   ]
  },
  {
   "cell_type": "code",
   "execution_count": 84,
   "id": "e4fb11b2",
   "metadata": {},
   "outputs": [
    {
     "data": {
      "text/plain": [
       "np.int64(436)"
      ]
     },
     "execution_count": 84,
     "metadata": {},
     "output_type": "execute_result"
    }
   ],
   "source": [
    "df.iloc[1, 0]"
   ]
  },
  {
   "cell_type": "code",
   "execution_count": 87,
   "id": "5130d3a7",
   "metadata": {},
   "outputs": [
    {
     "data": {
      "text/plain": [
       "np.int64(625)"
      ]
     },
     "execution_count": 87,
     "metadata": {},
     "output_type": "execute_result"
    }
   ],
   "source": [
    "df.iloc[4,2]"
   ]
  },
  {
   "cell_type": "code",
   "execution_count": 89,
   "id": "9f0277aa",
   "metadata": {},
   "outputs": [
    {
     "data": {
      "text/plain": [
       "0      2\n",
       "1    436\n",
       "2    235\n",
       "Name: number, dtype: int64"
      ]
     },
     "execution_count": 89,
     "metadata": {},
     "output_type": "execute_result"
    }
   ],
   "source": [
    "df.iloc[:3, 0]"
   ]
  },
  {
   "cell_type": "code",
   "execution_count": 90,
   "id": "0073946c",
   "metadata": {},
   "outputs": [
    {
     "data": {
      "text/plain": [
       "np.int64(841)"
      ]
     },
     "execution_count": 90,
     "metadata": {},
     "output_type": "execute_result"
    }
   ],
   "source": [
    "df.loc[5, 'number2'] # loc는 뒤에 컬럼명으로 입력"
   ]
  },
  {
   "cell_type": "code",
   "execution_count": 92,
   "id": "feee166c",
   "metadata": {},
   "outputs": [
    {
     "data": {
      "text/html": [
       "<div>\n",
       "<style scoped>\n",
       "    .dataframe tbody tr th:only-of-type {\n",
       "        vertical-align: middle;\n",
       "    }\n",
       "\n",
       "    .dataframe tbody tr th {\n",
       "        vertical-align: top;\n",
       "    }\n",
       "\n",
       "    .dataframe thead th {\n",
       "        text-align: right;\n",
       "    }\n",
       "</style>\n",
       "<table border=\"1\" class=\"dataframe\">\n",
       "  <thead>\n",
       "    <tr style=\"text-align: right;\">\n",
       "      <th></th>\n",
       "      <th>number</th>\n",
       "      <th>number2</th>\n",
       "      <th>number3</th>\n",
       "    </tr>\n",
       "  </thead>\n",
       "  <tbody>\n",
       "    <tr>\n",
       "      <th>5</th>\n",
       "      <td>26</td>\n",
       "      <td>841</td>\n",
       "      <td>84</td>\n",
       "    </tr>\n",
       "    <tr>\n",
       "      <th>6</th>\n",
       "      <td>35</td>\n",
       "      <td>84</td>\n",
       "      <td>623</td>\n",
       "    </tr>\n",
       "    <tr>\n",
       "      <th>7</th>\n",
       "      <td>25</td>\n",
       "      <td>26</td>\n",
       "      <td>12</td>\n",
       "    </tr>\n",
       "    <tr>\n",
       "      <th>8</th>\n",
       "      <td>27</td>\n",
       "      <td>65</td>\n",
       "      <td>5</td>\n",
       "    </tr>\n",
       "  </tbody>\n",
       "</table>\n",
       "</div>"
      ],
      "text/plain": [
       "   number  number2  number3\n",
       "5      26      841       84\n",
       "6      35       84      623\n",
       "7      25       26       12\n",
       "8      27       65        5"
      ]
     },
     "execution_count": 92,
     "metadata": {},
     "output_type": "execute_result"
    }
   ],
   "source": [
    "df.loc[5:8]"
   ]
  },
  {
   "cell_type": "code",
   "execution_count": 91,
   "id": "3ac5a93c",
   "metadata": {},
   "outputs": [
    {
     "data": {
      "text/plain": [
       "5    26\n",
       "6    35\n",
       "7    25\n",
       "8    27\n",
       "Name: number, dtype: int64"
      ]
     },
     "execution_count": 91,
     "metadata": {},
     "output_type": "execute_result"
    }
   ],
   "source": [
    "df.loc[5:8, 'number']"
   ]
  },
  {
   "cell_type": "code",
   "execution_count": 93,
   "id": "dcbf3ce5",
   "metadata": {},
   "outputs": [],
   "source": [
    "# Q. 데이터프레임을 생성하고 아래 문제를 풀어보세요\n",
    "data = {\n",
    "    \"이름\": [\"철수\", \"영희\", \"민수\", \"수지\", \"지훈\"],\n",
    "    \"학번\": [101, 102, 103, 104, 105],\n",
    "    \"국어\": [85, 78, 95, 88, 92],\n",
    "    \"수학\": [90, 85, 80, 95, 87],\n",
    "    \"영어\": [88, 92, 85, 90, 89]\n",
    "}\n",
    "df = pd.DataFrame(data)\n",
    "\n",
    "# 1. 상위 5개 행을 출력해보세요\n",
    "# 2. 데이터프레임의 컬럼 명과 데이터타입을 확인할 수 있도록 기본 정보를 출력해보세요\n",
    "# 3. 국어와 수학 점수만 포함한 데이터프레임을 불러와보세요\n",
    "# 4. 학번이 103번인 학생의 모든 과목 점수를 불러와보세요\n",
    "# 5. 국어점수가 90점 이상인 학생들만 불러와보세요"
   ]
  },
  {
   "cell_type": "code",
   "execution_count": 94,
   "id": "65ad0080",
   "metadata": {},
   "outputs": [
    {
     "data": {
      "text/html": [
       "<div>\n",
       "<style scoped>\n",
       "    .dataframe tbody tr th:only-of-type {\n",
       "        vertical-align: middle;\n",
       "    }\n",
       "\n",
       "    .dataframe tbody tr th {\n",
       "        vertical-align: top;\n",
       "    }\n",
       "\n",
       "    .dataframe thead th {\n",
       "        text-align: right;\n",
       "    }\n",
       "</style>\n",
       "<table border=\"1\" class=\"dataframe\">\n",
       "  <thead>\n",
       "    <tr style=\"text-align: right;\">\n",
       "      <th></th>\n",
       "      <th>이름</th>\n",
       "      <th>학번</th>\n",
       "      <th>국어</th>\n",
       "      <th>수학</th>\n",
       "      <th>영어</th>\n",
       "    </tr>\n",
       "  </thead>\n",
       "  <tbody>\n",
       "    <tr>\n",
       "      <th>0</th>\n",
       "      <td>철수</td>\n",
       "      <td>101</td>\n",
       "      <td>85</td>\n",
       "      <td>90</td>\n",
       "      <td>88</td>\n",
       "    </tr>\n",
       "    <tr>\n",
       "      <th>1</th>\n",
       "      <td>영희</td>\n",
       "      <td>102</td>\n",
       "      <td>78</td>\n",
       "      <td>85</td>\n",
       "      <td>92</td>\n",
       "    </tr>\n",
       "    <tr>\n",
       "      <th>2</th>\n",
       "      <td>민수</td>\n",
       "      <td>103</td>\n",
       "      <td>95</td>\n",
       "      <td>80</td>\n",
       "      <td>85</td>\n",
       "    </tr>\n",
       "    <tr>\n",
       "      <th>3</th>\n",
       "      <td>수지</td>\n",
       "      <td>104</td>\n",
       "      <td>88</td>\n",
       "      <td>95</td>\n",
       "      <td>90</td>\n",
       "    </tr>\n",
       "    <tr>\n",
       "      <th>4</th>\n",
       "      <td>지훈</td>\n",
       "      <td>105</td>\n",
       "      <td>92</td>\n",
       "      <td>87</td>\n",
       "      <td>89</td>\n",
       "    </tr>\n",
       "  </tbody>\n",
       "</table>\n",
       "</div>"
      ],
      "text/plain": [
       "   이름   학번  국어  수학  영어\n",
       "0  철수  101  85  90  88\n",
       "1  영희  102  78  85  92\n",
       "2  민수  103  95  80  85\n",
       "3  수지  104  88  95  90\n",
       "4  지훈  105  92  87  89"
      ]
     },
     "execution_count": 94,
     "metadata": {},
     "output_type": "execute_result"
    }
   ],
   "source": [
    "df.head()"
   ]
  },
  {
   "cell_type": "code",
   "execution_count": 95,
   "id": "13500367",
   "metadata": {},
   "outputs": [
    {
     "name": "stdout",
     "output_type": "stream",
     "text": [
      "<class 'pandas.core.frame.DataFrame'>\n",
      "RangeIndex: 5 entries, 0 to 4\n",
      "Data columns (total 5 columns):\n",
      " #   Column  Non-Null Count  Dtype \n",
      "---  ------  --------------  ----- \n",
      " 0   이름      5 non-null      object\n",
      " 1   학번      5 non-null      int64 \n",
      " 2   국어      5 non-null      int64 \n",
      " 3   수학      5 non-null      int64 \n",
      " 4   영어      5 non-null      int64 \n",
      "dtypes: int64(4), object(1)\n",
      "memory usage: 328.0+ bytes\n"
     ]
    }
   ],
   "source": [
    "df.info()"
   ]
  },
  {
   "cell_type": "code",
   "execution_count": 106,
   "id": "af84276a",
   "metadata": {},
   "outputs": [
    {
     "data": {
      "text/html": [
       "<div>\n",
       "<style scoped>\n",
       "    .dataframe tbody tr th:only-of-type {\n",
       "        vertical-align: middle;\n",
       "    }\n",
       "\n",
       "    .dataframe tbody tr th {\n",
       "        vertical-align: top;\n",
       "    }\n",
       "\n",
       "    .dataframe thead th {\n",
       "        text-align: right;\n",
       "    }\n",
       "</style>\n",
       "<table border=\"1\" class=\"dataframe\">\n",
       "  <thead>\n",
       "    <tr style=\"text-align: right;\">\n",
       "      <th></th>\n",
       "      <th>국어</th>\n",
       "      <th>수학</th>\n",
       "    </tr>\n",
       "  </thead>\n",
       "  <tbody>\n",
       "    <tr>\n",
       "      <th>0</th>\n",
       "      <td>85</td>\n",
       "      <td>90</td>\n",
       "    </tr>\n",
       "    <tr>\n",
       "      <th>1</th>\n",
       "      <td>78</td>\n",
       "      <td>85</td>\n",
       "    </tr>\n",
       "    <tr>\n",
       "      <th>2</th>\n",
       "      <td>95</td>\n",
       "      <td>80</td>\n",
       "    </tr>\n",
       "    <tr>\n",
       "      <th>3</th>\n",
       "      <td>88</td>\n",
       "      <td>95</td>\n",
       "    </tr>\n",
       "    <tr>\n",
       "      <th>4</th>\n",
       "      <td>92</td>\n",
       "      <td>87</td>\n",
       "    </tr>\n",
       "  </tbody>\n",
       "</table>\n",
       "</div>"
      ],
      "text/plain": [
       "   국어  수학\n",
       "0  85  90\n",
       "1  78  85\n",
       "2  95  80\n",
       "3  88  95\n",
       "4  92  87"
      ]
     },
     "execution_count": 106,
     "metadata": {},
     "output_type": "execute_result"
    }
   ],
   "source": [
    "df[['국어','수학']] # 2개 이상일때는 대괄호 2개"
   ]
  },
  {
   "cell_type": "code",
   "execution_count": 107,
   "id": "dbc4d9c0",
   "metadata": {},
   "outputs": [
    {
     "data": {
      "text/html": [
       "<div>\n",
       "<style scoped>\n",
       "    .dataframe tbody tr th:only-of-type {\n",
       "        vertical-align: middle;\n",
       "    }\n",
       "\n",
       "    .dataframe tbody tr th {\n",
       "        vertical-align: top;\n",
       "    }\n",
       "\n",
       "    .dataframe thead th {\n",
       "        text-align: right;\n",
       "    }\n",
       "</style>\n",
       "<table border=\"1\" class=\"dataframe\">\n",
       "  <thead>\n",
       "    <tr style=\"text-align: right;\">\n",
       "      <th></th>\n",
       "      <th>이름</th>\n",
       "      <th>학번</th>\n",
       "      <th>국어</th>\n",
       "      <th>수학</th>\n",
       "      <th>영어</th>\n",
       "    </tr>\n",
       "  </thead>\n",
       "  <tbody>\n",
       "    <tr>\n",
       "      <th>2</th>\n",
       "      <td>민수</td>\n",
       "      <td>103</td>\n",
       "      <td>95</td>\n",
       "      <td>80</td>\n",
       "      <td>85</td>\n",
       "    </tr>\n",
       "  </tbody>\n",
       "</table>\n",
       "</div>"
      ],
      "text/plain": [
       "   이름   학번  국어  수학  영어\n",
       "2  민수  103  95  80  85"
      ]
     },
     "execution_count": 107,
     "metadata": {},
     "output_type": "execute_result"
    }
   ],
   "source": [
    "df[df['학번']==103]"
   ]
  },
  {
   "cell_type": "code",
   "execution_count": 110,
   "id": "d38cecce",
   "metadata": {},
   "outputs": [
    {
     "data": {
      "text/html": [
       "<div>\n",
       "<style scoped>\n",
       "    .dataframe tbody tr th:only-of-type {\n",
       "        vertical-align: middle;\n",
       "    }\n",
       "\n",
       "    .dataframe tbody tr th {\n",
       "        vertical-align: top;\n",
       "    }\n",
       "\n",
       "    .dataframe thead th {\n",
       "        text-align: right;\n",
       "    }\n",
       "</style>\n",
       "<table border=\"1\" class=\"dataframe\">\n",
       "  <thead>\n",
       "    <tr style=\"text-align: right;\">\n",
       "      <th></th>\n",
       "      <th>이름</th>\n",
       "      <th>학번</th>\n",
       "      <th>국어</th>\n",
       "      <th>수학</th>\n",
       "      <th>영어</th>\n",
       "    </tr>\n",
       "  </thead>\n",
       "  <tbody>\n",
       "    <tr>\n",
       "      <th>2</th>\n",
       "      <td>민수</td>\n",
       "      <td>103</td>\n",
       "      <td>95</td>\n",
       "      <td>80</td>\n",
       "      <td>85</td>\n",
       "    </tr>\n",
       "  </tbody>\n",
       "</table>\n",
       "</div>"
      ],
      "text/plain": [
       "   이름   학번  국어  수학  영어\n",
       "2  민수  103  95  80  85"
      ]
     },
     "execution_count": 110,
     "metadata": {},
     "output_type": "execute_result"
    }
   ],
   "source": [
    "df.loc[df['학번'] == 103]"
   ]
  },
  {
   "cell_type": "code",
   "execution_count": 108,
   "id": "bfda35f4",
   "metadata": {},
   "outputs": [
    {
     "data": {
      "text/html": [
       "<div>\n",
       "<style scoped>\n",
       "    .dataframe tbody tr th:only-of-type {\n",
       "        vertical-align: middle;\n",
       "    }\n",
       "\n",
       "    .dataframe tbody tr th {\n",
       "        vertical-align: top;\n",
       "    }\n",
       "\n",
       "    .dataframe thead th {\n",
       "        text-align: right;\n",
       "    }\n",
       "</style>\n",
       "<table border=\"1\" class=\"dataframe\">\n",
       "  <thead>\n",
       "    <tr style=\"text-align: right;\">\n",
       "      <th></th>\n",
       "      <th>이름</th>\n",
       "      <th>학번</th>\n",
       "      <th>국어</th>\n",
       "      <th>수학</th>\n",
       "      <th>영어</th>\n",
       "    </tr>\n",
       "  </thead>\n",
       "  <tbody>\n",
       "    <tr>\n",
       "      <th>2</th>\n",
       "      <td>민수</td>\n",
       "      <td>103</td>\n",
       "      <td>95</td>\n",
       "      <td>80</td>\n",
       "      <td>85</td>\n",
       "    </tr>\n",
       "    <tr>\n",
       "      <th>4</th>\n",
       "      <td>지훈</td>\n",
       "      <td>105</td>\n",
       "      <td>92</td>\n",
       "      <td>87</td>\n",
       "      <td>89</td>\n",
       "    </tr>\n",
       "  </tbody>\n",
       "</table>\n",
       "</div>"
      ],
      "text/plain": [
       "   이름   학번  국어  수학  영어\n",
       "2  민수  103  95  80  85\n",
       "4  지훈  105  92  87  89"
      ]
     },
     "execution_count": 108,
     "metadata": {},
     "output_type": "execute_result"
    }
   ],
   "source": [
    "df[df['국어'] > 90]"
   ]
  },
  {
   "cell_type": "markdown",
   "id": "b26a4ba8",
   "metadata": {},
   "source": [
    "#### matplotlib"
   ]
  },
  {
   "cell_type": "code",
   "execution_count": 111,
   "id": "f6f96675",
   "metadata": {},
   "outputs": [
    {
     "name": "stdout",
     "output_type": "stream",
     "text": [
      "Collecting matplotlib\n",
      "  Downloading matplotlib-3.9.2-cp39-cp39-win_amd64.whl.metadata (11 kB)\n",
      "Collecting contourpy>=1.0.1 (from matplotlib)\n",
      "  Downloading contourpy-1.3.0-cp39-cp39-win_amd64.whl.metadata (5.4 kB)\n",
      "Collecting cycler>=0.10 (from matplotlib)\n",
      "  Downloading cycler-0.12.1-py3-none-any.whl.metadata (3.8 kB)\n",
      "Collecting fonttools>=4.22.0 (from matplotlib)\n",
      "  Downloading fonttools-4.54.1-cp39-cp39-win_amd64.whl.metadata (167 kB)\n",
      "Collecting kiwisolver>=1.3.1 (from matplotlib)\n",
      "  Downloading kiwisolver-1.4.7-cp39-cp39-win_amd64.whl.metadata (6.4 kB)\n",
      "Requirement already satisfied: numpy>=1.23 in c:\\users\\rmarket\\anaconda3\\envs\\test_env\\lib\\site-packages (from matplotlib) (2.0.2)\n",
      "Requirement already satisfied: packaging>=20.0 in c:\\users\\rmarket\\anaconda3\\envs\\test_env\\lib\\site-packages (from matplotlib) (24.1)\n",
      "Collecting pillow>=8 (from matplotlib)\n",
      "  Downloading pillow-11.0.0-cp39-cp39-win_amd64.whl.metadata (9.3 kB)\n",
      "Collecting pyparsing>=2.3.1 (from matplotlib)\n",
      "  Downloading pyparsing-3.2.0-py3-none-any.whl.metadata (5.0 kB)\n",
      "Requirement already satisfied: python-dateutil>=2.7 in c:\\users\\rmarket\\anaconda3\\envs\\test_env\\lib\\site-packages (from matplotlib) (2.9.0)\n",
      "Collecting importlib-resources>=3.2.0 (from matplotlib)\n",
      "  Downloading importlib_resources-6.4.5-py3-none-any.whl.metadata (4.0 kB)\n",
      "Requirement already satisfied: zipp>=3.1.0 in c:\\users\\rmarket\\anaconda3\\envs\\test_env\\lib\\site-packages (from importlib-resources>=3.2.0->matplotlib) (3.20.2)\n",
      "Requirement already satisfied: six>=1.5 in c:\\users\\rmarket\\anaconda3\\envs\\test_env\\lib\\site-packages (from python-dateutil>=2.7->matplotlib) (1.16.0)\n",
      "Downloading matplotlib-3.9.2-cp39-cp39-win_amd64.whl (7.8 MB)\n",
      "   ---------------------------------------- 0.0/7.8 MB ? eta -:--:--\n",
      "   -------------------------- ------------- 5.2/7.8 MB 53.0 MB/s eta 0:00:01\n",
      "   ---------------------------------------- 7.8/7.8 MB 24.1 MB/s eta 0:00:00\n",
      "Downloading contourpy-1.3.0-cp39-cp39-win_amd64.whl (211 kB)\n",
      "Downloading cycler-0.12.1-py3-none-any.whl (8.3 kB)\n",
      "Downloading fonttools-4.54.1-cp39-cp39-win_amd64.whl (2.2 MB)\n",
      "   ---------------------------------------- 0.0/2.2 MB ? eta -:--:--\n",
      "   ---------------------------------------- 2.2/2.2 MB 62.9 MB/s eta 0:00:00\n",
      "Downloading importlib_resources-6.4.5-py3-none-any.whl (36 kB)\n",
      "Downloading kiwisolver-1.4.7-cp39-cp39-win_amd64.whl (55 kB)\n",
      "Downloading pillow-11.0.0-cp39-cp39-win_amd64.whl (2.6 MB)\n",
      "   ---------------------------------------- 0.0/2.6 MB ? eta -:--:--\n",
      "   ---------------------------------------- 2.6/2.6 MB 74.3 MB/s eta 0:00:00\n",
      "Downloading pyparsing-3.2.0-py3-none-any.whl (106 kB)\n",
      "Installing collected packages: pyparsing, pillow, kiwisolver, importlib-resources, fonttools, cycler, contourpy, matplotlib\n",
      "Successfully installed contourpy-1.3.0 cycler-0.12.1 fonttools-4.54.1 importlib-resources-6.4.5 kiwisolver-1.4.7 matplotlib-3.9.2 pillow-11.0.0 pyparsing-3.2.0\n",
      "Note: you may need to restart the kernel to use updated packages.\n"
     ]
    }
   ],
   "source": [
    "# pip install matplotlib"
   ]
  },
  {
   "cell_type": "code",
   "execution_count": 112,
   "id": "9ebc24c6",
   "metadata": {},
   "outputs": [],
   "source": [
    "import matplotlib.pyplot as plt # 짧은 이름으로 부르기 위해 (시각화)"
   ]
  },
  {
   "cell_type": "code",
   "execution_count": 113,
   "id": "8331e379",
   "metadata": {},
   "outputs": [],
   "source": [
    "x = [1, 2, 3, 4, 5]\n",
    "y = [2, 4, 6, 8, 10]"
   ]
  },
  {
   "cell_type": "markdown",
   "metadata": {},
   "source": [
    "| 코드 | 설명                          | 예시                      |\n",
    "|---|---|---|\n",
    "| `%Y` | 4자리 연도                    | 2024                      |\n",
    "| `%y` | 2자리 연도                    | 24                        |\n",
    "| `%m` | 2자리 월 (01 ~ 12)            | 01, 12                    |\n",
    "| `%d` | 2자리 일 (01 ~ 31)            | 01, 31                    |\n",
    "| `%H` | 24시간 형식의 시간 (00 ~ 23)  | 00, 23                    |\n",
    "| `%I` | 12시간 형식의 시간 (01 ~ 12)  | 01, 12                    |\n",
    "| `%p` | 오전/오후                     | AM, PM                    |\n",
    "| `%M` | 2자리 분 (00 ~ 59)            | 00, 59                    |\n",
    "| `%S` | 2자리 초 (00 ~ 59)            | 00, 59                    |\n",
    "| `%A` | 요일 이름 (전체)              | Monday                    |\n",
    "| `%a` | 요일 이름 (축약)              | Mon                       |\n",
    "| `%B` | 월 이름 (전체)                | January                   |\n",
    "| `%b` | 월 이름 (축약)                | Jan                       |\n",
    "| `%c` | 날짜와 시간 전체 출력         | Tue Oct 24 14:23:05 2024 |\n",
    "| `%x` | 날짜만 출력                   | 10/24/24                  |\n",
    "| `%X` | 시간만 출력                   | 14:23:05                  |\n"
   ]
  },
  {
   "cell_type": "markdown",
   "id": "89c3a61f",
   "metadata": {},
   "source": [
    "| 코드 | 설명                          | 예시                      |\n",
    "|---|---|---|\n",
    "| `%Y` | 4자리 연도                    | 2024                      |\n",
    "| `%y` | 2자리 연도                    | 24                        |\n",
    "| `%m` | 2자리 월 (01 ~ 12)            | 01, 12                    |\n",
    "| `%d` | 2자리 일 (01 ~ 31)            | 01, 31                    |\n",
    "| `%H` | 24시간 형식의 시간 (00 ~ 23)  | 00, 23                    |\n",
    "| `%I` | 12시간 형식의 시간 (01 ~ 12)  | 01, 12                    |\n",
    "| `%p` | 오전/오후                     | AM, PM                    |\n",
    "| `%M` | 2자리 분 (00 ~ 59)            | 00, 59                    |\n",
    "| `%S` | 2자리 초 (00 ~ 59)            | 00, 59                    |\n",
    "| `%A` | 요일 이름 (전체)              | Monday                    |\n",
    "| `%a` | 요일 이름 (축약)              | Mon                       |\n",
    "| `%B` | 월 이름 (전체)                | January                   |\n",
    "| `%b` | 월 이름 (축약)                | Jan                       |\n",
    "| `%c` | 날짜와 시간 전체 출력         | Tue Oct 24 14:23:05 2024 |\n",
    "| `%x` | 날짜만 출력                   | 10/24/24                  |\n",
    "| `%X` | 시간만 출력                   | 14:23:05                  |\n"
   ]
  },
  {
   "cell_type": "markdown",
   "id": "8eb6fc90",
   "metadata": {},
   "source": [
    "| 코드 | 설명                          | 예시                      |\n",
    "|---|---|---|\n",
    "| `%Y` | 4자리 연도                    | 2024                      |\n",
    "| `%y` | 2자리 연도                    | 24                        |\n",
    "| `%m` | 2자리 월 (01 ~ 12)            | 01, 12                    |\n",
    "| `%d` | 2자리 일 (01 ~ 31)            | 01, 31                    |\n",
    "| `%H` | 24시간 형식의 시간 (00 ~ 23)  | 00, 23                    |\n",
    "| `%I` | 12시간 형식의 시간 (01 ~ 12)  | 01, 12                    |\n",
    "| `%p` | 오전/오후                     | AM, PM                    |\n",
    "| `%M` | 2자리 분 (00 ~ 59)            | 00, 59                    |\n",
    "| `%S` | 2자리 초 (00 ~ 59)            | 00, 59                    |\n",
    "| `%A` | 요일 이름 (전체)              | Monday                    |\n",
    "| `%a` | 요일 이름 (축약)              | Mon                       |\n",
    "| `%B` | 월 이름 (전체)                | January                   |\n",
    "| `%b` | 월 이름 (축약)                | Jan                       |\n",
    "| `%c` | 날짜와 시간 전체 출력         | Tue Oct 24 14:23:05 2024 |\n",
    "| `%x` | 날짜만 출력                   | 10/24/24                  |\n",
    "| `%X` | 시간만 출력                   | 14:23:05                  |\n"
   ]
  },
  {
   "cell_type": "code",
   "execution_count": 115,
   "id": "fd185847",
   "metadata": {},
   "outputs": [
    {
     "data": {
      "image/png": "[encoded data removed]",
      "text/plain": [
       "<Figure size 640x480 with 1 Axes>"
      ]
     },
     "metadata": {},
     "output_type": "display_data"
    }
   ],
   "source": [
    "plt.plot(x, y)\n",
    "plt.title('graph')\n",
    "plt.show() # 안 붙여도 에러는 안나지만 원칙적으로는 붙여 줘야 함"
   ]
  },
  {
   "cell_type": "code",
   "execution_count": 116,
   "id": "7ed16c91",
   "metadata": {},
   "outputs": [
    {
     "data": {
      "text/plain": [
       "<function matplotlib.pyplot.show(close=None, block=None)>"
      ]
     },
     "execution_count": 116,
     "metadata": {},
     "output_type": "execute_result"
    },
    {
     "data": {
      "image/png": "[encoded data removed]",
      "text/plain": [
       "<Figure size 640x480 with 1 Axes>"
      ]
     },
     "metadata": {},
     "output_type": "display_data"
    }
   ],
   "source": [
    "plt.bar(x, y)\n",
    "plt.title('bar graph')\n",
    "plt.show"
   ]
  },
  {
   "cell_type": "markdown",
   "id": "e6deab29",
   "metadata": {},
   "source": []
  },
  {
   "cell_type": "code",
   "execution_count": 118,
   "id": "82755d74",
   "metadata": {},
   "outputs": [
    {
     "data": {
      "image/png": "[encoded data removed]",
      "text/plain": [
       "<Figure size 640x480 with 1 Axes>"
      ]
     },
     "metadata": {},
     "output_type": "display_data"
    }
   ],
   "source": [
    "plt.scatter(x, y)\n",
    "plt.title('scatter graph')\n",
    "plt.xlabel('x')\n",
    "plt.ylabel('y')\n",
    "plt.show()"
   ]
  },
  {
   "cell_type": "code",
   "execution_count": 121,
   "id": "7b8f5daf",
   "metadata": {},
   "outputs": [
    {
     "name": "stderr",
     "output_type": "stream",
     "text": [
      "C:\\Users\\RMARKET\\AppData\\Local\\Temp\\ipykernel_12336\\891524681.py:3: FutureWarning: 'M' is deprecated and will be removed in a future version, please use 'ME' instead.\n",
      "  '월' : pd.date_range(start='2024-01-01', periods=12, freq='M'),\n"
     ]
    }
   ],
   "source": [
    "time_data = pd.DataFrame(\n",
    "    {\n",
    "        '월' : pd.date_range(start='2024-01-01', periods=12, freq='M'),\n",
    "        '방문자' : [100, 150, 200, 150, 300, 110, 500, 300, 400, 120, 300, 240]\n",
    "    }\n",
    ")"
   ]
  },
  {
   "cell_type": "code",
   "execution_count": 122,
   "id": "b639223f",
   "metadata": {},
   "outputs": [
    {
     "data": {
      "text/html": [
       "<div>\n",
       "<style scoped>\n",
       "    .dataframe tbody tr th:only-of-type {\n",
       "        vertical-align: middle;\n",
       "    }\n",
       "\n",
       "    .dataframe tbody tr th {\n",
       "        vertical-align: top;\n",
       "    }\n",
       "\n",
       "    .dataframe thead th {\n",
       "        text-align: right;\n",
       "    }\n",
       "</style>\n",
       "<table border=\"1\" class=\"dataframe\">\n",
       "  <thead>\n",
       "    <tr style=\"text-align: right;\">\n",
       "      <th></th>\n",
       "      <th>월</th>\n",
       "      <th>방문자</th>\n",
       "    </tr>\n",
       "  </thead>\n",
       "  <tbody>\n",
       "    <tr>\n",
       "      <th>0</th>\n",
       "      <td>2024-01-31</td>\n",
       "      <td>100</td>\n",
       "    </tr>\n",
       "    <tr>\n",
       "      <th>1</th>\n",
       "      <td>2024-02-29</td>\n",
       "      <td>150</td>\n",
       "    </tr>\n",
       "    <tr>\n",
       "      <th>2</th>\n",
       "      <td>2024-03-31</td>\n",
       "      <td>200</td>\n",
       "    </tr>\n",
       "    <tr>\n",
       "      <th>3</th>\n",
       "      <td>2024-04-30</td>\n",
       "      <td>150</td>\n",
       "    </tr>\n",
       "    <tr>\n",
       "      <th>4</th>\n",
       "      <td>2024-05-31</td>\n",
       "      <td>300</td>\n",
       "    </tr>\n",
       "    <tr>\n",
       "      <th>5</th>\n",
       "      <td>2024-06-30</td>\n",
       "      <td>110</td>\n",
       "    </tr>\n",
       "    <tr>\n",
       "      <th>6</th>\n",
       "      <td>2024-07-31</td>\n",
       "      <td>500</td>\n",
       "    </tr>\n",
       "    <tr>\n",
       "      <th>7</th>\n",
       "      <td>2024-08-31</td>\n",
       "      <td>300</td>\n",
       "    </tr>\n",
       "    <tr>\n",
       "      <th>8</th>\n",
       "      <td>2024-09-30</td>\n",
       "      <td>400</td>\n",
       "    </tr>\n",
       "    <tr>\n",
       "      <th>9</th>\n",
       "      <td>2024-10-31</td>\n",
       "      <td>120</td>\n",
       "    </tr>\n",
       "    <tr>\n",
       "      <th>10</th>\n",
       "      <td>2024-11-30</td>\n",
       "      <td>300</td>\n",
       "    </tr>\n",
       "    <tr>\n",
       "      <th>11</th>\n",
       "      <td>2024-12-31</td>\n",
       "      <td>240</td>\n",
       "    </tr>\n",
       "  </tbody>\n",
       "</table>\n",
       "</div>"
      ],
      "text/plain": [
       "            월  방문자\n",
       "0  2024-01-31  100\n",
       "1  2024-02-29  150\n",
       "2  2024-03-31  200\n",
       "3  2024-04-30  150\n",
       "4  2024-05-31  300\n",
       "5  2024-06-30  110\n",
       "6  2024-07-31  500\n",
       "7  2024-08-31  300\n",
       "8  2024-09-30  400\n",
       "9  2024-10-31  120\n",
       "10 2024-11-30  300\n",
       "11 2024-12-31  240"
      ]
     },
     "execution_count": 122,
     "metadata": {},
     "output_type": "execute_result"
    }
   ],
   "source": [
    "time_data"
   ]
  },
  {
   "cell_type": "code",
   "execution_count": 128,
   "id": "cd30fb98",
   "metadata": {},
   "outputs": [],
   "source": [
    "plt.rcParams['font.family'] = 'Malgun Gothic' # 그래프에서 (한글)폰트 깨질 때 \n",
    "plt.rcParams['axes.unicode_minus'] = False # 마이너스 기호 깨질 때 사용"
   ]
  },
  {
   "cell_type": "code",
   "execution_count": null,
   "id": "ec156905",
   "metadata": {},
   "outputs": [
    {
     "data": {
      "image/png": "[encoded data removed]",
      "text/plain": [
       "<Figure size 600x400 with 1 Axes>"
      ]
     },
     "metadata": {},
     "output_type": "display_data"
    }
   ],
   "source": [
    "plt.figure(figsize=(6,4)) # 그래프의 사이즈 조절\n",
    "plt.plot(time_data['월'], time_data['방문자'], marker = 'o', color = 'b')\n",
    "plt.title('월별 방문자')\n",
    "plt.xlabel('월')\n",
    "plt.ylabel('방문자 수')\n",
    "plt.grid(True)\n",
    "plt.show()"
   ]
  },
  {
   "cell_type": "code",
   "execution_count": 135,
   "id": "9532db3d",
   "metadata": {},
   "outputs": [],
   "source": [
    "restaurant = pd.DataFrame(\n",
    "    {\n",
    "        '음식 종류' : ['중식', '일식', '한식', '맥시칸', '카페'],\n",
    "        '리뷰 수' : [205, 400, 320, 514, 512]\n",
    "    }\n",
    ")"
   ]
  },
  {
   "cell_type": "code",
   "execution_count": 140,
   "id": "5eec60e9",
   "metadata": {},
   "outputs": [
    {
     "data": {
      "image/png": "[encoded data removed]",
      "text/plain": [
       "<Figure size 800x600 with 1 Axes>"
      ]
     },
     "metadata": {},
     "output_type": "display_data"
    }
   ],
   "source": [
    "plt.figure(figsize = (8, 6))\n",
    "plt.bar(restaurant['음식 종류'], restaurant['리뷰 수'], color = 'pink')\n",
    "plt.title('음식 종류별 리뷰 수')\n",
    "plt.xlabel ('음식 종류')\n",
    "plt.ylabel ('리뷰 수')\n",
    "plt.show()"
   ]
  },
  {
   "cell_type": "code",
   "execution_count": 144,
   "id": "5bfecfec",
   "metadata": {},
   "outputs": [
    {
     "data": {
      "text/html": [
       "<div>\n",
       "<style scoped>\n",
       "    .dataframe tbody tr th:only-of-type {\n",
       "        vertical-align: middle;\n",
       "    }\n",
       "\n",
       "    .dataframe tbody tr th {\n",
       "        vertical-align: top;\n",
       "    }\n",
       "\n",
       "    .dataframe thead th {\n",
       "        text-align: right;\n",
       "    }\n",
       "</style>\n",
       "<table border=\"1\" class=\"dataframe\">\n",
       "  <thead>\n",
       "    <tr style=\"text-align: right;\">\n",
       "      <th></th>\n",
       "      <th>마케팅 비용</th>\n",
       "      <th>유저 수</th>\n",
       "    </tr>\n",
       "  </thead>\n",
       "  <tbody>\n",
       "    <tr>\n",
       "      <th>0</th>\n",
       "      <td>4965</td>\n",
       "      <td>3265</td>\n",
       "    </tr>\n",
       "    <tr>\n",
       "      <th>1</th>\n",
       "      <td>2025</td>\n",
       "      <td>7833</td>\n",
       "    </tr>\n",
       "    <tr>\n",
       "      <th>2</th>\n",
       "      <td>4694</td>\n",
       "      <td>8124</td>\n",
       "    </tr>\n",
       "    <tr>\n",
       "      <th>3</th>\n",
       "      <td>1942</td>\n",
       "      <td>6769</td>\n",
       "    </tr>\n",
       "    <tr>\n",
       "      <th>4</th>\n",
       "      <td>3883</td>\n",
       "      <td>4312</td>\n",
       "    </tr>\n",
       "  </tbody>\n",
       "</table>\n",
       "</div>"
      ],
      "text/plain": [
       "   마케팅 비용  유저 수\n",
       "0    4965  3265\n",
       "1    2025  7833\n",
       "2    4694  8124\n",
       "3    1942  6769\n",
       "4    3883  4312"
      ]
     },
     "execution_count": 144,
     "metadata": {},
     "output_type": "execute_result"
    }
   ],
   "source": [
    "cost = []\n",
    "user = []\n",
    "\n",
    "for i in range(50):\n",
    "    cost.append(random.randint(1000, 5000))\n",
    "for i in range(50):\n",
    "    user.append(random.randint(1000, 10000))\n",
    "\n",
    "add_data = pd. DataFrame(\n",
    "    {\n",
    "        '마케팅 비용' : cost,\n",
    "        '유저 수' : user\n",
    "    }\n",
    ")\n",
    "\n",
    "add_data.head()"
   ]
  },
  {
   "cell_type": "code",
   "execution_count": 150,
   "id": "ae77b993",
   "metadata": {},
   "outputs": [
    {
     "data": {
      "image/png": "[encoded data removed]",
      "text/plain": [
       "<Figure size 800x800 with 1 Axes>"
      ]
     },
     "metadata": {},
     "output_type": "display_data"
    }
   ],
   "source": [
    "plt.figure(figsize=(8,8))\n",
    "plt.scatter(add_data['마케팅 비용'], add_data['유저 수'], color= 'r', alpha= 0.5) # alpha는 투명도를 나타내고 0.n 이나 .n 으로 표현 가능 하다\n",
    "plt.title('마케팅 비용 대비 유저 수')\n",
    "plt.xlabel('마케팅 비용')\n",
    "plt.ylabel('유저 수')\n",
    "plt.show()"
   ]
  },
  {
   "cell_type": "code",
   "execution_count": null,
   "id": "39f7485d",
   "metadata": {},
   "outputs": [],
   "source": []
  },
  {
   "cell_type": "code",
   "execution_count": null,
   "id": "13eff8b7",
   "metadata": {},
   "outputs": [],
   "source": []
  },
  {
   "cell_type": "code",
   "execution_count": null,
   "id": "3393803b",
   "metadata": {},
   "outputs": [],
   "source": []
  },
  {
   "cell_type": "markdown",
   "id": "3ae7534c",
   "metadata": {},
   "source": [
    "## 2. Numpy 라이브러리"
   ]
  },
  {
   "cell_type": "markdown",
   "id": "2d999a67",
   "metadata": {},
   "source": [
    "- Numpy는 파이썬에서 과학 연산을 위한 핵심 라이브러리로, 특히 다차원 배열을 처리하는데 유용\n",
    "- Numpy를 설치하고 불러오기"
   ]
  },
  {
   "cell_type": "code",
   "execution_count": 151,
   "id": "c59fd4e6",
   "metadata": {},
   "outputs": [
    {
     "name": "stdout",
     "output_type": "stream",
     "text": [
      "Requirement already satisfied: numpy in c:\\users\\rmarket\\anaconda3\\envs\\test_env\\lib\\site-packages (2.0.2)\n",
      "Note: you may need to restart the kernel to use updated packages.\n"
     ]
    }
   ],
   "source": [
    "# pip install numpy"
   ]
  },
  {
   "cell_type": "code",
   "execution_count": 7,
   "id": "b705b943",
   "metadata": {},
   "outputs": [],
   "source": [
    "import numpy as np"
   ]
  },
  {
   "cell_type": "markdown",
   "id": "c12183c3",
   "metadata": {},
   "source": [
    "### Numpy 배열 생성"
   ]
  },
  {
   "cell_type": "markdown",
   "id": "8b35fb86",
   "metadata": {},
   "source": [
    "- Numpy 배열을 생성하고 기본적인 연산 수행\n",
    "- 배열은 행과 열로 이루어진 행렬!"
   ]
  },
  {
   "cell_type": "code",
   "execution_count": 153,
   "id": "83ddb5aa",
   "metadata": {},
   "outputs": [
    {
     "data": {
      "text/plain": [
       "array([1, 2, 3, 4, 5])"
      ]
     },
     "execution_count": 153,
     "metadata": {},
     "output_type": "execute_result"
    }
   ],
   "source": [
    "arr = np.array([1,2,3,4,5]) # 리스트 처럼 생겼지만 array이다.\n",
    "arr"
   ]
  },
  {
   "cell_type": "code",
   "execution_count": 154,
   "id": "8a3bac0d",
   "metadata": {},
   "outputs": [
    {
     "name": "stdout",
     "output_type": "stream",
     "text": [
      "[ 2  4  6  8 10]\n"
     ]
    }
   ],
   "source": [
    "print(arr*2)"
   ]
  },
  {
   "cell_type": "markdown",
   "id": "3fd6470a",
   "metadata": {},
   "source": [
    "### 배열의 차원 이해하기"
   ]
  },
  {
   "cell_type": "markdown",
   "id": "b203b89d",
   "metadata": {},
   "source": [
    "- Numpy는 1차원, 2차원, 다차원 배열을 쉽게 처리할 수 있다."
   ]
  },
  {
   "cell_type": "code",
   "execution_count": 156,
   "id": "ed57f8e3",
   "metadata": {},
   "outputs": [
    {
     "data": {
      "text/plain": [
       "array([[1, 2, 3],\n",
       "       [4, 5, 6]])"
      ]
     },
     "execution_count": 156,
     "metadata": {},
     "output_type": "execute_result"
    }
   ],
   "source": [
    "arr_2d = np.array([[1,2,3],[4,5,6]]) # 대괄호로 한번더 묶어 준다!!!!\n",
    "arr_2d"
   ]
  },
  {
   "cell_type": "code",
   "execution_count": 157,
   "id": "9b872cc8",
   "metadata": {},
   "outputs": [
    {
     "name": "stdout",
     "output_type": "stream",
     "text": [
      "배열의 차원 : 2\n"
     ]
    }
   ],
   "source": [
    "print(f'배열의 차원 : {arr_2d.ndim}')"
   ]
  },
  {
   "cell_type": "code",
   "execution_count": 158,
   "id": "dbc23df5",
   "metadata": {},
   "outputs": [
    {
     "name": "stdout",
     "output_type": "stream",
     "text": [
      "배열의 형태 : (2, 3)\n"
     ]
    }
   ],
   "source": [
    "print(f'배열의 형태 : {arr_2d.shape}') # 2행 3열"
   ]
  },
  {
   "cell_type": "code",
   "execution_count": 159,
   "id": "791e266d",
   "metadata": {},
   "outputs": [
    {
     "name": "stdout",
     "output_type": "stream",
     "text": [
      "총 요소의 수 : 6\n"
     ]
    }
   ],
   "source": [
    "print(f'총 요소의 수 : {arr_2d.size}')"
   ]
  },
  {
   "cell_type": "code",
   "execution_count": 165,
   "id": "ba21f507",
   "metadata": {},
   "outputs": [
    {
     "name": "stdout",
     "output_type": "stream",
     "text": [
      "[[[ 1  2  3]\n",
      "  [ 4  5  6]]\n",
      "\n",
      " [[ 7  8  9]\n",
      "  [10 11 12]]]\n",
      "배열의 차원 : 3\n",
      "배열의 형태 : (2, 2, 3)\n",
      "총 요소의 수 : 12\n"
     ]
    }
   ],
   "source": [
    "arr_3d = np.array([[[1,2,3],[4,5,6]],[[7,8,9],[10,11,12]]])\n",
    "\n",
    "print(arr_3d)\n",
    "print(f'배열의 차원 : {arr_3d.ndim}')\n",
    "print(f'배열의 형태 : {arr_3d.shape}')\n",
    "print(f'총 요소의 수 : {arr_3d.size}')"
   ]
  },
  {
   "cell_type": "markdown",
   "id": "defcd9b4",
   "metadata": {},
   "source": [
    "### 배열 형태 변경하기"
   ]
  },
  {
   "cell_type": "markdown",
   "id": "c410526d",
   "metadata": {},
   "source": [
    "- 배열의 형태를 변경할 때 `reshape` 함수를 사용\n",
    "    - 차원 : 배열의 깊이, 배열이 몇 겹인지\n",
    "    - 형태 : 각 차원에 요소가 몇 개 있는지"
   ]
  },
  {
   "cell_type": "code",
   "execution_count": 166,
   "id": "5eb9fee1",
   "metadata": {},
   "outputs": [
    {
     "name": "stdout",
     "output_type": "stream",
     "text": [
      "1차원 배열 : [1 2 3 4 5]\n"
     ]
    }
   ],
   "source": [
    "arr1 = np.array([1,2,3,4,5])\n",
    "print(f'1차원 배열 : {arr1}')"
   ]
  },
  {
   "cell_type": "code",
   "execution_count": 168,
   "id": "44b4511f",
   "metadata": {},
   "outputs": [
    {
     "name": "stdout",
     "output_type": "stream",
     "text": [
      "2차원 배열로 변경 : [[1]\n",
      " [2]\n",
      " [3]\n",
      " [4]\n",
      " [5]]\n"
     ]
    }
   ],
   "source": [
    "reshape_arr = arr1.reshape(5,1)\n",
    "print(f'5 ,1형태로 변경 : {reshape_arr}') # 5행 1열"
   ]
  },
  {
   "cell_type": "code",
   "execution_count": 169,
   "id": "b7f69b28",
   "metadata": {},
   "outputs": [
    {
     "data": {
      "text/plain": [
       "array([[1, 2, 3],\n",
       "       [4, 5, 6]])"
      ]
     },
     "execution_count": 169,
     "metadata": {},
     "output_type": "execute_result"
    }
   ],
   "source": [
    "arr_2d"
   ]
  },
  {
   "cell_type": "code",
   "execution_count": null,
   "id": "e057c6a2",
   "metadata": {},
   "outputs": [
    {
     "name": "stdout",
     "output_type": "stream",
     "text": [
      "[[1 2]\n",
      " [3 4]\n",
      " [5 6]]\n",
      "배열의 형태 : [[1 2]\n",
      " [3 4]\n",
      " [5 6]]\n",
      "차원 : 2\n"
     ]
    }
   ],
   "source": [
    "arr_reshaped = arr_2d.reshape(3, 2)\n",
    "print(arr_reshaped)\n",
    "print(f'배열의 형태 : {arr_reshaped}')\n",
    "print(f'차원 : {arr_reshaped.ndim}') # 대괄호의 갯수가 차원"
   ]
  },
  {
   "cell_type": "code",
   "execution_count": 175,
   "id": "f7192db7",
   "metadata": {},
   "outputs": [
    {
     "data": {
      "text/plain": [
       "array([ 1,  2,  3,  4,  5,  6,  7,  8,  9, 10])"
      ]
     },
     "execution_count": 175,
     "metadata": {},
     "output_type": "execute_result"
    }
   ],
   "source": [
    "np.arange(1,11)"
   ]
  },
  {
   "cell_type": "code",
   "execution_count": 10,
   "id": "16504923",
   "metadata": {},
   "outputs": [
    {
     "name": "stdout",
     "output_type": "stream",
     "text": [
      "[ 1  2  3  4  5  6  7  8  9 10 11 12 13 14 15 16 17 18 19 20]\n",
      "배열의 차원 : 1\n",
      "배열의 형태 : (20,)\n",
      "배열의 전체 크기 : 20\n"
     ]
    }
   ],
   "source": [
    "# Q1. 1부터 20까지의 정수를 원소로 갖는 1차원 배열을 생성하고 차원과 형태, 전체 크기를 출력해보세요\n",
    "arr = np.arange(1,21)\n",
    "arr\n",
    "print(arr)\n",
    "print(f'배열 : {arr}')\n",
    "print(f'배열의 차원 : {arr.ndim}')\n",
    "print(f'배열의 형태 : {arr.shape}')\n",
    "print(f'배열의 전체 크기 : {arr.size}')"
   ]
  },
  {
   "cell_type": "code",
   "execution_count": 11,
   "id": "248b95bd",
   "metadata": {},
   "outputs": [
    {
     "name": "stdout",
     "output_type": "stream",
     "text": [
      "배열 : [[ 1  2  3  4  5]\n",
      " [ 6  7  8  9 10]\n",
      " [11 12 13 14 15]\n",
      " [16 17 18 19 20]]\n",
      "배열의 차원 : 2\n",
      "배열의 형태 : (4, 5)\n",
      "배열의 전체 크기 : 20\n"
     ]
    }
   ],
   "source": [
    "arr2 = arr.reshape(4, 5)\n",
    "print(f'배열 : {arr2}')\n",
    "print(f'배열의 차원 : {arr2.ndim}')\n",
    "print(f'배열의 형태 : {arr2.shape}')\n",
    "print(f'배열의 전체 크기 : {arr2.size}')"
   ]
  },
  {
   "cell_type": "markdown",
   "id": "e71334a7",
   "metadata": {},
   "source": [
    "## 3. 배열 연산"
   ]
  },
  {
   "cell_type": "markdown",
   "id": "5824f414",
   "metadata": {},
   "source": [
    "- Numpy 배열은 다양한 연산을 지원"
   ]
  },
  {
   "cell_type": "code",
   "execution_count": 19,
   "id": "7ce74dde",
   "metadata": {},
   "outputs": [],
   "source": [
    "arr1 = np.array([1,2,3])\n",
    "arr2 = np.array([4,5,6])"
   ]
  },
  {
   "cell_type": "code",
   "execution_count": 13,
   "id": "33842b61",
   "metadata": {},
   "outputs": [
    {
     "data": {
      "text/plain": [
       "(3,)"
      ]
     },
     "execution_count": 13,
     "metadata": {},
     "output_type": "execute_result"
    }
   ],
   "source": [
    "arr1.shape"
   ]
  },
  {
   "cell_type": "code",
   "execution_count": 14,
   "id": "5923b3fe",
   "metadata": {},
   "outputs": [
    {
     "data": {
      "text/plain": [
       "(3,)"
      ]
     },
     "execution_count": 14,
     "metadata": {},
     "output_type": "execute_result"
    }
   ],
   "source": [
    "arr2.shape"
   ]
  },
  {
   "cell_type": "code",
   "execution_count": 15,
   "id": "ff346f08",
   "metadata": {},
   "outputs": [
    {
     "name": "stdout",
     "output_type": "stream",
     "text": [
      "배열 덧셈 결과 : [5 7 9]\n"
     ]
    }
   ],
   "source": [
    "result = arr1 + arr2\n",
    "print(f'배열 덧셈 결과 : {result}')"
   ]
  },
  {
   "cell_type": "code",
   "execution_count": 20,
   "id": "d5a040fb",
   "metadata": {},
   "outputs": [
    {
     "name": "stdout",
     "output_type": "stream",
     "text": [
      "배열의 곱셈 결과 : [ 4 10 18]\n"
     ]
    }
   ],
   "source": [
    "result2 = arr1 * arr2\n",
    "print(f'배열의 곱셈 결과 : {result2}')"
   ]
  },
  {
   "cell_type": "code",
   "execution_count": 21,
   "id": "8919d77f",
   "metadata": {},
   "outputs": [
    {
     "name": "stdout",
     "output_type": "stream",
     "text": [
      "arr1의 합계 : 6\n"
     ]
    }
   ],
   "source": [
    "print(f'arr1의 합계 : {np.sum(arr1)}')"
   ]
  },
  {
   "cell_type": "code",
   "execution_count": 22,
   "id": "a466659f",
   "metadata": {},
   "outputs": [
    {
     "name": "stdout",
     "output_type": "stream",
     "text": [
      "arr2의 합계 : 15\n"
     ]
    }
   ],
   "source": [
    "print(f'arr2의 합계 : {np.sum(arr2)}')"
   ]
  },
  {
   "cell_type": "code",
   "execution_count": 24,
   "id": "728b58f2",
   "metadata": {},
   "outputs": [
    {
     "name": "stdout",
     "output_type": "stream",
     "text": [
      "arr1의 평균 : 2.0\n"
     ]
    }
   ],
   "source": [
    "print(f'arr1의 평균 : {np.mean(arr1)}')"
   ]
  },
  {
   "cell_type": "code",
   "execution_count": 23,
   "id": "b9a212a4",
   "metadata": {},
   "outputs": [
    {
     "name": "stdout",
     "output_type": "stream",
     "text": [
      "arr2의 평균 : 5.0\n"
     ]
    }
   ],
   "source": [
    "print(f'arr2의 평균 : {np.mean(arr2)}')"
   ]
  },
  {
   "cell_type": "code",
   "execution_count": 25,
   "id": "e326a45f",
   "metadata": {},
   "outputs": [
    {
     "data": {
      "text/plain": [
       "array([[ 29,  56],\n",
       "       [ 56, 110]])"
      ]
     },
     "execution_count": 25,
     "metadata": {},
     "output_type": "execute_result"
    }
   ],
   "source": [
    "arr3 = np.array([[2,3,4],[5,6,7]])\n",
    "arr4 = np.array([[2,5], [3,6], [4,7]])\n",
    "np.dot(arr3, arr4)"
   ]
  },
  {
   "cell_type": "code",
   "execution_count": 17,
   "id": "4ba2bce7",
   "metadata": {},
   "outputs": [
    {
     "ename": "ValueError",
     "evalue": "operands could not be broadcast together with shapes (4,) (3,) ",
     "output_type": "error",
     "traceback": [
      "\u001b[1;31m---------------------------------------------------------------------------\u001b[0m",
      "\u001b[1;31mValueError\u001b[0m                                Traceback (most recent call last)",
      "Cell \u001b[1;32mIn[17], line 3\u001b[0m\n\u001b[0;32m      1\u001b[0m arr1 \u001b[38;5;241m=\u001b[39m np\u001b[38;5;241m.\u001b[39marray([\u001b[38;5;241m1\u001b[39m,\u001b[38;5;241m2\u001b[39m,\u001b[38;5;241m3\u001b[39m,\u001b[38;5;241m4\u001b[39m])\n\u001b[0;32m      2\u001b[0m arr2 \u001b[38;5;241m=\u001b[39m np\u001b[38;5;241m.\u001b[39marray([\u001b[38;5;241m4\u001b[39m,\u001b[38;5;241m5\u001b[39m,\u001b[38;5;241m6\u001b[39m])\n\u001b[1;32m----> 3\u001b[0m result \u001b[38;5;241m=\u001b[39m \u001b[43marr1\u001b[49m\u001b[43m \u001b[49m\u001b[38;5;241;43m+\u001b[39;49m\u001b[43m \u001b[49m\u001b[43marr2\u001b[49m\n\u001b[0;32m      4\u001b[0m \u001b[38;5;28mprint\u001b[39m(\u001b[38;5;124mf\u001b[39m\u001b[38;5;124m'\u001b[39m\u001b[38;5;124m배열 덧셈 결과 : \u001b[39m\u001b[38;5;132;01m{\u001b[39;00mresult\u001b[38;5;132;01m}\u001b[39;00m\u001b[38;5;124m'\u001b[39m)\n",
      "\u001b[1;31mValueError\u001b[0m: operands could not be broadcast together with shapes (4,) (3,) "
     ]
    }
   ],
   "source": [
    "arr1 = np.array([1,2,3,4])\n",
    "arr2 = np.array([4,5,6])\n",
    "result = arr1 + arr2\n",
    "print(f'배열 덧셈 결과 : {result}') # 배열의 형태가 다르면 오류가 난다."
   ]
  },
  {
   "cell_type": "markdown",
   "id": "e091b7c8",
   "metadata": {},
   "source": [
    "#### 브로드캐스팅\n",
    "- 서로 다른 크기를 가진 배열 간의 연산을 가능하게하는 Numpy의 기능\n",
    "- 배열의 형상이 일치하지 않더라도 차원 크기가 1인 경우 해당 차원을 다른 배열에 맞추어 확장"
   ]
  },
  {
   "cell_type": "code",
   "execution_count": 26,
   "id": "7a854018",
   "metadata": {},
   "outputs": [],
   "source": [
    "arr1 = np.array([1,2,3])\n",
    "arr2 = np.array([[1],[2],[3]])"
   ]
  },
  {
   "cell_type": "code",
   "execution_count": 27,
   "id": "61399c1b",
   "metadata": {},
   "outputs": [
    {
     "name": "stdout",
     "output_type": "stream",
     "text": [
      "arr1의 형태 : (3,)\n",
      "arr2의 형태 : (3, 1)\n"
     ]
    }
   ],
   "source": [
    "print(f'arr1의 형태 : {arr1.shape}')\n",
    "print(f'arr2의 형태 : {arr2.shape}')"
   ]
  },
  {
   "cell_type": "code",
   "execution_count": 28,
   "id": "a1408a66",
   "metadata": {},
   "outputs": [
    {
     "name": "stdout",
     "output_type": "stream",
     "text": [
      "[[2 3 4]\n",
      " [3 4 5]\n",
      " [4 5 6]]\n"
     ]
    }
   ],
   "source": [
    "result = arr1 + arr2 # 형태가 다르지만, 자동으로 arr1의 형태를 (3,1)로 바꿔서 실행\n",
    "print(result)"
   ]
  },
  {
   "cell_type": "markdown",
   "id": "7d0968e6",
   "metadata": {},
   "source": [
    "## 4. 배열 다루기"
   ]
  },
  {
   "cell_type": "markdown",
   "id": "f7ed5a8f",
   "metadata": {},
   "source": [
    "#### zeros : 0으로 채운 배열 만들기"
   ]
  },
  {
   "cell_type": "code",
   "execution_count": 29,
   "id": "511c70ee",
   "metadata": {},
   "outputs": [
    {
     "name": "stdout",
     "output_type": "stream",
     "text": [
      "[0. 0. 0. 0. 0.]\n"
     ]
    }
   ],
   "source": [
    "zero_arr = np.zeros(5)\n",
    "print(zero_arr)"
   ]
  },
  {
   "cell_type": "code",
   "execution_count": 32,
   "id": "f2231e15",
   "metadata": {},
   "outputs": [
    {
     "name": "stdout",
     "output_type": "stream",
     "text": [
      "[[0 0 0 0]\n",
      " [0 0 0 0]\n",
      " [0 0 0 0]]\n"
     ]
    }
   ],
   "source": [
    "zero_2d = np.zeros((3, 4), dtype=int) # dtype= 을 이용하여 float을 int로 변경 가능\n",
    "print(zero_2d)"
   ]
  },
  {
   "cell_type": "markdown",
   "id": "22e3cc55",
   "metadata": {},
   "source": [
    "#### ones : 1로 채운 배열 만들기"
   ]
  },
  {
   "cell_type": "code",
   "execution_count": 33,
   "id": "33d88de9",
   "metadata": {},
   "outputs": [
    {
     "name": "stdout",
     "output_type": "stream",
     "text": [
      "[1. 1.]\n"
     ]
    }
   ],
   "source": [
    "ones_arr = np.ones(2)\n",
    "print(ones_arr)"
   ]
  },
  {
   "cell_type": "code",
   "execution_count": 35,
   "id": "21d1a038",
   "metadata": {},
   "outputs": [
    {
     "name": "stdout",
     "output_type": "stream",
     "text": [
      "[[[1 1]\n",
      "  [1 1]\n",
      "  [1 1]]\n",
      "\n",
      " [[1 1]\n",
      "  [1 1]\n",
      "  [1 1]]\n",
      "\n",
      " [[1 1]\n",
      "  [1 1]\n",
      "  [1 1]]\n",
      "\n",
      " [[1 1]\n",
      "  [1 1]\n",
      "  [1 1]]\n",
      "\n",
      " [[1 1]\n",
      "  [1 1]\n",
      "  [1 1]]]\n"
     ]
    }
   ],
   "source": [
    "ones_3d = np.ones((5, 3, 2), dtype=int)\n",
    "print(ones_3d)"
   ]
  },
  {
   "cell_type": "code",
   "execution_count": 37,
   "id": "2af5ca7c",
   "metadata": {},
   "outputs": [
    {
     "name": "stdout",
     "output_type": "stream",
     "text": [
      "0 부터 1 사이의 값으로 랜덤 배열 : \n",
      " [[0.79333286 0.11394969 0.28435621 0.23504617]\n",
      " [0.38211536 0.49605788 0.38223072 0.38638363]\n",
      " [0.74411111 0.80125169 0.70127059 0.09652564]]\n"
     ]
    }
   ],
   "source": [
    "print(f'0 부터 1 사이의 값으로 랜덤 배열 : \\n {np.random.rand(3,4)}')"
   ]
  },
  {
   "cell_type": "code",
   "execution_count": 38,
   "id": "56ab9ac4",
   "metadata": {},
   "outputs": [
    {
     "name": "stdout",
     "output_type": "stream",
     "text": [
      "1부터 10 사이의 숫자를 2스텝으로 한 연속 값으로 배열 생성 : \n",
      " [1 3 5 7 9]\n"
     ]
    }
   ],
   "source": [
    "print(f'1부터 10 사이의 숫자를 2스텝으로 한 연속 값으로 배열 생성 : \\n {np.arange(1, 10, 2)}')"
   ]
  },
  {
   "cell_type": "code",
   "execution_count": null,
   "id": "431484f1",
   "metadata": {},
   "outputs": [],
   "source": []
  },
  {
   "cell_type": "markdown",
   "id": "fd6b5b37",
   "metadata": {},
   "source": [
    "#### 배열 정보 알아보기"
   ]
  },
  {
   "cell_type": "code",
   "execution_count": 39,
   "id": "bdf1b59b",
   "metadata": {},
   "outputs": [],
   "source": [
    "arr = np.array([[1,2,3], [4,5,6],[7,8,9]])"
   ]
  },
  {
   "cell_type": "code",
   "execution_count": 40,
   "id": "94caf4ea",
   "metadata": {},
   "outputs": [
    {
     "name": "stdout",
     "output_type": "stream",
     "text": [
      "배열의 합계 : 45\n"
     ]
    }
   ],
   "source": [
    "print(f'배열의 합계 : {np.sum(arr)}')"
   ]
  },
  {
   "cell_type": "code",
   "execution_count": 41,
   "id": "35703c77",
   "metadata": {},
   "outputs": [
    {
     "name": "stdout",
     "output_type": "stream",
     "text": [
      "배열의 평균 : 5.0\n"
     ]
    }
   ],
   "source": [
    "print(f'배열의 평균 : {np.mean(arr)}')"
   ]
  },
  {
   "cell_type": "code",
   "execution_count": 42,
   "id": "f65fee74",
   "metadata": {},
   "outputs": [
    {
     "name": "stdout",
     "output_type": "stream",
     "text": [
      "배열의 표준 편차 : 2.581988897471611\n"
     ]
    }
   ],
   "source": [
    "print(f'배열의 표준 편차 : {np.std(arr)}')"
   ]
  },
  {
   "cell_type": "code",
   "execution_count": 71,
   "id": "6cdfc82e",
   "metadata": {},
   "outputs": [
    {
     "name": "stdout",
     "output_type": "stream",
     "text": [
      "합은 : [ 2  4  6  8 10 12 14 16 18 20]이고, \n",
      "곱은 : [  1   4   9  16  25  36  49  64  81 100]이다\n"
     ]
    }
   ],
   "source": [
    "# Q1. 1부터 10까지의 정수를 원소로 갖는 두 개의 1차원 배열을 생성하고 각 요소별 합과 곱을 구해보세요\n",
    "\n",
    "arr1 = np.arange(1,11)\n",
    "arr2 = np.array([1,2,3,4,5,6,7,8,9,10])\n",
    "\n",
    "print(f'합은 : {arr1+arr2}이고, \\n곱은 : {arr1*arr2}이다')"
   ]
  },
  {
   "cell_type": "code",
   "execution_count": 62,
   "id": "5c82ff6a",
   "metadata": {},
   "outputs": [
    {
     "name": "stdout",
     "output_type": "stream",
     "text": [
      "[[ 1  2  3  4]\n",
      " [ 5  6  7  8]\n",
      " [ 9 10 11 12]] \n",
      "\n",
      " [[1 1 1 1]\n",
      " [1 1 1 1]\n",
      " [1 1 1 1]]\n",
      "뺄셈 : [[ 0  1  2  3]\n",
      " [ 4  5  6  7]\n",
      " [ 8  9 10 11]], \n",
      "덧셈 : [[ 2  3  4  5]\n",
      " [ 6  7  8  9]\n",
      " [10 11 12 13]]\n"
     ]
    }
   ],
   "source": [
    "# Q2. 1부터 12까지의 정수를 원소로 갖는 3x4 배열과 1로만 이루어진 3x4 배열을 생성하여 뺄셈과 덧셈을 각각 수행해보세요\n",
    "\n",
    "arr = np.arange(1, 13)\n",
    "arr1 = arr.reshape(3, 4)\n",
    "# arr = np.arange(1, 13).reshape(3,4) : 한번에 형태 변화 까지\n",
    "arr2 = np.ones((3,4), dtype=int)\n",
    "print(arr1,'\\n\\n', arr2)\n",
    "print(f'뺄셈 : {arr1 - arr2}, \\n덧셈 : {arr1 + arr2}')"
   ]
  },
  {
   "cell_type": "code",
   "execution_count": 70,
   "id": "ac9e72e3",
   "metadata": {},
   "outputs": [
    {
     "name": "stdout",
     "output_type": "stream",
     "text": [
      "전체 평균은 : 54.76\n"
     ]
    }
   ],
   "source": [
    "# Q3. 0부터 100 사이의 정수를 원소로 갖는 무작위로 생성된 5x5 크기의 배열에서 전체 평균을 출력해보세요\n",
    "\n",
    "arr = np.random.randint(0, 101, (5, 5)) # size= 가 생략 됨 (size=(5,5))\n",
    "\n",
    "print(f'전체 평균은 : {np.mean(arr)}')"
   ]
  },
  {
   "cell_type": "code",
   "execution_count": 75,
   "id": "d202fc80",
   "metadata": {},
   "outputs": [
    {
     "data": {
      "text/plain": [
       "array([[ 0,  1,  2,  3],\n",
       "       [ 4,  5,  6,  7],\n",
       "       [ 8,  9, 10, 11]])"
      ]
     },
     "execution_count": 75,
     "metadata": {},
     "output_type": "execute_result"
    }
   ],
   "source": [
    "x = np.arange(12).reshape(3, -1)\n",
    "x"
   ]
  },
  {
   "cell_type": "code",
   "execution_count": null,
   "id": "a6810765",
   "metadata": {},
   "outputs": [],
   "source": []
  },
  {
   "cell_type": "markdown",
   "id": "fd865953",
   "metadata": {},
   "source": [
    "#### 인덱싱과 슬라이싱"
   ]
  },
  {
   "cell_type": "code",
   "execution_count": 76,
   "id": "6e32b725",
   "metadata": {},
   "outputs": [],
   "source": [
    "arr1d = np.array([10, 20, 30, 40, 50])"
   ]
  },
  {
   "cell_type": "code",
   "execution_count": 77,
   "id": "8473cd1d",
   "metadata": {},
   "outputs": [
    {
     "data": {
      "text/plain": [
       "np.int64(10)"
      ]
     },
     "execution_count": 77,
     "metadata": {},
     "output_type": "execute_result"
    }
   ],
   "source": [
    "arr1d[0]"
   ]
  },
  {
   "cell_type": "code",
   "execution_count": 78,
   "id": "57e50727",
   "metadata": {},
   "outputs": [
    {
     "name": "stdout",
     "output_type": "stream",
     "text": [
      "30\n"
     ]
    }
   ],
   "source": [
    "print(arr1d[2])"
   ]
  },
  {
   "cell_type": "code",
   "execution_count": null,
   "id": "0b5091ff",
   "metadata": {},
   "outputs": [],
   "source": [
    "arr2d = np.array(\n",
    "    [\n",
    "        [1,2,3,4],\n",
    "        [5,6,7,8],\n",
    "        [9,10,11,12]\n",
    "        ]\n",
    "        )"
   ]
  },
  {
   "cell_type": "code",
   "execution_count": 80,
   "id": "2922c4aa",
   "metadata": {},
   "outputs": [
    {
     "data": {
      "text/plain": [
       "array([1, 2, 3, 4])"
      ]
     },
     "execution_count": 80,
     "metadata": {},
     "output_type": "execute_result"
    }
   ],
   "source": [
    "arr2d[0]"
   ]
  },
  {
   "cell_type": "code",
   "execution_count": 81,
   "id": "98b624c5",
   "metadata": {},
   "outputs": [
    {
     "data": {
      "text/plain": [
       "np.int64(2)"
      ]
     },
     "execution_count": 81,
     "metadata": {},
     "output_type": "execute_result"
    }
   ],
   "source": [
    "arr2d[0][1]"
   ]
  },
  {
   "cell_type": "code",
   "execution_count": 113,
   "id": "8566972f",
   "metadata": {},
   "outputs": [
    {
     "name": "stdout",
     "output_type": "stream",
     "text": [
      "2\n",
      "2\n"
     ]
    }
   ],
   "source": [
    "print(arr2d[0][1])\n",
    "print(arr2d[0, 1])"
   ]
  },
  {
   "cell_type": "code",
   "execution_count": 84,
   "id": "442935b6",
   "metadata": {},
   "outputs": [
    {
     "name": "stdout",
     "output_type": "stream",
     "text": [
      "9\n"
     ]
    }
   ],
   "source": [
    "print(arr2d[-1, 0])"
   ]
  },
  {
   "cell_type": "code",
   "execution_count": 85,
   "id": "409a1ff3",
   "metadata": {},
   "outputs": [
    {
     "name": "stdout",
     "output_type": "stream",
     "text": [
      "7\n"
     ]
    }
   ],
   "source": [
    "print(arr2d[1,2])"
   ]
  },
  {
   "cell_type": "code",
   "execution_count": 88,
   "id": "0c942fb4",
   "metadata": {},
   "outputs": [
    {
     "name": "stdout",
     "output_type": "stream",
     "text": [
      "[[1 2 3 4]\n",
      " [5 6 7 8]]\n"
     ]
    }
   ],
   "source": [
    "print(arr2d[0:2])"
   ]
  },
  {
   "cell_type": "code",
   "execution_count": 89,
   "id": "ebe7e970",
   "metadata": {},
   "outputs": [
    {
     "name": "stdout",
     "output_type": "stream",
     "text": [
      "[[2 3]\n",
      " [6 7]]\n"
     ]
    }
   ],
   "source": [
    "print(arr2d[0:2, 1:3])"
   ]
  },
  {
   "cell_type": "code",
   "execution_count": 90,
   "id": "2bcc371b",
   "metadata": {},
   "outputs": [
    {
     "name": "stdout",
     "output_type": "stream",
     "text": [
      "[[1 3]\n",
      " [5 7]]\n"
     ]
    }
   ],
   "source": [
    "print(arr2d[:2, ::2])"
   ]
  },
  {
   "cell_type": "code",
   "execution_count": null,
   "id": "0d13488d",
   "metadata": {},
   "outputs": [
    {
     "name": "stdout",
     "output_type": "stream",
     "text": [
      "[ 2  4  6  8 10 12]\n"
     ]
    }
   ],
   "source": [
    "print(arr2d[arr2d % 2 == 0])"
   ]
  },
  {
   "cell_type": "code",
   "execution_count": 94,
   "id": "fde6aca6",
   "metadata": {},
   "outputs": [
    {
     "name": "stdout",
     "output_type": "stream",
     "text": [
      "[ 4  5  6  7  8  9 10 11 12]\n"
     ]
    }
   ],
   "source": [
    "print(arr2d[arr2d > 3])"
   ]
  },
  {
   "cell_type": "code",
   "execution_count": 105,
   "id": "38c0c81c",
   "metadata": {},
   "outputs": [],
   "source": [
    "# Q1. 2차원 배열의 각 행에서 첫 번째와 마지막 요소를 선택하여 출력해보세요\n",
    "\n",
    "arr = np.array([[5, 10, 15, 20],\n",
    "                [25, 30, 35, 40],\n",
    "                [45, 50, 55, 60],\n",
    "                [65, 70, 75, 80]])"
   ]
  },
  {
   "cell_type": "code",
   "execution_count": 96,
   "id": "447f3375",
   "metadata": {},
   "outputs": [
    {
     "name": "stdout",
     "output_type": "stream",
     "text": [
      "5 80\n"
     ]
    }
   ],
   "source": [
    "print(arr[0,0], arr[-1,-1])"
   ]
  },
  {
   "cell_type": "code",
   "execution_count": 108,
   "id": "ed160a7b",
   "metadata": {},
   "outputs": [
    {
     "name": "stdout",
     "output_type": "stream",
     "text": [
      "[[ 5 20]\n",
      " [25 40]\n",
      " [45 60]\n",
      " [65 80]]\n"
     ]
    }
   ],
   "source": [
    "result = arr[:, [0, -1]]\n",
    "print(result)"
   ]
  },
  {
   "cell_type": "code",
   "execution_count": 110,
   "id": "51693646",
   "metadata": {},
   "outputs": [],
   "source": [
    "# Q2. 5x5 배열에서 가운데에 위치한 3x3 부분 배열을 출력해보세요\n",
    "\n",
    "arr = np.array([[1, 2, 3, 4, 5],\n",
    "                [6, 7, 8, 9, 10],\n",
    "                [11, 12, 13, 14, 15],\n",
    "                [16, 17, 18, 19, 20],\n",
    "                [21, 22, 23, 24, 25]])\n"
   ]
  },
  {
   "cell_type": "code",
   "execution_count": 111,
   "id": "9fe7458a",
   "metadata": {},
   "outputs": [
    {
     "name": "stdout",
     "output_type": "stream",
     "text": [
      "[[ 7  8  9]\n",
      " [12 13 14]\n",
      " [17 18 19]]\n"
     ]
    }
   ],
   "source": [
    "print(arr[1:4, 1:4])"
   ]
  },
  {
   "cell_type": "code",
   "execution_count": 102,
   "id": "85922391",
   "metadata": {},
   "outputs": [],
   "source": [
    "# Q3. 1차원 배열에서 10보다 큰 모든 요소를 선택하여 출력해보세요\n",
    "\n",
    "arr = np.array([3, 8, 12, 17, 6, 20, 25, 1, 9])"
   ]
  },
  {
   "cell_type": "code",
   "execution_count": 103,
   "id": "b20874a2",
   "metadata": {},
   "outputs": [
    {
     "name": "stdout",
     "output_type": "stream",
     "text": [
      "[12 17 20 25]\n"
     ]
    }
   ],
   "source": [
    "print(arr[arr > 10])"
   ]
  },
  {
   "cell_type": "markdown",
   "id": "2094684b",
   "metadata": {},
   "source": [
    "\n",
    "## 🌼마무리 문제\n",
    "\n",
    "아래 문제들을 풀어보세요!\n",
    "\n",
    "Q1. 1부터 10까지의 정수를 갖는 Numpy 배열을 생성하고 출력해보세요."
   ]
  },
  {
   "cell_type": "code",
   "execution_count": 118,
   "id": "0b2f2049",
   "metadata": {},
   "outputs": [
    {
     "name": "stdout",
     "output_type": "stream",
     "text": [
      "[ 1  2  3  4  5  6  7  8  9 10]\n"
     ]
    }
   ],
   "source": [
    "arr = np.arange(1,11)\n",
    "print(arr)"
   ]
  },
  {
   "cell_type": "markdown",
   "id": "b4032ac7",
   "metadata": {},
   "source": [
    "Q2. 네 개의 Numpy 배열을 더하고 결과를 출력해보세요."
   ]
  },
  {
   "cell_type": "code",
   "execution_count": 120,
   "id": "7f0253bb",
   "metadata": {},
   "outputs": [
    {
     "name": "stdout",
     "output_type": "stream",
     "text": [
      "4개의 배열의 합은 [34 38 42 46 50]이다\n"
     ]
    }
   ],
   "source": [
    "arr = np.arange(1,6)\n",
    "arr1 = np.arange(6,11)\n",
    "arr2 = np.arange(11,16)\n",
    "arr3 = np.arange(16,21)\n",
    "result = arr + arr1 + arr2 + arr3\n",
    "print(f'4개의 배열의 합은 {result}이다')"
   ]
  },
  {
   "cell_type": "markdown",
   "id": "24abc6bd",
   "metadata": {},
   "source": [
    "Q3. 0과 1로 구성된 10x10의 게임 맵을 만들어보세요.  \n",
    "0은 빈 공간, 1은 장애물을 나타냅니다.  \n",
    "맵의 가장자리는 모두 장애물로 둘러싸여 있어야 합니다."
   ]
  },
  {
   "cell_type": "code",
   "execution_count": null,
   "id": "00677e52",
   "metadata": {},
   "outputs": [
    {
     "name": "stdout",
     "output_type": "stream",
     "text": [
      "[[1 1 1 1 1 1 1 1 1 1]\n",
      " [1 0 0 0 0 0 0 0 0 1]\n",
      " [1 0 0 0 0 0 0 0 0 1]\n",
      " [1 0 0 0 0 0 0 0 0 1]\n",
      " [1 0 0 0 0 0 0 0 0 1]\n",
      " [1 0 0 0 0 0 0 0 0 1]\n",
      " [1 0 0 0 0 0 0 0 0 1]\n",
      " [1 0 0 0 0 0 0 0 0 1]\n",
      " [1 0 0 0 0 0 0 0 0 1]\n",
      " [1 1 1 1 1 1 1 1 1 1]]\n"
     ]
    }
   ],
   "source": [
    "game_map  = np.zeros((10, 10), dtype=int)\n",
    "game_map[0, :] = 1 # 1번행의 모든열, 위\n",
    "game_map[-1, :] = 1 # 마지막행의 모든열, 아래\n",
    "game_map[:, 0] = 1 # 1번 열의 모든 행, 왼쪽\n",
    "game_map[:, -1] = 1 # 마지막 열의 모든행, 오른쪽\n",
    "print(game_map)"
   ]
  },
  {
   "cell_type": "code",
   "execution_count": 132,
   "id": "f39d2598",
   "metadata": {},
   "outputs": [
    {
     "name": "stdout",
     "output_type": "stream",
     "text": [
      "[[1 1 1 1 1 1 1 1 1 1]\n",
      " [1 0 0 0 0 0 0 0 0 1]\n",
      " [1 0 0 0 0 0 0 0 0 1]\n",
      " [1 0 0 0 0 0 0 0 0 1]\n",
      " [1 0 0 0 0 0 0 0 0 1]\n",
      " [1 0 0 0 0 0 0 0 0 1]\n",
      " [1 0 0 0 0 0 0 0 0 1]\n",
      " [1 0 0 0 0 0 0 0 0 1]\n",
      " [1 0 0 0 0 0 0 0 0 1]\n",
      " [1 1 1 1 1 1 1 1 1 1]]\n"
     ]
    }
   ],
   "source": [
    "game_map2 = np.ones((10,10), dtype=int)\n",
    "game_map2[1:-1, 1:-1] = 0\n",
    "print(game_map2)"
   ]
  },
  {
   "cell_type": "code",
   "execution_count": null,
   "id": "95dc149b",
   "metadata": {},
   "outputs": [],
   "source": []
  }
 ],
 "metadata": {
  "kernelspec": {
   "display_name": "test_env",
   "language": "python",
   "name": "python3"
  },
  "language_info": {
   "codemirror_mode": {
    "name": "ipython",
    "version": 3
   },
   "file_extension": ".py",
   "mimetype": "text/x-python",
   "name": "python",
   "nbconvert_exporter": "python",
   "pygments_lexer": "ipython3",
   "version": "3.9.20"
  }
 },
 "nbformat": 4,
 "nbformat_minor": 5
}
