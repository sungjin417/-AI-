{
 "cells": [
  {
   "cell_type": "markdown",
   "id": "05997d87",
   "metadata": {},
   "source": [
    "\n",
    "# 🌼 기초 프로그래밍 및 데이터 구조 - 1차시(24.10.23)\n",
    "\n",
    "---\n"
   ]
  },
  {
   "cell_type": "markdown",
   "id": "444e694c",
   "metadata": {},
   "source": [
    "# 기초 코드\n",
    "## 1. print문\n",
    "\n",
    "print는 `'인쇄하다, 프린트를 하다'` 라는 뜻입니다.  \n",
    "python은 직관적인 함수를 제공합니다.  \n",
    "그렇다면 print함수는 어떤 기능을 할까요?\n",
    "```python\n",
    "print( )\n",
    "```"
   ]
  },
  {
   "cell_type": "code",
   "execution_count": 1,
   "id": "95b116d0",
   "metadata": {},
   "outputs": [
    {
     "name": "stdout",
     "output_type": "stream",
     "text": [
      "\n"
     ]
    }
   ],
   "source": [
    "print()"
   ]
  },
  {
   "cell_type": "code",
   "execution_count": null,
   "id": "d808e929",
   "metadata": {},
   "outputs": [
    {
     "name": "stdout",
     "output_type": "stream",
     "text": [
      "10\n"
     ]
    }
   ],
   "source": [
    "print(10)"
   ]
  },
  {
   "cell_type": "code",
   "execution_count": null,
   "id": "ca80ecef",
   "metadata": {},
   "outputs": [
    {
     "name": "stdout",
     "output_type": "stream",
     "text": [
      "10\n"
     ]
    }
   ],
   "source": [
    "print('10')"
   ]
  },
  {
   "cell_type": "markdown",
   "id": "25992b09",
   "metadata": {},
   "source": [
    "`print()`함수는 화면에 값을 출력할 때 사용됩니다.  \n",
    "여러 개의 값을 쉼표로 구분하여 출력할 수도 있습니다.\n",
    "\n",
    "```python\n",
    "print('Nice','To','Meet','You')\n",
    "```\n",
    "\n",
    "위 코드를 실행하면 각 단어를 띄어쓰기로 구분하여 출력합니다."
   ]
  },
  {
   "cell_type": "code",
   "execution_count": null,
   "id": "27c97139",
   "metadata": {},
   "outputs": [
    {
     "name": "stdout",
     "output_type": "stream",
     "text": [
      "안 녕 하 세 요!\n"
     ]
    }
   ],
   "source": [
    "print('안', '녕', '하', '세', '요!')"
   ]
  },
  {
   "cell_type": "code",
   "execution_count": null,
   "id": "f40010ad",
   "metadata": {},
   "outputs": [
    {
     "name": "stdout",
     "output_type": "stream",
     "text": [
      "문-자-열-입-니-다\n"
     ]
    }
   ],
   "source": [
    "print('문', '자', '열', '입', '니', '다', sep='-')"
   ]
  },
  {
   "cell_type": "code",
   "execution_count": null,
   "id": "09a18210",
   "metadata": {},
   "outputs": [
    {
     "name": "stdout",
     "output_type": "stream",
     "text": [
      "파~이~썬~기~초\n"
     ]
    }
   ],
   "source": [
    "print('파', '이', '썬', '기', '초', sep='~')"
   ]
  },
  {
   "cell_type": "markdown",
   "id": "bddfda7b",
   "metadata": {},
   "source": [
    "## 2. input\n",
    "input함수는 `사용자의 입력`을 받을 수 있음  \n",
    "이 때 입력 받는 값은 `문자열(string)`로만 반환됨\n",
    "```python\n",
    "input()\n",
    "```"
   ]
  },
  {
   "cell_type": "code",
   "execution_count": 31,
   "id": "6f316622",
   "metadata": {},
   "outputs": [
    {
     "data": {
      "text/plain": [
       "'exist'"
      ]
     },
     "execution_count": 31,
     "metadata": {},
     "output_type": "execute_result"
    }
   ],
   "source": [
    "input()"
   ]
  },
  {
   "cell_type": "code",
   "execution_count": 18,
   "id": "ab0b4480",
   "metadata": {},
   "outputs": [
    {
     "data": {
      "text/plain": [
       "'박성진'"
      ]
     },
     "execution_count": 18,
     "metadata": {},
     "output_type": "execute_result"
    }
   ],
   "source": [
    "input('이름을 입력해 보세요')"
   ]
  },
  {
   "cell_type": "markdown",
   "id": "399d2376",
   "metadata": {},
   "source": [
    "## 3. 사칙연산\n",
    "\n",
    "덧셈, 뺄셈, 곱셈, 나눗셈  \n",
    "+ 몫, 나머지, 제곱은 어떤 기호를 사용할지 생각해봅시다!"
   ]
  },
  {
   "cell_type": "code",
   "execution_count": 9,
   "id": "0db3f00e",
   "metadata": {},
   "outputs": [
    {
     "data": {
      "text/plain": [
       "10"
      ]
     },
     "execution_count": 9,
     "metadata": {},
     "output_type": "execute_result"
    }
   ],
   "source": [
    "10"
   ]
  },
  {
   "cell_type": "code",
   "execution_count": 10,
   "id": "82d7e462",
   "metadata": {},
   "outputs": [
    {
     "name": "stdout",
     "output_type": "stream",
     "text": [
      "20\n"
     ]
    }
   ],
   "source": [
    "print(10+10)"
   ]
  },
  {
   "cell_type": "code",
   "execution_count": 12,
   "id": "33aff69a",
   "metadata": {},
   "outputs": [
    {
     "name": "stdout",
     "output_type": "stream",
     "text": [
      "5\n"
     ]
    }
   ],
   "source": [
    "print(10-5)"
   ]
  },
  {
   "cell_type": "code",
   "execution_count": 13,
   "id": "0065cc33",
   "metadata": {},
   "outputs": [
    {
     "name": "stdout",
     "output_type": "stream",
     "text": [
      "18\n"
     ]
    }
   ],
   "source": [
    "print(3*6)"
   ]
  },
  {
   "cell_type": "code",
   "execution_count": 14,
   "id": "7d87e20f",
   "metadata": {},
   "outputs": [
    {
     "name": "stdout",
     "output_type": "stream",
     "text": [
      "4.0\n"
     ]
    }
   ],
   "source": [
    "print(8/2)"
   ]
  },
  {
   "cell_type": "code",
   "execution_count": 15,
   "id": "a0dee845",
   "metadata": {},
   "outputs": [
    {
     "name": "stdout",
     "output_type": "stream",
     "text": [
      "1024\n"
     ]
    }
   ],
   "source": [
    "print(2**10)"
   ]
  },
  {
   "cell_type": "code",
   "execution_count": 16,
   "id": "6f30db8d",
   "metadata": {},
   "outputs": [
    {
     "name": "stdout",
     "output_type": "stream",
     "text": [
      "1\n"
     ]
    }
   ],
   "source": [
    "print(10%3)"
   ]
  },
  {
   "cell_type": "code",
   "execution_count": 17,
   "id": "a161e5d0",
   "metadata": {},
   "outputs": [
    {
     "name": "stdout",
     "output_type": "stream",
     "text": [
      "3\n"
     ]
    }
   ],
   "source": [
    "print(10//3)"
   ]
  },
  {
   "cell_type": "markdown",
   "id": "75fbd9d7",
   "metadata": {},
   "source": [
    "## 4. 변수\n",
    "\n",
    "python의 `변수`는 수학의 등호와는 다른 개념으로, `자료나 값을 담는 공간`을 의미합니다.\n",
    "\n",
    "변수명 = 저장할 자료 or 값\n",
    "\n",
    "```python \n",
    "a = 10, b = 100\n",
    "```"
   ]
  },
  {
   "cell_type": "code",
   "execution_count": 19,
   "id": "5c15bd11",
   "metadata": {},
   "outputs": [],
   "source": [
    "a=10"
   ]
  },
  {
   "cell_type": "code",
   "execution_count": 20,
   "id": "1b4e5547",
   "metadata": {},
   "outputs": [],
   "source": [
    "b=100"
   ]
  },
  {
   "cell_type": "code",
   "execution_count": 22,
   "id": "a6a81900",
   "metadata": {},
   "outputs": [
    {
     "data": {
      "text/plain": [
       "10"
      ]
     },
     "execution_count": 22,
     "metadata": {},
     "output_type": "execute_result"
    }
   ],
   "source": [
    "a"
   ]
  },
  {
   "cell_type": "code",
   "execution_count": 23,
   "id": "7f90a705",
   "metadata": {},
   "outputs": [
    {
     "data": {
      "text/plain": [
       "100"
      ]
     },
     "execution_count": 23,
     "metadata": {},
     "output_type": "execute_result"
    }
   ],
   "source": [
    "b"
   ]
  },
  {
   "cell_type": "code",
   "execution_count": 24,
   "id": "e5d80864",
   "metadata": {},
   "outputs": [],
   "source": [
    "a=50"
   ]
  },
  {
   "cell_type": "code",
   "execution_count": 25,
   "id": "d5e51f20",
   "metadata": {},
   "outputs": [
    {
     "data": {
      "text/plain": [
       "50"
      ]
     },
     "execution_count": 25,
     "metadata": {},
     "output_type": "execute_result"
    }
   ],
   "source": [
    "a"
   ]
  },
  {
   "cell_type": "markdown",
   "id": "2a6da8a5",
   "metadata": {},
   "source": [
    "# 🌼마무리 문제\n",
    "아래 문제들을 풀어보세요!\n",
    "\n",
    "Q1. `name`이라는 변수에 사용자의 이름을 입력받아 출력해보세요"
   ]
  },
  {
   "cell_type": "code",
   "execution_count": 49,
   "id": "070a4bcc",
   "metadata": {},
   "outputs": [
    {
     "name": "stdout",
     "output_type": "stream",
     "text": [
      "박성진\n"
     ]
    }
   ],
   "source": [
    "name=input('이름을 입력하세요')\n",
    "print(name)"
   ]
  },
  {
   "cell_type": "markdown",
   "id": "00972aac",
   "metadata": {},
   "source": [
    "Q2. `사과는 한 개에 1500원`, `바나나는 한 송이에 3000원`입니다.  \n",
    "사과 한 개, 바나나 한 송이를 구매하면 총 얼마인가요?  \n",
    "이 때 사과는 `apple`, 바나나는 `banana`, 총 금액은 `cost`라는 변수로 출력하세요."
   ]
  },
  {
   "cell_type": "code",
   "execution_count": 50,
   "id": "48fcde61",
   "metadata": {},
   "outputs": [
    {
     "name": "stdout",
     "output_type": "stream",
     "text": [
      "4500 원\n"
     ]
    }
   ],
   "source": [
    "apple=1500\n",
    "banana=3000\n",
    "cost=apple+banana\n",
    "print(cost,'원')"
   ]
  },
  {
   "cell_type": "markdown",
   "id": "d01f6133",
   "metadata": {},
   "source": [
    "Q3. 아래 스도쿠에서 알파벳변수에 들어갈 숫자를 연산을 통해 풀어보세요  \n",
    "\n",
    "<img src='./문제4.png'>"
   ]
  },
  {
   "cell_type": "code",
   "execution_count": 48,
   "id": "10b5d65f",
   "metadata": {},
   "outputs": [
    {
     "name": "stdout",
     "output_type": "stream",
     "text": [
      "9 7 1 9\n"
     ]
    }
   ],
   "source": [
    "box=1+2+3+4+5+6+7+8+9\n",
    "a_box=1+2+3+4+5+6+7+8\n",
    "b_box=1+2+3+4+5+6+8+9\n",
    "c_box=2+3+4+5+6+7+8\n",
    "a=box-a_box\n",
    "b=box-b_box\n",
    "c=1\n",
    "d=box-(c_box+c)\n",
    "print(a,b,c,d)\n",
    "\n"
   ]
  },
  {
   "cell_type": "code",
   "execution_count": 47,
   "id": "3aed353a",
   "metadata": {},
   "outputs": [
    {
     "name": "stdout",
     "output_type": "stream",
     "text": [
      "a = 9 b = 7 c = 1 d = 9\n"
     ]
    }
   ],
   "source": [
    "print('a =', a, 'b =', b, 'c =',c,'d =',d, )"
   ]
  },
  {
   "cell_type": "code",
   "execution_count": null,
   "id": "07fcd7ad",
   "metadata": {},
   "outputs": [],
   "source": []
  }
 ],
 "metadata": {
  "kernelspec": {
   "display_name": "test_env",
   "language": "python",
   "name": "python3"
  },
  "language_info": {
   "codemirror_mode": {
    "name": "ipython",
    "version": 3
   },
   "file_extension": ".py",
   "mimetype": "text/x-python",
   "name": "python",
   "nbconvert_exporter": "python",
   "pygments_lexer": "ipython3",
   "version": "3.9.20"
  }
 },
 "nbformat": 4,
 "nbformat_minor": 5
}
