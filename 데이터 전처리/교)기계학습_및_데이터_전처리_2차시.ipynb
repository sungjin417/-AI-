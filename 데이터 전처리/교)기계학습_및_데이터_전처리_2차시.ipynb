{
 "cells": [
  {
   "cell_type": "markdown",
   "id": "05997d87",
   "metadata": {},
   "source": [
    "\n",
    "# 🌼 기계학습 및 데이터 전처리 - 2차시(24.11.01)\n",
    "\n",
    "---\n"
   ]
  },
  {
   "cell_type": "markdown",
   "id": "c116bb20",
   "metadata": {},
   "source": [
    "## 1. 이상치 처리\n",
    "### 1-1. 이상치를 포함한 데이터프레임"
   ]
  },
  {
   "cell_type": "code",
   "execution_count": 1,
   "id": "5f967b69",
   "metadata": {},
   "outputs": [],
   "source": [
    "import pandas as pd"
   ]
  },
  {
   "cell_type": "code",
   "execution_count": 2,
   "id": "2e603223",
   "metadata": {},
   "outputs": [],
   "source": [
    "import matplotlib.pyplot as plt"
   ]
  },
  {
   "cell_type": "code",
   "execution_count": 11,
   "id": "742d4811",
   "metadata": {},
   "outputs": [
    {
     "data": {
      "text/html": [
       "<div>\n",
       "<style scoped>\n",
       "    .dataframe tbody tr th:only-of-type {\n",
       "        vertical-align: middle;\n",
       "    }\n",
       "\n",
       "    .dataframe tbody tr th {\n",
       "        vertical-align: top;\n",
       "    }\n",
       "\n",
       "    .dataframe thead th {\n",
       "        text-align: right;\n",
       "    }\n",
       "</style>\n",
       "<table border=\"1\" class=\"dataframe\">\n",
       "  <thead>\n",
       "    <tr style=\"text-align: right;\">\n",
       "      <th></th>\n",
       "      <th>고객ID</th>\n",
       "      <th>이름</th>\n",
       "      <th>구매금액</th>\n",
       "    </tr>\n",
       "  </thead>\n",
       "  <tbody>\n",
       "    <tr>\n",
       "      <th>0</th>\n",
       "      <td>101</td>\n",
       "      <td>유진</td>\n",
       "      <td>25000</td>\n",
       "    </tr>\n",
       "    <tr>\n",
       "      <th>1</th>\n",
       "      <td>102</td>\n",
       "      <td>가을</td>\n",
       "      <td>30000</td>\n",
       "    </tr>\n",
       "    <tr>\n",
       "      <th>2</th>\n",
       "      <td>103</td>\n",
       "      <td>레이</td>\n",
       "      <td>15000</td>\n",
       "    </tr>\n",
       "  </tbody>\n",
       "</table>\n",
       "</div>"
      ],
      "text/plain": [
       "   고객ID  이름   구매금액\n",
       "0   101  유진  25000\n",
       "1   102  가을  30000\n",
       "2   103  레이  15000"
      ]
     },
     "execution_count": 11,
     "metadata": {},
     "output_type": "execute_result"
    }
   ],
   "source": [
    "data = {\n",
    "    '고객ID' : [101,102,103,104,105,106],\n",
    "    '이름' : ['유진', '가을', '레이', '원영', '리즈', '이서'],\n",
    "    '구매금액' : [25000, 30000, 15000, 50000, 10000, 500000]\n",
    "}\n",
    "df_outliers = pd.DataFrame(data)\n",
    "df_outliers.head(3)"
   ]
  },
  {
   "cell_type": "code",
   "execution_count": 12,
   "id": "801e60b6",
   "metadata": {},
   "outputs": [
    {
     "data": {
      "text/html": [
       "<div>\n",
       "<style scoped>\n",
       "    .dataframe tbody tr th:only-of-type {\n",
       "        vertical-align: middle;\n",
       "    }\n",
       "\n",
       "    .dataframe tbody tr th {\n",
       "        vertical-align: top;\n",
       "    }\n",
       "\n",
       "    .dataframe thead th {\n",
       "        text-align: right;\n",
       "    }\n",
       "</style>\n",
       "<table border=\"1\" class=\"dataframe\">\n",
       "  <thead>\n",
       "    <tr style=\"text-align: right;\">\n",
       "      <th></th>\n",
       "      <th>고객ID</th>\n",
       "      <th>이름</th>\n",
       "      <th>구매금액</th>\n",
       "    </tr>\n",
       "  </thead>\n",
       "  <tbody>\n",
       "    <tr>\n",
       "      <th>0</th>\n",
       "      <td>101</td>\n",
       "      <td>유진</td>\n",
       "      <td>25000</td>\n",
       "    </tr>\n",
       "    <tr>\n",
       "      <th>1</th>\n",
       "      <td>102</td>\n",
       "      <td>가을</td>\n",
       "      <td>30000</td>\n",
       "    </tr>\n",
       "    <tr>\n",
       "      <th>2</th>\n",
       "      <td>103</td>\n",
       "      <td>레이</td>\n",
       "      <td>15000</td>\n",
       "    </tr>\n",
       "    <tr>\n",
       "      <th>3</th>\n",
       "      <td>104</td>\n",
       "      <td>원영</td>\n",
       "      <td>50000</td>\n",
       "    </tr>\n",
       "    <tr>\n",
       "      <th>4</th>\n",
       "      <td>105</td>\n",
       "      <td>리즈</td>\n",
       "      <td>10000</td>\n",
       "    </tr>\n",
       "    <tr>\n",
       "      <th>5</th>\n",
       "      <td>106</td>\n",
       "      <td>이서</td>\n",
       "      <td>500000</td>\n",
       "    </tr>\n",
       "  </tbody>\n",
       "</table>\n",
       "</div>"
      ],
      "text/plain": [
       "   고객ID  이름    구매금액\n",
       "0   101  유진   25000\n",
       "1   102  가을   30000\n",
       "2   103  레이   15000\n",
       "3   104  원영   50000\n",
       "4   105  리즈   10000\n",
       "5   106  이서  500000"
      ]
     },
     "execution_count": 12,
     "metadata": {},
     "output_type": "execute_result"
    }
   ],
   "source": [
    "df_outliers"
   ]
  },
  {
   "cell_type": "markdown",
   "id": "77706797",
   "metadata": {},
   "source": [
    "### 2-2. 이상치 탐색\n",
    "- 박스플롯 찍어보기\n",
    "- 시각적으로 이상치 탐색\n",
    "- 박스플롯상에서 점으로 나타나는 값이 이상치일 가능성 多"
   ]
  },
  {
   "cell_type": "code",
   "execution_count": 7,
   "id": "d46286e0",
   "metadata": {},
   "outputs": [],
   "source": [
    "import matplotlib.pyplot as plt\n",
    "plt.rcParams['font.family'] ='Malgun Gothic'\n",
    "plt.rcParams['axes.unicode_minus'] =False"
   ]
  },
  {
   "cell_type": "code",
   "execution_count": 13,
   "id": "e0ce770b",
   "metadata": {},
   "outputs": [
    {
     "data": {
      "image/png": "[encoded data removed]",
      "text/plain": [
       "<Figure size 500x500 with 1 Axes>"
      ]
     },
     "metadata": {},
     "output_type": "display_data"
    }
   ],
   "source": [
    "plt.figure(figsize=(5,5))\n",
    "plt.boxplot(df_outliers['구매금액'])\n",
    "plt.show()"
   ]
  },
  {
   "cell_type": "markdown",
   "id": "b61a781e",
   "metadata": {},
   "source": [
    "### 2-3. 이상치 처리\n",
    "- 특정 조건에 따라 이상치 제거"
   ]
  },
  {
   "cell_type": "code",
   "execution_count": 135,
   "id": "6d1d9de1",
   "metadata": {},
   "outputs": [
    {
     "data": {
      "text/html": [
       "<div>\n",
       "<style scoped>\n",
       "    .dataframe tbody tr th:only-of-type {\n",
       "        vertical-align: middle;\n",
       "    }\n",
       "\n",
       "    .dataframe tbody tr th {\n",
       "        vertical-align: top;\n",
       "    }\n",
       "\n",
       "    .dataframe thead th {\n",
       "        text-align: right;\n",
       "    }\n",
       "</style>\n",
       "<table border=\"1\" class=\"dataframe\">\n",
       "  <thead>\n",
       "    <tr style=\"text-align: right;\">\n",
       "      <th></th>\n",
       "      <th>고객ID</th>\n",
       "      <th>이름</th>\n",
       "      <th>구매금액</th>\n",
       "    </tr>\n",
       "  </thead>\n",
       "  <tbody>\n",
       "    <tr>\n",
       "      <th>0</th>\n",
       "      <td>101</td>\n",
       "      <td>유진</td>\n",
       "      <td>25000</td>\n",
       "    </tr>\n",
       "    <tr>\n",
       "      <th>1</th>\n",
       "      <td>102</td>\n",
       "      <td>가을</td>\n",
       "      <td>30000</td>\n",
       "    </tr>\n",
       "    <tr>\n",
       "      <th>2</th>\n",
       "      <td>103</td>\n",
       "      <td>레이</td>\n",
       "      <td>15000</td>\n",
       "    </tr>\n",
       "    <tr>\n",
       "      <th>3</th>\n",
       "      <td>104</td>\n",
       "      <td>원영</td>\n",
       "      <td>50000</td>\n",
       "    </tr>\n",
       "    <tr>\n",
       "      <th>4</th>\n",
       "      <td>105</td>\n",
       "      <td>리즈</td>\n",
       "      <td>10000</td>\n",
       "    </tr>\n",
       "    <tr>\n",
       "      <th>5</th>\n",
       "      <td>106</td>\n",
       "      <td>이서</td>\n",
       "      <td>500000</td>\n",
       "    </tr>\n",
       "  </tbody>\n",
       "</table>\n",
       "</div>"
      ],
      "text/plain": [
       "   고객ID  이름    구매금액\n",
       "0   101  유진   25000\n",
       "1   102  가을   30000\n",
       "2   103  레이   15000\n",
       "3   104  원영   50000\n",
       "4   105  리즈   10000\n",
       "5   106  이서  500000"
      ]
     },
     "execution_count": 135,
     "metadata": {},
     "output_type": "execute_result"
    }
   ],
   "source": [
    "df_outliers"
   ]
  },
  {
   "cell_type": "code",
   "execution_count": 134,
   "id": "e316bb79",
   "metadata": {},
   "outputs": [
    {
     "data": {
      "text/html": [
       "<div>\n",
       "<style scoped>\n",
       "    .dataframe tbody tr th:only-of-type {\n",
       "        vertical-align: middle;\n",
       "    }\n",
       "\n",
       "    .dataframe tbody tr th {\n",
       "        vertical-align: top;\n",
       "    }\n",
       "\n",
       "    .dataframe thead th {\n",
       "        text-align: right;\n",
       "    }\n",
       "</style>\n",
       "<table border=\"1\" class=\"dataframe\">\n",
       "  <thead>\n",
       "    <tr style=\"text-align: right;\">\n",
       "      <th></th>\n",
       "      <th>고객ID</th>\n",
       "      <th>이름</th>\n",
       "      <th>구매금액</th>\n",
       "    </tr>\n",
       "  </thead>\n",
       "  <tbody>\n",
       "    <tr>\n",
       "      <th>0</th>\n",
       "      <td>101</td>\n",
       "      <td>유진</td>\n",
       "      <td>25000</td>\n",
       "    </tr>\n",
       "    <tr>\n",
       "      <th>1</th>\n",
       "      <td>102</td>\n",
       "      <td>가을</td>\n",
       "      <td>30000</td>\n",
       "    </tr>\n",
       "    <tr>\n",
       "      <th>2</th>\n",
       "      <td>103</td>\n",
       "      <td>레이</td>\n",
       "      <td>15000</td>\n",
       "    </tr>\n",
       "    <tr>\n",
       "      <th>3</th>\n",
       "      <td>104</td>\n",
       "      <td>원영</td>\n",
       "      <td>50000</td>\n",
       "    </tr>\n",
       "    <tr>\n",
       "      <th>4</th>\n",
       "      <td>105</td>\n",
       "      <td>리즈</td>\n",
       "      <td>10000</td>\n",
       "    </tr>\n",
       "  </tbody>\n",
       "</table>\n",
       "</div>"
      ],
      "text/plain": [
       "   고객ID  이름   구매금액\n",
       "0   101  유진  25000\n",
       "1   102  가을  30000\n",
       "2   103  레이  15000\n",
       "3   104  원영  50000\n",
       "4   105  리즈  10000"
      ]
     },
     "execution_count": 134,
     "metadata": {},
     "output_type": "execute_result"
    }
   ],
   "source": [
    "# 데이터 신뢰성을 위해 이상치 자체가 오류이면 제거\n",
    "# (단,이상치가 중요한 정보를 포함할 가능성이 있기 때문에 그럴경우도 생각해야 함)\n",
    "df_outliers[df_outliers['구매금액'] < 100000] "
   ]
  },
  {
   "cell_type": "code",
   "execution_count": 136,
   "id": "cc91d974",
   "metadata": {},
   "outputs": [
    {
     "data": {
      "text/html": [
       "<div>\n",
       "<style scoped>\n",
       "    .dataframe tbody tr th:only-of-type {\n",
       "        vertical-align: middle;\n",
       "    }\n",
       "\n",
       "    .dataframe tbody tr th {\n",
       "        vertical-align: top;\n",
       "    }\n",
       "\n",
       "    .dataframe thead th {\n",
       "        text-align: right;\n",
       "    }\n",
       "</style>\n",
       "<table border=\"1\" class=\"dataframe\">\n",
       "  <thead>\n",
       "    <tr style=\"text-align: right;\">\n",
       "      <th></th>\n",
       "      <th>고객ID</th>\n",
       "      <th>이름</th>\n",
       "      <th>구매금액</th>\n",
       "    </tr>\n",
       "  </thead>\n",
       "  <tbody>\n",
       "    <tr>\n",
       "      <th>0</th>\n",
       "      <td>101</td>\n",
       "      <td>유진</td>\n",
       "      <td>25000</td>\n",
       "    </tr>\n",
       "    <tr>\n",
       "      <th>1</th>\n",
       "      <td>102</td>\n",
       "      <td>가을</td>\n",
       "      <td>30000</td>\n",
       "    </tr>\n",
       "    <tr>\n",
       "      <th>2</th>\n",
       "      <td>103</td>\n",
       "      <td>레이</td>\n",
       "      <td>15000</td>\n",
       "    </tr>\n",
       "    <tr>\n",
       "      <th>3</th>\n",
       "      <td>104</td>\n",
       "      <td>원영</td>\n",
       "      <td>50000</td>\n",
       "    </tr>\n",
       "    <tr>\n",
       "      <th>4</th>\n",
       "      <td>105</td>\n",
       "      <td>리즈</td>\n",
       "      <td>10000</td>\n",
       "    </tr>\n",
       "  </tbody>\n",
       "</table>\n",
       "</div>"
      ],
      "text/plain": [
       "   고객ID  이름   구매금액\n",
       "0   101  유진  25000\n",
       "1   102  가을  30000\n",
       "2   103  레이  15000\n",
       "3   104  원영  50000\n",
       "4   105  리즈  10000"
      ]
     },
     "execution_count": 136,
     "metadata": {},
     "output_type": "execute_result"
    }
   ],
   "source": [
    "df_no_outliers = df_outliers[df_outliers['구매금액'] < 100000]\n",
    "df_no_outliers"
   ]
  },
  {
   "cell_type": "code",
   "execution_count": 137,
   "id": "54b820c0",
   "metadata": {},
   "outputs": [
    {
     "data": {
      "image/png": "[encoded data removed]",
      "text/plain": [
       "<Figure size 500x500 with 1 Axes>"
      ]
     },
     "metadata": {},
     "output_type": "display_data"
    }
   ],
   "source": [
    "plt.figure(figsize=(5, 5))\n",
    "plt.boxplot(df_no_outliers['구매금액'])\n",
    "plt.title('구매금액의 이상치 제거한 박스 플롯')\n",
    "plt.show()"
   ]
  },
  {
   "cell_type": "markdown",
   "id": "6eabd4fb",
   "metadata": {},
   "source": [
    "### boxplot\n",
    "- 박스플롯은 데이터의 분포와 이상치를 시각적으로 보여주는 그래프\n",
    "### 구성 요소 : \n",
    " 1. `박스(Box)`:  \n",
    " 데이터의 1사분위수(Q1)와 3사분위수(Q3) 사이의 범위  \n",
    " 박스의 상단은 Q3, 하단은 Q1을 나타내며, 이 범위는 데이터의 중간 50%를 포함\n",
    "\n",
    " 2. `중앙선(Median Line)`:  \n",
    " 박스 안의 굵은 선은 중앙값(Median).  \n",
    " -> 데이터의 중간에 해당하는 값  \n",
    "\n",
    " 3. `수염(Whiskers)`:  \n",
    " 박스 상단과 하단에서 각각 최솟값과 최댓값을 나타냄\n",
    " 하지만, 수염은 극단적인 값(이상치)을 제외한 값들로 제한됨\n",
    "\n",
    " 4. `이상치(Outliers)`:  \n",
    " 수염 밖에 있는 점으로 표시된 값들\n",
    " 이 값들은 일반적인 데이터 범위를 벗어난 값들로, 이상치라고 함"
   ]
  },
  {
   "cell_type": "code",
   "execution_count": 14,
   "id": "badb29a9",
   "metadata": {},
   "outputs": [],
   "source": [
    "Q1 = df_outliers['구매금액'].quantile(0.25)\n",
    "Q3 = df_outliers['구매금액'].quantile(0.75)\n",
    "median = df_outliers['구매금액'].median()\n",
    "IQR = Q3 - Q1"
   ]
  },
  {
   "cell_type": "code",
   "execution_count": 15,
   "id": "e298de7b",
   "metadata": {},
   "outputs": [
    {
     "name": "stdout",
     "output_type": "stream",
     "text": [
      "1사분위수 (Q1) : 17500.0\n",
      "3사분위수 (Q3) : 45000.0\n",
      "중앙값 : 27500.0\n",
      "사분위 범위(IQR) : 27500.0\n"
     ]
    }
   ],
   "source": [
    "print(f'1사분위수 (Q1) : {Q1}')\n",
    "print(f'3사분위수 (Q3) : {Q3}')\n",
    "print(f'중앙값 : {median}')\n",
    "print(f'사분위 범위(IQR) : {IQR}')"
   ]
  },
  {
   "cell_type": "code",
   "execution_count": null,
   "id": "15e773dc",
   "metadata": {},
   "outputs": [],
   "source": [
    "lower_bound = Q1 - (1.5 * IQR)\n",
    "# IQR 방법 : 이상치 범위를 계산하는 공식\n",
    "# (1.5 * IQR) 밖의 값은 이상치로 간주\n",
    "upper_bound = Q3 + (1.5 * IQR)"
   ]
  },
  {
   "cell_type": "code",
   "execution_count": 17,
   "id": "91f5cf8a",
   "metadata": {},
   "outputs": [
    {
     "name": "stdout",
     "output_type": "stream",
     "text": [
      "이상치 탐색 범위 -23750.0 ~ 58750.0\n"
     ]
    }
   ],
   "source": [
    "print(f'이상치 탐색 범위 {lower_bound} ~ {upper_bound}')"
   ]
  },
  {
   "cell_type": "code",
   "execution_count": 21,
   "id": "d73c2a4b",
   "metadata": {},
   "outputs": [
    {
     "data": {
      "text/html": [
       "<div>\n",
       "<style scoped>\n",
       "    .dataframe tbody tr th:only-of-type {\n",
       "        vertical-align: middle;\n",
       "    }\n",
       "\n",
       "    .dataframe tbody tr th {\n",
       "        vertical-align: top;\n",
       "    }\n",
       "\n",
       "    .dataframe thead th {\n",
       "        text-align: right;\n",
       "    }\n",
       "</style>\n",
       "<table border=\"1\" class=\"dataframe\">\n",
       "  <thead>\n",
       "    <tr style=\"text-align: right;\">\n",
       "      <th></th>\n",
       "      <th>고객ID</th>\n",
       "      <th>이름</th>\n",
       "      <th>구매금액</th>\n",
       "    </tr>\n",
       "  </thead>\n",
       "  <tbody>\n",
       "    <tr>\n",
       "      <th>5</th>\n",
       "      <td>106</td>\n",
       "      <td>이서</td>\n",
       "      <td>500000</td>\n",
       "    </tr>\n",
       "  </tbody>\n",
       "</table>\n",
       "</div>"
      ],
      "text/plain": [
       "   고객ID  이름    구매금액\n",
       "5   106  이서  500000"
      ]
     },
     "execution_count": 21,
     "metadata": {},
     "output_type": "execute_result"
    }
   ],
   "source": [
    "outliers = df_outliers[(df_outliers['구매금액'] < lower_bound) | (df_outliers['구매금액'] > upper_bound)]\n",
    "outliers\n"
   ]
  },
  {
   "cell_type": "code",
   "execution_count": 145,
   "id": "cba8beba",
   "metadata": {},
   "outputs": [
    {
     "data": {
      "text/html": [
       "<div>\n",
       "<style scoped>\n",
       "    .dataframe tbody tr th:only-of-type {\n",
       "        vertical-align: middle;\n",
       "    }\n",
       "\n",
       "    .dataframe tbody tr th {\n",
       "        vertical-align: top;\n",
       "    }\n",
       "\n",
       "    .dataframe thead th {\n",
       "        text-align: right;\n",
       "    }\n",
       "</style>\n",
       "<table border=\"1\" class=\"dataframe\">\n",
       "  <thead>\n",
       "    <tr style=\"text-align: right;\">\n",
       "      <th></th>\n",
       "      <th>고객ID</th>\n",
       "      <th>이름</th>\n",
       "      <th>구매금액</th>\n",
       "    </tr>\n",
       "  </thead>\n",
       "  <tbody>\n",
       "    <tr>\n",
       "      <th>0</th>\n",
       "      <td>101</td>\n",
       "      <td>유진</td>\n",
       "      <td>25000</td>\n",
       "    </tr>\n",
       "    <tr>\n",
       "      <th>1</th>\n",
       "      <td>102</td>\n",
       "      <td>가을</td>\n",
       "      <td>30000</td>\n",
       "    </tr>\n",
       "    <tr>\n",
       "      <th>2</th>\n",
       "      <td>103</td>\n",
       "      <td>레이</td>\n",
       "      <td>15000</td>\n",
       "    </tr>\n",
       "    <tr>\n",
       "      <th>3</th>\n",
       "      <td>104</td>\n",
       "      <td>원영</td>\n",
       "      <td>50000</td>\n",
       "    </tr>\n",
       "    <tr>\n",
       "      <th>4</th>\n",
       "      <td>105</td>\n",
       "      <td>리즈</td>\n",
       "      <td>10000</td>\n",
       "    </tr>\n",
       "    <tr>\n",
       "      <th>5</th>\n",
       "      <td>106</td>\n",
       "      <td>이서</td>\n",
       "      <td>500000</td>\n",
       "    </tr>\n",
       "  </tbody>\n",
       "</table>\n",
       "</div>"
      ],
      "text/plain": [
       "   고객ID  이름    구매금액\n",
       "0   101  유진   25000\n",
       "1   102  가을   30000\n",
       "2   103  레이   15000\n",
       "3   104  원영   50000\n",
       "4   105  리즈   10000\n",
       "5   106  이서  500000"
      ]
     },
     "execution_count": 145,
     "metadata": {},
     "output_type": "execute_result"
    }
   ],
   "source": [
    "df_outliers"
   ]
  },
  {
   "cell_type": "code",
   "execution_count": 23,
   "id": "65074cd0",
   "metadata": {},
   "outputs": [
    {
     "data": {
      "text/html": [
       "<div>\n",
       "<style scoped>\n",
       "    .dataframe tbody tr th:only-of-type {\n",
       "        vertical-align: middle;\n",
       "    }\n",
       "\n",
       "    .dataframe tbody tr th {\n",
       "        vertical-align: top;\n",
       "    }\n",
       "\n",
       "    .dataframe thead th {\n",
       "        text-align: right;\n",
       "    }\n",
       "</style>\n",
       "<table border=\"1\" class=\"dataframe\">\n",
       "  <thead>\n",
       "    <tr style=\"text-align: right;\">\n",
       "      <th></th>\n",
       "      <th>고객ID</th>\n",
       "      <th>이름</th>\n",
       "      <th>구매금액</th>\n",
       "    </tr>\n",
       "  </thead>\n",
       "  <tbody>\n",
       "    <tr>\n",
       "      <th>0</th>\n",
       "      <td>101</td>\n",
       "      <td>유진</td>\n",
       "      <td>25000</td>\n",
       "    </tr>\n",
       "    <tr>\n",
       "      <th>1</th>\n",
       "      <td>102</td>\n",
       "      <td>가을</td>\n",
       "      <td>30000</td>\n",
       "    </tr>\n",
       "    <tr>\n",
       "      <th>2</th>\n",
       "      <td>103</td>\n",
       "      <td>레이</td>\n",
       "      <td>15000</td>\n",
       "    </tr>\n",
       "    <tr>\n",
       "      <th>3</th>\n",
       "      <td>104</td>\n",
       "      <td>원영</td>\n",
       "      <td>50000</td>\n",
       "    </tr>\n",
       "    <tr>\n",
       "      <th>4</th>\n",
       "      <td>105</td>\n",
       "      <td>리즈</td>\n",
       "      <td>10000</td>\n",
       "    </tr>\n",
       "  </tbody>\n",
       "</table>\n",
       "</div>"
      ],
      "text/plain": [
       "   고객ID  이름   구매금액\n",
       "0   101  유진  25000\n",
       "1   102  가을  30000\n",
       "2   103  레이  15000\n",
       "3   104  원영  50000\n",
       "4   105  리즈  10000"
      ]
     },
     "execution_count": 23,
     "metadata": {},
     "output_type": "execute_result"
    }
   ],
   "source": [
    "normal_data = df_outliers.iloc[:-1, :]\n",
    "normal_data"
   ]
  },
  {
   "cell_type": "code",
   "execution_count": 24,
   "id": "888e9a75",
   "metadata": {},
   "outputs": [
    {
     "data": {
      "text/plain": [
       "고객ID       106\n",
       "이름          이서\n",
       "구매금액    500000\n",
       "Name: 5, dtype: object"
      ]
     },
     "execution_count": 24,
     "metadata": {},
     "output_type": "execute_result"
    }
   ],
   "source": [
    "df_outliers.iloc[5]"
   ]
  },
  {
   "cell_type": "code",
   "execution_count": null,
   "id": "47473a35",
   "metadata": {},
   "outputs": [],
   "source": [
    "# 이상치였던 이서 데이터만 따로 한 줄 저장\n",
    "outliers_data = df_outliers.iloc[5]"
   ]
  },
  {
   "cell_type": "code",
   "execution_count": 147,
   "id": "c53f512c",
   "metadata": {},
   "outputs": [
    {
     "data": {
      "image/png": "[encoded data removed]",
      "text/plain": [
       "<Figure size 640x480 with 1 Axes>"
      ]
     },
     "metadata": {},
     "output_type": "display_data"
    }
   ],
   "source": [
    "plt.scatter(normal_data['고객ID'], normal_data['구매금액'], color='blue', label='정상 데이터')\n",
    "plt.scatter(outliers_data['고객ID'], outliers_data['구매금액'], color='red', label='이상치 데이터')\n",
    "\n",
    "plt.title('구매금액에 대한 이상치 시각화')\n",
    "plt.xlabel('고객ID')\n",
    "plt.ylabel('구매금액')\n",
    "plt.legend()\n",
    "plt.show()"
   ]
  },
  {
   "cell_type": "markdown",
   "id": "4ad506dd",
   "metadata": {},
   "source": [
    "## 3. 정규화 (Normalization)\n",
    "### 3-1. Min-Max Scaling\n",
    "- 데이터를 0과 1사이의 값으로 정규화하여 특정 값의 크기를 조정하는 방법\n",
    "- 연속형 변수에 사용할 수 있음\n",
    "- MinMaxScaler는 모든 값을 최대값을 1, 최솟값을 0으로 변환\n",
    "- 데이터의 범위를 좁혀서 머신러닝 모델이 데이터를 학습하기 쉽게 만듦"
   ]
  },
  {
   "cell_type": "code",
   "execution_count": 30,
   "id": "2bc6be27",
   "metadata": {},
   "outputs": [
    {
     "name": "stdout",
     "output_type": "stream",
     "text": [
      "Collecting pydataset\n",
      "  Downloading pydataset-0.2.0.tar.gz (15.9 MB)\n",
      "     ---------------------------------------- 0.0/15.9 MB ? eta -:--:--\n",
      "     --------------------------------------- 15.9/15.9 MB 99.9 MB/s eta 0:00:00\n",
      "  Preparing metadata (setup.py): started\n",
      "  Preparing metadata (setup.py): finished with status 'done'\n",
      "Requirement already satisfied: pandas in c:\\users\\rmarket\\anaconda3\\envs\\test_env\\lib\\site-packages (from pydataset) (2.2.3)\n",
      "Requirement already satisfied: numpy>=1.22.4 in c:\\users\\rmarket\\anaconda3\\envs\\test_env\\lib\\site-packages (from pandas->pydataset) (2.0.2)\n",
      "Requirement already satisfied: python-dateutil>=2.8.2 in c:\\users\\rmarket\\anaconda3\\envs\\test_env\\lib\\site-packages (from pandas->pydataset) (2.9.0)\n",
      "Requirement already satisfied: pytz>=2020.1 in c:\\users\\rmarket\\anaconda3\\envs\\test_env\\lib\\site-packages (from pandas->pydataset) (2024.2)\n",
      "Requirement already satisfied: tzdata>=2022.7 in c:\\users\\rmarket\\anaconda3\\envs\\test_env\\lib\\site-packages (from pandas->pydataset) (2024.2)\n",
      "Requirement already satisfied: six>=1.5 in c:\\users\\rmarket\\anaconda3\\envs\\test_env\\lib\\site-packages (from python-dateutil>=2.8.2->pandas->pydataset) (1.16.0)\n",
      "Building wheels for collected packages: pydataset\n",
      "  Building wheel for pydataset (setup.py): started\n",
      "  Building wheel for pydataset (setup.py): finished with status 'done'\n",
      "  Created wheel for pydataset: filename=pydataset-0.2.0-py3-none-any.whl size=15939424 sha256=d109cc4ab1c0ba312a30a1228e45f4b472c784086e87e12d2004ad734847ba23\n",
      "  Stored in directory: c:\\users\\rmarket\\appdata\\local\\pip\\cache\\wheels\\6b\\86\\a7\\f71cb84c7bff804d83e293615a20c0531234397b796aee2645\n",
      "Successfully built pydataset\n",
      "Installing collected packages: pydataset\n",
      "Successfully installed pydataset-0.2.0\n",
      "Note: you may need to restart the kernel to use updated packages.\n"
     ]
    }
   ],
   "source": [
    "# pip install pydataset"
   ]
  },
  {
   "cell_type": "code",
   "execution_count": 31,
   "id": "ba58f19c",
   "metadata": {},
   "outputs": [
    {
     "data": {
      "text/html": [
       "<div>\n",
       "<style scoped>\n",
       "    .dataframe tbody tr th:only-of-type {\n",
       "        vertical-align: middle;\n",
       "    }\n",
       "\n",
       "    .dataframe tbody tr th {\n",
       "        vertical-align: top;\n",
       "    }\n",
       "\n",
       "    .dataframe thead th {\n",
       "        text-align: right;\n",
       "    }\n",
       "</style>\n",
       "<table border=\"1\" class=\"dataframe\">\n",
       "  <thead>\n",
       "    <tr style=\"text-align: right;\">\n",
       "      <th></th>\n",
       "      <th>dataset_id</th>\n",
       "      <th>title</th>\n",
       "    </tr>\n",
       "  </thead>\n",
       "  <tbody>\n",
       "    <tr>\n",
       "      <th>0</th>\n",
       "      <td>AirPassengers</td>\n",
       "      <td>Monthly Airline Passenger Numbers 1949-1960</td>\n",
       "    </tr>\n",
       "    <tr>\n",
       "      <th>1</th>\n",
       "      <td>BJsales</td>\n",
       "      <td>Sales Data with Leading Indicator</td>\n",
       "    </tr>\n",
       "    <tr>\n",
       "      <th>2</th>\n",
       "      <td>BOD</td>\n",
       "      <td>Biochemical Oxygen Demand</td>\n",
       "    </tr>\n",
       "    <tr>\n",
       "      <th>3</th>\n",
       "      <td>Formaldehyde</td>\n",
       "      <td>Determination of Formaldehyde</td>\n",
       "    </tr>\n",
       "    <tr>\n",
       "      <th>4</th>\n",
       "      <td>HairEyeColor</td>\n",
       "      <td>Hair and Eye Color of Statistics Students</td>\n",
       "    </tr>\n",
       "    <tr>\n",
       "      <th>...</th>\n",
       "      <td>...</td>\n",
       "      <td>...</td>\n",
       "    </tr>\n",
       "    <tr>\n",
       "      <th>752</th>\n",
       "      <td>VerbAgg</td>\n",
       "      <td>Verbal Aggression item responses</td>\n",
       "    </tr>\n",
       "    <tr>\n",
       "      <th>753</th>\n",
       "      <td>cake</td>\n",
       "      <td>Breakage Angle of Chocolate Cakes</td>\n",
       "    </tr>\n",
       "    <tr>\n",
       "      <th>754</th>\n",
       "      <td>cbpp</td>\n",
       "      <td>Contagious bovine pleuropneumonia</td>\n",
       "    </tr>\n",
       "    <tr>\n",
       "      <th>755</th>\n",
       "      <td>grouseticks</td>\n",
       "      <td>Data on red grouse ticks from Elston et al. 2001</td>\n",
       "    </tr>\n",
       "    <tr>\n",
       "      <th>756</th>\n",
       "      <td>sleepstudy</td>\n",
       "      <td>Reaction times in a sleep deprivation study</td>\n",
       "    </tr>\n",
       "  </tbody>\n",
       "</table>\n",
       "<p>757 rows × 2 columns</p>\n",
       "</div>"
      ],
      "text/plain": [
       "        dataset_id                                             title\n",
       "0    AirPassengers       Monthly Airline Passenger Numbers 1949-1960\n",
       "1          BJsales                 Sales Data with Leading Indicator\n",
       "2              BOD                         Biochemical Oxygen Demand\n",
       "3     Formaldehyde                     Determination of Formaldehyde\n",
       "4     HairEyeColor         Hair and Eye Color of Statistics Students\n",
       "..             ...                                               ...\n",
       "752        VerbAgg                  Verbal Aggression item responses\n",
       "753           cake                 Breakage Angle of Chocolate Cakes\n",
       "754           cbpp                 Contagious bovine pleuropneumonia\n",
       "755    grouseticks  Data on red grouse ticks from Elston et al. 2001\n",
       "756     sleepstudy       Reaction times in a sleep deprivation study\n",
       "\n",
       "[757 rows x 2 columns]"
      ]
     },
     "execution_count": 31,
     "metadata": {},
     "output_type": "execute_result"
    }
   ],
   "source": [
    "from pydataset import data # 파이썬에서 제공하는 기본 데이터 셋\n",
    "data()"
   ]
  },
  {
   "cell_type": "markdown",
   "id": "7998c1ee",
   "metadata": {},
   "source": [
    "\n",
    "|열 이름|설명|\n",
    "|---|---|\n",
    "|Ozone\t|오존 수준 (ppb 단위, 결측치 존재)|\n",
    "|Solar.R|\t태양 복사량 (lang 단위)|\n",
    "|Wind|\t바람의 속도 (mph 단위)|\n",
    "|Temp|\t온도 (화씨)|\n",
    "|Month\t|측정 월 (5 = 5월, 6 = 6월, ...)|\n",
    "|Day|\t측정 일 (1~31일)|"
   ]
  },
  {
   "cell_type": "code",
   "execution_count": 33,
   "id": "840a1897",
   "metadata": {},
   "outputs": [
    {
     "data": {
      "text/html": [
       "<div>\n",
       "<style scoped>\n",
       "    .dataframe tbody tr th:only-of-type {\n",
       "        vertical-align: middle;\n",
       "    }\n",
       "\n",
       "    .dataframe tbody tr th {\n",
       "        vertical-align: top;\n",
       "    }\n",
       "\n",
       "    .dataframe thead th {\n",
       "        text-align: right;\n",
       "    }\n",
       "</style>\n",
       "<table border=\"1\" class=\"dataframe\">\n",
       "  <thead>\n",
       "    <tr style=\"text-align: right;\">\n",
       "      <th></th>\n",
       "      <th>Ozone</th>\n",
       "      <th>Solar.R</th>\n",
       "      <th>Wind</th>\n",
       "      <th>Temp</th>\n",
       "      <th>Month</th>\n",
       "      <th>Day</th>\n",
       "    </tr>\n",
       "  </thead>\n",
       "  <tbody>\n",
       "    <tr>\n",
       "      <th>1</th>\n",
       "      <td>41.0</td>\n",
       "      <td>190.0</td>\n",
       "      <td>7.4</td>\n",
       "      <td>67</td>\n",
       "      <td>5</td>\n",
       "      <td>1</td>\n",
       "    </tr>\n",
       "    <tr>\n",
       "      <th>2</th>\n",
       "      <td>36.0</td>\n",
       "      <td>118.0</td>\n",
       "      <td>8.0</td>\n",
       "      <td>72</td>\n",
       "      <td>5</td>\n",
       "      <td>2</td>\n",
       "    </tr>\n",
       "    <tr>\n",
       "      <th>3</th>\n",
       "      <td>12.0</td>\n",
       "      <td>149.0</td>\n",
       "      <td>12.6</td>\n",
       "      <td>74</td>\n",
       "      <td>5</td>\n",
       "      <td>3</td>\n",
       "    </tr>\n",
       "    <tr>\n",
       "      <th>4</th>\n",
       "      <td>18.0</td>\n",
       "      <td>313.0</td>\n",
       "      <td>11.5</td>\n",
       "      <td>62</td>\n",
       "      <td>5</td>\n",
       "      <td>4</td>\n",
       "    </tr>\n",
       "    <tr>\n",
       "      <th>5</th>\n",
       "      <td>NaN</td>\n",
       "      <td>NaN</td>\n",
       "      <td>14.3</td>\n",
       "      <td>56</td>\n",
       "      <td>5</td>\n",
       "      <td>5</td>\n",
       "    </tr>\n",
       "  </tbody>\n",
       "</table>\n",
       "</div>"
      ],
      "text/plain": [
       "   Ozone  Solar.R  Wind  Temp  Month  Day\n",
       "1   41.0    190.0   7.4    67      5    1\n",
       "2   36.0    118.0   8.0    72      5    2\n",
       "3   12.0    149.0  12.6    74      5    3\n",
       "4   18.0    313.0  11.5    62      5    4\n",
       "5    NaN      NaN  14.3    56      5    5"
      ]
     },
     "execution_count": 33,
     "metadata": {},
     "output_type": "execute_result"
    }
   ],
   "source": [
    "df = data('airquality')\n",
    "df.head()"
   ]
  },
  {
   "cell_type": "code",
   "execution_count": 70,
   "id": "c70af4f4",
   "metadata": {},
   "outputs": [
    {
     "data": {
      "text/html": [
       "<div>\n",
       "<style scoped>\n",
       "    .dataframe tbody tr th:only-of-type {\n",
       "        vertical-align: middle;\n",
       "    }\n",
       "\n",
       "    .dataframe tbody tr th {\n",
       "        vertical-align: top;\n",
       "    }\n",
       "\n",
       "    .dataframe thead th {\n",
       "        text-align: right;\n",
       "    }\n",
       "</style>\n",
       "<table border=\"1\" class=\"dataframe\">\n",
       "  <thead>\n",
       "    <tr style=\"text-align: right;\">\n",
       "      <th></th>\n",
       "      <th>오존농도</th>\n",
       "      <th>태양복사량</th>\n",
       "      <th>풍속</th>\n",
       "      <th>온도</th>\n",
       "      <th>월</th>\n",
       "      <th>일</th>\n",
       "    </tr>\n",
       "  </thead>\n",
       "  <tbody>\n",
       "    <tr>\n",
       "      <th>1</th>\n",
       "      <td>41.00000</td>\n",
       "      <td>190.000000</td>\n",
       "      <td>7.4</td>\n",
       "      <td>67</td>\n",
       "      <td>5</td>\n",
       "      <td>1</td>\n",
       "    </tr>\n",
       "    <tr>\n",
       "      <th>2</th>\n",
       "      <td>36.00000</td>\n",
       "      <td>118.000000</td>\n",
       "      <td>8.0</td>\n",
       "      <td>72</td>\n",
       "      <td>5</td>\n",
       "      <td>2</td>\n",
       "    </tr>\n",
       "    <tr>\n",
       "      <th>3</th>\n",
       "      <td>12.00000</td>\n",
       "      <td>149.000000</td>\n",
       "      <td>12.6</td>\n",
       "      <td>74</td>\n",
       "      <td>5</td>\n",
       "      <td>3</td>\n",
       "    </tr>\n",
       "    <tr>\n",
       "      <th>4</th>\n",
       "      <td>18.00000</td>\n",
       "      <td>313.000000</td>\n",
       "      <td>11.5</td>\n",
       "      <td>62</td>\n",
       "      <td>5</td>\n",
       "      <td>4</td>\n",
       "    </tr>\n",
       "    <tr>\n",
       "      <th>5</th>\n",
       "      <td>42.12931</td>\n",
       "      <td>185.931507</td>\n",
       "      <td>14.3</td>\n",
       "      <td>56</td>\n",
       "      <td>5</td>\n",
       "      <td>5</td>\n",
       "    </tr>\n",
       "  </tbody>\n",
       "</table>\n",
       "</div>"
      ],
      "text/plain": [
       "       오존농도       태양복사량    풍속  온도  월  일\n",
       "1  41.00000  190.000000   7.4  67  5  1\n",
       "2  36.00000  118.000000   8.0  72  5  2\n",
       "3  12.00000  149.000000  12.6  74  5  3\n",
       "4  18.00000  313.000000  11.5  62  5  4\n",
       "5  42.12931  185.931507  14.3  56  5  5"
      ]
     },
     "execution_count": 70,
     "metadata": {},
     "output_type": "execute_result"
    }
   ],
   "source": [
    "df = df.rename(columns={\n",
    "    'Ozone' : '오존농도',\n",
    "    'Solar.R': '태양복사량',\n",
    "    'Wind' : '풍속',\n",
    "    'Temp' : '온도',\n",
    "    'Month' : '월',\n",
    "    'Day' : '일'\n",
    "})\n",
    "df.head()"
   ]
  },
  {
   "cell_type": "code",
   "execution_count": 62,
   "id": "d6131247",
   "metadata": {},
   "outputs": [
    {
     "data": {
      "text/plain": [
       "오존농도      0\n",
       "태양 복사량    0\n",
       "풍속        0\n",
       "온도        0\n",
       "월         0\n",
       "일         0\n",
       "dtype: int64"
      ]
     },
     "execution_count": 62,
     "metadata": {},
     "output_type": "execute_result"
    }
   ],
   "source": [
    "# 첫번째 할일 : 결측치 확인하기\n",
    "df.isnull().sum()"
   ]
  },
  {
   "cell_type": "code",
   "execution_count": 46,
   "id": "2e4d49ec",
   "metadata": {},
   "outputs": [
    {
     "data": {
      "text/plain": [
       "오존농도       42.129310\n",
       "태양 복사량    185.931507\n",
       "풍속          9.957516\n",
       "온도         77.882353\n",
       "월           6.993464\n",
       "일          15.803922\n",
       "dtype: float64"
      ]
     },
     "execution_count": 46,
     "metadata": {},
     "output_type": "execute_result"
    }
   ],
   "source": [
    "df.mean()"
   ]
  },
  {
   "cell_type": "code",
   "execution_count": 39,
   "id": "c1a65d54",
   "metadata": {},
   "outputs": [],
   "source": [
    "df.fillna(df.mean(), inplace=True)"
   ]
  },
  {
   "cell_type": "code",
   "execution_count": 42,
   "id": "6b1962a0",
   "metadata": {},
   "outputs": [
    {
     "data": {
      "text/html": [
       "<div>\n",
       "<style scoped>\n",
       "    .dataframe tbody tr th:only-of-type {\n",
       "        vertical-align: middle;\n",
       "    }\n",
       "\n",
       "    .dataframe tbody tr th {\n",
       "        vertical-align: top;\n",
       "    }\n",
       "\n",
       "    .dataframe thead th {\n",
       "        text-align: right;\n",
       "    }\n",
       "</style>\n",
       "<table border=\"1\" class=\"dataframe\">\n",
       "  <thead>\n",
       "    <tr style=\"text-align: right;\">\n",
       "      <th></th>\n",
       "      <th>오존농도</th>\n",
       "      <th>태양 복사량</th>\n",
       "      <th>풍속</th>\n",
       "      <th>온도</th>\n",
       "      <th>월</th>\n",
       "      <th>일</th>\n",
       "    </tr>\n",
       "  </thead>\n",
       "  <tbody>\n",
       "    <tr>\n",
       "      <th>1</th>\n",
       "      <td>41.00000</td>\n",
       "      <td>190.000000</td>\n",
       "      <td>7.4</td>\n",
       "      <td>67</td>\n",
       "      <td>5</td>\n",
       "      <td>1</td>\n",
       "    </tr>\n",
       "    <tr>\n",
       "      <th>2</th>\n",
       "      <td>36.00000</td>\n",
       "      <td>118.000000</td>\n",
       "      <td>8.0</td>\n",
       "      <td>72</td>\n",
       "      <td>5</td>\n",
       "      <td>2</td>\n",
       "    </tr>\n",
       "    <tr>\n",
       "      <th>3</th>\n",
       "      <td>12.00000</td>\n",
       "      <td>149.000000</td>\n",
       "      <td>12.6</td>\n",
       "      <td>74</td>\n",
       "      <td>5</td>\n",
       "      <td>3</td>\n",
       "    </tr>\n",
       "    <tr>\n",
       "      <th>4</th>\n",
       "      <td>18.00000</td>\n",
       "      <td>313.000000</td>\n",
       "      <td>11.5</td>\n",
       "      <td>62</td>\n",
       "      <td>5</td>\n",
       "      <td>4</td>\n",
       "    </tr>\n",
       "    <tr>\n",
       "      <th>5</th>\n",
       "      <td>42.12931</td>\n",
       "      <td>185.931507</td>\n",
       "      <td>14.3</td>\n",
       "      <td>56</td>\n",
       "      <td>5</td>\n",
       "      <td>5</td>\n",
       "    </tr>\n",
       "  </tbody>\n",
       "</table>\n",
       "</div>"
      ],
      "text/plain": [
       "       오존농도      태양 복사량    풍속  온도  월  일\n",
       "1  41.00000  190.000000   7.4  67  5  1\n",
       "2  36.00000  118.000000   8.0  72  5  2\n",
       "3  12.00000  149.000000  12.6  74  5  3\n",
       "4  18.00000  313.000000  11.5  62  5  4\n",
       "5  42.12931  185.931507  14.3  56  5  5"
      ]
     },
     "execution_count": 42,
     "metadata": {},
     "output_type": "execute_result"
    }
   ],
   "source": [
    "df.head()"
   ]
  },
  {
   "cell_type": "code",
   "execution_count": null,
   "id": "7137259d",
   "metadata": {},
   "outputs": [],
   "source": [
    "# 연속형 변수 : 숫자로 표현할 수 있고, 소수점으로 표현할 수 있는 변수\n",
    "# 예 : 키, 몸무게, 온도\n",
    "# 범주형 변수 : 서로 구분은 되는 범주, 그룹 (수치적인 의미가 없는 변수)\n",
    "# 예 : 성별, 척도(매우좋음, 좋음, 보통)"
   ]
  },
  {
   "cell_type": "code",
   "execution_count": 52,
   "id": "e87bb8e8",
   "metadata": {},
   "outputs": [
    {
     "name": "stdout",
     "output_type": "stream",
     "text": [
      "0/오존농도\n",
      "1/태양복사량\n",
      "2/풍속\n",
      "3/온도\n"
     ]
    }
   ],
   "source": [
    "features = ['오존농도', '태양복사량','풍속','온도']\n",
    "\n",
    "for i, feature in enumerate(features):\n",
    "    print(i, feature, sep='/')"
   ]
  },
  {
   "cell_type": "code",
   "execution_count": 149,
   "id": "dd6a853d",
   "metadata": {},
   "outputs": [
    {
     "data": {
      "image/png": "[encoded data removed]",
      "text/plain": [
       "<Figure size 1200x800 with 4 Axes>"
      ]
     },
     "metadata": {},
     "output_type": "display_data"
    },
    {
     "name": "stdout",
     "output_type": "stream",
     "text": [
      "[[<Axes: title={'center': '오존농도 : 원본'}, xlabel='오존농도', ylabel='빈도'>\n",
      "  <Axes: title={'center': '태양복사량 : 원본'}, xlabel='태양복사량', ylabel='빈도'>]\n",
      " [<Axes: title={'center': '풍속 : 원본'}, xlabel='풍속', ylabel='빈도'>\n",
      "  <Axes: title={'center': '온도 : 원본'}, xlabel='온도', ylabel='빈도'>]] Axes(0.546887,0.0703472;0.431424x0.393455)\n"
     ]
    }
   ],
   "source": [
    "fig, axs = plt.subplots(2, 2, figsize = (12, 8)) # figsize = (넓이, 높이)\n",
    "for i, feature in enumerate(features):  # enumerate : 인덱스 같이 생성\n",
    "    # i는 features의 인덱스 숫자(0~3)\n",
    "    # feature는 문자열 리스트 (오존농도 ~ 온도)\n",
    "    ax = axs[i//2, i%2]\n",
    "    # axs[i//2, i%2] ~ axs[3//2, 3%2]\n",
    "    # axs[0,0] ~ axs[1,1]\n",
    "    ax.hist(df[feature], bins = 20, color='skyblue', edgecolor='black')\n",
    "    ax.set_title(f'{feature} : 원본')\n",
    "    ax.set_xlabel(feature)\n",
    "    ax.set_ylabel('빈도')\n",
    "plt.tight_layout() # 글자 겹치는거 깔끔하게 정리\n",
    "plt.show()\n",
    "print(axs, ax)"
   ]
  },
  {
   "cell_type": "code",
   "execution_count": 76,
   "id": "1f15651c",
   "metadata": {},
   "outputs": [
    {
     "name": "stdout",
     "output_type": "stream",
     "text": [
      "Collecting scikit-learn\n",
      "  Downloading scikit_learn-1.5.2-cp39-cp39-win_amd64.whl.metadata (13 kB)\n",
      "Requirement already satisfied: numpy>=1.19.5 in c:\\users\\rmarket\\anaconda3\\envs\\test_env\\lib\\site-packages (from scikit-learn) (2.0.2)\n",
      "Collecting scipy>=1.6.0 (from scikit-learn)\n",
      "  Downloading scipy-1.13.1-cp39-cp39-win_amd64.whl.metadata (60 kB)\n",
      "Collecting joblib>=1.2.0 (from scikit-learn)\n",
      "  Downloading joblib-1.4.2-py3-none-any.whl.metadata (5.4 kB)\n",
      "Collecting threadpoolctl>=3.1.0 (from scikit-learn)\n",
      "  Downloading threadpoolctl-3.5.0-py3-none-any.whl.metadata (13 kB)\n",
      "Downloading scikit_learn-1.5.2-cp39-cp39-win_amd64.whl (11.0 MB)\n",
      "   ---------------------------------------- 0.0/11.0 MB ? eta -:--:--\n",
      "   ---------------------------------------- 11.0/11.0 MB 57.3 MB/s eta 0:00:00\n",
      "Downloading joblib-1.4.2-py3-none-any.whl (301 kB)\n",
      "Downloading scipy-1.13.1-cp39-cp39-win_amd64.whl (46.2 MB)\n",
      "   ---------------------------------------- 0.0/46.2 MB ? eta -:--:--\n",
      "   --------- ------------------------------ 11.5/46.2 MB 72.3 MB/s eta 0:00:01\n",
      "   ---------------------------- ----------- 32.5/46.2 MB 79.4 MB/s eta 0:00:01\n",
      "   ---------------------------------------  46.1/46.2 MB 79.4 MB/s eta 0:00:01\n",
      "   ---------------------------------------- 46.2/46.2 MB 68.4 MB/s eta 0:00:00\n",
      "Downloading threadpoolctl-3.5.0-py3-none-any.whl (18 kB)\n",
      "Installing collected packages: threadpoolctl, scipy, joblib, scikit-learn\n",
      "Successfully installed joblib-1.4.2 scikit-learn-1.5.2 scipy-1.13.1 threadpoolctl-3.5.0\n",
      "Note: you may need to restart the kernel to use updated packages.\n"
     ]
    }
   ],
   "source": [
    "# pip install scikit-learn"
   ]
  },
  {
   "cell_type": "code",
   "execution_count": 77,
   "id": "a4b87227",
   "metadata": {},
   "outputs": [],
   "source": [
    "from sklearn.preprocessing import MinMaxScaler"
   ]
  },
  {
   "cell_type": "code",
   "execution_count": 78,
   "id": "3ef93b27",
   "metadata": {},
   "outputs": [],
   "source": [
    "import_scaler = MinMaxScaler()"
   ]
  },
  {
   "cell_type": "code",
   "execution_count": 82,
   "id": "bbe58530",
   "metadata": {},
   "outputs": [
    {
     "data": {
      "text/html": [
       "<div>\n",
       "<style scoped>\n",
       "    .dataframe tbody tr th:only-of-type {\n",
       "        vertical-align: middle;\n",
       "    }\n",
       "\n",
       "    .dataframe tbody tr th {\n",
       "        vertical-align: top;\n",
       "    }\n",
       "\n",
       "    .dataframe thead th {\n",
       "        text-align: right;\n",
       "    }\n",
       "</style>\n",
       "<table border=\"1\" class=\"dataframe\">\n",
       "  <thead>\n",
       "    <tr style=\"text-align: right;\">\n",
       "      <th></th>\n",
       "      <th>오존농도</th>\n",
       "      <th>태양복사량</th>\n",
       "      <th>풍속</th>\n",
       "      <th>온도</th>\n",
       "      <th>월</th>\n",
       "      <th>일</th>\n",
       "    </tr>\n",
       "  </thead>\n",
       "  <tbody>\n",
       "    <tr>\n",
       "      <th>1</th>\n",
       "      <td>41.0</td>\n",
       "      <td>190.0</td>\n",
       "      <td>7.4</td>\n",
       "      <td>67</td>\n",
       "      <td>5</td>\n",
       "      <td>1</td>\n",
       "    </tr>\n",
       "    <tr>\n",
       "      <th>2</th>\n",
       "      <td>36.0</td>\n",
       "      <td>118.0</td>\n",
       "      <td>8.0</td>\n",
       "      <td>72</td>\n",
       "      <td>5</td>\n",
       "      <td>2</td>\n",
       "    </tr>\n",
       "    <tr>\n",
       "      <th>3</th>\n",
       "      <td>12.0</td>\n",
       "      <td>149.0</td>\n",
       "      <td>12.6</td>\n",
       "      <td>74</td>\n",
       "      <td>5</td>\n",
       "      <td>3</td>\n",
       "    </tr>\n",
       "  </tbody>\n",
       "</table>\n",
       "</div>"
      ],
      "text/plain": [
       "   오존농도  태양복사량    풍속  온도  월  일\n",
       "1  41.0  190.0   7.4  67  5  1\n",
       "2  36.0  118.0   8.0  72  5  2\n",
       "3  12.0  149.0  12.6  74  5  3"
      ]
     },
     "execution_count": 82,
     "metadata": {},
     "output_type": "execute_result"
    }
   ],
   "source": [
    "df_normalized = df.copy()\n",
    "df_normalized.head(3)"
   ]
  },
  {
   "cell_type": "code",
   "execution_count": 84,
   "id": "f6aa9912",
   "metadata": {},
   "outputs": [
    {
     "data": {
      "text/plain": [
       "['오존농도', '태양복사량', '풍속', '온도']"
      ]
     },
     "execution_count": 84,
     "metadata": {},
     "output_type": "execute_result"
    }
   ],
   "source": [
    "features"
   ]
  },
  {
   "cell_type": "code",
   "execution_count": 87,
   "id": "76adc767",
   "metadata": {},
   "outputs": [
    {
     "data": {
      "text/html": [
       "<div>\n",
       "<style scoped>\n",
       "    .dataframe tbody tr th:only-of-type {\n",
       "        vertical-align: middle;\n",
       "    }\n",
       "\n",
       "    .dataframe tbody tr th {\n",
       "        vertical-align: top;\n",
       "    }\n",
       "\n",
       "    .dataframe thead th {\n",
       "        text-align: right;\n",
       "    }\n",
       "</style>\n",
       "<table border=\"1\" class=\"dataframe\">\n",
       "  <thead>\n",
       "    <tr style=\"text-align: right;\">\n",
       "      <th></th>\n",
       "      <th>오존농도</th>\n",
       "      <th>태양복사량</th>\n",
       "      <th>풍속</th>\n",
       "      <th>온도</th>\n",
       "      <th>월</th>\n",
       "      <th>일</th>\n",
       "    </tr>\n",
       "  </thead>\n",
       "  <tbody>\n",
       "    <tr>\n",
       "      <th>1</th>\n",
       "      <td>0.239521</td>\n",
       "      <td>0.559633</td>\n",
       "      <td>0.300000</td>\n",
       "      <td>0.268293</td>\n",
       "      <td>5</td>\n",
       "      <td>1</td>\n",
       "    </tr>\n",
       "    <tr>\n",
       "      <th>2</th>\n",
       "      <td>0.209581</td>\n",
       "      <td>0.339450</td>\n",
       "      <td>0.331579</td>\n",
       "      <td>0.390244</td>\n",
       "      <td>5</td>\n",
       "      <td>2</td>\n",
       "    </tr>\n",
       "    <tr>\n",
       "      <th>3</th>\n",
       "      <td>0.065868</td>\n",
       "      <td>0.434251</td>\n",
       "      <td>0.573684</td>\n",
       "      <td>0.439024</td>\n",
       "      <td>5</td>\n",
       "      <td>3</td>\n",
       "    </tr>\n",
       "    <tr>\n",
       "      <th>4</th>\n",
       "      <td>0.101796</td>\n",
       "      <td>0.935780</td>\n",
       "      <td>0.515789</td>\n",
       "      <td>0.146341</td>\n",
       "      <td>5</td>\n",
       "      <td>4</td>\n",
       "    </tr>\n",
       "    <tr>\n",
       "      <th>5</th>\n",
       "      <td>0.246283</td>\n",
       "      <td>0.547191</td>\n",
       "      <td>0.663158</td>\n",
       "      <td>0.000000</td>\n",
       "      <td>5</td>\n",
       "      <td>5</td>\n",
       "    </tr>\n",
       "  </tbody>\n",
       "</table>\n",
       "</div>"
      ],
      "text/plain": [
       "       오존농도     태양복사량        풍속        온도  월  일\n",
       "1  0.239521  0.559633  0.300000  0.268293  5  1\n",
       "2  0.209581  0.339450  0.331579  0.390244  5  2\n",
       "3  0.065868  0.434251  0.573684  0.439024  5  3\n",
       "4  0.101796  0.935780  0.515789  0.146341  5  4\n",
       "5  0.246283  0.547191  0.663158  0.000000  5  5"
      ]
     },
     "execution_count": 87,
     "metadata": {},
     "output_type": "execute_result"
    }
   ],
   "source": [
    "# df_normalized[features]\n",
    "df_normalized[features] = import_scaler.fit_transform(df[features]) # 데이터가 0 ~ 1 사이의 값으로 변경\n",
    "df_normalized.head()"
   ]
  },
  {
   "cell_type": "code",
   "execution_count": 89,
   "id": "963b34a7",
   "metadata": {},
   "outputs": [
    {
     "data": {
      "text/html": [
       "<div>\n",
       "<style scoped>\n",
       "    .dataframe tbody tr th:only-of-type {\n",
       "        vertical-align: middle;\n",
       "    }\n",
       "\n",
       "    .dataframe tbody tr th {\n",
       "        vertical-align: top;\n",
       "    }\n",
       "\n",
       "    .dataframe thead th {\n",
       "        text-align: right;\n",
       "    }\n",
       "</style>\n",
       "<table border=\"1\" class=\"dataframe\">\n",
       "  <thead>\n",
       "    <tr style=\"text-align: right;\">\n",
       "      <th></th>\n",
       "      <th>오존농도</th>\n",
       "      <th>태양복사량</th>\n",
       "      <th>풍속</th>\n",
       "      <th>온도</th>\n",
       "    </tr>\n",
       "  </thead>\n",
       "  <tbody>\n",
       "    <tr>\n",
       "      <th>1</th>\n",
       "      <td>41.00000</td>\n",
       "      <td>190.000000</td>\n",
       "      <td>7.4</td>\n",
       "      <td>67</td>\n",
       "    </tr>\n",
       "    <tr>\n",
       "      <th>2</th>\n",
       "      <td>36.00000</td>\n",
       "      <td>118.000000</td>\n",
       "      <td>8.0</td>\n",
       "      <td>72</td>\n",
       "    </tr>\n",
       "    <tr>\n",
       "      <th>3</th>\n",
       "      <td>12.00000</td>\n",
       "      <td>149.000000</td>\n",
       "      <td>12.6</td>\n",
       "      <td>74</td>\n",
       "    </tr>\n",
       "    <tr>\n",
       "      <th>4</th>\n",
       "      <td>18.00000</td>\n",
       "      <td>313.000000</td>\n",
       "      <td>11.5</td>\n",
       "      <td>62</td>\n",
       "    </tr>\n",
       "    <tr>\n",
       "      <th>5</th>\n",
       "      <td>42.12931</td>\n",
       "      <td>185.931507</td>\n",
       "      <td>14.3</td>\n",
       "      <td>56</td>\n",
       "    </tr>\n",
       "  </tbody>\n",
       "</table>\n",
       "</div>"
      ],
      "text/plain": [
       "       오존농도       태양복사량    풍속  온도\n",
       "1  41.00000  190.000000   7.4  67\n",
       "2  36.00000  118.000000   8.0  72\n",
       "3  12.00000  149.000000  12.6  74\n",
       "4  18.00000  313.000000  11.5  62\n",
       "5  42.12931  185.931507  14.3  56"
      ]
     },
     "execution_count": 89,
     "metadata": {},
     "output_type": "execute_result"
    }
   ],
   "source": [
    "df[features].head()\n"
   ]
  },
  {
   "cell_type": "code",
   "execution_count": 92,
   "id": "be6b06a5",
   "metadata": {},
   "outputs": [
    {
     "data": {
      "image/png": "[encoded data removed]",
      "text/plain": [
       "<Figure size 600x600 with 4 Axes>"
      ]
     },
     "metadata": {},
     "output_type": "display_data"
    }
   ],
   "source": [
    "fig, axs = plt.subplots(2, 2, figsize = (6,6)) # figsize = (넓이, 높이)\n",
    "for i, feature in enumerate(features):\n",
    "    # i는 features의 인덱스 숫자(0~3)\n",
    "    # feature는 문자열 리스트 (오존농도 ~ 온도)\n",
    "    ax = axs[i//2, i%2]\n",
    "    # axs[i//2, i%2] ~ axs[3//2, 3%2]\n",
    "    # axs[0,0] ~ axs[1,1]\n",
    "    ax.hist(df_normalized[feature], bins = 20, color='lightgreen', edgecolor='black')\n",
    "    ax.set_title(f'{feature} : 정규화된 데이터')\n",
    "    ax.set_xlabel(feature)\n",
    "    ax.set_ylabel('빈도')\n",
    "plt.tight_layout() # 글자 겹치는거 깔끔하게 정리\n",
    "plt.show()\n",
    "    \n",
    "# 0 ~ 1 까지의 값으로 정규화 해서 바꿔지만 그래프의 모양은 달라지지 않는다!!!"
   ]
  },
  {
   "cell_type": "markdown",
   "id": "08bcd227",
   "metadata": {},
   "source": [
    "## 4. 표준화 (Standardization)\n",
    "- 데이터를 평균 0, 표준편차 1로 조정하는 방법 (정규분포화)\n",
    "### 4-1. Standard Scaling\n",
    "- 데이터가 고르게 분포되지 않았을 때 표준화"
   ]
  },
  {
   "cell_type": "code",
   "execution_count": 93,
   "id": "39cd27cb",
   "metadata": {},
   "outputs": [],
   "source": [
    "from sklearn.preprocessing import StandardScaler"
   ]
  },
  {
   "cell_type": "code",
   "execution_count": 94,
   "id": "e983e3d0",
   "metadata": {},
   "outputs": [],
   "source": [
    "scaler_std = StandardScaler()\n",
    "df_standardized = df.copy()\n",
    "df_standardized[features] = scaler_std.fit_transform(df[features])"
   ]
  },
  {
   "cell_type": "code",
   "execution_count": 96,
   "id": "b7bac3ad",
   "metadata": {},
   "outputs": [
    {
     "data": {
      "image/png": "[encoded data removed]",
      "text/plain": [
       "<Figure size 600x600 with 4 Axes>"
      ]
     },
     "metadata": {},
     "output_type": "display_data"
    }
   ],
   "source": [
    "fig, axs = plt.subplots(2, 2, figsize = (6,6)) # figsize = (넓이, 높이)\n",
    "for i, feature in enumerate(features):\n",
    "    # i는 features의 인덱스 숫자(0~3)\n",
    "    # feature는 문자열 리스트 (오존농도 ~ 온도)\n",
    "    ax = axs[i//2, i%2]\n",
    "    # axs[i//2, i%2] ~ axs[3//2, 3%2]\n",
    "    # axs[0,0] ~ axs[1,1]\n",
    "    ax.hist(df_standardized[feature], bins = 20, color='lightcoral', edgecolor='black')\n",
    "    ax.set_title(f'{feature} : 표준화된 데이터')\n",
    "    ax.set_xlabel(feature)\n",
    "    ax.set_ylabel('빈도')\n",
    "plt.tight_layout() # 글자 겹치는거 깔끔하게 정리\n",
    "plt.show()\n",
    "    \n",
    "# 평균이 0, 표준편차는 1로 표준화 해서 바꿔지만 그래프의 모양은 달라지지 않는다!!!"
   ]
  },
  {
   "cell_type": "markdown",
   "id": "5d84986e",
   "metadata": {},
   "source": [
    "## 5. 데이터 인코딩 (Encoding)\n",
    "- 범주형 데이터를 수치형 데이터로 변환하여 머신러닝 알고리즘에 사용할 수 있도록 함"
   ]
  },
  {
   "cell_type": "code",
   "execution_count": 138,
   "id": "a09ba45e",
   "metadata": {},
   "outputs": [],
   "source": [
    "import pandas as pd\n",
    "from sklearn.preprocessing import LabelEncoder"
   ]
  },
  {
   "cell_type": "code",
   "execution_count": 99,
   "id": "e94336a5",
   "metadata": {},
   "outputs": [
    {
     "data": {
      "text/html": [
       "<div>\n",
       "<style scoped>\n",
       "    .dataframe tbody tr th:only-of-type {\n",
       "        vertical-align: middle;\n",
       "    }\n",
       "\n",
       "    .dataframe tbody tr th {\n",
       "        vertical-align: top;\n",
       "    }\n",
       "\n",
       "    .dataframe thead th {\n",
       "        text-align: right;\n",
       "    }\n",
       "</style>\n",
       "<table border=\"1\" class=\"dataframe\">\n",
       "  <thead>\n",
       "    <tr style=\"text-align: right;\">\n",
       "      <th></th>\n",
       "      <th>이름</th>\n",
       "      <th>성별</th>\n",
       "    </tr>\n",
       "  </thead>\n",
       "  <tbody>\n",
       "    <tr>\n",
       "      <th>0</th>\n",
       "      <td>김철수</td>\n",
       "      <td>남</td>\n",
       "    </tr>\n",
       "    <tr>\n",
       "      <th>1</th>\n",
       "      <td>이영희</td>\n",
       "      <td>여</td>\n",
       "    </tr>\n",
       "    <tr>\n",
       "      <th>2</th>\n",
       "      <td>박민수</td>\n",
       "      <td>남</td>\n",
       "    </tr>\n",
       "    <tr>\n",
       "      <th>3</th>\n",
       "      <td>최지혜</td>\n",
       "      <td>여</td>\n",
       "    </tr>\n",
       "    <tr>\n",
       "      <th>4</th>\n",
       "      <td>정현우</td>\n",
       "      <td>남</td>\n",
       "    </tr>\n",
       "  </tbody>\n",
       "</table>\n",
       "</div>"
      ],
      "text/plain": [
       "    이름 성별\n",
       "0  김철수  남\n",
       "1  이영희  여\n",
       "2  박민수  남\n",
       "3  최지혜  여\n",
       "4  정현우  남"
      ]
     },
     "execution_count": 99,
     "metadata": {},
     "output_type": "execute_result"
    }
   ],
   "source": [
    "person_data ={\n",
    "    '이름' :['김철수','이영희','박민수','최지혜','정현우'],\n",
    "    '성별' : ['남','여','남','여','남']\n",
    "}\n",
    "person_df = pd.DataFrame(person_data)\n",
    "person_df"
   ]
  },
  {
   "cell_type": "code",
   "execution_count": null,
   "id": "57335588",
   "metadata": {},
   "outputs": [
    {
     "data": {
      "text/html": [
       "<div>\n",
       "<style scoped>\n",
       "    .dataframe tbody tr th:only-of-type {\n",
       "        vertical-align: middle;\n",
       "    }\n",
       "\n",
       "    .dataframe tbody tr th {\n",
       "        vertical-align: top;\n",
       "    }\n",
       "\n",
       "    .dataframe thead th {\n",
       "        text-align: right;\n",
       "    }\n",
       "</style>\n",
       "<table border=\"1\" class=\"dataframe\">\n",
       "  <thead>\n",
       "    <tr style=\"text-align: right;\">\n",
       "      <th></th>\n",
       "      <th>이름</th>\n",
       "      <th>성별</th>\n",
       "      <th>성별_라벨링</th>\n",
       "      <th>성별 _인코딩</th>\n",
       "    </tr>\n",
       "  </thead>\n",
       "  <tbody>\n",
       "    <tr>\n",
       "      <th>0</th>\n",
       "      <td>김철수</td>\n",
       "      <td>남</td>\n",
       "      <td>1</td>\n",
       "      <td>0</td>\n",
       "    </tr>\n",
       "    <tr>\n",
       "      <th>1</th>\n",
       "      <td>이영희</td>\n",
       "      <td>여</td>\n",
       "      <td>0</td>\n",
       "      <td>1</td>\n",
       "    </tr>\n",
       "    <tr>\n",
       "      <th>2</th>\n",
       "      <td>박민수</td>\n",
       "      <td>남</td>\n",
       "      <td>1</td>\n",
       "      <td>0</td>\n",
       "    </tr>\n",
       "    <tr>\n",
       "      <th>3</th>\n",
       "      <td>최지혜</td>\n",
       "      <td>여</td>\n",
       "      <td>0</td>\n",
       "      <td>1</td>\n",
       "    </tr>\n",
       "    <tr>\n",
       "      <th>4</th>\n",
       "      <td>정현우</td>\n",
       "      <td>남</td>\n",
       "      <td>1</td>\n",
       "      <td>0</td>\n",
       "    </tr>\n",
       "  </tbody>\n",
       "</table>\n",
       "</div>"
      ],
      "text/plain": [
       "    이름 성별  성별_라벨링  성별 _인코딩\n",
       "0  김철수  남       1        0\n",
       "1  이영희  여       0        1\n",
       "2  박민수  남       1        0\n",
       "3  최지혜  여       0        1\n",
       "4  정현우  남       1        0"
      ]
     },
     "execution_count": 139,
     "metadata": {},
     "output_type": "execute_result"
    }
   ],
   "source": [
    "encoder = LabelEncoder() # 알아서 맵핑을 하기 때문에, 인코딩의 변환값을 지정할 수 없다\n",
    "person_df['성별 _인코딩'] = encoder.fit_transform(person_df['성별'])\n",
    "person_df"
   ]
  },
  {
   "cell_type": "markdown",
   "id": "80dc65e0",
   "metadata": {},
   "source": [
    "### 5-1. Label Encoding\n",
    "- 수동 인코딩, 성별을 1(남), 0(여)로 변환"
   ]
  },
  {
   "cell_type": "code",
   "execution_count": 102,
   "id": "b4bcf6f7",
   "metadata": {},
   "outputs": [
    {
     "data": {
      "text/html": [
       "<div>\n",
       "<style scoped>\n",
       "    .dataframe tbody tr th:only-of-type {\n",
       "        vertical-align: middle;\n",
       "    }\n",
       "\n",
       "    .dataframe tbody tr th {\n",
       "        vertical-align: top;\n",
       "    }\n",
       "\n",
       "    .dataframe thead th {\n",
       "        text-align: right;\n",
       "    }\n",
       "</style>\n",
       "<table border=\"1\" class=\"dataframe\">\n",
       "  <thead>\n",
       "    <tr style=\"text-align: right;\">\n",
       "      <th></th>\n",
       "      <th>이름</th>\n",
       "      <th>성별</th>\n",
       "    </tr>\n",
       "  </thead>\n",
       "  <tbody>\n",
       "    <tr>\n",
       "      <th>0</th>\n",
       "      <td>김철수</td>\n",
       "      <td>남</td>\n",
       "    </tr>\n",
       "    <tr>\n",
       "      <th>1</th>\n",
       "      <td>이영희</td>\n",
       "      <td>여</td>\n",
       "    </tr>\n",
       "    <tr>\n",
       "      <th>2</th>\n",
       "      <td>박민수</td>\n",
       "      <td>남</td>\n",
       "    </tr>\n",
       "    <tr>\n",
       "      <th>3</th>\n",
       "      <td>최지혜</td>\n",
       "      <td>여</td>\n",
       "    </tr>\n",
       "    <tr>\n",
       "      <th>4</th>\n",
       "      <td>정현우</td>\n",
       "      <td>남</td>\n",
       "    </tr>\n",
       "  </tbody>\n",
       "</table>\n",
       "</div>"
      ],
      "text/plain": [
       "    이름 성별\n",
       "0  김철수  남\n",
       "1  이영희  여\n",
       "2  박민수  남\n",
       "3  최지혜  여\n",
       "4  정현우  남"
      ]
     },
     "execution_count": 102,
     "metadata": {},
     "output_type": "execute_result"
    }
   ],
   "source": [
    "person_data ={\n",
    "    '이름' :['김철수','이영희','박민수','최지혜','정현우'],\n",
    "    '성별' : ['남','여','남','여','남']\n",
    "}\n",
    "person_df = pd.DataFrame(person_data)\n",
    "person_df"
   ]
  },
  {
   "cell_type": "code",
   "execution_count": 103,
   "id": "a3a78bfe",
   "metadata": {},
   "outputs": [
    {
     "data": {
      "text/html": [
       "<div>\n",
       "<style scoped>\n",
       "    .dataframe tbody tr th:only-of-type {\n",
       "        vertical-align: middle;\n",
       "    }\n",
       "\n",
       "    .dataframe tbody tr th {\n",
       "        vertical-align: top;\n",
       "    }\n",
       "\n",
       "    .dataframe thead th {\n",
       "        text-align: right;\n",
       "    }\n",
       "</style>\n",
       "<table border=\"1\" class=\"dataframe\">\n",
       "  <thead>\n",
       "    <tr style=\"text-align: right;\">\n",
       "      <th></th>\n",
       "      <th>이름</th>\n",
       "      <th>성별</th>\n",
       "      <th>성별_라벨링</th>\n",
       "    </tr>\n",
       "  </thead>\n",
       "  <tbody>\n",
       "    <tr>\n",
       "      <th>0</th>\n",
       "      <td>김철수</td>\n",
       "      <td>남</td>\n",
       "      <td>1</td>\n",
       "    </tr>\n",
       "    <tr>\n",
       "      <th>1</th>\n",
       "      <td>이영희</td>\n",
       "      <td>여</td>\n",
       "      <td>0</td>\n",
       "    </tr>\n",
       "    <tr>\n",
       "      <th>2</th>\n",
       "      <td>박민수</td>\n",
       "      <td>남</td>\n",
       "      <td>1</td>\n",
       "    </tr>\n",
       "    <tr>\n",
       "      <th>3</th>\n",
       "      <td>최지혜</td>\n",
       "      <td>여</td>\n",
       "      <td>0</td>\n",
       "    </tr>\n",
       "    <tr>\n",
       "      <th>4</th>\n",
       "      <td>정현우</td>\n",
       "      <td>남</td>\n",
       "      <td>1</td>\n",
       "    </tr>\n",
       "  </tbody>\n",
       "</table>\n",
       "</div>"
      ],
      "text/plain": [
       "    이름 성별  성별_라벨링\n",
       "0  김철수  남       1\n",
       "1  이영희  여       0\n",
       "2  박민수  남       1\n",
       "3  최지혜  여       0\n",
       "4  정현우  남       1"
      ]
     },
     "execution_count": 103,
     "metadata": {},
     "output_type": "execute_result"
    }
   ],
   "source": [
    "person_df['성별_라벨링'] = person_df['성별'].apply(lambda x : 1 if x == '남' else 0) # 람다는 어플라이랑 세트이다\n",
    "person_df"
   ]
  },
  {
   "cell_type": "code",
   "execution_count": 104,
   "id": "40a55110",
   "metadata": {},
   "outputs": [],
   "source": [
    "a=pd.Series([1,2,3,4])"
   ]
  },
  {
   "cell_type": "code",
   "execution_count": 106,
   "id": "0326d6e5",
   "metadata": {},
   "outputs": [
    {
     "data": {
      "text/plain": [
       "0    2\n",
       "1    4\n",
       "2    6\n",
       "3    8\n",
       "dtype: int64"
      ]
     },
     "execution_count": 106,
     "metadata": {},
     "output_type": "execute_result"
    }
   ],
   "source": [
    "a_map = a.map(lambda x : x*2)\n",
    "a_map"
   ]
  },
  {
   "cell_type": "markdown",
   "id": "55a9be98",
   "metadata": {},
   "source": [
    "### 5-2. One-Hot Encoding\n",
    "- 성별을 남/여로 나누어 각각의 열로 변환\n",
    "- One-Hot Encoding은 범주형 데이터를 이진 변수로 변환하여, 각 범주를 독립적인 열로 만듦"
   ]
  },
  {
   "cell_type": "code",
   "execution_count": null,
   "id": "70bf1d0f",
   "metadata": {},
   "outputs": [],
   "source": [
    "person_data ={\n",
    "    '이름' :['김철수','이영희','박민수','최지혜','정현우'],\n",
    "    '성별' : ['남','여','남','여','남']\n",
    "}\n",
    "person_df = pd.DataFrame(person_data)\n",
    "person_df"
   ]
  },
  {
   "cell_type": "code",
   "execution_count": 107,
   "id": "82c05dd8",
   "metadata": {},
   "outputs": [
    {
     "data": {
      "text/html": [
       "<div>\n",
       "<style scoped>\n",
       "    .dataframe tbody tr th:only-of-type {\n",
       "        vertical-align: middle;\n",
       "    }\n",
       "\n",
       "    .dataframe tbody tr th {\n",
       "        vertical-align: top;\n",
       "    }\n",
       "\n",
       "    .dataframe thead th {\n",
       "        text-align: right;\n",
       "    }\n",
       "</style>\n",
       "<table border=\"1\" class=\"dataframe\">\n",
       "  <thead>\n",
       "    <tr style=\"text-align: right;\">\n",
       "      <th></th>\n",
       "      <th>이름</th>\n",
       "      <th>성별_라벨링</th>\n",
       "      <th>성별_남</th>\n",
       "      <th>성별_여</th>\n",
       "    </tr>\n",
       "  </thead>\n",
       "  <tbody>\n",
       "    <tr>\n",
       "      <th>0</th>\n",
       "      <td>김철수</td>\n",
       "      <td>1</td>\n",
       "      <td>True</td>\n",
       "      <td>False</td>\n",
       "    </tr>\n",
       "    <tr>\n",
       "      <th>1</th>\n",
       "      <td>이영희</td>\n",
       "      <td>0</td>\n",
       "      <td>False</td>\n",
       "      <td>True</td>\n",
       "    </tr>\n",
       "    <tr>\n",
       "      <th>2</th>\n",
       "      <td>박민수</td>\n",
       "      <td>1</td>\n",
       "      <td>True</td>\n",
       "      <td>False</td>\n",
       "    </tr>\n",
       "    <tr>\n",
       "      <th>3</th>\n",
       "      <td>최지혜</td>\n",
       "      <td>0</td>\n",
       "      <td>False</td>\n",
       "      <td>True</td>\n",
       "    </tr>\n",
       "    <tr>\n",
       "      <th>4</th>\n",
       "      <td>정현우</td>\n",
       "      <td>1</td>\n",
       "      <td>True</td>\n",
       "      <td>False</td>\n",
       "    </tr>\n",
       "  </tbody>\n",
       "</table>\n",
       "</div>"
      ],
      "text/plain": [
       "    이름  성별_라벨링   성별_남   성별_여\n",
       "0  김철수       1   True  False\n",
       "1  이영희       0  False   True\n",
       "2  박민수       1   True  False\n",
       "3  최지혜       0  False   True\n",
       "4  정현우       1   True  False"
      ]
     },
     "execution_count": 107,
     "metadata": {},
     "output_type": "execute_result"
    }
   ],
   "source": [
    "df_onehot = pd.get_dummies(person_df, columns=['성별']) # True, Flase 로 출력해 줌 (너무 많은 자료들을 인코딩할때는 적합하지 않을 수 있다)\n",
    "df_onehot"
   ]
  },
  {
   "cell_type": "markdown",
   "id": "4f9c31f3",
   "metadata": {},
   "source": [
    "## 6. 통계적 검정\n",
    "- 데이터를 바탕으로 하여 특정 가설이 `참`인지 `거짓`인지를 판단하는 과정\n",
    "- 일반적으로 두 집단 간의 차이를 비교하거나, 변수 간의 관계를 분석할 때 사용  \n",
    "\n",
    "|용어|설명|\n",
    "|--|--|\n",
    "|모집단|전체 데이터를 의미하며, 분석 대상이 되는 큰 그룹.|\n",
    "|표본|모집단에서 선택한 일부 데이터를 의미함.|\n",
    "|귀무가설(H0)|차이가 없거나 관계가 없다고 가정하는 기본 가설.|\n",
    "|대립가설(H1)|차이가 있거나 관계가 있다는 가정.|\n",
    "|유의수준(α)|보통 0.05로 설정하며, 결과가 우연일 가능성을 의미함.|\n",
    "|p-value|귀무가설이 맞다는 전제하에 데이터가 관측될 확률.|\n"
   ]
  },
  {
   "cell_type": "markdown",
   "id": "07a97357",
   "metadata": {},
   "source": [
    "## 7. T-TEST\n",
    "- 두 그룹 간의 평균 차이를 비교하는 통계 방법\n",
    "- p-value가 0.05보다 작으면 두 그룹 간의 차이가 유의미하다고 판단"
   ]
  },
  {
   "cell_type": "code",
   "execution_count": 108,
   "id": "02ea481a",
   "metadata": {},
   "outputs": [],
   "source": [
    "import numpy as np\n",
    "from scipy.stats import ttest_ind, f_oneway, chi2_contingency"
   ]
  },
  {
   "cell_type": "code",
   "execution_count": 109,
   "id": "ceec05e9",
   "metadata": {},
   "outputs": [
    {
     "data": {
      "text/plain": [
       "[66.17702280643056,\n",
       " 61.00059446818497,\n",
       " 73.8852423944694,\n",
       " 83.41801882055643,\n",
       " 77.80063775963977,\n",
       " 90.04098086767405,\n",
       " 72.1343157315989,\n",
       " 82.50010083237227,\n",
       " 74.68756118084258,\n",
       " 80.99350051475417]"
      ]
     },
     "execution_count": 109,
     "metadata": {},
     "output_type": "execute_result"
    }
   ],
   "source": [
    "np.random.normal(80, 10, 10).tolist() # 평균, 표준편차, 데이터갯수"
   ]
  },
  {
   "cell_type": "code",
   "execution_count": 111,
   "id": "91a14d00",
   "metadata": {},
   "outputs": [
    {
     "data": {
      "text/html": [
       "<div>\n",
       "<style scoped>\n",
       "    .dataframe tbody tr th:only-of-type {\n",
       "        vertical-align: middle;\n",
       "    }\n",
       "\n",
       "    .dataframe tbody tr th {\n",
       "        vertical-align: top;\n",
       "    }\n",
       "\n",
       "    .dataframe thead th {\n",
       "        text-align: right;\n",
       "    }\n",
       "</style>\n",
       "<table border=\"1\" class=\"dataframe\">\n",
       "  <thead>\n",
       "    <tr style=\"text-align: right;\">\n",
       "      <th></th>\n",
       "      <th>성별</th>\n",
       "      <th>점수</th>\n",
       "    </tr>\n",
       "  </thead>\n",
       "  <tbody>\n",
       "    <tr>\n",
       "      <th>0</th>\n",
       "      <td>남</td>\n",
       "      <td>76.076447</td>\n",
       "    </tr>\n",
       "    <tr>\n",
       "      <th>1</th>\n",
       "      <td>남</td>\n",
       "      <td>78.311272</td>\n",
       "    </tr>\n",
       "    <tr>\n",
       "      <th>2</th>\n",
       "      <td>남</td>\n",
       "      <td>57.211448</td>\n",
       "    </tr>\n",
       "    <tr>\n",
       "      <th>3</th>\n",
       "      <td>남</td>\n",
       "      <td>81.156143</td>\n",
       "    </tr>\n",
       "    <tr>\n",
       "      <th>4</th>\n",
       "      <td>남</td>\n",
       "      <td>57.372790</td>\n",
       "    </tr>\n",
       "  </tbody>\n",
       "</table>\n",
       "</div>"
      ],
      "text/plain": [
       "  성별         점수\n",
       "0  남  76.076447\n",
       "1  남  78.311272\n",
       "2  남  57.211448\n",
       "3  남  81.156143\n",
       "4  남  57.372790"
      ]
     },
     "execution_count": 111,
     "metadata": {},
     "output_type": "execute_result"
    }
   ],
   "source": [
    "data_ttest = pd.DataFrame({\n",
    "    '성별' : ['남'] *10 + ['여'] * 10,\n",
    "    '점수' : np.random.normal(75, 10, 10).tolist() + np.random.normal(80, 10, 10).tolist()\n",
    "})\n",
    "data_ttest.head()"
   ]
  },
  {
   "cell_type": "code",
   "execution_count": 113,
   "id": "cbf3fa02",
   "metadata": {},
   "outputs": [
    {
     "data": {
      "text/plain": [
       "0    76.076447\n",
       "1    78.311272\n",
       "2    57.211448\n",
       "3    81.156143\n",
       "4    57.372790\n",
       "5    82.369677\n",
       "6    80.328666\n",
       "7    84.824334\n",
       "8    71.677342\n",
       "9    82.014294\n",
       "Name: 점수, dtype: float64"
      ]
     },
     "execution_count": 113,
     "metadata": {},
     "output_type": "execute_result"
    }
   ],
   "source": [
    "man = data_ttest[data_ttest['성별'] == '남']['점수']\n",
    "man"
   ]
  },
  {
   "cell_type": "code",
   "execution_count": 114,
   "id": "725bafa5",
   "metadata": {},
   "outputs": [
    {
     "data": {
      "text/plain": [
       "10     67.353055\n",
       "11     92.106212\n",
       "12     79.207433\n",
       "13     84.774463\n",
       "14     81.526279\n",
       "15     75.742775\n",
       "16    103.249683\n",
       "17     82.493760\n",
       "18     74.944157\n",
       "19     97.619003\n",
       "Name: 점수, dtype: float64"
      ]
     },
     "execution_count": 114,
     "metadata": {},
     "output_type": "execute_result"
    }
   ],
   "source": [
    "woman = data_ttest[data_ttest['성별'] == '여']['점수']\n",
    "woman"
   ]
  },
  {
   "cell_type": "code",
   "execution_count": 115,
   "id": "727efdcd",
   "metadata": {},
   "outputs": [],
   "source": [
    "t_stat, p_vel = ttest_ind(man, woman)"
   ]
  },
  {
   "cell_type": "code",
   "execution_count": 116,
   "id": "06bdea3f",
   "metadata": {},
   "outputs": [
    {
     "name": "stdout",
     "output_type": "stream",
     "text": [
      "p-value : 0.0791471533051642\n"
     ]
    }
   ],
   "source": [
    "print(f'p-value : {p_vel}')\n",
    "# 유의수즌 0.05 라는 값을 주로 설정합니다.\n",
    "# 우리가 관측한 p-value의 값이 0.05보다 작은 경우, 두 그룹의 평균에 유의미한 차이가 있다고 판단\n",
    "# 귀무가설 : 두 집단 사이에 유의미한 차이가 없다\n",
    "# 두 집단에 유의미한 차이가 있다 : 귀무가설을 기각하는 경우"
   ]
  },
  {
   "cell_type": "code",
   "execution_count": 125,
   "id": "af261bbd",
   "metadata": {},
   "outputs": [
    {
     "data": {
      "text/html": [
       "<div>\n",
       "<style scoped>\n",
       "    .dataframe tbody tr th:only-of-type {\n",
       "        vertical-align: middle;\n",
       "    }\n",
       "\n",
       "    .dataframe tbody tr th {\n",
       "        vertical-align: top;\n",
       "    }\n",
       "\n",
       "    .dataframe thead th {\n",
       "        text-align: right;\n",
       "    }\n",
       "</style>\n",
       "<table border=\"1\" class=\"dataframe\">\n",
       "  <thead>\n",
       "    <tr style=\"text-align: right;\">\n",
       "      <th></th>\n",
       "      <th>그룹</th>\n",
       "      <th>점수</th>\n",
       "    </tr>\n",
       "  </thead>\n",
       "  <tbody>\n",
       "    <tr>\n",
       "      <th>0</th>\n",
       "      <td>A</td>\n",
       "      <td>73.213095</td>\n",
       "    </tr>\n",
       "    <tr>\n",
       "      <th>1</th>\n",
       "      <td>A</td>\n",
       "      <td>86.813953</td>\n",
       "    </tr>\n",
       "    <tr>\n",
       "      <th>2</th>\n",
       "      <td>A</td>\n",
       "      <td>91.218982</td>\n",
       "    </tr>\n",
       "    <tr>\n",
       "      <th>3</th>\n",
       "      <td>A</td>\n",
       "      <td>83.166485</td>\n",
       "    </tr>\n",
       "    <tr>\n",
       "      <th>4</th>\n",
       "      <td>A</td>\n",
       "      <td>88.080827</td>\n",
       "    </tr>\n",
       "  </tbody>\n",
       "</table>\n",
       "</div>"
      ],
      "text/plain": [
       "  그룹         점수\n",
       "0  A  73.213095\n",
       "1  A  86.813953\n",
       "2  A  91.218982\n",
       "3  A  83.166485\n",
       "4  A  88.080827"
      ]
     },
     "execution_count": 125,
     "metadata": {},
     "output_type": "execute_result"
    }
   ],
   "source": [
    "# ANOVA : 세 그룹 간 평균을 비교\n",
    "data_anova = pd.DataFrame({\n",
    "    '그룹' : ['A']* 10 + ['B']* 10 + ['C'] * 10,\n",
    "    '점수' : np.random.normal(70, 10, 10).tolist() + np.random.normal(75, 10, 10).tolist() + np.random.normal(80, 10, 10).tolist()\n",
    "})\n",
    "data_anova.head()"
   ]
  },
  {
   "cell_type": "code",
   "execution_count": 126,
   "id": "af5bd712",
   "metadata": {},
   "outputs": [],
   "source": [
    "group_a = data_anova[data_anova['그룹'] == 'A']['점수']\n",
    "group_b = data_anova[data_anova['그룹'] == 'B']['점수']\n",
    "group_c = data_anova[data_anova['그룹'] == 'C']['점수']"
   ]
  },
  {
   "cell_type": "code",
   "execution_count": 127,
   "id": "8916bc6e",
   "metadata": {},
   "outputs": [
    {
     "name": "stdout",
     "output_type": "stream",
     "text": [
      "p-velue : 0.2890874302851057\n"
     ]
    }
   ],
   "source": [
    "f_stat, p_val = f_oneway(group_a, group_b, group_c) # f_stat가 크면 집단간의 차이가 크다, 작으면 집단간 차이가 작다\n",
    "print(f'p-velue : {p_val}')\n",
    "# 유의수준인 0.05보다 큰 p-value, 세 그룹 사이에 유의미한 차이가 없다 라고 볼 수 있음"
   ]
  },
  {
   "cell_type": "code",
   "execution_count": 128,
   "id": "a2cb8986",
   "metadata": {},
   "outputs": [
    {
     "data": {
      "text/html": [
       "<div>\n",
       "<style scoped>\n",
       "    .dataframe tbody tr th:only-of-type {\n",
       "        vertical-align: middle;\n",
       "    }\n",
       "\n",
       "    .dataframe tbody tr th {\n",
       "        vertical-align: top;\n",
       "    }\n",
       "\n",
       "    .dataframe thead th {\n",
       "        text-align: right;\n",
       "    }\n",
       "</style>\n",
       "<table border=\"1\" class=\"dataframe\">\n",
       "  <thead>\n",
       "    <tr style=\"text-align: right;\">\n",
       "      <th></th>\n",
       "      <th>지역</th>\n",
       "      <th>만족도</th>\n",
       "    </tr>\n",
       "  </thead>\n",
       "  <tbody>\n",
       "    <tr>\n",
       "      <th>0</th>\n",
       "      <td>서울</td>\n",
       "      <td>만족</td>\n",
       "    </tr>\n",
       "    <tr>\n",
       "      <th>1</th>\n",
       "      <td>서울</td>\n",
       "      <td>만족</td>\n",
       "    </tr>\n",
       "    <tr>\n",
       "      <th>2</th>\n",
       "      <td>서울</td>\n",
       "      <td>만족</td>\n",
       "    </tr>\n",
       "    <tr>\n",
       "      <th>3</th>\n",
       "      <td>서울</td>\n",
       "      <td>만족</td>\n",
       "    </tr>\n",
       "    <tr>\n",
       "      <th>4</th>\n",
       "      <td>서울</td>\n",
       "      <td>만족</td>\n",
       "    </tr>\n",
       "  </tbody>\n",
       "</table>\n",
       "</div>"
      ],
      "text/plain": [
       "   지역 만족도\n",
       "0  서울  만족\n",
       "1  서울  만족\n",
       "2  서울  만족\n",
       "3  서울  만족\n",
       "4  서울  만족"
      ]
     },
     "execution_count": 128,
     "metadata": {},
     "output_type": "execute_result"
    }
   ],
   "source": [
    "# 카이제곱검정, 범주형 변수간의 독립성을 검정\n",
    "# 고객이 만족도 조사를 했는데, 그 조사를 한 지역이 서울과 부산으로 두 가지 입니다.\n",
    "data_chi2 = pd.DataFrame({\n",
    "    '지역' : ['서울']*50 + ['부산']*50,\n",
    "    '만족도' : ['만족']*30 + ['불만족']*20 +['만족']*25 +['만족']*25\n",
    "})\n",
    "data_chi2.head()"
   ]
  },
  {
   "cell_type": "code",
   "execution_count": 131,
   "id": "d200cba4",
   "metadata": {},
   "outputs": [
    {
     "data": {
      "text/html": [
       "<div>\n",
       "<style scoped>\n",
       "    .dataframe tbody tr th:only-of-type {\n",
       "        vertical-align: middle;\n",
       "    }\n",
       "\n",
       "    .dataframe tbody tr th {\n",
       "        vertical-align: top;\n",
       "    }\n",
       "\n",
       "    .dataframe thead th {\n",
       "        text-align: right;\n",
       "    }\n",
       "</style>\n",
       "<table border=\"1\" class=\"dataframe\">\n",
       "  <thead>\n",
       "    <tr style=\"text-align: right;\">\n",
       "      <th>만족도</th>\n",
       "      <th>만족</th>\n",
       "      <th>불만족</th>\n",
       "    </tr>\n",
       "    <tr>\n",
       "      <th>지역</th>\n",
       "      <th></th>\n",
       "      <th></th>\n",
       "    </tr>\n",
       "  </thead>\n",
       "  <tbody>\n",
       "    <tr>\n",
       "      <th>부산</th>\n",
       "      <td>50</td>\n",
       "      <td>0</td>\n",
       "    </tr>\n",
       "    <tr>\n",
       "      <th>서울</th>\n",
       "      <td>30</td>\n",
       "      <td>20</td>\n",
       "    </tr>\n",
       "  </tbody>\n",
       "</table>\n",
       "</div>"
      ],
      "text/plain": [
       "만족도  만족  불만족\n",
       "지역          \n",
       "부산   50    0\n",
       "서울   30   20"
      ]
     },
     "execution_count": 131,
     "metadata": {},
     "output_type": "execute_result"
    }
   ],
   "source": [
    "cross_table = pd.crosstab(data_chi2['지역'], data_chi2['만족도'])\n",
    "cross_table"
   ]
  },
  {
   "cell_type": "code",
   "execution_count": null,
   "id": "047fa830",
   "metadata": {},
   "outputs": [],
   "source": [
    "chi2, p_val_chi2, _, __ = chi2_contingency(cross_table) # 언더바는 안볼거니까 사용"
   ]
  },
  {
   "cell_type": "code",
   "execution_count": 143,
   "id": "4c0207c2",
   "metadata": {},
   "outputs": [
    {
     "name": "stdout",
     "output_type": "stream",
     "text": [
      "chi2-statisctic : 22.5625, p-value : 2.034166485137406e-06\n"
     ]
    }
   ],
   "source": [
    "print(f'chi2-statisctic : {chi2}, p-value : {p_val_chi2}')\n",
    "# p-value가 유의수준인 0.05보다 크기 때문에 두 변수 간의 관계가 통계적으로 유의미하지 않다\n",
    "# 결론 : 두 변수는 독립적이다"
   ]
  },
  {
   "cell_type": "code",
   "execution_count": 133,
   "id": "50f78cba",
   "metadata": {},
   "outputs": [
    {
     "data": {
      "text/html": [
       "<div>\n",
       "<style scoped>\n",
       "    .dataframe tbody tr th:only-of-type {\n",
       "        vertical-align: middle;\n",
       "    }\n",
       "\n",
       "    .dataframe tbody tr th {\n",
       "        vertical-align: top;\n",
       "    }\n",
       "\n",
       "    .dataframe thead th {\n",
       "        text-align: right;\n",
       "    }\n",
       "</style>\n",
       "<table border=\"1\" class=\"dataframe\">\n",
       "  <thead>\n",
       "    <tr style=\"text-align: right;\">\n",
       "      <th></th>\n",
       "      <th>Sepal.Length</th>\n",
       "      <th>Sepal.Width</th>\n",
       "      <th>Petal.Length</th>\n",
       "      <th>Petal.Width</th>\n",
       "      <th>Species</th>\n",
       "    </tr>\n",
       "  </thead>\n",
       "  <tbody>\n",
       "    <tr>\n",
       "      <th>1</th>\n",
       "      <td>5.1</td>\n",
       "      <td>3.5</td>\n",
       "      <td>1.4</td>\n",
       "      <td>0.2</td>\n",
       "      <td>setosa</td>\n",
       "    </tr>\n",
       "    <tr>\n",
       "      <th>2</th>\n",
       "      <td>4.9</td>\n",
       "      <td>3.0</td>\n",
       "      <td>1.4</td>\n",
       "      <td>0.2</td>\n",
       "      <td>setosa</td>\n",
       "    </tr>\n",
       "    <tr>\n",
       "      <th>3</th>\n",
       "      <td>4.7</td>\n",
       "      <td>3.2</td>\n",
       "      <td>1.3</td>\n",
       "      <td>0.2</td>\n",
       "      <td>setosa</td>\n",
       "    </tr>\n",
       "    <tr>\n",
       "      <th>4</th>\n",
       "      <td>4.6</td>\n",
       "      <td>3.1</td>\n",
       "      <td>1.5</td>\n",
       "      <td>0.2</td>\n",
       "      <td>setosa</td>\n",
       "    </tr>\n",
       "    <tr>\n",
       "      <th>5</th>\n",
       "      <td>5.0</td>\n",
       "      <td>3.6</td>\n",
       "      <td>1.4</td>\n",
       "      <td>0.2</td>\n",
       "      <td>setosa</td>\n",
       "    </tr>\n",
       "  </tbody>\n",
       "</table>\n",
       "</div>"
      ],
      "text/plain": [
       "   Sepal.Length  Sepal.Width  Petal.Length  Petal.Width Species\n",
       "1           5.1          3.5           1.4          0.2  setosa\n",
       "2           4.9          3.0           1.4          0.2  setosa\n",
       "3           4.7          3.2           1.3          0.2  setosa\n",
       "4           4.6          3.1           1.5          0.2  setosa\n",
       "5           5.0          3.6           1.4          0.2  setosa"
      ]
     },
     "execution_count": 133,
     "metadata": {},
     "output_type": "execute_result"
    }
   ],
   "source": [
    "iris = data('iris')\n",
    "iris.head()\n",
    "# 꽃받침 길이, 꽃받침 너비, 꽃잎 길이, 꽃잎 너비, 꽃 종류"
   ]
  },
  {
   "cell_type": "code",
   "execution_count": 144,
   "id": "ff49a05f",
   "metadata": {},
   "outputs": [
    {
     "data": {
      "text/plain": [
       "array(['setosa', 'versicolor', 'virginica'], dtype=object)"
      ]
     },
     "execution_count": 144,
     "metadata": {},
     "output_type": "execute_result"
    }
   ],
   "source": [
    "iris['Species'].unique()"
   ]
  },
  {
   "cell_type": "markdown",
   "id": "39599438",
   "metadata": {},
   "source": [
    "\n",
    "## 🌼마무리 문제\n",
    "\n",
    "아래 문제들을 풀어보세요!\n",
    "\n",
    "Q1. 가상의 헬스앱에서 친구들이 공유한 운동 기록 데이터를 분석합니다. 일부 운동기록에서 누락된 중요한 정보가 있습니다. 이 때 데이터를 정리하기 위해 결측치를 찾아서 처리해보세요\n",
    "* fitness.csv"
   ]
  },
  {
   "cell_type": "code",
   "execution_count": null,
   "id": "f0c2f910",
   "metadata": {},
   "outputs": [],
   "source": []
  },
  {
   "cell_type": "markdown",
   "id": "c91ef0da",
   "metadata": {},
   "source": [
    "Q2. 걸음 수와 소모 칼로리 컬럼의 값을 Min-Max Scaling하여 정규화하세요"
   ]
  },
  {
   "cell_type": "code",
   "execution_count": null,
   "id": "25198357",
   "metadata": {},
   "outputs": [],
   "source": []
  },
  {
   "cell_type": "markdown",
   "id": "60162040",
   "metadata": {},
   "source": [
    "Q3. 걸음 수나 소모 칼로리가 너무 높은 값을 기록한 데이터를 확인해보세요. 박스플롯을 그려보고 이상치를 탐색하여 처리해보세요"
   ]
  },
  {
   "cell_type": "code",
   "execution_count": null,
   "id": "d62d897e",
   "metadata": {},
   "outputs": [],
   "source": []
  },
  {
   "cell_type": "markdown",
   "id": "b7a0a0b9",
   "metadata": {},
   "source": [
    "Q4. 데이터를 분석하기 전에 운동 시간과 소모 칼로리를 표준화해보세요"
   ]
  },
  {
   "cell_type": "code",
   "execution_count": null,
   "id": "cda21b31",
   "metadata": {},
   "outputs": [],
   "source": []
  },
  {
   "cell_type": "markdown",
   "id": "649821b2",
   "metadata": {},
   "source": [
    "Q5. 결측치와 이상치를 처리하고, 걸음 수와 소모 칼로리에 대해 정규화 및 표준화를 수행한 후. 성별을 인코딩하여 범주형 데이터를 처리해보세요"
   ]
  },
  {
   "cell_type": "code",
   "execution_count": null,
   "id": "731d2d29",
   "metadata": {},
   "outputs": [],
   "source": []
  },
  {
   "cell_type": "code",
   "execution_count": null,
   "id": "671b28bb",
   "metadata": {},
   "outputs": [],
   "source": []
  }
 ],
 "metadata": {
  "kernelspec": {
   "display_name": "test_env",
   "language": "python",
   "name": "python3"
  },
  "language_info": {
   "codemirror_mode": {
    "name": "ipython",
    "version": 3
   },
   "file_extension": ".py",
   "mimetype": "text/x-python",
   "name": "python",
   "nbconvert_exporter": "python",
   "pygments_lexer": "ipython3",
   "version": "3.9.20"
  }
 },
 "nbformat": 4,
 "nbformat_minor": 5
}
