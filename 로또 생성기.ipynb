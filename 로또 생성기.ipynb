{
 "cells": [
  {
   "cell_type": "code",
   "execution_count": 3,
   "metadata": {},
   "outputs": [
    {
     "name": "stdout",
     "output_type": "stream",
     "text": [
      "선택된 숫자들: [16, 39, 8, 23, 26, 1]\n"
     ]
    }
   ],
   "source": [
    "import random\n",
    "\n",
    "# 그룹 정의\n",
    "a_group = [4, 5, 7, 8, 9, 10, 12, 13, 15, 16, 18, 20, 21, 38, 39, 41, 42, 44, 45]\n",
    "b_group = [1, 2, 3, 6, 11, 14, 17, 22, 23, 24, 25, 26, 27, 28, 29, 30, 32, 33, 34, 35, 36, 37, 40, 43]\n",
    "c_group = [2, 8, 12, 15, 18, 19, 20, 23, 24, 25, 26, 27, 29, 31, 38, 39, 40, 42, 43, 45]\n",
    "\n",
    "# 반복문을 통해 조건에 맞는 6개 숫자 찾기\n",
    "while True:\n",
    "    # a에서 3개, b에서 3개 뽑기\n",
    "    selected_a = random.sample(a_group, 3)\n",
    "    selected_b = random.sample(b_group, 3)\n",
    "\n",
    "    # 6개의 숫자 만들기\n",
    "    selected_numbers = selected_a + selected_b\n",
    "\n",
    "    # 6개 숫자 중 c 그룹에 속하는 숫자 개수 확인\n",
    "    c_count = sum(1 for num in selected_numbers if num in c_group)\n",
    "\n",
    "    # c 그룹에 속한 숫자가 4개 이상인 경우 출력\n",
    "    if c_count >= 4:\n",
    "        print(\"선택된 숫자들:\", selected_numbers)\n",
    "        break\n"
   ]
  },
  {
   "cell_type": "code",
   "execution_count": null,
   "metadata": {},
   "outputs": [],
   "source": []
  },
  {
   "cell_type": "code",
   "execution_count": null,
   "metadata": {},
   "outputs": [],
   "source": []
  }
 ],
 "metadata": {
  "kernelspec": {
   "display_name": "tensor_env",
   "language": "python",
   "name": "python3"
  },
  "language_info": {
   "codemirror_mode": {
    "name": "ipython",
    "version": 3
   },
   "file_extension": ".py",
   "mimetype": "text/x-python",
   "name": "python",
   "nbconvert_exporter": "python",
   "pygments_lexer": "ipython3",
   "version": "3.9.20"
  }
 },
 "nbformat": 4,
 "nbformat_minor": 2
}
