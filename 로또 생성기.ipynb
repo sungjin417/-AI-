{
 "cells": [
  {
   "cell_type": "code",
   "execution_count": 2,
   "metadata": {},
   "outputs": [
    {
     "name": "stdout",
     "output_type": "stream",
     "text": [
      "선택된 숫자들: [9, 13, 6, 12, 17, 16]\n",
      "a_group에서 선택된 숫자: [9, 13, 6, 12]\n",
      "b_group에서 선택된 숫자: [17, 16]\n",
      "c_group에서 선택된 숫자: [13, 6, 17, 16] (총 4개)\n",
      "홀수 개수: 3, 짝수 개수: 3\n"
     ]
    }
   ],
   "source": [
    "import random\n",
    "\n",
    "# 그룹 정의\n",
    "\n",
    "# 이웃수\n",
    "a_group = [5, 6, 8, 9, 10, 12, 13, 22, 23, 25, 28, 29, 35, 36, 38, 39]\n",
    "# 이웃수 제외한 나머지 \n",
    "b_group = [1, 2, 3, 4, 7, 11, 14, 15, 16, 17, 18, 19, 20, 21, 24, 26, 27, 30, 31, 32, 33, 34, 37, 40, 41, 42, 43, 44, 45] \n",
    "# 인터넷\n",
    "c_group = [1, 2, 3, 4, 6, 8, 11, 13, 14, 15, 16, 17, 20, 22, 23, 25, 26, 27, 30, 31, 36, 37, 43, 44] \n",
    "\n",
    "# 조건을 만족하는 6개 숫자 찾기\n",
    "while True:\n",
    "    # a_group과 b_group에서 각각 2~4개 선택\n",
    "    a_count = random.randint(2, 4)  # a_group에서 선택할 개수 (2~4개)\n",
    "    b_count = 6 - a_count           # b_group에서 선택할 개수 (6에서 a_count를 뺀 값, 2~4개)\n",
    "\n",
    "    # a_group과 b_group에서 각각 숫자 선택\n",
    "    selected_a = random.sample(a_group, a_count)\n",
    "    selected_b = random.sample(b_group, b_count)\n",
    "\n",
    "    # 최종 6개의 숫자\n",
    "    selected_numbers = selected_a + selected_b\n",
    "\n",
    "    # 선택된 숫자 중 c_group에 속하는 숫자 확인\n",
    "    selected_c = [num for num in selected_numbers if num in c_group]\n",
    "    c_count = len(selected_c)\n",
    "\n",
    "    # 홀수와 짝수의 개수 확인\n",
    "    odd_count = sum(1 for num in selected_numbers if num % 2 != 0)\n",
    "    even_count = 6 - odd_count\n",
    "\n",
    "    # 조건을 만족하면 출력 후 종료\n",
    "    if c_count >= 4:\n",
    "        print(\"선택된 숫자들:\", selected_numbers)\n",
    "        print(f\"a_group에서 선택된 숫자: {selected_a}\")\n",
    "        print(f\"b_group에서 선택된 숫자: {selected_b}\")\n",
    "        print(f\"c_group에서 선택된 숫자: {selected_c} (총 {c_count}개)\")\n",
    "        print(f\"홀수 개수: {odd_count}, 짝수 개수: {even_count}\")\n",
    "        break\n"
   ]
  },
  {
   "cell_type": "code",
   "execution_count": null,
   "metadata": {},
   "outputs": [],
   "source": []
  },
  {
   "cell_type": "code",
   "execution_count": null,
   "metadata": {},
   "outputs": [],
   "source": []
  }
 ],
 "metadata": {
  "kernelspec": {
   "display_name": "langchain",
   "language": "python",
   "name": "python3"
  },
  "language_info": {
   "codemirror_mode": {
    "name": "ipython",
    "version": 3
   },
   "file_extension": ".py",
   "mimetype": "text/x-python",
   "name": "python",
   "nbconvert_exporter": "python",
   "pygments_lexer": "ipython3",
   "version": "3.11.10"
  }
 },
 "nbformat": 4,
 "nbformat_minor": 2
}
