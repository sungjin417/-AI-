{
 "cells": [
  {
   "cell_type": "markdown",
   "metadata": {},
   "source": [
    "\n",
    "# 🌼 대규모 LLM을 활용한 지식 챗봇 개발(2) - 4차시(24.11.26)\n",
    "\n",
    "---"
   ]
  },
  {
   "cell_type": "code",
   "execution_count": 1,
   "metadata": {},
   "outputs": [
    {
     "name": "stdout",
     "output_type": "stream",
     "text": [
      "Collecting google-generativeai\n",
      "  Downloading google_generativeai-0.8.3-py3-none-any.whl.metadata (3.9 kB)\n",
      "Collecting google-ai-generativelanguage==0.6.10 (from google-generativeai)\n",
      "  Downloading google_ai_generativelanguage-0.6.10-py3-none-any.whl.metadata (5.6 kB)\n",
      "Collecting google-api-core (from google-generativeai)\n",
      "  Downloading google_api_core-2.23.0-py3-none-any.whl.metadata (3.0 kB)\n",
      "Collecting google-api-python-client (from google-generativeai)\n",
      "  Downloading google_api_python_client-2.154.0-py2.py3-none-any.whl.metadata (6.7 kB)\n",
      "Requirement already satisfied: google-auth>=2.15.0 in c:\\users\\rmarket\\anaconda3\\envs\\tensor_env\\lib\\site-packages (from google-generativeai) (2.36.0)\n",
      "Requirement already satisfied: protobuf in c:\\users\\rmarket\\anaconda3\\envs\\tensor_env\\lib\\site-packages (from google-generativeai) (3.19.6)\n",
      "Requirement already satisfied: pydantic in c:\\users\\rmarket\\anaconda3\\envs\\tensor_env\\lib\\site-packages (from google-generativeai) (2.10.1)\n",
      "Requirement already satisfied: tqdm in c:\\users\\rmarket\\anaconda3\\envs\\tensor_env\\lib\\site-packages (from google-generativeai) (4.67.0)\n",
      "Requirement already satisfied: typing-extensions in c:\\users\\rmarket\\anaconda3\\envs\\tensor_env\\lib\\site-packages (from google-generativeai) (4.12.2)\n",
      "Collecting proto-plus<2.0.0dev,>=1.22.3 (from google-ai-generativelanguage==0.6.10->google-generativeai)\n",
      "  Downloading proto_plus-1.25.0-py3-none-any.whl.metadata (2.2 kB)\n",
      "Collecting protobuf (from google-generativeai)\n",
      "  Using cached protobuf-5.28.3-cp39-cp39-win_amd64.whl.metadata (592 bytes)\n",
      "Collecting googleapis-common-protos<2.0.dev0,>=1.56.2 (from google-api-core->google-generativeai)\n",
      "  Downloading googleapis_common_protos-1.66.0-py2.py3-none-any.whl.metadata (1.5 kB)\n",
      "Requirement already satisfied: requests<3.0.0.dev0,>=2.18.0 in c:\\users\\rmarket\\anaconda3\\envs\\tensor_env\\lib\\site-packages (from google-api-core->google-generativeai) (2.32.3)\n",
      "Requirement already satisfied: cachetools<6.0,>=2.0.0 in c:\\users\\rmarket\\anaconda3\\envs\\tensor_env\\lib\\site-packages (from google-auth>=2.15.0->google-generativeai) (5.5.0)\n",
      "Requirement already satisfied: pyasn1-modules>=0.2.1 in c:\\users\\rmarket\\anaconda3\\envs\\tensor_env\\lib\\site-packages (from google-auth>=2.15.0->google-generativeai) (0.4.1)\n",
      "Requirement already satisfied: rsa<5,>=3.1.4 in c:\\users\\rmarket\\anaconda3\\envs\\tensor_env\\lib\\site-packages (from google-auth>=2.15.0->google-generativeai) (4.9)\n",
      "Collecting httplib2<1.dev0,>=0.19.0 (from google-api-python-client->google-generativeai)\n",
      "  Downloading httplib2-0.22.0-py3-none-any.whl.metadata (2.6 kB)\n",
      "Collecting google-auth-httplib2<1.0.0,>=0.2.0 (from google-api-python-client->google-generativeai)\n",
      "  Downloading google_auth_httplib2-0.2.0-py2.py3-none-any.whl.metadata (2.2 kB)\n",
      "Collecting uritemplate<5,>=3.0.1 (from google-api-python-client->google-generativeai)\n",
      "  Downloading uritemplate-4.1.1-py2.py3-none-any.whl.metadata (2.9 kB)\n",
      "Requirement already satisfied: annotated-types>=0.6.0 in c:\\users\\rmarket\\anaconda3\\envs\\tensor_env\\lib\\site-packages (from pydantic->google-generativeai) (0.7.0)\n",
      "Requirement already satisfied: pydantic-core==2.27.1 in c:\\users\\rmarket\\anaconda3\\envs\\tensor_env\\lib\\site-packages (from pydantic->google-generativeai) (2.27.1)\n",
      "Requirement already satisfied: colorama in c:\\users\\rmarket\\anaconda3\\envs\\tensor_env\\lib\\site-packages (from tqdm->google-generativeai) (0.4.6)\n",
      "Requirement already satisfied: grpcio<2.0dev,>=1.33.2 in c:\\users\\rmarket\\anaconda3\\envs\\tensor_env\\lib\\site-packages (from google-api-core[grpc]!=2.0.*,!=2.1.*,!=2.10.*,!=2.2.*,!=2.3.*,!=2.4.*,!=2.5.*,!=2.6.*,!=2.7.*,!=2.8.*,!=2.9.*,<3.0.0dev,>=1.34.1->google-ai-generativelanguage==0.6.10->google-generativeai) (1.67.1)\n",
      "Collecting grpcio-status<2.0.dev0,>=1.33.2 (from google-api-core[grpc]!=2.0.*,!=2.1.*,!=2.10.*,!=2.2.*,!=2.3.*,!=2.4.*,!=2.5.*,!=2.6.*,!=2.7.*,!=2.8.*,!=2.9.*,<3.0.0dev,>=1.34.1->google-ai-generativelanguage==0.6.10->google-generativeai)\n",
      "  Downloading grpcio_status-1.68.0-py3-none-any.whl.metadata (1.1 kB)\n",
      "Requirement already satisfied: pyparsing!=3.0.0,!=3.0.1,!=3.0.2,!=3.0.3,<4,>=2.4.2 in c:\\users\\rmarket\\anaconda3\\envs\\tensor_env\\lib\\site-packages (from httplib2<1.dev0,>=0.19.0->google-api-python-client->google-generativeai) (3.2.0)\n",
      "Requirement already satisfied: pyasn1<0.7.0,>=0.4.6 in c:\\users\\rmarket\\anaconda3\\envs\\tensor_env\\lib\\site-packages (from pyasn1-modules>=0.2.1->google-auth>=2.15.0->google-generativeai) (0.6.1)\n",
      "Requirement already satisfied: charset-normalizer<4,>=2 in c:\\users\\rmarket\\anaconda3\\envs\\tensor_env\\lib\\site-packages (from requests<3.0.0.dev0,>=2.18.0->google-api-core->google-generativeai) (3.4.0)\n",
      "Requirement already satisfied: idna<4,>=2.5 in c:\\users\\rmarket\\anaconda3\\envs\\tensor_env\\lib\\site-packages (from requests<3.0.0.dev0,>=2.18.0->google-api-core->google-generativeai) (3.10)\n",
      "Requirement already satisfied: urllib3<3,>=1.21.1 in c:\\users\\rmarket\\anaconda3\\envs\\tensor_env\\lib\\site-packages (from requests<3.0.0.dev0,>=2.18.0->google-api-core->google-generativeai) (2.2.3)\n",
      "Requirement already satisfied: certifi>=2017.4.17 in c:\\users\\rmarket\\anaconda3\\envs\\tensor_env\\lib\\site-packages (from requests<3.0.0.dev0,>=2.18.0->google-api-core->google-generativeai) (2024.8.30)\n",
      "Collecting grpcio<2.0dev,>=1.33.2 (from google-api-core[grpc]!=2.0.*,!=2.1.*,!=2.10.*,!=2.2.*,!=2.3.*,!=2.4.*,!=2.5.*,!=2.6.*,!=2.7.*,!=2.8.*,!=2.9.*,<3.0.0dev,>=1.34.1->google-ai-generativelanguage==0.6.10->google-generativeai)\n",
      "  Downloading grpcio-1.68.0-cp39-cp39-win_amd64.whl.metadata (4.0 kB)\n",
      "Downloading google_generativeai-0.8.3-py3-none-any.whl (160 kB)\n",
      "Downloading google_ai_generativelanguage-0.6.10-py3-none-any.whl (760 kB)\n",
      "   ---------------------------------------- 0.0/760.0 kB ? eta -:--:--\n",
      "   --------------------------------------- 760.0/760.0 kB 33.2 MB/s eta 0:00:00\n",
      "Downloading google_api_core-2.23.0-py3-none-any.whl (156 kB)\n",
      "Downloading protobuf-5.28.3-cp39-cp39-win_amd64.whl (431 kB)\n",
      "Downloading google_api_python_client-2.154.0-py2.py3-none-any.whl (12.6 MB)\n",
      "   ---------------------------------------- 0.0/12.6 MB ? eta -:--:--\n",
      "   ---------------------------------------- 12.6/12.6 MB 98.5 MB/s eta 0:00:00\n",
      "Downloading google_auth_httplib2-0.2.0-py2.py3-none-any.whl (9.3 kB)\n",
      "Downloading googleapis_common_protos-1.66.0-py2.py3-none-any.whl (221 kB)\n",
      "Downloading httplib2-0.22.0-py3-none-any.whl (96 kB)\n",
      "Downloading proto_plus-1.25.0-py3-none-any.whl (50 kB)\n",
      "Downloading uritemplate-4.1.1-py2.py3-none-any.whl (10 kB)\n",
      "Downloading grpcio_status-1.68.0-py3-none-any.whl (14 kB)\n",
      "Downloading grpcio-1.68.0-cp39-cp39-win_amd64.whl (4.4 MB)\n",
      "   ---------------------------------------- 0.0/4.4 MB ? eta -:--:--\n",
      "   ---------------------------------------- 4.4/4.4 MB 29.3 MB/s eta 0:00:00\n",
      "Installing collected packages: uritemplate, protobuf, httplib2, grpcio, proto-plus, googleapis-common-protos, grpcio-status, google-auth-httplib2, google-api-core, google-api-python-client, google-ai-generativelanguage, google-generativeai\n",
      "  Attempting uninstall: protobuf\n",
      "    Found existing installation: protobuf 3.19.6\n",
      "    Uninstalling protobuf-3.19.6:\n",
      "      Successfully uninstalled protobuf-3.19.6\n",
      "  Attempting uninstall: grpcio\n",
      "    Found existing installation: grpcio 1.67.1\n",
      "    Uninstalling grpcio-1.67.1:\n",
      "      Successfully uninstalled grpcio-1.67.1\n",
      "Successfully installed google-ai-generativelanguage-0.6.10 google-api-core-2.23.0 google-api-python-client-2.154.0 google-auth-httplib2-0.2.0 google-generativeai-0.8.3 googleapis-common-protos-1.66.0 grpcio-1.68.0 grpcio-status-1.68.0 httplib2-0.22.0 proto-plus-1.25.0 protobuf-5.28.3 uritemplate-4.1.1\n",
      "Note: you may need to restart the kernel to use updated packages.\n"
     ]
    },
    {
     "name": "stderr",
     "output_type": "stream",
     "text": [
      "ERROR: pip's dependency resolver does not currently take into account all the packages that are installed. This behaviour is the source of the following dependency conflicts.\n",
      "tensorboard 2.9.1 requires protobuf<3.20,>=3.9.2, but you have protobuf 5.28.3 which is incompatible.\n"
     ]
    }
   ],
   "source": [
    "# pip install google-generativeai"
   ]
  },
  {
   "cell_type": "code",
   "execution_count": 1,
   "metadata": {},
   "outputs": [
    {
     "name": "stderr",
     "output_type": "stream",
     "text": [
      "c:\\Users\\RMARKET\\anaconda3\\envs\\tensor_env\\lib\\site-packages\\tqdm\\auto.py:21: TqdmWarning: IProgress not found. Please update jupyter and ipywidgets. See https://ipywidgets.readthedocs.io/en/stable/user_install.html\n",
      "  from .autonotebook import tqdm as notebook_tqdm\n"
     ]
    }
   ],
   "source": [
    "import google.generativeai as genai\n",
    "import os\n",
    "from dotenv import load_dotenv\n",
    "\n",
    "# .env 파일 로드\n",
    "load_dotenv()\n",
    "\n",
    "# 환경 변수에서 GPT API 키 가져오기\n",
    "google_key = os.getenv(\"GOOGLE_API_KEY\")"
   ]
  },
  {
   "cell_type": "code",
   "execution_count": 2,
   "metadata": {},
   "outputs": [],
   "source": [
    "genai.configure(api_key=google_key)\n",
    "model = genai.GenerativeModel('gemini-1.5-flash') "
   ]
  },
  {
   "cell_type": "code",
   "execution_count": 18,
   "metadata": {},
   "outputs": [
    {
     "name": "stdout",
     "output_type": "stream",
     "text": [
      "인공지능은 인간의 지능적인 행동을 모방하도록 설계된 컴퓨터 시스템입니다.\n",
      "\n"
     ]
    }
   ],
   "source": [
    "respnose = model.generate_content('인공지능에 대해 한 문장으로 설명해주세요')\n",
    "print(respnose.text)"
   ]
  },
  {
   "cell_type": "code",
   "execution_count": 19,
   "metadata": {},
   "outputs": [],
   "source": [
    "chat_session = model.start_chat(history=[])\n",
    "user_queries = ['인공지능에 대해 한 문장으로 짧게 설명해주세요', '의식이 있는지 한 문장으로 답해주세요']"
   ]
  },
  {
   "cell_type": "code",
   "execution_count": 20,
   "metadata": {},
   "outputs": [
    {
     "name": "stdout",
     "output_type": "stream",
     "text": [
      "[사용자] : 인공지능에 대해 한 문장으로 짧게 설명해주세요\n",
      "[모델] : 인공지능은 인간의 지능적인 행동을 모방하는 컴퓨터 시스템입니다.\n",
      "\n",
      "[사용자] : 의식이 있는지 한 문장으로 답해주세요\n",
      "[모델] : 현재의 인공지능은 의식이 없습니다.\n",
      "\n"
     ]
    }
   ],
   "source": [
    "for user_query in user_queries:\n",
    "    print(f'[사용자] : {user_query}')\n",
    "    response = chat_session.send_message(user_query)\n",
    "    print(f'[모델] : {response.text}')"
   ]
  },
  {
   "cell_type": "code",
   "execution_count": 25,
   "metadata": {},
   "outputs": [],
   "source": [
    "user_queries = [\n",
    "    {'role' : 'user', 'parts' : ['인공지능에 대해 한 문장으로 짧게 설명해주세요']},\n",
    "    {'role' : 'user', 'parts' : ['의식이 있는지 한 문자으로 답해주세요']}\n",
    "]\n",
    "history = []"
   ]
  },
  {
   "cell_type": "code",
   "execution_count": 26,
   "metadata": {},
   "outputs": [
    {
     "name": "stdout",
     "output_type": "stream",
     "text": [
      "[사용자] : 인공지능에 대해 한 문장으로 짧게 설명해주세요\n",
      "[모델] : 인공지능은 인간의 지능적인 행동을 모방하는 컴퓨터 시스템입니다.\n",
      "\n",
      "[사용자] : 의식이 있는지 한 문자으로 답해주세요\n",
      "[모델] : 아니요\n",
      "\n"
     ]
    }
   ],
   "source": [
    "for user_query in user_queries:\n",
    "    history.append(user_query)\n",
    "    print(f'[사용자] : {user_query[\"parts\"][0]}')\n",
    "    response = model.generate_content(history)\n",
    "    print(f'[모델] : {response.text}')\n",
    "    history.append(response.candidates[0].content)"
   ]
  },
  {
   "cell_type": "code",
   "execution_count": 27,
   "metadata": {},
   "outputs": [],
   "source": [
    "system_instruction = '너는 유치원 선생님이야. 나는 유치원생이고, 쉽고 친절하게 이야기하되 3문장 이내로 짧게 대답해줘'\n",
    "# 모델을 다시 불러와 줘야 한다\n",
    "model = genai.GenerativeModel('gemini-1.5-flash', system_instruction=system_instruction)\n",
    "chat_session = model.start_chat(history=[])\n",
    "user_queries = ['인공지능이 뭐에요?', '스스로 생각도 해요?']"
   ]
  },
  {
   "cell_type": "code",
   "execution_count": 28,
   "metadata": {},
   "outputs": [
    {
     "name": "stdout",
     "output_type": "stream",
     "text": [
      "[사용자] : 인공지능이 뭐에요?\n",
      "[모델] \" 인공지능은 똑똑한 컴퓨터 프로그램이야!  마치 우리처럼 생각하고 배우는 것처럼 척척 문제를 해결해.  너도 곧 인공지능 친구를 사귈 수 있을 거야!\n",
      "\n",
      "[사용자] : 스스로 생각도 해요?\n",
      "[모델] \" 응,  하지만 우리처럼 느끼거나 감정은 없어.  주어진 정보를 가지고 최선을 다해 생각하는 거지!\n",
      "\n"
     ]
    }
   ],
   "source": [
    "for user_query in user_queries:\n",
    "    print(f'[사용자] : {user_query}')\n",
    "    response = chat_session.send_message(user_query)\n",
    "    print((f'[모델] \" {response.text}'))"
   ]
  },
  {
   "cell_type": "markdown",
   "metadata": {},
   "source": [
    "### 언어모델 제어하기(매개변수)"
   ]
  },
  {
   "cell_type": "markdown",
   "metadata": {},
   "source": [
    "|매개변수명|\t의미\t|초깃값|\t범위|\n",
    "|---|---|---|---|\n",
    "|candidate_count|\t생성할 응답 후보 건수. 현재는 1만 가능|\t1|\t1|\n",
    "|stop_sequences|\t언어 생성을 중지시킬 문자 시퀀스\t|없음\t|0 ~ 5|\n",
    "|max_output_tokens\t|출력할 최대 토큰 수\t|8192\t|1 ~ 8192|\n",
    "|temperature|\t출력의 무작위성을 제어|\t1.0|\t0.0 ~ 2.0|\n",
    "|top_p\t|확률 내림차순으로 정렬 후 누적 확률 기준으로 선택할 단어(토큰)의 범위를 설정\t|0.95|\t0.0 ~ 1.0|\n",
    "|top_k\t|확률 내림차순으로 정렬 후 건수 기준으로 선택할 단어(토큰)의 범위를 설정|\t64\t|0보다 큰 정수|"
   ]
  },
  {
   "cell_type": "code",
   "execution_count": 30,
   "metadata": {},
   "outputs": [
    {
     "name": "stdout",
     "output_type": "stream",
     "text": [
      "인공지능(Artificial Intelligence, AI)은 컴퓨터 과학의 한 분야로, **컴퓨터 시스템이 인간과 유사한 지능적인 행동을 할 수 있도록 하는 기술**을 연구합니다\n"
     ]
    }
   ],
   "source": [
    "# stop_sequences\n",
    "generation_config = genai.GenerationConfig(stop_sequences=[\". \", \"! \"])\n",
    "model = genai.GenerativeModel('gemini-1.5-flash', generation_config=generation_config)\n",
    "response = model.generate_content('인공지능에 대해 설명하세요')\n",
    "print(response.text)"
   ]
  },
  {
   "cell_type": "code",
   "execution_count": 32,
   "metadata": {},
   "outputs": [
    {
     "name": "stdout",
     "output_type": "stream",
     "text": [
      "인공지능(Artificial Intelligence, AI)은 컴퓨터 과학의 한 분\n"
     ]
    }
   ],
   "source": [
    "# max_output_tokens\n",
    "generation_config = genai.GenerationConfig(max_output_tokens = 20)\n",
    "model = genai.GenerativeModel('gemini-1.5-flash', generation_config=generation_config)\n",
    "user_mseeage = '인공지능에 대해 설명하세요'\n",
    "response = model.generate_content(user_mseeage)\n",
    "print(response.text)"
   ]
  },
  {
   "cell_type": "code",
   "execution_count": 33,
   "metadata": {},
   "outputs": [
    {
     "name": "stdout",
     "output_type": "stream",
     "text": [
      "total_tokens: 20\n",
      "\n"
     ]
    }
   ],
   "source": [
    "tokens = model.count_tokens('인공지능(Artificial Intelligence, AI)은 컴퓨터 과학의 한 분')\n",
    "print(tokens) # 결제는 토큰수로 되기 때문에 최소 토큰의 입력으로 최소 토큰의 출력을 얻으면 좋음"
   ]
  },
  {
   "cell_type": "code",
   "execution_count": null,
   "metadata": {},
   "outputs": [],
   "source": []
  }
 ],
 "metadata": {
  "kernelspec": {
   "display_name": "tensor_env",
   "language": "python",
   "name": "python3"
  },
  "language_info": {
   "codemirror_mode": {
    "name": "ipython",
    "version": 3
   },
   "file_extension": ".py",
   "mimetype": "text/x-python",
   "name": "python",
   "nbconvert_exporter": "python",
   "pygments_lexer": "ipython3",
   "version": "3.9.20"
  }
 },
 "nbformat": 4,
 "nbformat_minor": 2
}
