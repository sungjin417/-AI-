{
 "cells": [
  {
   "cell_type": "markdown",
   "metadata": {},
   "source": [
    "## AI 학습 도우미 챗봇 비교 및 성능 평가"
   ]
  },
  {
   "cell_type": "markdown",
   "metadata": {},
   "source": [
    "## 주제 및 선정 이유\n",
    "- AI 기반 학습 도우미 챗봇이 학생들에게 학습 자료를 추천하거나 과제 도움을 제공할 수 있는지를 평가\n",
    "- Chat-GPT 4o, Chat-GPT 4o mini, Gemini, Llama3 을 비교하여 가장 적합한 모델 선정\n",
    "\n",
    "- 학생들이 학습 과정에서 어려움을 실시간으로 해결할 수 있는 도우미의 필요성\n",
    "- 교사와 부모의 역할을 보조하며, 학습 효율성과 접근성을 높이기 위해 AI 도입 가능성 탐색"
   ]
  },
  {
   "cell_type": "markdown",
   "metadata": {},
   "source": [
    "## 사용대상\n",
    "- 초.중.고등학생 : 과제해결, 수업 내용 복습\n",
    "- 대학생 : 학술 자료 검색, 과목별 질문 응답\n",
    "- 교사 : 학습 자료 준비 및 학생 지원"
   ]
  },
  {
   "cell_type": "code",
   "execution_count": null,
   "metadata": {},
   "outputs": [
    {
     "name": "stdout",
     "output_type": "stream",
     "text": [
      "Requirement already satisfied: openai in c:\\users\\rmarket\\anaconda3\\envs\\tensor_env\\lib\\site-packages (1.55.1)\n",
      "Requirement already satisfied: anyio<5,>=3.5.0 in c:\\users\\rmarket\\anaconda3\\envs\\tensor_env\\lib\\site-packages (from openai) (4.6.2.post1)\n",
      "Requirement already satisfied: distro<2,>=1.7.0 in c:\\users\\rmarket\\anaconda3\\envs\\tensor_env\\lib\\site-packages (from openai) (1.9.0)\n",
      "Requirement already satisfied: httpx<1,>=0.23.0 in c:\\users\\rmarket\\anaconda3\\envs\\tensor_env\\lib\\site-packages (from openai) (0.27.2)\n",
      "Requirement already satisfied: jiter<1,>=0.4.0 in c:\\users\\rmarket\\anaconda3\\envs\\tensor_env\\lib\\site-packages (from openai) (0.7.1)\n",
      "Requirement already satisfied: pydantic<3,>=1.9.0 in c:\\users\\rmarket\\anaconda3\\envs\\tensor_env\\lib\\site-packages (from openai) (2.10.1)\n",
      "Requirement already satisfied: sniffio in c:\\users\\rmarket\\anaconda3\\envs\\tensor_env\\lib\\site-packages (from openai) (1.3.1)\n",
      "Requirement already satisfied: tqdm>4 in c:\\users\\rmarket\\anaconda3\\envs\\tensor_env\\lib\\site-packages (from openai) (4.67.0)\n",
      "Requirement already satisfied: typing-extensions<5,>=4.11 in c:\\users\\rmarket\\anaconda3\\envs\\tensor_env\\lib\\site-packages (from openai) (4.12.2)\n",
      "Requirement already satisfied: idna>=2.8 in c:\\users\\rmarket\\anaconda3\\envs\\tensor_env\\lib\\site-packages (from anyio<5,>=3.5.0->openai) (3.10)\n",
      "Requirement already satisfied: exceptiongroup>=1.0.2 in c:\\users\\rmarket\\anaconda3\\envs\\tensor_env\\lib\\site-packages (from anyio<5,>=3.5.0->openai) (1.2.2)\n",
      "Requirement already satisfied: certifi in c:\\users\\rmarket\\anaconda3\\envs\\tensor_env\\lib\\site-packages (from httpx<1,>=0.23.0->openai) (2024.8.30)\n",
      "Requirement already satisfied: httpcore==1.* in c:\\users\\rmarket\\anaconda3\\envs\\tensor_env\\lib\\site-packages (from httpx<1,>=0.23.0->openai) (1.0.7)\n",
      "Requirement already satisfied: h11<0.15,>=0.13 in c:\\users\\rmarket\\anaconda3\\envs\\tensor_env\\lib\\site-packages (from httpcore==1.*->httpx<1,>=0.23.0->openai) (0.14.0)\n",
      "Requirement already satisfied: annotated-types>=0.6.0 in c:\\users\\rmarket\\anaconda3\\envs\\tensor_env\\lib\\site-packages (from pydantic<3,>=1.9.0->openai) (0.7.0)\n",
      "Requirement already satisfied: pydantic-core==2.27.1 in c:\\users\\rmarket\\anaconda3\\envs\\tensor_env\\lib\\site-packages (from pydantic<3,>=1.9.0->openai) (2.27.1)\n",
      "Requirement already satisfied: colorama in c:\\users\\rmarket\\anaconda3\\envs\\tensor_env\\lib\\site-packages (from tqdm>4->openai) (0.4.6)\n",
      "Note: you may need to restart the kernel to use updated packages.\n"
     ]
    }
   ],
   "source": [
    "# pip install openai"
   ]
  },
  {
   "cell_type": "code",
   "execution_count": 2,
   "metadata": {},
   "outputs": [
    {
     "name": "stdout",
     "output_type": "stream",
     "text": [
      "Requirement already satisfied: python-dotenv in c:\\users\\rmarket\\anaconda3\\envs\\tensor_env\\lib\\site-packages (1.0.1)Note: you may need to restart the kernel to use updated packages.\n",
      "\n"
     ]
    }
   ],
   "source": [
    "# pip install python-dotenv"
   ]
  },
  {
   "cell_type": "code",
   "execution_count": 12,
   "metadata": {},
   "outputs": [
    {
     "name": "stdout",
     "output_type": "stream",
     "text": [
      "Requirement already satisfied: google-generativeai in c:\\users\\rmarket\\anaconda3\\envs\\tensor_env\\lib\\site-packages (0.8.3)Note: you may need to restart the kernel to use updated packages.\n",
      "\n",
      "Requirement already satisfied: google-ai-generativelanguage==0.6.10 in c:\\users\\rmarket\\anaconda3\\envs\\tensor_env\\lib\\site-packages (from google-generativeai) (0.6.10)\n",
      "Requirement already satisfied: google-api-core in c:\\users\\rmarket\\anaconda3\\envs\\tensor_env\\lib\\site-packages (from google-generativeai) (2.23.0)\n",
      "Requirement already satisfied: google-api-python-client in c:\\users\\rmarket\\anaconda3\\envs\\tensor_env\\lib\\site-packages (from google-generativeai) (2.154.0)\n",
      "Requirement already satisfied: google-auth>=2.15.0 in c:\\users\\rmarket\\anaconda3\\envs\\tensor_env\\lib\\site-packages (from google-generativeai) (2.36.0)\n",
      "Requirement already satisfied: protobuf in c:\\users\\rmarket\\anaconda3\\envs\\tensor_env\\lib\\site-packages (from google-generativeai) (5.28.3)\n",
      "Requirement already satisfied: pydantic in c:\\users\\rmarket\\anaconda3\\envs\\tensor_env\\lib\\site-packages (from google-generativeai) (2.10.1)\n",
      "Requirement already satisfied: tqdm in c:\\users\\rmarket\\anaconda3\\envs\\tensor_env\\lib\\site-packages (from google-generativeai) (4.67.0)\n",
      "Requirement already satisfied: typing-extensions in c:\\users\\rmarket\\anaconda3\\envs\\tensor_env\\lib\\site-packages (from google-generativeai) (4.12.2)\n",
      "Requirement already satisfied: proto-plus<2.0.0dev,>=1.22.3 in c:\\users\\rmarket\\anaconda3\\envs\\tensor_env\\lib\\site-packages (from google-ai-generativelanguage==0.6.10->google-generativeai) (1.25.0)\n",
      "Requirement already satisfied: googleapis-common-protos<2.0.dev0,>=1.56.2 in c:\\users\\rmarket\\anaconda3\\envs\\tensor_env\\lib\\site-packages (from google-api-core->google-generativeai) (1.66.0)\n",
      "Requirement already satisfied: requests<3.0.0.dev0,>=2.18.0 in c:\\users\\rmarket\\anaconda3\\envs\\tensor_env\\lib\\site-packages (from google-api-core->google-generativeai) (2.32.3)\n",
      "Requirement already satisfied: cachetools<6.0,>=2.0.0 in c:\\users\\rmarket\\anaconda3\\envs\\tensor_env\\lib\\site-packages (from google-auth>=2.15.0->google-generativeai) (5.5.0)\n",
      "Requirement already satisfied: pyasn1-modules>=0.2.1 in c:\\users\\rmarket\\anaconda3\\envs\\tensor_env\\lib\\site-packages (from google-auth>=2.15.0->google-generativeai) (0.4.1)\n",
      "Requirement already satisfied: rsa<5,>=3.1.4 in c:\\users\\rmarket\\anaconda3\\envs\\tensor_env\\lib\\site-packages (from google-auth>=2.15.0->google-generativeai) (4.9)\n",
      "Requirement already satisfied: httplib2<1.dev0,>=0.19.0 in c:\\users\\rmarket\\anaconda3\\envs\\tensor_env\\lib\\site-packages (from google-api-python-client->google-generativeai) (0.22.0)\n",
      "Requirement already satisfied: google-auth-httplib2<1.0.0,>=0.2.0 in c:\\users\\rmarket\\anaconda3\\envs\\tensor_env\\lib\\site-packages (from google-api-python-client->google-generativeai) (0.2.0)\n",
      "Requirement already satisfied: uritemplate<5,>=3.0.1 in c:\\users\\rmarket\\anaconda3\\envs\\tensor_env\\lib\\site-packages (from google-api-python-client->google-generativeai) (4.1.1)\n",
      "Requirement already satisfied: annotated-types>=0.6.0 in c:\\users\\rmarket\\anaconda3\\envs\\tensor_env\\lib\\site-packages (from pydantic->google-generativeai) (0.7.0)\n",
      "Requirement already satisfied: pydantic-core==2.27.1 in c:\\users\\rmarket\\anaconda3\\envs\\tensor_env\\lib\\site-packages (from pydantic->google-generativeai) (2.27.1)\n",
      "Requirement already satisfied: colorama in c:\\users\\rmarket\\anaconda3\\envs\\tensor_env\\lib\\site-packages (from tqdm->google-generativeai) (0.4.6)\n",
      "Requirement already satisfied: grpcio<2.0dev,>=1.33.2 in c:\\users\\rmarket\\anaconda3\\envs\\tensor_env\\lib\\site-packages (from google-api-core[grpc]!=2.0.*,!=2.1.*,!=2.10.*,!=2.2.*,!=2.3.*,!=2.4.*,!=2.5.*,!=2.6.*,!=2.7.*,!=2.8.*,!=2.9.*,<3.0.0dev,>=1.34.1->google-ai-generativelanguage==0.6.10->google-generativeai) (1.68.0)\n",
      "Requirement already satisfied: grpcio-status<2.0.dev0,>=1.33.2 in c:\\users\\rmarket\\anaconda3\\envs\\tensor_env\\lib\\site-packages (from google-api-core[grpc]!=2.0.*,!=2.1.*,!=2.10.*,!=2.2.*,!=2.3.*,!=2.4.*,!=2.5.*,!=2.6.*,!=2.7.*,!=2.8.*,!=2.9.*,<3.0.0dev,>=1.34.1->google-ai-generativelanguage==0.6.10->google-generativeai) (1.68.0)\n",
      "Requirement already satisfied: pyparsing!=3.0.0,!=3.0.1,!=3.0.2,!=3.0.3,<4,>=2.4.2 in c:\\users\\rmarket\\anaconda3\\envs\\tensor_env\\lib\\site-packages (from httplib2<1.dev0,>=0.19.0->google-api-python-client->google-generativeai) (3.2.0)\n",
      "Requirement already satisfied: pyasn1<0.7.0,>=0.4.6 in c:\\users\\rmarket\\anaconda3\\envs\\tensor_env\\lib\\site-packages (from pyasn1-modules>=0.2.1->google-auth>=2.15.0->google-generativeai) (0.6.1)\n",
      "Requirement already satisfied: charset-normalizer<4,>=2 in c:\\users\\rmarket\\anaconda3\\envs\\tensor_env\\lib\\site-packages (from requests<3.0.0.dev0,>=2.18.0->google-api-core->google-generativeai) (3.4.0)\n",
      "Requirement already satisfied: idna<4,>=2.5 in c:\\users\\rmarket\\anaconda3\\envs\\tensor_env\\lib\\site-packages (from requests<3.0.0.dev0,>=2.18.0->google-api-core->google-generativeai) (3.10)\n",
      "Requirement already satisfied: urllib3<3,>=1.21.1 in c:\\users\\rmarket\\anaconda3\\envs\\tensor_env\\lib\\site-packages (from requests<3.0.0.dev0,>=2.18.0->google-api-core->google-generativeai) (2.2.3)\n",
      "Requirement already satisfied: certifi>=2017.4.17 in c:\\users\\rmarket\\anaconda3\\envs\\tensor_env\\lib\\site-packages (from requests<3.0.0.dev0,>=2.18.0->google-api-core->google-generativeai) (2024.8.30)\n"
     ]
    }
   ],
   "source": [
    "# pip install google-generativeai"
   ]
  },
  {
   "cell_type": "code",
   "execution_count": null,
   "metadata": {},
   "outputs": [],
   "source": [
    "import os\n",
    "from dotenv import load_dotenv\n",
    "from openai import OpenAI\n",
    "import google.generativeai as genai\n",
    "\n",
    "# .env 파일 로드\n",
    "load_dotenv()\n",
    "\n",
    "# 환경 변수에서 Google API 키 가져오기\n",
    "google_key = os.getenv(\"GOOGLE_API_KEY\")"
   ]
  },
  {
   "cell_type": "code",
   "execution_count": 4,
   "metadata": {},
   "outputs": [
    {
     "name": "stdout",
     "output_type": "stream",
     "text": [
      "API Key loaded successfully!\n"
     ]
    }
   ],
   "source": [
    "# 환경 변수에서 GPT API 키 가져오기\n",
    "api_key = os.getenv(\"GPT_API_KEY\")\n",
    "\n",
    "if api_key:\n",
    "    print(\"API Key loaded successfully!\")\n",
    "else:\n",
    "    print(\"API Key not found!\")"
   ]
  },
  {
   "cell_type": "code",
   "execution_count": 5,
   "metadata": {},
   "outputs": [],
   "source": [
    "os.environ[\"OPENAI_API_KEY\"] = api_key\n",
    "client = OpenAI()"
   ]
  },
  {
   "cell_type": "code",
   "execution_count": 16,
   "metadata": {},
   "outputs": [],
   "source": [
    "genai.configure(api_key=google_key)\n",
    "model = genai.GenerativeModel('gemini-1.5-flash') "
   ]
  },
  {
   "cell_type": "code",
   "execution_count": null,
   "metadata": {},
   "outputs": [],
   "source": [
    "# Chat-GPt 4o\n",
    "\n",
    "# 기본 form\n",
    "prompt = ''\n",
    "response = client.chat.completions.create(\n",
    "    model = 'gpt-4o',\n",
    "    messages = [\n",
    "        {'role' : 'user', 'content' : prompt}\n",
    "    ],\n",
    "   \n",
    ")\n",
    "print(response.choices[0].message.content)"
   ]
  },
  {
   "cell_type": "code",
   "execution_count": 17,
   "metadata": {},
   "outputs": [
    {
     "name": "stdout",
     "output_type": "stream",
     "text": [
      "감정을 이해하고 분석하기 위해서는 몇 가지 주요 요소가 필요합니다:\n",
      "\n",
      "1. **자기 인식**: 자신의 감정을 인지하고 이해하는 것이 중요합니다. 이를 위해 일기 쓰기, 감정 기록, 자기 성찰 등의 방법을 사용할 수 있습니다.\n",
      "\n",
      "2. **감정의 이름 붙이기**: 감정을 명확하게 표현할 수 있어야 합니다. 기쁨, 슬픔, 분노, 두려움 등 다양한 감정의 명칭을 알고 있어야 하며, 자신의 감정을 구체적으로 정의할 수 있어야 합니다.\n",
      "\n",
      "3. **신체 반응**: 감정은 종종 신체적 반응으로 나타납니다. 심장 박동, 호흡, 근육 긴장 등을 주의 깊게 관찰하여 감정의 변화를 감지할 수 있습니다.\n",
      "\n",
      "4. **맥락 이해**: 감정은 매우 상황적입니다. 특정 사건이나 경험이 자신의 감정에 어떤 영향을 미쳤는지 이해하는 것이 중요합니다.\n",
      "\n",
      "5. **타인의 감정 이해**: 타인의 감정을 이해하고 공감하는 능력도 중요합니다. 비언어적 신호(표정, 몸짓 등)를 잘 관찰하고 이해하는 것이 도움이 됩니다.\n",
      "\n",
      "6. **그룹과 문화적 요인**: 사람들은 각기 다른 문화와 사회적 맥락에서 감정을 표현합니다. 이러한 차이를 고려하여 다양한 배경의 사람들의 감정을 이해해야 합니다.\n",
      "\n",
      "7. **심리적 이론과 모델**: 다양한 심리학적 이론과 감정 모델을 공부하는 것도 유익합니다. 예를 들어, 플루칙의 이론, 자아심리학, 감정 조절 이론 등처럼 감정을 분석할 수 있는 틀을 제공합니다.\n",
      "\n",
      "이러한 요소들을 종합적으로 고려하면 감정을 더 깊이 이해하고 분석하는 데 도움이 될 것입니다.\n"
     ]
    }
   ],
   "source": [
    "# Chat-GPT 4o mini\n",
    "\n",
    "response = client.chat.completions.create(\n",
    "    model = 'gpt-4o-mini',\n",
    "    messages = [\n",
    "        {'role' : 'system', 'content' : '너는 심리분석가야. 감정에 대해 알려면 뭐가 필요할까?'},\n",
    "        # {'role' : 'user', 'content' : '일 더하기 일은 ?'},\n",
    "        # {'role' : 'user', 'content' : \"영어 : It's a sunny day\"}\n",
    "    ],\n",
    "   \n",
    ")\n",
    "print(response.choices[0].message.content)"
   ]
  },
  {
   "cell_type": "code",
   "execution_count": 9,
   "metadata": {},
   "outputs": [
    {
     "name": "stdout",
     "output_type": "stream",
     "text": [
      "감정을 이해하기 위해서는 여러 가지 요소를 고려해야 합니다. 다음은 감정 분석에 있어 중요한 몇 가지 요소입니다:\n",
      "\n",
      "1. **상황 맥락**: 감정은 종종 특정 상황이나 경험에 뿌리를 두고 있습니다. 그 맥락을 이해하는 것이 감정을 깊이 이해하는 데 중요합니다.\n",
      "\n",
      "2. **신체 감각**: 감정은 신체적 변화를 동반합니다. 예를 들어, 불안은 두근거림이나 땀을 유발할 수 있습니다.\n",
      "\n",
      "3. **인지적 평가**: 사람들이 상황을 어떻게 해석하는지도 감정을 형성하는 데 영향을 미칩니다.\n",
      "\n",
      "4. **개인적 역사**: 개인의 과거 경험과 기억은 현재의 감정 반응에 큰 영향을 미칠 수 있습니다.\n",
      "\n",
      "5. **문화적 배경**: 문화는 감정을 인식하고 표현하는 방식에 큰 영향을 미칩니다. 어떤 문화에서는 특정 감정 표현이 억제되거나 장려될 수 있습니다.\n",
      "\n",
      "6. **대인관계**: 감정은 타인과의 상호작용 속에서 자주 발생하므로, 그 관계의 질과 특성을 이해하는 것이 중요합니다.\n",
      "\n",
      "7. **언어적 표현**: 사람들이 감정을 설명하는 방식과 사용 언어는 그들의 감정을 이해하는 데 중요한 단서가 될 수 있습니다.\n",
      "\n",
      "이러한 요소들을 종합적으로 고려하면 감정을 더 잘 이해하고 분석할 수 있습니다.\n"
     ]
    }
   ],
   "source": [
    "response = client.chat.completions.create(\n",
    "    model = 'gpt-4o',\n",
    "    messages = [\n",
    "        {'role' : 'system', 'content' : '너는 심리분석가야. 감정에 대해 알려면 뭐가 필요할까?'},\n",
    "        # {'role' : 'user', 'content' : '일 더하기 일은 ?'},\n",
    "        # {'role' : 'user', 'content' : \"영어 : It's a sunny day\"}\n",
    "    ],\n",
    "   \n",
    ")\n",
    "print(response.choices[0].message.content)"
   ]
  },
  {
   "cell_type": "code",
   "execution_count": 20,
   "metadata": {},
   "outputs": [],
   "source": [
    "# Gemini\n",
    "chat_session = model.start_chat(history=[])\n",
    "user_queries = ['너는 심리분석가야, 문장의 감정을 분석해줘', '공부하기 시러']"
   ]
  },
  {
   "cell_type": "code",
   "execution_count": 19,
   "metadata": {},
   "outputs": [
    {
     "name": "stdout",
     "output_type": "stream",
     "text": [
      "[사용자] : 너는 심리분석가야, 문장의 감정을 분석해줘\n",
      "[모델] : 네, 심리 분석가처럼 문장의 감정을 분석해 드리겠습니다. 문장을 적어주세요.  문장의 맥락과 상황에 대한 정보를 더 많이 제공해 주시면 분석이 더 정확해집니다.  예를 들어, 누가 누구에게 이 문장을 말했는지, 어떤 상황에서 말했는지 등의 정보가 도움이 됩니다.\n",
      "\n",
      "[사용자] : 공부하기 시러\n",
      "[모델] : 이 문장은 명백한 **싫증**과 **피로감**, 그리고 아마도 약간의 **저항**을 나타냅니다.  \"시러\"라는 어린아이 같은 표현은  공부에 대한 강한 **부정적 감정**을 보여주며,  순수한 싫음을 넘어  의무감에 대한 압박감으로 인한 **스트레스**를 암시할 수도 있습니다.  더 자세한 정보가 없으므로 확신할 수는 없지만,  **무기력함**이나 **좌절감**도 함께 느끼고 있을 가능성이 높습니다.\n",
      "\n"
     ]
    }
   ],
   "source": [
    "for user_query in user_queries:\n",
    "    print(f'[사용자] : {user_query}')\n",
    "    response = chat_session.send_message(user_query)\n",
    "    print(f'[모델] : {response.text}')"
   ]
  },
  {
   "cell_type": "code",
   "execution_count": null,
   "metadata": {},
   "outputs": [],
   "source": [
    "# Llama3\n",
    "# 라마는 코랩으로 돌리기"
   ]
  }
 ],
 "metadata": {
  "kernelspec": {
   "display_name": "tensor_env",
   "language": "python",
   "name": "python3"
  },
  "language_info": {
   "codemirror_mode": {
    "name": "ipython",
    "version": 3
   },
   "file_extension": ".py",
   "mimetype": "text/x-python",
   "name": "python",
   "nbconvert_exporter": "python",
   "pygments_lexer": "ipython3",
   "version": "3.9.20"
  }
 },
 "nbformat": 4,
 "nbformat_minor": 2
}
